{
 "cells": [
  {
   "cell_type": "markdown",
   "id": "90e91ad4-1678-49ef-98b5-138506d3f71b",
   "metadata": {},
   "source": [
    "# Circuit learning module: Pennylane"
   ]
  },
  {
   "cell_type": "code",
   "execution_count": 1,
   "id": "caf53928-c1ab-4797-af22-b9f6a6aa1326",
   "metadata": {},
   "outputs": [
    {
     "ename": "ModuleNotFoundError",
     "evalue": "No module named 'pennylane'",
     "output_type": "error",
     "traceback": [
      "\u001b[0;31m---------------------------------------------------------------------------\u001b[0m",
      "\u001b[0;31mModuleNotFoundError\u001b[0m                       Traceback (most recent call last)",
      "Input \u001b[0;32mIn [1]\u001b[0m, in \u001b[0;36m<cell line: 8>\u001b[0;34m()\u001b[0m\n\u001b[1;32m      6\u001b[0m \u001b[38;5;28;01mimport\u001b[39;00m \u001b[38;5;21;01mnumpy\u001b[39;00m \u001b[38;5;28;01mas\u001b[39;00m \u001b[38;5;21;01mnp\u001b[39;00m\n\u001b[1;32m      7\u001b[0m \u001b[38;5;28;01mimport\u001b[39;00m \u001b[38;5;21;01mpickle\u001b[39;00m\n\u001b[0;32m----> 8\u001b[0m \u001b[38;5;28;01mimport\u001b[39;00m \u001b[38;5;21;01mpennylane\u001b[39;00m \u001b[38;5;28;01mas\u001b[39;00m \u001b[38;5;21;01mqml\u001b[39;00m\n\u001b[1;32m      9\u001b[0m \u001b[38;5;28;01mfrom\u001b[39;00m \u001b[38;5;21;01msympy\u001b[39;00m \u001b[38;5;28;01mimport\u001b[39;00m default_sort_key\n\u001b[1;32m     10\u001b[0m \u001b[38;5;28;01mimport\u001b[39;00m \u001b[38;5;21;01mtorch\u001b[39;00m\n",
      "\u001b[0;31mModuleNotFoundError\u001b[0m: No module named 'pennylane'"
     ]
    }
   ],
   "source": [
    "import json\n",
    "import os\n",
    "import glob\n",
    "import warnings\n",
    "from pathlib import Path\n",
    "import numpy as np\n",
    "import pickle\n",
    "import pennylane as qml\n",
    "from sympy import default_sort_key\n",
    "import torch\n",
    "from discopy.quantum.pennylane import to_pennylane, PennyLaneCircuit\n",
    "from inspect import signature\n",
    "\n",
    "this_folder = os.path.abspath(os.getcwd())"
   ]
  },
  {
   "cell_type": "markdown",
   "id": "125bf2c8-31c0-475c-b1da-83da76fae4cb",
   "metadata": {},
   "source": [
    "## Read circuit data"
   ]
  },
  {
   "cell_type": "markdown",
   "id": "1e190199-b144-47da-b296-771a0118a66e",
   "metadata": {},
   "source": [
    "We read the circuits from the pickled files."
   ]
  },
  {
   "cell_type": "code",
   "execution_count": null,
   "id": "421b5bed-c0ae-4eea-8215-bef4d711d014",
   "metadata": {},
   "outputs": [],
   "source": [
    "training_circuits_paths = glob.glob(this_folder + \"//simplified-JOB-diagrams//circuits//binary_classification//training//[0-9]*.p\")\n",
    "test_circuits_paths = glob.glob(this_folder + \"//simplified-JOB-diagrams//circuits//binary_classification//test//[0-9]*.p\")\n",
    "\n",
    "def read_diagrams(circuit_paths):\n",
    "    circuits = {}\n",
    "    for serialized_diagram in circuit_paths:\n",
    "        base_name = Path(serialized_diagram).stem\n",
    "        f = open(serialized_diagram, \"rb\")\n",
    "        diagram = pickle.load(f)\n",
    "        circuits[base_name] = diagram\n",
    "    return circuits\n",
    "\n",
    "\n",
    "training_circuits = read_diagrams(training_circuits_paths)\n",
    "test_circuits = read_diagrams(test_circuits_paths)\n",
    "\n",
    "print(\"Number of training circuits: \", len(training_circuits))\n",
    "print(\"Number of test circuits: \", len(test_circuits))"
   ]
  },
  {
   "cell_type": "markdown",
   "id": "710f034f-9b35-4254-afe6-d91784a3f941",
   "metadata": {},
   "source": [
    "## Read training and test data"
   ]
  },
  {
   "cell_type": "code",
   "execution_count": null,
   "id": "c0b3e68e-73e6-460c-93a1-0e4a44af926d",
   "metadata": {},
   "outputs": [],
   "source": [
    "training_data, test_data = None, None\n",
    "with open(this_folder + \"//data//training_data.json\", \"r\") as inputfile:\n",
    "    training_data = json.load(inputfile)['training_data']\n",
    "with open(this_folder + \"//data//test_data.json\", \"r\") as inputfile:\n",
    "    test_data = json.load(inputfile)['test_data']\n",
    "    \n",
    "\n",
    "def time_to_states(data):\n",
    "    labeled_data = {}\n",
    "    for elem in data:\n",
    "        if elem[\"time\"] < 2001:\n",
    "            labeled_data[elem[\"name\"]] = [1,0] # corresponds to |0>\n",
    "        else:\n",
    "            labeled_data[elem[\"name\"]] = [0,1] # corresponds to |1>\n",
    "    return labeled_data\n",
    "\n",
    "\n",
    "training_data_labels = time_to_states(training_data)\n",
    "test_data_labels = time_to_states(test_data)"
   ]
  },
  {
   "cell_type": "markdown",
   "id": "0c43bc30-c36b-4e0b-99e4-f33a98fcb28a",
   "metadata": {},
   "source": [
    "## Construct circuits in Pennylane"
   ]
  },
  {
   "cell_type": "markdown",
   "id": "85e695dd-1d1f-4848-9ad6-c12b5788f23b",
   "metadata": {},
   "source": [
    "Next we translate DisCoPy circuits in Pennylane and rewrite the Pennylane circuits. By default the encoded measurement function in the Pennylane circuit function is `state()` or `probs()` which we change to `sampe()`. We use `sample()` because we need to do post-selection which is not implemented in Pennylane. Technically we also have the problem that Pennylane does not natively support training over circuits which have varying signature (parameters) and varying number of wires. Thus we rewrite the circuits so that at each step, all the circuits accept all the parameters as input but they will utilize only a subset of them. Because the parameters need to be inputed as a vector, for each circuit we calculate a signature tuple, which encodes the information of the needed parameters in the circuit.\n",
    "\n",
    "The code assumes that the DisCoPy circuit contains only such gates that accept a single parameter or no parameters.\n",
    "\n",
    "$$ \\texttt{parameter symbol in circuit} \\to \\texttt{index among all parameters in model} \\to \\texttt{value from input for circuit} $$"
   ]
  },
  {
   "cell_type": "code",
   "execution_count": null,
   "id": "d077e1d5-56f9-4f22-924a-760da8403fd4",
   "metadata": {},
   "outputs": [],
   "source": [
    "tot_qubits = 20\n",
    "dev = qml.device(\"default.qubit\", wires=tot_qubits, shots=4)\n",
    "\n",
    "qml_circuits_training = []\n",
    "qml_circuits_test = []\n",
    "symbols = set([elem for c in training_circuits for elem in training_circuits[c].free_symbols])\n",
    "symbols = list(sorted(symbols, key=default_sort_key))\n",
    "\n",
    "for c in training_circuits:\n",
    "    circuit_diagram = training_circuits[c]\n",
    "    pennylane_circuit = to_pennylane(circuit_diagram)\n",
    "    params = pennylane_circuit.params\n",
    "    pennylane_wires = pennylane_circuit.wires\n",
    "    ops = pennylane_circuit.ops\n",
    "    param_symbols = [[sym[0].as_ordered_factors()[2]] if len(sym) > 0 else [] for sym in params]\n",
    "    symbol_to_index = {}\n",
    "\n",
    "    for sym in param_symbols:\n",
    "        if len(sym) > 0:\n",
    "            symbol_to_index[sym[0]] = symbols.index(sym[0])\n",
    "\n",
    "    @qml.qnode(dev, interface=\"torch\")\n",
    "    def qml_circuit(circ_params):\n",
    "        for op, param, wires in zip(ops, param_symbols, pennylane_wires):\n",
    "            if len(param) > 0:\n",
    "                param = param[0]\n",
    "                op(circ_params[symbol_to_index[param]], wires = wires)\n",
    "            else:\n",
    "                op(wires = wires)\n",
    "        return qml.sample()\n",
    "    \n",
    "    qml_circuits_training.append(qml_circuit)\n",
    "\n",
    "training_qnodes = qml.QNodeCollection(qml_circuits_training)"
   ]
  },
  {
   "cell_type": "code",
   "execution_count": null,
   "id": "ebdbc2d2-9195-4b3a-b307-fc2af1ec64d3",
   "metadata": {},
   "outputs": [],
   "source": [
    "SEED = 0\n",
    "rng = np.random.default_rng(SEED)\n",
    "x0 = np.array(rng.random(len(symbols)))\n",
    "#np.random.seed(SEED)\n",
    "#x0 = [torch.FloatTensor([x]) for x in x0]\n",
    "print(len(x0))"
   ]
  },
  {
   "cell_type": "code",
   "execution_count": null,
   "id": "49ae9d3d-aac7-4210-8273-14e95647c9e9",
   "metadata": {},
   "outputs": [],
   "source": [
    "result = training_qnodes(x0)"
   ]
  },
  {
   "cell_type": "code",
   "execution_count": null,
   "id": "0a027681-ac67-49e1-ace7-b063ae43cc2f",
   "metadata": {},
   "outputs": [],
   "source": [
    "print(len(result[0][1]))"
   ]
  },
  {
   "cell_type": "markdown",
   "id": "e39dcd08-662f-48b7-8ba8-d60165103c57",
   "metadata": {},
   "source": [
    "## Post-selection"
   ]
  },
  {
   "cell_type": "code",
   "execution_count": null,
   "id": "67360274-6ff3-453d-a0f4-1ced1848acb8",
   "metadata": {},
   "outputs": [],
   "source": [
    "def post_select(shot, post_selection):\n",
    "    diff = len(shot) - len(post_selection)\n",
    "    for i in range(len(post_selection)):\n",
    "        if shot[i + diff] != post_selection[i]:\n",
    "            return []\n",
    "    else:\n",
    "        return shot"
   ]
  },
  {
   "cell_type": "code",
   "execution_count": null,
   "id": "04a74e87-2560-452d-89c9-7f31da9ca4fb",
   "metadata": {},
   "outputs": [],
   "source": [
    "#for res in result:\n",
    "#    for shot in res:\n",
    "#        print(post_select(shot, [0]*(len(shot) - 1)))"
   ]
  },
  {
   "cell_type": "markdown",
   "id": "c259f7cb-2a2c-4e3a-a8f8-6f79152b4b20",
   "metadata": {},
   "source": [
    "## Cost function"
   ]
  },
  {
   "cell_type": "code",
   "execution_count": null,
   "id": "e35e93ae-ee26-437b-83ba-93e3315d2efd",
   "metadata": {},
   "outputs": [],
   "source": [
    "def cost_spsa(params):\n",
    "    sample_set = training_qnodes(params)\n",
    "    selected = []\n",
    "    for shot in sample:\n",
    "        selected += post_select(shot, post_selection)\n",
    "    print(selected)\n",
    "    return None #qnode_spsa(params.reshape(num_layers, num_wires, 3))"
   ]
  }
 ],
 "metadata": {
  "kernelspec": {
   "display_name": "Python 3 (ipykernel)",
   "language": "python",
   "name": "python3"
  },
  "language_info": {
   "codemirror_mode": {
    "name": "ipython",
    "version": 3
   },
   "file_extension": ".py",
   "mimetype": "text/x-python",
   "name": "python",
   "nbconvert_exporter": "python",
   "pygments_lexer": "ipython3",
   "version": "3.8.10"
  }
 },
 "nbformat": 4,
 "nbformat_minor": 5
}
