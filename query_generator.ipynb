{
 "cells": [
  {
   "cell_type": "markdown",
   "id": "7ca312f9-727c-4487-8ed4-574938d8af97",
   "metadata": {},
   "source": [
    "# Query generator"
   ]
  },
  {
   "cell_type": "markdown",
   "id": "7fd77d8c-4bf2-4545-bf51-2c63979617b6",
   "metadata": {},
   "source": [
    "This module creates a collection of queries based on filtering and join clauses collected from Join Order Benchmark. These queries are used to train, validate and test the model."
   ]
  },
  {
   "cell_type": "code",
   "execution_count": 1,
   "id": "752123d7-43ba-405c-b3c2-7e00f9f65d98",
   "metadata": {},
   "outputs": [],
   "source": [
    "import json\n",
    "import os\n",
    "\n",
    "this_folder = os.path.abspath(os.getcwd())\n",
    "\n",
    "#f = open(this_folder + \"\\\\join_order_query_seed.json\", \"r\")\n",
    "f = open(this_folder + \"\\\\join_order_query_seed_small.json\", \"r\")\n",
    "\n",
    "query_seed = json.load(f)\n",
    "table_aliases = query_seed[\"table_aliases\"]\n",
    "#print(json.dumps(query_seed, indent=4))"
   ]
  },
  {
   "cell_type": "code",
   "execution_count": 2,
   "id": "1a68bd24-6414-402f-a693-f7d4ad73c6cc",
   "metadata": {},
   "outputs": [],
   "source": [
    "def generate_queries():\n",
    "    queries = set()\n",
    "    for join in query_seed[\"joins\"]:\n",
    "        q_select = \"SELECT \"\n",
    "        q_from_list_initial = set([join[\"table_alias1\"], join[\"table_alias2\"]])\n",
    "        q_join_list = [join[\"join\"]]\n",
    "\n",
    "        for se in query_seed[\"selects\"]:\n",
    "            if se[\"table_alias\"] in q_from_list_initial:\n",
    "                q_select += se[\"select\"]\n",
    "                break\n",
    "        else:\n",
    "            continue\n",
    "\n",
    "        for fi in query_seed[\"filters\"]:\n",
    "            q_where_initial = \" WHERE \"\n",
    "            if fi[\"table_alias\"] in q_from_list_initial:\n",
    "                q_where_initial += fi[\"filter\"] + \" AND \"\n",
    "                for join2 in query_seed[\"joins\"]:\n",
    "                    q_from = \" FROM \"\n",
    "                    q_where = q_where_initial\n",
    "                    q_from_list = set([join[\"table_alias1\"], join[\"table_alias2\"]])\n",
    "                    q_join_list = [join[\"join\"]]\n",
    "\n",
    "                    if join2[\"join\"] not in q_join_list:\n",
    "                        if join2[\"table_alias1\"] in q_from_list:\n",
    "                                q_join_list.append(join2[\"join\"])\n",
    "                                q_from_list.add(join2[\"table_alias2\"])\n",
    "                        elif join2[\"table_alias2\"] in q_from_list:\n",
    "                                q_join_list.append(join2[\"join\"])\n",
    "                                q_from_list.add(join2[\"table_alias1\"]) \n",
    "\n",
    "                    for e in q_from_list:\n",
    "                        q_from += table_aliases[e] + \" AS \" + e + \", \"\n",
    "\n",
    "                    for j in q_join_list:\n",
    "                        q_where += j + \" AND \"\n",
    "\n",
    "                    queries.add(q_select + q_from[:-2] + q_where[:-5] + \";\")\n",
    "\n",
    "\n",
    "    for i, q in enumerate(queries):\n",
    "        if i % 3 != 0:\n",
    "            with open(this_folder + \"\\\\queries\\\\training_queries\\\\\" + str(i) + \".sql\", \"w\") as output:\n",
    "                output.write(q)\n",
    "        else:\n",
    "            if i % 2 == 0:\n",
    "                with open(this_folder + \"\\\\queries\\\\validation_queries\\\\\" + str(i) + \".sql\", \"w\") as output:\n",
    "                    output.write(q)\n",
    "            else:\n",
    "                with open(this_folder + \"\\\\queries\\\\test_queries\\\\\" + str(i) + \".sql\", \"w\") as output:\n",
    "                    output.write(q)"
   ]
  },
  {
   "cell_type": "code",
   "execution_count": 3,
   "id": "a1e0106b-8320-4b32-b3db-0f393921891c",
   "metadata": {},
   "outputs": [],
   "source": [
    "def generate_queries_small():\n",
    "    queries = set()\n",
    "    for join in query_seed[\"joins\"]:\n",
    "        q_select = \"SELECT \"\n",
    "        q_from_list_initial = set([join[\"table_alias1\"], join[\"table_alias2\"]])\n",
    "        q_join_list = [join[\"join\"]]\n",
    "\n",
    "        for se in query_seed[\"selects\"]:\n",
    "            if se[\"table_alias\"] in q_from_list_initial:\n",
    "                q_select += se[\"select\"]\n",
    "                break\n",
    "        else:\n",
    "            continue\n",
    "\n",
    "        for fi in query_seed[\"filters\"]:\n",
    "            q_where_initial = \" WHERE \"\n",
    "            if fi[\"table_alias\"] in q_from_list_initial:\n",
    "                q_where_initial += fi[\"filter\"] + \" AND \"\n",
    "                for join2 in query_seed[\"joins\"]:\n",
    "                    q_from = \" FROM \"\n",
    "                    q_where = q_where_initial\n",
    "                    q_from_list = set([join[\"table_alias1\"], join[\"table_alias2\"]])\n",
    "                    q_join_list = [join[\"join\"]] \n",
    "\n",
    "                    for e in q_from_list:\n",
    "                        q_from += table_aliases[e] + \" AS \" + e + \", \"\n",
    "\n",
    "                    for j in q_join_list:\n",
    "                        q_where += j + \" AND \"\n",
    "\n",
    "                    queries.add(q_select + q_from[:-2] + q_where[:-5] + \";\")\n",
    "\n",
    "\n",
    "    for i, q in enumerate(queries):\n",
    "        if i % 3 != 0:\n",
    "            with open(this_folder + \"\\\\queries\\\\small\\\\training_queries\\\\\" + str(i) + \".sql\", \"w\") as output:\n",
    "                output.write(q)\n",
    "        else:\n",
    "            if i % 2 == 0:\n",
    "                with open(this_folder + \"\\\\queries\\\\small\\\\validation_queries\\\\\" + str(i) + \".sql\", \"w\") as output:\n",
    "                    output.write(q)\n",
    "            else:\n",
    "                with open(this_folder + \"\\\\queries\\\\small\\\\test_queries\\\\\" + str(i) + \".sql\", \"w\") as output:\n",
    "                    output.write(q)"
   ]
  },
  {
   "cell_type": "code",
   "execution_count": 4,
   "id": "2b332480-c14f-4c54-94a0-23a8294774d0",
   "metadata": {},
   "outputs": [],
   "source": [
    "#generate_queries()\n",
    "generate_queries_small()"
   ]
  },
  {
   "cell_type": "code",
   "execution_count": null,
   "id": "99d64311-ba52-4bba-ab3a-b0dc9d1f7a68",
   "metadata": {},
   "outputs": [],
   "source": []
  }
 ],
 "metadata": {
  "kernelspec": {
   "display_name": "Python 3 (ipykernel)",
   "language": "python",
   "name": "python3"
  },
  "language_info": {
   "codemirror_mode": {
    "name": "ipython",
    "version": 3
   },
   "file_extension": ".py",
   "mimetype": "text/x-python",
   "name": "python",
   "nbconvert_exporter": "python",
   "pygments_lexer": "ipython3",
   "version": "3.10.2"
  }
 },
 "nbformat": 4,
 "nbformat_minor": 5
}
