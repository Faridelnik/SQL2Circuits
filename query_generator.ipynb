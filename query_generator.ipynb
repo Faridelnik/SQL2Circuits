{
 "cells": [
  {
   "cell_type": "markdown",
   "id": "7ca312f9-727c-4487-8ed4-574938d8af97",
   "metadata": {},
   "source": [
    "# Query generator"
   ]
  },
  {
   "cell_type": "markdown",
   "id": "7fd77d8c-4bf2-4545-bf51-2c63979617b6",
   "metadata": {},
   "source": [
    "This module creates a collection of queries from based on filtering and join clauses collected from Join Order Benchmark. These queries are used to train, validate and test the model."
   ]
  },
  {
   "cell_type": "code",
   "execution_count": 10,
   "id": "752123d7-43ba-405c-b3c2-7e00f9f65d98",
   "metadata": {},
   "outputs": [],
   "source": [
    "import json\n",
    "import glob\n",
    "import os\n",
    "from pathlib import Path\n",
    "\n",
    "this_folder = os.path.abspath(os.getcwd())\n",
    "f = open(this_folder + \"\\\\join_order_query_seed.json\", \"r\")"
   ]
  },
  {
   "cell_type": "code",
   "execution_count": 11,
   "id": "95a7b502-cbb9-4c66-943e-e9c546ca4d5c",
   "metadata": {},
   "outputs": [
    {
     "name": "stdout",
     "output_type": "stream",
     "text": [
      "{'table_aliases': {'ct': 'company_type', 'it': 'info_type', 'mc': 'movie_companies', 't': 'title', 'mk': 'movie_keyword', 'k': 'keyword', 'cn': 'company_name', 'mi': 'movie_info', 'n': 'name', 'ci': 'cast_info', 'an': 'aka_name', 'lt': 'link_type', 'ml': 'movie_link', 'pi': 'person_info', 'rt': 'role_type', 'chn': 'char_name', 'kt': 'kind_type', 'at': 'aka_title', 'cc': 'complete_cast', 'cct': 'comp_cast_type'}, 'selects': [{'select': 'MIN(mc.note) AS production_note', 'table_alias': 'mc'}, {'select': 'MIN(t.title) AS movie_title', 'table_alias': 't'}, {'select': 'MIN(t.production_year) AS movie_year', 'table_alias': 't'}, {'select': 'MIN(k.keyword) AS movie_keyword', 'table_alias': 'k'}, {'select': 'MIN(n.name) AS actor_name', 'table_alias': 'n'}, {'select': 'MIN(an.name) AS actress_pseudonym', 'table_alias': 'an'}, {'select': 'MIN(chn.name) AS character_name', 'table_alias': 'chn'}, {'select': 'MIN(cn.name) AS company_name', 'table_alias': 'cn'}, {'select': 'MIN(lt.link) AS movie_link_type', 'table_alias': 'lt'}, {'select': 'MIN(mi.info) AS release_date', 'table_alias': 'mi'}, {'select': 'MIN(at.title) AS aka_title', 'table_alias': 'at'}, {'select': 'MIN(kt.kind) AS movie_kind', 'table_alias': 'kt'}], 'filters': [{'filter': \"ct.kind = 'production companies'\", 'table_alias': 'ct'}, {'filter': \"it.info = 'top 250 rank'\", 'table_alias': 'it'}, {'filter': \"mc.note NOT LIKE '%(as Metro-Goldwyn-Mayer Pictures)%'\", 'table_alias': 'mc'}, {'filter': \"mc.note LIKE '%(co-production)%'\", 'table_alias': 'mc'}, {'filter': \"mc.note LIKE '%(presents)%'\", 'table_alias': 'mc'}, {'filter': \"it.info = 'bottom 10 rank'\", 'table_alias': 'it'}, {'filter': 't.production_year > 2004', 'table_alias': 't'}, {'filter': 't.production_year < 2011', 'table_alias': 't'}, {'filter': \"cn.country_code ='[us]'\", 'table_alias': 'cn'}, {'filter': \"k.keyword ='character-name-in-title'\", 'table_alias': 'k'}, {'filter': \"k.keyword LIKE '%sequel%'\", 'table_alias': 'k'}, {'filter': \"mi.info IN ('Sweden', 'USA', 'German')\", 'table_alias': 'mi'}, {'filter': \"it.info ='rating'\", 'table_alias': 'it'}, {'filter': \"mc.note LIKE '%(France)%'\", 'table_alias': 'mc'}, {'filter': \"k.keyword IN ('superhero', 'sequel')\", 'table_alias': 'k'}, {'filter': \"n.name LIKE 'B%'\", 'table_alias': 'n'}, {'filter': \"an.name LIKE '%a%'\", 'table_alias': 'an'}, {'filter': \"it.info ='mini biography'\", 'table_alias': 'it'}, {'filter': \"lt.link ='features'\", 'table_alias': 'lt'}, {'filter': \"n.gender='m'\", 'table_alias': 'n'}, {'filter': \"n.gender='f'\", 'table_alias': 'n'}, {'filter': \"pi.note ='Volker Boehm'\", 'table_alias': 'pi'}, {'filter': \"ci.note ='(voice: English version)'\", 'table_alias': 'ci'}, {'filter': \"rt.role ='actress'\", 'table_alias': 'rt'}, {'filter': 'mc.note IS NOT NULL', 'table_alias': 'mc'}, {'filter': 'mc.note IS NULL', 'table_alias': 'mc'}, {'filter': \"lt.link LIKE '%follow%'\", 'table_alias': 'lt'}, {'filter': \"kt.kind ='movie'\", 'table_alias': 'kt'}, {'filter': \"cct.kind = 'cast'\", 'table_alias': 'cct'}, {'filter': \"cn.name LIKE '%Film%'\", 'table_alias': 'cn'}, {'filter': \"chn.name = 'Queen'\", 'table_alias': 'chn'}], 'joins': [{'join': 'ct.id = mc.company_type_id', 'table_alias1': 'ct', 'table_alias2': 'mc'}, {'join': 't.id = mc.movie_id', 'table_alias1': 't', 'table_alias2': 'mc'}, {'join': 'cn.id = mc.company_id', 'table_alias1': 'cn', 'table_alias2': 'mc'}, {'join': 't.id = mk.movie_id', 'table_alias1': 't', 'table_alias2': 'mk'}, {'join': 'mk.keyword_id = k.id', 'table_alias1': 'mk', 'table_alias2': 'k'}, {'join': 'mc.movie_id = mk.movie_id', 'table_alias1': 'mc', 'table_alias2': 'mk'}, {'join': 't.id = mi.movie_id', 'table_alias1': 't', 'table_alias2': 'mi'}, {'join': 'mk.movie_id = mi.movie_id', 'table_alias1': 'mk', 'table_alias2': 'mi'}, {'join': 'it.id = mi.info_type_id', 'table_alias1': 'it', 'table_alias2': 'mi'}, {'join': 'mc.movie_id = mi.movie_id', 'table_alias1': 'mc', 'table_alias2': 'mi'}, {'join': 't.id = ci.movie_id', 'table_alias1': 't', 'table_alias2': 'ci'}, {'join': 'ci.movie_id = mk.movie_id', 'table_alias1': 'ci', 'table_alias2': 'mk'}, {'join': 'n.id = ci.person_id', 'table_alias1': 'n', 'table_alias2': 'ci'}, {'join': 'n.id = an.person_id', 'table_alias1': 'n', 'table_alias2': 'an'}, {'join': 'n.id = pi.person_id', 'table_alias1': 'n', 'table_alias2': 'pi'}, {'join': 'ml.linked_movie_id = t.id', 'table_alias1': 'ml', 'table_alias2': 't'}, {'join': 'lt.id = ml.link_type_id', 'table_alias1': 'lt', 'table_alias2': 'ml'}, {'join': 'it.id = pi.info_type_id', 'table_alias1': 'it', 'table_alias2': 'pi'}, {'join': 'pi.person_id = an.person_id', 'table_alias1': 'pi', 'table_alias2': 'an'}, {'join': 'pi.person_id = ci.person_id', 'table_alias1': 'pi', 'table_alias2': 'ci'}, {'join': 'an.person_id = ci.person_id', 'table_alias1': 'an', 'table_alias2': 'ci'}, {'join': 'ci.movie_id = ml.linked_movie_id', 'table_alias1': 'ci', 'table_alias2': 'ml'}, {'join': 'ci.role_id = rt.id', 'table_alias1': 'ci', 'table_alias2': 'rt'}, {'join': 'ci.movie_id = mc.movie_id', 'table_alias1': 'ci', 'table_alias2': 'mc'}, {'join': 'chn.id = ci.person_role_id', 'table_alias1': 'chn', 'table_alias2': 'ci'}, {'join': 'ml.movie_id = t.id', 'table_alias1': 'ml', 'table_alias2': 't'}, {'join': 'ml.movie_id = mk.movie_id', 'table_alias1': 'ml', 'table_alias2': 'mk'}, {'join': 'ml.movie_id = mc.movie_id', 'table_alias1': 'ml', 'table_alias2': 'mc'}, {'join': 'kt.id = t.kind_id', 'table_alias1': 'kt', 'table_alias2': 't'}, {'join': 't.id = at.movie_id', 'table_alias1': 't', 'table_alias2': 'at'}, {'join': 'mk.movie_id = at.movie_id', 'table_alias1': 'mk', 'table_alias2': 'at'}, {'join': 'mi.movie_id = at.movie_id', 'table_alias1': 'mi', 'table_alias2': 'at'}, {'join': 'mc.movie_id = at.movie_id', 'table_alias1': 'mc', 'table_alias2': 'at'}, {'join': 'ci.movie_id = mi.movie_id', 'table_alias1': 'ci', 'table_alias2': 'mi'}, {'join': 't.id = cc.movie_id', 'table_alias1': 't', 'table_alias2': 'cc'}, {'join': 'mk.movie_id = cc.movie_id', 'table_alias1': 'mk', 'table_alias2': 'cc'}, {'join': 'ci.movie_id = cc.movie_id', 'table_alias1': 'ci', 'table_alias2': 'cc'}, {'join': 'cct.id = cc.subject_id', 'table_alias1': 'cct', 'table_alias2': 'cc'}, {'join': 'ml.movie_id = mi.movie_id', 'table_alias1': 'ml', 'table_alias2': 'mi'}, {'join': 'mi.movie_id = cc.movie_id', 'table_alias1': 'mi', 'table_alias2': 'cc'}, {'join': 'mc.movie_id = cc.movie_id', 'table_alias1': 'mc', 'table_alias2': 'cc'}, {'join': 'cct.id = cc.status_id', 'table_alias1': 'cct', 'table_alias2': 'cc'}, {'join': 'ml.movie_id = cc.movie_id', 'table_alias1': 'ml', 'table_alias2': 'cc'}, {'join': 'ml.linked_movie_id = mc.movie_id', 'table_alias1': 'ml', 'table_alias2': 'mc'}]}\n"
     ]
    }
   ],
   "source": [
    "query_seed = json.load(f)\n",
    "print(query_seed)"
   ]
  },
  {
   "cell_type": "code",
   "execution_count": null,
   "id": "45e0520b-b5a0-4c2c-aad7-9c092c2d8259",
   "metadata": {},
   "outputs": [],
   "source": []
  },
  {
   "cell_type": "code",
   "execution_count": null,
   "id": "f946b90a-4be4-44ab-a6ba-a78c5003b24d",
   "metadata": {},
   "outputs": [],
   "source": []
  }
 ],
 "metadata": {
  "kernelspec": {
   "display_name": "Python 3 (ipykernel)",
   "language": "python",
   "name": "python3"
  },
  "language_info": {
   "codemirror_mode": {
    "name": "ipython",
    "version": 3
   },
   "file_extension": ".py",
   "mimetype": "text/x-python",
   "name": "python",
   "nbconvert_exporter": "python",
   "pygments_lexer": "ipython3",
   "version": "3.10.2"
  }
 },
 "nbformat": 4,
 "nbformat_minor": 5
}
