{
 "cells": [
  {
   "cell_type": "markdown",
   "id": "cc9bede7-1703-4723-b5fa-172d327b2594",
   "metadata": {},
   "source": [
    "# Simple example: Transformations from SQL to parametrized circuit"
   ]
  },
  {
   "cell_type": "markdown",
   "id": "ad7c063e-77cd-4a87-8a5b-148daaaa38b9",
   "metadata": {},
   "source": [
    "## Parsing"
   ]
  },
  {
   "cell_type": "markdown",
   "id": "983f98b4-186c-40d2-9217-60bbb25347f2",
   "metadata": {},
   "source": [
    "We parse the queries with ANTRL framework which is an extensive general-purpose parsing tool. We selected the SQLite grammar for its simplicity in ANTRL prewritten grammars. Because the core features of SQL are the same for any relational database, this code does not depend on system's SQL dialect.\n",
    "\n",
    "So far, the module can deal with queries that have a SELECT-FROM-WHERE structure without substatements."
   ]
  },
  {
   "cell_type": "code",
   "execution_count": 1,
   "id": "f4075cf1-b27e-498c-9e85-82f30a01ff70",
   "metadata": {},
   "outputs": [
    {
     "name": "stdout",
     "output_type": "stream",
     "text": [
      "Whole parse tree: \n",
      "(parse (sql_stmt_list (sql_stmt (select_stmt (select_core SELECT (result_column (expr (column_name (any_name cat_name)))) , (result_column (expr (column_name (any_name favourite_food)))) FROM (table_or_subquery (table_name (any_name cats))) WHERE (expr (expr (column_name (any_name cat_name))) = (expr (literal_value 'Whiskers')))))) ;) <EOF>)\n"
     ]
    }
   ],
   "source": [
    "from antlr4 import *\n",
    "from SQLiteLexer import SQLiteLexer\n",
    "from SQLiteParser import SQLiteParser\n",
    "from SQLiteParserListener import SQLiteParserListener\n",
    "import json\n",
    "import os\n",
    "import glob\n",
    "from pathlib import Path\n",
    "from discopy import Ty, Box, Functor, Id, Swap, hypergraph, Cup\n",
    "from functools import reduce\n",
    "import numpy as np\n",
    "import sympy\n",
    "from discopy.quantum.pennylane import to_pennylane, PennyLaneCircuit\n",
    "from sympy import default_sort_key\n",
    "import pennylane as qml\n",
    "import torch\n",
    "#from lambeq import IQPAnsatz\n",
    "from flipped_IQPansatz import IQPAnsatzFlipped\n",
    "from pennylane.drawer import draw,draw_mpl,tape_mpl\n",
    "from discopy.utils import dumps, loads\n",
    "\n",
    "input_file = \"simple_examples/cat.sql\"\n",
    "\n",
    "input_stream = FileStream(input_file)\n",
    "lexer = SQLiteLexer(input_stream)\n",
    "stream = CommonTokenStream(lexer)\n",
    "parser = SQLiteParser(stream)\n",
    "tree = parser.parse()\n",
    "\n",
    "print(\"Whole parse tree: \")\n",
    "print(tree.toStringTree(recog=parser))"
   ]
  },
  {
   "cell_type": "markdown",
   "id": "0a1cfaad-e0f4-4b1c-b5db-279ebc39126a",
   "metadata": {},
   "source": [
    "## Diagrammatic representation of SQL language elements in context free grammar"
   ]
  },
  {
   "cell_type": "markdown",
   "id": "edd82ed2-3a53-4b18-9190-d7bba64ea1d7",
   "metadata": {},
   "source": [
    "We walk the tree and collect the elements in a monoidal category. This creates a diagrammatic representation for the parsed SQL query. `SQLiteParserListener` class implements DisCoPy construction. First we collect the abstract parse tree but we also modify it so that we collect SELECT and the columns into the same element, FROM and tables into the same element and WHERE and the filtering clauses into the same element. This interpretation follows the [railroad diagram representation](https://www.sqlite.org/syntaxdiagrams.html#select-core) more accurately than the current parsing. It also enables us to map the parse tree correctly later."
   ]
  },
  {
   "cell_type": "code",
   "execution_count": 2,
   "id": "4b74b4a5-64fd-47f9-844b-a22d4a820217",
   "metadata": {},
   "outputs": [],
   "source": [
    "this_folder = os.path.abspath(os.getcwd())\n",
    "total_dim = 0\n",
    "walker = ParseTreeWalker()\n",
    "listener = SQLiteParserListener(parser)\n",
    "walker.walk(listener, tree)\n",
    "diagram = listener.get_final_diagram()\n",
    "width = diagram.width()\n",
    "height = diagram.depth()\n",
    "dim = 4*max(width, height)\n",
    "total_dim += dim"
   ]
  },
  {
   "cell_type": "code",
   "execution_count": 3,
   "id": "74963b6b-89aa-4014-96cb-f325256c7d55",
   "metadata": {},
   "outputs": [],
   "source": [
    "diagram.draw(figsize=(30, 20), fontsize = 17, fontsize_types = 17, scale = (0.8, 1), path = this_folder + \"\\\\figures\\\\paper_figures\\\\CFG_diagram_cat_example.tex\")"
   ]
  },
  {
   "cell_type": "markdown",
   "id": "bd39455e-ab1f-4914-86bd-8a3beeb1d28f",
   "metadata": {},
   "source": [
    "## Map context free grammar representations to pregroup representations"
   ]
  },
  {
   "cell_type": "markdown",
   "id": "86ea88f3-dfa6-4bd0-92f2-9338fe7cb1b3",
   "metadata": {},
   "source": [
    "Because the abstract syntax tree contains lots of unnecessary information for our purposes, we will functorially rewrite it. This functorial rewriting process is just something that we have developed especially for this work and it is open to discussion if there exists a more suitable rewrite mapping. Also, the parts `select_main`, `from_main` and `where_main` are especially designed for this work although they are visible in the SQLite railroad diagrams without any special name.\n",
    "\n",
    "Functor simply describes how the boxes and types are mapped. In this rewriting process we want to simplify the abstract syntax tree."
   ]
  },
  {
   "cell_type": "code",
   "execution_count": 4,
   "id": "1de83c86-6926-416d-ba1e-e79f260a353e",
   "metadata": {},
   "outputs": [],
   "source": [
    "#from cfg_alias_rewriting_mappings import alias_object_mapping, alias_morphism_mapping\n",
    "\n",
    "#Rewriter = Functor(ob = lambda x: alias_object_mapping(x), ar = lambda f: alias_morphism_mapping(f))\n",
    "#cfg_diagram = Rewriter(diagram)\n",
    "#cfg_diagram.draw(figsize=(15, 15)) #, path = this_folder + \"\\\\figures\\\\pregroup_figure.png\")\n",
    "\n",
    "#back_n_forth = lambda f: hypergraph.Diagram.upgrade(f).downgrade()\n",
    "#back_n_forth(cfg_diagram).draw(figsize=(15, 15))"
   ]
  },
  {
   "cell_type": "code",
   "execution_count": 5,
   "id": "cc4f9424-7bc7-4761-a8ab-3d646afbb230",
   "metadata": {},
   "outputs": [],
   "source": [
    "from pregroupFunctorMappings import count_boxes, object_mapping, arrow_mapping\n",
    "\n",
    "num_of_result_columns = count_boxes(diagram, \"result-column\")\n",
    "num_of_result_columns += count_boxes(diagram, \"result-column-with-alias\")\n",
    "num_of_tables = count_boxes(diagram, \"table\")\n",
    "num_of_tables += count_boxes(diagram, \"table-with-alias\")\n",
    "\n",
    "Rewriter = Functor(ob = lambda x: object_mapping(x, num_of_result_columns, num_of_tables), ar = lambda f: arrow_mapping(f, num_of_result_columns, num_of_tables))\n",
    "pregroup_diagram = Rewriter(diagram)\n",
    "width = pregroup_diagram.width()\n",
    "height = pregroup_diagram.depth()\n",
    "dim = 3*max(width, height)\n",
    "total_dim += dim"
   ]
  },
  {
   "cell_type": "code",
   "execution_count": 6,
   "id": "1c6ca9c8-d760-424d-90da-0c0fb1d4b77a",
   "metadata": {},
   "outputs": [
    {
     "name": "stdout",
     "output_type": "stream",
     "text": [
      "27\n"
     ]
    }
   ],
   "source": [
    "print(dim)\n",
    "pregroup_diagram.draw(figsize=(23, 22), fontsize = 17, fontsize_types = 17, scale = (0.5, 1), path = this_folder + \"\\\\figures\\\\paper_figures\\\\pregroup_diagram_cat_example.png\")"
   ]
  },
  {
   "cell_type": "markdown",
   "id": "4ccc75ce-a7a0-4f36-bf0c-541b28f59d49",
   "metadata": {},
   "source": [
    "## Convert pregroup representations to circuits"
   ]
  },
  {
   "cell_type": "markdown",
   "id": "c8ea4eb3-b2af-4698-9625-9022625eac8a",
   "metadata": {},
   "source": [
    "Following the ideas of the paper A Quantum Natural Language Processing Approach to Musical Intelligence, we can reduce the number of qubits by rewriting the diagram and removing cups."
   ]
  },
  {
   "cell_type": "markdown",
   "id": "297ddf64-3170-47f0-bddc-eb135501d63a",
   "metadata": {},
   "source": [
    "An assumption is that every box contains a connection to a cup. On the other hand, the SELECT-box does not need to be changed. Thus for every box (which is not a cup or the select box) we \"raise the first leg on top of the box\". This process creates snakes which the normalization process automatically removes. This rewriting process ensures that the cups are removed from the diagram and we can use less qubits."
   ]
  },
  {
   "cell_type": "code",
   "execution_count": 7,
   "id": "e303d21a-98ea-47ce-a8b2-c4b7c76401b8",
   "metadata": {},
   "outputs": [],
   "source": [
    "def cup_remove_arrow_mapping(box):\n",
    "    if box.name.lower() == 'select':\n",
    "        return box\n",
    "    elif not box.cod:\n",
    "        domain = box.dom\n",
    "        raised_leg = Ty(domain[0])\n",
    "        new_domain = reduce(lambda x, y : x @ Ty(y), domain[1:], Ty())\n",
    "        new_box = Id(raised_leg) @ Box(box.name, new_domain, raised_leg.l)\\\n",
    "        >> Cup(raised_leg, raised_leg.l)\n",
    "        return new_box\n",
    "    return box\n",
    "\n",
    "def cup_remove_arrow_mapping2(box):\n",
    "    if box.cod == box.dom == Ty('n'):\n",
    "        return Id(box.cod)\n",
    "    return box\n",
    "\n",
    "cup_removal_functor = Functor(ob = lambda x: x, ar = lambda f: cup_remove_arrow_mapping(f))\n",
    "cup_removal_functor2 = Functor(ob = lambda x: x, ar = lambda f: cup_remove_arrow_mapping2(f))"
   ]
  },
  {
   "cell_type": "code",
   "execution_count": 8,
   "id": "7b86c495-6ef1-44c0-b4b0-d255fa7c1da5",
   "metadata": {},
   "outputs": [],
   "source": [
    "cupless_pregroup_diagram = cup_removal_functor(pregroup_diagram.normal_form()).normal_form()\n",
    "cupless_pregroup_diagram = cup_removal_functor2(cupless_pregroup_diagram).normal_form()\n",
    "width = cupless_pregroup_diagram.width()\n",
    "height = cupless_pregroup_diagram.depth()\n",
    "dim = 3*max(width, height)\n",
    "total_dim += dim"
   ]
  },
  {
   "cell_type": "code",
   "execution_count": 9,
   "id": "8a6fc10f-6aa7-41b7-9d87-8d4467efc38f",
   "metadata": {},
   "outputs": [
    {
     "name": "stdout",
     "output_type": "stream",
     "text": [
      "15\n"
     ]
    }
   ],
   "source": [
    "print(dim)\n",
    "cupless_pregroup_diagram.draw(figsize=(dim, dim), fontsize = 17, fontsize_types = 17, scale = (1,1), path = this_folder + \"\\\\figures\\\\paper_figures\\\\cup_removed_pregroup_diagram_cat_example.png\")"
   ]
  },
  {
   "cell_type": "code",
   "execution_count": 10,
   "id": "837e91a3-2f76-4d85-8bdf-4f63f4df0b5c",
   "metadata": {},
   "outputs": [],
   "source": [
    "cup_removed_pregroup_folder_name = \"join-order-benchmark-diagrams//cup-removed-pregroup-diagrams\"\n",
    "with open(this_folder + \"\\\\\" + cup_removed_pregroup_folder_name + \"\\\\\" + \"4b\" + \".json\", 'w') as outfile:\n",
    "    json.dump(json.loads(dumps(cupless_pregroup_diagram)), outfile)"
   ]
  },
  {
   "cell_type": "markdown",
   "id": "abcb338a-b0de-412d-a409-7c8599d0e35d",
   "metadata": {},
   "source": [
    "### Pregroup grammar to circuit ansatz functor"
   ]
  },
  {
   "cell_type": "code",
   "execution_count": 11,
   "id": "97d6d5a1-a812-4fd2-b37d-a7832ae225b9",
   "metadata": {},
   "outputs": [],
   "source": [
    "n, s = Ty('n'), Ty('s')\n",
    "ansatz = IQPAnsatzFlipped({n: 1, s: 1}, n_layers=1, n_single_qubit_params=1)\n",
    "circuit_diagram = ansatz(cupless_pregroup_diagram)\n",
    "width = circuit_diagram.width()\n",
    "height = circuit_diagram.depth()\n",
    "dim = 0.9*max(width, height)\n",
    "total_dim += dim"
   ]
  },
  {
   "cell_type": "code",
   "execution_count": 12,
   "id": "e9cf208a-f044-4523-be98-8a4aca8bc810",
   "metadata": {},
   "outputs": [
    {
     "name": "stdout",
     "output_type": "stream",
     "text": [
      "15.3\n"
     ]
    }
   ],
   "source": [
    "print(dim)\n",
    "circuit_diagram.draw(figsize=(15, 20), fontsize = 17, fontsize_types = 17, scale = (0.6,0.7), path = this_folder + \"\\\\figures\\\\paper_figures\\\\circuit_diagram_cat_example.png\")"
   ]
  },
  {
   "cell_type": "markdown",
   "id": "ba93ad64-212d-407e-bdd8-e405195f9151",
   "metadata": {},
   "source": [
    "## Draw process in single figure"
   ]
  },
  {
   "cell_type": "code",
   "execution_count": 13,
   "id": "0c2f2fc2-6d50-434c-90c1-7cd9beb900f6",
   "metadata": {},
   "outputs": [],
   "source": [
    "from discopy.drawing import equation\n",
    "\n",
    "equation_diagram = equation(diagram, \n",
    "                            cupless_pregroup_diagram, \n",
    "                            circuit_diagram, \n",
    "                            symbol = '→', \n",
    "                            fontsize = 12,\n",
    "                            figsize=(23, 9),\n",
    "                            fontsize_types = 12, \n",
    "                            path = this_folder + \"\\\\figures\\\\cat_equation.png\",\n",
    "                            scale = (1.2, 0.7),\n",
    "                            pad = (0,0),\n",
    "                            draw_type_labels = False)"
   ]
  },
  {
   "cell_type": "markdown",
   "id": "f15c66c3-441c-43f3-bfbd-ddef7b506b8c",
   "metadata": {},
   "source": [
    "## Transforming circuit in Pennylane"
   ]
  },
  {
   "cell_type": "code",
   "execution_count": 14,
   "id": "e8811324-3581-420c-b002-0ddc52fab208",
   "metadata": {},
   "outputs": [
    {
     "name": "stdout",
     "output_type": "stream",
     "text": [
      "Number of parameters:  12\n",
      "<class 'function'>\n"
     ]
    }
   ],
   "source": [
    "parameters = circuit_diagram.free_symbols\n",
    "parameters = sorted(parameters, key=default_sort_key)\n",
    "\n",
    "print(\"Number of parameters: \", len(parameters))\n",
    "\n",
    "pennylane_circuit = to_pennylane(circuit_diagram)\n",
    "qml_circuit = pennylane_circuit.make_circuit()\n",
    "print(type(qml_circuit.func))\n",
    "tot_qubits = qml_circuit.device.num_wires"
   ]
  },
  {
   "cell_type": "code",
   "execution_count": 15,
   "id": "b209d22f-2c74-4514-b0ab-8dc2dbf8b7f9",
   "metadata": {},
   "outputs": [],
   "source": [
    "SEED = 0\n",
    "rng = np.random.default_rng(SEED)\n",
    "x0 = np.array(rng.random(len(parameters)))\n",
    "np.random.seed(SEED)\n",
    "x0 = [torch.FloatTensor([x]) for x in x0]"
   ]
  },
  {
   "cell_type": "code",
   "execution_count": 16,
   "id": "c40c5aef-0884-49cf-9479-45857181d3ca",
   "metadata": {},
   "outputs": [],
   "source": [
    "@qml.qfunc_transform\n",
    "def change_measurement_to_sample(tape):\n",
    "    for op in tape.operations + tape.measurements + tape.observables:\n",
    "        print(str(op))\n",
    "        if str(op) == \"state(wires=[])\":\n",
    "            qml.sample()\n",
    "        else:\n",
    "            qml.apply(op)"
   ]
  },
  {
   "cell_type": "code",
   "execution_count": 17,
   "id": "63360432-0f0b-4282-8b88-25d59d35f050",
   "metadata": {},
   "outputs": [
    {
     "name": "stdout",
     "output_type": "stream",
     "text": [
      "RZ(1, wires=[0])\n",
      "CNOT(wires=[0, 1])\n",
      "RY(1, wires=[1])\n",
      "state(wires=[])\n",
      "state(wires=[])\n",
      "[[[0 0 0 0 0 0]\n",
      "  [0 0 0 0 0 0]\n",
      "  [0 0 0 0 0 0]\n",
      "  [0 0 0 0 0 0]]\n",
      "\n",
      " [[0 0 0 0 0 0]\n",
      "  [0 0 0 0 0 0]\n",
      "  [0 0 0 0 0 0]\n",
      "  [0 0 0 0 0 0]]]\n",
      "RZ(1, wires=[0])\n",
      "CNOT(wires=[0, 1])\n",
      "RY(1, wires=[1])\n",
      "state(wires=[])\n",
      "state(wires=[])\n",
      "{\n",
      "    \"gate_sizes\": {\n",
      "        \"1\": 2,\n",
      "        \"2\": 1\n",
      "    },\n",
      "    \"gate_types\": {\n",
      "        \"RZ\": 1,\n",
      "        \"CNOT\": 1,\n",
      "        \"RY\": 1\n",
      "    },\n",
      "    \"num_operations\": 3,\n",
      "    \"num_observables\": 2,\n",
      "    \"num_diagonalizing_gates\": 0,\n",
      "    \"num_used_wires\": 2,\n",
      "    \"depth\": 3,\n",
      "    \"num_trainable_params\": 0,\n",
      "    \"num_device_wires\": 6,\n",
      "    \"device_name\": \"default.qubit\",\n",
      "    \"expansion_strategy\": \"gradient\",\n",
      "    \"gradient_options\": {},\n",
      "    \"interface\": \"autograd\",\n",
      "    \"diff_method\": \"best\",\n",
      "    \"gradient_fn\": \"pennylane.gradients.parameter_shift.param_shift\",\n",
      "    \"num_gradient_executions\": 0\n",
      "}\n"
     ]
    },
    {
     "name": "stderr",
     "output_type": "stream",
     "text": [
      "C:\\Users\\valte\\AppData\\Local\\Programs\\Python\\Python310\\lib\\site-packages\\pennylane\\gradients\\parameter_shift.py:627: UserWarning: Attempted to compute the gradient of a tape with no trainable parameters. If this is unintended, please mark trainable parameters in accordance with the chosen auto differentiation framework, or via the 'tape.trainable_params' property.\n",
      "  warnings.warn(\n"
     ]
    }
   ],
   "source": [
    "dev = qml.device(\"default.qubit\", wires=tot_qubits, shots=4)\n",
    "params = pennylane_circuit.param_substitution(parameters, x0)\n",
    "\n",
    "def my_quantum_function(x, y):\n",
    "    qml.RZ(x, wires=0)\n",
    "    qml.CNOT(wires=[0, 1])\n",
    "    qml.RY(y, wires=1)\n",
    "    return qml.state()\n",
    "\n",
    "new_circuit_func = change_measurement_to_sample(my_quantum_function)\n",
    "\n",
    "target_system = qml.QNode(new_circuit_func, dev)\n",
    "#print(target_system)\n",
    "print(target_system(1,1))\n",
    "\n",
    "#print(type(qml_circuit.func(params)))\n",
    "\n",
    "specs_func = qml.specs(target_system)\n",
    "print(json.dumps(specs_func(1,1), indent = 4))\n",
    "\n",
    "#@qml.qnode(dev)\n",
    "#def target_system(params):\n",
    "#    transformed_qnode.func(params)\n",
    "#    return qml.sample()\n",
    "\n",
    "\n",
    "#transformed_qnode(params)"
   ]
  },
  {
   "cell_type": "code",
   "execution_count": 18,
   "id": "79bc2664-20ba-4026-8553-add17ee37617",
   "metadata": {},
   "outputs": [
    {
     "name": "stdout",
     "output_type": "stream",
     "text": [
      "[tensor([4.5836]), tensor([0.0172]), tensor([5.8752]), tensor([5.1262]), tensor([4.0021]), tensor([5.8752]), tensor([5.1099]), tensor([1.6951]), tensor([0.2574]), tensor([1.6951]), [], [], tensor([3.4157]), tensor([4.5836]), [], [], tensor([0.1038]), tensor([0.1038]), [], [], tensor([5.7350]), [], tensor([3.8116]), [], []]\n",
      "<function PennyLaneCircuit.make_circuit.<locals>.circuit at 0x0000022B5D5BE560>\n"
     ]
    },
    {
     "data": {
      "text/plain": [
       "'\\\\documentclass[border=2px]{standalone}\\n\\n\\\\usepackage[braket, qm]{qcircuit}\\n\\\\usepackage{graphicx}\\n\\n\\\\begin{document}\\n\\\\scalebox{1.0}{\\n\\\\Qcircuit @C=1.0em @R=0.2em @!R { \\\\\\\\\\n\\t \\t\\\\nghost{{q}_{0} :  } & \\\\lstick{{q}_{0} :  } & \\\\gate{\\\\mathrm{R_X}\\\\,(\\\\mathrm{4.584})} & \\\\qw & \\\\qw & \\\\qw & \\\\qw & \\\\ctrl{4} & \\\\gate{\\\\mathrm{H}} & \\\\gate{\\\\mathrm{R_X}\\\\,(\\\\mathrm{0.1038})} & \\\\ctrl{3} & \\\\gate{\\\\mathrm{H}} & \\\\ctrl{1} & \\\\gate{\\\\mathrm{H}} & \\\\qw & \\\\qw & \\\\qw\\\\\\\\\\n\\t \\t\\\\nghost{{q}_{1} :  } & \\\\lstick{{q}_{1} :  } & \\\\gate{\\\\mathrm{R_X}\\\\,(\\\\mathrm{0.01721})} & \\\\qw & \\\\qw & \\\\qw & \\\\qw & \\\\qw & \\\\qw & \\\\qw & \\\\qw & \\\\qw & \\\\gate{\\\\mathrm{R_Z}\\\\,(\\\\mathrm{5.735})} & \\\\ctrl{1} & \\\\gate{\\\\mathrm{H}} & \\\\qw & \\\\qw\\\\\\\\\\n\\t \\t\\\\nghost{{q}_{2} :  } & \\\\lstick{{q}_{2} :  } & \\\\gate{\\\\mathrm{R_X}\\\\,(\\\\mathrm{5.875})} & \\\\qw & \\\\qw & \\\\qw & \\\\qw & \\\\qw & \\\\qw & \\\\qw & \\\\qw & \\\\qw & \\\\qw & \\\\gate{\\\\mathrm{R_Z}\\\\,(\\\\mathrm{3.812})} & \\\\gate{\\\\mathrm{H}} & \\\\qw & \\\\qw\\\\\\\\\\n\\t \\t\\\\nghost{{q}_{3} :  } & \\\\lstick{{q}_{3} :  } & \\\\gate{\\\\mathrm{R_X}\\\\,(\\\\mathrm{5.126})} & \\\\gate{\\\\mathrm{R_X}\\\\,(\\\\mathrm{5.11})} & \\\\qw & \\\\qw & \\\\qw & \\\\qw & \\\\qw & \\\\qw & \\\\gate{\\\\mathrm{R_Z}\\\\,(\\\\mathrm{0.1038})} & \\\\gate{\\\\mathrm{H}} & \\\\qw & \\\\qw & \\\\qw & \\\\qw & \\\\qw\\\\\\\\\\n\\t \\t\\\\nghost{{q}_{4} :  } & \\\\lstick{{q}_{4} :  } & \\\\gate{\\\\mathrm{R_X}\\\\,(\\\\mathrm{4.002})} & \\\\gate{\\\\mathrm{R_X}\\\\,(\\\\mathrm{1.695})} & \\\\ctrl{1} & \\\\gate{\\\\mathrm{H}} & \\\\gate{\\\\mathrm{R_X}\\\\,(\\\\mathrm{3.416})} & \\\\gate{\\\\mathrm{R_Z}\\\\,(\\\\mathrm{4.584})} & \\\\gate{\\\\mathrm{H}} & \\\\qw & \\\\qw & \\\\qw & \\\\qw & \\\\qw & \\\\qw & \\\\qw & \\\\qw\\\\\\\\\\n\\t \\t\\\\nghost{{q}_{5} :  } & \\\\lstick{{q}_{5} :  } & \\\\gate{\\\\mathrm{R_X}\\\\,(\\\\mathrm{5.875})} & \\\\gate{\\\\mathrm{R_X}\\\\,(\\\\mathrm{0.2574})} & \\\\gate{\\\\mathrm{R_Z}\\\\,(\\\\mathrm{1.695})} & \\\\gate{\\\\mathrm{H}} & \\\\qw & \\\\qw & \\\\qw & \\\\qw & \\\\qw & \\\\qw & \\\\qw & \\\\qw & \\\\qw & \\\\qw & \\\\qw\\\\\\\\\\n\\t \\t\\\\nghost{\\\\mathrm{{c} :  }} & \\\\lstick{\\\\mathrm{{c} :  }} & \\\\lstick{/_{_{6}}} \\\\cw & \\\\cw & \\\\cw & \\\\cw & \\\\cw & \\\\cw & \\\\cw & \\\\cw & \\\\cw & \\\\cw & \\\\cw & \\\\cw & \\\\cw & \\\\cw & \\\\cw\\\\\\\\\\n\\\\\\\\ }}\\n\\\\end{document}'"
      ]
     },
     "execution_count": 18,
     "metadata": {},
     "output_type": "execute_result"
    }
   ],
   "source": [
    "dev_for_drawing = qml.device(\"qiskit.aer\", wires=tot_qubits, backend='unitary_simulator')\n",
    "\n",
    "#pennylane_circuit.draw(parameters, x0)\n",
    "params = pennylane_circuit.param_substitution(parameters, x0)\n",
    "print(params)\n",
    "#fig, ax = qml.draw_mpl(qml_circuit)(params)\n",
    "\n",
    "qml_circuit_for_drawing = qml.QNode(qml_circuit.func, dev_for_drawing)\n",
    "print(qml_circuit.func)\n",
    "qml_circuit_for_drawing(params)\n",
    "dev_for_drawing._circuit.draw(output = \"latex_source\")"
   ]
  },
  {
   "cell_type": "markdown",
   "id": "2848ec33-a7d3-4de2-b420-fc8317be2c0b",
   "metadata": {},
   "source": [
    "## Optimizing parameters"
   ]
  },
  {
   "cell_type": "markdown",
   "id": "bbd7fd79-ae6f-4262-8e96-b4dd05c2d2cd",
   "metadata": {},
   "source": [
    "As the circuit ansatz produced by Lambeq shows, we need to perfom post-selection on the other qubits except the first ones."
   ]
  },
  {
   "cell_type": "code",
   "execution_count": 19,
   "id": "13fac664-3b86-4cee-96ba-be90f5a19d62",
   "metadata": {},
   "outputs": [],
   "source": [
    "#dev = qml.device(\"default.qubit\", wires=tot_qubits, shots=4)\n",
    "\n",
    "#@qml.qnode(dev)\n",
    "#def target_system(params):\n",
    "#    qml_circuit.func(params)\n",
    "#    return qml.sample()\n",
    "\n",
    "#target_system(params)"
   ]
  }
 ],
 "metadata": {
  "kernelspec": {
   "display_name": "Python 3 (ipykernel)",
   "language": "python",
   "name": "python3"
  },
  "language_info": {
   "codemirror_mode": {
    "name": "ipython",
    "version": 3
   },
   "file_extension": ".py",
   "mimetype": "text/x-python",
   "name": "python",
   "nbconvert_exporter": "python",
   "pygments_lexer": "ipython3",
   "version": "3.8.10"
  }
 },
 "nbformat": 4,
 "nbformat_minor": 5
}
