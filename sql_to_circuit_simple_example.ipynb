{
 "cells": [
  {
   "cell_type": "markdown",
   "id": "cc9bede7-1703-4723-b5fa-172d327b2594",
   "metadata": {},
   "source": [
    "# Simple example: Transformations from SQL to parametrized circuit"
   ]
  },
  {
   "cell_type": "markdown",
   "id": "ad7c063e-77cd-4a87-8a5b-148daaaa38b9",
   "metadata": {},
   "source": [
    "## Parsing"
   ]
  },
  {
   "cell_type": "markdown",
   "id": "983f98b4-186c-40d2-9217-60bbb25347f2",
   "metadata": {},
   "source": [
    "We parse the queries with ANTRL framework which is an extensive general-purpose parsing tool. We selected the SQLite grammar for its simplicity in ANTRL prewritten grammars. Because the core features of SQL are the same for any relational database, this code does not depend on system's SQL dialect.\n",
    "\n",
    "So far, the module can deal with queries that have a SELECT-FROM-WHERE structure without substatements."
   ]
  },
  {
   "cell_type": "code",
   "execution_count": 1,
   "id": "f4075cf1-b27e-498c-9e85-82f30a01ff70",
   "metadata": {},
   "outputs": [
    {
     "name": "stderr",
     "output_type": "stream",
     "text": [
      "C:\\Users\\valte\\AppData\\Local\\Programs\\Python\\Python310\\lib\\site-packages\\tqdm\\auto.py:22: TqdmWarning: IProgress not found. Please update jupyter and ipywidgets. See https://ipywidgets.readthedocs.io/en/stable/user_install.html\n",
      "  from .autonotebook import tqdm as notebook_tqdm\n"
     ]
    },
    {
     "name": "stdout",
     "output_type": "stream",
     "text": [
      "Whole parse tree: \n",
      "(parse (sql_stmt_list (sql_stmt (select_stmt (select_core SELECT (result_column (expr (column_name (any_name rick)))) FROM (table_or_subquery (table_name (any_name timeline))) WHERE (expr (expr (column_name (any_name rick))) in (expr ( (expr (literal_value 'rick')) , (expr (literal_value 'summer')) , (expr (literal_value 'morty')) ))))))) <EOF>)\n"
     ]
    }
   ],
   "source": [
    "from antlr4 import *\n",
    "from SQLiteLexer import SQLiteLexer\n",
    "from SQLiteParser import SQLiteParser\n",
    "from SQLiteParserListener import SQLiteParserListener\n",
    "import json\n",
    "import os\n",
    "import glob\n",
    "from pathlib import Path\n",
    "from discopy import Ty, Box, Functor, Id, Swap, hypergraph, Cup\n",
    "from functools import reduce\n",
    "import numpy as np\n",
    "import sympy\n",
    "from discopy.quantum.pennylane import to_pennylane, PennyLaneCircuit\n",
    "from sympy import default_sort_key\n",
    "import pennylane as qml\n",
    "import torch\n",
    "from lambeq import IQPAnsatz\n",
    "from pennylane.drawer import draw,draw_mpl,tape_mpl\n",
    "from discopy.utils import dumps, loads\n",
    "\n",
    "input_file = \"simple_examples/sql2.sql\"\n",
    "\n",
    "input_stream = FileStream(input_file)\n",
    "lexer = SQLiteLexer(input_stream)\n",
    "stream = CommonTokenStream(lexer)\n",
    "parser = SQLiteParser(stream)\n",
    "tree = parser.parse()\n",
    "\n",
    "print(\"Whole parse tree: \")\n",
    "print(tree.toStringTree(recog=parser))"
   ]
  },
  {
   "cell_type": "markdown",
   "id": "0a1cfaad-e0f4-4b1c-b5db-279ebc39126a",
   "metadata": {},
   "source": [
    "## Diagrammatic representation of SQL language elements in context free grammar"
   ]
  },
  {
   "cell_type": "markdown",
   "id": "edd82ed2-3a53-4b18-9190-d7bba64ea1d7",
   "metadata": {},
   "source": [
    "We walk the tree and collect the elements in a monoidal category. This creates a diagrammatic representation for the parsed SQL query. `SQLiteParserListener` class implements DisCoPy construction. First we collect the abstract parse tree but we also modify it so that we collect SELECT and the columns into the same element, FROM and tables into the same element and WHERE and the filtering clauses into the same element. This interpretation follows the [railroad diagram representation](https://www.sqlite.org/syntaxdiagrams.html#select-core) more accurately than the current parsing. It also enables us to map the parse tree correctly later."
   ]
  },
  {
   "cell_type": "code",
   "execution_count": 2,
   "id": "4b74b4a5-64fd-47f9-844b-a22d4a820217",
   "metadata": {},
   "outputs": [],
   "source": [
    "this_folder = os.path.abspath(os.getcwd())\n",
    "walker = ParseTreeWalker()\n",
    "listener = SQLiteParserListener(parser)\n",
    "walker.walk(listener, tree)\n",
    "diagram = listener.get_final_diagram().dagger()\n",
    "width = diagram.width()\n",
    "height = diagram.depth()\n",
    "dim = 4*max(width, height)\n",
    "diagram.draw(figsize=(dim, dim), fontsize = 17, fontsize_types = 17, path = this_folder + \"\\\\figures\\\\bugging.png\")"
   ]
  },
  {
   "cell_type": "markdown",
   "id": "bd39455e-ab1f-4914-86bd-8a3beeb1d28f",
   "metadata": {},
   "source": [
    "## Map context free grammar representations to pregroup representations"
   ]
  },
  {
   "cell_type": "markdown",
   "id": "86ea88f3-dfa6-4bd0-92f2-9338fe7cb1b3",
   "metadata": {},
   "source": [
    "Because the abstract syntax tree contains lots of unnecessary information for our purposes, we will functorially rewrite it. This functorial rewriting process is just something that we have developed especially for this work and it is open to discussion if there exists a more suitable rewrite mapping. Also, the parts `select_main`, `from_main` and `where_main` are especially designed for this work although they are visible in the SQLite railroad diagrams without any special name.\n",
    "\n",
    "Functor simply describes how the boxes and types are mapped. In this rewriting process we want to simplify the abstract syntax tree."
   ]
  },
  {
   "cell_type": "code",
   "execution_count": 3,
   "id": "1de83c86-6926-416d-ba1e-e79f260a353e",
   "metadata": {},
   "outputs": [],
   "source": [
    "#from cfg_alias_rewriting_mappings import alias_object_mapping, alias_morphism_mapping\n",
    "\n",
    "#Rewriter = Functor(ob = lambda x: alias_object_mapping(x), ar = lambda f: alias_morphism_mapping(f))\n",
    "#cfg_diagram = Rewriter(diagram)\n",
    "#cfg_diagram.draw(figsize=(15, 15)) #, path = this_folder + \"\\\\figures\\\\pregroup_figure.png\")\n",
    "\n",
    "#back_n_forth = lambda f: hypergraph.Diagram.upgrade(f).downgrade()\n",
    "#back_n_forth(cfg_diagram).draw(figsize=(15, 15))"
   ]
  },
  {
   "cell_type": "code",
   "execution_count": 4,
   "id": "cc4f9424-7bc7-4761-a8ab-3d646afbb230",
   "metadata": {},
   "outputs": [
    {
     "ename": "AxiomError",
     "evalue": "'morty'[::-1] >> 'summer'[::-1] @ Id(n) >> 'rick'[::-1] @ Id(n @ n) >> set[::-1] @ Id(n @ n @ n) >> Id(n @ n.l @ n.l) @ Cup(n.l, n) @ Id(n @ n) >> Id(n @ n.l) @ Cup(n.l, n) @ Id(n) >> Id(n) @ Cup(n.l, n) >> rick[::-1] @ Id(n) >> IN[::-1] @ Id(n @ n) >> Id(n @ n.l) @ Cup(n.l, n) @ Id(n) >> Id(n) @ Cup(n.l, n) >> WHERE[::-1] @ Id(n) >> Id(n.r @ s) @ Cup(n.l, n) >> timeline[::-1] @ Id(n.r @ s) >> FROM[::-1] @ Id(n @ n.r @ s) >> Id(n.r @ n) @ Cup(n.l, n) @ Id(n.r @ s) >> rick[::-1] @ Id(n.r @ n @ n.r @ s) >> SELECT[::-1] @ Id(n @ n.r @ n @ n.r @ s) >> Id(n) @ Cup(n.l, n) @ Id(n.r @ n @ n.r @ s) does not compose with Id(n @ n.r) @ Cup(n, n.r) @ Id(n) >> Cup(n, n.r) @ Id(n).",
     "output_type": "error",
     "traceback": [
      "\u001b[1;31m---------------------------------------------------------------------------\u001b[0m",
      "\u001b[1;31mAxiomError\u001b[0m                                Traceback (most recent call last)",
      "Input \u001b[1;32mIn [4]\u001b[0m, in \u001b[0;36m<module>\u001b[1;34m\u001b[0m\n\u001b[0;32m      6\u001b[0m num_of_tables \u001b[38;5;241m+\u001b[39m\u001b[38;5;241m=\u001b[39m count_boxes(diagram, \u001b[38;5;124m\"\u001b[39m\u001b[38;5;124mtable-with-alias\u001b[39m\u001b[38;5;124m\"\u001b[39m)\n\u001b[0;32m      8\u001b[0m Rewriter \u001b[38;5;241m=\u001b[39m Functor(ob \u001b[38;5;241m=\u001b[39m \u001b[38;5;28;01mlambda\u001b[39;00m x: object_mapping(x, num_of_result_columns, num_of_tables), ar \u001b[38;5;241m=\u001b[39m \u001b[38;5;28;01mlambda\u001b[39;00m f: arrow_mapping(f, num_of_result_columns, num_of_tables))\n\u001b[1;32m----> 9\u001b[0m pregroup_diagram \u001b[38;5;241m=\u001b[39m \u001b[43mRewriter\u001b[49m\u001b[43m(\u001b[49m\u001b[43mdiagram\u001b[49m\u001b[43m)\u001b[49m\n\u001b[0;32m     10\u001b[0m width \u001b[38;5;241m=\u001b[39m pregroup_diagram\u001b[38;5;241m.\u001b[39mwidth()\n\u001b[0;32m     11\u001b[0m height \u001b[38;5;241m=\u001b[39m pregroup_diagram\u001b[38;5;241m.\u001b[39mdepth()\n",
      "File \u001b[1;32m~\\AppData\\Local\\Programs\\Python\\Python310\\lib\\site-packages\\discopy\\rigid.py:681\u001b[0m, in \u001b[0;36mFunctor.__call__\u001b[1;34m(self, diagram)\u001b[0m\n\u001b[0;32m    679\u001b[0m     \u001b[38;5;28;01mreturn\u001b[39;00m result\n\u001b[0;32m    680\u001b[0m \u001b[38;5;28;01mif\u001b[39;00m \u001b[38;5;28misinstance\u001b[39m(diagram, monoidal\u001b[38;5;241m.\u001b[39mDiagram):\n\u001b[1;32m--> 681\u001b[0m     \u001b[38;5;28;01mreturn\u001b[39;00m \u001b[38;5;28;43msuper\u001b[39;49m\u001b[43m(\u001b[49m\u001b[43m)\u001b[49m\u001b[38;5;241;43m.\u001b[39;49m\u001b[38;5;21;43m__call__\u001b[39;49m\u001b[43m(\u001b[49m\u001b[43mdiagram\u001b[49m\u001b[43m)\u001b[49m\n\u001b[0;32m    682\u001b[0m \u001b[38;5;28;01mraise\u001b[39;00m \u001b[38;5;167;01mTypeError\u001b[39;00m(messages\u001b[38;5;241m.\u001b[39mtype_err(Diagram, diagram))\n",
      "File \u001b[1;32m~\\AppData\\Local\\Programs\\Python\\Python310\\lib\\site-packages\\discopy\\monoidal.py:900\u001b[0m, in \u001b[0;36mFunctor.__call__\u001b[1;34m(self, diagram)\u001b[0m\n\u001b[0;32m    898\u001b[0m     id_l \u001b[38;5;241m=\u001b[39m \u001b[38;5;28mself\u001b[39m\u001b[38;5;241m.\u001b[39mar_factory\u001b[38;5;241m.\u001b[39mid(\u001b[38;5;28mself\u001b[39m(scan[:off]))\n\u001b[0;32m    899\u001b[0m     id_r \u001b[38;5;241m=\u001b[39m \u001b[38;5;28mself\u001b[39m\u001b[38;5;241m.\u001b[39mar_factory\u001b[38;5;241m.\u001b[39mid(\u001b[38;5;28mself\u001b[39m(scan[off \u001b[38;5;241m+\u001b[39m \u001b[38;5;28mlen\u001b[39m(box\u001b[38;5;241m.\u001b[39mdom):]))\n\u001b[1;32m--> 900\u001b[0m     result \u001b[38;5;241m=\u001b[39m \u001b[43mresult\u001b[49m\u001b[43m \u001b[49m\u001b[38;5;241;43m>>\u001b[39;49m\u001b[43m \u001b[49m\u001b[43mid_l\u001b[49m\u001b[43m \u001b[49m\u001b[38;5;241;43m@\u001b[39;49m\u001b[43m \u001b[49m\u001b[38;5;28;43mself\u001b[39;49m\u001b[43m(\u001b[49m\u001b[43mbox\u001b[49m\u001b[43m)\u001b[49m\u001b[43m \u001b[49m\u001b[38;5;241;43m@\u001b[39;49m\u001b[43m \u001b[49m\u001b[43mid_r\u001b[49m\n\u001b[0;32m    901\u001b[0m     scan \u001b[38;5;241m=\u001b[39m scan[:off] \u001b[38;5;241m@\u001b[39m box\u001b[38;5;241m.\u001b[39mcod \u001b[38;5;241m@\u001b[39m scan[off \u001b[38;5;241m+\u001b[39m \u001b[38;5;28mlen\u001b[39m(box\u001b[38;5;241m.\u001b[39mdom):]\n\u001b[0;32m    902\u001b[0m \u001b[38;5;28;01mreturn\u001b[39;00m result\n",
      "File \u001b[1;32m~\\AppData\\Local\\Programs\\Python\\Python310\\lib\\site-packages\\discopy\\cat.py:299\u001b[0m, in \u001b[0;36mArrow.__rshift__\u001b[1;34m(self, other)\u001b[0m\n\u001b[0;32m    298\u001b[0m \u001b[38;5;28;01mdef\u001b[39;00m \u001b[38;5;21m__rshift__\u001b[39m(\u001b[38;5;28mself\u001b[39m, other):\n\u001b[1;32m--> 299\u001b[0m     \u001b[38;5;28;01mreturn\u001b[39;00m \u001b[38;5;28;43mself\u001b[39;49m\u001b[38;5;241;43m.\u001b[39;49m\u001b[43mthen\u001b[49m\u001b[43m(\u001b[49m\u001b[43mother\u001b[49m\u001b[43m)\u001b[49m\n",
      "File \u001b[1;32m~\\AppData\\Local\\Programs\\Python\\Python310\\lib\\site-packages\\discopy\\monoidal.py:419\u001b[0m, in \u001b[0;36mDiagram.then\u001b[1;34m(self, *others)\u001b[0m\n\u001b[0;32m    413\u001b[0m     \u001b[38;5;28;01mreturn\u001b[39;00m \u001b[38;5;28msuper\u001b[39m()\u001b[38;5;241m.\u001b[39mthen(\u001b[38;5;241m*\u001b[39mothers)\n\u001b[0;32m    414\u001b[0m other, \u001b[38;5;241m=\u001b[39m others\n\u001b[0;32m    415\u001b[0m \u001b[38;5;28;01mreturn\u001b[39;00m \u001b[38;5;28mself\u001b[39m\u001b[38;5;241m.\u001b[39mupgrade(\n\u001b[0;32m    416\u001b[0m     Diagram(\u001b[38;5;28mself\u001b[39m\u001b[38;5;241m.\u001b[39mdom, other\u001b[38;5;241m.\u001b[39mcod,\n\u001b[0;32m    417\u001b[0m             \u001b[38;5;28mself\u001b[39m\u001b[38;5;241m.\u001b[39mboxes \u001b[38;5;241m+\u001b[39m other\u001b[38;5;241m.\u001b[39mboxes,\n\u001b[0;32m    418\u001b[0m             \u001b[38;5;28mself\u001b[39m\u001b[38;5;241m.\u001b[39moffsets \u001b[38;5;241m+\u001b[39m other\u001b[38;5;241m.\u001b[39moffsets,\n\u001b[1;32m--> 419\u001b[0m             layers\u001b[38;5;241m=\u001b[39m\u001b[38;5;28;43mself\u001b[39;49m\u001b[38;5;241;43m.\u001b[39;49m\u001b[43mlayers\u001b[49m\u001b[43m \u001b[49m\u001b[38;5;241;43m>>\u001b[39;49m\u001b[43m \u001b[49m\u001b[43mother\u001b[49m\u001b[38;5;241;43m.\u001b[39;49m\u001b[43mlayers\u001b[49m))\n",
      "File \u001b[1;32m~\\AppData\\Local\\Programs\\Python\\Python310\\lib\\site-packages\\discopy\\cat.py:299\u001b[0m, in \u001b[0;36mArrow.__rshift__\u001b[1;34m(self, other)\u001b[0m\n\u001b[0;32m    298\u001b[0m \u001b[38;5;28;01mdef\u001b[39;00m \u001b[38;5;21m__rshift__\u001b[39m(\u001b[38;5;28mself\u001b[39m, other):\n\u001b[1;32m--> 299\u001b[0m     \u001b[38;5;28;01mreturn\u001b[39;00m \u001b[38;5;28;43mself\u001b[39;49m\u001b[38;5;241;43m.\u001b[39;49m\u001b[43mthen\u001b[49m\u001b[43m(\u001b[49m\u001b[43mother\u001b[49m\u001b[43m)\u001b[49m\n",
      "File \u001b[1;32m~\\AppData\\Local\\Programs\\Python\\Python310\\lib\\site-packages\\discopy\\cat.py:294\u001b[0m, in \u001b[0;36mArrow.then\u001b[1;34m(self, *others)\u001b[0m\n\u001b[0;32m    292\u001b[0m     \u001b[38;5;28;01mraise\u001b[39;00m \u001b[38;5;167;01mTypeError\u001b[39;00m(messages\u001b[38;5;241m.\u001b[39mtype_err(Arrow, other))\n\u001b[0;32m    293\u001b[0m \u001b[38;5;28;01mif\u001b[39;00m \u001b[38;5;28mself\u001b[39m\u001b[38;5;241m.\u001b[39mcod \u001b[38;5;241m!=\u001b[39m other\u001b[38;5;241m.\u001b[39mdom:\n\u001b[1;32m--> 294\u001b[0m     \u001b[38;5;28;01mraise\u001b[39;00m AxiomError(messages\u001b[38;5;241m.\u001b[39mdoes_not_compose(\u001b[38;5;28mself\u001b[39m, other))\n\u001b[0;32m    295\u001b[0m \u001b[38;5;28;01mreturn\u001b[39;00m \u001b[38;5;28mself\u001b[39m\u001b[38;5;241m.\u001b[39mupgrade(Arrow(\n\u001b[0;32m    296\u001b[0m     \u001b[38;5;28mself\u001b[39m\u001b[38;5;241m.\u001b[39mdom, other\u001b[38;5;241m.\u001b[39mcod, \u001b[38;5;28mself\u001b[39m\u001b[38;5;241m.\u001b[39mboxes \u001b[38;5;241m+\u001b[39m other\u001b[38;5;241m.\u001b[39mboxes, _scan\u001b[38;5;241m=\u001b[39m\u001b[38;5;28;01mFalse\u001b[39;00m))\n",
      "\u001b[1;31mAxiomError\u001b[0m: 'morty'[::-1] >> 'summer'[::-1] @ Id(n) >> 'rick'[::-1] @ Id(n @ n) >> set[::-1] @ Id(n @ n @ n) >> Id(n @ n.l @ n.l) @ Cup(n.l, n) @ Id(n @ n) >> Id(n @ n.l) @ Cup(n.l, n) @ Id(n) >> Id(n) @ Cup(n.l, n) >> rick[::-1] @ Id(n) >> IN[::-1] @ Id(n @ n) >> Id(n @ n.l) @ Cup(n.l, n) @ Id(n) >> Id(n) @ Cup(n.l, n) >> WHERE[::-1] @ Id(n) >> Id(n.r @ s) @ Cup(n.l, n) >> timeline[::-1] @ Id(n.r @ s) >> FROM[::-1] @ Id(n @ n.r @ s) >> Id(n.r @ n) @ Cup(n.l, n) @ Id(n.r @ s) >> rick[::-1] @ Id(n.r @ n @ n.r @ s) >> SELECT[::-1] @ Id(n @ n.r @ n @ n.r @ s) >> Id(n) @ Cup(n.l, n) @ Id(n.r @ n @ n.r @ s) does not compose with Id(n @ n.r) @ Cup(n, n.r) @ Id(n) >> Cup(n, n.r) @ Id(n)."
     ]
    }
   ],
   "source": [
    "from pregroupFunctorMappings import count_boxes, object_mapping, arrow_mapping\n",
    "\n",
    "num_of_result_columns = count_boxes(diagram, \"result-column\")\n",
    "num_of_result_columns += count_boxes(diagram, \"result-column-with-alias\")\n",
    "num_of_tables = count_boxes(diagram, \"table\")\n",
    "num_of_tables += count_boxes(diagram, \"table-with-alias\")\n",
    "\n",
    "Rewriter = Functor(ob = lambda x: object_mapping(x, num_of_result_columns, num_of_tables), ar = lambda f: arrow_mapping(f, num_of_result_columns, num_of_tables))\n",
    "pregroup_diagram = Rewriter(diagram)\n",
    "width = pregroup_diagram.width()\n",
    "height = pregroup_diagram.depth()\n",
    "dim = 3*max(width, height)\n",
    "pregroup_diagram.draw(figsize=(dim, dim)) #fontsize = 17, fontsize_types = 17)#, path = this_folder + \"\\\\figures\\\\pregroup_figure.svg\")"
   ]
  },
  {
   "cell_type": "markdown",
   "id": "4ccc75ce-a7a0-4f36-bf0c-541b28f59d49",
   "metadata": {},
   "source": [
    "## Convert pregroup representations to circuits"
   ]
  },
  {
   "cell_type": "markdown",
   "id": "c8ea4eb3-b2af-4698-9625-9022625eac8a",
   "metadata": {},
   "source": [
    "Following the ideas of the paper A Quantum Natural Language Processing Approach to Musical Intelligence, we can reduce the number of qubits by rewriting the diagram and removing cups."
   ]
  },
  {
   "cell_type": "markdown",
   "id": "297ddf64-3170-47f0-bddc-eb135501d63a",
   "metadata": {},
   "source": [
    "An assumption is that every box contains a connection to a cup. On the other hand, the SELECT-box does not need to be changed. Thus for every box (which is not a cup or the select box) we \"raise the first leg on top of the box\". This process creates snakes which the normalization process automatically removes. This rewriting process ensures that the cups are removed from the diagram and we can use less qubits."
   ]
  },
  {
   "cell_type": "code",
   "execution_count": null,
   "id": "e303d21a-98ea-47ce-a8b2-c4b7c76401b8",
   "metadata": {},
   "outputs": [],
   "source": [
    "def cup_remove_arrow_mapping(box):\n",
    "    if box.name.lower() == 'select':\n",
    "        return box\n",
    "    elif not box.cod:\n",
    "        domain = box.dom\n",
    "        raised_leg = Ty(domain[0])\n",
    "        new_domain = reduce(lambda x, y : x @ Ty(y), domain[1:], Ty())\n",
    "        new_box = Id(raised_leg) @ Box(box.name, new_domain, raised_leg.l)\\\n",
    "        >> Cup(raised_leg, raised_leg.l)\n",
    "        return new_box\n",
    "    return box\n",
    "\n",
    "def cup_remove_arrow_mapping2(box):\n",
    "    if box.cod == box.dom == Ty('n'):\n",
    "        return Id(box.cod)\n",
    "    return box\n",
    "\n",
    "cup_removal_functor = Functor(ob = lambda x: x, ar = lambda f: cup_remove_arrow_mapping(f))\n",
    "cup_removal_functor2 = Functor(ob = lambda x: x, ar = lambda f: cup_remove_arrow_mapping2(f))"
   ]
  },
  {
   "cell_type": "code",
   "execution_count": null,
   "id": "7b86c495-6ef1-44c0-b4b0-d255fa7c1da5",
   "metadata": {},
   "outputs": [],
   "source": [
    "cupless_pregroup_diagram = cup_removal_functor(pregroup_diagram.normal_form()).normal_form()\n",
    "cupless_pregroup_diagram = cup_removal_functor2(cupless_pregroup_diagram).normal_form()\n",
    "width = cupless_pregroup_diagram.width()\n",
    "height = cupless_pregroup_diagram.depth()\n",
    "dim = 3*max(width, height)\n",
    "cupless_pregroup_diagram.draw(figsize=(dim, dim), fontsize = 17, fontsize_types = 17, path = this_folder + \"\\\\figures\\\\cup_removed_pregroup_figure.png\")\n",
    "\n",
    "cup_removed_pregroup_folder_name = \"join-order-benchmark-diagrams//cup-removed-pregroup-diagrams\"\n",
    "with open(this_folder + \"\\\\\" + cup_removed_pregroup_folder_name + \"\\\\\" + \"4b\" + \".json\", 'w') as outfile:\n",
    "    json.dump(json.loads(dumps(cupless_pregroup_diagram)), outfile)"
   ]
  },
  {
   "cell_type": "markdown",
   "id": "abcb338a-b0de-412d-a409-7c8599d0e35d",
   "metadata": {},
   "source": [
    "### Pregroup grammar to circuit ansatz functor"
   ]
  },
  {
   "cell_type": "code",
   "execution_count": null,
   "id": "97d6d5a1-a812-4fd2-b37d-a7832ae225b9",
   "metadata": {},
   "outputs": [],
   "source": [
    "n, s = Ty('n'), Ty('s')\n",
    "ansatz = IQPAnsatz({n: 1, s: 2}, n_layers=1, n_single_qubit_params=3)\n",
    "circuit_diagram = ansatz(cupless_pregroup_diagram)\n",
    "width = circuit_diagram.width()\n",
    "height = circuit_diagram.depth()\n",
    "dim = 0.9*max(width, height)\n",
    "circuit_diagram.draw(figsize=(dim, dim), fontsize = 17, fontsize_types = 17) #, path = this_folder + \"\\\\figures\\\\circuit_figure2.png\")"
   ]
  },
  {
   "cell_type": "code",
   "execution_count": null,
   "id": "e8811324-3581-420c-b002-0ddc52fab208",
   "metadata": {},
   "outputs": [],
   "source": [
    "parameters = circuit_diagram.free_symbols\n",
    "parameters = sorted(parameters, key=default_sort_key)\n",
    "\n",
    "print(\"Number of parameters: \", len(parameters))\n",
    "\n",
    "pennylane_circuit = to_pennylane(circuit_diagram)\n",
    "qml_circuit = pennylane_circuit.make_circuit()\n",
    "print(type(qml_circuit.func))\n",
    "tot_qubits = qml_circuit.device.num_wires"
   ]
  },
  {
   "cell_type": "code",
   "execution_count": null,
   "id": "b209d22f-2c74-4514-b0ab-8dc2dbf8b7f9",
   "metadata": {},
   "outputs": [],
   "source": [
    "SEED = 0\n",
    "rng = np.random.default_rng(SEED)\n",
    "x0 = np.array(rng.random(len(parameters)))\n",
    "np.random.seed(SEED)\n",
    "x0 = [torch.FloatTensor([x]) for x in x0]"
   ]
  },
  {
   "cell_type": "code",
   "execution_count": null,
   "id": "c40c5aef-0884-49cf-9479-45857181d3ca",
   "metadata": {},
   "outputs": [],
   "source": [
    "@qml.qfunc_transform\n",
    "def change_measurement_to_sample(tape):\n",
    "    for op in tape.operations + tape.measurements + tape.observables:\n",
    "        print(str(op))\n",
    "        if str(op) == \"state(wires=[])\":\n",
    "            qml.sample()\n",
    "        else:\n",
    "            qml.apply(op)"
   ]
  },
  {
   "cell_type": "code",
   "execution_count": null,
   "id": "63360432-0f0b-4282-8b88-25d59d35f050",
   "metadata": {},
   "outputs": [],
   "source": [
    "dev = qml.device(\"default.qubit\", wires=tot_qubits, shots=4)\n",
    "params = pennylane_circuit.param_substitution(parameters, x0)\n",
    "\n",
    "def my_quantum_function(x, y):\n",
    "    qml.RZ(x, wires=0)\n",
    "    qml.CNOT(wires=[0, 1])\n",
    "    qml.RY(y, wires=1)\n",
    "    return qml.state()\n",
    "\n",
    "new_circuit_func = change_measurement_to_sample(my_quantum_function)\n",
    "\n",
    "target_system = qml.QNode(new_circuit_func, dev)\n",
    "#print(target_system)\n",
    "print(target_system(1,1))\n",
    "\n",
    "#print(type(qml_circuit.func(params)))\n",
    "\n",
    "specs_func = qml.specs(target_system)\n",
    "print(json.dumps(specs_func(1,1), indent = 4))\n",
    "\n",
    "#@qml.qnode(dev)\n",
    "#def target_system(params):\n",
    "#    transformed_qnode.func(params)\n",
    "#    return qml.sample()\n",
    "\n",
    "\n",
    "#transformed_qnode(params)"
   ]
  },
  {
   "cell_type": "code",
   "execution_count": null,
   "id": "79bc2664-20ba-4026-8553-add17ee37617",
   "metadata": {},
   "outputs": [],
   "source": [
    "dev_for_drawing = qml.device(\"qiskit.aer\", wires=tot_qubits, backend='unitary_simulator')\n",
    "\n",
    "#pennylane_circuit.draw(parameters, x0)\n",
    "params = pennylane_circuit.param_substitution(parameters, x0)\n",
    "print(params)\n",
    "#fig, ax = qml.draw_mpl(qml_circuit)(params)\n",
    "\n",
    "qml_circuit_for_drawing = qml.QNode(qml_circuit.func, dev_for_drawing)\n",
    "print(qml_circuit.func)\n",
    "qml_circuit_for_drawing(params)\n",
    "dev_for_drawing._circuit.draw(output = \"latex_source\")"
   ]
  },
  {
   "cell_type": "markdown",
   "id": "2848ec33-a7d3-4de2-b420-fc8317be2c0b",
   "metadata": {},
   "source": [
    "## Optimizing parameters"
   ]
  },
  {
   "cell_type": "markdown",
   "id": "bbd7fd79-ae6f-4262-8e96-b4dd05c2d2cd",
   "metadata": {},
   "source": [
    "As the circuit ansatz produced by Lambeq shows, we need to perfom post-selection on the other qubits except the first ones."
   ]
  },
  {
   "cell_type": "code",
   "execution_count": null,
   "id": "13fac664-3b86-4cee-96ba-be90f5a19d62",
   "metadata": {},
   "outputs": [],
   "source": [
    "#dev = qml.device(\"default.qubit\", wires=tot_qubits, shots=4)\n",
    "\n",
    "#@qml.qnode(dev)\n",
    "#def target_system(params):\n",
    "#    qml_circuit.func(params)\n",
    "#    return qml.sample()\n",
    "\n",
    "#target_system(params)"
   ]
  }
 ],
 "metadata": {
  "kernelspec": {
   "display_name": "Python 3 (ipykernel)",
   "language": "python",
   "name": "python3"
  },
  "language_info": {
   "codemirror_mode": {
    "name": "ipython",
    "version": 3
   },
   "file_extension": ".py",
   "mimetype": "text/x-python",
   "name": "python",
   "nbconvert_exporter": "python",
   "pygments_lexer": "ipython3",
   "version": "3.10.2"
  }
 },
 "nbformat": 4,
 "nbformat_minor": 5
}
