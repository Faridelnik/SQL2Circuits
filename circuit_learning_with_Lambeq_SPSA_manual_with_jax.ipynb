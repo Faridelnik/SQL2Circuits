{
 "cells": [
  {
   "cell_type": "markdown",
   "id": "b09952d6-99a3-41a5-865f-2170e9ee0247",
   "metadata": {},
   "source": [
    "# Circuit learning module: Lambeq manually with SPSA and JAX"
   ]
  },
  {
   "cell_type": "markdown",
   "id": "bb811fe4-d729-4a44-838d-9c02db4a644d",
   "metadata": {},
   "source": [
    "This module performs the optimization of the parametrized circuit manually compared to Lambeq's automatic QuantumTrainer class. I created this because I wanted to have more control over the optimization process and debug it better. The code is based on the workflow presented in https://github.com/CQCL/Quanthoven."
   ]
  },
  {
   "cell_type": "code",
   "execution_count": 1,
   "id": "c9a5783f-901a-4bfe-a622-4003b345fb1b",
   "metadata": {},
   "outputs": [],
   "source": [
    "import warnings\n",
    "import json\n",
    "import os\n",
    "import sys\n",
    "import glob\n",
    "from math import ceil\n",
    "from pathlib import Path\n",
    "from jax import numpy as np\n",
    "from sympy import default_sort_key\n",
    "import numpy\n",
    "import pickle\n",
    "import matplotlib.pyplot as plt\n",
    "\n",
    "import jax\n",
    "from jax import jit\n",
    "from noisyopt import minimizeSPSA, minimizeCompass\n",
    "\n",
    "from discopy.quantum import Circuit\n",
    "from discopy.tensor import Tensor\n",
    "from discopy.utils import loads\n",
    "#from pytket.extensions.qiskit import AerBackend\n",
    "#from pytket.extensions.qulacs import QulacsBackend\n",
    "#from pytket.extensions.cirq import CirqStateSampleBackend\n",
    "backend = None\n",
    "\n",
    "from utils import *\n",
    "from sklearn.metrics import accuracy_score, recall_score, precision_score, f1_score\n",
    "\n",
    "warnings.filterwarnings('ignore')\n",
    "this_folder = os.path.abspath(os.getcwd())\n",
    "os.environ['TOKENIZERS_PARALLELISM'] = 'true'\n",
    "#os.environ[\"JAX_PLATFORMS\"] = \"cpu\"\n",
    "\n",
    "SEED = 0\n",
    "\n",
    "# This avoids TracerArrayConversionError from jax\n",
    "Tensor.np = np\n",
    "\n",
    "rng = numpy.random.default_rng(SEED)\n",
    "numpy.random.seed(SEED)"
   ]
  },
  {
   "cell_type": "markdown",
   "id": "238fca40-5d8d-4ace-a65f-693885a8caf8",
   "metadata": {},
   "source": [
    "## Read circuit data"
   ]
  },
  {
   "cell_type": "markdown",
   "id": "7f6f00d7-b573-4c5d-a0d6-d5eafc54745e",
   "metadata": {},
   "source": [
    "We read the circuits from the pickled files. Select if we perform binary classification or multi-class classification. Give number of qubits to create classes:\n",
    "- 1 qubits -> 2^1 = 2 classes i.e. binary classification\n",
    "- 2 qubits -> 2^2 = 4 classes\n",
    "- ...\n",
    "- 5 qubits -> 2^5 = 32 classes, etc."
   ]
  },
  {
   "cell_type": "code",
   "execution_count": 2,
   "id": "01bac1f9-3bc0-4a25-8f4f-baa2b9c581e9",
   "metadata": {},
   "outputs": [],
   "source": [
    "# Select workload\n",
    "workload = \"execution_time\"\n",
    "#workload = \"cardinality\"\n",
    "\n",
    "# Select workload size\n",
    "#workload_size = \"small\"\n",
    "#workload_size = \"medium\"\n",
    "#workload_size = \"large\"\n",
    "workload_size = \"main\"\n",
    "\n",
    "classification = 2\n",
    "layers = 1\n",
    "single_qubit_params = 3\n",
    "n_wire_count = 1\n",
    "\n",
    "loss = multi_class_loss\n",
    "acc = multi_class_acc\n",
    "\n",
    "if classification == 1:\n",
    "    loss = bin_class_loss\n",
    "    acc = bin_class_acc\n",
    "\n",
    "# Access the selected circuits\n",
    "path_name = this_folder + \"//simplified-JOB-diagrams//\" + workload + \"//\" + workload_size + \"//circuits//\" + str(classification) + \"//\" + str(layers) + \"_layer//\" + str(single_qubit_params) + \"_single_qubit_params//\" + str(n_wire_count) + \"_n_wire_count//\"\n",
    "\n",
    "training_circuits_paths = glob.glob(path_name + \"training//[0-9]*.p\")\n",
    "validation_circuits_paths = glob.glob(path_name + \"validation//[0-9]*.p\")\n",
    "test_circuits_paths = glob.glob(path_name + \"test//[0-9]*.p\")"
   ]
  },
  {
   "cell_type": "code",
   "execution_count": 3,
   "id": "5ff0a551-444c-40a7-bf66-8e929bc49a64",
   "metadata": {},
   "outputs": [],
   "source": [
    "training_circuits = read_diagrams(training_circuits_paths)\n",
    "validation_circuits = read_diagrams(validation_circuits_paths)\n",
    "test_circuits = read_diagrams(test_circuits_paths)"
   ]
  },
  {
   "cell_type": "markdown",
   "id": "f2da3a7c-6a93-44e9-9640-7e9ead005cb2",
   "metadata": {},
   "source": [
    "## Read training and test data"
   ]
  },
  {
   "cell_type": "code",
   "execution_count": 4,
   "id": "774e9f52-69c9-4e1c-8a70-76e1198d12f4",
   "metadata": {},
   "outputs": [],
   "source": [
    "training_data, test_data, validation_data = None, None, None\n",
    "data_path = this_folder + \"//data//\" + workload + \"//\" + workload_size + \"//\"\n",
    "\n",
    "with open(data_path + \"training_data.json\", \"r\") as inputfile:\n",
    "    training_data = json.load(inputfile)['training_data']\n",
    "with open(data_path + \"test_data.json\", \"r\") as inputfile:\n",
    "    test_data = json.load(inputfile)['test_data']\n",
    "with open(data_path + \"validation_data.json\", \"r\") as inputfile:\n",
    "    validation_data = json.load(inputfile)['validation_data']\n",
    "\n",
    "training_data_labels = create_labeled_classes(training_data, classification, workload)\n",
    "test_data_labels = create_labeled_classes(test_data, classification, workload)\n",
    "validation_data_labels = create_labeled_classes(validation_data, classification, workload)"
   ]
  },
  {
   "cell_type": "raw",
   "id": "7c6abda1-a3a2-4919-b701-d29380e05524",
   "metadata": {},
   "source": [
    "res = [0,0,0,0]\n",
    "for k in training_data_labels.values():\n",
    "    res[k.index(1)] += 1       \n",
    "print(res)"
   ]
  },
  {
   "cell_type": "markdown",
   "id": "f6cad830-e6c3-4c29-9ce6-0d6bec2794bc",
   "metadata": {},
   "source": [
    "## Lambeq optimizer"
   ]
  },
  {
   "cell_type": "raw",
   "id": "be555e95-e7aa-4f1b-bf4d-29acd66056b0",
   "metadata": {},
   "source": [
    "#all_circuits = list(training_circuits.values()) + list(test_circuits.values())\n",
    "\n",
    "training_circuits_l = []\n",
    "test_circuits_l = []\n",
    "validation_circuits_l = []\n",
    "\n",
    "training_data_labels_l = []\n",
    "test_data_labels_l = []\n",
    "validation_data_labels_l = []\n",
    "\n",
    "# Organize circuits and labels in correct order into two lists which will be input for training the model\n",
    "for key in training_data_labels:\n",
    "    training_circuits_l.append(training_circuits[key])\n",
    "    training_data_labels_l.append(training_data_labels[key])\n",
    "\n",
    "for key in test_data_labels:\n",
    "    test_circuits_l.append(test_circuits[key])\n",
    "    test_data_labels_l.append(test_data_labels[key])\n",
    "    \n",
    "for key in validation_data_labels:\n",
    "    validation_circuits_l.append(validation_circuits[key])\n",
    "    validation_data_labels_l.append(validation_data_labels[key])\n",
    "\n",
    "all_circuits = training_circuits_l + test_circuits_l + validation_circuits_l\n",
    "\n",
    "train_syms = set([sym for circuit in training_circuits.values() for sym in circuit.free_symbols])\n",
    "test_syms = set([sym for circuit in test_circuits.values() for sym in circuit.free_symbols])\n",
    "val_syms = set([sym for circuit in validation_circuits.values() for sym in circuit.free_symbols])\n",
    "\n",
    "print(\"Test circuits need to share training circuits' parameters. The parameters that are not covered (should be empty set, set()): \", test_syms.difference(train_syms))\n",
    "print(\"Validation circuits need to share training circuits' parameters. The parameters that are not covered (should be empty set, set()): \", val_syms.difference(train_syms))\n",
    "\n",
    "print(\"Total number of circuits: \", len(all_circuits))\n",
    "print(\"Total number of variables: \", len(train_syms))"
   ]
  },
  {
   "cell_type": "raw",
   "id": "ecd5daca-fdba-44fe-961d-5b9b9c3c68cb",
   "metadata": {},
   "source": [
    "training_data_labels_l = np.array(training_data_labels_l)\n",
    "test_data_labels_l = np.array(test_data_labels_l)\n",
    "validation_data_labels_l = np.array(validation_data_labels_l)"
   ]
  },
  {
   "cell_type": "markdown",
   "id": "572abfc1-cc81-4fdb-b8bb-6813fe658dd6",
   "metadata": {},
   "source": [
    "## Model"
   ]
  },
  {
   "cell_type": "raw",
   "id": "75f97a9a-c5fc-4d9b-920f-9eb0795ca018",
   "metadata": {},
   "source": [
    "parameters = sorted(\n",
    "    train_syms,\n",
    "    key=default_sort_key)\n",
    "\n",
    "rng = numpy.random.default_rng(SEED)\n",
    "init_params_spsa = np.array(rng.random(len(parameters)))\n",
    "numpy.random.seed(SEED)"
   ]
  },
  {
   "cell_type": "code",
   "execution_count": 5,
   "id": "04c65634-fa13-47b3-915c-83361d0e1baf",
   "metadata": {},
   "outputs": [],
   "source": [
    "def make_pred_fn(circuits):\n",
    "    # In the case we want to use other backends. \n",
    "    # Currently does not work properly.\n",
    "    if backend:\n",
    "        compiled_circuits1 = backend.get_compiled_circuits([c.to_tk() for c in circuits])\n",
    "        circuits = [Circuit.from_tk(c) for c in compiled_circuits1]\n",
    "        \n",
    "    circuit_fns = [c.lambdify(*parameters) for c in circuits]\n",
    "    \n",
    "    def predict(params):\n",
    "        outputs = Circuit.eval(*(c(*params) for c in circuit_fns), backend = backend)\n",
    "        res = []\n",
    "        \n",
    "        for output in outputs:\n",
    "            predictions = np.abs(output.array) + 1e-9\n",
    "            ratio = predictions / predictions.sum()\n",
    "            res.append(ratio)\n",
    "            \n",
    "        return np.array(res)\n",
    "    return predict"
   ]
  },
  {
   "cell_type": "markdown",
   "id": "868cf7e7-fcbf-4bad-b8bc-4ff0e6b29294",
   "metadata": {},
   "source": [
    "## Loss function and evaluation"
   ]
  },
  {
   "cell_type": "code",
   "execution_count": 6,
   "id": "f376b4aa-0ec6-4037-80eb-935aa75a2f74",
   "metadata": {},
   "outputs": [],
   "source": [
    "def make_cost_fn(pred_fn, labels):\n",
    "    def cost_fn(params, **kwargs):\n",
    "        predictions = pred_fn(params)\n",
    "\n",
    "        cost = loss(predictions, labels) #-np.sum(labels * np.log(predictions)) / len(labels)  # binary cross-entropy loss\n",
    "        costs.append(cost)\n",
    "\n",
    "        accuracy = acc(predictions, labels) #np.sum(np.round(predictions) == labels) / len(labels) / 2  # half due to double-counting\n",
    "        accuracies.append(accuracy)\n",
    "\n",
    "        return cost\n",
    "\n",
    "    costs, accuracies = [], []\n",
    "    return cost_fn, costs, accuracies"
   ]
  },
  {
   "cell_type": "markdown",
   "id": "a3bb6805-facb-4ec9-9c38-8d1df42022b2",
   "metadata": {},
   "source": [
    "## Minimization with noisyopt"
   ]
  },
  {
   "cell_type": "raw",
   "id": "53bc5cb8-8960-46d9-a64e-02b96fb97acc",
   "metadata": {},
   "source": [
    "EPOCHS = 1000\n",
    "SEED = 0\n",
    "\n",
    "# This avoids TracerArrayConversionError from jax\n",
    "Tensor.np = np\n",
    "\n",
    "rng = numpy.random.default_rng(SEED)\n",
    "init_params_spsa = np.array(rng.random(len(parameters)))\n",
    "numpy.random.seed(SEED)\n",
    "\n",
    "train_cost_fn, train_costs, train_accs = make_cost_fn(train_pred_fn, training_data_labels_l)\n",
    "dev_cost_fn, dev_costs, dev_accs = make_cost_fn(dev_pred_fn, validation_data_labels_l)\n",
    "\n",
    "def callback_fn(xk):\n",
    "    valid_loss = dev_cost_fn(xk)\n",
    "    train_loss = round(train_costs[-1], 4)\n",
    "    train_acc = round(train_accs[-1], 4)\n",
    "    valid_acc = round(dev_accs[-1], 4)\n",
    "    iters = int(len(train_accs)/2)\n",
    "    if iters % 100 == 0:\n",
    "        print(\n",
    "                #f\"Params = {xk}, \"\n",
    "                f\"Epoch: {iters}   \",\n",
    "                f\"train/loss: {train_loss}   \",\n",
    "                f\"valid/loss: {round(valid_loss, 4)}   \",\n",
    "                f\"train/acc: {train_acc}   \",\n",
    "                f\"valid/acc: {valid_acc}\"\n",
    "            )\n",
    "    return valid_loss"
   ]
  },
  {
   "cell_type": "raw",
   "id": "cc202031-11f7-4307-96de-8c642d65ce4d",
   "metadata": {},
   "source": [
    "#a_values = [100.0, 10.0, 1.0, 0.1, 0.01, 0.001, 0.0001, 0.00001, 0.000001]\n",
    "#c_values = [100.0, 10.0, 1.0, 0.1, 0.01, 0.001, 0.0001, 0.00001, 0.000001]\n",
    "\n",
    "#a_values = [0.001, 0.005, 0.01, 0.015, 0.02, 0.025, 0.03]\n",
    "#c_values = [0.001, 0.005, 0.01, 0.015, 0.02, 0.025, 0.03]\n",
    "\n",
    "run = 6\n",
    "#a_values = [0.0055, 0.0054, 0.0052, 0.005, 0.0048, 0.0045, 0.004]\n",
    "#c_values = [0.012, 0.016, 0.018, 0.02, 0.022, 0.025, 0.03]\n",
    "\n",
    "#a_values = [0.0053, 0.0054, 0.0055, 0.0056, 0.0057]\n",
    "#c_values = [0.017, 0.0175, 0.018, 0.0185, 0.019]\n",
    "\n",
    "a_values = [0.0052, 0.00525, 0.0053, 0.00535, 0.0054]\n",
    "c_values = [0.0183, 0.0184, 0.0185, 0.0186, 0.0187] \n",
    "\n",
    "for i, a_value in enumerate(a_values):\n",
    "    for j, c_value in enumerate(c_values):\n",
    "        train_cost_fn, train_costs, train_accs = make_cost_fn(train_pred_fn, training_data_labels_l)\n",
    "        dev_cost_fn, dev_costs, dev_accs = make_cost_fn(dev_pred_fn, validation_data_labels_l)\n",
    "        \n",
    "        result = minimizeSPSA(train_cost_fn, x0=init_params_spsa, a = a_value, c = c_value, niter=EPOCHS, callback=callback_fn)"
   ]
  },
  {
   "cell_type": "code",
   "execution_count": 7,
   "id": "85b70bae-fe88-4852-a423-658641380e57",
   "metadata": {},
   "outputs": [],
   "source": [
    "def initialize_parameters(old_params, old_values, new_params):\n",
    "    new_values = list(numpy.array(rng.random(len(new_params))))\n",
    "    old_param_dict = {}\n",
    "    for p, v in zip(old_params, old_values):\n",
    "        old_param_dict[p] = v\n",
    "        \n",
    "    parameters = sorted(set(old_params + new_params), key=default_sort_key)\n",
    "    values = []\n",
    "    for p in parameters:\n",
    "        if p in old_param_dict:\n",
    "            values.append(old_param_dict[p])\n",
    "        else:\n",
    "            values.append(new_values.pop())\n",
    "            \n",
    "    return parameters, np.array(values)"
   ]
  },
  {
   "cell_type": "code",
   "execution_count": 8,
   "id": "4dd1d87d-047d-4feb-9dbc-c972bbabf741",
   "metadata": {},
   "outputs": [
    {
     "name": "stdout",
     "output_type": "stream",
     "text": [
      "Loading parameters from file execution_time_main_noisyopt_2_1_3\n"
     ]
    }
   ],
   "source": [
    "EPOCHS = 4000\n",
    "initial_number_of_circuits = 168\n",
    "syms = {}\n",
    "limit = False\n",
    "all_training_keys = list(training_circuits.keys())\n",
    "initial_circuit_keys = all_training_keys[:initial_number_of_circuits + 1]\n",
    "current_training_circuits = {}\n",
    "result_file = workload + \"_\" + workload_size + \"_noisyopt_\" + str(classification) + \"_\" + str(layers) + \"_\" + str(single_qubit_params)\n",
    "\n",
    "for k in initial_circuit_keys:\n",
    "    current_training_circuits[k] = training_circuits[k]\n",
    "    \n",
    "syms = get_symbols(current_training_circuits)\n",
    "parameters = sorted(syms, key=default_sort_key)\n",
    "if initial_number_of_circuits > 5 and os.path.exists(\"points//\" + result_file + \".npz\"):\n",
    "    with open(\"points//\" + result_file + \".npz\", \"rb\") as f:\n",
    "        print(\"Loading parameters from file \" + result_file)\n",
    "        npzfile = np.load(f)\n",
    "        init_params_spsa = npzfile['arr_0']\n",
    "else:\n",
    "    print(\"Initializing new parameters\")\n",
    "    init_params_spsa = np.array(rng.random(len(parameters)))\n",
    "result = None\n",
    "run = 0"
   ]
  },
  {
   "cell_type": "code",
   "execution_count": null,
   "id": "52d19610-d096-4de1-b1b9-63aef886e632",
   "metadata": {},
   "outputs": [
    {
     "name": "stdout",
     "output_type": "stream",
     "text": [
      "Progress:  0.375\n",
      "Number of training circuits: 168   Number of validation circuits: 111   Number of test circuits: 110   Number of parameters in model: 264\n"
     ]
    },
    {
     "name": "stderr",
     "output_type": "stream",
     "text": [
      "Epoch: 200   train/loss: 52.2284   valid/loss: 37.8294   train/acc: 0.3988   valid/acc: 0.3063\n",
      "Epoch: 400   train/loss: 53.0095   valid/loss: 40.2038   train/acc: 0.381   valid/acc: 0.3063\n",
      "Epoch: 600   train/loss: 49.4527   valid/loss: 40.4333   train/acc: 0.4524   valid/acc: 0.3514\n",
      "Epoch: 800   train/loss: 49.7035   valid/loss: 39.3314   train/acc: 0.4524   valid/acc: 0.3243\n",
      "Epoch: 1000   train/loss: 49.3138   valid/loss: 39.7206   train/acc: 0.4583   valid/acc: 0.3243\n",
      "Epoch: 1200   train/loss: 48.1342   valid/loss: 39.033   train/acc: 0.4583   valid/acc: 0.2793\n",
      "Epoch: 1400   train/loss: 47.6037   valid/loss: 40.7025   train/acc: 0.4643   valid/acc: 0.3063\n",
      "Epoch: 1600   train/loss: 46.1856   valid/loss: 40.6285   train/acc: 0.5179   valid/acc: 0.3604\n",
      "Epoch: 1800   train/loss: 44.7901   valid/loss: 41.4221   train/acc: 0.5595   valid/acc: 0.3333\n",
      "Epoch: 2000   train/loss: 44.2191   valid/loss: 40.9381   train/acc: 0.5119   valid/acc: 0.3333\n",
      "Epoch: 2200   train/loss: 44.0839   valid/loss: 40.4086   train/acc: 0.5417   valid/acc: 0.3514\n",
      "Epoch: 2400   train/loss: 42.6925   valid/loss: 39.2579   train/acc: 0.5714   valid/acc: 0.3063\n",
      "Epoch: 2600   train/loss: 43.5989   valid/loss: 40.5826   train/acc: 0.5595   valid/acc: 0.3333\n",
      "Epoch: 2800   train/loss: 42.6707   valid/loss: 40.7277   train/acc: 0.5595   valid/acc: 0.3243\n",
      "Epoch: 3000   train/loss: 42.7874   valid/loss: 40.365   train/acc: 0.5655   valid/acc: 0.3333\n",
      "Epoch: 3200   train/loss: 41.8268   valid/loss: 39.6951   train/acc: 0.5774   valid/acc: 0.3243\n",
      "Epoch: 3400   train/loss: 42.3056   valid/loss: 40.8657   train/acc: 0.5655   valid/acc: 0.3423\n",
      "Epoch: 3600   train/loss: 41.645   valid/loss: 40.5514   train/acc: 0.5655   valid/acc: 0.3243\n",
      "Epoch: 3800   train/loss: 40.9436   valid/loss: 40.3425   train/acc: 0.5476   valid/acc: 0.3333\n",
      "Epoch: 4000   train/loss: 41.1536   valid/loss: 41.5323   train/acc: 0.5595   valid/acc: 0.3243\n"
     ]
    },
    {
     "name": "stdout",
     "output_type": "stream",
     "text": [
      "Test accuracy: 0.4090909090909091\n",
      "Progress:  0.377\n",
      "Number of training circuits: 169   Number of validation circuits: 111   Number of test circuits: 110   Number of parameters in model: 264\n"
     ]
    },
    {
     "name": "stderr",
     "output_type": "stream",
     "text": [
      "Epoch: 200   train/loss: 53.5107   valid/loss: 39.3074   train/acc: 0.4024   valid/acc: 0.2973\n",
      "Epoch: 400   train/loss: 48.8404   valid/loss: 37.7051   train/acc: 0.4142   valid/acc: 0.2883\n",
      "Epoch: 600   train/loss: 47.091   valid/loss: 37.664   train/acc: 0.3905   valid/acc: 0.2973\n",
      "Epoch: 800   train/loss: 46.6581   valid/loss: 37.4524   train/acc: 0.4024   valid/acc: 0.3153\n",
      "Epoch: 1000   train/loss: 45.983   valid/loss: 37.8195   train/acc: 0.3964   valid/acc: 0.2883\n",
      "Epoch: 1200   train/loss: 45.3185   valid/loss: 37.6833   train/acc: 0.4083   valid/acc: 0.3243\n",
      "Epoch: 1400   train/loss: 44.713   valid/loss: 37.893   train/acc: 0.426   valid/acc: 0.3243\n",
      "Epoch: 1600   train/loss: 43.8917   valid/loss: 37.5794   train/acc: 0.4379   valid/acc: 0.3604\n",
      "Epoch: 1800   train/loss: 43.5141   valid/loss: 37.3498   train/acc: 0.432   valid/acc: 0.3784\n",
      "Epoch: 2000   train/loss: 43.2417   valid/loss: 37.3071   train/acc: 0.4438   valid/acc: 0.3694\n",
      "Epoch: 2200   train/loss: 42.6254   valid/loss: 38.3165   train/acc: 0.4793   valid/acc: 0.3784\n",
      "Epoch: 2400   train/loss: 42.737   valid/loss: 38.2008   train/acc: 0.4615   valid/acc: 0.3604\n",
      "Epoch: 2600   train/loss: 42.667   valid/loss: 37.9152   train/acc: 0.4438   valid/acc: 0.3514\n",
      "Epoch: 2800   train/loss: 42.454   valid/loss: 38.5529   train/acc: 0.4911   valid/acc: 0.3874\n",
      "Epoch: 3000   train/loss: 42.6558   valid/loss: 38.8307   train/acc: 0.4438   valid/acc: 0.3874\n",
      "Epoch: 3200   train/loss: 41.5348   valid/loss: 39.474   train/acc: 0.4793   valid/acc: 0.3964\n",
      "Epoch: 3400   train/loss: 41.7116   valid/loss: 38.9973   train/acc: 0.4734   valid/acc: 0.3874\n",
      "Epoch: 3600   train/loss: 42.2097   valid/loss: 38.9257   train/acc: 0.4615   valid/acc: 0.3874\n",
      "Epoch: 3800   train/loss: 42.4565   valid/loss: 39.0009   train/acc: 0.426   valid/acc: 0.3784\n",
      "Epoch: 4000   train/loss: 42.3957   valid/loss: 39.1335   train/acc: 0.4793   valid/acc: 0.3694\n"
     ]
    },
    {
     "name": "stdout",
     "output_type": "stream",
     "text": [
      "Test accuracy: 0.5454545454545454\n",
      "Progress:  0.379\n",
      "Number of training circuits: 170   Number of validation circuits: 111   Number of test circuits: 110   Number of parameters in model: 264\n"
     ]
    },
    {
     "name": "stderr",
     "output_type": "stream",
     "text": [
      "Epoch: 200   train/loss: 53.2172   valid/loss: 40.5718   train/acc: 0.4   valid/acc: 0.3063\n",
      "Epoch: 400   train/loss: 50.7595   valid/loss: 39.3886   train/acc: 0.3647   valid/acc: 0.3514\n",
      "Epoch: 600   train/loss: 49.0651   valid/loss: 38.7148   train/acc: 0.3412   valid/acc: 0.2793\n",
      "Epoch: 800   train/loss: 47.5225   valid/loss: 39.6758   train/acc: 0.3941   valid/acc: 0.2703\n",
      "Epoch: 1000   train/loss: 46.6021   valid/loss: 39.1985   train/acc: 0.4412   valid/acc: 0.2793\n",
      "Epoch: 1200   train/loss: 46.0907   valid/loss: 40.7779   train/acc: 0.4353   valid/acc: 0.2703\n",
      "Epoch: 1400   train/loss: 45.0687   valid/loss: 40.7267   train/acc: 0.4588   valid/acc: 0.3063\n",
      "Epoch: 1600   train/loss: 44.3784   valid/loss: 41.3981   train/acc: 0.4647   valid/acc: 0.3063\n",
      "Epoch: 1800   train/loss: 43.6063   valid/loss: 41.6808   train/acc: 0.4588   valid/acc: 0.3423\n",
      "Epoch: 2000   train/loss: 43.889   valid/loss: 42.5082   train/acc: 0.4824   valid/acc: 0.3063\n",
      "Epoch: 2200   train/loss: 42.704   valid/loss: 42.3442   train/acc: 0.4941   valid/acc: 0.2973\n",
      "Epoch: 2400   train/loss: 41.7395   valid/loss: 42.4312   train/acc: 0.4882   valid/acc: 0.3333\n",
      "Epoch: 2600   train/loss: 42.1027   valid/loss: 42.9144   train/acc: 0.5   valid/acc: 0.3333\n",
      "Epoch: 2800   train/loss: 41.4518   valid/loss: 43.5897   train/acc: 0.5   valid/acc: 0.2973\n",
      "Epoch: 3000   train/loss: 41.2169   valid/loss: 42.918   train/acc: 0.5353   valid/acc: 0.2793\n",
      "Epoch: 3200   train/loss: 40.0769   valid/loss: 44.5592   train/acc: 0.5118   valid/acc: 0.3153\n",
      "Epoch: 3400   train/loss: 40.1353   valid/loss: 44.4533   train/acc: 0.5471   valid/acc: 0.3243\n",
      "Epoch: 3600   train/loss: 39.5282   valid/loss: 43.8804   train/acc: 0.5529   valid/acc: 0.3243\n",
      "Epoch: 3800   train/loss: 39.3861   valid/loss: 45.0966   train/acc: 0.6   valid/acc: 0.3333\n",
      "Epoch: 4000   train/loss: 39.689   valid/loss: 45.5897   train/acc: 0.5941   valid/acc: 0.3333\n"
     ]
    },
    {
     "name": "stdout",
     "output_type": "stream",
     "text": [
      "Test accuracy: 0.4090909090909091\n",
      "Progress:  0.382\n",
      "Number of training circuits: 171   Number of validation circuits: 111   Number of test circuits: 110   Number of parameters in model: 264\n"
     ]
    },
    {
     "name": "stderr",
     "output_type": "stream",
     "text": [
      "Epoch: 200   train/loss: 58.4496   valid/loss: 38.6225   train/acc: 0.2632   valid/acc: 0.3063\n",
      "Epoch: 400   train/loss: 52.2664   valid/loss: 39.8413   train/acc: 0.4444   valid/acc: 0.3153\n",
      "Epoch: 600   train/loss: 52.2113   valid/loss: 38.0199   train/acc: 0.3567   valid/acc: 0.3604\n",
      "Epoch: 800   train/loss: 49.4253   valid/loss: 38.2725   train/acc: 0.3977   valid/acc: 0.3604\n",
      "Epoch: 1000   train/loss: 46.6175   valid/loss: 39.1246   train/acc: 0.4561   valid/acc: 0.3514\n",
      "Epoch: 1200   train/loss: 45.5335   valid/loss: 39.0373   train/acc: 0.4678   valid/acc: 0.3063\n",
      "Epoch: 1400   train/loss: 44.9064   valid/loss: 39.3731   train/acc: 0.5088   valid/acc: 0.3153\n",
      "Epoch: 1600   train/loss: 44.078   valid/loss: 39.6876   train/acc: 0.5263   valid/acc: 0.3243\n",
      "Epoch: 1800   train/loss: 44.8953   valid/loss: 40.2485   train/acc: 0.5088   valid/acc: 0.3063\n",
      "Epoch: 2000   train/loss: 43.2782   valid/loss: 39.0025   train/acc: 0.5322   valid/acc: 0.3333\n",
      "Epoch: 2200   train/loss: 43.5013   valid/loss: 39.1852   train/acc: 0.5146   valid/acc: 0.3063\n",
      "Epoch: 2400   train/loss: 41.7997   valid/loss: 40.3921   train/acc: 0.5263   valid/acc: 0.2973\n",
      "Epoch: 2600   train/loss: 42.3884   valid/loss: 39.9712   train/acc: 0.5322   valid/acc: 0.3063\n",
      "Epoch: 2800   train/loss: 42.6866   valid/loss: 41.1072   train/acc: 0.5322   valid/acc: 0.3063\n",
      "Epoch: 3000   train/loss: 41.8057   valid/loss: 41.5777   train/acc: 0.5263   valid/acc: 0.3153\n",
      "Epoch: 3200   train/loss: 39.7919   valid/loss: 41.7357   train/acc: 0.5965   valid/acc: 0.3243\n",
      "Epoch: 3400   train/loss: 39.9605   valid/loss: 43.006   train/acc: 0.5556   valid/acc: 0.3243\n",
      "Epoch: 3600   train/loss: 40.7363   valid/loss: 40.4047   train/acc: 0.5673   valid/acc: 0.3423\n",
      "Epoch: 3800   train/loss: 39.5334   valid/loss: 41.8089   train/acc: 0.5848   valid/acc: 0.3333\n",
      "Epoch: 4000   train/loss: 39.7669   valid/loss: 41.9529   train/acc: 0.6082   valid/acc: 0.3333\n"
     ]
    },
    {
     "name": "stdout",
     "output_type": "stream",
     "text": [
      "Test accuracy: 0.4818181818181818\n",
      "Progress:  0.384\n",
      "Number of training circuits: 172   Number of validation circuits: 111   Number of test circuits: 110   Number of parameters in model: 264\n"
     ]
    },
    {
     "name": "stderr",
     "output_type": "stream",
     "text": [
      "Epoch: 200   train/loss: 54.3941   valid/loss: 38.9241   train/acc: 0.3779   valid/acc: 0.3243\n",
      "Epoch: 400   train/loss: 49.1484   valid/loss: 38.4185   train/acc: 0.4535   valid/acc: 0.2793\n",
      "Epoch: 600   train/loss: 54.5466   valid/loss: 39.7645   train/acc: 0.4012   valid/acc: 0.3063\n",
      "Epoch: 800   train/loss: 50.5512   valid/loss: 39.3489   train/acc: 0.4593   valid/acc: 0.3423\n",
      "Epoch: 1000   train/loss: 48.1375   valid/loss: 41.0543   train/acc: 0.5058   valid/acc: 0.2703\n",
      "Epoch: 1200   train/loss: 46.781   valid/loss: 42.3803   train/acc: 0.5   valid/acc: 0.2793\n",
      "Epoch: 1400   train/loss: 45.932   valid/loss: 41.6667   train/acc: 0.5291   valid/acc: 0.2883\n",
      "Epoch: 1600   train/loss: 45.2967   valid/loss: 40.786   train/acc: 0.5233   valid/acc: 0.2883\n",
      "Epoch: 1800   train/loss: 44.7565   valid/loss: 40.3718   train/acc: 0.5233   valid/acc: 0.2973\n",
      "Epoch: 2000   train/loss: 44.5391   valid/loss: 41.4933   train/acc: 0.5465   valid/acc: 0.2973\n",
      "Epoch: 2200   train/loss: 43.5834   valid/loss: 43.1118   train/acc: 0.5523   valid/acc: 0.3063\n",
      "Epoch: 2400   train/loss: 42.4232   valid/loss: 42.1784   train/acc: 0.5814   valid/acc: 0.3153\n",
      "Epoch: 2600   train/loss: 42.9484   valid/loss: 42.0173   train/acc: 0.5698   valid/acc: 0.3153\n",
      "Epoch: 2800   train/loss: 42.8889   valid/loss: 42.3136   train/acc: 0.564   valid/acc: 0.2973\n",
      "Epoch: 3000   train/loss: 42.2295   valid/loss: 41.865   train/acc: 0.564   valid/acc: 0.2883\n",
      "Epoch: 3200   train/loss: 41.6252   valid/loss: 42.1128   train/acc: 0.5756   valid/acc: 0.3063\n",
      "Epoch: 3400   train/loss: 41.4382   valid/loss: 43.5751   train/acc: 0.564   valid/acc: 0.3063\n",
      "Epoch: 3600   train/loss: 40.9088   valid/loss: 42.8564   train/acc: 0.5872   valid/acc: 0.3063\n",
      "Epoch: 3800   train/loss: 41.2131   valid/loss: 42.3785   train/acc: 0.5756   valid/acc: 0.2883\n",
      "Epoch: 4000   train/loss: 40.7729   valid/loss: 42.6412   train/acc: 0.5814   valid/acc: 0.2973\n"
     ]
    },
    {
     "name": "stdout",
     "output_type": "stream",
     "text": [
      "Test accuracy: 0.41818181818181815\n",
      "Progress:  0.386\n",
      "Number of training circuits: 173   Number of validation circuits: 111   Number of test circuits: 110   Number of parameters in model: 264\n"
     ]
    },
    {
     "name": "stderr",
     "output_type": "stream",
     "text": [
      "Epoch: 200   train/loss: 56.8275   valid/loss: 43.0395   train/acc: 0.3121   valid/acc: 0.2162\n",
      "Epoch: 400   train/loss: 50.5495   valid/loss: 41.1977   train/acc: 0.3584   valid/acc: 0.3333\n",
      "Epoch: 600   train/loss: 48.3117   valid/loss: 40.8782   train/acc: 0.341   valid/acc: 0.3514\n",
      "Epoch: 800   train/loss: 47.2773   valid/loss: 40.6364   train/acc: 0.3988   valid/acc: 0.3243\n",
      "Epoch: 1000   train/loss: 47.4543   valid/loss: 40.131   train/acc: 0.3815   valid/acc: 0.3604\n",
      "Epoch: 1200   train/loss: 45.1968   valid/loss: 40.2258   train/acc: 0.4335   valid/acc: 0.3604\n",
      "Epoch: 1400   train/loss: 44.7485   valid/loss: 39.8659   train/acc: 0.4277   valid/acc: 0.3604\n",
      "Epoch: 1600   train/loss: 44.4464   valid/loss: 40.3249   train/acc: 0.4451   valid/acc: 0.3153\n",
      "Epoch: 1800   train/loss: 44.0914   valid/loss: 40.8193   train/acc: 0.4335   valid/acc: 0.3423\n",
      "Epoch: 2000   train/loss: 43.7165   valid/loss: 40.3322   train/acc: 0.4566   valid/acc: 0.3423\n",
      "Epoch: 2200   train/loss: 44.1238   valid/loss: 41.4927   train/acc: 0.5087   valid/acc: 0.3604\n",
      "Epoch: 2400   train/loss: 43.584   valid/loss: 41.8823   train/acc: 0.4509   valid/acc: 0.3063\n",
      "Epoch: 2600   train/loss: 43.5585   valid/loss: 41.6999   train/acc: 0.4798   valid/acc: 0.3153\n",
      "Epoch: 2800   train/loss: 42.6222   valid/loss: 40.857   train/acc: 0.4798   valid/acc: 0.3333\n",
      "Epoch: 3000   train/loss: 42.4726   valid/loss: 42.2879   train/acc: 0.4682   valid/acc: 0.3604\n",
      "Epoch: 3200   train/loss: 41.7809   valid/loss: 43.5401   train/acc: 0.4913   valid/acc: 0.3333\n",
      "Epoch: 3400   train/loss: 41.4509   valid/loss: 44.601   train/acc: 0.5029   valid/acc: 0.3514\n",
      "Epoch: 3600   train/loss: 41.3414   valid/loss: 44.2114   train/acc: 0.5491   valid/acc: 0.3243\n",
      "Epoch: 3800   train/loss: 40.4881   valid/loss: 44.6129   train/acc: 0.5896   valid/acc: 0.3153\n",
      "Epoch: 4000   train/loss: 40.8101   valid/loss: 44.3185   train/acc: 0.5838   valid/acc: 0.3243\n"
     ]
    },
    {
     "name": "stdout",
     "output_type": "stream",
     "text": [
      "Test accuracy: 0.4090909090909091\n",
      "Progress:  0.388\n",
      "Number of training circuits: 174   Number of validation circuits: 111   Number of test circuits: 110   Number of parameters in model: 264\n"
     ]
    },
    {
     "name": "stderr",
     "output_type": "stream",
     "text": [
      "Epoch: 200   train/loss: 57.8788   valid/loss: 39.4279   train/acc: 0.2816   valid/acc: 0.2252\n",
      "Epoch: 400   train/loss: 55.2955   valid/loss: 40.0675   train/acc: 0.3218   valid/acc: 0.2432\n",
      "Epoch: 600   train/loss: 53.4024   valid/loss: 39.6739   train/acc: 0.3563   valid/acc: 0.2432\n",
      "Epoch: 800   train/loss: 51.4379   valid/loss: 40.1502   train/acc: 0.4253   valid/acc: 0.2523\n",
      "Epoch: 1000   train/loss: 49.2193   valid/loss: 43.3082   train/acc: 0.454   valid/acc: 0.2703\n",
      "Epoch: 1200   train/loss: 47.3743   valid/loss: 42.6383   train/acc: 0.5   valid/acc: 0.2703\n",
      "Epoch: 1400   train/loss: 46.9457   valid/loss: 43.932   train/acc: 0.4828   valid/acc: 0.2703\n",
      "Epoch: 1600   train/loss: 45.6542   valid/loss: 43.2832   train/acc: 0.5057   valid/acc: 0.2883\n",
      "Epoch: 1800   train/loss: 44.7669   valid/loss: 42.9662   train/acc: 0.5057   valid/acc: 0.3153\n",
      "Epoch: 2000   train/loss: 43.4095   valid/loss: 42.6973   train/acc: 0.5402   valid/acc: 0.3694\n",
      "Epoch: 2200   train/loss: 43.2266   valid/loss: 43.5109   train/acc: 0.569   valid/acc: 0.3153\n",
      "Epoch: 2400   train/loss: 42.7777   valid/loss: 43.8003   train/acc: 0.5345   valid/acc: 0.3243\n",
      "Epoch: 2600   train/loss: 42.7935   valid/loss: 45.0902   train/acc: 0.5632   valid/acc: 0.3153\n",
      "Epoch: 2800   train/loss: 41.5437   valid/loss: 44.1424   train/acc: 0.5632   valid/acc: 0.3063\n",
      "Epoch: 3000   train/loss: 41.9706   valid/loss: 44.7462   train/acc: 0.6034   valid/acc: 0.3153\n",
      "Epoch: 3200   train/loss: 41.658   valid/loss: 45.2953   train/acc: 0.592   valid/acc: 0.3063\n",
      "Epoch: 3400   train/loss: 42.1567   valid/loss: 44.5086   train/acc: 0.5517   valid/acc: 0.3063\n",
      "Epoch: 3600   train/loss: 41.2146   valid/loss: 46.4   train/acc: 0.5977   valid/acc: 0.3153\n",
      "Epoch: 3800   train/loss: 40.8319   valid/loss: 45.9829   train/acc: 0.592   valid/acc: 0.3243\n",
      "Epoch: 4000   train/loss: 39.9691   valid/loss: 45.8788   train/acc: 0.6034   valid/acc: 0.3153\n"
     ]
    },
    {
     "name": "stdout",
     "output_type": "stream",
     "text": [
      "Test accuracy: 0.41818181818181815\n",
      "Progress:  0.391\n",
      "Number of training circuits: 175   Number of validation circuits: 111   Number of test circuits: 110   Number of parameters in model: 264\n"
     ]
    },
    {
     "name": "stderr",
     "output_type": "stream",
     "text": [
      "Epoch: 200   train/loss: 59.3921   valid/loss: 38.0826   train/acc: 0.2514   valid/acc: 0.3604\n",
      "Epoch: 400   train/loss: 53.4476   valid/loss: 38.4355   train/acc: 0.4171   valid/acc: 0.2793\n",
      "Epoch: 600   train/loss: 54.4623   valid/loss: 39.3573   train/acc: 0.4343   valid/acc: 0.2883\n",
      "Epoch: 800   train/loss: 50.3712   valid/loss: 40.6569   train/acc: 0.4229   valid/acc: 0.2793\n",
      "Epoch: 1000   train/loss: 48.2538   valid/loss: 41.2862   train/acc: 0.5029   valid/acc: 0.3063\n",
      "Epoch: 1200   train/loss: 47.1222   valid/loss: 43.1305   train/acc: 0.4686   valid/acc: 0.2793\n",
      "Epoch: 1400   train/loss: 45.9809   valid/loss: 43.2298   train/acc: 0.5429   valid/acc: 0.2973\n",
      "Epoch: 1600   train/loss: 44.9644   valid/loss: 40.9954   train/acc: 0.5829   valid/acc: 0.2973\n",
      "Epoch: 1800   train/loss: 43.7024   valid/loss: 43.6181   train/acc: 0.6171   valid/acc: 0.3063\n",
      "Epoch: 2000   train/loss: 43.3229   valid/loss: 44.5376   train/acc: 0.6057   valid/acc: 0.3243\n",
      "Epoch: 2200   train/loss: 42.7162   valid/loss: 42.197   train/acc: 0.6057   valid/acc: 0.2973\n",
      "Epoch: 2400   train/loss: 42.7938   valid/loss: 42.8434   train/acc: 0.6   valid/acc: 0.3153\n",
      "Epoch: 2600   train/loss: 41.9862   valid/loss: 42.7047   train/acc: 0.6229   valid/acc: 0.3423\n",
      "Epoch: 2800   train/loss: 41.2504   valid/loss: 42.1904   train/acc: 0.5943   valid/acc: 0.3153\n",
      "Epoch: 3000   train/loss: 41.5056   valid/loss: 42.7774   train/acc: 0.6286   valid/acc: 0.3514\n",
      "Epoch: 3200   train/loss: 41.1306   valid/loss: 42.7492   train/acc: 0.6229   valid/acc: 0.3333\n",
      "Epoch: 3400   train/loss: 40.7732   valid/loss: 41.5275   train/acc: 0.6343   valid/acc: 0.3604\n",
      "Epoch: 3600   train/loss: 40.9794   valid/loss: 41.8921   train/acc: 0.6286   valid/acc: 0.3604\n",
      "Epoch: 3800   train/loss: 40.4493   valid/loss: 42.0215   train/acc: 0.6229   valid/acc: 0.3784\n",
      "Epoch: 4000   train/loss: 40.493   valid/loss: 41.3553   train/acc: 0.6343   valid/acc: 0.3604\n"
     ]
    },
    {
     "name": "stdout",
     "output_type": "stream",
     "text": [
      "Test accuracy: 0.4818181818181818\n",
      "Progress:  0.393\n",
      "Number of training circuits: 176   Number of validation circuits: 113   Number of test circuits: 111   Number of parameters in model: 267\n"
     ]
    }
   ],
   "source": [
    "for i, key in enumerate(all_training_keys[initial_number_of_circuits:]):\n",
    "    print(\"Progress: \", round((i + initial_number_of_circuits)/len(all_training_keys), 3))\n",
    "    \n",
    "    if len(syms) == len(get_symbols(current_training_circuits)) and i > 0:\n",
    "        if i != len(all_training_keys[1:]):\n",
    "            current_training_circuits[key] = training_circuits[key]\n",
    "            new_parameters = sorted(get_symbols({key: training_circuits[key]}), key=default_sort_key)\n",
    "            if result:\n",
    "                parameters, init_params_spsa = initialize_parameters(parameters, result.x, new_parameters)\n",
    "                #continue\n",
    "            else:\n",
    "                syms = get_symbols(current_training_circuits)\n",
    "                parameters = sorted(syms, key=default_sort_key)\n",
    "                init_params_spsa = np.array(rng.random(len(parameters)))\n",
    "    else:\n",
    "        run += 1\n",
    "    \n",
    "    # Select those circuits from test and validation circuits which share the parameters with the current training circuits\n",
    "    current_validation_circuits = select_circuits(current_training_circuits, validation_circuits)\n",
    "    current_test_circuits = select_circuits(current_training_circuits, test_circuits)\n",
    "    \n",
    "    if len(current_validation_circuits) == 0 or len(current_test_circuits) == 0:\n",
    "        continue\n",
    "    \n",
    "    # Create lists with circuits and their corresponding label\n",
    "    training_circuits_l, training_data_labels_l = construct_data_and_labels(current_training_circuits, training_data_labels)\n",
    "    validation_circuits_l, validation_data_labels_l = construct_data_and_labels(current_validation_circuits, validation_data_labels)\n",
    "    test_circuits_l, test_data_labels_l = construct_data_and_labels(current_test_circuits, test_data_labels)\n",
    "    \n",
    "    # Limit the number of validation and test circuits to 20% of number of the training circuits\n",
    "    if limit:\n",
    "        val_test_circ_size = ceil(len(current_training_circuits))\n",
    "        if len(current_validation_circuits) > val_test_circ_size:\n",
    "            validation_circuits_l = validation_circuits_l[:val_test_circ_size]\n",
    "            validation_data_labels_l = validation_data_labels_l[:val_test_circ_size]\n",
    "        if len(current_test_circuits) > val_test_circ_size:\n",
    "            test_circuits_l = test_circuits_l[:val_test_circ_size]\n",
    "            test_data_labels_l = test_data_labels_l[:val_test_circ_size]\n",
    "    \n",
    "    stats = f\"Number of training circuits: {len(training_circuits_l)}   \"\\\n",
    "        + f\"Number of validation circuits: {len(validation_circuits_l)}   \"\\\n",
    "        + f\"Number of test circuits: {len(test_circuits_l)}   \"\\\n",
    "        + f\"Number of parameters in model: {len(set([sym for circuit in training_circuits_l for sym in circuit.free_symbols]))}\"\n",
    "    \n",
    "    with open(\"results//\" + result_file + \".txt\", \"a\") as f:\n",
    "        f.write(stats + \"\\n\")\n",
    "    \n",
    "    print(stats)\n",
    "    \n",
    "    train_pred_fn = jit(make_pred_fn(training_circuits_l))\n",
    "    dev_pred_fn = jit(make_pred_fn(validation_circuits_l))\n",
    "    test_pred_fn = make_pred_fn(test_circuits_l)\n",
    "    \n",
    "    train_cost_fn, train_costs, train_accs = make_cost_fn(train_pred_fn, training_data_labels_l)\n",
    "    dev_cost_fn, dev_costs, dev_accs = make_cost_fn(dev_pred_fn, validation_data_labels_l)\n",
    "    \n",
    "    def callback_fn(xk):\n",
    "        #print(xk)\n",
    "        valid_loss = dev_cost_fn(xk)\n",
    "        train_loss = numpy.around(min(float(train_costs[-1]), float(train_costs[-2])), 4)\n",
    "        train_acc = numpy.around(min(float(train_accs[-1]), float(train_accs[-2])), 4)\n",
    "        valid_acc = numpy.around(float(dev_accs[-1]), 4)\n",
    "        iters = int(len(train_accs)/2)\n",
    "        if iters % 200 == 0:\n",
    "            info = f\"Epoch: {iters}   \"\\\n",
    "            + f\"train/loss: {train_loss}   \"\\\n",
    "            + f\"valid/loss: {numpy.around(float(valid_loss), 4)}   \"\\\n",
    "            + f\"train/acc: {train_acc}   \"\\\n",
    "            + f\"valid/acc: {valid_acc}\"\n",
    "        \n",
    "            with open(\"results//\" + result_file + \".txt\", \"a\") as f:\n",
    "                f.write(info + \"\\n\")\n",
    "                \n",
    "            print(info, file=sys.stderr)\n",
    "        return valid_loss\n",
    "    \n",
    "    a_value = 0.0053\n",
    "    c_value = 0.0185\n",
    "            \n",
    "    train_cost_fn, train_costs, train_accs = make_cost_fn(train_pred_fn, training_data_labels_l)\n",
    "    dev_cost_fn, dev_costs, dev_accs = make_cost_fn(dev_pred_fn, validation_data_labels_l)\n",
    "\n",
    "    result = minimizeSPSA(train_cost_fn, x0=init_params_spsa, a = a_value, c = c_value, niter=EPOCHS, callback=callback_fn)\n",
    "    #result = minimizeCompass(train_cost_fn, x0=init_params_spsa, redfactor=2.0, deltainit=1.0, deltatol=0.001, feps=1e-15, errorcontrol=True, funcNinit=30, funcmultfactor=2.0, paired=True, alpha=0.05, callback=callback_fn)\n",
    "\n",
    "    figure_path = this_folder + \"//results//\" + result_file + \".png\"\n",
    "    visualize_result_noisyopt(result, make_cost_fn, test_pred_fn, test_data_labels_l, train_costs, train_accs, dev_costs, dev_accs, figure_path, result_file)\n",
    "    \n",
    "    run += 1\n",
    "    #EPOCHS += 100\n",
    "    syms = get_symbols(current_training_circuits)\n",
    "    \n",
    "    # Extend for the next optimization round\n",
    "    current_training_circuits[key] = training_circuits[key]\n",
    "    new_parameters = sorted(get_symbols({key: training_circuits[key]}), key=default_sort_key)\n",
    "    parameters, init_params_spsa = initialize_parameters(parameters, result.x, new_parameters)"
   ]
  }
 ],
 "metadata": {
  "kernelspec": {
   "display_name": "Python 3 (ipykernel)",
   "language": "python",
   "name": "python3"
  },
  "language_info": {
   "codemirror_mode": {
    "name": "ipython",
    "version": 3
   },
   "file_extension": ".py",
   "mimetype": "text/x-python",
   "name": "python",
   "nbconvert_exporter": "python",
   "pygments_lexer": "ipython3",
   "version": "3.8.10"
  }
 },
 "nbformat": 4,
 "nbformat_minor": 5
}
