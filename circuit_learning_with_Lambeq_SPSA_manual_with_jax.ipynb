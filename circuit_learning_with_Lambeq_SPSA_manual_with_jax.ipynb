{
 "cells": [
  {
   "cell_type": "markdown",
   "id": "b09952d6-99a3-41a5-865f-2170e9ee0247",
   "metadata": {},
   "source": [
    "# Circuit learning module: Lambeq manually with SPSA and JAX"
   ]
  },
  {
   "cell_type": "markdown",
   "id": "bb811fe4-d729-4a44-838d-9c02db4a644d",
   "metadata": {},
   "source": [
    "This module performs the optimization of the parametrized circuit manually compared to Lambeq's automatic QuantumTrainer class. I created this because I wanted to have more control over the optimization process and debug it better. The code is based on the workflow presented in https://github.com/CQCL/Quanthoven."
   ]
  },
  {
   "cell_type": "code",
   "execution_count": 1,
   "id": "c9a5783f-901a-4bfe-a622-4003b345fb1b",
   "metadata": {},
   "outputs": [],
   "source": [
    "import warnings\n",
    "import json\n",
    "import os\n",
    "import sys\n",
    "import glob\n",
    "from math import ceil\n",
    "from pathlib import Path\n",
    "from jax import numpy as np\n",
    "from sympy import default_sort_key\n",
    "import numpy\n",
    "import pickle\n",
    "import matplotlib.pyplot as plt\n",
    "\n",
    "import jax\n",
    "from jax import jit\n",
    "from noisyopt import minimizeSPSA, minimizeCompass\n",
    "\n",
    "from discopy.quantum import Circuit\n",
    "from discopy.tensor import Tensor\n",
    "from discopy.utils import loads\n",
    "#from pytket.extensions.qiskit import AerBackend\n",
    "#from pytket.extensions.qulacs import QulacsBackend\n",
    "#from pytket.extensions.cirq import CirqStateSampleBackend\n",
    "backend = None\n",
    "\n",
    "from utils import *\n",
    "from sklearn.metrics import accuracy_score, recall_score, precision_score, f1_score\n",
    "\n",
    "warnings.filterwarnings('ignore')\n",
    "this_folder = os.path.abspath(os.getcwd())\n",
    "os.environ['TOKENIZERS_PARALLELISM'] = 'true'\n",
    "#os.environ[\"JAX_PLATFORMS\"] = \"cpu\"\n",
    "\n",
    "SEED = 0\n",
    "\n",
    "# This avoids TracerArrayConversionError from jax\n",
    "Tensor.np = np\n",
    "\n",
    "rng = numpy.random.default_rng(SEED)\n",
    "numpy.random.seed(SEED)"
   ]
  },
  {
   "cell_type": "markdown",
   "id": "238fca40-5d8d-4ace-a65f-693885a8caf8",
   "metadata": {},
   "source": [
    "## Read circuit data"
   ]
  },
  {
   "cell_type": "markdown",
   "id": "7f6f00d7-b573-4c5d-a0d6-d5eafc54745e",
   "metadata": {},
   "source": [
    "We read the circuits from the pickled files. Select if we perform binary classification or multi-class classification. Give number of qubits to create classes:\n",
    "- 1 qubits -> 2^1 = 2 classes i.e. binary classification\n",
    "- 2 qubits -> 2^2 = 4 classes\n",
    "- ...\n",
    "- 5 qubits -> 2^5 = 32 classes, etc."
   ]
  },
  {
   "cell_type": "code",
   "execution_count": 2,
   "id": "01bac1f9-3bc0-4a25-8f4f-baa2b9c581e9",
   "metadata": {},
   "outputs": [],
   "source": [
    "# Select workload\n",
    "workload = \"execution_time\"\n",
    "#workload = \"cardinality\"\n",
    "\n",
    "# Select workload size\n",
    "#workload_size = \"small\"\n",
    "#workload_size = \"medium\"\n",
    "#workload_size = \"large\"\n",
    "workload_size = \"main\"\n",
    "\n",
    "classification = 2\n",
    "layers = 1\n",
    "single_qubit_params = 3\n",
    "n_wire_count = 1\n",
    "\n",
    "loss = multi_class_loss\n",
    "acc = multi_class_acc\n",
    "\n",
    "if classification == 1:\n",
    "    loss = bin_class_loss\n",
    "    acc = bin_class_acc\n",
    "\n",
    "# Access the selected circuits\n",
    "path_name = this_folder + \"//simplified-JOB-diagrams//\" + workload + \"//\" + workload_size + \"//circuits//\" + str(classification) + \"//\" + str(layers) + \"_layer//\" + str(single_qubit_params) + \"_single_qubit_params//\" + str(n_wire_count) + \"_n_wire_count//\"\n",
    "\n",
    "training_circuits_paths = glob.glob(path_name + \"training//[0-9]*.p\")\n",
    "validation_circuits_paths = glob.glob(path_name + \"validation//[0-9]*.p\")\n",
    "test_circuits_paths = glob.glob(path_name + \"test//[0-9]*.p\")"
   ]
  },
  {
   "cell_type": "code",
   "execution_count": 3,
   "id": "5ff0a551-444c-40a7-bf66-8e929bc49a64",
   "metadata": {},
   "outputs": [],
   "source": [
    "training_circuits = read_diagrams(training_circuits_paths)\n",
    "validation_circuits = read_diagrams(validation_circuits_paths)\n",
    "test_circuits = read_diagrams(test_circuits_paths)"
   ]
  },
  {
   "cell_type": "markdown",
   "id": "f2da3a7c-6a93-44e9-9640-7e9ead005cb2",
   "metadata": {},
   "source": [
    "## Read training and test data"
   ]
  },
  {
   "cell_type": "code",
   "execution_count": 4,
   "id": "774e9f52-69c9-4e1c-8a70-76e1198d12f4",
   "metadata": {},
   "outputs": [],
   "source": [
    "training_data, test_data, validation_data = None, None, None\n",
    "data_path = this_folder + \"//data//\" + workload + \"//\" + workload_size + \"//\"\n",
    "\n",
    "with open(data_path + \"training_data.json\", \"r\") as inputfile:\n",
    "    training_data = json.load(inputfile)['training_data']\n",
    "with open(data_path + \"test_data.json\", \"r\") as inputfile:\n",
    "    test_data = json.load(inputfile)['test_data']\n",
    "with open(data_path + \"validation_data.json\", \"r\") as inputfile:\n",
    "    validation_data = json.load(inputfile)['validation_data']\n",
    "\n",
    "training_data_labels = create_labeled_classes(training_data, classification, workload)\n",
    "test_data_labels = create_labeled_classes(test_data, classification, workload)\n",
    "validation_data_labels = create_labeled_classes(validation_data, classification, workload)"
   ]
  },
  {
   "cell_type": "raw",
   "id": "7c6abda1-a3a2-4919-b701-d29380e05524",
   "metadata": {},
   "source": [
    "res = [0,0,0,0]\n",
    "for k in training_data_labels.values():\n",
    "    res[k.index(1)] += 1       \n",
    "print(res)"
   ]
  },
  {
   "cell_type": "markdown",
   "id": "f6cad830-e6c3-4c29-9ce6-0d6bec2794bc",
   "metadata": {},
   "source": [
    "## Lambeq optimizer"
   ]
  },
  {
   "cell_type": "raw",
   "id": "be555e95-e7aa-4f1b-bf4d-29acd66056b0",
   "metadata": {},
   "source": [
    "#all_circuits = list(training_circuits.values()) + list(test_circuits.values())\n",
    "\n",
    "training_circuits_l = []\n",
    "test_circuits_l = []\n",
    "validation_circuits_l = []\n",
    "\n",
    "training_data_labels_l = []\n",
    "test_data_labels_l = []\n",
    "validation_data_labels_l = []\n",
    "\n",
    "# Organize circuits and labels in correct order into two lists which will be input for training the model\n",
    "for key in training_data_labels:\n",
    "    training_circuits_l.append(training_circuits[key])\n",
    "    training_data_labels_l.append(training_data_labels[key])\n",
    "\n",
    "for key in test_data_labels:\n",
    "    test_circuits_l.append(test_circuits[key])\n",
    "    test_data_labels_l.append(test_data_labels[key])\n",
    "    \n",
    "for key in validation_data_labels:\n",
    "    validation_circuits_l.append(validation_circuits[key])\n",
    "    validation_data_labels_l.append(validation_data_labels[key])\n",
    "\n",
    "all_circuits = training_circuits_l + test_circuits_l + validation_circuits_l\n",
    "\n",
    "train_syms = set([sym for circuit in training_circuits.values() for sym in circuit.free_symbols])\n",
    "test_syms = set([sym for circuit in test_circuits.values() for sym in circuit.free_symbols])\n",
    "val_syms = set([sym for circuit in validation_circuits.values() for sym in circuit.free_symbols])\n",
    "\n",
    "print(\"Test circuits need to share training circuits' parameters. The parameters that are not covered (should be empty set, set()): \", test_syms.difference(train_syms))\n",
    "print(\"Validation circuits need to share training circuits' parameters. The parameters that are not covered (should be empty set, set()): \", val_syms.difference(train_syms))\n",
    "\n",
    "print(\"Total number of circuits: \", len(all_circuits))\n",
    "print(\"Total number of variables: \", len(train_syms))"
   ]
  },
  {
   "cell_type": "raw",
   "id": "ecd5daca-fdba-44fe-961d-5b9b9c3c68cb",
   "metadata": {},
   "source": [
    "training_data_labels_l = np.array(training_data_labels_l)\n",
    "test_data_labels_l = np.array(test_data_labels_l)\n",
    "validation_data_labels_l = np.array(validation_data_labels_l)"
   ]
  },
  {
   "cell_type": "markdown",
   "id": "572abfc1-cc81-4fdb-b8bb-6813fe658dd6",
   "metadata": {},
   "source": [
    "## Model"
   ]
  },
  {
   "cell_type": "raw",
   "id": "75f97a9a-c5fc-4d9b-920f-9eb0795ca018",
   "metadata": {},
   "source": [
    "parameters = sorted(\n",
    "    train_syms,\n",
    "    key=default_sort_key)\n",
    "\n",
    "rng = numpy.random.default_rng(SEED)\n",
    "init_params_spsa = np.array(rng.random(len(parameters)))\n",
    "numpy.random.seed(SEED)"
   ]
  },
  {
   "cell_type": "code",
   "execution_count": 5,
   "id": "04c65634-fa13-47b3-915c-83361d0e1baf",
   "metadata": {},
   "outputs": [],
   "source": [
    "def make_pred_fn(circuits):\n",
    "    # In the case we want to use other backends. \n",
    "    # Currently does not work properly.\n",
    "    if backend:\n",
    "        compiled_circuits1 = backend.get_compiled_circuits([c.to_tk() for c in circuits])\n",
    "        circuits = [Circuit.from_tk(c) for c in compiled_circuits1]\n",
    "        \n",
    "    circuit_fns = [c.lambdify(*parameters) for c in circuits]\n",
    "    \n",
    "    def predict(params):\n",
    "        outputs = Circuit.eval(*(c(*params) for c in circuit_fns), backend = backend)\n",
    "        res = []\n",
    "        \n",
    "        for output in outputs:\n",
    "            predictions = np.abs(output.array) + 1e-9\n",
    "            ratio = predictions / predictions.sum()\n",
    "            res.append(ratio)\n",
    "            \n",
    "        return np.array(res)\n",
    "    return predict"
   ]
  },
  {
   "cell_type": "markdown",
   "id": "868cf7e7-fcbf-4bad-b8bc-4ff0e6b29294",
   "metadata": {},
   "source": [
    "## Loss function and evaluation"
   ]
  },
  {
   "cell_type": "code",
   "execution_count": 6,
   "id": "f376b4aa-0ec6-4037-80eb-935aa75a2f74",
   "metadata": {},
   "outputs": [],
   "source": [
    "def make_cost_fn(pred_fn, labels):\n",
    "    def cost_fn(params, **kwargs):\n",
    "        predictions = pred_fn(params)\n",
    "\n",
    "        cost = loss(predictions, labels) #-np.sum(labels * np.log(predictions)) / len(labels)  # binary cross-entropy loss\n",
    "        costs.append(cost)\n",
    "\n",
    "        accuracy = acc(predictions, labels) #np.sum(np.round(predictions) == labels) / len(labels) / 2  # half due to double-counting\n",
    "        accuracies.append(accuracy)\n",
    "\n",
    "        return cost\n",
    "\n",
    "    costs, accuracies = [], []\n",
    "    return cost_fn, costs, accuracies"
   ]
  },
  {
   "cell_type": "markdown",
   "id": "a3bb6805-facb-4ec9-9c38-8d1df42022b2",
   "metadata": {},
   "source": [
    "## Minimization with noisyopt"
   ]
  },
  {
   "cell_type": "raw",
   "id": "53bc5cb8-8960-46d9-a64e-02b96fb97acc",
   "metadata": {},
   "source": [
    "EPOCHS = 1000\n",
    "SEED = 0\n",
    "\n",
    "# This avoids TracerArrayConversionError from jax\n",
    "Tensor.np = np\n",
    "\n",
    "rng = numpy.random.default_rng(SEED)\n",
    "init_params_spsa = np.array(rng.random(len(parameters)))\n",
    "numpy.random.seed(SEED)\n",
    "\n",
    "train_cost_fn, train_costs, train_accs = make_cost_fn(train_pred_fn, training_data_labels_l)\n",
    "dev_cost_fn, dev_costs, dev_accs = make_cost_fn(dev_pred_fn, validation_data_labels_l)\n",
    "\n",
    "def callback_fn(xk):\n",
    "    valid_loss = dev_cost_fn(xk)\n",
    "    train_loss = round(train_costs[-1], 4)\n",
    "    train_acc = round(train_accs[-1], 4)\n",
    "    valid_acc = round(dev_accs[-1], 4)\n",
    "    iters = int(len(train_accs)/2)\n",
    "    if iters % 100 == 0:\n",
    "        print(\n",
    "                #f\"Params = {xk}, \"\n",
    "                f\"Epoch: {iters}   \",\n",
    "                f\"train/loss: {train_loss}   \",\n",
    "                f\"valid/loss: {round(valid_loss, 4)}   \",\n",
    "                f\"train/acc: {train_acc}   \",\n",
    "                f\"valid/acc: {valid_acc}\"\n",
    "            )\n",
    "    return valid_loss"
   ]
  },
  {
   "cell_type": "raw",
   "id": "cc202031-11f7-4307-96de-8c642d65ce4d",
   "metadata": {},
   "source": [
    "#a_values = [100.0, 10.0, 1.0, 0.1, 0.01, 0.001, 0.0001, 0.00001, 0.000001]\n",
    "#c_values = [100.0, 10.0, 1.0, 0.1, 0.01, 0.001, 0.0001, 0.00001, 0.000001]\n",
    "\n",
    "#a_values = [0.001, 0.005, 0.01, 0.015, 0.02, 0.025, 0.03]\n",
    "#c_values = [0.001, 0.005, 0.01, 0.015, 0.02, 0.025, 0.03]\n",
    "\n",
    "run = 6\n",
    "#a_values = [0.0055, 0.0054, 0.0052, 0.005, 0.0048, 0.0045, 0.004]\n",
    "#c_values = [0.012, 0.016, 0.018, 0.02, 0.022, 0.025, 0.03]\n",
    "\n",
    "#a_values = [0.0053, 0.0054, 0.0055, 0.0056, 0.0057]\n",
    "#c_values = [0.017, 0.0175, 0.018, 0.0185, 0.019]\n",
    "\n",
    "a_values = [0.0052, 0.00525, 0.0053, 0.00535, 0.0054]\n",
    "c_values = [0.0183, 0.0184, 0.0185, 0.0186, 0.0187] \n",
    "\n",
    "for i, a_value in enumerate(a_values):\n",
    "    for j, c_value in enumerate(c_values):\n",
    "        train_cost_fn, train_costs, train_accs = make_cost_fn(train_pred_fn, training_data_labels_l)\n",
    "        dev_cost_fn, dev_costs, dev_accs = make_cost_fn(dev_pred_fn, validation_data_labels_l)\n",
    "        \n",
    "        result = minimizeSPSA(train_cost_fn, x0=init_params_spsa, a = a_value, c = c_value, niter=EPOCHS, callback=callback_fn)"
   ]
  },
  {
   "cell_type": "code",
   "execution_count": 7,
   "id": "85b70bae-fe88-4852-a423-658641380e57",
   "metadata": {},
   "outputs": [],
   "source": [
    "def initialize_parameters(old_params, old_values, new_params):\n",
    "    new_values = list(numpy.array(rng.random(len(new_params))))\n",
    "    old_param_dict = {}\n",
    "    for p, v in zip(old_params, old_values):\n",
    "        old_param_dict[p] = v\n",
    "        \n",
    "    parameters = sorted(set(old_params + new_params), key=default_sort_key)\n",
    "    values = []\n",
    "    for p in parameters:\n",
    "        if p in old_param_dict:\n",
    "            values.append(old_param_dict[p])\n",
    "        else:\n",
    "            values.append(new_values.pop())\n",
    "            \n",
    "    return parameters, np.array(values)"
   ]
  },
  {
   "cell_type": "code",
   "execution_count": 8,
   "id": "4dd1d87d-047d-4feb-9dbc-c972bbabf741",
   "metadata": {},
   "outputs": [
    {
     "name": "stdout",
     "output_type": "stream",
     "text": [
      "Loading parameters from file execution_time_main_noisyopt_2_1_3\n"
     ]
    }
   ],
   "source": [
    "EPOCHS = 4000\n",
    "initial_number_of_circuits = 196\n",
    "syms = {}\n",
    "limit = False\n",
    "all_training_keys = list(training_circuits.keys())\n",
    "initial_circuit_keys = all_training_keys[:initial_number_of_circuits + 1]\n",
    "current_training_circuits = {}\n",
    "result_file = workload + \"_\" + workload_size + \"_noisyopt_\" + str(classification) + \"_\" + str(layers) + \"_\" + str(single_qubit_params)\n",
    "\n",
    "for k in initial_circuit_keys:\n",
    "    current_training_circuits[k] = training_circuits[k]\n",
    "    \n",
    "syms = get_symbols(current_training_circuits)\n",
    "parameters = sorted(syms, key=default_sort_key)\n",
    "if initial_number_of_circuits > 5 and os.path.exists(\"points//\" + result_file + \".npz\"):\n",
    "    with open(\"points//\" + result_file + \".npz\", \"rb\") as f:\n",
    "        print(\"Loading parameters from file \" + result_file)\n",
    "        npzfile = np.load(f)\n",
    "        init_params_spsa = npzfile['arr_0']\n",
    "else:\n",
    "    print(\"Initializing new parameters\")\n",
    "    init_params_spsa = np.array(rng.random(len(parameters)))\n",
    "result = None\n",
    "run = 0"
   ]
  },
  {
   "cell_type": "code",
   "execution_count": null,
   "id": "52d19610-d096-4de1-b1b9-63aef886e632",
   "metadata": {},
   "outputs": [
    {
     "name": "stdout",
     "output_type": "stream",
     "text": [
      "Progress:  0.438\n",
      "Number of training circuits: 196   Number of validation circuits: 113   Number of test circuits: 111   Number of parameters in model: 267\n"
     ]
    },
    {
     "name": "stderr",
     "output_type": "stream",
     "text": [
      "Epoch: 200   train/loss: 66.8903   valid/loss: 38.7929   train/acc: 0.2959   valid/acc: 0.3097\n",
      "Epoch: 400   train/loss: 63.1001   valid/loss: 39.0742   train/acc: 0.3469   valid/acc: 0.354\n",
      "Epoch: 600   train/loss: 61.93   valid/loss: 39.463   train/acc: 0.3163   valid/acc: 0.2478\n",
      "Epoch: 800   train/loss: 61.5026   valid/loss: 40.4259   train/acc: 0.3827   valid/acc: 0.3097\n",
      "Epoch: 1000   train/loss: 57.9727   valid/loss: 40.6657   train/acc: 0.4133   valid/acc: 0.3097\n",
      "Epoch: 1200   train/loss: 56.2942   valid/loss: 39.8684   train/acc: 0.4184   valid/acc: 0.2832\n",
      "Epoch: 1400   train/loss: 54.922   valid/loss: 41.8839   train/acc: 0.5   valid/acc: 0.3363\n",
      "Epoch: 1600   train/loss: 54.0102   valid/loss: 41.5122   train/acc: 0.4439   valid/acc: 0.354\n",
      "Epoch: 1800   train/loss: 54.1731   valid/loss: 41.7199   train/acc: 0.4796   valid/acc: 0.354\n",
      "Epoch: 2000   train/loss: 53.6623   valid/loss: 43.9395   train/acc: 0.4592   valid/acc: 0.3451\n",
      "Epoch: 2200   train/loss: 53.5466   valid/loss: 43.9426   train/acc: 0.4847   valid/acc: 0.3363\n",
      "Epoch: 2400   train/loss: 52.3292   valid/loss: 41.2717   train/acc: 0.5051   valid/acc: 0.2743\n",
      "Epoch: 2600   train/loss: 51.5185   valid/loss: 41.6892   train/acc: 0.5204   valid/acc: 0.2655\n",
      "Epoch: 2800   train/loss: 50.9049   valid/loss: 40.6839   train/acc: 0.5153   valid/acc: 0.2743\n",
      "Epoch: 3000   train/loss: 50.1358   valid/loss: 40.3438   train/acc: 0.551   valid/acc: 0.2832\n",
      "Epoch: 3200   train/loss: 49.2593   valid/loss: 40.7625   train/acc: 0.5357   valid/acc: 0.292\n",
      "Epoch: 3400   train/loss: 48.9364   valid/loss: 41.0585   train/acc: 0.551   valid/acc: 0.3009\n",
      "Epoch: 3600   train/loss: 47.9868   valid/loss: 40.549   train/acc: 0.5561   valid/acc: 0.3186\n",
      "Epoch: 3800   train/loss: 49.3614   valid/loss: 41.0264   train/acc: 0.551   valid/acc: 0.3363\n",
      "Epoch: 4000   train/loss: 48.0274   valid/loss: 41.7461   train/acc: 0.551   valid/acc: 0.3097\n"
     ]
    },
    {
     "name": "stdout",
     "output_type": "stream",
     "text": [
      "Test accuracy: 0.42342342342342343\n",
      "Progress:  0.44\n",
      "Number of training circuits: 197   Number of validation circuits: 113   Number of test circuits: 111   Number of parameters in model: 267\n"
     ]
    },
    {
     "name": "stderr",
     "output_type": "stream",
     "text": [
      "Epoch: 200   train/loss: 63.9076   valid/loss: 38.4543   train/acc: 0.3604   valid/acc: 0.3097\n",
      "Epoch: 400   train/loss: 66.7435   valid/loss: 41.0337   train/acc: 0.3249   valid/acc: 0.2566\n",
      "Epoch: 600   train/loss: 65.3227   valid/loss: 40.7874   train/acc: 0.2944   valid/acc: 0.2212\n",
      "Epoch: 800   train/loss: 59.0052   valid/loss: 41.0238   train/acc: 0.401   valid/acc: 0.3451\n",
      "Epoch: 1000   train/loss: 56.2989   valid/loss: 40.8654   train/acc: 0.4873   valid/acc: 0.3628\n",
      "Epoch: 1200   train/loss: 54.7871   valid/loss: 41.5348   train/acc: 0.4721   valid/acc: 0.354\n",
      "Epoch: 1400   train/loss: 52.6661   valid/loss: 41.6746   train/acc: 0.4924   valid/acc: 0.3363\n",
      "Epoch: 1600   train/loss: 50.4248   valid/loss: 40.087   train/acc: 0.5381   valid/acc: 0.3451\n",
      "Epoch: 1800   train/loss: 50.2782   valid/loss: 40.0424   train/acc: 0.5431   valid/acc: 0.3363\n",
      "Epoch: 2000   train/loss: 49.9365   valid/loss: 40.2114   train/acc: 0.5533   valid/acc: 0.3451\n",
      "Epoch: 2200   train/loss: 48.2623   valid/loss: 41.0408   train/acc: 0.5431   valid/acc: 0.3097\n",
      "Epoch: 2400   train/loss: 47.6767   valid/loss: 42.3535   train/acc: 0.5482   valid/acc: 0.3628\n",
      "Epoch: 2600   train/loss: 47.4878   valid/loss: 41.5665   train/acc: 0.5685   valid/acc: 0.3628\n",
      "Epoch: 2800   train/loss: 46.3037   valid/loss: 40.9394   train/acc: 0.5533   valid/acc: 0.3717\n",
      "Epoch: 3000   train/loss: 46.1758   valid/loss: 40.6554   train/acc: 0.5685   valid/acc: 0.3805\n",
      "Epoch: 3200   train/loss: 46.9572   valid/loss: 41.6503   train/acc: 0.5888   valid/acc: 0.3894\n",
      "Epoch: 3400   train/loss: 45.7446   valid/loss: 41.7548   train/acc: 0.5635   valid/acc: 0.3982\n",
      "Epoch: 3600   train/loss: 45.8315   valid/loss: 41.3535   train/acc: 0.5685   valid/acc: 0.3805\n",
      "Epoch: 3800   train/loss: 46.5923   valid/loss: 41.2153   train/acc: 0.6041   valid/acc: 0.3805\n",
      "Epoch: 4000   train/loss: 45.9077   valid/loss: 41.454   train/acc: 0.5838   valid/acc: 0.4159\n"
     ]
    },
    {
     "name": "stdout",
     "output_type": "stream",
     "text": [
      "Test accuracy: 0.5045045045045045\n",
      "Progress:  0.442\n",
      "Number of training circuits: 198   Number of validation circuits: 113   Number of test circuits: 111   Number of parameters in model: 267\n"
     ]
    },
    {
     "name": "stderr",
     "output_type": "stream",
     "text": [
      "Epoch: 200   train/loss: 65.7265   valid/loss: 39.616   train/acc: 0.3283   valid/acc: 0.2389\n",
      "Epoch: 400   train/loss: 62.6499   valid/loss: 40.7663   train/acc: 0.4293   valid/acc: 0.2478\n",
      "Epoch: 600   train/loss: 59.3379   valid/loss: 41.7538   train/acc: 0.4293   valid/acc: 0.292\n",
      "Epoch: 800   train/loss: 59.5465   valid/loss: 40.3562   train/acc: 0.4242   valid/acc: 0.3363\n",
      "Epoch: 1000   train/loss: 56.1804   valid/loss: 38.9185   train/acc: 0.4343   valid/acc: 0.3451\n",
      "Epoch: 1200   train/loss: 53.846   valid/loss: 40.1484   train/acc: 0.4949   valid/acc: 0.3097\n",
      "Epoch: 1400   train/loss: 53.2828   valid/loss: 41.4263   train/acc: 0.5   valid/acc: 0.354\n",
      "Epoch: 1600   train/loss: 52.5816   valid/loss: 45.0252   train/acc: 0.5101   valid/acc: 0.3097\n",
      "Epoch: 1800   train/loss: 51.6547   valid/loss: 42.0137   train/acc: 0.5354   valid/acc: 0.354\n",
      "Epoch: 2000   train/loss: 51.2584   valid/loss: 41.7754   train/acc: 0.5354   valid/acc: 0.3451\n",
      "Epoch: 2200   train/loss: 50.5749   valid/loss: 42.2224   train/acc: 0.5303   valid/acc: 0.3186\n",
      "Epoch: 2400   train/loss: 50.1959   valid/loss: 41.9692   train/acc: 0.5152   valid/acc: 0.3186\n",
      "Epoch: 2600   train/loss: 49.5158   valid/loss: 42.748   train/acc: 0.5556   valid/acc: 0.292\n",
      "Epoch: 2800   train/loss: 49.7939   valid/loss: 41.3133   train/acc: 0.5758   valid/acc: 0.3628\n",
      "Epoch: 3000   train/loss: 48.9285   valid/loss: 41.4262   train/acc: 0.5202   valid/acc: 0.3363\n",
      "Epoch: 3200   train/loss: 49.1774   valid/loss: 41.9127   train/acc: 0.5051   valid/acc: 0.3186\n",
      "Epoch: 3400   train/loss: 49.6853   valid/loss: 41.5137   train/acc: 0.5606   valid/acc: 0.3186\n",
      "Epoch: 3600   train/loss: 48.5522   valid/loss: 42.4093   train/acc: 0.5707   valid/acc: 0.3363\n",
      "Epoch: 3800   train/loss: 48.3045   valid/loss: 42.3526   train/acc: 0.5606   valid/acc: 0.3274\n",
      "Epoch: 4000   train/loss: 49.2395   valid/loss: 43.1534   train/acc: 0.5404   valid/acc: 0.3097\n"
     ]
    },
    {
     "name": "stdout",
     "output_type": "stream",
     "text": [
      "Test accuracy: 0.45045045045045046\n",
      "Progress:  0.444\n",
      "Number of training circuits: 199   Number of validation circuits: 113   Number of test circuits: 111   Number of parameters in model: 267\n"
     ]
    },
    {
     "name": "stderr",
     "output_type": "stream",
     "text": [
      "Epoch: 200   train/loss: 65.2861   valid/loss: 39.5162   train/acc: 0.3467   valid/acc: 0.2566\n",
      "Epoch: 400   train/loss: 63.4422   valid/loss: 38.7227   train/acc: 0.2965   valid/acc: 0.2566\n",
      "Epoch: 600   train/loss: 59.6254   valid/loss: 40.3836   train/acc: 0.392   valid/acc: 0.3097\n",
      "Epoch: 800   train/loss: 57.7232   valid/loss: 42.2222   train/acc: 0.3769   valid/acc: 0.3451\n",
      "Epoch: 1000   train/loss: 56.3718   valid/loss: 43.8328   train/acc: 0.4121   valid/acc: 0.3186\n",
      "Epoch: 1200   train/loss: 55.9476   valid/loss: 40.4029   train/acc: 0.3869   valid/acc: 0.292\n",
      "Epoch: 1400   train/loss: 54.7877   valid/loss: 42.1139   train/acc: 0.402   valid/acc: 0.3097\n",
      "Epoch: 1600   train/loss: 54.3228   valid/loss: 44.1584   train/acc: 0.4774   valid/acc: 0.354\n",
      "Epoch: 1800   train/loss: 52.6474   valid/loss: 44.0975   train/acc: 0.4271   valid/acc: 0.3186\n",
      "Epoch: 2000   train/loss: 53.4687   valid/loss: 42.1377   train/acc: 0.4372   valid/acc: 0.3451\n",
      "Epoch: 2200   train/loss: 52.1375   valid/loss: 41.9351   train/acc: 0.4573   valid/acc: 0.3097\n",
      "Epoch: 2400   train/loss: 52.7177   valid/loss: 44.2392   train/acc: 0.4623   valid/acc: 0.3097\n",
      "Epoch: 2600   train/loss: 51.6313   valid/loss: 44.9222   train/acc: 0.4874   valid/acc: 0.2743\n",
      "Epoch: 2800   train/loss: 51.1137   valid/loss: 43.2038   train/acc: 0.4975   valid/acc: 0.2655\n",
      "Epoch: 3000   train/loss: 51.1986   valid/loss: 44.1707   train/acc: 0.4623   valid/acc: 0.3097\n",
      "Epoch: 3200   train/loss: 50.1072   valid/loss: 44.1663   train/acc: 0.4623   valid/acc: 0.3186\n",
      "Epoch: 3400   train/loss: 50.2466   valid/loss: 44.1981   train/acc: 0.4824   valid/acc: 0.292\n",
      "Epoch: 3600   train/loss: 50.2998   valid/loss: 43.0488   train/acc: 0.4975   valid/acc: 0.3363\n",
      "Epoch: 3800   train/loss: 49.7186   valid/loss: 44.126   train/acc: 0.4975   valid/acc: 0.354\n",
      "Epoch: 4000   train/loss: 48.4246   valid/loss: 43.6131   train/acc: 0.5176   valid/acc: 0.3628\n"
     ]
    },
    {
     "name": "stdout",
     "output_type": "stream",
     "text": [
      "Test accuracy: 0.46846846846846846\n",
      "Progress:  0.446\n",
      "Number of training circuits: 200   Number of validation circuits: 113   Number of test circuits: 111   Number of parameters in model: 267\n"
     ]
    },
    {
     "name": "stderr",
     "output_type": "stream",
     "text": [
      "Epoch: 200   train/loss: 65.1278   valid/loss: 39.2822   train/acc: 0.3   valid/acc: 0.3097\n",
      "Epoch: 400   train/loss: 64.3161   valid/loss: 38.7272   train/acc: 0.38   valid/acc: 0.3717\n",
      "Epoch: 600   train/loss: 57.8231   valid/loss: 37.9446   train/acc: 0.405   valid/acc: 0.354\n",
      "Epoch: 800   train/loss: 56.0864   valid/loss: 41.0077   train/acc: 0.4   valid/acc: 0.292\n",
      "Epoch: 1000   train/loss: 55.2083   valid/loss: 39.9462   train/acc: 0.415   valid/acc: 0.292\n",
      "Epoch: 1200   train/loss: 54.687   valid/loss: 38.952   train/acc: 0.505   valid/acc: 0.3894\n",
      "Epoch: 1400   train/loss: 53.9094   valid/loss: 41.6694   train/acc: 0.475   valid/acc: 0.2743\n",
      "Epoch: 1600   train/loss: 53.2141   valid/loss: 41.1962   train/acc: 0.46   valid/acc: 0.292\n",
      "Epoch: 1800   train/loss: 52.1615   valid/loss: 40.3479   train/acc: 0.515   valid/acc: 0.3009\n",
      "Epoch: 2000   train/loss: 52.204   valid/loss: 41.3054   train/acc: 0.52   valid/acc: 0.3009\n",
      "Epoch: 2200   train/loss: 51.7908   valid/loss: 42.46   train/acc: 0.525   valid/acc: 0.2832\n",
      "Epoch: 2400   train/loss: 50.4027   valid/loss: 40.7818   train/acc: 0.545   valid/acc: 0.3009\n",
      "Epoch: 2600   train/loss: 49.5795   valid/loss: 41.8391   train/acc: 0.53   valid/acc: 0.3009\n",
      "Epoch: 2800   train/loss: 50.0025   valid/loss: 42.8124   train/acc: 0.54   valid/acc: 0.292\n",
      "Epoch: 3000   train/loss: 49.8226   valid/loss: 43.0372   train/acc: 0.54   valid/acc: 0.3363\n",
      "Epoch: 3200   train/loss: 50.0893   valid/loss: 42.4081   train/acc: 0.55   valid/acc: 0.3186\n",
      "Epoch: 3400   train/loss: 48.8286   valid/loss: 42.0857   train/acc: 0.565   valid/acc: 0.3009\n",
      "Epoch: 3600   train/loss: 48.818   valid/loss: 42.0582   train/acc: 0.59   valid/acc: 0.3097\n",
      "Epoch: 3800   train/loss: 48.613   valid/loss: 43.0501   train/acc: 0.595   valid/acc: 0.3097\n",
      "Epoch: 4000   train/loss: 48.6343   valid/loss: 42.5624   train/acc: 0.6   valid/acc: 0.3274\n"
     ]
    },
    {
     "name": "stdout",
     "output_type": "stream",
     "text": [
      "Test accuracy: 0.4144144144144144\n",
      "Progress:  0.449\n",
      "Number of training circuits: 201   Number of validation circuits: 113   Number of test circuits: 111   Number of parameters in model: 267\n"
     ]
    },
    {
     "name": "stderr",
     "output_type": "stream",
     "text": [
      "Epoch: 200   train/loss: 66.128   valid/loss: 39.6848   train/acc: 0.3284   valid/acc: 0.2301\n",
      "Epoch: 400   train/loss: 65.307   valid/loss: 40.7995   train/acc: 0.3184   valid/acc: 0.3097\n",
      "Epoch: 600   train/loss: 66.4057   valid/loss: 42.1824   train/acc: 0.3085   valid/acc: 0.3009\n",
      "Epoch: 800   train/loss: 63.7081   valid/loss: 39.491   train/acc: 0.3831   valid/acc: 0.292\n",
      "Epoch: 1000   train/loss: 66.4877   valid/loss: 38.941   train/acc: 0.3483   valid/acc: 0.292\n",
      "Epoch: 1200   train/loss: 61.3985   valid/loss: 39.3363   train/acc: 0.4776   valid/acc: 0.3186\n",
      "Epoch: 1400   train/loss: 59.1179   valid/loss: 38.9759   train/acc: 0.4627   valid/acc: 0.2832\n",
      "Epoch: 1600   train/loss: 57.1766   valid/loss: 39.6143   train/acc: 0.4876   valid/acc: 0.2389\n",
      "Epoch: 1800   train/loss: 55.4433   valid/loss: 39.1317   train/acc: 0.5323   valid/acc: 0.2566\n",
      "Epoch: 2000   train/loss: 55.3623   valid/loss: 39.9498   train/acc: 0.5373   valid/acc: 0.2655\n",
      "Epoch: 2200   train/loss: 54.1604   valid/loss: 40.5334   train/acc: 0.5373   valid/acc: 0.2832\n",
      "Epoch: 2400   train/loss: 54.1175   valid/loss: 40.0124   train/acc: 0.5373   valid/acc: 0.3009\n",
      "Epoch: 2600   train/loss: 53.8754   valid/loss: 40.3955   train/acc: 0.5323   valid/acc: 0.292\n",
      "Epoch: 2800   train/loss: 53.2004   valid/loss: 40.7263   train/acc: 0.5572   valid/acc: 0.292\n",
      "Epoch: 3000   train/loss: 53.0602   valid/loss: 40.4707   train/acc: 0.5522   valid/acc: 0.292\n",
      "Epoch: 3200   train/loss: 52.5252   valid/loss: 40.9059   train/acc: 0.5522   valid/acc: 0.2832\n",
      "Epoch: 3400   train/loss: 52.0433   valid/loss: 39.9776   train/acc: 0.5622   valid/acc: 0.292\n",
      "Epoch: 3600   train/loss: 52.3054   valid/loss: 40.5954   train/acc: 0.5622   valid/acc: 0.3097\n",
      "Epoch: 3800   train/loss: 52.2065   valid/loss: 41.4419   train/acc: 0.5721   valid/acc: 0.3097\n",
      "Epoch: 4000   train/loss: 51.4278   valid/loss: 40.6236   train/acc: 0.5721   valid/acc: 0.3186\n"
     ]
    },
    {
     "name": "stdout",
     "output_type": "stream",
     "text": [
      "Test accuracy: 0.46846846846846846\n",
      "Progress:  0.451\n",
      "Number of training circuits: 202   Number of validation circuits: 113   Number of test circuits: 111   Number of parameters in model: 267\n"
     ]
    },
    {
     "name": "stderr",
     "output_type": "stream",
     "text": [
      "Epoch: 200   train/loss: 66.7929   valid/loss: 39.3557   train/acc: 0.3218   valid/acc: 0.292\n",
      "Epoch: 400   train/loss: 64.2442   valid/loss: 40.2405   train/acc: 0.3861   valid/acc: 0.2743\n",
      "Epoch: 600   train/loss: 63.4664   valid/loss: 39.7469   train/acc: 0.396   valid/acc: 0.2566\n",
      "Epoch: 800   train/loss: 61.7068   valid/loss: 38.3649   train/acc: 0.4406   valid/acc: 0.3805\n",
      "Epoch: 1000   train/loss: 59.5467   valid/loss: 37.6891   train/acc: 0.4604   valid/acc: 0.2832\n",
      "Epoch: 1200   train/loss: 56.5652   valid/loss: 38.1564   train/acc: 0.495   valid/acc: 0.354\n",
      "Epoch: 1400   train/loss: 55.2814   valid/loss: 36.9782   train/acc: 0.5149   valid/acc: 0.3628\n",
      "Epoch: 1600   train/loss: 53.8005   valid/loss: 38.2194   train/acc: 0.5099   valid/acc: 0.3628\n",
      "Epoch: 1800   train/loss: 55.3313   valid/loss: 38.0618   train/acc: 0.505   valid/acc: 0.3363\n",
      "Epoch: 2000   train/loss: 52.9581   valid/loss: 38.6447   train/acc: 0.5248   valid/acc: 0.3894\n",
      "Epoch: 2200   train/loss: 52.4294   valid/loss: 38.3532   train/acc: 0.5594   valid/acc: 0.3894\n",
      "Epoch: 2400   train/loss: 52.4925   valid/loss: 37.6098   train/acc: 0.5248   valid/acc: 0.3451\n",
      "Epoch: 2600   train/loss: 53.1038   valid/loss: 38.835   train/acc: 0.5495   valid/acc: 0.3628\n",
      "Epoch: 2800   train/loss: 51.9685   valid/loss: 38.1568   train/acc: 0.5594   valid/acc: 0.3717\n",
      "Epoch: 3000   train/loss: 51.5533   valid/loss: 38.011   train/acc: 0.5545   valid/acc: 0.3894\n",
      "Epoch: 3200   train/loss: 50.4677   valid/loss: 38.4743   train/acc: 0.5693   valid/acc: 0.3894\n",
      "Epoch: 3400   train/loss: 51.5954   valid/loss: 38.4734   train/acc: 0.5792   valid/acc: 0.3451\n",
      "Epoch: 3600   train/loss: 51.9441   valid/loss: 37.9892   train/acc: 0.5545   valid/acc: 0.3363\n",
      "Epoch: 3800   train/loss: 49.6936   valid/loss: 37.6804   train/acc: 0.5693   valid/acc: 0.3982\n",
      "Epoch: 4000   train/loss: 50.5799   valid/loss: 37.7448   train/acc: 0.5594   valid/acc: 0.3894\n"
     ]
    },
    {
     "name": "stdout",
     "output_type": "stream",
     "text": [
      "Test accuracy: 0.43243243243243246\n",
      "Progress:  0.453\n",
      "Number of training circuits: 203   Number of validation circuits: 113   Number of test circuits: 111   Number of parameters in model: 267\n"
     ]
    },
    {
     "name": "stderr",
     "output_type": "stream",
     "text": [
      "Epoch: 200   train/loss: 69.9315   valid/loss: 41.6729   train/acc: 0.33   valid/acc: 0.2212\n",
      "Epoch: 400   train/loss: 64.2774   valid/loss: 41.4469   train/acc: 0.3842   valid/acc: 0.2566\n",
      "Epoch: 600   train/loss: 62.7438   valid/loss: 39.058   train/acc: 0.4187   valid/acc: 0.3186\n",
      "Epoch: 800   train/loss: 59.2268   valid/loss: 38.3402   train/acc: 0.4433   valid/acc: 0.292\n",
      "Epoch: 1000   train/loss: 57.9548   valid/loss: 38.7463   train/acc: 0.4433   valid/acc: 0.3097\n",
      "Epoch: 1200   train/loss: 56.8075   valid/loss: 39.0132   train/acc: 0.4236   valid/acc: 0.2832\n",
      "Epoch: 1400   train/loss: 55.0794   valid/loss: 39.6402   train/acc: 0.4828   valid/acc: 0.3717\n",
      "Epoch: 1600   train/loss: 54.3102   valid/loss: 39.1926   train/acc: 0.5123   valid/acc: 0.3363\n",
      "Epoch: 1800   train/loss: 53.4437   valid/loss: 40.0561   train/acc: 0.5271   valid/acc: 0.3628\n",
      "Epoch: 2000   train/loss: 54.2017   valid/loss: 38.5762   train/acc: 0.5271   valid/acc: 0.3363\n",
      "Epoch: 2200   train/loss: 52.789   valid/loss: 38.9049   train/acc: 0.5517   valid/acc: 0.3274\n",
      "Epoch: 2400   train/loss: 51.4598   valid/loss: 39.3667   train/acc: 0.5567   valid/acc: 0.3451\n",
      "Epoch: 2600   train/loss: 52.2443   valid/loss: 39.5595   train/acc: 0.5616   valid/acc: 0.354\n",
      "Epoch: 2800   train/loss: 51.0924   valid/loss: 39.7672   train/acc: 0.5665   valid/acc: 0.3628\n",
      "Epoch: 3000   train/loss: 50.7146   valid/loss: 39.304   train/acc: 0.5567   valid/acc: 0.3628\n",
      "Epoch: 3200   train/loss: 50.8827   valid/loss: 39.3389   train/acc: 0.5468   valid/acc: 0.3628\n",
      "Epoch: 3400   train/loss: 50.1273   valid/loss: 40.0379   train/acc: 0.5517   valid/acc: 0.3274\n",
      "Epoch: 3600   train/loss: 50.1037   valid/loss: 39.6815   train/acc: 0.5567   valid/acc: 0.3274\n",
      "Epoch: 3800   train/loss: 50.3916   valid/loss: 40.6127   train/acc: 0.5517   valid/acc: 0.292\n",
      "Epoch: 4000   train/loss: 50.7141   valid/loss: 39.0594   train/acc: 0.5665   valid/acc: 0.3009\n"
     ]
    },
    {
     "name": "stdout",
     "output_type": "stream",
     "text": [
      "Test accuracy: 0.43243243243243246\n",
      "Progress:  0.455\n",
      "Number of training circuits: 204   Number of validation circuits: 113   Number of test circuits: 111   Number of parameters in model: 267\n"
     ]
    },
    {
     "name": "stderr",
     "output_type": "stream",
     "text": [
      "Epoch: 200   train/loss: 66.5494   valid/loss: 39.5031   train/acc: 0.3235   valid/acc: 0.292\n",
      "Epoch: 400   train/loss: 67.5353   valid/loss: 41.1551   train/acc: 0.3725   valid/acc: 0.2478\n",
      "Epoch: 600   train/loss: 62.7621   valid/loss: 40.2688   train/acc: 0.4167   valid/acc: 0.3274\n",
      "Epoch: 800   train/loss: 59.7882   valid/loss: 42.4675   train/acc: 0.4559   valid/acc: 0.3274\n",
      "Epoch: 1000   train/loss: 57.7381   valid/loss: 41.5873   train/acc: 0.5098   valid/acc: 0.3717\n",
      "Epoch: 1200   train/loss: 54.8665   valid/loss: 40.4572   train/acc: 0.5245   valid/acc: 0.354\n",
      "Epoch: 1400   train/loss: 53.6726   valid/loss: 42.2427   train/acc: 0.5392   valid/acc: 0.3274\n",
      "Epoch: 1600   train/loss: 52.4996   valid/loss: 45.887   train/acc: 0.5637   valid/acc: 0.3274\n",
      "Epoch: 1800   train/loss: 51.7021   valid/loss: 42.3222   train/acc: 0.5637   valid/acc: 0.354\n",
      "Epoch: 2000   train/loss: 51.4972   valid/loss: 42.0324   train/acc: 0.5588   valid/acc: 0.3717\n",
      "Epoch: 2200   train/loss: 51.0732   valid/loss: 43.0625   train/acc: 0.5147   valid/acc: 0.3451\n",
      "Epoch: 2400   train/loss: 51.4027   valid/loss: 43.0777   train/acc: 0.5735   valid/acc: 0.354\n",
      "Epoch: 2600   train/loss: 50.0376   valid/loss: 43.5246   train/acc: 0.5735   valid/acc: 0.3274\n",
      "Epoch: 2800   train/loss: 49.7519   valid/loss: 42.441   train/acc: 0.5588   valid/acc: 0.3451\n",
      "Epoch: 3000   train/loss: 49.2705   valid/loss: 42.2821   train/acc: 0.5588   valid/acc: 0.3274\n",
      "Epoch: 3200   train/loss: 49.0694   valid/loss: 42.5742   train/acc: 0.6127   valid/acc: 0.3274\n",
      "Epoch: 3400   train/loss: 49.262   valid/loss: 41.0949   train/acc: 0.6078   valid/acc: 0.3363\n",
      "Epoch: 3600   train/loss: 48.9737   valid/loss: 43.2486   train/acc: 0.5931   valid/acc: 0.3451\n",
      "Epoch: 3800   train/loss: 47.926   valid/loss: 42.4372   train/acc: 0.6029   valid/acc: 0.3363\n",
      "Epoch: 4000   train/loss: 48.0999   valid/loss: 42.3879   train/acc: 0.6127   valid/acc: 0.3451\n"
     ]
    },
    {
     "name": "stdout",
     "output_type": "stream",
     "text": [
      "Test accuracy: 0.4594594594594595\n",
      "Progress:  0.458\n",
      "Number of training circuits: 205   Number of validation circuits: 113   Number of test circuits: 111   Number of parameters in model: 267\n"
     ]
    },
    {
     "name": "stderr",
     "output_type": "stream",
     "text": [
      "Epoch: 200   train/loss: 69.2266   valid/loss: 42.0218   train/acc: 0.2537   valid/acc: 0.2655\n",
      "Epoch: 400   train/loss: 66.2444   valid/loss: 39.2823   train/acc: 0.3073   valid/acc: 0.3009\n",
      "Epoch: 600   train/loss: 64.9032   valid/loss: 40.4662   train/acc: 0.3512   valid/acc: 0.2566\n",
      "Epoch: 800   train/loss: 60.2739   valid/loss: 41.884   train/acc: 0.4537   valid/acc: 0.2301\n",
      "Epoch: 1000   train/loss: 56.9982   valid/loss: 40.4212   train/acc: 0.4976   valid/acc: 0.3274\n",
      "Epoch: 1200   train/loss: 56.0669   valid/loss: 42.4453   train/acc: 0.4878   valid/acc: 0.292\n",
      "Epoch: 1400   train/loss: 54.8865   valid/loss: 40.935   train/acc: 0.4634   valid/acc: 0.3363\n",
      "Epoch: 1600   train/loss: 57.0334   valid/loss: 39.0195   train/acc: 0.4732   valid/acc: 0.3894\n",
      "Epoch: 1800   train/loss: 54.7045   valid/loss: 40.8201   train/acc: 0.478   valid/acc: 0.3009\n",
      "Epoch: 2000   train/loss: 55.672   valid/loss: 40.868   train/acc: 0.4634   valid/acc: 0.3186\n",
      "Epoch: 2200   train/loss: 53.7412   valid/loss: 39.9786   train/acc: 0.5366   valid/acc: 0.3363\n",
      "Epoch: 2400   train/loss: 52.5972   valid/loss: 41.2423   train/acc: 0.522   valid/acc: 0.3097\n",
      "Epoch: 2600   train/loss: 51.7568   valid/loss: 40.9289   train/acc: 0.5366   valid/acc: 0.3009\n",
      "Epoch: 2800   train/loss: 52.4774   valid/loss: 41.3673   train/acc: 0.5366   valid/acc: 0.3009\n",
      "Epoch: 3000   train/loss: 50.6748   valid/loss: 41.7935   train/acc: 0.5659   valid/acc: 0.3009\n",
      "Epoch: 3200   train/loss: 50.5109   valid/loss: 41.8865   train/acc: 0.5659   valid/acc: 0.3097\n",
      "Epoch: 3400   train/loss: 50.3845   valid/loss: 42.7865   train/acc: 0.5707   valid/acc: 0.3097\n",
      "Epoch: 3600   train/loss: 50.4997   valid/loss: 42.6159   train/acc: 0.5415   valid/acc: 0.3097\n",
      "Epoch: 3800   train/loss: 50.9066   valid/loss: 42.2079   train/acc: 0.5854   valid/acc: 0.2832\n",
      "Epoch: 4000   train/loss: 49.5841   valid/loss: 42.1914   train/acc: 0.5366   valid/acc: 0.3363\n"
     ]
    },
    {
     "name": "stdout",
     "output_type": "stream",
     "text": [
      "Test accuracy: 0.4864864864864865\n",
      "Progress:  0.46\n",
      "Number of training circuits: 206   Number of validation circuits: 113   Number of test circuits: 111   Number of parameters in model: 267\n"
     ]
    },
    {
     "name": "stderr",
     "output_type": "stream",
     "text": [
      "Epoch: 200   train/loss: 67.0965   valid/loss: 39.4646   train/acc: 0.3883   valid/acc: 0.3363\n",
      "Epoch: 400   train/loss: 64.0765   valid/loss: 41.2453   train/acc: 0.4029   valid/acc: 0.2743\n",
      "Epoch: 600   train/loss: 60.1462   valid/loss: 40.3922   train/acc: 0.4369   valid/acc: 0.2566\n",
      "Epoch: 800   train/loss: 62.7677   valid/loss: 43.4943   train/acc: 0.4806   valid/acc: 0.2832\n",
      "Epoch: 1000   train/loss: 59.1941   valid/loss: 39.634   train/acc: 0.4369   valid/acc: 0.3451\n",
      "Epoch: 1200   train/loss: 57.7327   valid/loss: 42.2481   train/acc: 0.466   valid/acc: 0.2478\n",
      "Epoch: 1400   train/loss: 56.1065   valid/loss: 39.9468   train/acc: 0.4563   valid/acc: 0.2655\n",
      "Epoch: 1600   train/loss: 55.7206   valid/loss: 39.7745   train/acc: 0.4903   valid/acc: 0.2832\n",
      "Epoch: 1800   train/loss: 54.7597   valid/loss: 40.5172   train/acc: 0.4854   valid/acc: 0.3097\n",
      "Epoch: 2000   train/loss: 53.3158   valid/loss: 39.6851   train/acc: 0.5485   valid/acc: 0.3097\n",
      "Epoch: 2200   train/loss: 51.5786   valid/loss: 41.3505   train/acc: 0.5534   valid/acc: 0.3186\n",
      "Epoch: 2400   train/loss: 51.9905   valid/loss: 40.9325   train/acc: 0.5971   valid/acc: 0.3097\n",
      "Epoch: 2600   train/loss: 52.1956   valid/loss: 42.4907   train/acc: 0.5291   valid/acc: 0.3097\n",
      "Epoch: 2800   train/loss: 49.7699   valid/loss: 42.8438   train/acc: 0.5922   valid/acc: 0.3186\n",
      "Epoch: 3000   train/loss: 50.2989   valid/loss: 42.5456   train/acc: 0.5777   valid/acc: 0.3097\n",
      "Epoch: 3200   train/loss: 49.8759   valid/loss: 41.9379   train/acc: 0.6068   valid/acc: 0.3363\n",
      "Epoch: 3400   train/loss: 48.8694   valid/loss: 41.5979   train/acc: 0.6019   valid/acc: 0.3274\n",
      "Epoch: 3600   train/loss: 48.9858   valid/loss: 42.1616   train/acc: 0.5583   valid/acc: 0.3186\n",
      "Epoch: 3800   train/loss: 48.7439   valid/loss: 42.5179   train/acc: 0.5777   valid/acc: 0.3274\n",
      "Epoch: 4000   train/loss: 48.388   valid/loss: 43.1521   train/acc: 0.5971   valid/acc: 0.3097\n"
     ]
    },
    {
     "name": "stdout",
     "output_type": "stream",
     "text": [
      "Test accuracy: 0.40540540540540543\n",
      "Progress:  0.462\n",
      "Number of training circuits: 207   Number of validation circuits: 113   Number of test circuits: 111   Number of parameters in model: 267\n"
     ]
    },
    {
     "name": "stderr",
     "output_type": "stream",
     "text": [
      "Epoch: 200   train/loss: 68.2675   valid/loss: 40.9766   train/acc: 0.3478   valid/acc: 0.2655\n",
      "Epoch: 400   train/loss: 66.9812   valid/loss: 39.8883   train/acc: 0.3768   valid/acc: 0.2832\n",
      "Epoch: 600   train/loss: 63.9867   valid/loss: 41.2892   train/acc: 0.4155   valid/acc: 0.3009\n",
      "Epoch: 800   train/loss: 60.8923   valid/loss: 45.9975   train/acc: 0.3478   valid/acc: 0.2566\n",
      "Epoch: 1000   train/loss: 58.7514   valid/loss: 40.6245   train/acc: 0.4589   valid/acc: 0.354\n",
      "Epoch: 1200   train/loss: 59.0731   valid/loss: 40.2011   train/acc: 0.4976   valid/acc: 0.354\n",
      "Epoch: 1400   train/loss: 58.9126   valid/loss: 41.1928   train/acc: 0.4879   valid/acc: 0.3805\n",
      "Epoch: 1600   train/loss: 58.8762   valid/loss: 40.6028   train/acc: 0.4686   valid/acc: 0.3274\n",
      "Epoch: 1800   train/loss: 59.4222   valid/loss: 40.4585   train/acc: 0.401   valid/acc: 0.3097\n",
      "Epoch: 2000   train/loss: 56.1754   valid/loss: 40.2181   train/acc: 0.4928   valid/acc: 0.3274\n",
      "Epoch: 2200   train/loss: 55.5723   valid/loss: 40.3844   train/acc: 0.5459   valid/acc: 0.3894\n",
      "Epoch: 2400   train/loss: 55.9079   valid/loss: 42.0682   train/acc: 0.4638   valid/acc: 0.3274\n",
      "Epoch: 2600   train/loss: 54.5127   valid/loss: 42.9447   train/acc: 0.5314   valid/acc: 0.3274\n",
      "Epoch: 2800   train/loss: 53.7305   valid/loss: 41.3833   train/acc: 0.5362   valid/acc: 0.3982\n",
      "Epoch: 3000   train/loss: 51.9575   valid/loss: 40.0389   train/acc: 0.5411   valid/acc: 0.354\n",
      "Epoch: 3200   train/loss: 52.3633   valid/loss: 39.5564   train/acc: 0.5411   valid/acc: 0.3805\n",
      "Epoch: 3400   train/loss: 51.4678   valid/loss: 40.6989   train/acc: 0.5507   valid/acc: 0.3805\n",
      "Epoch: 3600   train/loss: 49.7947   valid/loss: 40.356   train/acc: 0.5797   valid/acc: 0.3628\n",
      "Epoch: 3800   train/loss: 49.3133   valid/loss: 41.3596   train/acc: 0.5845   valid/acc: 0.354\n",
      "Epoch: 4000   train/loss: 50.6809   valid/loss: 40.8293   train/acc: 0.5314   valid/acc: 0.3451\n"
     ]
    },
    {
     "name": "stdout",
     "output_type": "stream",
     "text": [
      "Test accuracy: 0.5405405405405406\n",
      "Progress:  0.464\n",
      "Number of training circuits: 208   Number of validation circuits: 113   Number of test circuits: 111   Number of parameters in model: 267\n"
     ]
    }
   ],
   "source": [
    "for i, key in enumerate(all_training_keys[initial_number_of_circuits:]):\n",
    "    print(\"Progress: \", round((i + initial_number_of_circuits)/len(all_training_keys), 3))\n",
    "    \n",
    "    if len(syms) == len(get_symbols(current_training_circuits)) and i > 0:\n",
    "        if i != len(all_training_keys[1:]):\n",
    "            current_training_circuits[key] = training_circuits[key]\n",
    "            new_parameters = sorted(get_symbols({key: training_circuits[key]}), key=default_sort_key)\n",
    "            if result:\n",
    "                parameters, init_params_spsa = initialize_parameters(parameters, result.x, new_parameters)\n",
    "                #continue\n",
    "            else:\n",
    "                syms = get_symbols(current_training_circuits)\n",
    "                parameters = sorted(syms, key=default_sort_key)\n",
    "                init_params_spsa = np.array(rng.random(len(parameters)))\n",
    "    else:\n",
    "        run += 1\n",
    "    \n",
    "    # Select those circuits from test and validation circuits which share the parameters with the current training circuits\n",
    "    current_validation_circuits = select_circuits(current_training_circuits, validation_circuits)\n",
    "    current_test_circuits = select_circuits(current_training_circuits, test_circuits)\n",
    "    \n",
    "    if len(current_validation_circuits) == 0 or len(current_test_circuits) == 0:\n",
    "        continue\n",
    "    \n",
    "    # Create lists with circuits and their corresponding label\n",
    "    training_circuits_l, training_data_labels_l = construct_data_and_labels(current_training_circuits, training_data_labels)\n",
    "    validation_circuits_l, validation_data_labels_l = construct_data_and_labels(current_validation_circuits, validation_data_labels)\n",
    "    test_circuits_l, test_data_labels_l = construct_data_and_labels(current_test_circuits, test_data_labels)\n",
    "    \n",
    "    # Limit the number of validation and test circuits to 20% of number of the training circuits\n",
    "    if limit:\n",
    "        val_test_circ_size = ceil(len(current_training_circuits))\n",
    "        if len(current_validation_circuits) > val_test_circ_size:\n",
    "            validation_circuits_l = validation_circuits_l[:val_test_circ_size]\n",
    "            validation_data_labels_l = validation_data_labels_l[:val_test_circ_size]\n",
    "        if len(current_test_circuits) > val_test_circ_size:\n",
    "            test_circuits_l = test_circuits_l[:val_test_circ_size]\n",
    "            test_data_labels_l = test_data_labels_l[:val_test_circ_size]\n",
    "    \n",
    "    stats = f\"Number of training circuits: {len(training_circuits_l)}   \"\\\n",
    "        + f\"Number of validation circuits: {len(validation_circuits_l)}   \"\\\n",
    "        + f\"Number of test circuits: {len(test_circuits_l)}   \"\\\n",
    "        + f\"Number of parameters in model: {len(set([sym for circuit in training_circuits_l for sym in circuit.free_symbols]))}\"\n",
    "    \n",
    "    with open(\"results//\" + result_file + \".txt\", \"a\") as f:\n",
    "        f.write(stats + \"\\n\")\n",
    "    \n",
    "    print(stats)\n",
    "    \n",
    "    train_pred_fn = jit(make_pred_fn(training_circuits_l))\n",
    "    dev_pred_fn = jit(make_pred_fn(validation_circuits_l))\n",
    "    test_pred_fn = make_pred_fn(test_circuits_l)\n",
    "    \n",
    "    train_cost_fn, train_costs, train_accs = make_cost_fn(train_pred_fn, training_data_labels_l)\n",
    "    dev_cost_fn, dev_costs, dev_accs = make_cost_fn(dev_pred_fn, validation_data_labels_l)\n",
    "    \n",
    "    def callback_fn(xk):\n",
    "        #print(xk)\n",
    "        valid_loss = dev_cost_fn(xk)\n",
    "        train_loss = numpy.around(min(float(train_costs[-1]), float(train_costs[-2])), 4)\n",
    "        train_acc = numpy.around(min(float(train_accs[-1]), float(train_accs[-2])), 4)\n",
    "        valid_acc = numpy.around(float(dev_accs[-1]), 4)\n",
    "        iters = int(len(train_accs)/2)\n",
    "        if iters % 200 == 0:\n",
    "            info = f\"Epoch: {iters}   \"\\\n",
    "            + f\"train/loss: {train_loss}   \"\\\n",
    "            + f\"valid/loss: {numpy.around(float(valid_loss), 4)}   \"\\\n",
    "            + f\"train/acc: {train_acc}   \"\\\n",
    "            + f\"valid/acc: {valid_acc}\"\n",
    "        \n",
    "            with open(\"results//\" + result_file + \".txt\", \"a\") as f:\n",
    "                f.write(info + \"\\n\")\n",
    "                \n",
    "            print(info, file=sys.stderr)\n",
    "        return valid_loss\n",
    "    \n",
    "    a_value = 0.0053\n",
    "    c_value = 0.0185\n",
    "            \n",
    "    train_cost_fn, train_costs, train_accs = make_cost_fn(train_pred_fn, training_data_labels_l)\n",
    "    dev_cost_fn, dev_costs, dev_accs = make_cost_fn(dev_pred_fn, validation_data_labels_l)\n",
    "\n",
    "    result = minimizeSPSA(train_cost_fn, x0=init_params_spsa, a = a_value, c = c_value, niter=EPOCHS, callback=callback_fn)\n",
    "    #result = minimizeCompass(train_cost_fn, x0=init_params_spsa, redfactor=2.0, deltainit=1.0, deltatol=0.001, feps=1e-15, errorcontrol=True, funcNinit=30, funcmultfactor=2.0, paired=True, alpha=0.05, callback=callback_fn)\n",
    "\n",
    "    figure_path = this_folder + \"//results//\" + result_file + \".png\"\n",
    "    visualize_result_noisyopt(result, make_cost_fn, test_pred_fn, test_data_labels_l, train_costs, train_accs, dev_costs, dev_accs, figure_path, result_file)\n",
    "    \n",
    "    run += 1\n",
    "    #EPOCHS += 100\n",
    "    syms = get_symbols(current_training_circuits)\n",
    "    \n",
    "    # Extend for the next optimization round\n",
    "    current_training_circuits[key] = training_circuits[key]\n",
    "    new_parameters = sorted(get_symbols({key: training_circuits[key]}), key=default_sort_key)\n",
    "    parameters, init_params_spsa = initialize_parameters(parameters, result.x, new_parameters)"
   ]
  }
 ],
 "metadata": {
  "kernelspec": {
   "display_name": "Python 3 (ipykernel)",
   "language": "python",
   "name": "python3"
  },
  "language_info": {
   "codemirror_mode": {
    "name": "ipython",
    "version": 3
   },
   "file_extension": ".py",
   "mimetype": "text/x-python",
   "name": "python",
   "nbconvert_exporter": "python",
   "pygments_lexer": "ipython3",
   "version": "3.8.10"
  }
 },
 "nbformat": 4,
 "nbformat_minor": 5
}
