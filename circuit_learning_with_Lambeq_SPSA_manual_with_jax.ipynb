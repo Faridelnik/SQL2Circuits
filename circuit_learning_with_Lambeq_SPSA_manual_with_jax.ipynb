{
 "cells": [
  {
   "cell_type": "markdown",
   "id": "b09952d6-99a3-41a5-865f-2170e9ee0247",
   "metadata": {},
   "source": [
    "# Circuit learning module: Lambeq manually with SPSA and JAX"
   ]
  },
  {
   "cell_type": "markdown",
   "id": "bb811fe4-d729-4a44-838d-9c02db4a644d",
   "metadata": {},
   "source": [
    "This module performs the optimization of the parametrized circuit manually compared to Lambeq's automatic QuantumTrainer class. I created this because I wanted to have more control over the optimization process and debug it better. The code is based on the workflow presented in https://github.com/CQCL/Quanthoven."
   ]
  },
  {
   "cell_type": "code",
   "execution_count": 1,
   "id": "c9a5783f-901a-4bfe-a622-4003b345fb1b",
   "metadata": {},
   "outputs": [],
   "source": [
    "import warnings\n",
    "import json\n",
    "import os\n",
    "import sys\n",
    "import glob\n",
    "from math import ceil\n",
    "from pathlib import Path\n",
    "from jax import numpy as np\n",
    "from sympy import default_sort_key\n",
    "import numpy\n",
    "import pickle\n",
    "import matplotlib.pyplot as plt\n",
    "\n",
    "import jax\n",
    "from jax import jit\n",
    "from noisyopt import minimizeSPSA, minimizeCompass\n",
    "\n",
    "from discopy.quantum import Circuit\n",
    "from discopy.tensor import Tensor\n",
    "from discopy.utils import loads\n",
    "#from pytket.extensions.qiskit import AerBackend\n",
    "#from pytket.extensions.qulacs import QulacsBackend\n",
    "#from pytket.extensions.cirq import CirqStateSampleBackend\n",
    "backend = None\n",
    "\n",
    "from utils import *\n",
    "from sklearn.metrics import accuracy_score, recall_score, precision_score, f1_score\n",
    "\n",
    "warnings.filterwarnings('ignore')\n",
    "this_folder = os.path.abspath(os.getcwd())\n",
    "os.environ['TOKENIZERS_PARALLELISM'] = 'true'\n",
    "#os.environ[\"JAX_PLATFORMS\"] = \"cpu\"\n",
    "\n",
    "SEED = 0\n",
    "\n",
    "# This avoids TracerArrayConversionError from jax\n",
    "Tensor.np = np\n",
    "\n",
    "rng = numpy.random.default_rng(SEED)\n",
    "numpy.random.seed(SEED)"
   ]
  },
  {
   "cell_type": "markdown",
   "id": "238fca40-5d8d-4ace-a65f-693885a8caf8",
   "metadata": {},
   "source": [
    "## Read circuit data"
   ]
  },
  {
   "cell_type": "markdown",
   "id": "7f6f00d7-b573-4c5d-a0d6-d5eafc54745e",
   "metadata": {},
   "source": [
    "We read the circuits from the pickled files. Select if we perform binary classification or multi-class classification. Give number of qubits to create classes:\n",
    "- 1 qubits -> 2^1 = 2 classes i.e. binary classification\n",
    "- 2 qubits -> 2^2 = 4 classes\n",
    "- ...\n",
    "- 5 qubits -> 2^5 = 32 classes, etc."
   ]
  },
  {
   "cell_type": "code",
   "execution_count": 2,
   "id": "01bac1f9-3bc0-4a25-8f4f-baa2b9c581e9",
   "metadata": {},
   "outputs": [],
   "source": [
    "# Select workload\n",
    "workload = \"execution_time\"\n",
    "#workload = \"cardinality\"\n",
    "\n",
    "# Select workload size\n",
    "#workload_size = \"small\"\n",
    "#workload_size = \"medium\"\n",
    "#workload_size = \"large\"\n",
    "workload_size = \"main\"\n",
    "\n",
    "classification = 2\n",
    "layers = 1\n",
    "single_qubit_params = 3\n",
    "n_wire_count = 1\n",
    "\n",
    "loss = multi_class_loss\n",
    "acc = multi_class_acc\n",
    "\n",
    "if classification == 1:\n",
    "    loss = bin_class_loss\n",
    "    acc = bin_class_acc\n",
    "\n",
    "# Access the selected circuits\n",
    "path_name = this_folder + \"//simplified-JOB-diagrams//\" + workload + \"//\" + workload_size + \"//circuits//\" + str(classification) + \"//\" + str(layers) + \"_layer//\" + str(single_qubit_params) + \"_single_qubit_params//\" + str(n_wire_count) + \"_n_wire_count//\"\n",
    "\n",
    "training_circuits_paths = glob.glob(path_name + \"training//[0-9]*.p\")\n",
    "validation_circuits_paths = glob.glob(path_name + \"validation//[0-9]*.p\")\n",
    "test_circuits_paths = glob.glob(path_name + \"test//[0-9]*.p\")"
   ]
  },
  {
   "cell_type": "code",
   "execution_count": 3,
   "id": "5ff0a551-444c-40a7-bf66-8e929bc49a64",
   "metadata": {},
   "outputs": [],
   "source": [
    "training_circuits = read_diagrams(training_circuits_paths)\n",
    "validation_circuits = read_diagrams(validation_circuits_paths)\n",
    "test_circuits = read_diagrams(test_circuits_paths)"
   ]
  },
  {
   "cell_type": "markdown",
   "id": "f2da3a7c-6a93-44e9-9640-7e9ead005cb2",
   "metadata": {},
   "source": [
    "## Read training and test data"
   ]
  },
  {
   "cell_type": "code",
   "execution_count": 4,
   "id": "774e9f52-69c9-4e1c-8a70-76e1198d12f4",
   "metadata": {},
   "outputs": [],
   "source": [
    "training_data, test_data, validation_data = None, None, None\n",
    "data_path = this_folder + \"//data//\" + workload + \"//\" + workload_size + \"//\"\n",
    "\n",
    "with open(data_path + \"training_data.json\", \"r\") as inputfile:\n",
    "    training_data = json.load(inputfile)['training_data']\n",
    "with open(data_path + \"test_data.json\", \"r\") as inputfile:\n",
    "    test_data = json.load(inputfile)['test_data']\n",
    "with open(data_path + \"validation_data.json\", \"r\") as inputfile:\n",
    "    validation_data = json.load(inputfile)['validation_data']\n",
    "\n",
    "training_data_labels = create_labeled_classes(training_data, classification, workload)\n",
    "test_data_labels = create_labeled_classes(test_data, classification, workload)\n",
    "validation_data_labels = create_labeled_classes(validation_data, classification, workload)"
   ]
  },
  {
   "cell_type": "raw",
   "id": "7c6abda1-a3a2-4919-b701-d29380e05524",
   "metadata": {},
   "source": [
    "res = [0,0,0,0]\n",
    "for k in training_data_labels.values():\n",
    "    res[k.index(1)] += 1       \n",
    "print(res)"
   ]
  },
  {
   "cell_type": "markdown",
   "id": "f6cad830-e6c3-4c29-9ce6-0d6bec2794bc",
   "metadata": {},
   "source": [
    "## Lambeq optimizer"
   ]
  },
  {
   "cell_type": "raw",
   "id": "be555e95-e7aa-4f1b-bf4d-29acd66056b0",
   "metadata": {},
   "source": [
    "#all_circuits = list(training_circuits.values()) + list(test_circuits.values())\n",
    "\n",
    "training_circuits_l = []\n",
    "test_circuits_l = []\n",
    "validation_circuits_l = []\n",
    "\n",
    "training_data_labels_l = []\n",
    "test_data_labels_l = []\n",
    "validation_data_labels_l = []\n",
    "\n",
    "# Organize circuits and labels in correct order into two lists which will be input for training the model\n",
    "for key in training_data_labels:\n",
    "    training_circuits_l.append(training_circuits[key])\n",
    "    training_data_labels_l.append(training_data_labels[key])\n",
    "\n",
    "for key in test_data_labels:\n",
    "    test_circuits_l.append(test_circuits[key])\n",
    "    test_data_labels_l.append(test_data_labels[key])\n",
    "    \n",
    "for key in validation_data_labels:\n",
    "    validation_circuits_l.append(validation_circuits[key])\n",
    "    validation_data_labels_l.append(validation_data_labels[key])\n",
    "\n",
    "all_circuits = training_circuits_l + test_circuits_l + validation_circuits_l\n",
    "\n",
    "train_syms = set([sym for circuit in training_circuits.values() for sym in circuit.free_symbols])\n",
    "test_syms = set([sym for circuit in test_circuits.values() for sym in circuit.free_symbols])\n",
    "val_syms = set([sym for circuit in validation_circuits.values() for sym in circuit.free_symbols])\n",
    "\n",
    "print(\"Test circuits need to share training circuits' parameters. The parameters that are not covered (should be empty set, set()): \", test_syms.difference(train_syms))\n",
    "print(\"Validation circuits need to share training circuits' parameters. The parameters that are not covered (should be empty set, set()): \", val_syms.difference(train_syms))\n",
    "\n",
    "print(\"Total number of circuits: \", len(all_circuits))\n",
    "print(\"Total number of variables: \", len(train_syms))"
   ]
  },
  {
   "cell_type": "raw",
   "id": "ecd5daca-fdba-44fe-961d-5b9b9c3c68cb",
   "metadata": {},
   "source": [
    "training_data_labels_l = np.array(training_data_labels_l)\n",
    "test_data_labels_l = np.array(test_data_labels_l)\n",
    "validation_data_labels_l = np.array(validation_data_labels_l)"
   ]
  },
  {
   "cell_type": "markdown",
   "id": "572abfc1-cc81-4fdb-b8bb-6813fe658dd6",
   "metadata": {},
   "source": [
    "## Model"
   ]
  },
  {
   "cell_type": "raw",
   "id": "75f97a9a-c5fc-4d9b-920f-9eb0795ca018",
   "metadata": {},
   "source": [
    "parameters = sorted(\n",
    "    train_syms,\n",
    "    key=default_sort_key)\n",
    "\n",
    "rng = numpy.random.default_rng(SEED)\n",
    "init_params_spsa = np.array(rng.random(len(parameters)))\n",
    "numpy.random.seed(SEED)"
   ]
  },
  {
   "cell_type": "code",
   "execution_count": 5,
   "id": "04c65634-fa13-47b3-915c-83361d0e1baf",
   "metadata": {},
   "outputs": [],
   "source": [
    "def make_pred_fn(circuits):\n",
    "    # In the case we want to use other backends. \n",
    "    # Currently does not work properly.\n",
    "    if backend:\n",
    "        compiled_circuits1 = backend.get_compiled_circuits([c.to_tk() for c in circuits])\n",
    "        circuits = [Circuit.from_tk(c) for c in compiled_circuits1]\n",
    "        \n",
    "    circuit_fns = [c.lambdify(*parameters) for c in circuits]\n",
    "    \n",
    "    def predict(params):\n",
    "        outputs = Circuit.eval(*(c(*params) for c in circuit_fns), backend = backend)\n",
    "        res = []\n",
    "        \n",
    "        for output in outputs:\n",
    "            predictions = np.abs(output.array) + 1e-9\n",
    "            ratio = predictions / predictions.sum()\n",
    "            res.append(ratio)\n",
    "            \n",
    "        return np.array(res)\n",
    "    return predict"
   ]
  },
  {
   "cell_type": "markdown",
   "id": "868cf7e7-fcbf-4bad-b8bc-4ff0e6b29294",
   "metadata": {},
   "source": [
    "## Loss function and evaluation"
   ]
  },
  {
   "cell_type": "code",
   "execution_count": 6,
   "id": "f376b4aa-0ec6-4037-80eb-935aa75a2f74",
   "metadata": {},
   "outputs": [],
   "source": [
    "def make_cost_fn(pred_fn, labels):\n",
    "    def cost_fn(params, **kwargs):\n",
    "        predictions = pred_fn(params)\n",
    "\n",
    "        cost = loss(predictions, labels) #-np.sum(labels * np.log(predictions)) / len(labels)  # binary cross-entropy loss\n",
    "        costs.append(cost)\n",
    "\n",
    "        accuracy = acc(predictions, labels) #np.sum(np.round(predictions) == labels) / len(labels) / 2  # half due to double-counting\n",
    "        accuracies.append(accuracy)\n",
    "\n",
    "        return cost\n",
    "\n",
    "    costs, accuracies = [], []\n",
    "    return cost_fn, costs, accuracies"
   ]
  },
  {
   "cell_type": "markdown",
   "id": "a3bb6805-facb-4ec9-9c38-8d1df42022b2",
   "metadata": {},
   "source": [
    "## Minimization with noisyopt"
   ]
  },
  {
   "cell_type": "raw",
   "id": "53bc5cb8-8960-46d9-a64e-02b96fb97acc",
   "metadata": {},
   "source": [
    "EPOCHS = 1000\n",
    "SEED = 0\n",
    "\n",
    "# This avoids TracerArrayConversionError from jax\n",
    "Tensor.np = np\n",
    "\n",
    "rng = numpy.random.default_rng(SEED)\n",
    "init_params_spsa = np.array(rng.random(len(parameters)))\n",
    "numpy.random.seed(SEED)\n",
    "\n",
    "train_cost_fn, train_costs, train_accs = make_cost_fn(train_pred_fn, training_data_labels_l)\n",
    "dev_cost_fn, dev_costs, dev_accs = make_cost_fn(dev_pred_fn, validation_data_labels_l)\n",
    "\n",
    "def callback_fn(xk):\n",
    "    valid_loss = dev_cost_fn(xk)\n",
    "    train_loss = round(train_costs[-1], 4)\n",
    "    train_acc = round(train_accs[-1], 4)\n",
    "    valid_acc = round(dev_accs[-1], 4)\n",
    "    iters = int(len(train_accs)/2)\n",
    "    if iters % 100 == 0:\n",
    "        print(\n",
    "                #f\"Params = {xk}, \"\n",
    "                f\"Epoch: {iters}   \",\n",
    "                f\"train/loss: {train_loss}   \",\n",
    "                f\"valid/loss: {round(valid_loss, 4)}   \",\n",
    "                f\"train/acc: {train_acc}   \",\n",
    "                f\"valid/acc: {valid_acc}\"\n",
    "            )\n",
    "    return valid_loss"
   ]
  },
  {
   "cell_type": "raw",
   "id": "cc202031-11f7-4307-96de-8c642d65ce4d",
   "metadata": {},
   "source": [
    "#a_values = [100.0, 10.0, 1.0, 0.1, 0.01, 0.001, 0.0001, 0.00001, 0.000001]\n",
    "#c_values = [100.0, 10.0, 1.0, 0.1, 0.01, 0.001, 0.0001, 0.00001, 0.000001]\n",
    "\n",
    "#a_values = [0.001, 0.005, 0.01, 0.015, 0.02, 0.025, 0.03]\n",
    "#c_values = [0.001, 0.005, 0.01, 0.015, 0.02, 0.025, 0.03]\n",
    "\n",
    "run = 6\n",
    "#a_values = [0.0055, 0.0054, 0.0052, 0.005, 0.0048, 0.0045, 0.004]\n",
    "#c_values = [0.012, 0.016, 0.018, 0.02, 0.022, 0.025, 0.03]\n",
    "\n",
    "#a_values = [0.0053, 0.0054, 0.0055, 0.0056, 0.0057]\n",
    "#c_values = [0.017, 0.0175, 0.018, 0.0185, 0.019]\n",
    "\n",
    "a_values = [0.0052, 0.00525, 0.0053, 0.00535, 0.0054]\n",
    "c_values = [0.0183, 0.0184, 0.0185, 0.0186, 0.0187] \n",
    "\n",
    "for i, a_value in enumerate(a_values):\n",
    "    for j, c_value in enumerate(c_values):\n",
    "        train_cost_fn, train_costs, train_accs = make_cost_fn(train_pred_fn, training_data_labels_l)\n",
    "        dev_cost_fn, dev_costs, dev_accs = make_cost_fn(dev_pred_fn, validation_data_labels_l)\n",
    "        \n",
    "        result = minimizeSPSA(train_cost_fn, x0=init_params_spsa, a = a_value, c = c_value, niter=EPOCHS, callback=callback_fn)"
   ]
  },
  {
   "cell_type": "code",
   "execution_count": 7,
   "id": "85b70bae-fe88-4852-a423-658641380e57",
   "metadata": {},
   "outputs": [],
   "source": [
    "def initialize_parameters(old_params, old_values, new_params):\n",
    "    new_values = list(numpy.array(rng.random(len(new_params))))\n",
    "    old_param_dict = {}\n",
    "    for p, v in zip(old_params, old_values):\n",
    "        old_param_dict[p] = v\n",
    "        \n",
    "    parameters = sorted(set(old_params + new_params), key=default_sort_key)\n",
    "    values = []\n",
    "    for p in parameters:\n",
    "        if p in old_param_dict:\n",
    "            values.append(old_param_dict[p])\n",
    "        else:\n",
    "            values.append(new_values.pop())\n",
    "            \n",
    "    return parameters, np.array(values)"
   ]
  },
  {
   "cell_type": "code",
   "execution_count": 8,
   "id": "4dd1d87d-047d-4feb-9dbc-c972bbabf741",
   "metadata": {},
   "outputs": [
    {
     "name": "stdout",
     "output_type": "stream",
     "text": [
      "Initializing new parameters\n"
     ]
    }
   ],
   "source": [
    "EPOCHS = 4000\n",
    "initial_number_of_circuits = 26\n",
    "syms = {}\n",
    "limit = False\n",
    "all_training_keys = list(training_circuits.keys())\n",
    "initial_circuit_keys = all_training_keys[:initial_number_of_circuits + 1]\n",
    "current_training_circuits = {}\n",
    "result_file = workload + \"_\" + workload_size + \"_noisyopt_\" + str(classification) + \"_\" + str(layers) + \"_\" + str(single_qubit_params)\n",
    "\n",
    "for k in initial_circuit_keys:\n",
    "    current_training_circuits[k] = training_circuits[k]\n",
    "    \n",
    "syms = get_symbols(current_training_circuits)\n",
    "parameters = sorted(syms, key=default_sort_key)\n",
    "if initial_number_of_circuits > 5 and os.path.exists(\"points//\" + result_file + \".npz\"):\n",
    "    with open(\"points//\" + result_file + \".npz\", \"rb\") as f:\n",
    "        print(\"Loading parameters from file \" + result_file)\n",
    "        npzfile = np.load(f)\n",
    "        init_params_spsa = npzfile['arr_0']\n",
    "else:\n",
    "    print(\"Initializing new parameters\")\n",
    "    init_params_spsa = np.array(rng.random(len(parameters)))\n",
    "result = None\n",
    "run = 0"
   ]
  },
  {
   "cell_type": "code",
   "execution_count": null,
   "id": "52d19610-d096-4de1-b1b9-63aef886e632",
   "metadata": {},
   "outputs": [
    {
     "name": "stdout",
     "output_type": "stream",
     "text": [
      "Progress:  0.011\n",
      "Number of training circuits: 6   Number of validation circuits: 18   Number of test circuits: 19   Number of parameters in model: 130\n"
     ]
    },
    {
     "name": "stderr",
     "output_type": "stream",
     "text": [
      "Epoch: 200   train/loss: 1.2722   valid/loss: 6.0412   train/acc: 0.8333   valid/acc: 0.4444\n",
      "Epoch: 400   train/loss: 1.0343   valid/loss: 6.4171   train/acc: 0.8333   valid/acc: 0.3889\n",
      "Epoch: 600   train/loss: 0.9898   valid/loss: 6.0147   train/acc: 0.8333   valid/acc: 0.3889\n",
      "Epoch: 800   train/loss: 0.8638   valid/loss: 6.0577   train/acc: 0.8333   valid/acc: 0.3889\n",
      "Epoch: 1000   train/loss: 0.6577   valid/loss: 6.1453   train/acc: 0.8333   valid/acc: 0.3889\n",
      "Epoch: 1200   train/loss: 0.5974   valid/loss: 6.1093   train/acc: 0.8333   valid/acc: 0.3333\n",
      "Epoch: 1400   train/loss: 0.5168   valid/loss: 5.8688   train/acc: 0.8333   valid/acc: 0.3333\n",
      "Epoch: 1600   train/loss: 0.4358   valid/loss: 5.9788   train/acc: 1.0   valid/acc: 0.4444\n",
      "Epoch: 1800   train/loss: 0.4187   valid/loss: 6.114   train/acc: 1.0   valid/acc: 0.3333\n",
      "Epoch: 2000   train/loss: 0.3413   valid/loss: 6.1348   train/acc: 1.0   valid/acc: 0.3333\n",
      "Epoch: 2200   train/loss: 0.3317   valid/loss: 6.2488   train/acc: 1.0   valid/acc: 0.3333\n",
      "Epoch: 2400   train/loss: 0.4155   valid/loss: 6.1517   train/acc: 1.0   valid/acc: 0.3333\n",
      "Epoch: 2600   train/loss: 0.3416   valid/loss: 6.4305   train/acc: 1.0   valid/acc: 0.3333\n",
      "Epoch: 2800   train/loss: 0.2745   valid/loss: 6.4451   train/acc: 1.0   valid/acc: 0.3333\n",
      "Epoch: 3000   train/loss: 0.2454   valid/loss: 6.4286   train/acc: 1.0   valid/acc: 0.3333\n",
      "Epoch: 3200   train/loss: 0.2139   valid/loss: 6.3398   train/acc: 1.0   valid/acc: 0.3333\n",
      "Epoch: 3400   train/loss: 0.2041   valid/loss: 6.3258   train/acc: 1.0   valid/acc: 0.3333\n",
      "Epoch: 3600   train/loss: 0.2375   valid/loss: 6.3478   train/acc: 1.0   valid/acc: 0.3333\n",
      "Epoch: 3800   train/loss: 0.246   valid/loss: 6.3694   train/acc: 1.0   valid/acc: 0.3333\n",
      "Epoch: 4000   train/loss: 0.1932   valid/loss: 6.4947   train/acc: 1.0   valid/acc: 0.3333\n"
     ]
    },
    {
     "name": "stdout",
     "output_type": "stream",
     "text": [
      "Test accuracy: 0.05263157894736842\n",
      "Progress:  0.013\n",
      "Number of training circuits: 7   Number of validation circuits: 22   Number of test circuits: 25   Number of parameters in model: 133\n"
     ]
    },
    {
     "name": "stderr",
     "output_type": "stream",
     "text": [
      "Epoch: 200   train/loss: 0.4327   valid/loss: 10.7711   train/acc: 1.0   valid/acc: 0.3182\n",
      "Epoch: 400   train/loss: 0.2718   valid/loss: 10.8024   train/acc: 1.0   valid/acc: 0.3636\n",
      "Epoch: 600   train/loss: 0.3455   valid/loss: 10.5881   train/acc: 1.0   valid/acc: 0.3636\n",
      "Epoch: 800   train/loss: 0.3407   valid/loss: 11.1823   train/acc: 1.0   valid/acc: 0.3636\n",
      "Epoch: 1000   train/loss: 0.4213   valid/loss: 11.7293   train/acc: 1.0   valid/acc: 0.3636\n",
      "Epoch: 1200   train/loss: 0.3327   valid/loss: 11.2404   train/acc: 1.0   valid/acc: 0.3636\n",
      "Epoch: 1400   train/loss: 0.2275   valid/loss: 12.1546   train/acc: 1.0   valid/acc: 0.3636\n",
      "Epoch: 1600   train/loss: 0.3181   valid/loss: 11.5816   train/acc: 1.0   valid/acc: 0.3636\n",
      "Epoch: 1800   train/loss: 0.2141   valid/loss: 14.1735   train/acc: 1.0   valid/acc: 0.3636\n",
      "Epoch: 2000   train/loss: 0.3811   valid/loss: 12.0259   train/acc: 1.0   valid/acc: 0.3636\n",
      "Epoch: 2200   train/loss: 0.2123   valid/loss: 11.8952   train/acc: 1.0   valid/acc: 0.3636\n",
      "Epoch: 2400   train/loss: 0.193   valid/loss: 12.2742   train/acc: 1.0   valid/acc: 0.3636\n",
      "Epoch: 2600   train/loss: 0.2054   valid/loss: 12.0845   train/acc: 1.0   valid/acc: 0.3636\n",
      "Epoch: 2800   train/loss: 0.3837   valid/loss: 12.5081   train/acc: 1.0   valid/acc: 0.3636\n",
      "Epoch: 3000   train/loss: 0.2638   valid/loss: 12.7832   train/acc: 1.0   valid/acc: 0.3636\n",
      "Epoch: 3200   train/loss: 0.1841   valid/loss: 12.0535   train/acc: 1.0   valid/acc: 0.3636\n",
      "Epoch: 3400   train/loss: 0.2709   valid/loss: 12.2994   train/acc: 1.0   valid/acc: 0.3636\n",
      "Epoch: 3600   train/loss: 0.2358   valid/loss: 12.7317   train/acc: 1.0   valid/acc: 0.3636\n",
      "Epoch: 3800   train/loss: 0.2092   valid/loss: 13.096   train/acc: 1.0   valid/acc: 0.3636\n",
      "Epoch: 4000   train/loss: 0.2687   valid/loss: 13.0134   train/acc: 1.0   valid/acc: 0.3636\n"
     ]
    },
    {
     "name": "stdout",
     "output_type": "stream",
     "text": [
      "Test accuracy: 0.2\n",
      "Progress:  0.016\n",
      "Number of training circuits: 8   Number of validation circuits: 29   Number of test circuits: 30   Number of parameters in model: 136\n"
     ]
    },
    {
     "name": "stderr",
     "output_type": "stream",
     "text": [
      "Epoch: 200   train/loss: 0.4439   valid/loss: 12.7994   train/acc: 1.0   valid/acc: 0.3793\n",
      "Epoch: 400   train/loss: 0.3861   valid/loss: 14.0633   train/acc: 1.0   valid/acc: 0.3793\n",
      "Epoch: 600   train/loss: 0.3435   valid/loss: 14.5843   train/acc: 1.0   valid/acc: 0.3793\n",
      "Epoch: 800   train/loss: 0.3848   valid/loss: 14.7725   train/acc: 1.0   valid/acc: 0.3793\n",
      "Epoch: 1000   train/loss: 0.4529   valid/loss: 14.4003   train/acc: 1.0   valid/acc: 0.3793\n",
      "Epoch: 1200   train/loss: 0.3365   valid/loss: 15.301   train/acc: 1.0   valid/acc: 0.3793\n",
      "Epoch: 1400   train/loss: 0.3007   valid/loss: 15.6247   train/acc: 1.0   valid/acc: 0.3793\n",
      "Epoch: 1600   train/loss: 0.3178   valid/loss: 16.5342   train/acc: 1.0   valid/acc: 0.3793\n",
      "Epoch: 1800   train/loss: 0.306   valid/loss: 15.4576   train/acc: 1.0   valid/acc: 0.3793\n",
      "Epoch: 2000   train/loss: 0.3122   valid/loss: 16.2563   train/acc: 1.0   valid/acc: 0.3793\n",
      "Epoch: 2200   train/loss: 0.2875   valid/loss: 15.5371   train/acc: 1.0   valid/acc: 0.3793\n",
      "Epoch: 2400   train/loss: 0.3093   valid/loss: 15.6218   train/acc: 1.0   valid/acc: 0.3793\n",
      "Epoch: 2600   train/loss: 0.3309   valid/loss: 15.9849   train/acc: 1.0   valid/acc: 0.3793\n",
      "Epoch: 2800   train/loss: 0.3098   valid/loss: 17.8529   train/acc: 1.0   valid/acc: 0.3793\n",
      "Epoch: 3000   train/loss: 0.2317   valid/loss: 16.2769   train/acc: 1.0   valid/acc: 0.3793\n",
      "Epoch: 3200   train/loss: 0.2115   valid/loss: 16.4322   train/acc: 1.0   valid/acc: 0.3793\n",
      "Epoch: 3400   train/loss: 0.2949   valid/loss: 17.3643   train/acc: 1.0   valid/acc: 0.3793\n",
      "Epoch: 3600   train/loss: 0.2976   valid/loss: 16.885   train/acc: 1.0   valid/acc: 0.3793\n",
      "Epoch: 3800   train/loss: 0.2533   valid/loss: 17.1405   train/acc: 1.0   valid/acc: 0.3793\n",
      "Epoch: 4000   train/loss: 0.2511   valid/loss: 17.3497   train/acc: 1.0   valid/acc: 0.3793\n"
     ]
    },
    {
     "name": "stdout",
     "output_type": "stream",
     "text": [
      "Test accuracy: 0.16666666666666666\n",
      "Progress:  0.018\n",
      "Number of training circuits: 9   Number of validation circuits: 37   Number of test circuits: 35   Number of parameters in model: 148\n"
     ]
    },
    {
     "name": "stderr",
     "output_type": "stream",
     "text": [
      "Epoch: 200   train/loss: 0.4468   valid/loss: 17.7973   train/acc: 1.0   valid/acc: 0.3784\n",
      "Epoch: 400   train/loss: 0.3404   valid/loss: 19.6135   train/acc: 1.0   valid/acc: 0.3784\n",
      "Epoch: 600   train/loss: 0.4086   valid/loss: 18.9877   train/acc: 1.0   valid/acc: 0.3784\n",
      "Epoch: 800   train/loss: 0.2911   valid/loss: 20.0115   train/acc: 1.0   valid/acc: 0.3784\n",
      "Epoch: 1000   train/loss: 0.2443   valid/loss: 20.5663   train/acc: 1.0   valid/acc: 0.3784\n",
      "Epoch: 1200   train/loss: 0.2674   valid/loss: 20.9507   train/acc: 1.0   valid/acc: 0.3784\n",
      "Epoch: 1400   train/loss: 0.3245   valid/loss: 21.4368   train/acc: 1.0   valid/acc: 0.3784\n",
      "Epoch: 1600   train/loss: 0.3496   valid/loss: 21.1227   train/acc: 1.0   valid/acc: 0.3784\n",
      "Epoch: 1800   train/loss: 0.2619   valid/loss: 22.3336   train/acc: 1.0   valid/acc: 0.3784\n",
      "Epoch: 2000   train/loss: 0.3561   valid/loss: 21.9814   train/acc: 1.0   valid/acc: 0.3784\n",
      "Epoch: 2200   train/loss: 0.3259   valid/loss: 21.423   train/acc: 1.0   valid/acc: 0.3784\n",
      "Epoch: 2400   train/loss: 0.278   valid/loss: 23.4085   train/acc: 1.0   valid/acc: 0.3784\n",
      "Epoch: 2600   train/loss: 0.2908   valid/loss: 22.8885   train/acc: 1.0   valid/acc: 0.3784\n",
      "Epoch: 2800   train/loss: 0.3322   valid/loss: 22.8845   train/acc: 1.0   valid/acc: 0.3784\n",
      "Epoch: 3000   train/loss: 0.3305   valid/loss: 22.948   train/acc: 1.0   valid/acc: 0.3784\n",
      "Epoch: 3200   train/loss: 0.2023   valid/loss: 23.7049   train/acc: 1.0   valid/acc: 0.4054\n",
      "Epoch: 3400   train/loss: 0.3186   valid/loss: 24.6069   train/acc: 1.0   valid/acc: 0.4054\n",
      "Epoch: 3600   train/loss: 0.2308   valid/loss: 22.105   train/acc: 1.0   valid/acc: 0.3784\n",
      "Epoch: 3800   train/loss: 0.2167   valid/loss: 22.9181   train/acc: 1.0   valid/acc: 0.4054\n",
      "Epoch: 4000   train/loss: 0.2273   valid/loss: 22.4994   train/acc: 1.0   valid/acc: 0.4054\n"
     ]
    },
    {
     "name": "stdout",
     "output_type": "stream",
     "text": [
      "Test accuracy: 0.14285714285714285\n",
      "Progress:  0.02\n",
      "Number of training circuits: 10   Number of validation circuits: 45   Number of test circuits: 42   Number of parameters in model: 157\n"
     ]
    },
    {
     "name": "stderr",
     "output_type": "stream",
     "text": [
      "Epoch: 200   train/loss: 0.5275   valid/loss: 20.6312   train/acc: 1.0   valid/acc: 0.3778\n",
      "Epoch: 400   train/loss: 0.3918   valid/loss: 22.9923   train/acc: 1.0   valid/acc: 0.4\n",
      "Epoch: 600   train/loss: 0.3782   valid/loss: 23.9388   train/acc: 1.0   valid/acc: 0.4\n",
      "Epoch: 800   train/loss: 0.3642   valid/loss: 23.6634   train/acc: 1.0   valid/acc: 0.4\n",
      "Epoch: 1000   train/loss: 0.4947   valid/loss: 24.0895   train/acc: 1.0   valid/acc: 0.4\n",
      "Epoch: 1200   train/loss: 0.3731   valid/loss: 25.5284   train/acc: 1.0   valid/acc: 0.3778\n",
      "Epoch: 1400   train/loss: 0.3187   valid/loss: 26.0388   train/acc: 1.0   valid/acc: 0.3778\n",
      "Epoch: 1600   train/loss: 0.3069   valid/loss: 26.4304   train/acc: 1.0   valid/acc: 0.3778\n",
      "Epoch: 1800   train/loss: 0.2428   valid/loss: 27.1867   train/acc: 1.0   valid/acc: 0.3778\n",
      "Epoch: 2000   train/loss: 0.5057   valid/loss: 27.155   train/acc: 1.0   valid/acc: 0.3778\n",
      "Epoch: 2200   train/loss: 0.4489   valid/loss: 27.8442   train/acc: 1.0   valid/acc: 0.3778\n",
      "Epoch: 2400   train/loss: 0.2405   valid/loss: 27.4054   train/acc: 1.0   valid/acc: 0.3778\n",
      "Epoch: 2600   train/loss: 0.2522   valid/loss: 28.3843   train/acc: 1.0   valid/acc: 0.3778\n",
      "Epoch: 2800   train/loss: 0.3446   valid/loss: 27.3485   train/acc: 1.0   valid/acc: 0.3778\n",
      "Epoch: 3000   train/loss: 0.3976   valid/loss: 28.5703   train/acc: 1.0   valid/acc: 0.3778\n",
      "Epoch: 3200   train/loss: 0.2775   valid/loss: 28.2514   train/acc: 1.0   valid/acc: 0.3778\n",
      "Epoch: 3400   train/loss: 0.3714   valid/loss: 28.6775   train/acc: 1.0   valid/acc: 0.3778\n",
      "Epoch: 3600   train/loss: 0.2277   valid/loss: 28.4166   train/acc: 1.0   valid/acc: 0.3778\n",
      "Epoch: 3800   train/loss: 0.3481   valid/loss: 28.5633   train/acc: 1.0   valid/acc: 0.3778\n",
      "Epoch: 4000   train/loss: 0.3549   valid/loss: 28.772   train/acc: 1.0   valid/acc: 0.3778\n"
     ]
    },
    {
     "name": "stdout",
     "output_type": "stream",
     "text": [
      "Test accuracy: 0.21428571428571427\n",
      "Progress:  0.022\n",
      "Number of training circuits: 11   Number of validation circuits: 47   Number of test circuits: 46   Number of parameters in model: 169\n"
     ]
    },
    {
     "name": "stderr",
     "output_type": "stream",
     "text": [
      "Epoch: 200   train/loss: 0.4669   valid/loss: 24.8309   train/acc: 1.0   valid/acc: 0.383\n",
      "Epoch: 400   train/loss: 0.4594   valid/loss: 23.9644   train/acc: 1.0   valid/acc: 0.383\n",
      "Epoch: 600   train/loss: 0.32   valid/loss: 25.5212   train/acc: 1.0   valid/acc: 0.383\n",
      "Epoch: 800   train/loss: 0.3683   valid/loss: 25.8448   train/acc: 1.0   valid/acc: 0.383\n",
      "Epoch: 1000   train/loss: 0.2764   valid/loss: 26.9635   train/acc: 1.0   valid/acc: 0.383\n",
      "Epoch: 1200   train/loss: 0.3382   valid/loss: 26.2717   train/acc: 1.0   valid/acc: 0.383\n",
      "Epoch: 1400   train/loss: 0.3979   valid/loss: 26.134   train/acc: 1.0   valid/acc: 0.383\n",
      "Epoch: 1600   train/loss: 0.3751   valid/loss: 27.0016   train/acc: 1.0   valid/acc: 0.383\n",
      "Epoch: 1800   train/loss: 0.3896   valid/loss: 27.3864   train/acc: 1.0   valid/acc: 0.383\n",
      "Epoch: 2000   train/loss: 0.2586   valid/loss: 28.2184   train/acc: 1.0   valid/acc: 0.383\n",
      "Epoch: 2200   train/loss: 0.3367   valid/loss: 27.9003   train/acc: 1.0   valid/acc: 0.383\n",
      "Epoch: 2400   train/loss: 0.3124   valid/loss: 27.9688   train/acc: 1.0   valid/acc: 0.383\n",
      "Epoch: 2600   train/loss: 0.3831   valid/loss: 28.2072   train/acc: 1.0   valid/acc: 0.383\n",
      "Epoch: 2800   train/loss: 0.3308   valid/loss: 28.7866   train/acc: 1.0   valid/acc: 0.383\n",
      "Epoch: 3000   train/loss: 0.3502   valid/loss: 28.972   train/acc: 1.0   valid/acc: 0.383\n",
      "Epoch: 3200   train/loss: 0.3547   valid/loss: 29.1929   train/acc: 1.0   valid/acc: 0.383\n",
      "Epoch: 3400   train/loss: 0.3304   valid/loss: 29.3091   train/acc: 1.0   valid/acc: 0.383\n",
      "Epoch: 3600   train/loss: 0.3504   valid/loss: 29.625   train/acc: 1.0   valid/acc: 0.383\n",
      "Epoch: 3800   train/loss: 0.3129   valid/loss: 29.7992   train/acc: 1.0   valid/acc: 0.383\n",
      "Epoch: 4000   train/loss: 0.2565   valid/loss: 29.5443   train/acc: 1.0   valid/acc: 0.383\n"
     ]
    },
    {
     "name": "stdout",
     "output_type": "stream",
     "text": [
      "Test accuracy: 0.2826086956521739\n",
      "Progress:  0.025\n",
      "Number of training circuits: 11   Number of validation circuits: 47   Number of test circuits: 46   Number of parameters in model: 169\n"
     ]
    },
    {
     "name": "stderr",
     "output_type": "stream",
     "text": [
      "Epoch: 200   train/loss: 0.3818   valid/loss: 25.794   train/acc: 1.0   valid/acc: 0.383\n",
      "Epoch: 400   train/loss: 0.295   valid/loss: 27.2022   train/acc: 1.0   valid/acc: 0.383\n",
      "Epoch: 600   train/loss: 0.4025   valid/loss: 28.3601   train/acc: 1.0   valid/acc: 0.383\n",
      "Epoch: 800   train/loss: 0.4098   valid/loss: 29.1759   train/acc: 1.0   valid/acc: 0.383\n",
      "Epoch: 1000   train/loss: 0.2342   valid/loss: 29.9282   train/acc: 1.0   valid/acc: 0.383\n",
      "Epoch: 1200   train/loss: 0.3196   valid/loss: 29.8048   train/acc: 1.0   valid/acc: 0.383\n",
      "Epoch: 1400   train/loss: 0.3283   valid/loss: 31.2453   train/acc: 1.0   valid/acc: 0.383\n",
      "Epoch: 1600   train/loss: 0.3379   valid/loss: 31.3035   train/acc: 1.0   valid/acc: 0.383\n",
      "Epoch: 1800   train/loss: 0.2657   valid/loss: 30.8899   train/acc: 1.0   valid/acc: 0.383\n",
      "Epoch: 2000   train/loss: 0.4157   valid/loss: 31.5729   train/acc: 1.0   valid/acc: 0.383\n",
      "Epoch: 2200   train/loss: 0.4402   valid/loss: 31.2269   train/acc: 1.0   valid/acc: 0.383\n",
      "Epoch: 2400   train/loss: 0.2435   valid/loss: 31.0032   train/acc: 1.0   valid/acc: 0.383\n",
      "Epoch: 2600   train/loss: 0.2824   valid/loss: 31.848   train/acc: 1.0   valid/acc: 0.383\n",
      "Epoch: 2800   train/loss: 0.3489   valid/loss: 32.1268   train/acc: 1.0   valid/acc: 0.383\n",
      "Epoch: 3000   train/loss: 0.383   valid/loss: 31.1712   train/acc: 1.0   valid/acc: 0.383\n",
      "Epoch: 3200   train/loss: 0.2313   valid/loss: 30.7832   train/acc: 1.0   valid/acc: 0.383\n",
      "Epoch: 3400   train/loss: 0.2683   valid/loss: 31.42   train/acc: 1.0   valid/acc: 0.383\n",
      "Epoch: 3600   train/loss: 0.2531   valid/loss: 31.8775   train/acc: 1.0   valid/acc: 0.383\n",
      "Epoch: 3800   train/loss: 0.3802   valid/loss: 32.5279   train/acc: 1.0   valid/acc: 0.383\n",
      "Epoch: 4000   train/loss: 0.2721   valid/loss: 32.15   train/acc: 1.0   valid/acc: 0.383\n"
     ]
    },
    {
     "name": "stdout",
     "output_type": "stream",
     "text": [
      "Test accuracy: 0.2826086956521739\n",
      "Progress:  0.027\n",
      "Number of training circuits: 12   Number of validation circuits: 47   Number of test circuits: 46   Number of parameters in model: 169\n"
     ]
    },
    {
     "name": "stderr",
     "output_type": "stream",
     "text": [
      "Epoch: 200   train/loss: 0.5307   valid/loss: 27.9431   train/acc: 1.0   valid/acc: 0.383\n",
      "Epoch: 400   train/loss: 0.5099   valid/loss: 28.2279   train/acc: 1.0   valid/acc: 0.383\n",
      "Epoch: 600   train/loss: 0.5134   valid/loss: 30.1567   train/acc: 1.0   valid/acc: 0.383\n",
      "Epoch: 800   train/loss: 0.388   valid/loss: 31.1445   train/acc: 1.0   valid/acc: 0.383\n",
      "Epoch: 1000   train/loss: 0.3454   valid/loss: 31.2154   train/acc: 1.0   valid/acc: 0.383\n",
      "Epoch: 1200   train/loss: 0.3474   valid/loss: 31.2767   train/acc: 1.0   valid/acc: 0.383\n",
      "Epoch: 1400   train/loss: 0.6318   valid/loss: 31.7262   train/acc: 1.0   valid/acc: 0.383\n",
      "Epoch: 1600   train/loss: 0.2618   valid/loss: 31.2237   train/acc: 1.0   valid/acc: 0.383\n",
      "Epoch: 1800   train/loss: 0.3741   valid/loss: 31.7061   train/acc: 1.0   valid/acc: 0.383\n",
      "Epoch: 2000   train/loss: 0.4233   valid/loss: 31.7841   train/acc: 1.0   valid/acc: 0.3617\n",
      "Epoch: 2200   train/loss: 0.3604   valid/loss: 32.2885   train/acc: 1.0   valid/acc: 0.3617\n",
      "Epoch: 2400   train/loss: 0.3526   valid/loss: 32.3817   train/acc: 1.0   valid/acc: 0.3617\n",
      "Epoch: 2600   train/loss: 0.308   valid/loss: 33.1543   train/acc: 1.0   valid/acc: 0.3617\n",
      "Epoch: 2800   train/loss: 0.4548   valid/loss: 33.773   train/acc: 1.0   valid/acc: 0.3617\n",
      "Epoch: 3000   train/loss: 0.3291   valid/loss: 33.9811   train/acc: 1.0   valid/acc: 0.3617\n",
      "Epoch: 3200   train/loss: 0.2522   valid/loss: 33.678   train/acc: 1.0   valid/acc: 0.3617\n",
      "Epoch: 3400   train/loss: 0.367   valid/loss: 34.0653   train/acc: 1.0   valid/acc: 0.3617\n",
      "Epoch: 3600   train/loss: 0.2573   valid/loss: 34.7732   train/acc: 1.0   valid/acc: 0.3617\n",
      "Epoch: 3800   train/loss: 0.4356   valid/loss: 34.8587   train/acc: 1.0   valid/acc: 0.3617\n",
      "Epoch: 4000   train/loss: 0.2832   valid/loss: 34.7577   train/acc: 1.0   valid/acc: 0.3617\n"
     ]
    },
    {
     "name": "stdout",
     "output_type": "stream",
     "text": [
      "Test accuracy: 0.2391304347826087\n",
      "Progress:  0.029\n",
      "Number of training circuits: 13   Number of validation circuits: 53   Number of test circuits: 52   Number of parameters in model: 186\n"
     ]
    },
    {
     "name": "stderr",
     "output_type": "stream",
     "text": [
      "Epoch: 200   train/loss: 0.6442   valid/loss: 27.4945   train/acc: 1.0   valid/acc: 0.3774\n",
      "Epoch: 400   train/loss: 0.54   valid/loss: 27.0472   train/acc: 1.0   valid/acc: 0.3962\n",
      "Epoch: 600   train/loss: 0.657   valid/loss: 27.5878   train/acc: 1.0   valid/acc: 0.4717\n",
      "Epoch: 800   train/loss: 0.4071   valid/loss: 28.007   train/acc: 1.0   valid/acc: 0.4717\n",
      "Epoch: 1000   train/loss: 0.5413   valid/loss: 27.8766   train/acc: 1.0   valid/acc: 0.4717\n",
      "Epoch: 1200   train/loss: 0.5506   valid/loss: 28.6371   train/acc: 1.0   valid/acc: 0.4717\n",
      "Epoch: 1400   train/loss: 0.6061   valid/loss: 28.5946   train/acc: 1.0   valid/acc: 0.4717\n",
      "Epoch: 1600   train/loss: 0.4703   valid/loss: 28.3708   train/acc: 1.0   valid/acc: 0.434\n",
      "Epoch: 1800   train/loss: 0.5013   valid/loss: 27.906   train/acc: 1.0   valid/acc: 0.434\n",
      "Epoch: 2000   train/loss: 0.3837   valid/loss: 28.7983   train/acc: 1.0   valid/acc: 0.434\n",
      "Epoch: 2200   train/loss: 0.4524   valid/loss: 29.5896   train/acc: 1.0   valid/acc: 0.4151\n",
      "Epoch: 2400   train/loss: 0.4324   valid/loss: 29.9059   train/acc: 1.0   valid/acc: 0.4151\n",
      "Epoch: 2600   train/loss: 0.3457   valid/loss: 29.7079   train/acc: 1.0   valid/acc: 0.4151\n",
      "Epoch: 2800   train/loss: 0.406   valid/loss: 30.3135   train/acc: 1.0   valid/acc: 0.4151\n",
      "Epoch: 3000   train/loss: 0.3509   valid/loss: 29.9603   train/acc: 1.0   valid/acc: 0.4151\n",
      "Epoch: 3200   train/loss: 0.529   valid/loss: 30.2925   train/acc: 1.0   valid/acc: 0.4151\n",
      "Epoch: 3400   train/loss: 0.3658   valid/loss: 31.0754   train/acc: 1.0   valid/acc: 0.4151\n",
      "Epoch: 3600   train/loss: 0.3452   valid/loss: 30.5693   train/acc: 1.0   valid/acc: 0.4151\n",
      "Epoch: 3800   train/loss: 0.5148   valid/loss: 31.1804   train/acc: 1.0   valid/acc: 0.4151\n",
      "Epoch: 4000   train/loss: 0.2819   valid/loss: 30.7363   train/acc: 1.0   valid/acc: 0.4151\n"
     ]
    },
    {
     "name": "stdout",
     "output_type": "stream",
     "text": [
      "Test accuracy: 0.36538461538461536\n",
      "Progress:  0.031\n",
      "Number of training circuits: 14   Number of validation circuits: 70   Number of test circuits: 64   Number of parameters in model: 189\n"
     ]
    },
    {
     "name": "stderr",
     "output_type": "stream",
     "text": [
      "Epoch: 200   train/loss: 1.0965   valid/loss: 35.3105   train/acc: 0.9286   valid/acc: 0.3286\n",
      "Epoch: 400   train/loss: 1.1209   valid/loss: 35.7064   train/acc: 0.9286   valid/acc: 0.3\n",
      "Epoch: 600   train/loss: 1.0369   valid/loss: 37.1529   train/acc: 0.9286   valid/acc: 0.2857\n",
      "Epoch: 800   train/loss: 0.9928   valid/loss: 37.3634   train/acc: 0.9286   valid/acc: 0.3143\n",
      "Epoch: 1000   train/loss: 1.0078   valid/loss: 37.1151   train/acc: 0.9286   valid/acc: 0.3143\n",
      "Epoch: 1200   train/loss: 0.9811   valid/loss: 38.8184   train/acc: 0.9286   valid/acc: 0.3143\n",
      "Epoch: 1400   train/loss: 1.0089   valid/loss: 38.3792   train/acc: 0.9286   valid/acc: 0.3143\n",
      "Epoch: 1600   train/loss: 0.9132   valid/loss: 39.6281   train/acc: 0.9286   valid/acc: 0.3143\n",
      "Epoch: 1800   train/loss: 0.889   valid/loss: 39.6225   train/acc: 0.9286   valid/acc: 0.3143\n",
      "Epoch: 2000   train/loss: 1.0443   valid/loss: 38.4937   train/acc: 0.9286   valid/acc: 0.3143\n",
      "Epoch: 2200   train/loss: 0.981   valid/loss: 38.298   train/acc: 0.9286   valid/acc: 0.3143\n",
      "Epoch: 2400   train/loss: 0.9358   valid/loss: 39.0861   train/acc: 0.9286   valid/acc: 0.3143\n",
      "Epoch: 2600   train/loss: 0.9593   valid/loss: 38.6763   train/acc: 0.9286   valid/acc: 0.3143\n",
      "Epoch: 2800   train/loss: 1.0195   valid/loss: 39.1332   train/acc: 0.9286   valid/acc: 0.3143\n",
      "Epoch: 3000   train/loss: 0.9983   valid/loss: 39.1703   train/acc: 0.9286   valid/acc: 0.3143\n",
      "Epoch: 3200   train/loss: 0.8075   valid/loss: 39.5361   train/acc: 0.9286   valid/acc: 0.3143\n",
      "Epoch: 3400   train/loss: 1.0447   valid/loss: 39.3097   train/acc: 0.9286   valid/acc: 0.3143\n",
      "Epoch: 3600   train/loss: 0.9255   valid/loss: 38.9292   train/acc: 0.9286   valid/acc: 0.3143\n",
      "Epoch: 3800   train/loss: 1.0298   valid/loss: 39.1706   train/acc: 0.9286   valid/acc: 0.3143\n",
      "Epoch: 4000   train/loss: 0.8558   valid/loss: 39.6245   train/acc: 0.9286   valid/acc: 0.3143\n"
     ]
    },
    {
     "name": "stdout",
     "output_type": "stream",
     "text": [
      "Test accuracy: 0.25\n",
      "Progress:  0.033\n",
      "Number of training circuits: 15   Number of validation circuits: 70   Number of test circuits: 64   Number of parameters in model: 189\n"
     ]
    },
    {
     "name": "stderr",
     "output_type": "stream",
     "text": [
      "Epoch: 200   train/loss: 1.3846   valid/loss: 36.0206   train/acc: 0.8667   valid/acc: 0.3286\n",
      "Epoch: 400   train/loss: 1.2955   valid/loss: 35.7151   train/acc: 0.8667   valid/acc: 0.3\n",
      "Epoch: 600   train/loss: 1.2212   valid/loss: 36.557   train/acc: 0.9333   valid/acc: 0.2857\n",
      "Epoch: 800   train/loss: 1.294   valid/loss: 36.2308   train/acc: 0.9333   valid/acc: 0.2857\n",
      "Epoch: 1000   train/loss: 1.3588   valid/loss: 36.8042   train/acc: 0.8667   valid/acc: 0.2857\n",
      "Epoch: 1200   train/loss: 1.1925   valid/loss: 37.1669   train/acc: 0.9333   valid/acc: 0.2857\n",
      "Epoch: 1400   train/loss: 1.2708   valid/loss: 36.953   train/acc: 0.9333   valid/acc: 0.2857\n",
      "Epoch: 1600   train/loss: 1.2269   valid/loss: 37.1279   train/acc: 0.9333   valid/acc: 0.2857\n",
      "Epoch: 1800   train/loss: 1.2005   valid/loss: 36.487   train/acc: 0.9333   valid/acc: 0.2857\n",
      "Epoch: 2000   train/loss: 1.2032   valid/loss: 36.5192   train/acc: 0.9333   valid/acc: 0.2857\n",
      "Epoch: 2200   train/loss: 1.2029   valid/loss: 36.5082   train/acc: 0.9333   valid/acc: 0.2857\n",
      "Epoch: 2400   train/loss: 1.1251   valid/loss: 35.3156   train/acc: 0.9333   valid/acc: 0.2857\n",
      "Epoch: 2600   train/loss: 1.1981   valid/loss: 35.0263   train/acc: 0.9333   valid/acc: 0.2857\n",
      "Epoch: 2800   train/loss: 1.1786   valid/loss: 34.6793   train/acc: 0.9333   valid/acc: 0.2857\n",
      "Epoch: 3000   train/loss: 1.1463   valid/loss: 35.1698   train/acc: 0.8667   valid/acc: 0.2857\n",
      "Epoch: 3200   train/loss: 1.1968   valid/loss: 34.4889   train/acc: 0.9333   valid/acc: 0.2857\n",
      "Epoch: 3400   train/loss: 1.1341   valid/loss: 34.4415   train/acc: 0.9333   valid/acc: 0.2857\n",
      "Epoch: 3600   train/loss: 1.0784   valid/loss: 34.3825   train/acc: 0.9333   valid/acc: 0.3\n",
      "Epoch: 3800   train/loss: 1.3196   valid/loss: 34.428   train/acc: 0.9333   valid/acc: 0.3\n",
      "Epoch: 4000   train/loss: 1.1712   valid/loss: 34.4405   train/acc: 0.9333   valid/acc: 0.3\n"
     ]
    },
    {
     "name": "stdout",
     "output_type": "stream",
     "text": [
      "Test accuracy: 0.28125\n",
      "Progress:  0.036\n",
      "Number of training circuits: 16   Number of validation circuits: 73   Number of test circuits: 67   Number of parameters in model: 192\n"
     ]
    },
    {
     "name": "stderr",
     "output_type": "stream",
     "text": [
      "Epoch: 200   train/loss: 1.5955   valid/loss: 31.7386   train/acc: 0.875   valid/acc: 0.3151\n",
      "Epoch: 400   train/loss: 1.6547   valid/loss: 34.8761   train/acc: 0.875   valid/acc: 0.3151\n",
      "Epoch: 600   train/loss: 1.7021   valid/loss: 34.6442   train/acc: 0.875   valid/acc: 0.3151\n",
      "Epoch: 800   train/loss: 1.568   valid/loss: 34.1875   train/acc: 0.875   valid/acc: 0.3014\n",
      "Epoch: 1000   train/loss: 1.4246   valid/loss: 34.8696   train/acc: 0.875   valid/acc: 0.3014\n",
      "Epoch: 1200   train/loss: 1.4083   valid/loss: 35.4826   train/acc: 0.875   valid/acc: 0.3014\n",
      "Epoch: 1400   train/loss: 1.4297   valid/loss: 35.9262   train/acc: 0.875   valid/acc: 0.3014\n",
      "Epoch: 1600   train/loss: 1.5398   valid/loss: 38.1263   train/acc: 0.875   valid/acc: 0.2877\n",
      "Epoch: 1800   train/loss: 1.5079   valid/loss: 39.0929   train/acc: 0.875   valid/acc: 0.2877\n",
      "Epoch: 2000   train/loss: 1.4425   valid/loss: 38.6523   train/acc: 0.875   valid/acc: 0.2877\n",
      "Epoch: 2200   train/loss: 1.382   valid/loss: 37.6029   train/acc: 0.875   valid/acc: 0.2877\n",
      "Epoch: 2400   train/loss: 1.5609   valid/loss: 37.3418   train/acc: 0.875   valid/acc: 0.2877\n",
      "Epoch: 2600   train/loss: 1.4727   valid/loss: 37.5089   train/acc: 0.875   valid/acc: 0.2877\n",
      "Epoch: 2800   train/loss: 1.3762   valid/loss: 38.5789   train/acc: 0.875   valid/acc: 0.2877\n",
      "Epoch: 3000   train/loss: 1.3994   valid/loss: 38.1922   train/acc: 0.875   valid/acc: 0.2877\n",
      "Epoch: 3200   train/loss: 1.3421   valid/loss: 39.5506   train/acc: 0.875   valid/acc: 0.2877\n",
      "Epoch: 3400   train/loss: 1.49   valid/loss: 38.7845   train/acc: 0.875   valid/acc: 0.2877\n",
      "Epoch: 3600   train/loss: 1.3337   valid/loss: 38.5136   train/acc: 0.875   valid/acc: 0.2877\n",
      "Epoch: 3800   train/loss: 1.4108   valid/loss: 39.272   train/acc: 0.875   valid/acc: 0.2877\n",
      "Epoch: 4000   train/loss: 1.4362   valid/loss: 39.2509   train/acc: 0.875   valid/acc: 0.2877\n"
     ]
    },
    {
     "name": "stdout",
     "output_type": "stream",
     "text": [
      "Test accuracy: 0.29850746268656714\n",
      "Progress:  0.038\n",
      "Number of training circuits: 17   Number of validation circuits: 73   Number of test circuits: 67   Number of parameters in model: 192\n"
     ]
    },
    {
     "name": "stderr",
     "output_type": "stream",
     "text": [
      "Epoch: 200   train/loss: 1.9908   valid/loss: 37.6962   train/acc: 0.8235   valid/acc: 0.2877\n",
      "Epoch: 400   train/loss: 1.8803   valid/loss: 35.5631   train/acc: 0.8235   valid/acc: 0.274\n",
      "Epoch: 600   train/loss: 1.7162   valid/loss: 35.2533   train/acc: 0.8235   valid/acc: 0.3151\n",
      "Epoch: 800   train/loss: 1.7094   valid/loss: 38.6673   train/acc: 0.8235   valid/acc: 0.2877\n",
      "Epoch: 1000   train/loss: 1.8035   valid/loss: 37.321   train/acc: 0.8235   valid/acc: 0.2603\n",
      "Epoch: 1200   train/loss: 1.7364   valid/loss: 37.9985   train/acc: 0.8235   valid/acc: 0.2603\n",
      "Epoch: 1400   train/loss: 1.7731   valid/loss: 39.1724   train/acc: 0.8235   valid/acc: 0.2603\n",
      "Epoch: 1600   train/loss: 1.7467   valid/loss: 40.7698   train/acc: 0.8235   valid/acc: 0.274\n",
      "Epoch: 1800   train/loss: 1.672   valid/loss: 41.0535   train/acc: 0.8235   valid/acc: 0.274\n",
      "Epoch: 2000   train/loss: 1.6469   valid/loss: 38.1849   train/acc: 0.8235   valid/acc: 0.274\n",
      "Epoch: 2200   train/loss: 1.7538   valid/loss: 39.9876   train/acc: 0.8235   valid/acc: 0.274\n",
      "Epoch: 2400   train/loss: 1.669   valid/loss: 40.9458   train/acc: 0.8235   valid/acc: 0.274\n",
      "Epoch: 2600   train/loss: 1.5516   valid/loss: 41.1213   train/acc: 0.8235   valid/acc: 0.274\n",
      "Epoch: 2800   train/loss: 1.6041   valid/loss: 41.0378   train/acc: 0.8235   valid/acc: 0.274\n",
      "Epoch: 3000   train/loss: 1.6264   valid/loss: 40.9665   train/acc: 0.8235   valid/acc: 0.274\n",
      "Epoch: 3200   train/loss: 1.6473   valid/loss: 39.7366   train/acc: 0.8235   valid/acc: 0.274\n",
      "Epoch: 3400   train/loss: 1.5971   valid/loss: 41.012   train/acc: 0.8235   valid/acc: 0.274\n",
      "Epoch: 3600   train/loss: 1.7394   valid/loss: 39.8234   train/acc: 0.8235   valid/acc: 0.274\n",
      "Epoch: 3800   train/loss: 1.5719   valid/loss: 40.9338   train/acc: 0.8235   valid/acc: 0.274\n",
      "Epoch: 4000   train/loss: 1.7996   valid/loss: 41.2844   train/acc: 0.8235   valid/acc: 0.274\n"
     ]
    },
    {
     "name": "stdout",
     "output_type": "stream",
     "text": [
      "Test accuracy: 0.26865671641791045\n",
      "Progress:  0.04\n",
      "Number of training circuits: 18   Number of validation circuits: 85   Number of test circuits: 74   Number of parameters in model: 195\n"
     ]
    },
    {
     "name": "stderr",
     "output_type": "stream",
     "text": [
      "Epoch: 200   train/loss: 2.4157   valid/loss: 40.4771   train/acc: 0.7778   valid/acc: 0.2706\n",
      "Epoch: 400   train/loss: 2.5189   valid/loss: 41.8172   train/acc: 0.7778   valid/acc: 0.2706\n",
      "Epoch: 600   train/loss: 2.1682   valid/loss: 43.7895   train/acc: 0.7778   valid/acc: 0.2706\n",
      "Epoch: 800   train/loss: 2.068   valid/loss: 47.0055   train/acc: 0.7778   valid/acc: 0.2588\n",
      "Epoch: 1000   train/loss: 2.309   valid/loss: 47.234   train/acc: 0.7778   valid/acc: 0.2588\n",
      "Epoch: 1200   train/loss: 1.9802   valid/loss: 44.6953   train/acc: 0.7778   valid/acc: 0.2588\n",
      "Epoch: 1400   train/loss: 2.0952   valid/loss: 44.8029   train/acc: 0.7778   valid/acc: 0.2588\n",
      "Epoch: 1600   train/loss: 2.1593   valid/loss: 48.1887   train/acc: 0.7778   valid/acc: 0.2588\n",
      "Epoch: 1800   train/loss: 2.1088   valid/loss: 46.0445   train/acc: 0.7778   valid/acc: 0.2588\n",
      "Epoch: 2000   train/loss: 1.9852   valid/loss: 47.4917   train/acc: 0.7778   valid/acc: 0.2588\n",
      "Epoch: 2200   train/loss: 2.0094   valid/loss: 46.9571   train/acc: 0.7778   valid/acc: 0.2588\n",
      "Epoch: 2400   train/loss: 2.1841   valid/loss: 47.7102   train/acc: 0.7778   valid/acc: 0.2471\n",
      "Epoch: 2600   train/loss: 2.0944   valid/loss: 46.055   train/acc: 0.7778   valid/acc: 0.2353\n",
      "Epoch: 2800   train/loss: 2.0378   valid/loss: 49.0956   train/acc: 0.7778   valid/acc: 0.2235\n",
      "Epoch: 3000   train/loss: 2.0249   valid/loss: 46.9742   train/acc: 0.7778   valid/acc: 0.2588\n",
      "Epoch: 3200   train/loss: 2.0665   valid/loss: 46.9158   train/acc: 0.7778   valid/acc: 0.2235\n",
      "Epoch: 3400   train/loss: 2.1797   valid/loss: 47.4168   train/acc: 0.7778   valid/acc: 0.2235\n",
      "Epoch: 3600   train/loss: 2.0617   valid/loss: 50.0801   train/acc: 0.7778   valid/acc: 0.2235\n",
      "Epoch: 3800   train/loss: 2.0515   valid/loss: 49.2664   train/acc: 0.7778   valid/acc: 0.2235\n",
      "Epoch: 4000   train/loss: 2.1014   valid/loss: 46.8758   train/acc: 0.7778   valid/acc: 0.2235\n"
     ]
    },
    {
     "name": "stdout",
     "output_type": "stream",
     "text": [
      "Test accuracy: 0.21621621621621623\n",
      "Progress:  0.042\n",
      "Number of training circuits: 19   Number of validation circuits: 87   Number of test circuits: 78   Number of parameters in model: 201\n"
     ]
    },
    {
     "name": "stderr",
     "output_type": "stream",
     "text": [
      "Epoch: 200   train/loss: 3.1107   valid/loss: 38.2667   train/acc: 0.6842   valid/acc: 0.2299\n",
      "Epoch: 400   train/loss: 2.5148   valid/loss: 39.1183   train/acc: 0.7895   valid/acc: 0.2299\n",
      "Epoch: 600   train/loss: 2.5362   valid/loss: 40.2608   train/acc: 0.8421   valid/acc: 0.2299\n",
      "Epoch: 800   train/loss: 2.2401   valid/loss: 41.1879   train/acc: 0.8421   valid/acc: 0.2414\n",
      "Epoch: 1000   train/loss: 2.2289   valid/loss: 43.2419   train/acc: 0.8421   valid/acc: 0.2184\n",
      "Epoch: 1200   train/loss: 2.3456   valid/loss: 43.2841   train/acc: 0.8421   valid/acc: 0.2299\n",
      "Epoch: 1400   train/loss: 2.1398   valid/loss: 43.6908   train/acc: 0.8421   valid/acc: 0.2184\n",
      "Epoch: 1600   train/loss: 2.2522   valid/loss: 44.0849   train/acc: 0.8421   valid/acc: 0.2184\n",
      "Epoch: 1800   train/loss: 2.3562   valid/loss: 45.3284   train/acc: 0.8421   valid/acc: 0.2299\n",
      "Epoch: 2000   train/loss: 2.1062   valid/loss: 46.8676   train/acc: 0.8421   valid/acc: 0.2299\n",
      "Epoch: 2200   train/loss: 2.1565   valid/loss: 48.3999   train/acc: 0.8421   valid/acc: 0.2299\n",
      "Epoch: 2400   train/loss: 2.1586   valid/loss: 48.3491   train/acc: 0.8421   valid/acc: 0.2299\n",
      "Epoch: 2600   train/loss: 2.2206   valid/loss: 50.2562   train/acc: 0.8421   valid/acc: 0.2184\n",
      "Epoch: 2800   train/loss: 1.9802   valid/loss: 52.4252   train/acc: 0.8421   valid/acc: 0.2184\n",
      "Epoch: 3000   train/loss: 2.1232   valid/loss: 51.3891   train/acc: 0.8421   valid/acc: 0.2299\n",
      "Epoch: 3200   train/loss: 2.1279   valid/loss: 50.8878   train/acc: 0.8421   valid/acc: 0.2299\n",
      "Epoch: 3400   train/loss: 2.0329   valid/loss: 53.1216   train/acc: 0.8421   valid/acc: 0.2299\n",
      "Epoch: 3600   train/loss: 2.0749   valid/loss: 49.5906   train/acc: 0.8421   valid/acc: 0.2414\n",
      "Epoch: 3800   train/loss: 1.9876   valid/loss: 51.0667   train/acc: 0.8421   valid/acc: 0.2414\n",
      "Epoch: 4000   train/loss: 1.9967   valid/loss: 51.608   train/acc: 0.8421   valid/acc: 0.2299\n"
     ]
    },
    {
     "name": "stdout",
     "output_type": "stream",
     "text": [
      "Test accuracy: 0.34615384615384615\n",
      "Progress:  0.045\n",
      "Number of training circuits: 20   Number of validation circuits: 87   Number of test circuits: 81   Number of parameters in model: 204\n"
     ]
    },
    {
     "name": "stderr",
     "output_type": "stream",
     "text": [
      "Epoch: 200   train/loss: 2.5112   valid/loss: 46.7576   train/acc: 0.8   valid/acc: 0.2299\n",
      "Epoch: 400   train/loss: 2.5117   valid/loss: 49.0003   train/acc: 0.8   valid/acc: 0.2299\n",
      "Epoch: 600   train/loss: 2.3812   valid/loss: 51.6141   train/acc: 0.8   valid/acc: 0.1954\n",
      "Epoch: 800   train/loss: 2.2466   valid/loss: 49.5412   train/acc: 0.8   valid/acc: 0.2299\n",
      "Epoch: 1000   train/loss: 2.3262   valid/loss: 50.3946   train/acc: 0.8   valid/acc: 0.2299\n",
      "Epoch: 1200   train/loss: 2.1521   valid/loss: 52.4519   train/acc: 0.8   valid/acc: 0.2184\n",
      "Epoch: 1400   train/loss: 2.4493   valid/loss: 54.0979   train/acc: 0.8   valid/acc: 0.2184\n",
      "Epoch: 1600   train/loss: 2.2585   valid/loss: 53.5913   train/acc: 0.8   valid/acc: 0.2414\n",
      "Epoch: 1800   train/loss: 2.3693   valid/loss: 54.9754   train/acc: 0.8   valid/acc: 0.2299\n",
      "Epoch: 2000   train/loss: 2.4458   valid/loss: 52.5455   train/acc: 0.8   valid/acc: 0.2414\n",
      "Epoch: 2200   train/loss: 2.3765   valid/loss: 53.9191   train/acc: 0.8   valid/acc: 0.2414\n",
      "Epoch: 2400   train/loss: 2.1952   valid/loss: 55.3224   train/acc: 0.8   valid/acc: 0.2299\n",
      "Epoch: 2600   train/loss: 2.3095   valid/loss: 58.3083   train/acc: 0.8   valid/acc: 0.2414\n",
      "Epoch: 2800   train/loss: 2.1524   valid/loss: 59.1526   train/acc: 0.8   valid/acc: 0.2414\n",
      "Epoch: 3000   train/loss: 2.3394   valid/loss: 56.1728   train/acc: 0.8   valid/acc: 0.2299\n",
      "Epoch: 3200   train/loss: 2.1819   valid/loss: 60.2453   train/acc: 0.8   valid/acc: 0.2299\n",
      "Epoch: 3400   train/loss: 2.0548   valid/loss: 56.9623   train/acc: 0.8   valid/acc: 0.2414\n",
      "Epoch: 3600   train/loss: 2.1839   valid/loss: 58.4515   train/acc: 0.8   valid/acc: 0.2299\n",
      "Epoch: 3800   train/loss: 2.158   valid/loss: 58.9861   train/acc: 0.8   valid/acc: 0.2299\n",
      "Epoch: 4000   train/loss: 2.3091   valid/loss: 60.8656   train/acc: 0.8   valid/acc: 0.2299\n"
     ]
    },
    {
     "name": "stdout",
     "output_type": "stream",
     "text": [
      "Test accuracy: 0.37037037037037035\n",
      "Progress:  0.047\n",
      "Number of training circuits: 21   Number of validation circuits: 87   Number of test circuits: 84   Number of parameters in model: 207\n"
     ]
    },
    {
     "name": "stderr",
     "output_type": "stream",
     "text": [
      "Epoch: 200   train/loss: 2.4648   valid/loss: 48.7718   train/acc: 0.8095   valid/acc: 0.2759\n",
      "Epoch: 400   train/loss: 2.5726   valid/loss: 52.7725   train/acc: 0.8095   valid/acc: 0.2414\n",
      "Epoch: 600   train/loss: 2.5161   valid/loss: 52.7693   train/acc: 0.8095   valid/acc: 0.2299\n",
      "Epoch: 800   train/loss: 2.4053   valid/loss: 53.7347   train/acc: 0.8095   valid/acc: 0.2299\n",
      "Epoch: 1000   train/loss: 2.2103   valid/loss: 56.9395   train/acc: 0.8095   valid/acc: 0.2414\n",
      "Epoch: 1200   train/loss: 2.1843   valid/loss: 55.7654   train/acc: 0.8095   valid/acc: 0.2529\n",
      "Epoch: 1400   train/loss: 2.1373   valid/loss: 60.04   train/acc: 0.8095   valid/acc: 0.2414\n",
      "Epoch: 1600   train/loss: 2.1532   valid/loss: 62.5078   train/acc: 0.8095   valid/acc: 0.2414\n",
      "Epoch: 1800   train/loss: 2.1573   valid/loss: 60.6464   train/acc: 0.8095   valid/acc: 0.2414\n",
      "Epoch: 2000   train/loss: 2.4149   valid/loss: 58.6035   train/acc: 0.8095   valid/acc: 0.2529\n",
      "Epoch: 2200   train/loss: 2.4852   valid/loss: 60.2152   train/acc: 0.8095   valid/acc: 0.2414\n",
      "Epoch: 2400   train/loss: 2.2925   valid/loss: 65.1552   train/acc: 0.8095   valid/acc: 0.2414\n",
      "Epoch: 2600   train/loss: 2.2258   valid/loss: 61.0676   train/acc: 0.8095   valid/acc: 0.2529\n",
      "Epoch: 2800   train/loss: 2.2577   valid/loss: 59.6303   train/acc: 0.8095   valid/acc: 0.2414\n",
      "Epoch: 3000   train/loss: 2.3002   valid/loss: 62.0815   train/acc: 0.8095   valid/acc: 0.2414\n",
      "Epoch: 3200   train/loss: 2.2087   valid/loss: 60.8216   train/acc: 0.8095   valid/acc: 0.2414\n",
      "Epoch: 3400   train/loss: 2.173   valid/loss: 64.6437   train/acc: 0.8095   valid/acc: 0.2414\n",
      "Epoch: 3600   train/loss: 2.1051   valid/loss: 61.9634   train/acc: 0.8095   valid/acc: 0.2414\n",
      "Epoch: 3800   train/loss: 2.1133   valid/loss: 63.9907   train/acc: 0.8095   valid/acc: 0.2414\n",
      "Epoch: 4000   train/loss: 2.1125   valid/loss: 61.1592   train/acc: 0.8095   valid/acc: 0.2414\n"
     ]
    },
    {
     "name": "stdout",
     "output_type": "stream",
     "text": [
      "Test accuracy: 0.3333333333333333\n",
      "Progress:  0.049\n",
      "Number of training circuits: 22   Number of validation circuits: 87   Number of test circuits: 84   Number of parameters in model: 207\n"
     ]
    },
    {
     "name": "stderr",
     "output_type": "stream",
     "text": [
      "Epoch: 200   train/loss: 2.9506   valid/loss: 49.6911   train/acc: 0.7727   valid/acc: 0.2069\n",
      "Epoch: 400   train/loss: 3.0033   valid/loss: 53.3592   train/acc: 0.7727   valid/acc: 0.2069\n",
      "Epoch: 600   train/loss: 2.8387   valid/loss: 53.8756   train/acc: 0.7727   valid/acc: 0.2069\n",
      "Epoch: 800   train/loss: 2.8537   valid/loss: 52.4181   train/acc: 0.7727   valid/acc: 0.2069\n",
      "Epoch: 1000   train/loss: 2.8399   valid/loss: 55.4397   train/acc: 0.7727   valid/acc: 0.2069\n",
      "Epoch: 1200   train/loss: 2.9464   valid/loss: 52.4272   train/acc: 0.7727   valid/acc: 0.2069\n",
      "Epoch: 1400   train/loss: 2.7792   valid/loss: 54.8149   train/acc: 0.7727   valid/acc: 0.2069\n",
      "Epoch: 1600   train/loss: 2.5928   valid/loss: 54.7416   train/acc: 0.7727   valid/acc: 0.2069\n",
      "Epoch: 1800   train/loss: 2.8315   valid/loss: 55.2839   train/acc: 0.7727   valid/acc: 0.2069\n",
      "Epoch: 2000   train/loss: 2.8121   valid/loss: 54.1588   train/acc: 0.7727   valid/acc: 0.2069\n",
      "Epoch: 2200   train/loss: 2.5808   valid/loss: 55.6993   train/acc: 0.7727   valid/acc: 0.2069\n",
      "Epoch: 2400   train/loss: 2.6179   valid/loss: 59.9551   train/acc: 0.7727   valid/acc: 0.2069\n",
      "Epoch: 2600   train/loss: 2.6009   valid/loss: 56.6125   train/acc: 0.7727   valid/acc: 0.2069\n",
      "Epoch: 2800   train/loss: 2.5998   valid/loss: 55.3038   train/acc: 0.7727   valid/acc: 0.2069\n",
      "Epoch: 3000   train/loss: 2.6448   valid/loss: 60.4702   train/acc: 0.7727   valid/acc: 0.2069\n",
      "Epoch: 3200   train/loss: 2.7042   valid/loss: 57.8484   train/acc: 0.7273   valid/acc: 0.2069\n",
      "Epoch: 3400   train/loss: 2.6924   valid/loss: 57.0592   train/acc: 0.7727   valid/acc: 0.1954\n",
      "Epoch: 3600   train/loss: 2.5784   valid/loss: 56.7526   train/acc: 0.7727   valid/acc: 0.2069\n",
      "Epoch: 3800   train/loss: 2.6021   valid/loss: 58.4327   train/acc: 0.7727   valid/acc: 0.2069\n",
      "Epoch: 4000   train/loss: 2.609   valid/loss: 58.5879   train/acc: 0.7727   valid/acc: 0.2069\n"
     ]
    },
    {
     "name": "stdout",
     "output_type": "stream",
     "text": [
      "Test accuracy: 0.30952380952380953\n",
      "Progress:  0.051\n",
      "Number of training circuits: 23   Number of validation circuits: 87   Number of test circuits: 84   Number of parameters in model: 207\n"
     ]
    },
    {
     "name": "stderr",
     "output_type": "stream",
     "text": [
      "Epoch: 200   train/loss: 2.972   valid/loss: 48.6167   train/acc: 0.7826   valid/acc: 0.2069\n",
      "Epoch: 400   train/loss: 3.0198   valid/loss: 50.1109   train/acc: 0.7826   valid/acc: 0.2184\n",
      "Epoch: 600   train/loss: 2.6681   valid/loss: 53.0423   train/acc: 0.8261   valid/acc: 0.2069\n",
      "Epoch: 800   train/loss: 2.8233   valid/loss: 52.7742   train/acc: 0.7826   valid/acc: 0.2184\n",
      "Epoch: 1000   train/loss: 2.9341   valid/loss: 51.0417   train/acc: 0.7826   valid/acc: 0.2184\n",
      "Epoch: 1200   train/loss: 2.7168   valid/loss: 55.0113   train/acc: 0.7826   valid/acc: 0.2069\n",
      "Epoch: 1400   train/loss: 2.655   valid/loss: 52.2385   train/acc: 0.7826   valid/acc: 0.2184\n",
      "Epoch: 1600   train/loss: 2.7604   valid/loss: 54.747   train/acc: 0.7826   valid/acc: 0.2184\n",
      "Epoch: 1800   train/loss: 2.7211   valid/loss: 53.9862   train/acc: 0.7826   valid/acc: 0.2184\n",
      "Epoch: 2000   train/loss: 2.7507   valid/loss: 56.8693   train/acc: 0.8261   valid/acc: 0.2069\n",
      "Epoch: 2200   train/loss: 2.6907   valid/loss: 53.9026   train/acc: 0.8261   valid/acc: 0.2184\n",
      "Epoch: 2400   train/loss: 2.8491   valid/loss: 55.5728   train/acc: 0.7826   valid/acc: 0.2184\n",
      "Epoch: 2600   train/loss: 2.6044   valid/loss: 57.2057   train/acc: 0.8261   valid/acc: 0.2184\n",
      "Epoch: 2800   train/loss: 2.5945   valid/loss: 57.547   train/acc: 0.8261   valid/acc: 0.2184\n",
      "Epoch: 3000   train/loss: 2.6915   valid/loss: 54.668   train/acc: 0.7826   valid/acc: 0.2184\n",
      "Epoch: 3200   train/loss: 2.5781   valid/loss: 56.8756   train/acc: 0.7826   valid/acc: 0.2184\n",
      "Epoch: 3400   train/loss: 2.7023   valid/loss: 57.3463   train/acc: 0.7826   valid/acc: 0.2069\n",
      "Epoch: 3600   train/loss: 2.6783   valid/loss: 55.4244   train/acc: 0.8261   valid/acc: 0.2069\n",
      "Epoch: 3800   train/loss: 2.73   valid/loss: 55.0861   train/acc: 0.8261   valid/acc: 0.2069\n",
      "Epoch: 4000   train/loss: 2.6182   valid/loss: 56.0553   train/acc: 0.8261   valid/acc: 0.2184\n"
     ]
    },
    {
     "name": "stdout",
     "output_type": "stream",
     "text": [
      "Test accuracy: 0.34523809523809523\n",
      "Progress:  0.054\n",
      "Number of training circuits: 24   Number of validation circuits: 87   Number of test circuits: 84   Number of parameters in model: 207\n"
     ]
    },
    {
     "name": "stderr",
     "output_type": "stream",
     "text": [
      "Epoch: 200   train/loss: 3.1586   valid/loss: 49.138   train/acc: 0.7917   valid/acc: 0.2184\n",
      "Epoch: 400   train/loss: 3.0925   valid/loss: 48.6868   train/acc: 0.7917   valid/acc: 0.2299\n",
      "Epoch: 600   train/loss: 2.9951   valid/loss: 50.2328   train/acc: 0.7917   valid/acc: 0.2414\n",
      "Epoch: 800   train/loss: 2.9991   valid/loss: 51.7004   train/acc: 0.7917   valid/acc: 0.2299\n",
      "Epoch: 1000   train/loss: 3.0886   valid/loss: 53.5875   train/acc: 0.7917   valid/acc: 0.2299\n",
      "Epoch: 1200   train/loss: 3.0651   valid/loss: 51.6794   train/acc: 0.7917   valid/acc: 0.2299\n",
      "Epoch: 1400   train/loss: 2.8877   valid/loss: 53.3122   train/acc: 0.8333   valid/acc: 0.2299\n",
      "Epoch: 1600   train/loss: 2.7721   valid/loss: 52.6058   train/acc: 0.7917   valid/acc: 0.2299\n",
      "Epoch: 1800   train/loss: 3.0013   valid/loss: 52.5701   train/acc: 0.7917   valid/acc: 0.2299\n",
      "Epoch: 2000   train/loss: 2.752   valid/loss: 53.9088   train/acc: 0.7917   valid/acc: 0.2414\n",
      "Epoch: 2200   train/loss: 2.9134   valid/loss: 52.9414   train/acc: 0.7917   valid/acc: 0.2414\n",
      "Epoch: 2400   train/loss: 3.2269   valid/loss: 52.8156   train/acc: 0.7917   valid/acc: 0.2414\n",
      "Epoch: 2600   train/loss: 2.872   valid/loss: 56.2541   train/acc: 0.7917   valid/acc: 0.2414\n",
      "Epoch: 2800   train/loss: 2.8846   valid/loss: 56.7498   train/acc: 0.7917   valid/acc: 0.2529\n",
      "Epoch: 3000   train/loss: 2.7278   valid/loss: 57.4038   train/acc: 0.8333   valid/acc: 0.2529\n",
      "Epoch: 3200   train/loss: 2.7616   valid/loss: 55.7189   train/acc: 0.7917   valid/acc: 0.2529\n",
      "Epoch: 3400   train/loss: 3.2237   valid/loss: 52.7045   train/acc: 0.7083   valid/acc: 0.2414\n",
      "Epoch: 3600   train/loss: 2.937   valid/loss: 54.8366   train/acc: 0.7917   valid/acc: 0.2529\n",
      "Epoch: 3800   train/loss: 2.8442   valid/loss: 57.1576   train/acc: 0.7917   valid/acc: 0.2414\n",
      "Epoch: 4000   train/loss: 2.92   valid/loss: 56.6379   train/acc: 0.7917   valid/acc: 0.2529\n"
     ]
    },
    {
     "name": "stdout",
     "output_type": "stream",
     "text": [
      "Test accuracy: 0.2976190476190476\n",
      "Progress:  0.056\n",
      "Number of training circuits: 25   Number of validation circuits: 87   Number of test circuits: 84   Number of parameters in model: 207\n"
     ]
    }
   ],
   "source": [
    "for i, key in enumerate(all_training_keys[initial_number_of_circuits:]):\n",
    "    print(\"Progress: \", round((i + initial_number_of_circuits)/len(all_training_keys), 3))\n",
    "    \n",
    "    if len(syms) == len(get_symbols(current_training_circuits)) and i > 0:\n",
    "        if i != len(all_training_keys[1:]):\n",
    "            current_training_circuits[key] = training_circuits[key]\n",
    "            new_parameters = sorted(get_symbols({key: training_circuits[key]}), key=default_sort_key)\n",
    "            if result:\n",
    "                parameters, init_params_spsa = initialize_parameters(parameters, result.x, new_parameters)\n",
    "                #continue\n",
    "            else:\n",
    "                syms = get_symbols(current_training_circuits)\n",
    "                parameters = sorted(syms, key=default_sort_key)\n",
    "                init_params_spsa = np.array(rng.random(len(parameters)))\n",
    "    else:\n",
    "        run += 1\n",
    "    \n",
    "    # Select those circuits from test and validation circuits which share the parameters with the current training circuits\n",
    "    current_validation_circuits = select_circuits(current_training_circuits, validation_circuits)\n",
    "    current_test_circuits = select_circuits(current_training_circuits, test_circuits)\n",
    "    \n",
    "    if len(current_validation_circuits) == 0 or len(current_test_circuits) == 0:\n",
    "        continue\n",
    "    \n",
    "    # Create lists with circuits and their corresponding label\n",
    "    training_circuits_l, training_data_labels_l = construct_data_and_labels(current_training_circuits, training_data_labels)\n",
    "    validation_circuits_l, validation_data_labels_l = construct_data_and_labels(current_validation_circuits, validation_data_labels)\n",
    "    test_circuits_l, test_data_labels_l = construct_data_and_labels(current_test_circuits, test_data_labels)\n",
    "    \n",
    "    # Limit the number of validation and test circuits to 20% of number of the training circuits\n",
    "    if limit:\n",
    "        val_test_circ_size = ceil(len(current_training_circuits))\n",
    "        if len(current_validation_circuits) > val_test_circ_size:\n",
    "            validation_circuits_l = validation_circuits_l[:val_test_circ_size]\n",
    "            validation_data_labels_l = validation_data_labels_l[:val_test_circ_size]\n",
    "        if len(current_test_circuits) > val_test_circ_size:\n",
    "            test_circuits_l = test_circuits_l[:val_test_circ_size]\n",
    "            test_data_labels_l = test_data_labels_l[:val_test_circ_size]\n",
    "    \n",
    "    stats = f\"Number of training circuits: {len(training_circuits_l)}   \"\\\n",
    "        + f\"Number of validation circuits: {len(validation_circuits_l)}   \"\\\n",
    "        + f\"Number of test circuits: {len(test_circuits_l)}   \"\\\n",
    "        + f\"Number of parameters in model: {len(set([sym for circuit in training_circuits_l for sym in circuit.free_symbols]))}\"\n",
    "    \n",
    "    with open(\"results//\" + result_file + \".txt\", \"a\") as f:\n",
    "        f.write(stats + \"\\n\")\n",
    "    \n",
    "    print(stats)\n",
    "    \n",
    "    train_pred_fn = jit(make_pred_fn(training_circuits_l))\n",
    "    dev_pred_fn = jit(make_pred_fn(validation_circuits_l))\n",
    "    test_pred_fn = make_pred_fn(test_circuits_l)\n",
    "    \n",
    "    train_cost_fn, train_costs, train_accs = make_cost_fn(train_pred_fn, training_data_labels_l)\n",
    "    dev_cost_fn, dev_costs, dev_accs = make_cost_fn(dev_pred_fn, validation_data_labels_l)\n",
    "    \n",
    "    def callback_fn(xk):\n",
    "        #print(xk)\n",
    "        valid_loss = dev_cost_fn(xk)\n",
    "        train_loss = numpy.around(min(float(train_costs[-1]), float(train_costs[-2])), 4)\n",
    "        train_acc = numpy.around(min(float(train_accs[-1]), float(train_accs[-2])), 4)\n",
    "        valid_acc = numpy.around(float(dev_accs[-1]), 4)\n",
    "        iters = int(len(train_accs)/2)\n",
    "        if iters % 200 == 0:\n",
    "            info = f\"Epoch: {iters}   \"\\\n",
    "            + f\"train/loss: {train_loss}   \"\\\n",
    "            + f\"valid/loss: {numpy.around(float(valid_loss), 4)}   \"\\\n",
    "            + f\"train/acc: {train_acc}   \"\\\n",
    "            + f\"valid/acc: {valid_acc}\"\n",
    "        \n",
    "            with open(\"results//\" + result_file + \".txt\", \"a\") as f:\n",
    "                f.write(info + \"\\n\")\n",
    "                \n",
    "            print(info, file=sys.stderr)\n",
    "        return valid_loss\n",
    "    \n",
    "    a_value = 0.0053\n",
    "    c_value = 0.0185\n",
    "            \n",
    "    train_cost_fn, train_costs, train_accs = make_cost_fn(train_pred_fn, training_data_labels_l)\n",
    "    dev_cost_fn, dev_costs, dev_accs = make_cost_fn(dev_pred_fn, validation_data_labels_l)\n",
    "\n",
    "    result = minimizeSPSA(train_cost_fn, x0=init_params_spsa, a = a_value, c = c_value, niter=EPOCHS, callback=callback_fn)\n",
    "    #result = minimizeCompass(train_cost_fn, x0=init_params_spsa, redfactor=2.0, deltainit=1.0, deltatol=0.001, feps=1e-15, errorcontrol=True, funcNinit=30, funcmultfactor=2.0, paired=True, alpha=0.05, callback=callback_fn)\n",
    "\n",
    "    figure_path = this_folder + \"//results//\" + result_file + \".png\"\n",
    "    visualize_result_noisyopt(result, make_cost_fn, test_pred_fn, test_data_labels_l, train_costs, train_accs, dev_costs, dev_accs, figure_path, result_file)\n",
    "    \n",
    "    run += 1\n",
    "    #EPOCHS += 100\n",
    "    syms = get_symbols(current_training_circuits)\n",
    "    \n",
    "    # Extend for the next optimization round\n",
    "    current_training_circuits[key] = training_circuits[key]\n",
    "    new_parameters = sorted(get_symbols({key: training_circuits[key]}), key=default_sort_key)\n",
    "    parameters, init_params_spsa = initialize_parameters(parameters, result.x, new_parameters)"
   ]
  }
 ],
 "metadata": {
  "kernelspec": {
   "display_name": "Python 3 (ipykernel)",
   "language": "python",
   "name": "python3"
  },
  "language_info": {
   "codemirror_mode": {
    "name": "ipython",
    "version": 3
   },
   "file_extension": ".py",
   "mimetype": "text/x-python",
   "name": "python",
   "nbconvert_exporter": "python",
   "pygments_lexer": "ipython3",
   "version": "3.8.10"
  }
 },
 "nbformat": 4,
 "nbformat_minor": 5
}
