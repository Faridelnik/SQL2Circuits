{
 "cells": [
  {
   "cell_type": "markdown",
   "id": "b09952d6-99a3-41a5-865f-2170e9ee0247",
   "metadata": {},
   "source": [
    "# Circuit learning module: Lambeq manually with SPSA and JAX"
   ]
  },
  {
   "cell_type": "markdown",
   "id": "bb811fe4-d729-4a44-838d-9c02db4a644d",
   "metadata": {},
   "source": [
    "This module performs the optimization of the parametrized circuit manually compared to Lambeq's automatic QuantumTrainer class. I created this because I wanted to have more control over the optimization process and debug it better. The code is based on the workflow presented in https://github.com/CQCL/Quanthoven."
   ]
  },
  {
   "cell_type": "code",
   "execution_count": 1,
   "id": "c9a5783f-901a-4bfe-a622-4003b345fb1b",
   "metadata": {},
   "outputs": [],
   "source": [
    "import warnings\n",
    "import json\n",
    "import os\n",
    "import sys\n",
    "import glob\n",
    "from math import ceil\n",
    "from pathlib import Path\n",
    "from jax import numpy as np\n",
    "from sympy import default_sort_key\n",
    "import numpy\n",
    "import pickle\n",
    "import matplotlib.pyplot as plt\n",
    "\n",
    "import jax\n",
    "from jax import jit\n",
    "from noisyopt import minimizeSPSA, minimizeCompass\n",
    "\n",
    "from discopy.quantum import Circuit\n",
    "from discopy.tensor import Tensor\n",
    "from discopy.utils import loads\n",
    "#from pytket.extensions.qiskit import AerBackend\n",
    "#from pytket.extensions.qulacs import QulacsBackend\n",
    "#from pytket.extensions.cirq import CirqStateSampleBackend\n",
    "backend = None\n",
    "\n",
    "from utils import *\n",
    "from sklearn.metrics import accuracy_score, recall_score, precision_score, f1_score\n",
    "\n",
    "warnings.filterwarnings('ignore')\n",
    "this_folder = os.path.abspath(os.getcwd())\n",
    "os.environ['TOKENIZERS_PARALLELISM'] = 'true'\n",
    "#os.environ[\"JAX_PLATFORMS\"] = \"cpu\"\n",
    "\n",
    "SEED = 0\n",
    "\n",
    "# This avoids TracerArrayConversionError from jax\n",
    "Tensor.np = np\n",
    "\n",
    "rng = numpy.random.default_rng(SEED)\n",
    "numpy.random.seed(SEED)"
   ]
  },
  {
   "cell_type": "markdown",
   "id": "238fca40-5d8d-4ace-a65f-693885a8caf8",
   "metadata": {},
   "source": [
    "## Read circuit data"
   ]
  },
  {
   "cell_type": "markdown",
   "id": "7f6f00d7-b573-4c5d-a0d6-d5eafc54745e",
   "metadata": {},
   "source": [
    "We read the circuits from the pickled files. Select if we perform binary classification or multi-class classification. Give number of qubits to create classes:\n",
    "- 1 qubits -> 2^1 = 2 classes i.e. binary classification\n",
    "- 2 qubits -> 2^2 = 4 classes\n",
    "- ...\n",
    "- 5 qubits -> 2^5 = 32 classes, etc."
   ]
  },
  {
   "cell_type": "code",
   "execution_count": 2,
   "id": "01bac1f9-3bc0-4a25-8f4f-baa2b9c581e9",
   "metadata": {},
   "outputs": [],
   "source": [
    "# Select workload\n",
    "workload = \"execution_time\"\n",
    "#workload = \"cardinality\"\n",
    "\n",
    "# Select workload size\n",
    "#workload_size = \"small\"\n",
    "#workload_size = \"medium\"\n",
    "#workload_size = \"large\"\n",
    "workload_size = \"main\"\n",
    "\n",
    "classification = 2\n",
    "layers = 1\n",
    "single_qubit_params = 3\n",
    "n_wire_count = 1\n",
    "\n",
    "loss = multi_class_loss\n",
    "acc = multi_class_acc\n",
    "\n",
    "if classification == 1:\n",
    "    loss = bin_class_loss\n",
    "    acc = bin_class_acc\n",
    "\n",
    "# Access the selected circuits\n",
    "path_name = this_folder + \"//simplified-JOB-diagrams//\" + workload + \"//\" + workload_size + \"//circuits//\" + str(classification) + \"//\" + str(layers) + \"_layer//\" + str(single_qubit_params) + \"_single_qubit_params//\" + str(n_wire_count) + \"_n_wire_count//\"\n",
    "\n",
    "training_circuits_paths = glob.glob(path_name + \"training//[0-9]*.p\")\n",
    "validation_circuits_paths = glob.glob(path_name + \"validation//[0-9]*.p\")\n",
    "test_circuits_paths = glob.glob(path_name + \"test//[0-9]*.p\")"
   ]
  },
  {
   "cell_type": "code",
   "execution_count": 3,
   "id": "5ff0a551-444c-40a7-bf66-8e929bc49a64",
   "metadata": {},
   "outputs": [],
   "source": [
    "training_circuits = read_diagrams(training_circuits_paths)\n",
    "validation_circuits = read_diagrams(validation_circuits_paths)\n",
    "test_circuits = read_diagrams(test_circuits_paths)"
   ]
  },
  {
   "cell_type": "markdown",
   "id": "f2da3a7c-6a93-44e9-9640-7e9ead005cb2",
   "metadata": {},
   "source": [
    "## Read training and test data"
   ]
  },
  {
   "cell_type": "code",
   "execution_count": 4,
   "id": "774e9f52-69c9-4e1c-8a70-76e1198d12f4",
   "metadata": {},
   "outputs": [],
   "source": [
    "training_data, test_data, validation_data = None, None, None\n",
    "data_path = this_folder + \"//data//\" + workload + \"//\" + workload_size + \"//\"\n",
    "\n",
    "with open(data_path + \"training_data.json\", \"r\") as inputfile:\n",
    "    training_data = json.load(inputfile)['training_data']\n",
    "with open(data_path + \"test_data.json\", \"r\") as inputfile:\n",
    "    test_data = json.load(inputfile)['test_data']\n",
    "with open(data_path + \"validation_data.json\", \"r\") as inputfile:\n",
    "    validation_data = json.load(inputfile)['validation_data']\n",
    "\n",
    "training_data_labels = create_labeled_classes(training_data, classification, workload)\n",
    "test_data_labels = create_labeled_classes(test_data, classification, workload)\n",
    "validation_data_labels = create_labeled_classes(validation_data, classification, workload)"
   ]
  },
  {
   "cell_type": "raw",
   "id": "7c6abda1-a3a2-4919-b701-d29380e05524",
   "metadata": {},
   "source": [
    "res = [0,0,0,0]\n",
    "for k in training_data_labels.values():\n",
    "    res[k.index(1)] += 1       \n",
    "print(res)"
   ]
  },
  {
   "cell_type": "markdown",
   "id": "f6cad830-e6c3-4c29-9ce6-0d6bec2794bc",
   "metadata": {},
   "source": [
    "## Lambeq optimizer"
   ]
  },
  {
   "cell_type": "raw",
   "id": "be555e95-e7aa-4f1b-bf4d-29acd66056b0",
   "metadata": {},
   "source": [
    "#all_circuits = list(training_circuits.values()) + list(test_circuits.values())\n",
    "\n",
    "training_circuits_l = []\n",
    "test_circuits_l = []\n",
    "validation_circuits_l = []\n",
    "\n",
    "training_data_labels_l = []\n",
    "test_data_labels_l = []\n",
    "validation_data_labels_l = []\n",
    "\n",
    "# Organize circuits and labels in correct order into two lists which will be input for training the model\n",
    "for key in training_data_labels:\n",
    "    training_circuits_l.append(training_circuits[key])\n",
    "    training_data_labels_l.append(training_data_labels[key])\n",
    "\n",
    "for key in test_data_labels:\n",
    "    test_circuits_l.append(test_circuits[key])\n",
    "    test_data_labels_l.append(test_data_labels[key])\n",
    "    \n",
    "for key in validation_data_labels:\n",
    "    validation_circuits_l.append(validation_circuits[key])\n",
    "    validation_data_labels_l.append(validation_data_labels[key])\n",
    "\n",
    "all_circuits = training_circuits_l + test_circuits_l + validation_circuits_l\n",
    "\n",
    "train_syms = set([sym for circuit in training_circuits.values() for sym in circuit.free_symbols])\n",
    "test_syms = set([sym for circuit in test_circuits.values() for sym in circuit.free_symbols])\n",
    "val_syms = set([sym for circuit in validation_circuits.values() for sym in circuit.free_symbols])\n",
    "\n",
    "print(\"Test circuits need to share training circuits' parameters. The parameters that are not covered (should be empty set, set()): \", test_syms.difference(train_syms))\n",
    "print(\"Validation circuits need to share training circuits' parameters. The parameters that are not covered (should be empty set, set()): \", val_syms.difference(train_syms))\n",
    "\n",
    "print(\"Total number of circuits: \", len(all_circuits))\n",
    "print(\"Total number of variables: \", len(train_syms))"
   ]
  },
  {
   "cell_type": "raw",
   "id": "ecd5daca-fdba-44fe-961d-5b9b9c3c68cb",
   "metadata": {},
   "source": [
    "training_data_labels_l = np.array(training_data_labels_l)\n",
    "test_data_labels_l = np.array(test_data_labels_l)\n",
    "validation_data_labels_l = np.array(validation_data_labels_l)"
   ]
  },
  {
   "cell_type": "markdown",
   "id": "572abfc1-cc81-4fdb-b8bb-6813fe658dd6",
   "metadata": {},
   "source": [
    "## Model"
   ]
  },
  {
   "cell_type": "raw",
   "id": "75f97a9a-c5fc-4d9b-920f-9eb0795ca018",
   "metadata": {},
   "source": [
    "parameters = sorted(\n",
    "    train_syms,\n",
    "    key=default_sort_key)\n",
    "\n",
    "rng = numpy.random.default_rng(SEED)\n",
    "init_params_spsa = np.array(rng.random(len(parameters)))\n",
    "numpy.random.seed(SEED)"
   ]
  },
  {
   "cell_type": "code",
   "execution_count": 5,
   "id": "04c65634-fa13-47b3-915c-83361d0e1baf",
   "metadata": {},
   "outputs": [],
   "source": [
    "def make_pred_fn(circuits):\n",
    "    # In the case we want to use other backends. \n",
    "    # Currently does not work properly.\n",
    "    if backend:\n",
    "        compiled_circuits1 = backend.get_compiled_circuits([c.to_tk() for c in circuits])\n",
    "        circuits = [Circuit.from_tk(c) for c in compiled_circuits1]\n",
    "        \n",
    "    circuit_fns = [c.lambdify(*parameters) for c in circuits]\n",
    "    \n",
    "    def predict(params):\n",
    "        outputs = Circuit.eval(*(c(*params) for c in circuit_fns), backend = backend)\n",
    "        res = []\n",
    "        \n",
    "        for output in outputs:\n",
    "            predictions = np.abs(output.array) + 1e-9\n",
    "            ratio = predictions / predictions.sum()\n",
    "            res.append(ratio)\n",
    "            \n",
    "        return np.array(res)\n",
    "    return predict"
   ]
  },
  {
   "cell_type": "markdown",
   "id": "868cf7e7-fcbf-4bad-b8bc-4ff0e6b29294",
   "metadata": {},
   "source": [
    "## Loss function and evaluation"
   ]
  },
  {
   "cell_type": "code",
   "execution_count": 6,
   "id": "f376b4aa-0ec6-4037-80eb-935aa75a2f74",
   "metadata": {},
   "outputs": [],
   "source": [
    "def make_cost_fn(pred_fn, labels):\n",
    "    def cost_fn(params, **kwargs):\n",
    "        predictions = pred_fn(params)\n",
    "\n",
    "        cost = loss(predictions, labels) #-np.sum(labels * np.log(predictions)) / len(labels)  # binary cross-entropy loss\n",
    "        costs.append(cost)\n",
    "\n",
    "        accuracy = acc(predictions, labels) #np.sum(np.round(predictions) == labels) / len(labels) / 2  # half due to double-counting\n",
    "        accuracies.append(accuracy)\n",
    "\n",
    "        return cost\n",
    "\n",
    "    costs, accuracies = [], []\n",
    "    return cost_fn, costs, accuracies"
   ]
  },
  {
   "cell_type": "markdown",
   "id": "a3bb6805-facb-4ec9-9c38-8d1df42022b2",
   "metadata": {},
   "source": [
    "## Minimization with noisyopt"
   ]
  },
  {
   "cell_type": "raw",
   "id": "53bc5cb8-8960-46d9-a64e-02b96fb97acc",
   "metadata": {},
   "source": [
    "EPOCHS = 1000\n",
    "SEED = 0\n",
    "\n",
    "# This avoids TracerArrayConversionError from jax\n",
    "Tensor.np = np\n",
    "\n",
    "rng = numpy.random.default_rng(SEED)\n",
    "init_params_spsa = np.array(rng.random(len(parameters)))\n",
    "numpy.random.seed(SEED)\n",
    "\n",
    "train_cost_fn, train_costs, train_accs = make_cost_fn(train_pred_fn, training_data_labels_l)\n",
    "dev_cost_fn, dev_costs, dev_accs = make_cost_fn(dev_pred_fn, validation_data_labels_l)\n",
    "\n",
    "def callback_fn(xk):\n",
    "    valid_loss = dev_cost_fn(xk)\n",
    "    train_loss = round(train_costs[-1], 4)\n",
    "    train_acc = round(train_accs[-1], 4)\n",
    "    valid_acc = round(dev_accs[-1], 4)\n",
    "    iters = int(len(train_accs)/2)\n",
    "    if iters % 100 == 0:\n",
    "        print(\n",
    "                #f\"Params = {xk}, \"\n",
    "                f\"Epoch: {iters}   \",\n",
    "                f\"train/loss: {train_loss}   \",\n",
    "                f\"valid/loss: {round(valid_loss, 4)}   \",\n",
    "                f\"train/acc: {train_acc}   \",\n",
    "                f\"valid/acc: {valid_acc}\"\n",
    "            )\n",
    "    return valid_loss"
   ]
  },
  {
   "cell_type": "raw",
   "id": "cc202031-11f7-4307-96de-8c642d65ce4d",
   "metadata": {},
   "source": [
    "#a_values = [100.0, 10.0, 1.0, 0.1, 0.01, 0.001, 0.0001, 0.00001, 0.000001]\n",
    "#c_values = [100.0, 10.0, 1.0, 0.1, 0.01, 0.001, 0.0001, 0.00001, 0.000001]\n",
    "\n",
    "#a_values = [0.001, 0.005, 0.01, 0.015, 0.02, 0.025, 0.03]\n",
    "#c_values = [0.001, 0.005, 0.01, 0.015, 0.02, 0.025, 0.03]\n",
    "\n",
    "run = 6\n",
    "#a_values = [0.0055, 0.0054, 0.0052, 0.005, 0.0048, 0.0045, 0.004]\n",
    "#c_values = [0.012, 0.016, 0.018, 0.02, 0.022, 0.025, 0.03]\n",
    "\n",
    "#a_values = [0.0053, 0.0054, 0.0055, 0.0056, 0.0057]\n",
    "#c_values = [0.017, 0.0175, 0.018, 0.0185, 0.019]\n",
    "\n",
    "a_values = [0.0052, 0.00525, 0.0053, 0.00535, 0.0054]\n",
    "c_values = [0.0183, 0.0184, 0.0185, 0.0186, 0.0187] \n",
    "\n",
    "for i, a_value in enumerate(a_values):\n",
    "    for j, c_value in enumerate(c_values):\n",
    "        train_cost_fn, train_costs, train_accs = make_cost_fn(train_pred_fn, training_data_labels_l)\n",
    "        dev_cost_fn, dev_costs, dev_accs = make_cost_fn(dev_pred_fn, validation_data_labels_l)\n",
    "        \n",
    "        result = minimizeSPSA(train_cost_fn, x0=init_params_spsa, a = a_value, c = c_value, niter=EPOCHS, callback=callback_fn)"
   ]
  },
  {
   "cell_type": "code",
   "execution_count": 7,
   "id": "85b70bae-fe88-4852-a423-658641380e57",
   "metadata": {},
   "outputs": [],
   "source": [
    "def initialize_parameters(old_params, old_values, new_params):\n",
    "    new_values = list(numpy.array(rng.random(len(new_params))))\n",
    "    old_param_dict = {}\n",
    "    for p, v in zip(old_params, old_values):\n",
    "        old_param_dict[p] = v\n",
    "        \n",
    "    parameters = sorted(set(old_params + new_params), key=default_sort_key)\n",
    "    values = []\n",
    "    for p in parameters:\n",
    "        if p in old_param_dict:\n",
    "            values.append(old_param_dict[p])\n",
    "        else:\n",
    "            values.append(new_values.pop())\n",
    "            \n",
    "    return parameters, np.array(values)"
   ]
  },
  {
   "cell_type": "code",
   "execution_count": 8,
   "id": "4dd1d87d-047d-4feb-9dbc-c972bbabf741",
   "metadata": {},
   "outputs": [
    {
     "name": "stdout",
     "output_type": "stream",
     "text": [
      "Loading parameters from file execution_time_main_noisyopt_2_1_3\n"
     ]
    }
   ],
   "source": [
    "EPOCHS = 4000\n",
    "initial_number_of_circuits = 192\n",
    "syms = {}\n",
    "limit = False\n",
    "all_training_keys = list(training_circuits.keys())\n",
    "initial_circuit_keys = all_training_keys[:initial_number_of_circuits + 1]\n",
    "current_training_circuits = {}\n",
    "result_file = workload + \"_\" + workload_size + \"_noisyopt_\" + str(classification) + \"_\" + str(layers) + \"_\" + str(single_qubit_params)\n",
    "\n",
    "for k in initial_circuit_keys:\n",
    "    current_training_circuits[k] = training_circuits[k]\n",
    "    \n",
    "syms = get_symbols(current_training_circuits)\n",
    "parameters = sorted(syms, key=default_sort_key)\n",
    "if initial_number_of_circuits > 5 and os.path.exists(\"points//\" + result_file + \".npz\"):\n",
    "    with open(\"points//\" + result_file + \".npz\", \"rb\") as f:\n",
    "        print(\"Loading parameters from file \" + result_file)\n",
    "        npzfile = np.load(f)\n",
    "        init_params_spsa = npzfile['arr_0']\n",
    "else:\n",
    "    print(\"Initializing new parameters\")\n",
    "    init_params_spsa = np.array(rng.random(len(parameters)))\n",
    "result = None\n",
    "run = 0"
   ]
  },
  {
   "cell_type": "code",
   "execution_count": null,
   "id": "52d19610-d096-4de1-b1b9-63aef886e632",
   "metadata": {},
   "outputs": [
    {
     "name": "stdout",
     "output_type": "stream",
     "text": [
      "Progress:  0.402\n",
      "Number of training circuits: 180   Number of validation circuits: 113   Number of test circuits: 111   Number of parameters in model: 267\n"
     ]
    },
    {
     "name": "stderr",
     "output_type": "stream",
     "text": [
      "Epoch: 200   train/loss: 56.1127   valid/loss: 42.6275   train/acc: 0.3444   valid/acc: 0.3009\n",
      "Epoch: 400   train/loss: 53.0632   valid/loss: 42.7125   train/acc: 0.3667   valid/acc: 0.354\n",
      "Epoch: 600   train/loss: 50.8311   valid/loss: 40.8578   train/acc: 0.4333   valid/acc: 0.292\n",
      "Epoch: 800   train/loss: 48.9836   valid/loss: 40.509   train/acc: 0.4778   valid/acc: 0.3451\n",
      "Epoch: 1000   train/loss: 46.6181   valid/loss: 41.5653   train/acc: 0.5167   valid/acc: 0.3097\n",
      "Epoch: 1200   train/loss: 46.1221   valid/loss: 42.4933   train/acc: 0.4889   valid/acc: 0.2655\n",
      "Epoch: 1400   train/loss: 45.3097   valid/loss: 43.212   train/acc: 0.4944   valid/acc: 0.2655\n",
      "Epoch: 1600   train/loss: 44.0521   valid/loss: 42.8179   train/acc: 0.5222   valid/acc: 0.292\n",
      "Epoch: 1800   train/loss: 43.3526   valid/loss: 43.017   train/acc: 0.5333   valid/acc: 0.2832\n",
      "Epoch: 2000   train/loss: 42.7287   valid/loss: 42.979   train/acc: 0.5278   valid/acc: 0.3097\n",
      "Epoch: 2200   train/loss: 42.2935   valid/loss: 43.8153   train/acc: 0.5833   valid/acc: 0.3274\n",
      "Epoch: 2400   train/loss: 41.898   valid/loss: 45.5213   train/acc: 0.6056   valid/acc: 0.3097\n",
      "Epoch: 2600   train/loss: 41.7801   valid/loss: 43.9465   train/acc: 0.5944   valid/acc: 0.3186\n",
      "Epoch: 2800   train/loss: 41.3605   valid/loss: 42.5045   train/acc: 0.6222   valid/acc: 0.3186\n",
      "Epoch: 3000   train/loss: 41.0998   valid/loss: 43.7931   train/acc: 0.6   valid/acc: 0.3186\n",
      "Epoch: 3200   train/loss: 41.0509   valid/loss: 43.7723   train/acc: 0.6056   valid/acc: 0.3274\n",
      "Epoch: 3400   train/loss: 40.704   valid/loss: 42.6071   train/acc: 0.6056   valid/acc: 0.3186\n",
      "Epoch: 3600   train/loss: 40.7707   valid/loss: 42.9926   train/acc: 0.6389   valid/acc: 0.3451\n",
      "Epoch: 3800   train/loss: 40.3013   valid/loss: 41.9435   train/acc: 0.6222   valid/acc: 0.3363\n",
      "Epoch: 4000   train/loss: 40.7063   valid/loss: 42.4764   train/acc: 0.6278   valid/acc: 0.3363\n"
     ]
    },
    {
     "name": "stdout",
     "output_type": "stream",
     "text": [
      "Test accuracy: 0.42342342342342343\n",
      "Progress:  0.404\n",
      "Number of training circuits: 181   Number of validation circuits: 113   Number of test circuits: 111   Number of parameters in model: 267\n"
     ]
    },
    {
     "name": "stderr",
     "output_type": "stream",
     "text": [
      "Epoch: 200   train/loss: 62.1087   valid/loss: 39.0861   train/acc: 0.2873   valid/acc: 0.3009\n",
      "Epoch: 400   train/loss: 58.3461   valid/loss: 41.7711   train/acc: 0.3757   valid/acc: 0.2655\n",
      "Epoch: 600   train/loss: 54.1501   valid/loss: 42.245   train/acc: 0.3978   valid/acc: 0.292\n",
      "Epoch: 800   train/loss: 51.5246   valid/loss: 44.7453   train/acc: 0.4365   valid/acc: 0.292\n",
      "Epoch: 1000   train/loss: 49.8899   valid/loss: 44.6336   train/acc: 0.4696   valid/acc: 0.3274\n",
      "Epoch: 1200   train/loss: 48.5579   valid/loss: 44.7666   train/acc: 0.5028   valid/acc: 0.292\n",
      "Epoch: 1400   train/loss: 46.8613   valid/loss: 44.0649   train/acc: 0.5249   valid/acc: 0.292\n",
      "Epoch: 1600   train/loss: 45.7103   valid/loss: 44.7376   train/acc: 0.5359   valid/acc: 0.292\n",
      "Epoch: 1800   train/loss: 45.5086   valid/loss: 43.0275   train/acc: 0.5635   valid/acc: 0.3186\n",
      "Epoch: 2000   train/loss: 45.4046   valid/loss: 43.299   train/acc: 0.5746   valid/acc: 0.3186\n",
      "Epoch: 2200   train/loss: 45.0735   valid/loss: 42.1122   train/acc: 0.5856   valid/acc: 0.3274\n",
      "Epoch: 2400   train/loss: 44.672   valid/loss: 41.7868   train/acc: 0.5414   valid/acc: 0.2743\n",
      "Epoch: 2600   train/loss: 43.7145   valid/loss: 42.8966   train/acc: 0.5691   valid/acc: 0.2832\n",
      "Epoch: 2800   train/loss: 43.1687   valid/loss: 43.2888   train/acc: 0.5691   valid/acc: 0.3097\n",
      "Epoch: 3000   train/loss: 43.3902   valid/loss: 43.8402   train/acc: 0.5746   valid/acc: 0.2832\n",
      "Epoch: 3200   train/loss: 42.8772   valid/loss: 43.904   train/acc: 0.5635   valid/acc: 0.2832\n",
      "Epoch: 3400   train/loss: 43.532   valid/loss: 42.5235   train/acc: 0.5193   valid/acc: 0.292\n",
      "Epoch: 3600   train/loss: 42.5326   valid/loss: 44.2687   train/acc: 0.5801   valid/acc: 0.2743\n",
      "Epoch: 3800   train/loss: 43.2526   valid/loss: 43.3759   train/acc: 0.5691   valid/acc: 0.2743\n",
      "Epoch: 4000   train/loss: 42.225   valid/loss: 42.9303   train/acc: 0.5856   valid/acc: 0.3186\n"
     ]
    },
    {
     "name": "stdout",
     "output_type": "stream",
     "text": [
      "Test accuracy: 0.44144144144144143\n",
      "Progress:  0.406\n",
      "Number of training circuits: 182   Number of validation circuits: 113   Number of test circuits: 111   Number of parameters in model: 267\n"
     ]
    },
    {
     "name": "stderr",
     "output_type": "stream",
     "text": [
      "Epoch: 200   train/loss: 57.8977   valid/loss: 42.0053   train/acc: 0.4011   valid/acc: 0.2832\n",
      "Epoch: 400   train/loss: 57.7838   valid/loss: 40.0381   train/acc: 0.4066   valid/acc: 0.3009\n",
      "Epoch: 600   train/loss: 52.5707   valid/loss: 40.7039   train/acc: 0.3681   valid/acc: 0.3009\n",
      "Epoch: 800   train/loss: 53.6258   valid/loss: 40.1019   train/acc: 0.3626   valid/acc: 0.354\n",
      "Epoch: 1000   train/loss: 52.785   valid/loss: 40.8107   train/acc: 0.3516   valid/acc: 0.3363\n",
      "Epoch: 1200   train/loss: 51.6178   valid/loss: 40.757   train/acc: 0.4505   valid/acc: 0.2832\n",
      "Epoch: 1400   train/loss: 50.1248   valid/loss: 40.1857   train/acc: 0.478   valid/acc: 0.2743\n",
      "Epoch: 1600   train/loss: 50.2627   valid/loss: 41.2141   train/acc: 0.5055   valid/acc: 0.3009\n",
      "Epoch: 1800   train/loss: 48.4491   valid/loss: 42.6547   train/acc: 0.511   valid/acc: 0.3097\n",
      "Epoch: 2000   train/loss: 47.1957   valid/loss: 41.5958   train/acc: 0.5385   valid/acc: 0.3451\n",
      "Epoch: 2200   train/loss: 46.5009   valid/loss: 41.6438   train/acc: 0.522   valid/acc: 0.3628\n",
      "Epoch: 2400   train/loss: 45.6705   valid/loss: 43.4773   train/acc: 0.5385   valid/acc: 0.3982\n",
      "Epoch: 2600   train/loss: 44.9606   valid/loss: 42.2748   train/acc: 0.5385   valid/acc: 0.3717\n",
      "Epoch: 2800   train/loss: 44.4173   valid/loss: 45.1579   train/acc: 0.5714   valid/acc: 0.3894\n",
      "Epoch: 3000   train/loss: 43.0841   valid/loss: 43.1041   train/acc: 0.5385   valid/acc: 0.3628\n",
      "Epoch: 3200   train/loss: 43.6776   valid/loss: 42.3101   train/acc: 0.5714   valid/acc: 0.4071\n",
      "Epoch: 3400   train/loss: 44.0244   valid/loss: 42.8789   train/acc: 0.5714   valid/acc: 0.3982\n",
      "Epoch: 3600   train/loss: 43.6049   valid/loss: 42.7609   train/acc: 0.5934   valid/acc: 0.4071\n",
      "Epoch: 3800   train/loss: 43.4121   valid/loss: 44.9848   train/acc: 0.5659   valid/acc: 0.354\n",
      "Epoch: 4000   train/loss: 43.2249   valid/loss: 44.2727   train/acc: 0.5989   valid/acc: 0.3894\n"
     ]
    },
    {
     "name": "stdout",
     "output_type": "stream",
     "text": [
      "Test accuracy: 0.4864864864864865\n",
      "Progress:  0.408\n",
      "Number of training circuits: 183   Number of validation circuits: 113   Number of test circuits: 111   Number of parameters in model: 267\n"
     ]
    },
    {
     "name": "stderr",
     "output_type": "stream",
     "text": [
      "Epoch: 200   train/loss: 60.5453   valid/loss: 38.8889   train/acc: 0.3443   valid/acc: 0.2743\n",
      "Epoch: 400   train/loss: 57.6038   valid/loss: 40.4079   train/acc: 0.4044   valid/acc: 0.2566\n",
      "Epoch: 600   train/loss: 55.9053   valid/loss: 40.0092   train/acc: 0.3989   valid/acc: 0.2655\n",
      "Epoch: 800   train/loss: 54.5352   valid/loss: 40.2916   train/acc: 0.4098   valid/acc: 0.3451\n",
      "Epoch: 1000   train/loss: 54.2199   valid/loss: 39.3701   train/acc: 0.459   valid/acc: 0.3363\n",
      "Epoch: 1200   train/loss: 53.7705   valid/loss: 40.2252   train/acc: 0.4317   valid/acc: 0.3186\n",
      "Epoch: 1400   train/loss: 52.3031   valid/loss: 39.8999   train/acc: 0.4317   valid/acc: 0.354\n",
      "Epoch: 1600   train/loss: 51.0279   valid/loss: 40.087   train/acc: 0.4317   valid/acc: 0.3186\n",
      "Epoch: 1800   train/loss: 49.2556   valid/loss: 40.3061   train/acc: 0.4536   valid/acc: 0.3805\n",
      "Epoch: 2000   train/loss: 48.1486   valid/loss: 41.241   train/acc: 0.4481   valid/acc: 0.3628\n",
      "Epoch: 2200   train/loss: 48.0965   valid/loss: 42.4371   train/acc: 0.4317   valid/acc: 0.3628\n",
      "Epoch: 2400   train/loss: 47.1649   valid/loss: 42.7142   train/acc: 0.4973   valid/acc: 0.3097\n",
      "Epoch: 2600   train/loss: 47.0056   valid/loss: 43.0124   train/acc: 0.4863   valid/acc: 0.3097\n",
      "Epoch: 2800   train/loss: 46.5037   valid/loss: 42.524   train/acc: 0.5246   valid/acc: 0.3186\n",
      "Epoch: 3000   train/loss: 46.5723   valid/loss: 43.0108   train/acc: 0.5082   valid/acc: 0.3009\n",
      "Epoch: 3200   train/loss: 46.085   valid/loss: 43.8727   train/acc: 0.541   valid/acc: 0.2832\n",
      "Epoch: 3400   train/loss: 45.3384   valid/loss: 43.6948   train/acc: 0.5191   valid/acc: 0.3009\n",
      "Epoch: 3600   train/loss: 45.843   valid/loss: 44.2132   train/acc: 0.541   valid/acc: 0.2832\n",
      "Epoch: 3800   train/loss: 44.9912   valid/loss: 43.9537   train/acc: 0.541   valid/acc: 0.292\n",
      "Epoch: 4000   train/loss: 45.1782   valid/loss: 42.9996   train/acc: 0.5301   valid/acc: 0.3097\n"
     ]
    },
    {
     "name": "stdout",
     "output_type": "stream",
     "text": [
      "Test accuracy: 0.32432432432432434\n",
      "Progress:  0.411\n",
      "Number of training circuits: 184   Number of validation circuits: 113   Number of test circuits: 111   Number of parameters in model: 267\n"
     ]
    },
    {
     "name": "stderr",
     "output_type": "stream",
     "text": [
      "Epoch: 200   train/loss: 58.8483   valid/loss: 40.0096   train/acc: 0.375   valid/acc: 0.1947\n",
      "Epoch: 400   train/loss: 56.6865   valid/loss: 41.8093   train/acc: 0.4348   valid/acc: 0.2566\n",
      "Epoch: 600   train/loss: 55.5243   valid/loss: 44.4078   train/acc: 0.4293   valid/acc: 0.2566\n",
      "Epoch: 800   train/loss: 54.793   valid/loss: 43.358   train/acc: 0.4457   valid/acc: 0.2655\n",
      "Epoch: 1000   train/loss: 52.6027   valid/loss: 42.7546   train/acc: 0.5054   valid/acc: 0.354\n",
      "Epoch: 1200   train/loss: 51.406   valid/loss: 43.6908   train/acc: 0.4674   valid/acc: 0.3186\n",
      "Epoch: 1400   train/loss: 50.7273   valid/loss: 40.3506   train/acc: 0.5109   valid/acc: 0.3982\n",
      "Epoch: 1600   train/loss: 48.3815   valid/loss: 41.5603   train/acc: 0.5163   valid/acc: 0.3628\n",
      "Epoch: 1800   train/loss: 48.5342   valid/loss: 40.9535   train/acc: 0.4891   valid/acc: 0.3186\n",
      "Epoch: 2000   train/loss: 46.0622   valid/loss: 41.6438   train/acc: 0.5598   valid/acc: 0.3274\n",
      "Epoch: 2200   train/loss: 45.684   valid/loss: 41.3941   train/acc: 0.5435   valid/acc: 0.3186\n",
      "Epoch: 2400   train/loss: 43.9368   valid/loss: 42.5775   train/acc: 0.6033   valid/acc: 0.3274\n",
      "Epoch: 2600   train/loss: 44.4213   valid/loss: 42.2626   train/acc: 0.6141   valid/acc: 0.3628\n",
      "Epoch: 2800   train/loss: 43.484   valid/loss: 41.632   train/acc: 0.6087   valid/acc: 0.3363\n",
      "Epoch: 3000   train/loss: 43.5093   valid/loss: 43.4274   train/acc: 0.5924   valid/acc: 0.354\n",
      "Epoch: 3200   train/loss: 44.0306   valid/loss: 42.1095   train/acc: 0.5489   valid/acc: 0.3628\n",
      "Epoch: 3400   train/loss: 43.2336   valid/loss: 42.5011   train/acc: 0.6033   valid/acc: 0.3628\n",
      "Epoch: 3600   train/loss: 42.6514   valid/loss: 40.8617   train/acc: 0.625   valid/acc: 0.354\n",
      "Epoch: 3800   train/loss: 43.3533   valid/loss: 41.3939   train/acc: 0.6196   valid/acc: 0.3451\n",
      "Epoch: 4000   train/loss: 43.0216   valid/loss: 42.2478   train/acc: 0.6087   valid/acc: 0.3451\n"
     ]
    },
    {
     "name": "stdout",
     "output_type": "stream",
     "text": [
      "Test accuracy: 0.4144144144144144\n",
      "Progress:  0.413\n",
      "Number of training circuits: 185   Number of validation circuits: 113   Number of test circuits: 111   Number of parameters in model: 267\n"
     ]
    },
    {
     "name": "stderr",
     "output_type": "stream",
     "text": [
      "Epoch: 200   train/loss: 62.6412   valid/loss: 39.7456   train/acc: 0.2865   valid/acc: 0.3097\n",
      "Epoch: 400   train/loss: 59.4067   valid/loss: 40.7227   train/acc: 0.3459   valid/acc: 0.2478\n",
      "Epoch: 600   train/loss: 59.3123   valid/loss: 42.5276   train/acc: 0.3622   valid/acc: 0.2124\n",
      "Epoch: 800   train/loss: 55.2505   valid/loss: 39.956   train/acc: 0.4324   valid/acc: 0.292\n",
      "Epoch: 1000   train/loss: 53.7847   valid/loss: 41.0962   train/acc: 0.4541   valid/acc: 0.2743\n",
      "Epoch: 1200   train/loss: 53.2917   valid/loss: 42.3648   train/acc: 0.4432   valid/acc: 0.3097\n",
      "Epoch: 1400   train/loss: 52.5381   valid/loss: 42.1185   train/acc: 0.4811   valid/acc: 0.3274\n",
      "Epoch: 1600   train/loss: 52.1996   valid/loss: 40.2951   train/acc: 0.5027   valid/acc: 0.3717\n",
      "Epoch: 1800   train/loss: 48.9783   valid/loss: 39.2791   train/acc: 0.5892   valid/acc: 0.3717\n",
      "Epoch: 2000   train/loss: 47.6258   valid/loss: 38.9321   train/acc: 0.5568   valid/acc: 0.3363\n",
      "Epoch: 2200   train/loss: 47.4959   valid/loss: 40.6381   train/acc: 0.5676   valid/acc: 0.3186\n",
      "Epoch: 2400   train/loss: 47.6603   valid/loss: 40.6241   train/acc: 0.5459   valid/acc: 0.3451\n",
      "Epoch: 2600   train/loss: 46.3537   valid/loss: 41.3024   train/acc: 0.5838   valid/acc: 0.3363\n",
      "Epoch: 2800   train/loss: 45.9703   valid/loss: 39.8149   train/acc: 0.5946   valid/acc: 0.3363\n",
      "Epoch: 3000   train/loss: 45.0362   valid/loss: 41.0399   train/acc: 0.5892   valid/acc: 0.3186\n",
      "Epoch: 3200   train/loss: 44.3665   valid/loss: 40.6272   train/acc: 0.5946   valid/acc: 0.3186\n",
      "Epoch: 3400   train/loss: 44.2784   valid/loss: 40.4745   train/acc: 0.627   valid/acc: 0.3628\n",
      "Epoch: 3600   train/loss: 44.9421   valid/loss: 40.1528   train/acc: 0.5838   valid/acc: 0.3451\n",
      "Epoch: 3800   train/loss: 44.6026   valid/loss: 40.0942   train/acc: 0.5946   valid/acc: 0.354\n",
      "Epoch: 4000   train/loss: 43.4501   valid/loss: 40.2599   train/acc: 0.6216   valid/acc: 0.3628\n"
     ]
    },
    {
     "name": "stdout",
     "output_type": "stream",
     "text": [
      "Test accuracy: 0.46846846846846846\n",
      "Progress:  0.415\n",
      "Number of training circuits: 186   Number of validation circuits: 113   Number of test circuits: 111   Number of parameters in model: 267\n"
     ]
    },
    {
     "name": "stderr",
     "output_type": "stream",
     "text": [
      "Epoch: 200   train/loss: 57.2319   valid/loss: 38.5557   train/acc: 0.3871   valid/acc: 0.2743\n",
      "Epoch: 400   train/loss: 55.5681   valid/loss: 39.5661   train/acc: 0.4301   valid/acc: 0.2655\n",
      "Epoch: 600   train/loss: 53.3862   valid/loss: 38.232   train/acc: 0.4677   valid/acc: 0.3274\n",
      "Epoch: 800   train/loss: 54.5777   valid/loss: 40.3549   train/acc: 0.4355   valid/acc: 0.3186\n",
      "Epoch: 1000   train/loss: 52.6016   valid/loss: 39.1224   train/acc: 0.457   valid/acc: 0.2832\n",
      "Epoch: 1200   train/loss: 50.9633   valid/loss: 38.8466   train/acc: 0.4839   valid/acc: 0.2655\n",
      "Epoch: 1400   train/loss: 50.759   valid/loss: 37.6255   train/acc: 0.4516   valid/acc: 0.3097\n",
      "Epoch: 1600   train/loss: 49.4425   valid/loss: 38.9114   train/acc: 0.5   valid/acc: 0.2832\n",
      "Epoch: 1800   train/loss: 49.4438   valid/loss: 38.7336   train/acc: 0.4946   valid/acc: 0.2743\n",
      "Epoch: 2000   train/loss: 47.4342   valid/loss: 38.8392   train/acc: 0.4785   valid/acc: 0.292\n",
      "Epoch: 2200   train/loss: 46.9642   valid/loss: 39.8652   train/acc: 0.4892   valid/acc: 0.3097\n",
      "Epoch: 2400   train/loss: 46.8843   valid/loss: 39.8571   train/acc: 0.5215   valid/acc: 0.292\n",
      "Epoch: 2600   train/loss: 46.3051   valid/loss: 40.2368   train/acc: 0.5323   valid/acc: 0.2832\n",
      "Epoch: 2800   train/loss: 45.8288   valid/loss: 39.9711   train/acc: 0.5269   valid/acc: 0.292\n",
      "Epoch: 3000   train/loss: 45.2028   valid/loss: 40.7563   train/acc: 0.5376   valid/acc: 0.3097\n",
      "Epoch: 3200   train/loss: 45.2836   valid/loss: 40.1957   train/acc: 0.5538   valid/acc: 0.3186\n",
      "Epoch: 3400   train/loss: 45.9116   valid/loss: 41.2698   train/acc: 0.5484   valid/acc: 0.3186\n",
      "Epoch: 3600   train/loss: 45.5699   valid/loss: 40.632   train/acc: 0.5591   valid/acc: 0.3274\n",
      "Epoch: 3800   train/loss: 44.9679   valid/loss: 40.513   train/acc: 0.5215   valid/acc: 0.3186\n",
      "Epoch: 4000   train/loss: 44.4717   valid/loss: 40.2485   train/acc: 0.5591   valid/acc: 0.3186\n"
     ]
    },
    {
     "name": "stdout",
     "output_type": "stream",
     "text": [
      "Test accuracy: 0.3963963963963964\n",
      "Progress:  0.417\n",
      "Number of training circuits: 187   Number of validation circuits: 113   Number of test circuits: 111   Number of parameters in model: 267\n"
     ]
    },
    {
     "name": "stderr",
     "output_type": "stream",
     "text": [
      "Epoch: 200   train/loss: 65.6909   valid/loss: 39.2506   train/acc: 0.2674   valid/acc: 0.3009\n",
      "Epoch: 400   train/loss: 60.3985   valid/loss: 38.7284   train/acc: 0.369   valid/acc: 0.3097\n",
      "Epoch: 600   train/loss: 59.3627   valid/loss: 37.9114   train/acc: 0.4225   valid/acc: 0.3363\n",
      "Epoch: 800   train/loss: 55.9866   valid/loss: 37.8424   train/acc: 0.4652   valid/acc: 0.3805\n",
      "Epoch: 1000   train/loss: 55.3793   valid/loss: 37.4052   train/acc: 0.4706   valid/acc: 0.3628\n",
      "Epoch: 1200   train/loss: 52.9633   valid/loss: 37.7788   train/acc: 0.4973   valid/acc: 0.3982\n",
      "Epoch: 1400   train/loss: 51.6607   valid/loss: 36.9937   train/acc: 0.4599   valid/acc: 0.3628\n",
      "Epoch: 1600   train/loss: 51.9681   valid/loss: 37.3747   train/acc: 0.4385   valid/acc: 0.292\n",
      "Epoch: 1800   train/loss: 51.4386   valid/loss: 38.6856   train/acc: 0.5027   valid/acc: 0.3274\n",
      "Epoch: 2000   train/loss: 51.3548   valid/loss: 37.8751   train/acc: 0.4759   valid/acc: 0.3717\n",
      "Epoch: 2200   train/loss: 49.4014   valid/loss: 37.7705   train/acc: 0.4866   valid/acc: 0.3717\n",
      "Epoch: 2400   train/loss: 49.9874   valid/loss: 37.907   train/acc: 0.5348   valid/acc: 0.4071\n",
      "Epoch: 2600   train/loss: 48.9446   valid/loss: 37.8555   train/acc: 0.5294   valid/acc: 0.3982\n",
      "Epoch: 2800   train/loss: 48.2081   valid/loss: 37.748   train/acc: 0.5455   valid/acc: 0.4071\n",
      "Epoch: 3000   train/loss: 47.497   valid/loss: 38.1868   train/acc: 0.5294   valid/acc: 0.4071\n",
      "Epoch: 3200   train/loss: 47.6463   valid/loss: 38.1601   train/acc: 0.5401   valid/acc: 0.4248\n",
      "Epoch: 3400   train/loss: 47.356   valid/loss: 38.2691   train/acc: 0.5561   valid/acc: 0.4159\n",
      "Epoch: 3600   train/loss: 47.6699   valid/loss: 38.3751   train/acc: 0.5348   valid/acc: 0.3982\n",
      "Epoch: 3800   train/loss: 46.9711   valid/loss: 39.4664   train/acc: 0.5294   valid/acc: 0.354\n",
      "Epoch: 4000   train/loss: 46.2141   valid/loss: 38.7325   train/acc: 0.5561   valid/acc: 0.3451\n"
     ]
    },
    {
     "name": "stdout",
     "output_type": "stream",
     "text": [
      "Test accuracy: 0.43243243243243246\n",
      "Progress:  0.42\n",
      "Number of training circuits: 188   Number of validation circuits: 113   Number of test circuits: 111   Number of parameters in model: 267\n"
     ]
    },
    {
     "name": "stderr",
     "output_type": "stream",
     "text": [
      "Epoch: 200   train/loss: 61.8052   valid/loss: 40.851   train/acc: 0.3245   valid/acc: 0.3186\n",
      "Epoch: 400   train/loss: 59.9734   valid/loss: 38.4497   train/acc: 0.3404   valid/acc: 0.3451\n",
      "Epoch: 600   train/loss: 59.6975   valid/loss: 37.6162   train/acc: 0.3723   valid/acc: 0.3186\n",
      "Epoch: 800   train/loss: 56.6767   valid/loss: 39.0584   train/acc: 0.4096   valid/acc: 0.3186\n",
      "Epoch: 1000   train/loss: 56.0459   valid/loss: 37.7585   train/acc: 0.4309   valid/acc: 0.3186\n",
      "Epoch: 1200   train/loss: 56.9851   valid/loss: 37.182   train/acc: 0.4149   valid/acc: 0.3363\n",
      "Epoch: 1400   train/loss: 56.1175   valid/loss: 37.9427   train/acc: 0.3989   valid/acc: 0.3363\n",
      "Epoch: 1600   train/loss: 56.1014   valid/loss: 39.0854   train/acc: 0.3989   valid/acc: 0.3009\n",
      "Epoch: 1800   train/loss: 54.5679   valid/loss: 40.0757   train/acc: 0.4255   valid/acc: 0.3186\n",
      "Epoch: 2000   train/loss: 54.2909   valid/loss: 39.7684   train/acc: 0.4521   valid/acc: 0.3186\n",
      "Epoch: 2200   train/loss: 53.8786   valid/loss: 39.5295   train/acc: 0.4628   valid/acc: 0.3186\n",
      "Epoch: 2400   train/loss: 53.1357   valid/loss: 39.6881   train/acc: 0.4521   valid/acc: 0.292\n",
      "Epoch: 2600   train/loss: 52.3331   valid/loss: 39.2947   train/acc: 0.4574   valid/acc: 0.3097\n",
      "Epoch: 2800   train/loss: 51.4977   valid/loss: 39.9403   train/acc: 0.4415   valid/acc: 0.292\n",
      "Epoch: 3000   train/loss: 50.2723   valid/loss: 40.9255   train/acc: 0.4787   valid/acc: 0.3274\n",
      "Epoch: 3200   train/loss: 50.1138   valid/loss: 41.0202   train/acc: 0.4787   valid/acc: 0.3274\n",
      "Epoch: 3400   train/loss: 50.6562   valid/loss: 40.4679   train/acc: 0.516   valid/acc: 0.3628\n",
      "Epoch: 3600   train/loss: 49.5946   valid/loss: 40.7423   train/acc: 0.4894   valid/acc: 0.3628\n",
      "Epoch: 3800   train/loss: 49.1609   valid/loss: 39.9796   train/acc: 0.4894   valid/acc: 0.3451\n",
      "Epoch: 4000   train/loss: 49.0147   valid/loss: 39.9632   train/acc: 0.5213   valid/acc: 0.3363\n"
     ]
    },
    {
     "name": "stdout",
     "output_type": "stream",
     "text": [
      "Test accuracy: 0.44144144144144143\n",
      "Progress:  0.422\n",
      "Number of training circuits: 189   Number of validation circuits: 113   Number of test circuits: 111   Number of parameters in model: 267\n"
     ]
    },
    {
     "name": "stderr",
     "output_type": "stream",
     "text": [
      "Epoch: 200   train/loss: 61.7507   valid/loss: 38.6465   train/acc: 0.3651   valid/acc: 0.3274\n",
      "Epoch: 400   train/loss: 58.5392   valid/loss: 37.8863   train/acc: 0.3704   valid/acc: 0.354\n",
      "Epoch: 600   train/loss: 56.8368   valid/loss: 37.4299   train/acc: 0.4339   valid/acc: 0.3186\n",
      "Epoch: 800   train/loss: 56.4881   valid/loss: 38.8127   train/acc: 0.4127   valid/acc: 0.3009\n",
      "Epoch: 1000   train/loss: 54.7953   valid/loss: 38.4246   train/acc: 0.4392   valid/acc: 0.2743\n",
      "Epoch: 1200   train/loss: 55.2369   valid/loss: 38.0839   train/acc: 0.4339   valid/acc: 0.2832\n",
      "Epoch: 1400   train/loss: 54.4013   valid/loss: 37.3258   train/acc: 0.4497   valid/acc: 0.3274\n",
      "Epoch: 1600   train/loss: 53.4331   valid/loss: 38.5407   train/acc: 0.4339   valid/acc: 0.2743\n",
      "Epoch: 1800   train/loss: 52.9349   valid/loss: 38.6185   train/acc: 0.418   valid/acc: 0.3274\n",
      "Epoch: 2000   train/loss: 52.6582   valid/loss: 38.7038   train/acc: 0.455   valid/acc: 0.3097\n",
      "Epoch: 2200   train/loss: 51.5307   valid/loss: 37.8438   train/acc: 0.4656   valid/acc: 0.3363\n",
      "Epoch: 2400   train/loss: 51.476   valid/loss: 38.5402   train/acc: 0.4921   valid/acc: 0.3451\n",
      "Epoch: 2600   train/loss: 51.2761   valid/loss: 38.0076   train/acc: 0.5185   valid/acc: 0.3274\n",
      "Epoch: 2800   train/loss: 50.6814   valid/loss: 37.4727   train/acc: 0.5344   valid/acc: 0.3451\n",
      "Epoch: 3000   train/loss: 49.5321   valid/loss: 37.1777   train/acc: 0.5238   valid/acc: 0.3451\n",
      "Epoch: 3200   train/loss: 49.0828   valid/loss: 37.819   train/acc: 0.5503   valid/acc: 0.354\n",
      "Epoch: 3400   train/loss: 48.731   valid/loss: 37.7944   train/acc: 0.545   valid/acc: 0.354\n",
      "Epoch: 3600   train/loss: 47.867   valid/loss: 37.5814   train/acc: 0.5397   valid/acc: 0.354\n",
      "Epoch: 3800   train/loss: 48.3991   valid/loss: 38.3829   train/acc: 0.5556   valid/acc: 0.3451\n",
      "Epoch: 4000   train/loss: 47.8083   valid/loss: 38.7933   train/acc: 0.5503   valid/acc: 0.354\n"
     ]
    },
    {
     "name": "stdout",
     "output_type": "stream",
     "text": [
      "Test accuracy: 0.4774774774774775\n",
      "Progress:  0.424\n",
      "Number of training circuits: 190   Number of validation circuits: 113   Number of test circuits: 111   Number of parameters in model: 267\n"
     ]
    },
    {
     "name": "stderr",
     "output_type": "stream",
     "text": [
      "Epoch: 200   train/loss: 61.2019   valid/loss: 37.9019   train/acc: 0.3158   valid/acc: 0.3451\n",
      "Epoch: 400   train/loss: 66.1422   valid/loss: 39.9366   train/acc: 0.2474   valid/acc: 0.2832\n",
      "Epoch: 600   train/loss: 57.0191   valid/loss: 41.8921   train/acc: 0.4316   valid/acc: 0.292\n",
      "Epoch: 800   train/loss: 54.5762   valid/loss: 43.2819   train/acc: 0.4579   valid/acc: 0.3274\n",
      "Epoch: 1000   train/loss: 53.9979   valid/loss: 38.5813   train/acc: 0.4684   valid/acc: 0.3717\n",
      "Epoch: 1200   train/loss: 51.6723   valid/loss: 41.1589   train/acc: 0.5105   valid/acc: 0.3628\n",
      "Epoch: 1400   train/loss: 51.8014   valid/loss: 40.1893   train/acc: 0.4737   valid/acc: 0.354\n",
      "Epoch: 1600   train/loss: 52.2301   valid/loss: 39.9544   train/acc: 0.5211   valid/acc: 0.3717\n",
      "Epoch: 1800   train/loss: 51.7872   valid/loss: 40.4   train/acc: 0.5105   valid/acc: 0.3717\n",
      "Epoch: 2000   train/loss: 52.138   valid/loss: 38.4875   train/acc: 0.5105   valid/acc: 0.3186\n",
      "Epoch: 2200   train/loss: 50.9937   valid/loss: 40.562   train/acc: 0.5   valid/acc: 0.3186\n",
      "Epoch: 2400   train/loss: 50.9413   valid/loss: 40.4273   train/acc: 0.4789   valid/acc: 0.3186\n",
      "Epoch: 2600   train/loss: 50.6501   valid/loss: 39.6838   train/acc: 0.5474   valid/acc: 0.3363\n",
      "Epoch: 2800   train/loss: 51.2173   valid/loss: 39.2496   train/acc: 0.5421   valid/acc: 0.3451\n",
      "Epoch: 3000   train/loss: 50.091   valid/loss: 41.0721   train/acc: 0.5263   valid/acc: 0.3451\n",
      "Epoch: 3200   train/loss: 50.1764   valid/loss: 42.0055   train/acc: 0.5316   valid/acc: 0.354\n",
      "Epoch: 3400   train/loss: 48.2833   valid/loss: 41.6251   train/acc: 0.5158   valid/acc: 0.3451\n",
      "Epoch: 3600   train/loss: 49.7488   valid/loss: 39.3483   train/acc: 0.5211   valid/acc: 0.3274\n",
      "Epoch: 3800   train/loss: 49.2054   valid/loss: 39.8297   train/acc: 0.5316   valid/acc: 0.3451\n",
      "Epoch: 4000   train/loss: 48.7354   valid/loss: 41.363   train/acc: 0.5105   valid/acc: 0.3451\n"
     ]
    },
    {
     "name": "stdout",
     "output_type": "stream",
     "text": [
      "Test accuracy: 0.42342342342342343\n",
      "Progress:  0.426\n",
      "Number of training circuits: 191   Number of validation circuits: 113   Number of test circuits: 111   Number of parameters in model: 267\n"
     ]
    },
    {
     "name": "stderr",
     "output_type": "stream",
     "text": [
      "Epoch: 200   train/loss: 63.8467   valid/loss: 39.0855   train/acc: 0.3455   valid/acc: 0.3009\n",
      "Epoch: 400   train/loss: 59.0377   valid/loss: 41.0798   train/acc: 0.4136   valid/acc: 0.2832\n",
      "Epoch: 600   train/loss: 61.3152   valid/loss: 39.97   train/acc: 0.3927   valid/acc: 0.2035\n",
      "Epoch: 800   train/loss: 57.735   valid/loss: 39.2268   train/acc: 0.4031   valid/acc: 0.2566\n",
      "Epoch: 1000   train/loss: 58.0042   valid/loss: 39.6803   train/acc: 0.377   valid/acc: 0.2743\n",
      "Epoch: 1200   train/loss: 54.3083   valid/loss: 40.0552   train/acc: 0.4398   valid/acc: 0.2655\n",
      "Epoch: 1400   train/loss: 52.7487   valid/loss: 42.6692   train/acc: 0.445   valid/acc: 0.2743\n",
      "Epoch: 1600   train/loss: 52.9203   valid/loss: 43.1978   train/acc: 0.4607   valid/acc: 0.3009\n",
      "Epoch: 1800   train/loss: 51.5592   valid/loss: 41.4444   train/acc: 0.4921   valid/acc: 0.292\n",
      "Epoch: 2000   train/loss: 50.6048   valid/loss: 41.739   train/acc: 0.5236   valid/acc: 0.3186\n",
      "Epoch: 2200   train/loss: 51.0469   valid/loss: 41.7052   train/acc: 0.5131   valid/acc: 0.3097\n",
      "Epoch: 2400   train/loss: 48.9048   valid/loss: 42.2249   train/acc: 0.5393   valid/acc: 0.3274\n",
      "Epoch: 2600   train/loss: 48.5614   valid/loss: 41.7809   train/acc: 0.5393   valid/acc: 0.3628\n",
      "Epoch: 2800   train/loss: 48.5042   valid/loss: 40.2671   train/acc: 0.4921   valid/acc: 0.3274\n",
      "Epoch: 3000   train/loss: 47.4896   valid/loss: 41.5225   train/acc: 0.5445   valid/acc: 0.3363\n",
      "Epoch: 3200   train/loss: 47.3268   valid/loss: 40.533   train/acc: 0.5026   valid/acc: 0.3097\n",
      "Epoch: 3400   train/loss: 47.2106   valid/loss: 40.672   train/acc: 0.555   valid/acc: 0.3097\n",
      "Epoch: 3600   train/loss: 47.0494   valid/loss: 41.3879   train/acc: 0.5707   valid/acc: 0.3186\n",
      "Epoch: 3800   train/loss: 46.8411   valid/loss: 40.6986   train/acc: 0.5759   valid/acc: 0.3451\n",
      "Epoch: 4000   train/loss: 47.7631   valid/loss: 41.4923   train/acc: 0.555   valid/acc: 0.3451\n"
     ]
    },
    {
     "name": "stdout",
     "output_type": "stream",
     "text": [
      "Test accuracy: 0.4144144144144144\n",
      "Progress:  0.429\n",
      "Number of training circuits: 192   Number of validation circuits: 113   Number of test circuits: 111   Number of parameters in model: 267\n"
     ]
    }
   ],
   "source": [
    "for i, key in enumerate(all_training_keys[initial_number_of_circuits:]):\n",
    "    print(\"Progress: \", round((i + initial_number_of_circuits)/len(all_training_keys), 3))\n",
    "    \n",
    "    if len(syms) == len(get_symbols(current_training_circuits)) and i > 0:\n",
    "        if i != len(all_training_keys[1:]):\n",
    "            current_training_circuits[key] = training_circuits[key]\n",
    "            new_parameters = sorted(get_symbols({key: training_circuits[key]}), key=default_sort_key)\n",
    "            if result:\n",
    "                parameters, init_params_spsa = initialize_parameters(parameters, result.x, new_parameters)\n",
    "                #continue\n",
    "            else:\n",
    "                syms = get_symbols(current_training_circuits)\n",
    "                parameters = sorted(syms, key=default_sort_key)\n",
    "                init_params_spsa = np.array(rng.random(len(parameters)))\n",
    "    else:\n",
    "        run += 1\n",
    "    \n",
    "    # Select those circuits from test and validation circuits which share the parameters with the current training circuits\n",
    "    current_validation_circuits = select_circuits(current_training_circuits, validation_circuits)\n",
    "    current_test_circuits = select_circuits(current_training_circuits, test_circuits)\n",
    "    \n",
    "    if len(current_validation_circuits) == 0 or len(current_test_circuits) == 0:\n",
    "        continue\n",
    "    \n",
    "    # Create lists with circuits and their corresponding label\n",
    "    training_circuits_l, training_data_labels_l = construct_data_and_labels(current_training_circuits, training_data_labels)\n",
    "    validation_circuits_l, validation_data_labels_l = construct_data_and_labels(current_validation_circuits, validation_data_labels)\n",
    "    test_circuits_l, test_data_labels_l = construct_data_and_labels(current_test_circuits, test_data_labels)\n",
    "    \n",
    "    # Limit the number of validation and test circuits to 20% of number of the training circuits\n",
    "    if limit:\n",
    "        val_test_circ_size = ceil(len(current_training_circuits))\n",
    "        if len(current_validation_circuits) > val_test_circ_size:\n",
    "            validation_circuits_l = validation_circuits_l[:val_test_circ_size]\n",
    "            validation_data_labels_l = validation_data_labels_l[:val_test_circ_size]\n",
    "        if len(current_test_circuits) > val_test_circ_size:\n",
    "            test_circuits_l = test_circuits_l[:val_test_circ_size]\n",
    "            test_data_labels_l = test_data_labels_l[:val_test_circ_size]\n",
    "    \n",
    "    stats = f\"Number of training circuits: {len(training_circuits_l)}   \"\\\n",
    "        + f\"Number of validation circuits: {len(validation_circuits_l)}   \"\\\n",
    "        + f\"Number of test circuits: {len(test_circuits_l)}   \"\\\n",
    "        + f\"Number of parameters in model: {len(set([sym for circuit in training_circuits_l for sym in circuit.free_symbols]))}\"\n",
    "    \n",
    "    with open(\"results//\" + result_file + \".txt\", \"a\") as f:\n",
    "        f.write(stats + \"\\n\")\n",
    "    \n",
    "    print(stats)\n",
    "    \n",
    "    train_pred_fn = jit(make_pred_fn(training_circuits_l))\n",
    "    dev_pred_fn = jit(make_pred_fn(validation_circuits_l))\n",
    "    test_pred_fn = make_pred_fn(test_circuits_l)\n",
    "    \n",
    "    train_cost_fn, train_costs, train_accs = make_cost_fn(train_pred_fn, training_data_labels_l)\n",
    "    dev_cost_fn, dev_costs, dev_accs = make_cost_fn(dev_pred_fn, validation_data_labels_l)\n",
    "    \n",
    "    def callback_fn(xk):\n",
    "        #print(xk)\n",
    "        valid_loss = dev_cost_fn(xk)\n",
    "        train_loss = numpy.around(min(float(train_costs[-1]), float(train_costs[-2])), 4)\n",
    "        train_acc = numpy.around(min(float(train_accs[-1]), float(train_accs[-2])), 4)\n",
    "        valid_acc = numpy.around(float(dev_accs[-1]), 4)\n",
    "        iters = int(len(train_accs)/2)\n",
    "        if iters % 200 == 0:\n",
    "            info = f\"Epoch: {iters}   \"\\\n",
    "            + f\"train/loss: {train_loss}   \"\\\n",
    "            + f\"valid/loss: {numpy.around(float(valid_loss), 4)}   \"\\\n",
    "            + f\"train/acc: {train_acc}   \"\\\n",
    "            + f\"valid/acc: {valid_acc}\"\n",
    "        \n",
    "            with open(\"results//\" + result_file + \".txt\", \"a\") as f:\n",
    "                f.write(info + \"\\n\")\n",
    "                \n",
    "            print(info, file=sys.stderr)\n",
    "        return valid_loss\n",
    "    \n",
    "    a_value = 0.0053\n",
    "    c_value = 0.0185\n",
    "            \n",
    "    train_cost_fn, train_costs, train_accs = make_cost_fn(train_pred_fn, training_data_labels_l)\n",
    "    dev_cost_fn, dev_costs, dev_accs = make_cost_fn(dev_pred_fn, validation_data_labels_l)\n",
    "\n",
    "    result = minimizeSPSA(train_cost_fn, x0=init_params_spsa, a = a_value, c = c_value, niter=EPOCHS, callback=callback_fn)\n",
    "    #result = minimizeCompass(train_cost_fn, x0=init_params_spsa, redfactor=2.0, deltainit=1.0, deltatol=0.001, feps=1e-15, errorcontrol=True, funcNinit=30, funcmultfactor=2.0, paired=True, alpha=0.05, callback=callback_fn)\n",
    "\n",
    "    figure_path = this_folder + \"//results//\" + result_file + \".png\"\n",
    "    visualize_result_noisyopt(result, make_cost_fn, test_pred_fn, test_data_labels_l, train_costs, train_accs, dev_costs, dev_accs, figure_path, result_file)\n",
    "    \n",
    "    run += 1\n",
    "    #EPOCHS += 100\n",
    "    syms = get_symbols(current_training_circuits)\n",
    "    \n",
    "    # Extend for the next optimization round\n",
    "    current_training_circuits[key] = training_circuits[key]\n",
    "    new_parameters = sorted(get_symbols({key: training_circuits[key]}), key=default_sort_key)\n",
    "    parameters, init_params_spsa = initialize_parameters(parameters, result.x, new_parameters)"
   ]
  }
 ],
 "metadata": {
  "kernelspec": {
   "display_name": "Python 3 (ipykernel)",
   "language": "python",
   "name": "python3"
  },
  "language_info": {
   "codemirror_mode": {
    "name": "ipython",
    "version": 3
   },
   "file_extension": ".py",
   "mimetype": "text/x-python",
   "name": "python",
   "nbconvert_exporter": "python",
   "pygments_lexer": "ipython3",
   "version": "3.8.10"
  }
 },
 "nbformat": 4,
 "nbformat_minor": 5
}
