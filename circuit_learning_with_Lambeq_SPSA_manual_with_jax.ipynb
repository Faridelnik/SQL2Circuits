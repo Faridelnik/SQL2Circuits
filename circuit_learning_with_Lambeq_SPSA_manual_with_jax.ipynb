{
 "cells": [
  {
   "cell_type": "markdown",
   "id": "b09952d6-99a3-41a5-865f-2170e9ee0247",
   "metadata": {},
   "source": [
    "# Circuit learning module: Lambeq manually with SPSA and JAX"
   ]
  },
  {
   "cell_type": "markdown",
   "id": "bb811fe4-d729-4a44-838d-9c02db4a644d",
   "metadata": {},
   "source": [
    "This module performs the optimization of the parametrized circuit manually compared to Lambeq's automatic QuantumTrainer class. I created this because I wanted to have more control over the optimization process and debug it better. The code is based on the workflow presented in https://github.com/CQCL/Quanthoven."
   ]
  },
  {
   "cell_type": "code",
   "execution_count": 1,
   "id": "c9a5783f-901a-4bfe-a622-4003b345fb1b",
   "metadata": {},
   "outputs": [],
   "source": [
    "import warnings\n",
    "import json\n",
    "import os\n",
    "import sys\n",
    "import glob\n",
    "from math import ceil\n",
    "from pathlib import Path\n",
    "from jax import numpy as np\n",
    "from sympy import default_sort_key\n",
    "import numpy\n",
    "import pickle\n",
    "import matplotlib.pyplot as plt\n",
    "\n",
    "import jax\n",
    "from jax import jit\n",
    "from noisyopt import minimizeSPSA, minimizeCompass\n",
    "\n",
    "from discopy.quantum import Circuit\n",
    "from discopy.tensor import Tensor\n",
    "from discopy.utils import loads\n",
    "#from pytket.extensions.qiskit import AerBackend\n",
    "#from pytket.extensions.qulacs import QulacsBackend\n",
    "#from pytket.extensions.cirq import CirqStateSampleBackend\n",
    "backend = None\n",
    "\n",
    "from utils import get_symbols, construct_data_and_labels, select_circuits, read_diagrams, create_labeled_classes, bin_class_loss, multi_class_loss, bin_class_acc, multi_class_acc, visualize_result_noisyopt\n",
    "from sklearn.metrics import accuracy_score, recall_score, precision_score, f1_score\n",
    "\n",
    "warnings.filterwarnings('ignore')\n",
    "this_folder = os.path.abspath(os.getcwd())\n",
    "os.environ['TOKENIZERS_PARALLELISM'] = 'true'\n",
    "#os.environ[\"JAX_PLATFORMS\"] = \"cpu\"\n",
    "\n",
    "EPOCHS = 500\n",
    "SEED = 0\n",
    "\n",
    "# This avoids TracerArrayConversionError from jax\n",
    "Tensor.np = np\n",
    "\n",
    "rng = numpy.random.default_rng(SEED)\n",
    "numpy.random.seed(SEED)"
   ]
  },
  {
   "cell_type": "markdown",
   "id": "238fca40-5d8d-4ace-a65f-693885a8caf8",
   "metadata": {},
   "source": [
    "## Read circuit data"
   ]
  },
  {
   "cell_type": "markdown",
   "id": "7f6f00d7-b573-4c5d-a0d6-d5eafc54745e",
   "metadata": {},
   "source": [
    "We read the circuits from the pickled files. Select if we perform binary classification or multi-class classification. Give number of qubits to create classes:\n",
    "- 1 qubits -> 2^1 = 2 classes i.e. binary classification\n",
    "- 2 qubits -> 2^2 = 4 classes\n",
    "- ...\n",
    "- 5 qubits -> 2^5 = 32 classes, etc."
   ]
  },
  {
   "cell_type": "code",
   "execution_count": 2,
   "id": "01bac1f9-3bc0-4a25-8f4f-baa2b9c581e9",
   "metadata": {},
   "outputs": [],
   "source": [
    "# Select workload\n",
    "workload = \"execution_time\"\n",
    "#workload = \"cardinality\"\n",
    "\n",
    "# Select workload size\n",
    "#workload_size = \"small\"\n",
    "#workload_size = \"medium\"\n",
    "#workload_size = \"large\"\n",
    "workload_size = \"main\"\n",
    "\n",
    "classification = 1\n",
    "layers = 1\n",
    "single_qubit_params = 3\n",
    "n_wire_count = 1\n",
    "\n",
    "loss = multi_class_loss\n",
    "acc = multi_class_acc\n",
    "\n",
    "if classification == 1:\n",
    "    loss = bin_class_loss\n",
    "    acc = bin_class_acc\n",
    "\n",
    "# Access the selected circuits\n",
    "path_name = this_folder + \"//simplified-JOB-diagrams//\" + workload + \"//\" + workload_size + \"//circuits//\" + str(classification) + \"//\" + str(layers) + \"_layer//\" + str(single_qubit_params) + \"_single_qubit_params//\" + str(n_wire_count) + \"_n_wire_count//\"\n",
    "\n",
    "training_circuits_paths = glob.glob(path_name + \"training//[0-9]*.p\")\n",
    "validation_circuits_paths = glob.glob(path_name + \"validation//[0-9]*.p\")\n",
    "test_circuits_paths = glob.glob(path_name + \"test//[0-9]*.p\")"
   ]
  },
  {
   "cell_type": "code",
   "execution_count": 3,
   "id": "5ff0a551-444c-40a7-bf66-8e929bc49a64",
   "metadata": {},
   "outputs": [],
   "source": [
    "training_circuits = read_diagrams(training_circuits_paths)\n",
    "validation_circuits = read_diagrams(validation_circuits_paths)\n",
    "test_circuits = read_diagrams(test_circuits_paths)"
   ]
  },
  {
   "cell_type": "markdown",
   "id": "f2da3a7c-6a93-44e9-9640-7e9ead005cb2",
   "metadata": {},
   "source": [
    "## Read training and test data"
   ]
  },
  {
   "cell_type": "code",
   "execution_count": 4,
   "id": "774e9f52-69c9-4e1c-8a70-76e1198d12f4",
   "metadata": {},
   "outputs": [],
   "source": [
    "training_data, test_data, validation_data = None, None, None\n",
    "data_path = this_folder + \"//data//\" + workload + \"//\" + workload_size + \"//\"\n",
    "\n",
    "with open(data_path + \"training_data.json\", \"r\") as inputfile:\n",
    "    training_data = json.load(inputfile)['training_data']\n",
    "with open(data_path + \"test_data.json\", \"r\") as inputfile:\n",
    "    test_data = json.load(inputfile)['test_data']\n",
    "with open(data_path + \"validation_data.json\", \"r\") as inputfile:\n",
    "    validation_data = json.load(inputfile)['validation_data']\n",
    "\n",
    "training_data_labels = create_labeled_classes(training_data, classification, workload)\n",
    "test_data_labels = create_labeled_classes(test_data, classification, workload)\n",
    "validation_data_labels = create_labeled_classes(validation_data, classification, workload)"
   ]
  },
  {
   "cell_type": "markdown",
   "id": "f6cad830-e6c3-4c29-9ce6-0d6bec2794bc",
   "metadata": {},
   "source": [
    "## Lambeq optimizer"
   ]
  },
  {
   "cell_type": "raw",
   "id": "be555e95-e7aa-4f1b-bf4d-29acd66056b0",
   "metadata": {},
   "source": [
    "#all_circuits = list(training_circuits.values()) + list(test_circuits.values())\n",
    "\n",
    "training_circuits_l = []\n",
    "test_circuits_l = []\n",
    "validation_circuits_l = []\n",
    "\n",
    "training_data_labels_l = []\n",
    "test_data_labels_l = []\n",
    "validation_data_labels_l = []\n",
    "\n",
    "# Organize circuits and labels in correct order into two lists which will be input for training the model\n",
    "for key in training_data_labels:\n",
    "    training_circuits_l.append(training_circuits[key])\n",
    "    training_data_labels_l.append(training_data_labels[key])\n",
    "\n",
    "for key in test_data_labels:\n",
    "    test_circuits_l.append(test_circuits[key])\n",
    "    test_data_labels_l.append(test_data_labels[key])\n",
    "    \n",
    "for key in validation_data_labels:\n",
    "    validation_circuits_l.append(validation_circuits[key])\n",
    "    validation_data_labels_l.append(validation_data_labels[key])\n",
    "\n",
    "all_circuits = training_circuits_l + test_circuits_l + validation_circuits_l\n",
    "\n",
    "train_syms = set([sym for circuit in training_circuits.values() for sym in circuit.free_symbols])\n",
    "test_syms = set([sym for circuit in test_circuits.values() for sym in circuit.free_symbols])\n",
    "val_syms = set([sym for circuit in validation_circuits.values() for sym in circuit.free_symbols])\n",
    "\n",
    "print(\"Test circuits need to share training circuits' parameters. The parameters that are not covered (should be empty set, set()): \", test_syms.difference(train_syms))\n",
    "print(\"Validation circuits need to share training circuits' parameters. The parameters that are not covered (should be empty set, set()): \", val_syms.difference(train_syms))\n",
    "\n",
    "print(\"Total number of circuits: \", len(all_circuits))\n",
    "print(\"Total number of variables: \", len(train_syms))"
   ]
  },
  {
   "cell_type": "raw",
   "id": "ecd5daca-fdba-44fe-961d-5b9b9c3c68cb",
   "metadata": {},
   "source": [
    "training_data_labels_l = np.array(training_data_labels_l)\n",
    "test_data_labels_l = np.array(test_data_labels_l)\n",
    "validation_data_labels_l = np.array(validation_data_labels_l)"
   ]
  },
  {
   "cell_type": "markdown",
   "id": "572abfc1-cc81-4fdb-b8bb-6813fe658dd6",
   "metadata": {},
   "source": [
    "## Model"
   ]
  },
  {
   "cell_type": "raw",
   "id": "75f97a9a-c5fc-4d9b-920f-9eb0795ca018",
   "metadata": {},
   "source": [
    "parameters = sorted(\n",
    "    train_syms,\n",
    "    key=default_sort_key)\n",
    "\n",
    "rng = numpy.random.default_rng(SEED)\n",
    "init_params_spsa = np.array(rng.random(len(parameters)))\n",
    "numpy.random.seed(SEED)"
   ]
  },
  {
   "cell_type": "code",
   "execution_count": 5,
   "id": "04c65634-fa13-47b3-915c-83361d0e1baf",
   "metadata": {},
   "outputs": [],
   "source": [
    "def make_pred_fn(circuits):\n",
    "    # In the case we want to use other backends. \n",
    "    # Currently does not work properly.\n",
    "    if backend:\n",
    "        compiled_circuits1 = backend.get_compiled_circuits([c.to_tk() for c in circuits])\n",
    "        circuits = [Circuit.from_tk(c) for c in compiled_circuits1]\n",
    "        \n",
    "    circuit_fns = [c.lambdify(*parameters) for c in circuits]\n",
    "    \n",
    "    def predict(params):\n",
    "        outputs = Circuit.eval(*(c(*params) for c in circuit_fns), backend = backend)\n",
    "        res = []\n",
    "        \n",
    "        for output in outputs:\n",
    "            predictions = np.abs(output.array) + 1e-9\n",
    "            ratio = predictions / predictions.sum()\n",
    "            res.append(ratio)\n",
    "            \n",
    "        return np.array(res)\n",
    "    return predict"
   ]
  },
  {
   "cell_type": "markdown",
   "id": "868cf7e7-fcbf-4bad-b8bc-4ff0e6b29294",
   "metadata": {},
   "source": [
    "## Loss function and evaluation"
   ]
  },
  {
   "cell_type": "code",
   "execution_count": 6,
   "id": "f376b4aa-0ec6-4037-80eb-935aa75a2f74",
   "metadata": {},
   "outputs": [],
   "source": [
    "def make_cost_fn(pred_fn, labels):\n",
    "    def cost_fn(params, **kwargs):\n",
    "        predictions = pred_fn(params)\n",
    "\n",
    "        cost = loss(predictions, labels) #-np.sum(labels * np.log(predictions)) / len(labels)  # binary cross-entropy loss\n",
    "        costs.append(cost)\n",
    "\n",
    "        accuracy = acc(predictions, labels) #np.sum(np.round(predictions) == labels) / len(labels) / 2  # half due to double-counting\n",
    "        accuracies.append(accuracy)\n",
    "\n",
    "        return cost\n",
    "\n",
    "    costs, accuracies = [], []\n",
    "    return cost_fn, costs, accuracies"
   ]
  },
  {
   "cell_type": "markdown",
   "id": "a3bb6805-facb-4ec9-9c38-8d1df42022b2",
   "metadata": {},
   "source": [
    "## Minimization with noisyopt"
   ]
  },
  {
   "cell_type": "raw",
   "id": "53bc5cb8-8960-46d9-a64e-02b96fb97acc",
   "metadata": {},
   "source": [
    "EPOCHS = 1000\n",
    "SEED = 0\n",
    "\n",
    "# This avoids TracerArrayConversionError from jax\n",
    "Tensor.np = np\n",
    "\n",
    "rng = numpy.random.default_rng(SEED)\n",
    "init_params_spsa = np.array(rng.random(len(parameters)))\n",
    "numpy.random.seed(SEED)\n",
    "\n",
    "train_cost_fn, train_costs, train_accs = make_cost_fn(train_pred_fn, training_data_labels_l)\n",
    "dev_cost_fn, dev_costs, dev_accs = make_cost_fn(dev_pred_fn, validation_data_labels_l)\n",
    "\n",
    "def callback_fn(xk):\n",
    "    valid_loss = dev_cost_fn(xk)\n",
    "    train_loss = round(train_costs[-1], 4)\n",
    "    train_acc = round(train_accs[-1], 4)\n",
    "    valid_acc = round(dev_accs[-1], 4)\n",
    "    iters = int(len(train_accs)/2)\n",
    "    if iters % 100 == 0:\n",
    "        print(\n",
    "                #f\"Params = {xk}, \"\n",
    "                f\"Epoch: {iters}   \",\n",
    "                f\"train/loss: {train_loss}   \",\n",
    "                f\"valid/loss: {round(valid_loss, 4)}   \",\n",
    "                f\"train/acc: {train_acc}   \",\n",
    "                f\"valid/acc: {valid_acc}\"\n",
    "            )\n",
    "    return valid_loss"
   ]
  },
  {
   "cell_type": "raw",
   "id": "cc202031-11f7-4307-96de-8c642d65ce4d",
   "metadata": {},
   "source": [
    "#a_values = [100.0, 10.0, 1.0, 0.1, 0.01, 0.001, 0.0001, 0.00001, 0.000001]\n",
    "#c_values = [100.0, 10.0, 1.0, 0.1, 0.01, 0.001, 0.0001, 0.00001, 0.000001]\n",
    "\n",
    "#a_values = [0.001, 0.005, 0.01, 0.015, 0.02, 0.025, 0.03]\n",
    "#c_values = [0.001, 0.005, 0.01, 0.015, 0.02, 0.025, 0.03]\n",
    "\n",
    "run = 6\n",
    "#a_values = [0.0055, 0.0054, 0.0052, 0.005, 0.0048, 0.0045, 0.004]\n",
    "#c_values = [0.012, 0.016, 0.018, 0.02, 0.022, 0.025, 0.03]\n",
    "\n",
    "#a_values = [0.0053, 0.0054, 0.0055, 0.0056, 0.0057]\n",
    "#c_values = [0.017, 0.0175, 0.018, 0.0185, 0.019]\n",
    "\n",
    "a_values = [0.0052, 0.00525, 0.0053, 0.00535, 0.0054]\n",
    "c_values = [0.0183, 0.0184, 0.0185, 0.0186, 0.0187] \n",
    "\n",
    "for i, a_value in enumerate(a_values):\n",
    "    for j, c_value in enumerate(c_values):\n",
    "        train_cost_fn, train_costs, train_accs = make_cost_fn(train_pred_fn, training_data_labels_l)\n",
    "        dev_cost_fn, dev_costs, dev_accs = make_cost_fn(dev_pred_fn, validation_data_labels_l)\n",
    "        \n",
    "        result = minimizeSPSA(train_cost_fn, x0=init_params_spsa, a = a_value, c = c_value, niter=EPOCHS, callback=callback_fn)"
   ]
  },
  {
   "cell_type": "code",
   "execution_count": 7,
   "id": "85b70bae-fe88-4852-a423-658641380e57",
   "metadata": {},
   "outputs": [],
   "source": [
    "def initialize_parameters(old_params, old_values, new_params):\n",
    "    new_values = list(numpy.array(rng.random(len(new_params))))\n",
    "    old_param_dict = {}\n",
    "    for p, v in zip(old_params, old_values):\n",
    "        old_param_dict[p] = v\n",
    "        \n",
    "    parameters = sorted(set(old_params + new_params), key=default_sort_key)\n",
    "    values = []\n",
    "    for p in parameters:\n",
    "        if p in old_param_dict:\n",
    "            values.append(old_param_dict[p])\n",
    "        else:\n",
    "            values.append(new_values.pop())\n",
    "            \n",
    "    return parameters, np.array(values)"
   ]
  },
  {
   "cell_type": "code",
   "execution_count": null,
   "id": "4dd1d87d-047d-4feb-9dbc-c972bbabf741",
   "metadata": {},
   "outputs": [],
   "source": [
    "EPOCHS = 3000\n",
    "syms = {}\n",
    "limit = False\n",
    "all_training_keys = list(training_circuits.keys())\n",
    "initial_circuit_keys = all_training_keys[:5]\n",
    "current_training_circuits = {}\n",
    "result_file = workload_size + \"_noisyopt_2\" + str(classification) + \"_\" + str(layers) + \"_\" + str(single_qubit_params)\n",
    "\n",
    "for k in initial_circuit_keys:\n",
    "    current_training_circuits[k] = training_circuits[k]\n",
    "    \n",
    "syms = get_symbols(current_training_circuits)\n",
    "parameters = sorted(syms, key=default_sort_key)\n",
    "initial_number_of_circuits = 44\n",
    "if initial_number_of_circuits > 5 and os.path.exists(\"points//\" + result_file + \".npz\"):\n",
    "    with open(\"points//\" + result_file + \".npz\", \"rb\") as f:\n",
    "        print(\"Loading parameters from file \" + result_file)\n",
    "        npzfile = np.load(f)\n",
    "        init_params_spsa = npzfile['arr_0']\n",
    "else:\n",
    "    print(\"Initializing new parameters\")\n",
    "    init_params_spsa = np.array(rng.random(len(parameters)))\n",
    "result = None\n",
    "run = 0"
   ]
  },
  {
   "cell_type": "code",
   "execution_count": null,
   "id": "52d19610-d096-4de1-b1b9-63aef886e632",
   "metadata": {},
   "outputs": [
    {
     "name": "stdout",
     "output_type": "stream",
     "text": [
      "Progress:  0.022\n",
      "Number of training circuits: 5   Number of validation circuits: 5   Number of test circuits: 8   Number of parameters in model: 107\n"
     ]
    },
    {
     "name": "stderr",
     "output_type": "stream",
     "text": [
      "Epoch: 200   train/loss: 0.2508   valid/loss: 0.9986   train/acc: 1.0   valid/acc: 0.6\n",
      "Epoch: 400   train/loss: 0.1625   valid/loss: 0.9911   train/acc: 1.0   valid/acc: 0.6\n",
      "Epoch: 600   train/loss: 0.1644   valid/loss: 0.9531   train/acc: 1.0   valid/acc: 0.6\n",
      "Epoch: 800   train/loss: 0.1481   valid/loss: 0.8764   train/acc: 1.0   valid/acc: 0.6\n",
      "Epoch: 1000   train/loss: 0.1283   valid/loss: 0.8315   train/acc: 1.0   valid/acc: 0.8\n",
      "Epoch: 1200   train/loss: 0.1125   valid/loss: 0.782   train/acc: 1.0   valid/acc: 0.8\n",
      "Epoch: 1400   train/loss: 0.1229   valid/loss: 0.828   train/acc: 1.0   valid/acc: 0.6\n",
      "Epoch: 1600   train/loss: 0.1333   valid/loss: 0.812   train/acc: 1.0   valid/acc: 0.8\n",
      "Epoch: 1800   train/loss: 0.1177   valid/loss: 0.7483   train/acc: 1.0   valid/acc: 0.8\n",
      "Epoch: 2000   train/loss: 0.0992   valid/loss: 0.7026   train/acc: 1.0   valid/acc: 0.8\n",
      "Epoch: 2200   train/loss: 0.1027   valid/loss: 0.7244   train/acc: 1.0   valid/acc: 0.8\n",
      "Epoch: 2400   train/loss: 0.1009   valid/loss: 0.7102   train/acc: 1.0   valid/acc: 0.8\n",
      "Epoch: 2600   train/loss: 0.1193   valid/loss: 0.6814   train/acc: 1.0   valid/acc: 0.8\n",
      "Epoch: 2800   train/loss: 0.1123   valid/loss: 0.6819   train/acc: 1.0   valid/acc: 0.8\n",
      "Epoch: 3000   train/loss: 0.1045   valid/loss: 0.6778   train/acc: 1.0   valid/acc: 0.8\n"
     ]
    },
    {
     "name": "stdout",
     "output_type": "stream",
     "text": [
      "Test accuracy: 0.875\n",
      "Progress:  0.025\n",
      "Number of training circuits: 6   Number of validation circuits: 18   Number of test circuits: 19   Number of parameters in model: 134\n"
     ]
    },
    {
     "name": "stderr",
     "output_type": "stream",
     "text": [
      "Epoch: 200   train/loss: 0.1072   valid/loss: 0.9479   train/acc: 1.0   valid/acc: 0.5556\n",
      "Epoch: 400   train/loss: 0.108   valid/loss: 1.0108   train/acc: 1.0   valid/acc: 0.5556\n",
      "Epoch: 600   train/loss: 0.0829   valid/loss: 1.0398   train/acc: 1.0   valid/acc: 0.5556\n",
      "Epoch: 800   train/loss: 0.078   valid/loss: 1.0985   train/acc: 1.0   valid/acc: 0.5556\n",
      "Epoch: 1000   train/loss: 0.0708   valid/loss: 1.1792   train/acc: 1.0   valid/acc: 0.5556\n",
      "Epoch: 1200   train/loss: 0.0526   valid/loss: 1.2111   train/acc: 1.0   valid/acc: 0.5556\n",
      "Epoch: 1400   train/loss: 0.0541   valid/loss: 1.2503   train/acc: 1.0   valid/acc: 0.5556\n",
      "Epoch: 1600   train/loss: 0.076   valid/loss: 1.4186   train/acc: 1.0   valid/acc: 0.5556\n",
      "Epoch: 1800   train/loss: 0.0533   valid/loss: 1.4742   train/acc: 1.0   valid/acc: 0.5556\n",
      "Epoch: 2000   train/loss: 0.0951   valid/loss: 1.4268   train/acc: 1.0   valid/acc: 0.5556\n",
      "Epoch: 2200   train/loss: 0.0685   valid/loss: 1.4183   train/acc: 1.0   valid/acc: 0.5556\n",
      "Epoch: 2400   train/loss: 0.092   valid/loss: 1.3904   train/acc: 1.0   valid/acc: 0.5556\n",
      "Epoch: 2600   train/loss: 0.0595   valid/loss: 1.3477   train/acc: 1.0   valid/acc: 0.5556\n",
      "Epoch: 2800   train/loss: 0.0379   valid/loss: 1.3088   train/acc: 1.0   valid/acc: 0.5556\n",
      "Epoch: 3000   train/loss: 0.0553   valid/loss: 1.3054   train/acc: 1.0   valid/acc: 0.5556\n"
     ]
    },
    {
     "name": "stdout",
     "output_type": "stream",
     "text": [
      "Test accuracy: 0.6315789\n",
      "Progress:  0.027\n",
      "Number of training circuits: 7   Number of validation circuits: 22   Number of test circuits: 25   Number of parameters in model: 137\n"
     ]
    },
    {
     "name": "stderr",
     "output_type": "stream",
     "text": [
      "Epoch: 200   train/loss: 0.0645   valid/loss: 1.1368   train/acc: 1.0   valid/acc: 0.6818\n",
      "Epoch: 400   train/loss: 0.0681   valid/loss: 1.0702   train/acc: 1.0   valid/acc: 0.6364\n",
      "Epoch: 600   train/loss: 0.1208   valid/loss: 1.1077   train/acc: 1.0   valid/acc: 0.6364\n",
      "Epoch: 800   train/loss: 0.0685   valid/loss: 1.0958   train/acc: 1.0   valid/acc: 0.6818\n",
      "Epoch: 1000   train/loss: 0.0897   valid/loss: 1.1147   train/acc: 1.0   valid/acc: 0.6818\n",
      "Epoch: 1200   train/loss: 0.0401   valid/loss: 1.0903   train/acc: 1.0   valid/acc: 0.6818\n",
      "Epoch: 1400   train/loss: 0.0522   valid/loss: 1.091   train/acc: 1.0   valid/acc: 0.6818\n",
      "Epoch: 1600   train/loss: 0.0714   valid/loss: 1.1212   train/acc: 1.0   valid/acc: 0.6818\n",
      "Epoch: 1800   train/loss: 0.0976   valid/loss: 1.1458   train/acc: 1.0   valid/acc: 0.6364\n",
      "Epoch: 2000   train/loss: 0.0845   valid/loss: 1.1277   train/acc: 1.0   valid/acc: 0.6364\n",
      "Epoch: 2200   train/loss: 0.0508   valid/loss: 1.1505   train/acc: 1.0   valid/acc: 0.6364\n",
      "Epoch: 2400   train/loss: 0.044   valid/loss: 1.1337   train/acc: 1.0   valid/acc: 0.6364\n",
      "Epoch: 2600   train/loss: 0.0605   valid/loss: 1.1001   train/acc: 1.0   valid/acc: 0.6818\n",
      "Epoch: 2800   train/loss: 0.0596   valid/loss: 1.1301   train/acc: 1.0   valid/acc: 0.6364\n",
      "Epoch: 3000   train/loss: 0.0535   valid/loss: 1.1573   train/acc: 1.0   valid/acc: 0.6364\n",
      "Epoch: 3200   train/loss: 0.0569   valid/loss: 1.13   train/acc: 1.0   valid/acc: 0.6364\n"
     ]
    },
    {
     "name": "stdout",
     "output_type": "stream",
     "text": [
      "Test accuracy: 0.68\n",
      "Progress:  0.029\n",
      "Number of training circuits: 8   Number of validation circuits: 29   Number of test circuits: 30   Number of parameters in model: 140\n"
     ]
    },
    {
     "name": "stderr",
     "output_type": "stream",
     "text": [
      "Epoch: 200   train/loss: 0.0892   valid/loss: 1.0838   train/acc: 1.0   valid/acc: 0.6207\n",
      "Epoch: 400   train/loss: 0.0961   valid/loss: 1.2333   train/acc: 1.0   valid/acc: 0.6207\n",
      "Epoch: 600   train/loss: 0.0877   valid/loss: 1.1207   train/acc: 1.0   valid/acc: 0.6552\n",
      "Epoch: 800   train/loss: 0.0602   valid/loss: 1.0993   train/acc: 1.0   valid/acc: 0.6552\n",
      "Epoch: 1000   train/loss: 0.0591   valid/loss: 1.1502   train/acc: 1.0   valid/acc: 0.6552\n",
      "Epoch: 1200   train/loss: 0.0854   valid/loss: 1.1659   train/acc: 1.0   valid/acc: 0.6552\n",
      "Epoch: 1400   train/loss: 0.055   valid/loss: 1.1651   train/acc: 1.0   valid/acc: 0.6552\n",
      "Epoch: 1600   train/loss: 0.0482   valid/loss: 1.1781   train/acc: 1.0   valid/acc: 0.6552\n",
      "Epoch: 1800   train/loss: 0.0664   valid/loss: 1.1606   train/acc: 1.0   valid/acc: 0.6552\n",
      "Epoch: 2000   train/loss: 0.0753   valid/loss: 1.183   train/acc: 1.0   valid/acc: 0.6552\n",
      "Epoch: 2200   train/loss: 0.0406   valid/loss: 1.1608   train/acc: 1.0   valid/acc: 0.6552\n",
      "Epoch: 2400   train/loss: 0.0377   valid/loss: 1.1615   train/acc: 1.0   valid/acc: 0.6552\n",
      "Epoch: 2600   train/loss: 0.0659   valid/loss: 1.0963   train/acc: 1.0   valid/acc: 0.6552\n",
      "Epoch: 2800   train/loss: 0.0499   valid/loss: 1.1202   train/acc: 1.0   valid/acc: 0.6552\n",
      "Epoch: 3000   train/loss: 0.0445   valid/loss: 1.1228   train/acc: 1.0   valid/acc: 0.6552\n",
      "Epoch: 3200   train/loss: 0.0461   valid/loss: 1.144   train/acc: 1.0   valid/acc: 0.6552\n"
     ]
    },
    {
     "name": "stdout",
     "output_type": "stream",
     "text": [
      "Test accuracy: 0.6666667\n",
      "Progress:  0.031\n",
      "Number of training circuits: 9   Number of validation circuits: 37   Number of test circuits: 35   Number of parameters in model: 152\n"
     ]
    },
    {
     "name": "stderr",
     "output_type": "stream",
     "text": [
      "Epoch: 200   train/loss: 0.1463   valid/loss: 0.7258   train/acc: 1.0   valid/acc: 0.6216\n",
      "Epoch: 400   train/loss: 0.1454   valid/loss: 0.7881   train/acc: 1.0   valid/acc: 0.6216\n",
      "Epoch: 600   train/loss: 0.0653   valid/loss: 0.8377   train/acc: 1.0   valid/acc: 0.5946\n",
      "Epoch: 800   train/loss: 0.078   valid/loss: 0.8699   train/acc: 1.0   valid/acc: 0.6216\n",
      "Epoch: 1000   train/loss: 0.1041   valid/loss: 0.9031   train/acc: 1.0   valid/acc: 0.5946\n",
      "Epoch: 1200   train/loss: 0.0788   valid/loss: 0.9299   train/acc: 1.0   valid/acc: 0.6216\n",
      "Epoch: 1400   train/loss: 0.0825   valid/loss: 0.9179   train/acc: 1.0   valid/acc: 0.6486\n",
      "Epoch: 1600   train/loss: 0.0677   valid/loss: 0.9257   train/acc: 1.0   valid/acc: 0.6757\n",
      "Epoch: 1800   train/loss: 0.0759   valid/loss: 0.9661   train/acc: 1.0   valid/acc: 0.6757\n",
      "Epoch: 2000   train/loss: 0.082   valid/loss: 0.9498   train/acc: 1.0   valid/acc: 0.6757\n",
      "Epoch: 2200   train/loss: 0.0875   valid/loss: 0.9612   train/acc: 1.0   valid/acc: 0.6757\n",
      "Epoch: 2400   train/loss: 0.0619   valid/loss: 0.9759   train/acc: 1.0   valid/acc: 0.6757\n",
      "Epoch: 2600   train/loss: 0.0896   valid/loss: 0.9674   train/acc: 1.0   valid/acc: 0.6757\n",
      "Epoch: 2800   train/loss: 0.0796   valid/loss: 0.9677   train/acc: 1.0   valid/acc: 0.6486\n",
      "Epoch: 3000   train/loss: 0.0586   valid/loss: 0.9796   train/acc: 1.0   valid/acc: 0.6757\n",
      "Epoch: 3200   train/loss: 0.0859   valid/loss: 1.0027   train/acc: 1.0   valid/acc: 0.6757\n",
      "Epoch: 3400   train/loss: 0.0647   valid/loss: 0.9897   train/acc: 1.0   valid/acc: 0.6757\n"
     ]
    },
    {
     "name": "stdout",
     "output_type": "stream",
     "text": [
      "Test accuracy: 0.6571429\n",
      "Progress:  0.033\n",
      "Number of training circuits: 10   Number of validation circuits: 45   Number of test circuits: 42   Number of parameters in model: 161\n"
     ]
    },
    {
     "name": "stderr",
     "output_type": "stream",
     "text": [
      "Epoch: 200   train/loss: 0.0689   valid/loss: 1.3019   train/acc: 1.0   valid/acc: 0.5111\n",
      "Epoch: 400   train/loss: 0.1184   valid/loss: 1.2637   train/acc: 1.0   valid/acc: 0.5111\n",
      "Epoch: 600   train/loss: 0.0879   valid/loss: 1.3034   train/acc: 1.0   valid/acc: 0.5111\n",
      "Epoch: 800   train/loss: 0.0816   valid/loss: 1.4914   train/acc: 1.0   valid/acc: 0.5333\n",
      "Epoch: 1000   train/loss: 0.0744   valid/loss: 1.3202   train/acc: 1.0   valid/acc: 0.5333\n",
      "Epoch: 1200   train/loss: 0.0567   valid/loss: 1.2923   train/acc: 1.0   valid/acc: 0.5333\n",
      "Epoch: 1400   train/loss: 0.1052   valid/loss: 1.3244   train/acc: 1.0   valid/acc: 0.5333\n",
      "Epoch: 1600   train/loss: 0.1041   valid/loss: 1.4246   train/acc: 1.0   valid/acc: 0.5333\n",
      "Epoch: 1800   train/loss: 0.0546   valid/loss: 1.3286   train/acc: 1.0   valid/acc: 0.5556\n",
      "Epoch: 2000   train/loss: 0.057   valid/loss: 1.3602   train/acc: 1.0   valid/acc: 0.5556\n",
      "Epoch: 2200   train/loss: 0.0977   valid/loss: 1.3586   train/acc: 1.0   valid/acc: 0.5556\n",
      "Epoch: 2400   train/loss: 0.0603   valid/loss: 1.385   train/acc: 1.0   valid/acc: 0.5556\n",
      "Epoch: 2600   train/loss: 0.0451   valid/loss: 1.3655   train/acc: 1.0   valid/acc: 0.5556\n",
      "Epoch: 2800   train/loss: 0.0564   valid/loss: 1.3476   train/acc: 1.0   valid/acc: 0.5333\n",
      "Epoch: 3000   train/loss: 0.051   valid/loss: 1.3687   train/acc: 1.0   valid/acc: 0.5333\n",
      "Epoch: 3200   train/loss: 0.1104   valid/loss: 1.364   train/acc: 1.0   valid/acc: 0.5333\n",
      "Epoch: 3400   train/loss: 0.0411   valid/loss: 1.4037   train/acc: 1.0   valid/acc: 0.5333\n"
     ]
    },
    {
     "name": "stdout",
     "output_type": "stream",
     "text": [
      "Test accuracy: 0.71428573\n",
      "Progress:  0.036\n",
      "Number of training circuits: 11   Number of validation circuits: 47   Number of test circuits: 46   Number of parameters in model: 173\n"
     ]
    },
    {
     "name": "stderr",
     "output_type": "stream",
     "text": [
      "Epoch: 200   train/loss: 0.0958   valid/loss: 1.1762   train/acc: 1.0   valid/acc: 0.4894\n",
      "Epoch: 400   train/loss: 0.0975   valid/loss: 1.3206   train/acc: 1.0   valid/acc: 0.4894\n",
      "Epoch: 600   train/loss: 0.0905   valid/loss: 1.3184   train/acc: 1.0   valid/acc: 0.4681\n",
      "Epoch: 800   train/loss: 0.0649   valid/loss: 1.3416   train/acc: 1.0   valid/acc: 0.4681\n",
      "Epoch: 1000   train/loss: 0.0609   valid/loss: 1.372   train/acc: 1.0   valid/acc: 0.4681\n",
      "Epoch: 1200   train/loss: 0.0678   valid/loss: 1.35   train/acc: 1.0   valid/acc: 0.4681\n",
      "Epoch: 1400   train/loss: 0.081   valid/loss: 1.4554   train/acc: 1.0   valid/acc: 0.4894\n",
      "Epoch: 1600   train/loss: 0.0933   valid/loss: 1.4407   train/acc: 1.0   valid/acc: 0.4894\n",
      "Epoch: 1800   train/loss: 0.0541   valid/loss: 1.4708   train/acc: 1.0   valid/acc: 0.4894\n",
      "Epoch: 2000   train/loss: 0.0604   valid/loss: 1.4414   train/acc: 1.0   valid/acc: 0.4894\n",
      "Epoch: 2200   train/loss: 0.0546   valid/loss: 1.4677   train/acc: 1.0   valid/acc: 0.4894\n",
      "Epoch: 2400   train/loss: 0.0599   valid/loss: 1.4838   train/acc: 1.0   valid/acc: 0.4894\n",
      "Epoch: 2600   train/loss: 0.0507   valid/loss: 1.4985   train/acc: 1.0   valid/acc: 0.4894\n",
      "Epoch: 2800   train/loss: 0.0691   valid/loss: 1.4853   train/acc: 1.0   valid/acc: 0.4681\n",
      "Epoch: 3000   train/loss: 0.0516   valid/loss: 1.4801   train/acc: 1.0   valid/acc: 0.4681\n",
      "Epoch: 3200   train/loss: 0.0874   valid/loss: 1.5297   train/acc: 1.0   valid/acc: 0.4681\n",
      "Epoch: 3400   train/loss: 0.0872   valid/loss: 1.526   train/acc: 1.0   valid/acc: 0.4894\n",
      "Epoch: 3600   train/loss: 0.0687   valid/loss: 1.4585   train/acc: 1.0   valid/acc: 0.4894\n"
     ]
    },
    {
     "name": "stdout",
     "output_type": "stream",
     "text": [
      "Test accuracy: 0.7173913\n",
      "Progress:  0.038\n",
      "Number of training circuits: 12   Number of validation circuits: 47   Number of test circuits: 46   Number of parameters in model: 173\n"
     ]
    },
    {
     "name": "stderr",
     "output_type": "stream",
     "text": [
      "Epoch: 200   train/loss: 0.1016   valid/loss: 1.4754   train/acc: 1.0   valid/acc: 0.5106\n",
      "Epoch: 400   train/loss: 0.0858   valid/loss: 1.4359   train/acc: 1.0   valid/acc: 0.4894\n",
      "Epoch: 600   train/loss: 0.0836   valid/loss: 1.329   train/acc: 1.0   valid/acc: 0.4894\n",
      "Epoch: 800   train/loss: 0.0545   valid/loss: 1.3059   train/acc: 1.0   valid/acc: 0.4894\n",
      "Epoch: 1000   train/loss: 0.0582   valid/loss: 1.3837   train/acc: 1.0   valid/acc: 0.4894\n",
      "Epoch: 1200   train/loss: 0.0672   valid/loss: 1.3738   train/acc: 1.0   valid/acc: 0.5106\n",
      "Epoch: 1400   train/loss: 0.0715   valid/loss: 1.4883   train/acc: 1.0   valid/acc: 0.4894\n",
      "Epoch: 1600   train/loss: 0.0544   valid/loss: 1.5247   train/acc: 1.0   valid/acc: 0.5106\n",
      "Epoch: 1800   train/loss: 0.0973   valid/loss: 1.5501   train/acc: 1.0   valid/acc: 0.4894\n",
      "Epoch: 2000   train/loss: 0.0992   valid/loss: 1.4729   train/acc: 1.0   valid/acc: 0.4894\n",
      "Epoch: 2200   train/loss: 0.0715   valid/loss: 1.5184   train/acc: 1.0   valid/acc: 0.4894\n",
      "Epoch: 2400   train/loss: 0.0556   valid/loss: 1.51   train/acc: 1.0   valid/acc: 0.4894\n",
      "Epoch: 2600   train/loss: 0.0436   valid/loss: 1.5306   train/acc: 1.0   valid/acc: 0.5106\n",
      "Epoch: 2800   train/loss: 0.0627   valid/loss: 1.5972   train/acc: 1.0   valid/acc: 0.5106\n",
      "Epoch: 3000   train/loss: 0.0687   valid/loss: 1.5096   train/acc: 1.0   valid/acc: 0.5106\n",
      "Epoch: 3200   train/loss: 0.0852   valid/loss: 1.4793   train/acc: 1.0   valid/acc: 0.5106\n",
      "Epoch: 3400   train/loss: 0.0458   valid/loss: 1.4477   train/acc: 1.0   valid/acc: 0.5106\n",
      "Epoch: 3600   train/loss: 0.0887   valid/loss: 1.4869   train/acc: 1.0   valid/acc: 0.5106\n"
     ]
    },
    {
     "name": "stdout",
     "output_type": "stream",
     "text": [
      "Test accuracy: 0.7173913\n",
      "Progress:  0.04\n",
      "Number of training circuits: 13   Number of validation circuits: 53   Number of test circuits: 52   Number of parameters in model: 190\n"
     ]
    },
    {
     "name": "stderr",
     "output_type": "stream",
     "text": [
      "Epoch: 200   train/loss: 0.0698   valid/loss: 1.153   train/acc: 1.0   valid/acc: 0.5472\n",
      "Epoch: 400   train/loss: 0.0895   valid/loss: 1.1898   train/acc: 1.0   valid/acc: 0.5849\n",
      "Epoch: 600   train/loss: 0.0601   valid/loss: 1.2473   train/acc: 1.0   valid/acc: 0.5849\n",
      "Epoch: 800   train/loss: 0.0585   valid/loss: 1.2593   train/acc: 1.0   valid/acc: 0.5472\n",
      "Epoch: 1000   train/loss: 0.052   valid/loss: 1.2749   train/acc: 1.0   valid/acc: 0.5472\n",
      "Epoch: 1200   train/loss: 0.1129   valid/loss: 1.247   train/acc: 1.0   valid/acc: 0.5849\n",
      "Epoch: 1400   train/loss: 0.0556   valid/loss: 1.3214   train/acc: 1.0   valid/acc: 0.5472\n",
      "Epoch: 1600   train/loss: 0.0879   valid/loss: 1.3329   train/acc: 1.0   valid/acc: 0.5472\n",
      "Epoch: 1800   train/loss: 0.062   valid/loss: 1.3478   train/acc: 1.0   valid/acc: 0.5472\n",
      "Epoch: 2000   train/loss: 0.0467   valid/loss: 1.3678   train/acc: 1.0   valid/acc: 0.5472\n",
      "Epoch: 2200   train/loss: 0.0948   valid/loss: 1.5041   train/acc: 1.0   valid/acc: 0.5472\n",
      "Epoch: 2400   train/loss: 0.0563   valid/loss: 1.4067   train/acc: 1.0   valid/acc: 0.5472\n",
      "Epoch: 2600   train/loss: 0.0662   valid/loss: 1.4247   train/acc: 1.0   valid/acc: 0.5472\n",
      "Epoch: 2800   train/loss: 0.0606   valid/loss: 1.4402   train/acc: 1.0   valid/acc: 0.5472\n",
      "Epoch: 3000   train/loss: 0.0677   valid/loss: 1.4555   train/acc: 1.0   valid/acc: 0.5472\n",
      "Epoch: 3200   train/loss: 0.0714   valid/loss: 1.4119   train/acc: 1.0   valid/acc: 0.5472\n",
      "Epoch: 3400   train/loss: 0.0546   valid/loss: 1.4552   train/acc: 1.0   valid/acc: 0.5472\n",
      "Epoch: 3600   train/loss: 0.0565   valid/loss: 1.4347   train/acc: 1.0   valid/acc: 0.5283\n",
      "Epoch: 3800   train/loss: 0.0467   valid/loss: 1.4197   train/acc: 1.0   valid/acc: 0.5283\n"
     ]
    },
    {
     "name": "stdout",
     "output_type": "stream",
     "text": [
      "Test accuracy: 0.7115385\n",
      "Progress:  0.042\n",
      "Number of training circuits: 14   Number of validation circuits: 70   Number of test circuits: 64   Number of parameters in model: 193\n"
     ]
    },
    {
     "name": "stderr",
     "output_type": "stream",
     "text": [
      "Epoch: 200   train/loss: 0.0817   valid/loss: 1.1085   train/acc: 1.0   valid/acc: 0.5714\n",
      "Epoch: 400   train/loss: 0.068   valid/loss: 1.165   train/acc: 1.0   valid/acc: 0.6\n",
      "Epoch: 600   train/loss: 0.0933   valid/loss: 1.2289   train/acc: 1.0   valid/acc: 0.6\n",
      "Epoch: 800   train/loss: 0.0628   valid/loss: 1.1715   train/acc: 1.0   valid/acc: 0.6143\n",
      "Epoch: 1000   train/loss: 0.0575   valid/loss: 1.1303   train/acc: 1.0   valid/acc: 0.6286\n",
      "Epoch: 1200   train/loss: 0.053   valid/loss: 1.1904   train/acc: 1.0   valid/acc: 0.6143\n",
      "Epoch: 1400   train/loss: 0.0829   valid/loss: 1.148   train/acc: 1.0   valid/acc: 0.6143\n",
      "Epoch: 1600   train/loss: 0.0546   valid/loss: 1.1724   train/acc: 1.0   valid/acc: 0.6\n",
      "Epoch: 1800   train/loss: 0.0932   valid/loss: 1.1872   train/acc: 1.0   valid/acc: 0.5857\n",
      "Epoch: 2000   train/loss: 0.0881   valid/loss: 1.1962   train/acc: 1.0   valid/acc: 0.5714\n",
      "Epoch: 2200   train/loss: 0.0602   valid/loss: 1.181   train/acc: 1.0   valid/acc: 0.5714\n",
      "Epoch: 2400   train/loss: 0.0576   valid/loss: 1.1453   train/acc: 1.0   valid/acc: 0.6143\n",
      "Epoch: 2600   train/loss: 0.0462   valid/loss: 1.1757   train/acc: 1.0   valid/acc: 0.6286\n",
      "Epoch: 2800   train/loss: 0.0483   valid/loss: 1.1397   train/acc: 1.0   valid/acc: 0.6286\n",
      "Epoch: 3000   train/loss: 0.0435   valid/loss: 1.1747   train/acc: 1.0   valid/acc: 0.6143\n",
      "Epoch: 3200   train/loss: 0.084   valid/loss: 1.1389   train/acc: 1.0   valid/acc: 0.6143\n",
      "Epoch: 3400   train/loss: 0.0937   valid/loss: 1.1451   train/acc: 1.0   valid/acc: 0.6286\n",
      "Epoch: 3600   train/loss: 0.0866   valid/loss: 1.1649   train/acc: 1.0   valid/acc: 0.6143\n",
      "Epoch: 3800   train/loss: 0.0502   valid/loss: 1.1586   train/acc: 1.0   valid/acc: 0.6143\n"
     ]
    },
    {
     "name": "stdout",
     "output_type": "stream",
     "text": [
      "Test accuracy: 0.75\n",
      "Progress:  0.045\n",
      "Number of training circuits: 15   Number of validation circuits: 70   Number of test circuits: 64   Number of parameters in model: 193\n"
     ]
    },
    {
     "name": "stderr",
     "output_type": "stream",
     "text": [
      "Epoch: 200   train/loss: 0.0747   valid/loss: 1.1078   train/acc: 1.0   valid/acc: 0.6\n",
      "Epoch: 400   train/loss: 0.1033   valid/loss: 1.1128   train/acc: 1.0   valid/acc: 0.6\n",
      "Epoch: 600   train/loss: 0.0578   valid/loss: 1.1168   train/acc: 1.0   valid/acc: 0.6\n",
      "Epoch: 800   train/loss: 0.1129   valid/loss: 1.1317   train/acc: 1.0   valid/acc: 0.6\n",
      "Epoch: 1000   train/loss: 0.0603   valid/loss: 1.1562   train/acc: 1.0   valid/acc: 0.6\n",
      "Epoch: 1200   train/loss: 0.0634   valid/loss: 1.1602   train/acc: 1.0   valid/acc: 0.6\n",
      "Epoch: 1400   train/loss: 0.0528   valid/loss: 1.1595   train/acc: 1.0   valid/acc: 0.6\n",
      "Epoch: 1600   train/loss: 0.0488   valid/loss: 1.1883   train/acc: 1.0   valid/acc: 0.6\n",
      "Epoch: 1800   train/loss: 0.0458   valid/loss: 1.0873   train/acc: 1.0   valid/acc: 0.6\n",
      "Epoch: 2000   train/loss: 0.043   valid/loss: 1.1441   train/acc: 1.0   valid/acc: 0.6\n",
      "Epoch: 2200   train/loss: 0.0505   valid/loss: 1.1257   train/acc: 1.0   valid/acc: 0.5857\n",
      "Epoch: 2400   train/loss: 0.048   valid/loss: 1.1985   train/acc: 1.0   valid/acc: 0.6\n",
      "Epoch: 2600   train/loss: 0.0657   valid/loss: 1.1691   train/acc: 1.0   valid/acc: 0.6\n",
      "Epoch: 2800   train/loss: 0.0563   valid/loss: 1.2243   train/acc: 1.0   valid/acc: 0.6\n",
      "Epoch: 3000   train/loss: 0.0889   valid/loss: 1.2085   train/acc: 1.0   valid/acc: 0.6\n",
      "Epoch: 3200   train/loss: 0.0457   valid/loss: 1.247   train/acc: 1.0   valid/acc: 0.6\n",
      "Epoch: 3400   train/loss: 0.0617   valid/loss: 1.213   train/acc: 1.0   valid/acc: 0.6\n",
      "Epoch: 3600   train/loss: 0.0443   valid/loss: 1.2136   train/acc: 1.0   valid/acc: 0.6\n",
      "Epoch: 3800   train/loss: 0.0493   valid/loss: 1.2072   train/acc: 1.0   valid/acc: 0.6\n",
      "Epoch: 4000   train/loss: 0.0592   valid/loss: 1.1833   train/acc: 1.0   valid/acc: 0.6\n"
     ]
    },
    {
     "name": "stdout",
     "output_type": "stream",
     "text": [
      "Test accuracy: 0.75\n",
      "Progress:  0.047\n",
      "Number of training circuits: 16   Number of validation circuits: 73   Number of test circuits: 67   Number of parameters in model: 196\n"
     ]
    },
    {
     "name": "stderr",
     "output_type": "stream",
     "text": [
      "Epoch: 200   train/loss: 0.1163   valid/loss: 1.0401   train/acc: 1.0   valid/acc: 0.5753\n",
      "Epoch: 400   train/loss: 0.0971   valid/loss: 1.1478   train/acc: 1.0   valid/acc: 0.5753\n",
      "Epoch: 600   train/loss: 0.0787   valid/loss: 1.0982   train/acc: 1.0   valid/acc: 0.5753\n",
      "Epoch: 800   train/loss: 0.0632   valid/loss: 1.1591   train/acc: 1.0   valid/acc: 0.5753\n",
      "Epoch: 1000   train/loss: 0.0624   valid/loss: 1.1392   train/acc: 1.0   valid/acc: 0.5753\n",
      "Epoch: 1200   train/loss: 0.0638   valid/loss: 1.1384   train/acc: 1.0   valid/acc: 0.5753\n",
      "Epoch: 1400   train/loss: 0.0638   valid/loss: 1.1701   train/acc: 1.0   valid/acc: 0.5753\n",
      "Epoch: 1600   train/loss: 0.0743   valid/loss: 1.18   train/acc: 1.0   valid/acc: 0.5753\n",
      "Epoch: 1800   train/loss: 0.0653   valid/loss: 1.2375   train/acc: 1.0   valid/acc: 0.5753\n",
      "Epoch: 2000   train/loss: 0.0616   valid/loss: 1.3206   train/acc: 1.0   valid/acc: 0.5753\n",
      "Epoch: 2200   train/loss: 0.0593   valid/loss: 1.4111   train/acc: 1.0   valid/acc: 0.5753\n",
      "Epoch: 2400   train/loss: 0.0607   valid/loss: 1.4057   train/acc: 1.0   valid/acc: 0.5753\n",
      "Epoch: 2600   train/loss: 0.101   valid/loss: 1.3919   train/acc: 1.0   valid/acc: 0.5753\n",
      "Epoch: 2800   train/loss: 0.0951   valid/loss: 1.4728   train/acc: 1.0   valid/acc: 0.5753\n",
      "Epoch: 3000   train/loss: 0.0608   valid/loss: 1.349   train/acc: 1.0   valid/acc: 0.5753\n",
      "Epoch: 3200   train/loss: 0.0925   valid/loss: 1.2888   train/acc: 1.0   valid/acc: 0.5753\n",
      "Epoch: 3400   train/loss: 0.0644   valid/loss: 1.3632   train/acc: 1.0   valid/acc: 0.5753\n",
      "Epoch: 3600   train/loss: 0.091   valid/loss: 1.4048   train/acc: 1.0   valid/acc: 0.5753\n",
      "Epoch: 3800   train/loss: 0.073   valid/loss: 1.3236   train/acc: 1.0   valid/acc: 0.5753\n",
      "Epoch: 4000   train/loss: 0.0614   valid/loss: 1.237   train/acc: 1.0   valid/acc: 0.5753\n"
     ]
    },
    {
     "name": "stdout",
     "output_type": "stream",
     "text": [
      "Test accuracy: 0.7462687\n",
      "Progress:  0.049\n",
      "Number of training circuits: 17   Number of validation circuits: 73   Number of test circuits: 67   Number of parameters in model: 196\n"
     ]
    },
    {
     "name": "stderr",
     "output_type": "stream",
     "text": [
      "Epoch: 200   train/loss: 0.1418   valid/loss: 1.1524   train/acc: 1.0   valid/acc: 0.5753\n",
      "Epoch: 400   train/loss: 0.084   valid/loss: 1.1863   train/acc: 1.0   valid/acc: 0.5753\n",
      "Epoch: 600   train/loss: 0.0692   valid/loss: 1.2175   train/acc: 1.0   valid/acc: 0.5753\n",
      "Epoch: 800   train/loss: 0.1129   valid/loss: 1.1941   train/acc: 1.0   valid/acc: 0.5753\n",
      "Epoch: 1000   train/loss: 0.088   valid/loss: 1.258   train/acc: 1.0   valid/acc: 0.5753\n",
      "Epoch: 1200   train/loss: 0.0986   valid/loss: 1.1836   train/acc: 1.0   valid/acc: 0.5753\n",
      "Epoch: 1400   train/loss: 0.0904   valid/loss: 1.2567   train/acc: 1.0   valid/acc: 0.5753\n",
      "Epoch: 1600   train/loss: 0.0831   valid/loss: 1.2555   train/acc: 1.0   valid/acc: 0.5753\n",
      "Epoch: 1800   train/loss: 0.0924   valid/loss: 1.2562   train/acc: 1.0   valid/acc: 0.5753\n",
      "Epoch: 2000   train/loss: 0.0579   valid/loss: 1.3647   train/acc: 1.0   valid/acc: 0.5753\n",
      "Epoch: 2200   train/loss: 0.0884   valid/loss: 1.3765   train/acc: 1.0   valid/acc: 0.5753\n",
      "Epoch: 2400   train/loss: 0.0634   valid/loss: 1.342   train/acc: 1.0   valid/acc: 0.5753\n",
      "Epoch: 2600   train/loss: 0.0498   valid/loss: 1.3418   train/acc: 1.0   valid/acc: 0.5753\n",
      "Epoch: 2800   train/loss: 0.0614   valid/loss: 1.3482   train/acc: 1.0   valid/acc: 0.5753\n",
      "Epoch: 3000   train/loss: 0.067   valid/loss: 1.3548   train/acc: 1.0   valid/acc: 0.5753\n",
      "Epoch: 3200   train/loss: 0.0564   valid/loss: 1.3827   train/acc: 1.0   valid/acc: 0.5753\n",
      "Epoch: 3400   train/loss: 0.065   valid/loss: 1.3765   train/acc: 1.0   valid/acc: 0.5753\n",
      "Epoch: 3600   train/loss: 0.0562   valid/loss: 1.4092   train/acc: 1.0   valid/acc: 0.5753\n",
      "Epoch: 3800   train/loss: 0.0797   valid/loss: 1.4532   train/acc: 1.0   valid/acc: 0.5753\n",
      "Epoch: 4000   train/loss: 0.0576   valid/loss: 1.4185   train/acc: 1.0   valid/acc: 0.5753\n",
      "Epoch: 4200   train/loss: 0.0897   valid/loss: 1.4258   train/acc: 1.0   valid/acc: 0.5753\n"
     ]
    },
    {
     "name": "stdout",
     "output_type": "stream",
     "text": [
      "Test accuracy: 0.7462687\n",
      "Progress:  0.051\n",
      "Number of training circuits: 18   Number of validation circuits: 85   Number of test circuits: 74   Number of parameters in model: 199\n"
     ]
    },
    {
     "name": "stderr",
     "output_type": "stream",
     "text": [
      "Epoch: 200   train/loss: 0.0934   valid/loss: 1.2644   train/acc: 1.0   valid/acc: 0.6\n",
      "Epoch: 400   train/loss: 0.0929   valid/loss: 1.1772   train/acc: 1.0   valid/acc: 0.6\n",
      "Epoch: 600   train/loss: 0.0987   valid/loss: 1.1984   train/acc: 1.0   valid/acc: 0.6\n",
      "Epoch: 800   train/loss: 0.1166   valid/loss: 1.1956   train/acc: 1.0   valid/acc: 0.6\n",
      "Epoch: 1000   train/loss: 0.1094   valid/loss: 1.238   train/acc: 1.0   valid/acc: 0.6\n",
      "Epoch: 1200   train/loss: 0.0969   valid/loss: 1.2148   train/acc: 1.0   valid/acc: 0.6\n",
      "Epoch: 1400   train/loss: 0.1269   valid/loss: 1.2344   train/acc: 1.0   valid/acc: 0.6\n",
      "Epoch: 1600   train/loss: 0.0777   valid/loss: 1.2452   train/acc: 1.0   valid/acc: 0.6\n",
      "Epoch: 1800   train/loss: 0.0709   valid/loss: 1.2004   train/acc: 1.0   valid/acc: 0.6\n",
      "Epoch: 2000   train/loss: 0.0615   valid/loss: 1.259   train/acc: 1.0   valid/acc: 0.6\n",
      "Epoch: 2200   train/loss: 0.0788   valid/loss: 1.1806   train/acc: 1.0   valid/acc: 0.6\n",
      "Epoch: 2400   train/loss: 0.0688   valid/loss: 1.1912   train/acc: 1.0   valid/acc: 0.6\n",
      "Epoch: 2600   train/loss: 0.0624   valid/loss: 1.2439   train/acc: 1.0   valid/acc: 0.6\n",
      "Epoch: 2800   train/loss: 0.0707   valid/loss: 1.2155   train/acc: 1.0   valid/acc: 0.6\n",
      "Epoch: 3000   train/loss: 0.0976   valid/loss: 1.1766   train/acc: 1.0   valid/acc: 0.6\n",
      "Epoch: 3200   train/loss: 0.0791   valid/loss: 1.2119   train/acc: 1.0   valid/acc: 0.6\n",
      "Epoch: 3400   train/loss: 0.0618   valid/loss: 1.2095   train/acc: 1.0   valid/acc: 0.6\n",
      "Epoch: 3600   train/loss: 0.0882   valid/loss: 1.2078   train/acc: 1.0   valid/acc: 0.6\n",
      "Epoch: 3800   train/loss: 0.0884   valid/loss: 1.2397   train/acc: 1.0   valid/acc: 0.6\n",
      "Epoch: 4000   train/loss: 0.0797   valid/loss: 1.2171   train/acc: 1.0   valid/acc: 0.6\n",
      "Epoch: 4200   train/loss: 0.0696   valid/loss: 1.2249   train/acc: 1.0   valid/acc: 0.6\n"
     ]
    },
    {
     "name": "stdout",
     "output_type": "stream",
     "text": [
      "Test accuracy: 0.7297297\n",
      "Progress:  0.054\n",
      "Number of training circuits: 19   Number of validation circuits: 87   Number of test circuits: 78   Number of parameters in model: 205\n"
     ]
    },
    {
     "name": "stderr",
     "output_type": "stream",
     "text": [
      "Epoch: 200   train/loss: 0.0907   valid/loss: 1.1974   train/acc: 1.0   valid/acc: 0.6092\n",
      "Epoch: 400   train/loss: 0.0943   valid/loss: 1.0744   train/acc: 1.0   valid/acc: 0.6092\n",
      "Epoch: 600   train/loss: 0.0785   valid/loss: 1.1147   train/acc: 1.0   valid/acc: 0.6092\n",
      "Epoch: 800   train/loss: 0.0985   valid/loss: 1.1514   train/acc: 1.0   valid/acc: 0.6092\n",
      "Epoch: 1000   train/loss: 0.0758   valid/loss: 1.1878   train/acc: 1.0   valid/acc: 0.6092\n",
      "Epoch: 1200   train/loss: 0.0856   valid/loss: 1.1361   train/acc: 1.0   valid/acc: 0.6092\n",
      "Epoch: 1400   train/loss: 0.1077   valid/loss: 1.1332   train/acc: 1.0   valid/acc: 0.6092\n",
      "Epoch: 1600   train/loss: 0.0672   valid/loss: 1.1605   train/acc: 1.0   valid/acc: 0.6092\n",
      "Epoch: 1800   train/loss: 0.1068   valid/loss: 1.1184   train/acc: 0.9474   valid/acc: 0.6092\n",
      "Epoch: 2000   train/loss: 0.1017   valid/loss: 1.1455   train/acc: 1.0   valid/acc: 0.6092\n",
      "Epoch: 2200   train/loss: 0.0755   valid/loss: 1.1541   train/acc: 1.0   valid/acc: 0.6092\n",
      "Epoch: 2400   train/loss: 0.0891   valid/loss: 1.1873   train/acc: 1.0   valid/acc: 0.6092\n",
      "Epoch: 2600   train/loss: 0.0592   valid/loss: 1.1656   train/acc: 1.0   valid/acc: 0.6092\n",
      "Epoch: 2800   train/loss: 0.0981   valid/loss: 1.1898   train/acc: 1.0   valid/acc: 0.6092\n",
      "Epoch: 3000   train/loss: 0.0798   valid/loss: 1.1691   train/acc: 1.0   valid/acc: 0.6092\n",
      "Epoch: 3200   train/loss: 0.0745   valid/loss: 1.1241   train/acc: 1.0   valid/acc: 0.6092\n",
      "Epoch: 3400   train/loss: 0.0596   valid/loss: 1.1831   train/acc: 1.0   valid/acc: 0.6092\n",
      "Epoch: 3600   train/loss: 0.0615   valid/loss: 1.1672   train/acc: 1.0   valid/acc: 0.6092\n",
      "Epoch: 3800   train/loss: 0.07   valid/loss: 1.1741   train/acc: 1.0   valid/acc: 0.6092\n",
      "Epoch: 4000   train/loss: 0.0873   valid/loss: 1.1561   train/acc: 1.0   valid/acc: 0.6092\n",
      "Epoch: 4200   train/loss: 0.0873   valid/loss: 1.2128   train/acc: 1.0   valid/acc: 0.5977\n",
      "Epoch: 4400   train/loss: 0.0546   valid/loss: 1.1986   train/acc: 1.0   valid/acc: 0.5977\n"
     ]
    },
    {
     "name": "stdout",
     "output_type": "stream",
     "text": [
      "Test accuracy: 0.74358976\n",
      "Progress:  0.056\n",
      "Number of training circuits: 20   Number of validation circuits: 87   Number of test circuits: 81   Number of parameters in model: 208\n"
     ]
    },
    {
     "name": "stderr",
     "output_type": "stream",
     "text": [
      "Epoch: 200   train/loss: 0.161   valid/loss: 0.9896   train/acc: 0.95   valid/acc: 0.6207\n",
      "Epoch: 400   train/loss: 0.161   valid/loss: 1.0686   train/acc: 0.95   valid/acc: 0.6322\n",
      "Epoch: 600   train/loss: 0.177   valid/loss: 1.0341   train/acc: 0.9   valid/acc: 0.6207\n",
      "Epoch: 800   train/loss: 0.1167   valid/loss: 1.0938   train/acc: 0.95   valid/acc: 0.6207\n",
      "Epoch: 1000   train/loss: 0.1146   valid/loss: 1.0675   train/acc: 0.95   valid/acc: 0.6207\n",
      "Epoch: 1200   train/loss: 0.1044   valid/loss: 1.0859   train/acc: 0.95   valid/acc: 0.6207\n",
      "Epoch: 1400   train/loss: 0.1265   valid/loss: 1.0711   train/acc: 0.95   valid/acc: 0.6207\n",
      "Epoch: 1600   train/loss: 0.0979   valid/loss: 1.1095   train/acc: 0.95   valid/acc: 0.6207\n",
      "Epoch: 1800   train/loss: 0.1342   valid/loss: 1.1271   train/acc: 1.0   valid/acc: 0.6092\n",
      "Epoch: 2000   train/loss: 0.134   valid/loss: 1.1399   train/acc: 0.95   valid/acc: 0.6207\n",
      "Epoch: 2200   train/loss: 0.1003   valid/loss: 1.1035   train/acc: 0.95   valid/acc: 0.6207\n",
      "Epoch: 2400   train/loss: 0.126   valid/loss: 1.0823   train/acc: 1.0   valid/acc: 0.6207\n",
      "Epoch: 2600   train/loss: 0.1013   valid/loss: 1.1324   train/acc: 1.0   valid/acc: 0.6322\n",
      "Epoch: 2800   train/loss: 0.0928   valid/loss: 1.1518   train/acc: 1.0   valid/acc: 0.6207\n",
      "Epoch: 3000   train/loss: 0.1363   valid/loss: 1.1052   train/acc: 0.95   valid/acc: 0.6322\n",
      "Epoch: 3200   train/loss: 0.1098   valid/loss: 1.1056   train/acc: 1.0   valid/acc: 0.6322\n",
      "Epoch: 3400   train/loss: 0.0859   valid/loss: 1.0793   train/acc: 1.0   valid/acc: 0.6322\n",
      "Epoch: 3600   train/loss: 0.0719   valid/loss: 1.1195   train/acc: 1.0   valid/acc: 0.6322\n",
      "Epoch: 3800   train/loss: 0.0885   valid/loss: 1.1209   train/acc: 1.0   valid/acc: 0.6322\n",
      "Epoch: 4000   train/loss: 0.0834   valid/loss: 1.1414   train/acc: 1.0   valid/acc: 0.6322\n",
      "Epoch: 4200   train/loss: 0.0963   valid/loss: 1.0964   train/acc: 1.0   valid/acc: 0.6322\n",
      "Epoch: 4400   train/loss: 0.0762   valid/loss: 1.1299   train/acc: 1.0   valid/acc: 0.6322\n"
     ]
    },
    {
     "name": "stdout",
     "output_type": "stream",
     "text": [
      "Test accuracy: 0.7654321\n",
      "Progress:  0.058\n",
      "Number of training circuits: 21   Number of validation circuits: 87   Number of test circuits: 84   Number of parameters in model: 211\n"
     ]
    },
    {
     "name": "stderr",
     "output_type": "stream",
     "text": [
      "Epoch: 200   train/loss: 0.1449   valid/loss: 1.024   train/acc: 0.9048   valid/acc: 0.6322\n",
      "Epoch: 400   train/loss: 0.1382   valid/loss: 1.0402   train/acc: 1.0   valid/acc: 0.6092\n",
      "Epoch: 600   train/loss: 0.1293   valid/loss: 1.0581   train/acc: 1.0   valid/acc: 0.6207\n",
      "Epoch: 800   train/loss: 0.1009   valid/loss: 1.085   train/acc: 1.0   valid/acc: 0.6207\n",
      "Epoch: 1000   train/loss: 0.1308   valid/loss: 1.1073   train/acc: 1.0   valid/acc: 0.6207\n",
      "Epoch: 1200   train/loss: 0.1101   valid/loss: 1.0771   train/acc: 1.0   valid/acc: 0.6207\n",
      "Epoch: 1400   train/loss: 0.086   valid/loss: 1.0798   train/acc: 1.0   valid/acc: 0.6207\n",
      "Epoch: 1600   train/loss: 0.0808   valid/loss: 1.1445   train/acc: 1.0   valid/acc: 0.6322\n",
      "Epoch: 1800   train/loss: 0.1229   valid/loss: 1.1839   train/acc: 1.0   valid/acc: 0.6322\n",
      "Epoch: 2000   train/loss: 0.0921   valid/loss: 1.141   train/acc: 1.0   valid/acc: 0.6322\n",
      "Epoch: 2200   train/loss: 0.1074   valid/loss: 1.1295   train/acc: 1.0   valid/acc: 0.6322\n",
      "Epoch: 2400   train/loss: 0.1044   valid/loss: 1.16   train/acc: 1.0   valid/acc: 0.6322\n",
      "Epoch: 2600   train/loss: 0.1396   valid/loss: 1.1378   train/acc: 1.0   valid/acc: 0.6322\n",
      "Epoch: 2800   train/loss: 0.1164   valid/loss: 1.1386   train/acc: 1.0   valid/acc: 0.6322\n",
      "Epoch: 3000   train/loss: 0.0822   valid/loss: 1.1482   train/acc: 1.0   valid/acc: 0.6322\n",
      "Epoch: 3200   train/loss: 0.0829   valid/loss: 1.1412   train/acc: 1.0   valid/acc: 0.6322\n",
      "Epoch: 3400   train/loss: 0.0874   valid/loss: 1.1638   train/acc: 1.0   valid/acc: 0.6322\n",
      "Epoch: 3600   train/loss: 0.0945   valid/loss: 1.1534   train/acc: 1.0   valid/acc: 0.6322\n",
      "Epoch: 3800   train/loss: 0.0799   valid/loss: 1.1795   train/acc: 1.0   valid/acc: 0.6322\n",
      "Epoch: 4000   train/loss: 0.0842   valid/loss: 1.1293   train/acc: 1.0   valid/acc: 0.6322\n",
      "Epoch: 4200   train/loss: 0.0842   valid/loss: 1.1778   train/acc: 1.0   valid/acc: 0.6322\n",
      "Epoch: 4400   train/loss: 0.0694   valid/loss: 1.1423   train/acc: 1.0   valid/acc: 0.6322\n",
      "Epoch: 4600   train/loss: 0.0634   valid/loss: 1.2368   train/acc: 1.0   valid/acc: 0.6322\n"
     ]
    },
    {
     "name": "stdout",
     "output_type": "stream",
     "text": [
      "Test accuracy: 0.75\n",
      "Progress:  0.06\n",
      "Number of training circuits: 22   Number of validation circuits: 87   Number of test circuits: 84   Number of parameters in model: 211\n"
     ]
    },
    {
     "name": "stderr",
     "output_type": "stream",
     "text": [
      "Epoch: 200   train/loss: 0.1757   valid/loss: 0.872   train/acc: 0.9545   valid/acc: 0.5977\n",
      "Epoch: 400   train/loss: 0.1471   valid/loss: 0.9247   train/acc: 0.9545   valid/acc: 0.5977\n",
      "Epoch: 600   train/loss: 0.1799   valid/loss: 0.9217   train/acc: 0.9545   valid/acc: 0.6092\n",
      "Epoch: 800   train/loss: 0.1492   valid/loss: 0.9487   train/acc: 0.9545   valid/acc: 0.6207\n",
      "Epoch: 1000   train/loss: 0.1619   valid/loss: 0.9501   train/acc: 0.9545   valid/acc: 0.6092\n",
      "Epoch: 1200   train/loss: 0.163   valid/loss: 0.9956   train/acc: 0.9545   valid/acc: 0.6092\n",
      "Epoch: 1400   train/loss: 0.1579   valid/loss: 0.9758   train/acc: 0.9545   valid/acc: 0.6092\n",
      "Epoch: 1600   train/loss: 0.1465   valid/loss: 0.9695   train/acc: 0.9545   valid/acc: 0.6092\n",
      "Epoch: 1800   train/loss: 0.1407   valid/loss: 0.9828   train/acc: 0.9545   valid/acc: 0.6092\n",
      "Epoch: 2000   train/loss: 0.1307   valid/loss: 0.9941   train/acc: 0.9545   valid/acc: 0.6092\n",
      "Epoch: 2200   train/loss: 0.1159   valid/loss: 0.9676   train/acc: 0.9545   valid/acc: 0.6092\n",
      "Epoch: 2400   train/loss: 0.1214   valid/loss: 0.9853   train/acc: 0.9545   valid/acc: 0.6092\n",
      "Epoch: 2600   train/loss: 0.1091   valid/loss: 0.9783   train/acc: 0.9545   valid/acc: 0.6092\n",
      "Epoch: 2800   train/loss: 0.124   valid/loss: 0.994   train/acc: 0.9545   valid/acc: 0.6092\n",
      "Epoch: 3000   train/loss: 0.1407   valid/loss: 0.958   train/acc: 0.9545   valid/acc: 0.6092\n",
      "Epoch: 3200   train/loss: 0.0999   valid/loss: 0.9977   train/acc: 0.9545   valid/acc: 0.5977\n",
      "Epoch: 3400   train/loss: 0.1041   valid/loss: 0.9994   train/acc: 0.9545   valid/acc: 0.5977\n",
      "Epoch: 3600   train/loss: 0.1298   valid/loss: 1.0309   train/acc: 0.9545   valid/acc: 0.5977\n",
      "Epoch: 3800   train/loss: 0.1168   valid/loss: 1.0136   train/acc: 0.9545   valid/acc: 0.5862\n",
      "Epoch: 4000   train/loss: 0.0996   valid/loss: 0.9996   train/acc: 0.9545   valid/acc: 0.5862\n",
      "Epoch: 4200   train/loss: 0.0855   valid/loss: 1.0232   train/acc: 0.9545   valid/acc: 0.5977\n",
      "Epoch: 4400   train/loss: 0.0974   valid/loss: 1.0252   train/acc: 0.9545   valid/acc: 0.6092\n",
      "Epoch: 4600   train/loss: 0.1185   valid/loss: 1.0146   train/acc: 0.9545   valid/acc: 0.6092\n"
     ]
    },
    {
     "name": "stdout",
     "output_type": "stream",
     "text": [
      "Test accuracy: 0.71428573\n",
      "Progress:  0.062\n",
      "Number of training circuits: 23   Number of validation circuits: 87   Number of test circuits: 84   Number of parameters in model: 211\n"
     ]
    },
    {
     "name": "stderr",
     "output_type": "stream",
     "text": [
      "Epoch: 200   train/loss: 0.1634   valid/loss: 0.8748   train/acc: 0.9565   valid/acc: 0.5977\n",
      "Epoch: 400   train/loss: 0.1485   valid/loss: 0.8987   train/acc: 1.0   valid/acc: 0.6092\n",
      "Epoch: 600   train/loss: 0.1807   valid/loss: 0.8498   train/acc: 0.9565   valid/acc: 0.6092\n",
      "Epoch: 800   train/loss: 0.1325   valid/loss: 0.8844   train/acc: 1.0   valid/acc: 0.6092\n",
      "Epoch: 1000   train/loss: 0.1349   valid/loss: 0.8821   train/acc: 1.0   valid/acc: 0.6092\n",
      "Epoch: 1200   train/loss: 0.1349   valid/loss: 0.8859   train/acc: 1.0   valid/acc: 0.6092\n",
      "Epoch: 1400   train/loss: 0.1223   valid/loss: 0.8768   train/acc: 1.0   valid/acc: 0.6092\n",
      "Epoch: 1600   train/loss: 0.1262   valid/loss: 0.8774   train/acc: 1.0   valid/acc: 0.6207\n",
      "Epoch: 1800   train/loss: 0.1351   valid/loss: 0.8718   train/acc: 1.0   valid/acc: 0.6207\n",
      "Epoch: 2000   train/loss: 0.1007   valid/loss: 0.9061   train/acc: 1.0   valid/acc: 0.6092\n",
      "Epoch: 2200   train/loss: 0.1223   valid/loss: 0.8947   train/acc: 1.0   valid/acc: 0.6207\n",
      "Epoch: 2400   train/loss: 0.1464   valid/loss: 0.8914   train/acc: 1.0   valid/acc: 0.6207\n",
      "Epoch: 2600   train/loss: 0.1396   valid/loss: 0.8768   train/acc: 1.0   valid/acc: 0.6207\n",
      "Epoch: 2800   train/loss: 0.1493   valid/loss: 0.8778   train/acc: 0.9565   valid/acc: 0.6207\n",
      "Epoch: 3000   train/loss: 0.1012   valid/loss: 0.8862   train/acc: 1.0   valid/acc: 0.6207\n",
      "Epoch: 3200   train/loss: 0.1247   valid/loss: 0.8992   train/acc: 1.0   valid/acc: 0.6207\n",
      "Epoch: 3400   train/loss: 0.1235   valid/loss: 0.8797   train/acc: 1.0   valid/acc: 0.6207\n",
      "Epoch: 3600   train/loss: 0.1184   valid/loss: 0.885   train/acc: 1.0   valid/acc: 0.6207\n",
      "Epoch: 3800   train/loss: 0.1114   valid/loss: 0.8929   train/acc: 1.0   valid/acc: 0.6207\n",
      "Epoch: 4000   train/loss: 0.1179   valid/loss: 0.8901   train/acc: 1.0   valid/acc: 0.6207\n",
      "Epoch: 4200   train/loss: 0.1326   valid/loss: 0.8888   train/acc: 1.0   valid/acc: 0.6207\n",
      "Epoch: 4400   train/loss: 0.1188   valid/loss: 0.8993   train/acc: 1.0   valid/acc: 0.6207\n",
      "Epoch: 4600   train/loss: 0.0937   valid/loss: 0.8959   train/acc: 1.0   valid/acc: 0.6207\n",
      "Epoch: 4800   train/loss: 0.1127   valid/loss: 0.8963   train/acc: 1.0   valid/acc: 0.6207\n"
     ]
    },
    {
     "name": "stdout",
     "output_type": "stream",
     "text": [
      "Test accuracy: 0.6904762\n",
      "Progress:  0.065\n",
      "Number of training circuits: 24   Number of validation circuits: 87   Number of test circuits: 84   Number of parameters in model: 211\n"
     ]
    },
    {
     "name": "stderr",
     "output_type": "stream",
     "text": [
      "Epoch: 200   train/loss: 0.1435   valid/loss: 0.7738   train/acc: 1.0   valid/acc: 0.5977\n",
      "Epoch: 400   train/loss: 0.1619   valid/loss: 0.7684   train/acc: 1.0   valid/acc: 0.6092\n",
      "Epoch: 600   train/loss: 0.1168   valid/loss: 0.7838   train/acc: 1.0   valid/acc: 0.6092\n",
      "Epoch: 800   train/loss: 0.1525   valid/loss: 0.7849   train/acc: 1.0   valid/acc: 0.6207\n",
      "Epoch: 1000   train/loss: 0.1207   valid/loss: 0.79   train/acc: 0.9583   valid/acc: 0.6322\n",
      "Epoch: 1200   train/loss: 0.1595   valid/loss: 0.801   train/acc: 1.0   valid/acc: 0.6322\n",
      "Epoch: 1400   train/loss: 0.1189   valid/loss: 0.7998   train/acc: 1.0   valid/acc: 0.6207\n",
      "Epoch: 1600   train/loss: 0.1347   valid/loss: 0.8435   train/acc: 1.0   valid/acc: 0.6207\n",
      "Epoch: 1800   train/loss: 0.1532   valid/loss: 0.8199   train/acc: 0.9583   valid/acc: 0.6207\n",
      "Epoch: 2000   train/loss: 0.1362   valid/loss: 0.8154   train/acc: 1.0   valid/acc: 0.6207\n",
      "Epoch: 2200   train/loss: 0.1177   valid/loss: 0.832   train/acc: 1.0   valid/acc: 0.6207\n",
      "Epoch: 2400   train/loss: 0.1028   valid/loss: 0.8197   train/acc: 1.0   valid/acc: 0.6207\n",
      "Epoch: 2600   train/loss: 0.1159   valid/loss: 0.8148   train/acc: 1.0   valid/acc: 0.6207\n",
      "Epoch: 2800   train/loss: 0.132   valid/loss: 0.8186   train/acc: 1.0   valid/acc: 0.6207\n",
      "Epoch: 3000   train/loss: 0.1186   valid/loss: 0.8246   train/acc: 1.0   valid/acc: 0.6207\n",
      "Epoch: 3200   train/loss: 0.1185   valid/loss: 0.8244   train/acc: 1.0   valid/acc: 0.6207\n",
      "Epoch: 3400   train/loss: 0.124   valid/loss: 0.8273   train/acc: 1.0   valid/acc: 0.6207\n",
      "Epoch: 3600   train/loss: 0.1106   valid/loss: 0.8516   train/acc: 1.0   valid/acc: 0.6207\n",
      "Epoch: 3800   train/loss: 0.105   valid/loss: 0.866   train/acc: 1.0   valid/acc: 0.6207\n",
      "Epoch: 4000   train/loss: 0.1004   valid/loss: 0.8387   train/acc: 1.0   valid/acc: 0.6207\n",
      "Epoch: 4200   train/loss: 0.128   valid/loss: 0.8204   train/acc: 1.0   valid/acc: 0.6207\n",
      "Epoch: 4400   train/loss: 0.1438   valid/loss: 0.8322   train/acc: 1.0   valid/acc: 0.6207\n",
      "Epoch: 4600   train/loss: 0.1078   valid/loss: 0.8423   train/acc: 1.0   valid/acc: 0.6207\n",
      "Epoch: 4800   train/loss: 0.1149   valid/loss: 0.8454   train/acc: 1.0   valid/acc: 0.6092\n"
     ]
    },
    {
     "name": "stdout",
     "output_type": "stream",
     "text": [
      "Test accuracy: 0.7261905\n",
      "Progress:  0.067\n",
      "Number of training circuits: 25   Number of validation circuits: 87   Number of test circuits: 84   Number of parameters in model: 211\n"
     ]
    },
    {
     "name": "stderr",
     "output_type": "stream",
     "text": [
      "Epoch: 200   train/loss: 0.1297   valid/loss: 0.804   train/acc: 1.0   valid/acc: 0.5862\n",
      "Epoch: 400   train/loss: 0.1013   valid/loss: 0.833   train/acc: 1.0   valid/acc: 0.5977\n",
      "Epoch: 600   train/loss: 0.0944   valid/loss: 0.8127   train/acc: 1.0   valid/acc: 0.5977\n",
      "Epoch: 800   train/loss: 0.1289   valid/loss: 0.8126   train/acc: 0.96   valid/acc: 0.5977\n",
      "Epoch: 1000   train/loss: 0.1451   valid/loss: 0.8086   train/acc: 1.0   valid/acc: 0.5977\n",
      "Epoch: 1200   train/loss: 0.1083   valid/loss: 0.8527   train/acc: 1.0   valid/acc: 0.5977\n",
      "Epoch: 1400   train/loss: 0.1411   valid/loss: 0.8217   train/acc: 1.0   valid/acc: 0.6092\n",
      "Epoch: 1600   train/loss: 0.1463   valid/loss: 0.8222   train/acc: 1.0   valid/acc: 0.6092\n",
      "Epoch: 1800   train/loss: 0.115   valid/loss: 0.8385   train/acc: 1.0   valid/acc: 0.5977\n",
      "Epoch: 2000   train/loss: 0.1051   valid/loss: 0.8438   train/acc: 1.0   valid/acc: 0.6092\n",
      "Epoch: 2200   train/loss: 0.0951   valid/loss: 0.8571   train/acc: 1.0   valid/acc: 0.5977\n",
      "Epoch: 2400   train/loss: 0.1108   valid/loss: 0.8799   train/acc: 1.0   valid/acc: 0.5977\n",
      "Epoch: 2600   train/loss: 0.1067   valid/loss: 0.9176   train/acc: 1.0   valid/acc: 0.5977\n",
      "Epoch: 2800   train/loss: 0.1271   valid/loss: 0.8803   train/acc: 1.0   valid/acc: 0.6092\n",
      "Epoch: 3000   train/loss: 0.109   valid/loss: 0.8865   train/acc: 0.96   valid/acc: 0.6092\n",
      "Epoch: 3200   train/loss: 0.1008   valid/loss: 0.877   train/acc: 1.0   valid/acc: 0.6092\n",
      "Epoch: 3400   train/loss: 0.1301   valid/loss: 0.8784   train/acc: 1.0   valid/acc: 0.6092\n",
      "Epoch: 3600   train/loss: 0.1116   valid/loss: 0.9044   train/acc: 1.0   valid/acc: 0.6092\n",
      "Epoch: 3800   train/loss: 0.1007   valid/loss: 0.879   train/acc: 1.0   valid/acc: 0.6092\n",
      "Epoch: 4000   train/loss: 0.1044   valid/loss: 0.8759   train/acc: 1.0   valid/acc: 0.6092\n",
      "Epoch: 4200   train/loss: 0.1153   valid/loss: 0.8904   train/acc: 1.0   valid/acc: 0.5977\n",
      "Epoch: 4400   train/loss: 0.1037   valid/loss: 0.8985   train/acc: 1.0   valid/acc: 0.5977\n",
      "Epoch: 4600   train/loss: 0.0993   valid/loss: 0.8562   train/acc: 1.0   valid/acc: 0.5977\n",
      "Epoch: 4800   train/loss: 0.0893   valid/loss: 0.868   train/acc: 1.0   valid/acc: 0.6092\n",
      "Epoch: 5000   train/loss: 0.0998   valid/loss: 0.8793   train/acc: 1.0   valid/acc: 0.6092\n"
     ]
    },
    {
     "name": "stdout",
     "output_type": "stream",
     "text": [
      "Test accuracy: 0.7380952\n",
      "Progress:  0.069\n",
      "Number of training circuits: 26   Number of validation circuits: 90   Number of test circuits: 89   Number of parameters in model: 214\n"
     ]
    },
    {
     "name": "stderr",
     "output_type": "stream",
     "text": [
      "Epoch: 200   train/loss: 0.1676   valid/loss: 0.9004   train/acc: 1.0   valid/acc: 0.5778\n",
      "Epoch: 400   train/loss: 0.1441   valid/loss: 0.8917   train/acc: 1.0   valid/acc: 0.5778\n",
      "Epoch: 600   train/loss: 0.0942   valid/loss: 0.8931   train/acc: 1.0   valid/acc: 0.5778\n",
      "Epoch: 800   train/loss: 0.1135   valid/loss: 0.9475   train/acc: 1.0   valid/acc: 0.5778\n",
      "Epoch: 1000   train/loss: 0.1021   valid/loss: 0.9786   train/acc: 1.0   valid/acc: 0.5667\n",
      "Epoch: 1200   train/loss: 0.1   valid/loss: 0.9971   train/acc: 1.0   valid/acc: 0.5667\n",
      "Epoch: 1400   train/loss: 0.1191   valid/loss: 0.929   train/acc: 1.0   valid/acc: 0.5667\n",
      "Epoch: 1600   train/loss: 0.0938   valid/loss: 0.9612   train/acc: 1.0   valid/acc: 0.5667\n",
      "Epoch: 1800   train/loss: 0.1018   valid/loss: 0.9476   train/acc: 1.0   valid/acc: 0.5667\n",
      "Epoch: 2000   train/loss: 0.0894   valid/loss: 0.954   train/acc: 1.0   valid/acc: 0.5667\n",
      "Epoch: 2200   train/loss: 0.1166   valid/loss: 0.9753   train/acc: 1.0   valid/acc: 0.5667\n",
      "Epoch: 2400   train/loss: 0.1296   valid/loss: 0.97   train/acc: 1.0   valid/acc: 0.5667\n",
      "Epoch: 2600   train/loss: 0.1427   valid/loss: 0.961   train/acc: 1.0   valid/acc: 0.5667\n",
      "Epoch: 2800   train/loss: 0.0985   valid/loss: 0.9616   train/acc: 1.0   valid/acc: 0.5667\n",
      "Epoch: 3000   train/loss: 0.1371   valid/loss: 0.9815   train/acc: 1.0   valid/acc: 0.5667\n",
      "Epoch: 3200   train/loss: 0.1162   valid/loss: 0.9688   train/acc: 1.0   valid/acc: 0.5667\n",
      "Epoch: 3400   train/loss: 0.0974   valid/loss: 0.9627   train/acc: 1.0   valid/acc: 0.5667\n",
      "Epoch: 3600   train/loss: 0.1485   valid/loss: 0.9822   train/acc: 1.0   valid/acc: 0.5667\n",
      "Epoch: 3800   train/loss: 0.1194   valid/loss: 0.9652   train/acc: 1.0   valid/acc: 0.5667\n",
      "Epoch: 4000   train/loss: 0.1054   valid/loss: 0.9728   train/acc: 1.0   valid/acc: 0.5667\n",
      "Epoch: 4200   train/loss: 0.0895   valid/loss: 0.9878   train/acc: 1.0   valid/acc: 0.5667\n",
      "Epoch: 4400   train/loss: 0.1254   valid/loss: 1.0005   train/acc: 1.0   valid/acc: 0.5667\n",
      "Epoch: 4600   train/loss: 0.0848   valid/loss: 0.9882   train/acc: 1.0   valid/acc: 0.5667\n",
      "Epoch: 4800   train/loss: 0.0816   valid/loss: 0.9818   train/acc: 1.0   valid/acc: 0.5667\n",
      "Epoch: 5000   train/loss: 0.1161   valid/loss: 0.9725   train/acc: 1.0   valid/acc: 0.5667\n"
     ]
    },
    {
     "name": "stdout",
     "output_type": "stream",
     "text": [
      "Test accuracy: 0.7078652\n",
      "Progress:  0.071\n",
      "Number of training circuits: 27   Number of validation circuits: 93   Number of test circuits: 90   Number of parameters in model: 217\n"
     ]
    },
    {
     "name": "stderr",
     "output_type": "stream",
     "text": [
      "Epoch: 200   train/loss: 0.1208   valid/loss: 0.914   train/acc: 1.0   valid/acc: 0.6129\n",
      "Epoch: 400   train/loss: 0.1201   valid/loss: 0.8513   train/acc: 1.0   valid/acc: 0.6129\n",
      "Epoch: 600   train/loss: 0.1184   valid/loss: 0.8908   train/acc: 1.0   valid/acc: 0.6022\n",
      "Epoch: 800   train/loss: 0.1226   valid/loss: 0.9114   train/acc: 1.0   valid/acc: 0.6022\n",
      "Epoch: 1000   train/loss: 0.0969   valid/loss: 0.9114   train/acc: 1.0   valid/acc: 0.5914\n",
      "Epoch: 1200   train/loss: 0.1173   valid/loss: 0.9226   train/acc: 1.0   valid/acc: 0.5914\n",
      "Epoch: 1400   train/loss: 0.1224   valid/loss: 0.9096   train/acc: 1.0   valid/acc: 0.5914\n",
      "Epoch: 1600   train/loss: 0.132   valid/loss: 0.9138   train/acc: 1.0   valid/acc: 0.5806\n",
      "Epoch: 1800   train/loss: 0.0858   valid/loss: 0.9073   train/acc: 1.0   valid/acc: 0.5914\n",
      "Epoch: 2000   train/loss: 0.1082   valid/loss: 0.9133   train/acc: 1.0   valid/acc: 0.5914\n",
      "Epoch: 2200   train/loss: 0.1143   valid/loss: 0.9154   train/acc: 1.0   valid/acc: 0.5914\n",
      "Epoch: 2400   train/loss: 0.1012   valid/loss: 0.9292   train/acc: 1.0   valid/acc: 0.5914\n",
      "Epoch: 2600   train/loss: 0.0944   valid/loss: 0.9175   train/acc: 1.0   valid/acc: 0.5914\n",
      "Epoch: 2800   train/loss: 0.0988   valid/loss: 0.9168   train/acc: 1.0   valid/acc: 0.5914\n",
      "Epoch: 3000   train/loss: 0.0958   valid/loss: 0.9151   train/acc: 1.0   valid/acc: 0.5914\n",
      "Epoch: 3200   train/loss: 0.0862   valid/loss: 0.9238   train/acc: 1.0   valid/acc: 0.5806\n",
      "Epoch: 3400   train/loss: 0.0922   valid/loss: 0.9232   train/acc: 1.0   valid/acc: 0.5806\n",
      "Epoch: 3600   train/loss: 0.0879   valid/loss: 0.9284   train/acc: 1.0   valid/acc: 0.5806\n",
      "Epoch: 3800   train/loss: 0.0811   valid/loss: 0.9303   train/acc: 1.0   valid/acc: 0.5806\n",
      "Epoch: 4000   train/loss: 0.0977   valid/loss: 0.9304   train/acc: 1.0   valid/acc: 0.5806\n",
      "Epoch: 4200   train/loss: 0.1071   valid/loss: 0.935   train/acc: 1.0   valid/acc: 0.5806\n",
      "Epoch: 4400   train/loss: 0.1168   valid/loss: 0.9383   train/acc: 1.0   valid/acc: 0.5806\n",
      "Epoch: 4600   train/loss: 0.1001   valid/loss: 0.9325   train/acc: 1.0   valid/acc: 0.5806\n",
      "Epoch: 4800   train/loss: 0.0966   valid/loss: 0.9304   train/acc: 1.0   valid/acc: 0.5806\n",
      "Epoch: 5000   train/loss: 0.0959   valid/loss: 0.9516   train/acc: 1.0   valid/acc: 0.5806\n",
      "Epoch: 5200   train/loss: 0.0929   valid/loss: 0.9641   train/acc: 1.0   valid/acc: 0.5806\n"
     ]
    },
    {
     "name": "stdout",
     "output_type": "stream",
     "text": [
      "Test accuracy: 0.7111111\n",
      "Progress:  0.074\n",
      "Number of training circuits: 28   Number of validation circuits: 93   Number of test circuits: 90   Number of parameters in model: 217\n"
     ]
    },
    {
     "name": "stderr",
     "output_type": "stream",
     "text": [
      "Epoch: 200   train/loss: 0.1948   valid/loss: 0.9439   train/acc: 0.9643   valid/acc: 0.5914\n",
      "Epoch: 400   train/loss: 0.1524   valid/loss: 0.9428   train/acc: 0.9643   valid/acc: 0.5914\n",
      "Epoch: 600   train/loss: 0.1572   valid/loss: 0.9414   train/acc: 0.9643   valid/acc: 0.6022\n",
      "Epoch: 800   train/loss: 0.2041   valid/loss: 0.949   train/acc: 0.9643   valid/acc: 0.5914\n",
      "Epoch: 1000   train/loss: 0.17   valid/loss: 0.9376   train/acc: 0.9286   valid/acc: 0.5914\n",
      "Epoch: 1200   train/loss: 0.1636   valid/loss: 0.9411   train/acc: 0.9643   valid/acc: 0.5914\n",
      "Epoch: 1400   train/loss: 0.138   valid/loss: 0.9399   train/acc: 0.9643   valid/acc: 0.5806\n",
      "Epoch: 1600   train/loss: 0.152   valid/loss: 0.9719   train/acc: 0.9643   valid/acc: 0.5806\n",
      "Epoch: 1800   train/loss: 0.1385   valid/loss: 0.9499   train/acc: 0.9643   valid/acc: 0.5806\n",
      "Epoch: 2000   train/loss: 0.1514   valid/loss: 0.9509   train/acc: 0.9643   valid/acc: 0.5806\n",
      "Epoch: 2200   train/loss: 0.1528   valid/loss: 0.9579   train/acc: 0.9643   valid/acc: 0.5806\n",
      "Epoch: 2400   train/loss: 0.152   valid/loss: 0.949   train/acc: 0.9643   valid/acc: 0.5806\n",
      "Epoch: 2600   train/loss: 0.1461   valid/loss: 0.9669   train/acc: 0.9643   valid/acc: 0.5806\n",
      "Epoch: 2800   train/loss: 0.1481   valid/loss: 0.9645   train/acc: 0.9643   valid/acc: 0.5806\n",
      "Epoch: 3000   train/loss: 0.1389   valid/loss: 0.958   train/acc: 0.9643   valid/acc: 0.5806\n",
      "Epoch: 3200   train/loss: 0.1448   valid/loss: 0.9667   train/acc: 0.9643   valid/acc: 0.5806\n",
      "Epoch: 3400   train/loss: 0.1302   valid/loss: 0.9586   train/acc: 0.9643   valid/acc: 0.5699\n",
      "Epoch: 3600   train/loss: 0.1304   valid/loss: 0.9501   train/acc: 0.9643   valid/acc: 0.5699\n",
      "Epoch: 3800   train/loss: 0.1226   valid/loss: 0.9567   train/acc: 0.9643   valid/acc: 0.5699\n",
      "Epoch: 4000   train/loss: 0.1376   valid/loss: 0.9573   train/acc: 0.9643   valid/acc: 0.5699\n",
      "Epoch: 4200   train/loss: 0.1358   valid/loss: 0.9701   train/acc: 0.9643   valid/acc: 0.5699\n",
      "Epoch: 4400   train/loss: 0.1355   valid/loss: 0.9799   train/acc: 0.9643   valid/acc: 0.5591\n",
      "Epoch: 4600   train/loss: 0.1373   valid/loss: 0.9747   train/acc: 0.9643   valid/acc: 0.5591\n",
      "Epoch: 4800   train/loss: 0.1317   valid/loss: 0.9846   train/acc: 0.9643   valid/acc: 0.5591\n",
      "Epoch: 5000   train/loss: 0.1499   valid/loss: 0.9815   train/acc: 0.9643   valid/acc: 0.5591\n",
      "Epoch: 5200   train/loss: 0.1279   valid/loss: 0.978   train/acc: 0.9643   valid/acc: 0.5591\n"
     ]
    },
    {
     "name": "stdout",
     "output_type": "stream",
     "text": [
      "Test accuracy: 0.72222227\n",
      "Progress:  0.076\n",
      "Number of training circuits: 29   Number of validation circuits: 93   Number of test circuits: 90   Number of parameters in model: 217\n"
     ]
    },
    {
     "name": "stderr",
     "output_type": "stream",
     "text": [
      "Epoch: 200   train/loss: 0.1501   valid/loss: 0.9337   train/acc: 0.9655   valid/acc: 0.5806\n",
      "Epoch: 400   train/loss: 0.1772   valid/loss: 0.9796   train/acc: 0.9655   valid/acc: 0.5806\n",
      "Epoch: 600   train/loss: 0.1485   valid/loss: 0.9636   train/acc: 0.9655   valid/acc: 0.5806\n",
      "Epoch: 800   train/loss: 0.1353   valid/loss: 0.9542   train/acc: 0.9655   valid/acc: 0.5699\n",
      "Epoch: 1000   train/loss: 0.1423   valid/loss: 0.9464   train/acc: 0.9655   valid/acc: 0.5699\n",
      "Epoch: 1200   train/loss: 0.15   valid/loss: 0.9338   train/acc: 0.9655   valid/acc: 0.5699\n",
      "Epoch: 1400   train/loss: 0.1316   valid/loss: 0.946   train/acc: 0.9655   valid/acc: 0.5699\n",
      "Epoch: 1600   train/loss: 0.1267   valid/loss: 0.9466   train/acc: 0.9655   valid/acc: 0.5699\n",
      "Epoch: 1800   train/loss: 0.1271   valid/loss: 0.94   train/acc: 0.9655   valid/acc: 0.5699\n",
      "Epoch: 2000   train/loss: 0.1343   valid/loss: 0.9333   train/acc: 0.9655   valid/acc: 0.5699\n",
      "Epoch: 2200   train/loss: 0.1294   valid/loss: 0.9426   train/acc: 0.9655   valid/acc: 0.5699\n",
      "Epoch: 2400   train/loss: 0.1601   valid/loss: 0.9405   train/acc: 0.931   valid/acc: 0.5699\n",
      "Epoch: 2600   train/loss: 0.1153   valid/loss: 0.9442   train/acc: 0.9655   valid/acc: 0.5699\n",
      "Epoch: 2800   train/loss: 0.1158   valid/loss: 0.9476   train/acc: 0.9655   valid/acc: 0.5699\n",
      "Epoch: 3000   train/loss: 0.1209   valid/loss: 0.9474   train/acc: 0.9655   valid/acc: 0.5699\n",
      "Epoch: 3200   train/loss: 0.1392   valid/loss: 0.9551   train/acc: 0.9655   valid/acc: 0.5699\n",
      "Epoch: 3400   train/loss: 0.1358   valid/loss: 0.9532   train/acc: 0.9655   valid/acc: 0.5699\n",
      "Epoch: 3600   train/loss: 0.1208   valid/loss: 0.9546   train/acc: 0.9655   valid/acc: 0.5699\n",
      "Epoch: 3800   train/loss: 0.1159   valid/loss: 0.954   train/acc: 0.9655   valid/acc: 0.5699\n",
      "Epoch: 4000   train/loss: 0.1179   valid/loss: 0.9546   train/acc: 0.9655   valid/acc: 0.5699\n",
      "Epoch: 4200   train/loss: 0.1284   valid/loss: 0.9513   train/acc: 0.9655   valid/acc: 0.5699\n",
      "Epoch: 4400   train/loss: 0.1306   valid/loss: 0.9525   train/acc: 0.9655   valid/acc: 0.5699\n",
      "Epoch: 4600   train/loss: 0.1581   valid/loss: 0.9509   train/acc: 0.9655   valid/acc: 0.5699\n",
      "Epoch: 4800   train/loss: 0.1219   valid/loss: 0.9576   train/acc: 0.9655   valid/acc: 0.5699\n",
      "Epoch: 5000   train/loss: 0.1217   valid/loss: 0.9574   train/acc: 0.9655   valid/acc: 0.5699\n",
      "Epoch: 5200   train/loss: 0.1058   valid/loss: 0.9538   train/acc: 0.9655   valid/acc: 0.5699\n",
      "Epoch: 5400   train/loss: 0.1194   valid/loss: 0.9505   train/acc: 0.9655   valid/acc: 0.5699\n"
     ]
    },
    {
     "name": "stdout",
     "output_type": "stream",
     "text": [
      "Test accuracy: 0.72222227\n",
      "Progress:  0.078\n",
      "Number of training circuits: 30   Number of validation circuits: 96   Number of test circuits: 92   Number of parameters in model: 223\n"
     ]
    },
    {
     "name": "stderr",
     "output_type": "stream",
     "text": [
      "Epoch: 200   train/loss: 0.168   valid/loss: 0.9186   train/acc: 0.9333   valid/acc: 0.5521\n",
      "Epoch: 400   train/loss: 0.1693   valid/loss: 0.8906   train/acc: 0.9667   valid/acc: 0.5521\n",
      "Epoch: 600   train/loss: 0.1451   valid/loss: 0.899   train/acc: 0.9333   valid/acc: 0.5521\n",
      "Epoch: 800   train/loss: 0.151   valid/loss: 0.8966   train/acc: 0.9667   valid/acc: 0.5521\n",
      "Epoch: 1000   train/loss: 0.1439   valid/loss: 0.9096   train/acc: 0.9667   valid/acc: 0.5521\n",
      "Epoch: 1200   train/loss: 0.1428   valid/loss: 0.8997   train/acc: 0.9667   valid/acc: 0.5521\n",
      "Epoch: 1400   train/loss: 0.1427   valid/loss: 0.912   train/acc: 0.9667   valid/acc: 0.5521\n",
      "Epoch: 1600   train/loss: 0.1358   valid/loss: 0.9249   train/acc: 0.9667   valid/acc: 0.5521\n",
      "Epoch: 1800   train/loss: 0.1326   valid/loss: 0.9264   train/acc: 0.9667   valid/acc: 0.5625\n",
      "Epoch: 2000   train/loss: 0.1263   valid/loss: 0.9252   train/acc: 0.9667   valid/acc: 0.5521\n",
      "Epoch: 2200   train/loss: 0.1462   valid/loss: 0.9333   train/acc: 0.9667   valid/acc: 0.5625\n",
      "Epoch: 2400   train/loss: 0.1824   valid/loss: 0.9311   train/acc: 0.9667   valid/acc: 0.5625\n",
      "Epoch: 2600   train/loss: 0.1341   valid/loss: 0.925   train/acc: 0.9667   valid/acc: 0.5625\n",
      "Epoch: 2800   train/loss: 0.1223   valid/loss: 0.925   train/acc: 0.9667   valid/acc: 0.5625\n",
      "Epoch: 3000   train/loss: 0.1542   valid/loss: 0.9216   train/acc: 0.9667   valid/acc: 0.5625\n",
      "Epoch: 3200   train/loss: 0.1265   valid/loss: 0.9226   train/acc: 0.9667   valid/acc: 0.5625\n",
      "Epoch: 3400   train/loss: 0.1503   valid/loss: 0.9272   train/acc: 0.9667   valid/acc: 0.5625\n",
      "Epoch: 3600   train/loss: 0.1221   valid/loss: 0.929   train/acc: 0.9667   valid/acc: 0.5625\n",
      "Epoch: 3800   train/loss: 0.142   valid/loss: 0.9336   train/acc: 0.9667   valid/acc: 0.5625\n",
      "Epoch: 4000   train/loss: 0.1345   valid/loss: 0.9321   train/acc: 0.9667   valid/acc: 0.5625\n",
      "Epoch: 4200   train/loss: 0.1261   valid/loss: 0.9341   train/acc: 0.9667   valid/acc: 0.5625\n",
      "Epoch: 4400   train/loss: 0.1429   valid/loss: 0.9391   train/acc: 0.9667   valid/acc: 0.5625\n",
      "Epoch: 4600   train/loss: 0.1249   valid/loss: 0.9384   train/acc: 0.9667   valid/acc: 0.5625\n",
      "Epoch: 4800   train/loss: 0.1211   valid/loss: 0.9412   train/acc: 0.9667   valid/acc: 0.5625\n",
      "Epoch: 5000   train/loss: 0.1434   valid/loss: 0.9412   train/acc: 0.9667   valid/acc: 0.5729\n",
      "Epoch: 5200   train/loss: 0.1187   valid/loss: 0.9401   train/acc: 0.9667   valid/acc: 0.5729\n",
      "Epoch: 5400   train/loss: 0.1426   valid/loss: 0.9403   train/acc: 0.9667   valid/acc: 0.5729\n"
     ]
    },
    {
     "name": "stdout",
     "output_type": "stream",
     "text": [
      "Test accuracy: 0.7173913\n",
      "Progress:  0.08\n",
      "Number of training circuits: 31   Number of validation circuits: 96   Number of test circuits: 92   Number of parameters in model: 223\n"
     ]
    },
    {
     "name": "stderr",
     "output_type": "stream",
     "text": [
      "Epoch: 200   train/loss: 0.1334   valid/loss: 0.9424   train/acc: 0.9677   valid/acc: 0.5521\n",
      "Epoch: 400   train/loss: 0.1529   valid/loss: 0.9513   train/acc: 0.9677   valid/acc: 0.5417\n",
      "Epoch: 600   train/loss: 0.1313   valid/loss: 0.9521   train/acc: 0.9677   valid/acc: 0.5417\n",
      "Epoch: 800   train/loss: 0.1583   valid/loss: 0.9464   train/acc: 0.9355   valid/acc: 0.5417\n",
      "Epoch: 1000   train/loss: 0.13   valid/loss: 0.9467   train/acc: 0.9677   valid/acc: 0.5417\n",
      "Epoch: 1200   train/loss: 0.1475   valid/loss: 0.9549   train/acc: 0.9677   valid/acc: 0.5417\n",
      "Epoch: 1400   train/loss: 0.1353   valid/loss: 0.9571   train/acc: 0.9677   valid/acc: 0.5417\n",
      "Epoch: 1600   train/loss: 0.1221   valid/loss: 0.9379   train/acc: 0.9677   valid/acc: 0.5417\n",
      "Epoch: 1800   train/loss: 0.1318   valid/loss: 0.939   train/acc: 0.9355   valid/acc: 0.5417\n",
      "Epoch: 2000   train/loss: 0.1296   valid/loss: 0.9343   train/acc: 0.9677   valid/acc: 0.5417\n",
      "Epoch: 2200   train/loss: 0.1501   valid/loss: 0.9304   train/acc: 0.9677   valid/acc: 0.5417\n",
      "Epoch: 2400   train/loss: 0.1255   valid/loss: 0.9309   train/acc: 0.9677   valid/acc: 0.5417\n",
      "Epoch: 2600   train/loss: 0.1206   valid/loss: 0.9327   train/acc: 0.9677   valid/acc: 0.5417\n",
      "Epoch: 2800   train/loss: 0.1236   valid/loss: 0.9296   train/acc: 0.9677   valid/acc: 0.5312\n",
      "Epoch: 3000   train/loss: 0.1254   valid/loss: 0.9306   train/acc: 0.9677   valid/acc: 0.5312\n",
      "Epoch: 3200   train/loss: 0.1388   valid/loss: 0.9335   train/acc: 0.9677   valid/acc: 0.5312\n",
      "Epoch: 3400   train/loss: 0.1399   valid/loss: 0.9307   train/acc: 0.9677   valid/acc: 0.5312\n",
      "Epoch: 3600   train/loss: 0.118   valid/loss: 0.9354   train/acc: 0.9677   valid/acc: 0.5312\n",
      "Epoch: 3800   train/loss: 0.1121   valid/loss: 0.9314   train/acc: 0.9677   valid/acc: 0.5312\n",
      "Epoch: 4000   train/loss: 0.1235   valid/loss: 0.9317   train/acc: 0.9677   valid/acc: 0.5312\n",
      "Epoch: 4200   train/loss: 0.1414   valid/loss: 0.9298   train/acc: 0.9677   valid/acc: 0.5312\n",
      "Epoch: 4400   train/loss: 0.124   valid/loss: 0.9322   train/acc: 0.9677   valid/acc: 0.5312\n",
      "Epoch: 4600   train/loss: 0.12   valid/loss: 0.9331   train/acc: 0.9677   valid/acc: 0.5312\n",
      "Epoch: 4800   train/loss: 0.1147   valid/loss: 0.9314   train/acc: 0.9677   valid/acc: 0.5312\n",
      "Epoch: 5000   train/loss: 0.1125   valid/loss: 0.9309   train/acc: 0.9677   valid/acc: 0.5312\n",
      "Epoch: 5200   train/loss: 0.1168   valid/loss: 0.9322   train/acc: 0.9677   valid/acc: 0.5312\n",
      "Epoch: 5400   train/loss: 0.1049   valid/loss: 0.9283   train/acc: 0.9677   valid/acc: 0.5312\n",
      "Epoch: 5600   train/loss: 0.1329   valid/loss: 0.9292   train/acc: 0.9677   valid/acc: 0.5312\n"
     ]
    },
    {
     "name": "stdout",
     "output_type": "stream",
     "text": [
      "Test accuracy: 0.70652175\n",
      "Progress:  0.083\n",
      "Number of training circuits: 32   Number of validation circuits: 96   Number of test circuits: 92   Number of parameters in model: 223\n"
     ]
    },
    {
     "name": "stderr",
     "output_type": "stream",
     "text": [
      "Epoch: 200   train/loss: 0.2027   valid/loss: 0.9214   train/acc: 0.9375   valid/acc: 0.5521\n",
      "Epoch: 400   train/loss: 0.2023   valid/loss: 0.9173   train/acc: 0.9375   valid/acc: 0.5417\n",
      "Epoch: 600   train/loss: 0.1835   valid/loss: 0.9182   train/acc: 0.9375   valid/acc: 0.5312\n",
      "Epoch: 800   train/loss: 0.1565   valid/loss: 0.9212   train/acc: 0.9375   valid/acc: 0.5312\n",
      "Epoch: 1000   train/loss: 0.1892   valid/loss: 0.912   train/acc: 0.9375   valid/acc: 0.5312\n",
      "Epoch: 1200   train/loss: 0.1555   valid/loss: 0.9045   train/acc: 0.9375   valid/acc: 0.5312\n",
      "Epoch: 1400   train/loss: 0.1592   valid/loss: 0.9003   train/acc: 0.9375   valid/acc: 0.5312\n",
      "Epoch: 1600   train/loss: 0.1746   valid/loss: 0.9034   train/acc: 0.9062   valid/acc: 0.5312\n",
      "Epoch: 1800   train/loss: 0.1754   valid/loss: 0.9009   train/acc: 0.9375   valid/acc: 0.5312\n",
      "Epoch: 2000   train/loss: 0.1596   valid/loss: 0.9014   train/acc: 0.9375   valid/acc: 0.5312\n",
      "Epoch: 2200   train/loss: 0.1627   valid/loss: 0.9026   train/acc: 0.9375   valid/acc: 0.5312\n",
      "Epoch: 2400   train/loss: 0.1938   valid/loss: 0.8999   train/acc: 0.9375   valid/acc: 0.5312\n",
      "Epoch: 2600   train/loss: 0.1538   valid/loss: 0.8986   train/acc: 0.9375   valid/acc: 0.5312\n",
      "Epoch: 2800   train/loss: 0.2063   valid/loss: 0.8993   train/acc: 0.9375   valid/acc: 0.5312\n",
      "Epoch: 3000   train/loss: 0.1553   valid/loss: 0.9007   train/acc: 0.9375   valid/acc: 0.5312\n",
      "Epoch: 3200   train/loss: 0.1458   valid/loss: 0.899   train/acc: 0.9375   valid/acc: 0.5312\n",
      "Epoch: 3400   train/loss: 0.1616   valid/loss: 0.8974   train/acc: 0.9375   valid/acc: 0.5312\n",
      "Epoch: 3600   train/loss: 0.1952   valid/loss: 0.8971   train/acc: 0.9375   valid/acc: 0.5312\n",
      "Epoch: 3800   train/loss: 0.1628   valid/loss: 0.8991   train/acc: 0.9375   valid/acc: 0.5312\n",
      "Epoch: 4000   train/loss: 0.1693   valid/loss: 0.9009   train/acc: 0.9375   valid/acc: 0.5312\n",
      "Epoch: 4200   train/loss: 0.1754   valid/loss: 0.9007   train/acc: 0.9375   valid/acc: 0.5312\n",
      "Epoch: 4400   train/loss: 0.1409   valid/loss: 0.9016   train/acc: 0.9375   valid/acc: 0.5312\n",
      "Epoch: 4600   train/loss: 0.1559   valid/loss: 0.9015   train/acc: 0.9375   valid/acc: 0.5312\n",
      "Epoch: 4800   train/loss: 0.1479   valid/loss: 0.9006   train/acc: 0.9375   valid/acc: 0.5417\n",
      "Epoch: 5000   train/loss: 0.165   valid/loss: 0.9023   train/acc: 0.9375   valid/acc: 0.5417\n",
      "Epoch: 5200   train/loss: 0.1384   valid/loss: 0.9039   train/acc: 0.9375   valid/acc: 0.5417\n",
      "Epoch: 5400   train/loss: 0.1421   valid/loss: 0.9035   train/acc: 0.9375   valid/acc: 0.5417\n",
      "Epoch: 5600   train/loss: 0.1406   valid/loss: 0.9035   train/acc: 0.9375   valid/acc: 0.5417\n"
     ]
    },
    {
     "name": "stdout",
     "output_type": "stream",
     "text": [
      "Test accuracy: 0.70652175\n",
      "Progress:  0.085\n",
      "Number of training circuits: 33   Number of validation circuits: 96   Number of test circuits: 92   Number of parameters in model: 223\n"
     ]
    },
    {
     "name": "stderr",
     "output_type": "stream",
     "text": [
      "Epoch: 200   train/loss: 0.1716   valid/loss: 0.9094   train/acc: 0.9394   valid/acc: 0.5312\n",
      "Epoch: 400   train/loss: 0.1527   valid/loss: 0.9099   train/acc: 0.9697   valid/acc: 0.5208\n",
      "Epoch: 600   train/loss: 0.1698   valid/loss: 0.9187   train/acc: 0.9697   valid/acc: 0.5104\n",
      "Epoch: 800   train/loss: 0.161   valid/loss: 0.9121   train/acc: 0.9697   valid/acc: 0.5104\n",
      "Epoch: 1000   train/loss: 0.1475   valid/loss: 0.9162   train/acc: 0.9394   valid/acc: 0.5104\n",
      "Epoch: 1200   train/loss: 0.1574   valid/loss: 0.9149   train/acc: 0.9394   valid/acc: 0.5104\n",
      "Epoch: 1400   train/loss: 0.1892   valid/loss: 0.916   train/acc: 0.9697   valid/acc: 0.5104\n",
      "Epoch: 1600   train/loss: 0.1508   valid/loss: 0.9151   train/acc: 0.9697   valid/acc: 0.5208\n",
      "Epoch: 1800   train/loss: 0.1501   valid/loss: 0.9176   train/acc: 0.9697   valid/acc: 0.5104\n",
      "Epoch: 2000   train/loss: 0.1838   valid/loss: 0.9163   train/acc: 0.9697   valid/acc: 0.5104\n",
      "Epoch: 2200   train/loss: 0.1576   valid/loss: 0.9171   train/acc: 0.9697   valid/acc: 0.5208\n",
      "Epoch: 2400   train/loss: 0.1478   valid/loss: 0.9181   train/acc: 0.9697   valid/acc: 0.5208\n",
      "Epoch: 2600   train/loss: 0.1673   valid/loss: 0.9165   train/acc: 0.9394   valid/acc: 0.5208\n",
      "Epoch: 2800   train/loss: 0.1535   valid/loss: 0.9169   train/acc: 0.9697   valid/acc: 0.5312\n",
      "Epoch: 3000   train/loss: 0.1739   valid/loss: 0.9176   train/acc: 0.9697   valid/acc: 0.5312\n",
      "Epoch: 3200   train/loss: 0.162   valid/loss: 0.9215   train/acc: 0.9697   valid/acc: 0.5312\n",
      "Epoch: 3400   train/loss: 0.1567   valid/loss: 0.9221   train/acc: 0.9697   valid/acc: 0.5312\n",
      "Epoch: 3600   train/loss: 0.1493   valid/loss: 0.9218   train/acc: 0.9394   valid/acc: 0.5312\n",
      "Epoch: 3800   train/loss: 0.1332   valid/loss: 0.9197   train/acc: 0.9697   valid/acc: 0.5312\n",
      "Epoch: 4000   train/loss: 0.1645   valid/loss: 0.922   train/acc: 0.9697   valid/acc: 0.5312\n",
      "Epoch: 4200   train/loss: 0.1638   valid/loss: 0.9209   train/acc: 0.9697   valid/acc: 0.5312\n",
      "Epoch: 4400   train/loss: 0.1691   valid/loss: 0.9203   train/acc: 0.9697   valid/acc: 0.5312\n",
      "Epoch: 4600   train/loss: 0.1445   valid/loss: 0.9219   train/acc: 0.9394   valid/acc: 0.5312\n",
      "Epoch: 4800   train/loss: 0.1533   valid/loss: 0.9227   train/acc: 0.9697   valid/acc: 0.5312\n",
      "Epoch: 5000   train/loss: 0.1453   valid/loss: 0.9226   train/acc: 0.9697   valid/acc: 0.5312\n",
      "Epoch: 5200   train/loss: 0.1278   valid/loss: 0.9228   train/acc: 0.9697   valid/acc: 0.5312\n",
      "Epoch: 5400   train/loss: 0.1526   valid/loss: 0.9236   train/acc: 0.9697   valid/acc: 0.5312\n",
      "Epoch: 5600   train/loss: 0.1533   valid/loss: 0.9219   train/acc: 0.9697   valid/acc: 0.5312\n",
      "Epoch: 5800   train/loss: 0.1307   valid/loss: 0.9223   train/acc: 0.9697   valid/acc: 0.5312\n"
     ]
    },
    {
     "name": "stdout",
     "output_type": "stream",
     "text": [
      "Test accuracy: 0.7173913\n",
      "Progress:  0.087\n",
      "Number of training circuits: 34   Number of validation circuits: 96   Number of test circuits: 92   Number of parameters in model: 223\n"
     ]
    },
    {
     "name": "stderr",
     "output_type": "stream",
     "text": [
      "Epoch: 200   train/loss: 0.1723   valid/loss: 0.9181   train/acc: 0.9706   valid/acc: 0.5312\n",
      "Epoch: 400   train/loss: 0.1769   valid/loss: 0.9151   train/acc: 0.9706   valid/acc: 0.5312\n",
      "Epoch: 600   train/loss: 0.1491   valid/loss: 0.9181   train/acc: 0.9706   valid/acc: 0.5312\n",
      "Epoch: 800   train/loss: 0.1455   valid/loss: 0.9209   train/acc: 0.9706   valid/acc: 0.5312\n",
      "Epoch: 1000   train/loss: 0.1807   valid/loss: 0.9232   train/acc: 0.9412   valid/acc: 0.5312\n",
      "Epoch: 1200   train/loss: 0.1675   valid/loss: 0.9231   train/acc: 0.9706   valid/acc: 0.5312\n",
      "Epoch: 1400   train/loss: 0.1836   valid/loss: 0.9233   train/acc: 0.9706   valid/acc: 0.5312\n",
      "Epoch: 1600   train/loss: 0.1667   valid/loss: 0.924   train/acc: 0.9706   valid/acc: 0.5312\n",
      "Epoch: 1800   train/loss: 0.1519   valid/loss: 0.9198   train/acc: 0.9706   valid/acc: 0.5312\n",
      "Epoch: 2000   train/loss: 0.1676   valid/loss: 0.9235   train/acc: 0.9706   valid/acc: 0.5312\n",
      "Epoch: 2200   train/loss: 0.1342   valid/loss: 0.9201   train/acc: 0.9706   valid/acc: 0.5312\n",
      "Epoch: 2400   train/loss: 0.1459   valid/loss: 0.9223   train/acc: 0.9706   valid/acc: 0.5312\n",
      "Epoch: 2600   train/loss: 0.1381   valid/loss: 0.9253   train/acc: 0.9706   valid/acc: 0.5312\n",
      "Epoch: 2800   train/loss: 0.1357   valid/loss: 0.9242   train/acc: 0.9706   valid/acc: 0.5312\n",
      "Epoch: 3000   train/loss: 0.1519   valid/loss: 0.9264   train/acc: 0.9412   valid/acc: 0.5312\n",
      "Epoch: 3200   train/loss: 0.1421   valid/loss: 0.9277   train/acc: 0.9706   valid/acc: 0.5312\n",
      "Epoch: 3400   train/loss: 0.1416   valid/loss: 0.9239   train/acc: 0.9706   valid/acc: 0.5312\n",
      "Epoch: 3600   train/loss: 0.1341   valid/loss: 0.9239   train/acc: 0.9706   valid/acc: 0.5208\n",
      "Epoch: 3800   train/loss: 0.1505   valid/loss: 0.9267   train/acc: 0.9706   valid/acc: 0.5208\n",
      "Epoch: 4000   train/loss: 0.1492   valid/loss: 0.9266   train/acc: 0.9706   valid/acc: 0.5208\n",
      "Epoch: 4200   train/loss: 0.1207   valid/loss: 0.93   train/acc: 0.9706   valid/acc: 0.5208\n",
      "Epoch: 4400   train/loss: 0.1317   valid/loss: 0.9327   train/acc: 0.9706   valid/acc: 0.5208\n",
      "Epoch: 4600   train/loss: 0.1461   valid/loss: 0.9357   train/acc: 0.9706   valid/acc: 0.5208\n",
      "Epoch: 4800   train/loss: 0.1637   valid/loss: 0.932   train/acc: 0.9706   valid/acc: 0.5208\n",
      "Epoch: 5000   train/loss: 0.1435   valid/loss: 0.9362   train/acc: 0.9706   valid/acc: 0.5208\n",
      "Epoch: 5200   train/loss: 0.155   valid/loss: 0.9366   train/acc: 0.9706   valid/acc: 0.5208\n",
      "Epoch: 5400   train/loss: 0.1287   valid/loss: 0.9344   train/acc: 0.9706   valid/acc: 0.5208\n",
      "Epoch: 5600   train/loss: 0.1639   valid/loss: 0.9357   train/acc: 0.9706   valid/acc: 0.5208\n",
      "Epoch: 5800   train/loss: 0.1292   valid/loss: 0.9348   train/acc: 0.9706   valid/acc: 0.5208\n"
     ]
    },
    {
     "name": "stdout",
     "output_type": "stream",
     "text": [
      "Test accuracy: 0.7282609\n",
      "Progress:  0.089\n",
      "Number of training circuits: 35   Number of validation circuits: 97   Number of test circuits: 96   Number of parameters in model: 229\n"
     ]
    },
    {
     "name": "stderr",
     "output_type": "stream",
     "text": [
      "Epoch: 200   train/loss: 0.2036   valid/loss: 0.8974   train/acc: 0.9143   valid/acc: 0.5464\n",
      "Epoch: 400   train/loss: 0.1706   valid/loss: 0.8931   train/acc: 0.9714   valid/acc: 0.5361\n",
      "Epoch: 600   train/loss: 0.1537   valid/loss: 0.9221   train/acc: 0.9429   valid/acc: 0.5361\n",
      "Epoch: 800   train/loss: 0.1652   valid/loss: 0.9176   train/acc: 0.9714   valid/acc: 0.5361\n",
      "Epoch: 1000   train/loss: 0.1631   valid/loss: 0.9232   train/acc: 0.9714   valid/acc: 0.5258\n",
      "Epoch: 1200   train/loss: 0.1253   valid/loss: 0.9389   train/acc: 0.9714   valid/acc: 0.5258\n",
      "Epoch: 1400   train/loss: 0.1467   valid/loss: 0.9393   train/acc: 0.9714   valid/acc: 0.5361\n",
      "Epoch: 1600   train/loss: 0.1356   valid/loss: 0.9466   train/acc: 0.9714   valid/acc: 0.5361\n",
      "Epoch: 1800   train/loss: 0.1403   valid/loss: 0.9532   train/acc: 0.9714   valid/acc: 0.5361\n",
      "Epoch: 2000   train/loss: 0.1444   valid/loss: 0.9481   train/acc: 0.9714   valid/acc: 0.5361\n",
      "Epoch: 2200   train/loss: 0.1347   valid/loss: 0.9528   train/acc: 0.9714   valid/acc: 0.5361\n",
      "Epoch: 2400   train/loss: 0.1538   valid/loss: 0.9526   train/acc: 0.9714   valid/acc: 0.5361\n",
      "Epoch: 2600   train/loss: 0.1434   valid/loss: 0.9604   train/acc: 0.9714   valid/acc: 0.5361\n",
      "Epoch: 2800   train/loss: 0.1447   valid/loss: 0.9555   train/acc: 0.9714   valid/acc: 0.5361\n",
      "Epoch: 3000   train/loss: 0.1347   valid/loss: 0.9544   train/acc: 0.9714   valid/acc: 0.5361\n",
      "Epoch: 3200   train/loss: 0.1671   valid/loss: 0.9545   train/acc: 0.9714   valid/acc: 0.5361\n",
      "Epoch: 3400   train/loss: 0.1411   valid/loss: 0.9573   train/acc: 0.9714   valid/acc: 0.5361\n",
      "Epoch: 3600   train/loss: 0.1816   valid/loss: 0.9628   train/acc: 0.9429   valid/acc: 0.5361\n",
      "Epoch: 3800   train/loss: 0.1335   valid/loss: 0.9671   train/acc: 0.9714   valid/acc: 0.5258\n",
      "Epoch: 4000   train/loss: 0.1463   valid/loss: 0.9674   train/acc: 0.9714   valid/acc: 0.5361\n",
      "Epoch: 4200   train/loss: 0.1172   valid/loss: 0.9657   train/acc: 0.9714   valid/acc: 0.5361\n",
      "Epoch: 4400   train/loss: 0.1402   valid/loss: 0.968   train/acc: 0.9714   valid/acc: 0.5361\n",
      "Epoch: 4600   train/loss: 0.1519   valid/loss: 0.962   train/acc: 0.9714   valid/acc: 0.5361\n",
      "Epoch: 4800   train/loss: 0.1399   valid/loss: 0.9639   train/acc: 0.9714   valid/acc: 0.5361\n",
      "Epoch: 5000   train/loss: 0.136   valid/loss: 0.9589   train/acc: 0.9714   valid/acc: 0.5258\n",
      "Epoch: 5200   train/loss: 0.1497   valid/loss: 0.9534   train/acc: 0.9714   valid/acc: 0.5361\n",
      "Epoch: 5400   train/loss: 0.1504   valid/loss: 0.9567   train/acc: 0.9714   valid/acc: 0.5361\n",
      "Epoch: 5600   train/loss: 0.1469   valid/loss: 0.9563   train/acc: 0.9714   valid/acc: 0.5361\n",
      "Epoch: 5800   train/loss: 0.1261   valid/loss: 0.9579   train/acc: 0.9714   valid/acc: 0.5361\n",
      "Epoch: 6000   train/loss: 0.143   valid/loss: 0.9596   train/acc: 0.9714   valid/acc: 0.5361\n"
     ]
    },
    {
     "name": "stdout",
     "output_type": "stream",
     "text": [
      "Test accuracy: 0.7291667\n",
      "Progress:  0.092\n",
      "Number of training circuits: 36   Number of validation circuits: 97   Number of test circuits: 96   Number of parameters in model: 229\n"
     ]
    }
   ],
   "source": [
    "for i, key in enumerate(all_training_keys[initial_number_of_circuits:]):\n",
    "    print(\"Progress: \", round((i + initial_number_of_circuits)/len(all_training_keys), 3))\n",
    "    \n",
    "    if len(syms) == len(get_symbols(current_training_circuits)) and i > 0:\n",
    "        if i != len(all_training_keys[1:]):\n",
    "            current_training_circuits[key] = training_circuits[key]\n",
    "            new_parameters = sorted(get_symbols({key: training_circuits[key]}), key=default_sort_key)\n",
    "            if result:\n",
    "                parameters, init_params_spsa = initialize_parameters(parameters, result.x, new_parameters)\n",
    "                #continue\n",
    "            else:\n",
    "                syms = get_symbols(current_training_circuits)\n",
    "                parameters = sorted(syms, key=default_sort_key)\n",
    "                init_params_spsa = np.array(rng.random(len(parameters)))\n",
    "    else:\n",
    "        run += 1\n",
    "    \n",
    "    # Select those circuits from test and validation circuits which share the parameters with the current training circuits\n",
    "    current_validation_circuits = select_circuits(current_training_circuits, validation_circuits)\n",
    "    current_test_circuits = select_circuits(current_training_circuits, test_circuits)\n",
    "    \n",
    "    if len(current_validation_circuits) == 0 or len(current_test_circuits) == 0:\n",
    "        continue\n",
    "    \n",
    "    # Create lists with circuits and their corresponding label\n",
    "    training_circuits_l, training_data_labels_l = construct_data_and_labels(current_training_circuits, training_data_labels)\n",
    "    validation_circuits_l, validation_data_labels_l = construct_data_and_labels(current_validation_circuits, validation_data_labels)\n",
    "    test_circuits_l, test_data_labels_l = construct_data_and_labels(current_test_circuits, test_data_labels)\n",
    "    \n",
    "    # Limit the number of validation and test circuits to 20% of number of the training circuits\n",
    "    if limit:\n",
    "        val_test_circ_size = ceil(len(current_training_circuits))\n",
    "        if len(current_validation_circuits) > val_test_circ_size:\n",
    "            validation_circuits_l = validation_circuits_l[:val_test_circ_size]\n",
    "            validation_data_labels_l = validation_data_labels_l[:val_test_circ_size]\n",
    "        if len(current_test_circuits) > val_test_circ_size:\n",
    "            test_circuits_l = test_circuits_l[:val_test_circ_size]\n",
    "            test_data_labels_l = test_data_labels_l[:val_test_circ_size]\n",
    "    \n",
    "    stats = f\"Number of training circuits: {len(training_circuits_l)}   \"\\\n",
    "        + f\"Number of validation circuits: {len(validation_circuits_l)}   \"\\\n",
    "        + f\"Number of test circuits: {len(test_circuits_l)}   \"\\\n",
    "        + f\"Number of parameters in model: {len(set([sym for circuit in training_circuits_l for sym in circuit.free_symbols]))}\"\n",
    "    \n",
    "    with open(\"results//\" + result_file + \".txt\", \"a\") as f:\n",
    "        f.write(stats + \"\\n\")\n",
    "    \n",
    "    print(stats)\n",
    "    \n",
    "    train_pred_fn = jit(make_pred_fn(training_circuits_l))\n",
    "    dev_pred_fn = jit(make_pred_fn(validation_circuits_l))\n",
    "    test_pred_fn = make_pred_fn(test_circuits_l)\n",
    "    \n",
    "    train_cost_fn, train_costs, train_accs = make_cost_fn(train_pred_fn, training_data_labels_l)\n",
    "    dev_cost_fn, dev_costs, dev_accs = make_cost_fn(dev_pred_fn, validation_data_labels_l)\n",
    "    \n",
    "    def callback_fn(xk):\n",
    "        #print(xk)\n",
    "        valid_loss = dev_cost_fn(xk)\n",
    "        train_loss = numpy.around(min(float(train_costs[-1]), float(train_costs[-2])), 4)\n",
    "        train_acc = numpy.around(min(float(train_accs[-1]), float(train_accs[-2])), 4)\n",
    "        valid_acc = numpy.around(float(dev_accs[-1]), 4)\n",
    "        iters = int(len(train_accs)/2)\n",
    "        if iters % 200 == 0:\n",
    "            info = f\"Epoch: {iters}   \"\\\n",
    "            + f\"train/loss: {train_loss}   \"\\\n",
    "            + f\"valid/loss: {numpy.around(float(valid_loss), 4)}   \"\\\n",
    "            + f\"train/acc: {train_acc}   \"\\\n",
    "            + f\"valid/acc: {valid_acc}\"\n",
    "        \n",
    "            with open(\"results//\" + result_file + \".txt\", \"a\") as f:\n",
    "                f.write(info + \"\\n\")\n",
    "                \n",
    "            print(info, file=sys.stderr)\n",
    "        return valid_loss\n",
    "    \n",
    "    a_value = 0.0053\n",
    "    c_value = 0.0185\n",
    "            \n",
    "    train_cost_fn, train_costs, train_accs = make_cost_fn(train_pred_fn, training_data_labels_l)\n",
    "    dev_cost_fn, dev_costs, dev_accs = make_cost_fn(dev_pred_fn, validation_data_labels_l)\n",
    "\n",
    "    result = minimizeSPSA(train_cost_fn, x0=init_params_spsa, a = a_value, c = c_value, niter=EPOCHS, callback=callback_fn)\n",
    "    #result = minimizeCompass(train_cost_fn, x0=init_params_spsa, redfactor=2.0, deltainit=1.0, deltatol=0.001, feps=1e-15, errorcontrol=True, funcNinit=30, funcmultfactor=2.0, paired=True, alpha=0.05, callback=callback_fn)\n",
    "\n",
    "    figure_path = this_folder + \"//results//\" + result_file + \".png\"\n",
    "    visualize_result_noisyopt(result, make_cost_fn, test_pred_fn, test_data_labels_l, train_costs, train_accs, dev_costs, dev_accs, figure_path, result_file)\n",
    "    \n",
    "    run += 1\n",
    "    EPOCHS += 100\n",
    "    syms = get_symbols(current_training_circuits)\n",
    "    \n",
    "    # Extend for the next optimization round\n",
    "    current_training_circuits[key] = training_circuits[key]\n",
    "    new_parameters = sorted(get_symbols({key: training_circuits[key]}), key=default_sort_key)\n",
    "    parameters, init_params_spsa = initialize_parameters(parameters, result.x, new_parameters)"
   ]
  }
 ],
 "metadata": {
  "kernelspec": {
   "display_name": "Python 3 (ipykernel)",
   "language": "python",
   "name": "python3"
  },
  "language_info": {
   "codemirror_mode": {
    "name": "ipython",
    "version": 3
   },
   "file_extension": ".py",
   "mimetype": "text/x-python",
   "name": "python",
   "nbconvert_exporter": "python",
   "pygments_lexer": "ipython3",
   "version": "3.8.10"
  }
 },
 "nbformat": 4,
 "nbformat_minor": 5
}
