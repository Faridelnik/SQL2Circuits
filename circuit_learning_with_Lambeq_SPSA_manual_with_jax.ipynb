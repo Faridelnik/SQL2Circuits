{
 "cells": [
  {
   "cell_type": "markdown",
   "id": "b09952d6-99a3-41a5-865f-2170e9ee0247",
   "metadata": {},
   "source": [
    "# Circuit learning module: Lambeq manually with SPSA and JAX"
   ]
  },
  {
   "cell_type": "markdown",
   "id": "bb811fe4-d729-4a44-838d-9c02db4a644d",
   "metadata": {},
   "source": [
    "This module performs the optimization of the parametrized circuit manually compared to Lambeq's automatic QuantumTrainer class. I created this because I wanted to have more control over the optimization process and debug it better. The code is based on the workflow presented in https://github.com/CQCL/Quanthoven."
   ]
  },
  {
   "cell_type": "code",
   "execution_count": 1,
   "id": "c9a5783f-901a-4bfe-a622-4003b345fb1b",
   "metadata": {},
   "outputs": [],
   "source": [
    "import warnings\n",
    "import json\n",
    "import os\n",
    "import sys\n",
    "import glob\n",
    "from math import ceil\n",
    "from pathlib import Path\n",
    "from jax import numpy as np\n",
    "from sympy import default_sort_key\n",
    "import numpy\n",
    "import pickle\n",
    "import matplotlib.pyplot as plt\n",
    "\n",
    "import jax\n",
    "from jax import jit\n",
    "from noisyopt import minimizeSPSA, minimizeCompass\n",
    "\n",
    "from discopy.quantum import Circuit\n",
    "from discopy.tensor import Tensor\n",
    "from discopy.utils import loads\n",
    "#from pytket.extensions.qiskit import AerBackend\n",
    "#from pytket.extensions.qulacs import QulacsBackend\n",
    "#from pytket.extensions.cirq import CirqStateSampleBackend\n",
    "backend = None\n",
    "\n",
    "from utils import *\n",
    "from sklearn.metrics import accuracy_score, recall_score, precision_score, f1_score\n",
    "\n",
    "warnings.filterwarnings('ignore')\n",
    "this_folder = os.path.abspath(os.getcwd())\n",
    "os.environ['TOKENIZERS_PARALLELISM'] = 'true'\n",
    "#os.environ[\"JAX_PLATFORMS\"] = \"cpu\"\n",
    "\n",
    "SEED = 0\n",
    "\n",
    "# This avoids TracerArrayConversionError from jax\n",
    "Tensor.np = np\n",
    "\n",
    "rng = numpy.random.default_rng(SEED)\n",
    "numpy.random.seed(SEED)"
   ]
  },
  {
   "cell_type": "markdown",
   "id": "238fca40-5d8d-4ace-a65f-693885a8caf8",
   "metadata": {},
   "source": [
    "## Read circuit data"
   ]
  },
  {
   "cell_type": "markdown",
   "id": "7f6f00d7-b573-4c5d-a0d6-d5eafc54745e",
   "metadata": {},
   "source": [
    "We read the circuits from the pickled files. Select if we perform binary classification or multi-class classification. Give number of qubits to create classes:\n",
    "- 1 qubits -> 2^1 = 2 classes i.e. binary classification\n",
    "- 2 qubits -> 2^2 = 4 classes\n",
    "- ...\n",
    "- 5 qubits -> 2^5 = 32 classes, etc."
   ]
  },
  {
   "cell_type": "code",
   "execution_count": 2,
   "id": "01bac1f9-3bc0-4a25-8f4f-baa2b9c581e9",
   "metadata": {},
   "outputs": [],
   "source": [
    "# Select workload\n",
    "workload = \"execution_time\"\n",
    "#workload = \"cardinality\"\n",
    "\n",
    "# Select workload size\n",
    "#workload_size = \"small\"\n",
    "#workload_size = \"medium\"\n",
    "#workload_size = \"large\"\n",
    "workload_size = \"main\"\n",
    "\n",
    "classification = 2\n",
    "layers = 1\n",
    "single_qubit_params = 3\n",
    "n_wire_count = 1\n",
    "\n",
    "loss = multi_class_loss\n",
    "acc = multi_class_acc\n",
    "\n",
    "if classification == 1:\n",
    "    loss = bin_class_loss\n",
    "    acc = bin_class_acc\n",
    "\n",
    "# Access the selected circuits\n",
    "path_name = this_folder + \"//simplified-JOB-diagrams//\" + workload + \"//\" + workload_size + \"//circuits//\" + str(classification) + \"//\" + str(layers) + \"_layer//\" + str(single_qubit_params) + \"_single_qubit_params//\" + str(n_wire_count) + \"_n_wire_count//\"\n",
    "\n",
    "training_circuits_paths = glob.glob(path_name + \"training//[0-9]*.p\")\n",
    "validation_circuits_paths = glob.glob(path_name + \"validation//[0-9]*.p\")\n",
    "test_circuits_paths = glob.glob(path_name + \"test//[0-9]*.p\")"
   ]
  },
  {
   "cell_type": "code",
   "execution_count": 3,
   "id": "5ff0a551-444c-40a7-bf66-8e929bc49a64",
   "metadata": {},
   "outputs": [],
   "source": [
    "training_circuits = read_diagrams(training_circuits_paths)\n",
    "validation_circuits = read_diagrams(validation_circuits_paths)\n",
    "test_circuits = read_diagrams(test_circuits_paths)"
   ]
  },
  {
   "cell_type": "markdown",
   "id": "f2da3a7c-6a93-44e9-9640-7e9ead005cb2",
   "metadata": {},
   "source": [
    "## Read training and test data"
   ]
  },
  {
   "cell_type": "code",
   "execution_count": 4,
   "id": "774e9f52-69c9-4e1c-8a70-76e1198d12f4",
   "metadata": {},
   "outputs": [],
   "source": [
    "training_data, test_data, validation_data = None, None, None\n",
    "data_path = this_folder + \"//data//\" + workload + \"//\" + workload_size + \"//\"\n",
    "\n",
    "with open(data_path + \"training_data.json\", \"r\") as inputfile:\n",
    "    training_data = json.load(inputfile)['training_data']\n",
    "with open(data_path + \"test_data.json\", \"r\") as inputfile:\n",
    "    test_data = json.load(inputfile)['test_data']\n",
    "with open(data_path + \"validation_data.json\", \"r\") as inputfile:\n",
    "    validation_data = json.load(inputfile)['validation_data']\n",
    "\n",
    "training_data_labels = create_labeled_classes(training_data, classification, workload)\n",
    "test_data_labels = create_labeled_classes(test_data, classification, workload)\n",
    "validation_data_labels = create_labeled_classes(validation_data, classification, workload)"
   ]
  },
  {
   "cell_type": "raw",
   "id": "7c6abda1-a3a2-4919-b701-d29380e05524",
   "metadata": {},
   "source": [
    "res = [0,0,0,0]\n",
    "for k in training_data_labels.values():\n",
    "    res[k.index(1)] += 1       \n",
    "print(res)"
   ]
  },
  {
   "cell_type": "markdown",
   "id": "f6cad830-e6c3-4c29-9ce6-0d6bec2794bc",
   "metadata": {},
   "source": [
    "## Lambeq optimizer"
   ]
  },
  {
   "cell_type": "raw",
   "id": "be555e95-e7aa-4f1b-bf4d-29acd66056b0",
   "metadata": {},
   "source": [
    "#all_circuits = list(training_circuits.values()) + list(test_circuits.values())\n",
    "\n",
    "training_circuits_l = []\n",
    "test_circuits_l = []\n",
    "validation_circuits_l = []\n",
    "\n",
    "training_data_labels_l = []\n",
    "test_data_labels_l = []\n",
    "validation_data_labels_l = []\n",
    "\n",
    "# Organize circuits and labels in correct order into two lists which will be input for training the model\n",
    "for key in training_data_labels:\n",
    "    training_circuits_l.append(training_circuits[key])\n",
    "    training_data_labels_l.append(training_data_labels[key])\n",
    "\n",
    "for key in test_data_labels:\n",
    "    test_circuits_l.append(test_circuits[key])\n",
    "    test_data_labels_l.append(test_data_labels[key])\n",
    "    \n",
    "for key in validation_data_labels:\n",
    "    validation_circuits_l.append(validation_circuits[key])\n",
    "    validation_data_labels_l.append(validation_data_labels[key])\n",
    "\n",
    "all_circuits = training_circuits_l + test_circuits_l + validation_circuits_l\n",
    "\n",
    "train_syms = set([sym for circuit in training_circuits.values() for sym in circuit.free_symbols])\n",
    "test_syms = set([sym for circuit in test_circuits.values() for sym in circuit.free_symbols])\n",
    "val_syms = set([sym for circuit in validation_circuits.values() for sym in circuit.free_symbols])\n",
    "\n",
    "print(\"Test circuits need to share training circuits' parameters. The parameters that are not covered (should be empty set, set()): \", test_syms.difference(train_syms))\n",
    "print(\"Validation circuits need to share training circuits' parameters. The parameters that are not covered (should be empty set, set()): \", val_syms.difference(train_syms))\n",
    "\n",
    "print(\"Total number of circuits: \", len(all_circuits))\n",
    "print(\"Total number of variables: \", len(train_syms))"
   ]
  },
  {
   "cell_type": "raw",
   "id": "ecd5daca-fdba-44fe-961d-5b9b9c3c68cb",
   "metadata": {},
   "source": [
    "training_data_labels_l = np.array(training_data_labels_l)\n",
    "test_data_labels_l = np.array(test_data_labels_l)\n",
    "validation_data_labels_l = np.array(validation_data_labels_l)"
   ]
  },
  {
   "cell_type": "markdown",
   "id": "572abfc1-cc81-4fdb-b8bb-6813fe658dd6",
   "metadata": {},
   "source": [
    "## Model"
   ]
  },
  {
   "cell_type": "raw",
   "id": "75f97a9a-c5fc-4d9b-920f-9eb0795ca018",
   "metadata": {},
   "source": [
    "parameters = sorted(\n",
    "    train_syms,\n",
    "    key=default_sort_key)\n",
    "\n",
    "rng = numpy.random.default_rng(SEED)\n",
    "init_params_spsa = np.array(rng.random(len(parameters)))\n",
    "numpy.random.seed(SEED)"
   ]
  },
  {
   "cell_type": "code",
   "execution_count": 5,
   "id": "04c65634-fa13-47b3-915c-83361d0e1baf",
   "metadata": {},
   "outputs": [],
   "source": [
    "def make_pred_fn(circuits):\n",
    "    # In the case we want to use other backends. \n",
    "    # Currently does not work properly.\n",
    "    if backend:\n",
    "        compiled_circuits1 = backend.get_compiled_circuits([c.to_tk() for c in circuits])\n",
    "        circuits = [Circuit.from_tk(c) for c in compiled_circuits1]\n",
    "        \n",
    "    circuit_fns = [c.lambdify(*parameters) for c in circuits]\n",
    "    \n",
    "    def predict(params):\n",
    "        outputs = Circuit.eval(*(c(*params) for c in circuit_fns), backend = backend)\n",
    "        res = []\n",
    "        \n",
    "        for output in outputs:\n",
    "            predictions = np.abs(output.array) + 1e-9\n",
    "            ratio = predictions / predictions.sum()\n",
    "            res.append(ratio)\n",
    "            \n",
    "        return np.array(res)\n",
    "    return predict"
   ]
  },
  {
   "cell_type": "markdown",
   "id": "868cf7e7-fcbf-4bad-b8bc-4ff0e6b29294",
   "metadata": {},
   "source": [
    "## Loss function and evaluation"
   ]
  },
  {
   "cell_type": "code",
   "execution_count": 6,
   "id": "f376b4aa-0ec6-4037-80eb-935aa75a2f74",
   "metadata": {},
   "outputs": [],
   "source": [
    "def make_cost_fn(pred_fn, labels):\n",
    "    def cost_fn(params, **kwargs):\n",
    "        predictions = pred_fn(params)\n",
    "\n",
    "        cost = loss(predictions, labels) #-np.sum(labels * np.log(predictions)) / len(labels)  # binary cross-entropy loss\n",
    "        costs.append(cost)\n",
    "\n",
    "        accuracy = acc(predictions, labels) #np.sum(np.round(predictions) == labels) / len(labels) / 2  # half due to double-counting\n",
    "        accuracies.append(accuracy)\n",
    "\n",
    "        return cost\n",
    "\n",
    "    costs, accuracies = [], []\n",
    "    return cost_fn, costs, accuracies"
   ]
  },
  {
   "cell_type": "markdown",
   "id": "a3bb6805-facb-4ec9-9c38-8d1df42022b2",
   "metadata": {},
   "source": [
    "## Minimization with noisyopt"
   ]
  },
  {
   "cell_type": "raw",
   "id": "53bc5cb8-8960-46d9-a64e-02b96fb97acc",
   "metadata": {},
   "source": [
    "EPOCHS = 1000\n",
    "SEED = 0\n",
    "\n",
    "# This avoids TracerArrayConversionError from jax\n",
    "Tensor.np = np\n",
    "\n",
    "rng = numpy.random.default_rng(SEED)\n",
    "init_params_spsa = np.array(rng.random(len(parameters)))\n",
    "numpy.random.seed(SEED)\n",
    "\n",
    "train_cost_fn, train_costs, train_accs = make_cost_fn(train_pred_fn, training_data_labels_l)\n",
    "dev_cost_fn, dev_costs, dev_accs = make_cost_fn(dev_pred_fn, validation_data_labels_l)\n",
    "\n",
    "def callback_fn(xk):\n",
    "    valid_loss = dev_cost_fn(xk)\n",
    "    train_loss = round(train_costs[-1], 4)\n",
    "    train_acc = round(train_accs[-1], 4)\n",
    "    valid_acc = round(dev_accs[-1], 4)\n",
    "    iters = int(len(train_accs)/2)\n",
    "    if iters % 100 == 0:\n",
    "        print(\n",
    "                #f\"Params = {xk}, \"\n",
    "                f\"Epoch: {iters}   \",\n",
    "                f\"train/loss: {train_loss}   \",\n",
    "                f\"valid/loss: {round(valid_loss, 4)}   \",\n",
    "                f\"train/acc: {train_acc}   \",\n",
    "                f\"valid/acc: {valid_acc}\"\n",
    "            )\n",
    "    return valid_loss"
   ]
  },
  {
   "cell_type": "raw",
   "id": "cc202031-11f7-4307-96de-8c642d65ce4d",
   "metadata": {},
   "source": [
    "#a_values = [100.0, 10.0, 1.0, 0.1, 0.01, 0.001, 0.0001, 0.00001, 0.000001]\n",
    "#c_values = [100.0, 10.0, 1.0, 0.1, 0.01, 0.001, 0.0001, 0.00001, 0.000001]\n",
    "\n",
    "#a_values = [0.001, 0.005, 0.01, 0.015, 0.02, 0.025, 0.03]\n",
    "#c_values = [0.001, 0.005, 0.01, 0.015, 0.02, 0.025, 0.03]\n",
    "\n",
    "run = 6\n",
    "#a_values = [0.0055, 0.0054, 0.0052, 0.005, 0.0048, 0.0045, 0.004]\n",
    "#c_values = [0.012, 0.016, 0.018, 0.02, 0.022, 0.025, 0.03]\n",
    "\n",
    "#a_values = [0.0053, 0.0054, 0.0055, 0.0056, 0.0057]\n",
    "#c_values = [0.017, 0.0175, 0.018, 0.0185, 0.019]\n",
    "\n",
    "a_values = [0.0052, 0.00525, 0.0053, 0.00535, 0.0054]\n",
    "c_values = [0.0183, 0.0184, 0.0185, 0.0186, 0.0187] \n",
    "\n",
    "for i, a_value in enumerate(a_values):\n",
    "    for j, c_value in enumerate(c_values):\n",
    "        train_cost_fn, train_costs, train_accs = make_cost_fn(train_pred_fn, training_data_labels_l)\n",
    "        dev_cost_fn, dev_costs, dev_accs = make_cost_fn(dev_pred_fn, validation_data_labels_l)\n",
    "        \n",
    "        result = minimizeSPSA(train_cost_fn, x0=init_params_spsa, a = a_value, c = c_value, niter=EPOCHS, callback=callback_fn)"
   ]
  },
  {
   "cell_type": "code",
   "execution_count": 7,
   "id": "85b70bae-fe88-4852-a423-658641380e57",
   "metadata": {},
   "outputs": [],
   "source": [
    "def initialize_parameters(old_params, old_values, new_params):\n",
    "    new_values = list(numpy.array(rng.random(len(new_params))))\n",
    "    old_param_dict = {}\n",
    "    for p, v in zip(old_params, old_values):\n",
    "        old_param_dict[p] = v\n",
    "        \n",
    "    parameters = sorted(set(old_params + new_params), key=default_sort_key)\n",
    "    values = []\n",
    "    for p in parameters:\n",
    "        if p in old_param_dict:\n",
    "            values.append(old_param_dict[p])\n",
    "        else:\n",
    "            values.append(new_values.pop())\n",
    "            \n",
    "    return parameters, np.array(values)"
   ]
  },
  {
   "cell_type": "code",
   "execution_count": 8,
   "id": "4dd1d87d-047d-4feb-9dbc-c972bbabf741",
   "metadata": {},
   "outputs": [
    {
     "name": "stdout",
     "output_type": "stream",
     "text": [
      "Loading parameters from file execution_time_main_noisyopt_2_1_3\n"
     ]
    }
   ],
   "source": [
    "EPOCHS = 4000\n",
    "initial_number_of_circuits = 25\n",
    "syms = {}\n",
    "limit = False\n",
    "all_training_keys = list(training_circuits.keys())\n",
    "initial_circuit_keys = all_training_keys[:initial_number_of_circuits + 1]\n",
    "current_training_circuits = {}\n",
    "result_file = workload + \"_\" + workload_size + \"_noisyopt_\" + str(classification) + \"_\" + str(layers) + \"_\" + str(single_qubit_params)\n",
    "\n",
    "for k in initial_circuit_keys:\n",
    "    current_training_circuits[k] = training_circuits[k]\n",
    "    \n",
    "syms = get_symbols(current_training_circuits)\n",
    "parameters = sorted(syms, key=default_sort_key)\n",
    "if initial_number_of_circuits > 5 and os.path.exists(\"points//\" + result_file + \".npz\"):\n",
    "    with open(\"points//\" + result_file + \".npz\", \"rb\") as f:\n",
    "        print(\"Loading parameters from file \" + result_file)\n",
    "        npzfile = np.load(f)\n",
    "        init_params_spsa = npzfile['arr_0']\n",
    "else:\n",
    "    print(\"Initializing new parameters\")\n",
    "    init_params_spsa = np.array(rng.random(len(parameters)))\n",
    "result = None\n",
    "run = 0"
   ]
  },
  {
   "cell_type": "code",
   "execution_count": null,
   "id": "52d19610-d096-4de1-b1b9-63aef886e632",
   "metadata": {},
   "outputs": [
    {
     "name": "stdout",
     "output_type": "stream",
     "text": [
      "Progress:  0.056\n",
      "Number of training circuits: 25   Number of validation circuits: 87   Number of test circuits: 84   Number of parameters in model: 207\n"
     ]
    },
    {
     "name": "stderr",
     "output_type": "stream",
     "text": [
      "Epoch: 200   train/loss: 3.5285   valid/loss: 44.4292   train/acc: 0.76   valid/acc: 0.2644\n",
      "Epoch: 400   train/loss: 3.5117   valid/loss: 47.4548   train/acc: 0.76   valid/acc: 0.2759\n",
      "Epoch: 600   train/loss: 3.4947   valid/loss: 48.2868   train/acc: 0.76   valid/acc: 0.2759\n",
      "Epoch: 800   train/loss: 3.3291   valid/loss: 48.2242   train/acc: 0.8   valid/acc: 0.2874\n",
      "Epoch: 1000   train/loss: 3.0796   valid/loss: 50.3027   train/acc: 0.8   valid/acc: 0.2874\n",
      "Epoch: 1200   train/loss: 3.1602   valid/loss: 48.5108   train/acc: 0.8   valid/acc: 0.2874\n",
      "Epoch: 1400   train/loss: 3.2468   valid/loss: 49.4663   train/acc: 0.8   valid/acc: 0.2874\n",
      "Epoch: 1600   train/loss: 3.2294   valid/loss: 50.3921   train/acc: 0.8   valid/acc: 0.2874\n",
      "Epoch: 1800   train/loss: 3.122   valid/loss: 52.2789   train/acc: 0.8   valid/acc: 0.2874\n",
      "Epoch: 2000   train/loss: 3.2302   valid/loss: 51.3139   train/acc: 0.8   valid/acc: 0.2874\n",
      "Epoch: 2200   train/loss: 3.2491   valid/loss: 52.0291   train/acc: 0.8   valid/acc: 0.2874\n",
      "Epoch: 2400   train/loss: 3.1132   valid/loss: 52.694   train/acc: 0.8   valid/acc: 0.2874\n",
      "Epoch: 2600   train/loss: 3.181   valid/loss: 52.5626   train/acc: 0.8   valid/acc: 0.2874\n",
      "Epoch: 2800   train/loss: 3.1853   valid/loss: 52.1696   train/acc: 0.8   valid/acc: 0.2874\n",
      "Epoch: 3000   train/loss: 3.1765   valid/loss: 50.7038   train/acc: 0.8   valid/acc: 0.2989\n",
      "Epoch: 3200   train/loss: 3.2703   valid/loss: 52.9917   train/acc: 0.8   valid/acc: 0.2874\n",
      "Epoch: 3400   train/loss: 3.0961   valid/loss: 55.2958   train/acc: 0.76   valid/acc: 0.2874\n",
      "Epoch: 3600   train/loss: 3.1202   valid/loss: 56.3096   train/acc: 0.8   valid/acc: 0.2874\n",
      "Epoch: 3800   train/loss: 3.0121   valid/loss: 53.9879   train/acc: 0.76   valid/acc: 0.2874\n",
      "Epoch: 4000   train/loss: 3.1136   valid/loss: 54.5763   train/acc: 0.8   valid/acc: 0.2874\n"
     ]
    },
    {
     "name": "stdout",
     "output_type": "stream",
     "text": [
      "Test accuracy: 0.3333333333333333\n",
      "Progress:  0.058\n",
      "Number of training circuits: 26   Number of validation circuits: 90   Number of test circuits: 89   Number of parameters in model: 210\n"
     ]
    },
    {
     "name": "stderr",
     "output_type": "stream",
     "text": [
      "Epoch: 200   train/loss: 3.9538   valid/loss: 44.3798   train/acc: 0.7692   valid/acc: 0.2556\n",
      "Epoch: 400   train/loss: 3.5783   valid/loss: 47.4942   train/acc: 0.8077   valid/acc: 0.2333\n",
      "Epoch: 600   train/loss: 3.6377   valid/loss: 51.1337   train/acc: 0.7692   valid/acc: 0.2222\n",
      "Epoch: 800   train/loss: 3.5997   valid/loss: 49.8205   train/acc: 0.8077   valid/acc: 0.2222\n",
      "Epoch: 1000   train/loss: 3.68   valid/loss: 49.4081   train/acc: 0.8077   valid/acc: 0.2222\n",
      "Epoch: 1200   train/loss: 3.5854   valid/loss: 51.728   train/acc: 0.8077   valid/acc: 0.2333\n",
      "Epoch: 1400   train/loss: 3.5705   valid/loss: 48.4374   train/acc: 0.7692   valid/acc: 0.2444\n",
      "Epoch: 1600   train/loss: 3.6775   valid/loss: 50.0412   train/acc: 0.7692   valid/acc: 0.2333\n",
      "Epoch: 1800   train/loss: 3.583   valid/loss: 56.2704   train/acc: 0.7692   valid/acc: 0.2333\n",
      "Epoch: 2000   train/loss: 3.5175   valid/loss: 52.5839   train/acc: 0.7692   valid/acc: 0.2333\n",
      "Epoch: 2200   train/loss: 3.698   valid/loss: 51.9135   train/acc: 0.7692   valid/acc: 0.2333\n",
      "Epoch: 2400   train/loss: 3.5082   valid/loss: 51.0508   train/acc: 0.7692   valid/acc: 0.2444\n",
      "Epoch: 2600   train/loss: 3.3948   valid/loss: 51.9495   train/acc: 0.7692   valid/acc: 0.2333\n",
      "Epoch: 2800   train/loss: 3.5778   valid/loss: 54.6328   train/acc: 0.7692   valid/acc: 0.2444\n",
      "Epoch: 3000   train/loss: 3.5284   valid/loss: 53.3235   train/acc: 0.7692   valid/acc: 0.2333\n",
      "Epoch: 3200   train/loss: 3.6103   valid/loss: 54.6894   train/acc: 0.7692   valid/acc: 0.2444\n",
      "Epoch: 3400   train/loss: 3.5079   valid/loss: 50.8103   train/acc: 0.8077   valid/acc: 0.2556\n",
      "Epoch: 3600   train/loss: 3.4539   valid/loss: 53.2715   train/acc: 0.7692   valid/acc: 0.2444\n",
      "Epoch: 3800   train/loss: 3.5592   valid/loss: 52.0136   train/acc: 0.7692   valid/acc: 0.2444\n",
      "Epoch: 4000   train/loss: 3.5793   valid/loss: 51.5914   train/acc: 0.7692   valid/acc: 0.2444\n"
     ]
    },
    {
     "name": "stdout",
     "output_type": "stream",
     "text": [
      "Test accuracy: 0.3595505617977528\n",
      "Progress:  0.06\n",
      "Number of training circuits: 27   Number of validation circuits: 93   Number of test circuits: 90   Number of parameters in model: 213\n"
     ]
    },
    {
     "name": "stderr",
     "output_type": "stream",
     "text": [
      "Epoch: 200   train/loss: 4.1195   valid/loss: 44.2522   train/acc: 0.7407   valid/acc: 0.2688\n",
      "Epoch: 400   train/loss: 3.973   valid/loss: 46.6718   train/acc: 0.7778   valid/acc: 0.2473\n",
      "Epoch: 600   train/loss: 3.739   valid/loss: 50.3264   train/acc: 0.7778   valid/acc: 0.2473\n",
      "Epoch: 800   train/loss: 3.7563   valid/loss: 51.793   train/acc: 0.7778   valid/acc: 0.2688\n",
      "Epoch: 1000   train/loss: 3.8237   valid/loss: 47.4042   train/acc: 0.7778   valid/acc: 0.2903\n",
      "Epoch: 1200   train/loss: 3.5708   valid/loss: 48.0644   train/acc: 0.7778   valid/acc: 0.2903\n",
      "Epoch: 1400   train/loss: 3.7112   valid/loss: 50.0973   train/acc: 0.7778   valid/acc: 0.2903\n",
      "Epoch: 1600   train/loss: 3.6423   valid/loss: 47.3459   train/acc: 0.7778   valid/acc: 0.2903\n",
      "Epoch: 1800   train/loss: 3.5776   valid/loss: 50.1006   train/acc: 0.7407   valid/acc: 0.2903\n",
      "Epoch: 2000   train/loss: 3.6312   valid/loss: 48.9912   train/acc: 0.7778   valid/acc: 0.2903\n",
      "Epoch: 2200   train/loss: 3.6995   valid/loss: 50.917   train/acc: 0.7407   valid/acc: 0.2903\n",
      "Epoch: 2400   train/loss: 3.6072   valid/loss: 49.7436   train/acc: 0.7778   valid/acc: 0.2903\n",
      "Epoch: 2600   train/loss: 3.5617   valid/loss: 49.2413   train/acc: 0.7407   valid/acc: 0.2903\n",
      "Epoch: 2800   train/loss: 3.5312   valid/loss: 52.2077   train/acc: 0.7778   valid/acc: 0.2688\n",
      "Epoch: 3000   train/loss: 3.5516   valid/loss: 54.3206   train/acc: 0.7407   valid/acc: 0.2796\n",
      "Epoch: 3200   train/loss: 3.4211   valid/loss: 48.548   train/acc: 0.7778   valid/acc: 0.2796\n",
      "Epoch: 3400   train/loss: 3.7948   valid/loss: 49.4365   train/acc: 0.7407   valid/acc: 0.2796\n",
      "Epoch: 3600   train/loss: 3.498   valid/loss: 50.6005   train/acc: 0.7778   valid/acc: 0.2796\n",
      "Epoch: 3800   train/loss: 3.6619   valid/loss: 50.2975   train/acc: 0.7778   valid/acc: 0.2796\n",
      "Epoch: 4000   train/loss: 3.573   valid/loss: 51.983   train/acc: 0.7778   valid/acc: 0.2796\n"
     ]
    },
    {
     "name": "stdout",
     "output_type": "stream",
     "text": [
      "Test accuracy: 0.37777777777777777\n",
      "Progress:  0.062\n",
      "Number of training circuits: 28   Number of validation circuits: 93   Number of test circuits: 90   Number of parameters in model: 213\n"
     ]
    },
    {
     "name": "stderr",
     "output_type": "stream",
     "text": [
      "Epoch: 200   train/loss: 4.4461   valid/loss: 43.36   train/acc: 0.75   valid/acc: 0.3333\n",
      "Epoch: 400   train/loss: 4.1835   valid/loss: 42.4734   train/acc: 0.7857   valid/acc: 0.3011\n",
      "Epoch: 600   train/loss: 4.2103   valid/loss: 45.2129   train/acc: 0.75   valid/acc: 0.3011\n",
      "Epoch: 800   train/loss: 4.0761   valid/loss: 47.4202   train/acc: 0.7857   valid/acc: 0.3118\n",
      "Epoch: 1000   train/loss: 4.0531   valid/loss: 49.8108   train/acc: 0.7857   valid/acc: 0.3011\n",
      "Epoch: 1200   train/loss: 3.8853   valid/loss: 45.9854   train/acc: 0.7857   valid/acc: 0.3011\n",
      "Epoch: 1400   train/loss: 4.0119   valid/loss: 47.5396   train/acc: 0.7857   valid/acc: 0.2796\n",
      "Epoch: 1600   train/loss: 3.911   valid/loss: 49.4229   train/acc: 0.75   valid/acc: 0.2796\n",
      "Epoch: 1800   train/loss: 3.8124   valid/loss: 48.4544   train/acc: 0.7857   valid/acc: 0.2796\n",
      "Epoch: 2000   train/loss: 3.6837   valid/loss: 49.4595   train/acc: 0.7857   valid/acc: 0.2796\n",
      "Epoch: 2200   train/loss: 3.8321   valid/loss: 49.8758   train/acc: 0.75   valid/acc: 0.2796\n",
      "Epoch: 2400   train/loss: 3.6679   valid/loss: 47.6   train/acc: 0.7857   valid/acc: 0.2796\n",
      "Epoch: 2600   train/loss: 3.8659   valid/loss: 49.3461   train/acc: 0.75   valid/acc: 0.2796\n",
      "Epoch: 2800   train/loss: 3.7845   valid/loss: 48.1966   train/acc: 0.75   valid/acc: 0.2796\n",
      "Epoch: 3000   train/loss: 3.8354   valid/loss: 48.8003   train/acc: 0.7857   valid/acc: 0.2796\n",
      "Epoch: 3200   train/loss: 3.8131   valid/loss: 49.4163   train/acc: 0.75   valid/acc: 0.2796\n",
      "Epoch: 3400   train/loss: 3.6899   valid/loss: 54.1173   train/acc: 0.75   valid/acc: 0.2796\n",
      "Epoch: 3600   train/loss: 3.8936   valid/loss: 49.0791   train/acc: 0.75   valid/acc: 0.2796\n",
      "Epoch: 3800   train/loss: 3.8191   valid/loss: 49.1255   train/acc: 0.75   valid/acc: 0.2796\n",
      "Epoch: 4000   train/loss: 3.6085   valid/loss: 48.8778   train/acc: 0.75   valid/acc: 0.2688\n"
     ]
    },
    {
     "name": "stdout",
     "output_type": "stream",
     "text": [
      "Test accuracy: 0.4\n",
      "Progress:  0.065\n",
      "Number of training circuits: 29   Number of validation circuits: 93   Number of test circuits: 90   Number of parameters in model: 213\n"
     ]
    },
    {
     "name": "stderr",
     "output_type": "stream",
     "text": [
      "Epoch: 200   train/loss: 4.2922   valid/loss: 44.8507   train/acc: 0.7586   valid/acc: 0.2688\n",
      "Epoch: 400   train/loss: 3.8985   valid/loss: 46.3677   train/acc: 0.7931   valid/acc: 0.2688\n",
      "Epoch: 600   train/loss: 3.9847   valid/loss: 46.9248   train/acc: 0.7931   valid/acc: 0.2688\n",
      "Epoch: 800   train/loss: 3.9065   valid/loss: 49.4772   train/acc: 0.7931   valid/acc: 0.2688\n",
      "Epoch: 1000   train/loss: 4.0587   valid/loss: 47.6058   train/acc: 0.7931   valid/acc: 0.2688\n",
      "Epoch: 1200   train/loss: 3.8979   valid/loss: 50.1067   train/acc: 0.8276   valid/acc: 0.2688\n",
      "Epoch: 1400   train/loss: 3.7677   valid/loss: 51.024   train/acc: 0.7931   valid/acc: 0.2688\n",
      "Epoch: 1600   train/loss: 3.8178   valid/loss: 49.8173   train/acc: 0.7931   valid/acc: 0.2688\n",
      "Epoch: 1800   train/loss: 3.701   valid/loss: 54.8497   train/acc: 0.7931   valid/acc: 0.2688\n",
      "Epoch: 2000   train/loss: 3.9558   valid/loss: 50.9718   train/acc: 0.7931   valid/acc: 0.2688\n",
      "Epoch: 2200   train/loss: 3.7243   valid/loss: 53.4833   train/acc: 0.7586   valid/acc: 0.2688\n",
      "Epoch: 2400   train/loss: 3.9999   valid/loss: 53.088   train/acc: 0.7931   valid/acc: 0.2796\n",
      "Epoch: 2600   train/loss: 3.8455   valid/loss: 49.9388   train/acc: 0.7586   valid/acc: 0.2688\n",
      "Epoch: 2800   train/loss: 3.7889   valid/loss: 50.8697   train/acc: 0.7931   valid/acc: 0.2688\n",
      "Epoch: 3000   train/loss: 3.8578   valid/loss: 51.8522   train/acc: 0.7931   valid/acc: 0.2581\n",
      "Epoch: 3200   train/loss: 3.7379   valid/loss: 51.8649   train/acc: 0.8276   valid/acc: 0.2581\n",
      "Epoch: 3400   train/loss: 3.7984   valid/loss: 53.0734   train/acc: 0.8276   valid/acc: 0.2796\n",
      "Epoch: 3600   train/loss: 3.6385   valid/loss: 53.2695   train/acc: 0.7931   valid/acc: 0.2796\n",
      "Epoch: 3800   train/loss: 3.7786   valid/loss: 52.6908   train/acc: 0.7931   valid/acc: 0.2688\n",
      "Epoch: 4000   train/loss: 3.7137   valid/loss: 50.6933   train/acc: 0.7931   valid/acc: 0.2688\n"
     ]
    },
    {
     "name": "stdout",
     "output_type": "stream",
     "text": [
      "Test accuracy: 0.34444444444444444\n",
      "Progress:  0.067\n",
      "Number of training circuits: 30   Number of validation circuits: 96   Number of test circuits: 92   Number of parameters in model: 219\n"
     ]
    },
    {
     "name": "stderr",
     "output_type": "stream",
     "text": [
      "Epoch: 200   train/loss: 4.148   valid/loss: 47.5467   train/acc: 0.7667   valid/acc: 0.2604\n",
      "Epoch: 400   train/loss: 3.8589   valid/loss: 49.5886   train/acc: 0.7667   valid/acc: 0.25\n",
      "Epoch: 600   train/loss: 3.7815   valid/loss: 48.036   train/acc: 0.8   valid/acc: 0.2812\n",
      "Epoch: 800   train/loss: 3.7144   valid/loss: 53.9813   train/acc: 0.8   valid/acc: 0.2812\n",
      "Epoch: 1000   train/loss: 3.9253   valid/loss: 53.6656   train/acc: 0.8333   valid/acc: 0.2917\n",
      "Epoch: 1200   train/loss: 3.6556   valid/loss: 54.5026   train/acc: 0.8   valid/acc: 0.2917\n",
      "Epoch: 1400   train/loss: 3.7867   valid/loss: 55.7054   train/acc: 0.8   valid/acc: 0.3021\n",
      "Epoch: 1600   train/loss: 3.6383   valid/loss: 55.1284   train/acc: 0.8   valid/acc: 0.3021\n",
      "Epoch: 1800   train/loss: 3.9755   valid/loss: 54.1779   train/acc: 0.8   valid/acc: 0.2917\n",
      "Epoch: 2000   train/loss: 3.7274   valid/loss: 57.5279   train/acc: 0.8   valid/acc: 0.2917\n",
      "Epoch: 2200   train/loss: 3.87   valid/loss: 54.3852   train/acc: 0.8   valid/acc: 0.2917\n",
      "Epoch: 2400   train/loss: 3.7868   valid/loss: 55.7368   train/acc: 0.8   valid/acc: 0.2917\n",
      "Epoch: 2600   train/loss: 3.7172   valid/loss: 56.0172   train/acc: 0.8333   valid/acc: 0.2917\n",
      "Epoch: 2800   train/loss: 3.5678   valid/loss: 53.6142   train/acc: 0.8   valid/acc: 0.2917\n",
      "Epoch: 3000   train/loss: 3.6218   valid/loss: 53.1746   train/acc: 0.8333   valid/acc: 0.2917\n",
      "Epoch: 3200   train/loss: 3.6068   valid/loss: 57.4493   train/acc: 0.8   valid/acc: 0.3021\n",
      "Epoch: 3400   train/loss: 3.915   valid/loss: 55.8209   train/acc: 0.8   valid/acc: 0.2917\n",
      "Epoch: 3600   train/loss: 3.6038   valid/loss: 54.9217   train/acc: 0.8   valid/acc: 0.2917\n",
      "Epoch: 3800   train/loss: 3.5646   valid/loss: 59.9818   train/acc: 0.8   valid/acc: 0.2917\n",
      "Epoch: 4000   train/loss: 3.532   valid/loss: 55.2657   train/acc: 0.8   valid/acc: 0.2917\n"
     ]
    },
    {
     "name": "stdout",
     "output_type": "stream",
     "text": [
      "Test accuracy: 0.31521739130434784\n",
      "Progress:  0.069\n",
      "Number of training circuits: 31   Number of validation circuits: 96   Number of test circuits: 92   Number of parameters in model: 219\n"
     ]
    },
    {
     "name": "stderr",
     "output_type": "stream",
     "text": [
      "Epoch: 200   train/loss: 4.6034   valid/loss: 48.2228   train/acc: 0.8065   valid/acc: 0.3333\n",
      "Epoch: 400   train/loss: 4.4209   valid/loss: 47.0677   train/acc: 0.7742   valid/acc: 0.3333\n",
      "Epoch: 600   train/loss: 4.1744   valid/loss: 50.4633   train/acc: 0.8065   valid/acc: 0.3333\n",
      "Epoch: 800   train/loss: 3.8508   valid/loss: 51.1168   train/acc: 0.8065   valid/acc: 0.3229\n",
      "Epoch: 1000   train/loss: 4.1464   valid/loss: 54.8056   train/acc: 0.8065   valid/acc: 0.3333\n",
      "Epoch: 1200   train/loss: 4.0162   valid/loss: 55.216   train/acc: 0.8065   valid/acc: 0.3333\n",
      "Epoch: 1400   train/loss: 3.7222   valid/loss: 56.777   train/acc: 0.8387   valid/acc: 0.3333\n",
      "Epoch: 1600   train/loss: 3.6507   valid/loss: 59.0323   train/acc: 0.8387   valid/acc: 0.3333\n",
      "Epoch: 1800   train/loss: 3.8996   valid/loss: 57.7735   train/acc: 0.8065   valid/acc: 0.3333\n",
      "Epoch: 2000   train/loss: 4.1301   valid/loss: 59.6198   train/acc: 0.8065   valid/acc: 0.3333\n",
      "Epoch: 2200   train/loss: 3.7944   valid/loss: 57.9488   train/acc: 0.8387   valid/acc: 0.3333\n",
      "Epoch: 2400   train/loss: 3.7128   valid/loss: 57.1404   train/acc: 0.8065   valid/acc: 0.3333\n",
      "Epoch: 2600   train/loss: 3.8893   valid/loss: 58.8174   train/acc: 0.8065   valid/acc: 0.3333\n",
      "Epoch: 2800   train/loss: 3.881   valid/loss: 63.1983   train/acc: 0.8387   valid/acc: 0.3333\n",
      "Epoch: 3000   train/loss: 3.8186   valid/loss: 59.6158   train/acc: 0.8065   valid/acc: 0.3333\n",
      "Epoch: 3200   train/loss: 3.7935   valid/loss: 57.6884   train/acc: 0.8387   valid/acc: 0.3333\n",
      "Epoch: 3400   train/loss: 4.0199   valid/loss: 59.0748   train/acc: 0.8065   valid/acc: 0.3333\n",
      "Epoch: 3600   train/loss: 3.662   valid/loss: 58.8342   train/acc: 0.8387   valid/acc: 0.3333\n",
      "Epoch: 3800   train/loss: 3.6677   valid/loss: 58.843   train/acc: 0.8065   valid/acc: 0.3438\n",
      "Epoch: 4000   train/loss: 3.6866   valid/loss: 63.4214   train/acc: 0.8065   valid/acc: 0.3438\n"
     ]
    },
    {
     "name": "stdout",
     "output_type": "stream",
     "text": [
      "Test accuracy: 0.29347826086956524\n",
      "Progress:  0.071\n",
      "Number of training circuits: 32   Number of validation circuits: 96   Number of test circuits: 92   Number of parameters in model: 219\n"
     ]
    },
    {
     "name": "stderr",
     "output_type": "stream",
     "text": [
      "Epoch: 200   train/loss: 4.7798   valid/loss: 43.6897   train/acc: 0.75   valid/acc: 0.3125\n",
      "Epoch: 400   train/loss: 4.5842   valid/loss: 47.4288   train/acc: 0.7812   valid/acc: 0.3125\n",
      "Epoch: 600   train/loss: 4.6803   valid/loss: 48.6488   train/acc: 0.7812   valid/acc: 0.3125\n",
      "Epoch: 800   train/loss: 4.5137   valid/loss: 49.982   train/acc: 0.75   valid/acc: 0.2917\n",
      "Epoch: 1000   train/loss: 4.4807   valid/loss: 52.7681   train/acc: 0.7812   valid/acc: 0.3125\n",
      "Epoch: 1200   train/loss: 4.3138   valid/loss: 51.5862   train/acc: 0.7812   valid/acc: 0.3125\n",
      "Epoch: 1400   train/loss: 4.3756   valid/loss: 50.0829   train/acc: 0.8125   valid/acc: 0.3125\n",
      "Epoch: 1600   train/loss: 4.5078   valid/loss: 52.1471   train/acc: 0.7812   valid/acc: 0.3125\n",
      "Epoch: 1800   train/loss: 4.422   valid/loss: 55.0034   train/acc: 0.8125   valid/acc: 0.3021\n",
      "Epoch: 2000   train/loss: 4.3778   valid/loss: 54.5521   train/acc: 0.8125   valid/acc: 0.3125\n",
      "Epoch: 2200   train/loss: 4.3788   valid/loss: 51.2633   train/acc: 0.7812   valid/acc: 0.3229\n",
      "Epoch: 2400   train/loss: 4.3951   valid/loss: 52.364   train/acc: 0.8125   valid/acc: 0.3229\n",
      "Epoch: 2600   train/loss: 4.2082   valid/loss: 52.1055   train/acc: 0.8125   valid/acc: 0.3229\n",
      "Epoch: 2800   train/loss: 4.2908   valid/loss: 55.6586   train/acc: 0.8125   valid/acc: 0.3229\n",
      "Epoch: 3000   train/loss: 4.3922   valid/loss: 53.9069   train/acc: 0.8125   valid/acc: 0.3229\n",
      "Epoch: 3200   train/loss: 4.3442   valid/loss: 51.6486   train/acc: 0.8125   valid/acc: 0.3229\n",
      "Epoch: 3400   train/loss: 4.0327   valid/loss: 54.4952   train/acc: 0.8125   valid/acc: 0.3229\n",
      "Epoch: 3600   train/loss: 4.2789   valid/loss: 53.118   train/acc: 0.8125   valid/acc: 0.2917\n",
      "Epoch: 3800   train/loss: 4.2128   valid/loss: 53.8157   train/acc: 0.8125   valid/acc: 0.3021\n",
      "Epoch: 4000   train/loss: 4.21   valid/loss: 53.866   train/acc: 0.8125   valid/acc: 0.2917\n"
     ]
    },
    {
     "name": "stdout",
     "output_type": "stream",
     "text": [
      "Test accuracy: 0.2608695652173913\n",
      "Progress:  0.074\n",
      "Number of training circuits: 33   Number of validation circuits: 96   Number of test circuits: 92   Number of parameters in model: 219\n"
     ]
    },
    {
     "name": "stderr",
     "output_type": "stream",
     "text": [
      "Epoch: 200   train/loss: 5.389   valid/loss: 46.9904   train/acc: 0.7576   valid/acc: 0.3125\n",
      "Epoch: 400   train/loss: 5.3987   valid/loss: 44.5495   train/acc: 0.7273   valid/acc: 0.3646\n",
      "Epoch: 600   train/loss: 4.9461   valid/loss: 46.0093   train/acc: 0.7273   valid/acc: 0.3542\n",
      "Epoch: 800   train/loss: 5.0547   valid/loss: 48.3564   train/acc: 0.7576   valid/acc: 0.3333\n",
      "Epoch: 1000   train/loss: 4.8349   valid/loss: 49.6534   train/acc: 0.7576   valid/acc: 0.3125\n",
      "Epoch: 1200   train/loss: 4.8439   valid/loss: 52.0723   train/acc: 0.7576   valid/acc: 0.2812\n",
      "Epoch: 1400   train/loss: 5.0758   valid/loss: 52.1754   train/acc: 0.7576   valid/acc: 0.2812\n",
      "Epoch: 1600   train/loss: 4.6587   valid/loss: 52.1392   train/acc: 0.7576   valid/acc: 0.2708\n",
      "Epoch: 1800   train/loss: 4.9797   valid/loss: 53.346   train/acc: 0.7576   valid/acc: 0.2708\n",
      "Epoch: 2000   train/loss: 4.6522   valid/loss: 53.077   train/acc: 0.7576   valid/acc: 0.2917\n",
      "Epoch: 2200   train/loss: 4.7427   valid/loss: 54.5127   train/acc: 0.7879   valid/acc: 0.2708\n",
      "Epoch: 2400   train/loss: 4.7539   valid/loss: 53.7282   train/acc: 0.7576   valid/acc: 0.2917\n",
      "Epoch: 2600   train/loss: 4.8329   valid/loss: 59.2041   train/acc: 0.7576   valid/acc: 0.2917\n",
      "Epoch: 2800   train/loss: 5.0106   valid/loss: 51.9774   train/acc: 0.7576   valid/acc: 0.2917\n",
      "Epoch: 3000   train/loss: 4.8214   valid/loss: 52.0398   train/acc: 0.7576   valid/acc: 0.2917\n",
      "Epoch: 3200   train/loss: 4.8208   valid/loss: 53.2115   train/acc: 0.7273   valid/acc: 0.2917\n",
      "Epoch: 3400   train/loss: 4.9161   valid/loss: 56.6067   train/acc: 0.7273   valid/acc: 0.2917\n",
      "Epoch: 3600   train/loss: 4.5766   valid/loss: 57.43   train/acc: 0.7879   valid/acc: 0.2917\n",
      "Epoch: 3800   train/loss: 4.626   valid/loss: 54.2918   train/acc: 0.7576   valid/acc: 0.3125\n",
      "Epoch: 4000   train/loss: 4.684   valid/loss: 55.8951   train/acc: 0.7576   valid/acc: 0.2708\n"
     ]
    },
    {
     "name": "stdout",
     "output_type": "stream",
     "text": [
      "Test accuracy: 0.29347826086956524\n",
      "Progress:  0.076\n",
      "Number of training circuits: 34   Number of validation circuits: 96   Number of test circuits: 92   Number of parameters in model: 219\n"
     ]
    },
    {
     "name": "stderr",
     "output_type": "stream",
     "text": [
      "Epoch: 200   train/loss: 5.3654   valid/loss: 41.8127   train/acc: 0.7647   valid/acc: 0.3854\n",
      "Epoch: 400   train/loss: 5.252   valid/loss: 45.0936   train/acc: 0.7941   valid/acc: 0.375\n",
      "Epoch: 600   train/loss: 5.0104   valid/loss: 45.2168   train/acc: 0.7941   valid/acc: 0.3542\n",
      "Epoch: 800   train/loss: 5.0266   valid/loss: 44.8924   train/acc: 0.7941   valid/acc: 0.3854\n",
      "Epoch: 1000   train/loss: 5.0665   valid/loss: 45.2633   train/acc: 0.7353   valid/acc: 0.3542\n",
      "Epoch: 1200   train/loss: 5.0483   valid/loss: 46.6575   train/acc: 0.7353   valid/acc: 0.3438\n",
      "Epoch: 1400   train/loss: 4.9464   valid/loss: 49.3886   train/acc: 0.7647   valid/acc: 0.3125\n",
      "Epoch: 1600   train/loss: 4.7877   valid/loss: 47.8611   train/acc: 0.7647   valid/acc: 0.3646\n",
      "Epoch: 1800   train/loss: 4.7991   valid/loss: 48.9327   train/acc: 0.7647   valid/acc: 0.3229\n",
      "Epoch: 2000   train/loss: 4.8675   valid/loss: 48.2683   train/acc: 0.7941   valid/acc: 0.3333\n",
      "Epoch: 2200   train/loss: 4.889   valid/loss: 51.2667   train/acc: 0.7941   valid/acc: 0.3229\n",
      "Epoch: 2400   train/loss: 5.0032   valid/loss: 49.818   train/acc: 0.7647   valid/acc: 0.3333\n",
      "Epoch: 2600   train/loss: 4.6127   valid/loss: 48.8702   train/acc: 0.7941   valid/acc: 0.3333\n",
      "Epoch: 2800   train/loss: 4.8634   valid/loss: 49.5483   train/acc: 0.7353   valid/acc: 0.3125\n",
      "Epoch: 3000   train/loss: 4.8916   valid/loss: 52.3109   train/acc: 0.7647   valid/acc: 0.3125\n",
      "Epoch: 3200   train/loss: 4.761   valid/loss: 53.8776   train/acc: 0.7647   valid/acc: 0.3125\n",
      "Epoch: 3400   train/loss: 4.8084   valid/loss: 52.9355   train/acc: 0.7941   valid/acc: 0.3125\n",
      "Epoch: 3600   train/loss: 4.644   valid/loss: 51.309   train/acc: 0.7647   valid/acc: 0.3125\n",
      "Epoch: 3800   train/loss: 4.7756   valid/loss: 49.4205   train/acc: 0.7941   valid/acc: 0.3333\n",
      "Epoch: 4000   train/loss: 4.8311   valid/loss: 51.1339   train/acc: 0.7941   valid/acc: 0.3125\n"
     ]
    },
    {
     "name": "stdout",
     "output_type": "stream",
     "text": [
      "Test accuracy: 0.29347826086956524\n",
      "Progress:  0.078\n",
      "Number of training circuits: 35   Number of validation circuits: 97   Number of test circuits: 96   Number of parameters in model: 225\n"
     ]
    },
    {
     "name": "stderr",
     "output_type": "stream",
     "text": [
      "Epoch: 200   train/loss: 5.7558   valid/loss: 39.604   train/acc: 0.7143   valid/acc: 0.3505\n",
      "Epoch: 400   train/loss: 5.5933   valid/loss: 44.1584   train/acc: 0.7429   valid/acc: 0.299\n",
      "Epoch: 600   train/loss: 5.1394   valid/loss: 46.1907   train/acc: 0.7714   valid/acc: 0.3299\n",
      "Epoch: 800   train/loss: 5.3963   valid/loss: 46.6415   train/acc: 0.7429   valid/acc: 0.3093\n",
      "Epoch: 1000   train/loss: 5.3074   valid/loss: 49.0705   train/acc: 0.7714   valid/acc: 0.3093\n",
      "Epoch: 1200   train/loss: 5.1359   valid/loss: 48.2068   train/acc: 0.7714   valid/acc: 0.3196\n",
      "Epoch: 1400   train/loss: 5.2003   valid/loss: 47.915   train/acc: 0.7714   valid/acc: 0.3093\n",
      "Epoch: 1600   train/loss: 5.1493   valid/loss: 49.4366   train/acc: 0.7714   valid/acc: 0.299\n",
      "Epoch: 1800   train/loss: 5.0713   valid/loss: 51.5198   train/acc: 0.7429   valid/acc: 0.2887\n",
      "Epoch: 2000   train/loss: 5.256   valid/loss: 50.5538   train/acc: 0.7714   valid/acc: 0.2784\n",
      "Epoch: 2200   train/loss: 5.17   valid/loss: 50.2416   train/acc: 0.7429   valid/acc: 0.2887\n",
      "Epoch: 2400   train/loss: 5.0057   valid/loss: 50.3833   train/acc: 0.7714   valid/acc: 0.2887\n",
      "Epoch: 2600   train/loss: 5.0823   valid/loss: 49.7919   train/acc: 0.7714   valid/acc: 0.2887\n",
      "Epoch: 2800   train/loss: 4.9421   valid/loss: 50.4132   train/acc: 0.8   valid/acc: 0.2887\n",
      "Epoch: 3000   train/loss: 5.0658   valid/loss: 49.38   train/acc: 0.7714   valid/acc: 0.3093\n",
      "Epoch: 3200   train/loss: 5.0231   valid/loss: 50.0257   train/acc: 0.7714   valid/acc: 0.2887\n",
      "Epoch: 3400   train/loss: 5.0025   valid/loss: 49.9831   train/acc: 0.8   valid/acc: 0.2784\n",
      "Epoch: 3600   train/loss: 5.0309   valid/loss: 52.0475   train/acc: 0.8   valid/acc: 0.3093\n",
      "Epoch: 3800   train/loss: 4.8632   valid/loss: 49.4329   train/acc: 0.8   valid/acc: 0.2887\n",
      "Epoch: 4000   train/loss: 4.9699   valid/loss: 51.4096   train/acc: 0.8   valid/acc: 0.2784\n"
     ]
    },
    {
     "name": "stdout",
     "output_type": "stream",
     "text": [
      "Test accuracy: 0.34375\n",
      "Progress:  0.08\n",
      "Number of training circuits: 36   Number of validation circuits: 97   Number of test circuits: 96   Number of parameters in model: 225\n"
     ]
    },
    {
     "name": "stderr",
     "output_type": "stream",
     "text": [
      "Epoch: 200   train/loss: 6.0688   valid/loss: 45.7305   train/acc: 0.7778   valid/acc: 0.3711\n",
      "Epoch: 400   train/loss: 5.847   valid/loss: 45.1451   train/acc: 0.7222   valid/acc: 0.3505\n",
      "Epoch: 600   train/loss: 5.8114   valid/loss: 45.3036   train/acc: 0.7778   valid/acc: 0.3402\n",
      "Epoch: 800   train/loss: 5.9751   valid/loss: 46.363   train/acc: 0.7778   valid/acc: 0.3505\n",
      "Epoch: 1000   train/loss: 5.5322   valid/loss: 48.1103   train/acc: 0.7778   valid/acc: 0.3402\n",
      "Epoch: 1200   train/loss: 5.6521   valid/loss: 52.2556   train/acc: 0.75   valid/acc: 0.3505\n",
      "Epoch: 1400   train/loss: 5.4203   valid/loss: 46.167   train/acc: 0.75   valid/acc: 0.3505\n",
      "Epoch: 1600   train/loss: 5.812   valid/loss: 49.6062   train/acc: 0.75   valid/acc: 0.3711\n",
      "Epoch: 1800   train/loss: 5.6041   valid/loss: 48.9053   train/acc: 0.75   valid/acc: 0.3402\n",
      "Epoch: 2000   train/loss: 5.2981   valid/loss: 47.6442   train/acc: 0.7778   valid/acc: 0.3711\n",
      "Epoch: 2200   train/loss: 5.2516   valid/loss: 48.2813   train/acc: 0.7778   valid/acc: 0.3711\n",
      "Epoch: 2400   train/loss: 5.4481   valid/loss: 47.8341   train/acc: 0.7778   valid/acc: 0.3711\n",
      "Epoch: 2600   train/loss: 5.4593   valid/loss: 51.6075   train/acc: 0.7778   valid/acc: 0.3711\n",
      "Epoch: 2800   train/loss: 5.5093   valid/loss: 50.7879   train/acc: 0.7778   valid/acc: 0.3711\n",
      "Epoch: 3000   train/loss: 5.4681   valid/loss: 49.6071   train/acc: 0.7778   valid/acc: 0.3711\n",
      "Epoch: 3200   train/loss: 5.3406   valid/loss: 51.1435   train/acc: 0.7778   valid/acc: 0.3505\n",
      "Epoch: 3400   train/loss: 5.3995   valid/loss: 50.2282   train/acc: 0.75   valid/acc: 0.3711\n",
      "Epoch: 3600   train/loss: 5.5122   valid/loss: 49.2281   train/acc: 0.7778   valid/acc: 0.3505\n",
      "Epoch: 3800   train/loss: 5.2345   valid/loss: 49.1269   train/acc: 0.7778   valid/acc: 0.3505\n",
      "Epoch: 4000   train/loss: 5.1001   valid/loss: 48.8077   train/acc: 0.7778   valid/acc: 0.3505\n"
     ]
    },
    {
     "name": "stdout",
     "output_type": "stream",
     "text": [
      "Test accuracy: 0.3541666666666667\n",
      "Progress:  0.083\n",
      "Number of training circuits: 37   Number of validation circuits: 97   Number of test circuits: 96   Number of parameters in model: 225\n"
     ]
    },
    {
     "name": "stderr",
     "output_type": "stream",
     "text": [
      "Epoch: 200   train/loss: 6.4661   valid/loss: 43.9327   train/acc: 0.7297   valid/acc: 0.3299\n",
      "Epoch: 400   train/loss: 6.224   valid/loss: 47.391   train/acc: 0.7568   valid/acc: 0.3505\n",
      "Epoch: 600   train/loss: 6.0495   valid/loss: 46.3994   train/acc: 0.7568   valid/acc: 0.3196\n",
      "Epoch: 800   train/loss: 5.5988   valid/loss: 51.2427   train/acc: 0.7568   valid/acc: 0.3402\n",
      "Epoch: 1000   train/loss: 6.0487   valid/loss: 49.5572   train/acc: 0.7568   valid/acc: 0.3196\n",
      "Epoch: 1200   train/loss: 5.886   valid/loss: 53.2291   train/acc: 0.7568   valid/acc: 0.3196\n",
      "Epoch: 1400   train/loss: 5.5989   valid/loss: 52.7455   train/acc: 0.7568   valid/acc: 0.3196\n",
      "Epoch: 1600   train/loss: 5.8503   valid/loss: 47.4119   train/acc: 0.7568   valid/acc: 0.3402\n",
      "Epoch: 1800   train/loss: 5.7907   valid/loss: 50.7521   train/acc: 0.7568   valid/acc: 0.3505\n",
      "Epoch: 2000   train/loss: 5.8478   valid/loss: 51.0569   train/acc: 0.7568   valid/acc: 0.3402\n",
      "Epoch: 2200   train/loss: 5.7962   valid/loss: 50.7619   train/acc: 0.7568   valid/acc: 0.3196\n",
      "Epoch: 2400   train/loss: 5.6203   valid/loss: 50.3655   train/acc: 0.7568   valid/acc: 0.3505\n",
      "Epoch: 2600   train/loss: 5.5498   valid/loss: 49.3496   train/acc: 0.7568   valid/acc: 0.3505\n",
      "Epoch: 2800   train/loss: 5.7755   valid/loss: 51.245   train/acc: 0.7568   valid/acc: 0.3402\n",
      "Epoch: 3000   train/loss: 5.3382   valid/loss: 49.5505   train/acc: 0.7568   valid/acc: 0.3505\n",
      "Epoch: 3200   train/loss: 5.6885   valid/loss: 50.6104   train/acc: 0.7568   valid/acc: 0.3196\n",
      "Epoch: 3400   train/loss: 5.7038   valid/loss: 50.939   train/acc: 0.7568   valid/acc: 0.3299\n",
      "Epoch: 3600   train/loss: 5.35   valid/loss: 52.38   train/acc: 0.7568   valid/acc: 0.3299\n",
      "Epoch: 3800   train/loss: 5.5526   valid/loss: 50.9333   train/acc: 0.7297   valid/acc: 0.3299\n",
      "Epoch: 4000   train/loss: 5.5983   valid/loss: 56.0716   train/acc: 0.7568   valid/acc: 0.3505\n"
     ]
    },
    {
     "name": "stdout",
     "output_type": "stream",
     "text": [
      "Test accuracy: 0.3333333333333333\n",
      "Progress:  0.085\n",
      "Number of training circuits: 38   Number of validation circuits: 97   Number of test circuits: 96   Number of parameters in model: 225\n"
     ]
    },
    {
     "name": "stderr",
     "output_type": "stream",
     "text": [
      "Epoch: 200   train/loss: 6.8876   valid/loss: 38.9881   train/acc: 0.7105   valid/acc: 0.3093\n",
      "Epoch: 400   train/loss: 6.2922   valid/loss: 41.1761   train/acc: 0.7105   valid/acc: 0.3402\n",
      "Epoch: 600   train/loss: 6.1219   valid/loss: 45.8406   train/acc: 0.7632   valid/acc: 0.3402\n",
      "Epoch: 800   train/loss: 5.9695   valid/loss: 50.9664   train/acc: 0.7632   valid/acc: 0.3093\n",
      "Epoch: 1000   train/loss: 5.8284   valid/loss: 49.4751   train/acc: 0.7632   valid/acc: 0.3196\n",
      "Epoch: 1200   train/loss: 5.7774   valid/loss: 48.4502   train/acc: 0.7632   valid/acc: 0.3402\n",
      "Epoch: 1400   train/loss: 5.8185   valid/loss: 50.6472   train/acc: 0.7632   valid/acc: 0.3299\n",
      "Epoch: 1600   train/loss: 5.8533   valid/loss: 51.4102   train/acc: 0.7105   valid/acc: 0.299\n",
      "Epoch: 1800   train/loss: 5.9901   valid/loss: 52.417   train/acc: 0.7368   valid/acc: 0.3093\n",
      "Epoch: 2000   train/loss: 5.8657   valid/loss: 51.6496   train/acc: 0.7368   valid/acc: 0.3196\n",
      "Epoch: 2200   train/loss: 5.7119   valid/loss: 50.2821   train/acc: 0.7632   valid/acc: 0.3299\n",
      "Epoch: 2400   train/loss: 5.5371   valid/loss: 51.4612   train/acc: 0.7368   valid/acc: 0.3299\n",
      "Epoch: 2600   train/loss: 5.372   valid/loss: 53.2191   train/acc: 0.7632   valid/acc: 0.3505\n",
      "Epoch: 2800   train/loss: 5.5731   valid/loss: 55.1117   train/acc: 0.7632   valid/acc: 0.3402\n",
      "Epoch: 3000   train/loss: 5.5546   valid/loss: 52.4758   train/acc: 0.7368   valid/acc: 0.3093\n",
      "Epoch: 3200   train/loss: 5.6214   valid/loss: 52.8609   train/acc: 0.7632   valid/acc: 0.3093\n",
      "Epoch: 3400   train/loss: 5.4956   valid/loss: 55.2157   train/acc: 0.7632   valid/acc: 0.3093\n",
      "Epoch: 3600   train/loss: 5.8095   valid/loss: 54.5546   train/acc: 0.7105   valid/acc: 0.3196\n",
      "Epoch: 3800   train/loss: 5.4528   valid/loss: 55.5309   train/acc: 0.7105   valid/acc: 0.3299\n",
      "Epoch: 4000   train/loss: 5.5719   valid/loss: 55.0707   train/acc: 0.7632   valid/acc: 0.3196\n"
     ]
    },
    {
     "name": "stdout",
     "output_type": "stream",
     "text": [
      "Test accuracy: 0.3229166666666667\n",
      "Progress:  0.087\n",
      "Number of training circuits: 39   Number of validation circuits: 101   Number of test circuits: 101   Number of parameters in model: 228\n"
     ]
    },
    {
     "name": "stderr",
     "output_type": "stream",
     "text": [
      "Epoch: 200   train/loss: 6.6506   valid/loss: 51.6374   train/acc: 0.6923   valid/acc: 0.3267\n",
      "Epoch: 400   train/loss: 6.346   valid/loss: 48.1005   train/acc: 0.7179   valid/acc: 0.3267\n",
      "Epoch: 600   train/loss: 6.2946   valid/loss: 56.9448   train/acc: 0.7179   valid/acc: 0.3267\n",
      "Epoch: 800   train/loss: 6.08   valid/loss: 58.3628   train/acc: 0.7179   valid/acc: 0.3267\n",
      "Epoch: 1000   train/loss: 5.9959   valid/loss: 57.2603   train/acc: 0.7436   valid/acc: 0.3366\n",
      "Epoch: 1200   train/loss: 5.8745   valid/loss: 55.8923   train/acc: 0.7436   valid/acc: 0.3267\n",
      "Epoch: 1400   train/loss: 6.0043   valid/loss: 56.38   train/acc: 0.7179   valid/acc: 0.3267\n",
      "Epoch: 1600   train/loss: 5.9858   valid/loss: 55.7706   train/acc: 0.7436   valid/acc: 0.3267\n",
      "Epoch: 1800   train/loss: 6.0167   valid/loss: 55.7839   train/acc: 0.7179   valid/acc: 0.3267\n",
      "Epoch: 2000   train/loss: 5.7873   valid/loss: 54.4009   train/acc: 0.7179   valid/acc: 0.3267\n",
      "Epoch: 2200   train/loss: 5.8524   valid/loss: 54.6075   train/acc: 0.6667   valid/acc: 0.3267\n",
      "Epoch: 2400   train/loss: 5.7606   valid/loss: 60.4407   train/acc: 0.7436   valid/acc: 0.3168\n",
      "Epoch: 2600   train/loss: 5.6712   valid/loss: 59.2643   train/acc: 0.7179   valid/acc: 0.3168\n",
      "Epoch: 2800   train/loss: 5.7812   valid/loss: 53.4884   train/acc: 0.7436   valid/acc: 0.3168\n",
      "Epoch: 3000   train/loss: 5.8161   valid/loss: 53.1759   train/acc: 0.7692   valid/acc: 0.3168\n",
      "Epoch: 3200   train/loss: 5.699   valid/loss: 54.6809   train/acc: 0.7436   valid/acc: 0.3168\n",
      "Epoch: 3400   train/loss: 5.8755   valid/loss: 54.849   train/acc: 0.7179   valid/acc: 0.3168\n",
      "Epoch: 3600   train/loss: 5.6507   valid/loss: 56.8851   train/acc: 0.7436   valid/acc: 0.3168\n",
      "Epoch: 3800   train/loss: 5.7049   valid/loss: 57.0901   train/acc: 0.7436   valid/acc: 0.3168\n",
      "Epoch: 4000   train/loss: 5.6827   valid/loss: 55.7545   train/acc: 0.7179   valid/acc: 0.3168\n"
     ]
    },
    {
     "name": "stdout",
     "output_type": "stream",
     "text": [
      "Test accuracy: 0.31683168316831684\n",
      "Progress:  0.089\n",
      "Number of training circuits: 40   Number of validation circuits: 104   Number of test circuits: 104   Number of parameters in model: 231\n"
     ]
    },
    {
     "name": "stderr",
     "output_type": "stream",
     "text": [
      "Epoch: 200   train/loss: 7.339   valid/loss: 48.9188   train/acc: 0.725   valid/acc: 0.2596\n",
      "Epoch: 400   train/loss: 6.702   valid/loss: 49.94   train/acc: 0.725   valid/acc: 0.2885\n",
      "Epoch: 600   train/loss: 6.6072   valid/loss: 48.5945   train/acc: 0.7   valid/acc: 0.2885\n",
      "Epoch: 800   train/loss: 6.3812   valid/loss: 49.3018   train/acc: 0.725   valid/acc: 0.2788\n",
      "Epoch: 1000   train/loss: 6.25   valid/loss: 49.2986   train/acc: 0.7   valid/acc: 0.2788\n",
      "Epoch: 1200   train/loss: 6.0297   valid/loss: 49.504   train/acc: 0.725   valid/acc: 0.2981\n",
      "Epoch: 1400   train/loss: 6.085   valid/loss: 51.3446   train/acc: 0.725   valid/acc: 0.2885\n",
      "Epoch: 1600   train/loss: 6.3002   valid/loss: 51.9003   train/acc: 0.7   valid/acc: 0.2885\n",
      "Epoch: 1800   train/loss: 5.9159   valid/loss: 51.4677   train/acc: 0.75   valid/acc: 0.2981\n",
      "Epoch: 2000   train/loss: 6.0386   valid/loss: 54.4558   train/acc: 0.75   valid/acc: 0.2981\n",
      "Epoch: 2200   train/loss: 6.1152   valid/loss: 54.0797   train/acc: 0.675   valid/acc: 0.2692\n",
      "Epoch: 2400   train/loss: 5.8489   valid/loss: 59.9439   train/acc: 0.725   valid/acc: 0.2788\n",
      "Epoch: 2600   train/loss: 6.1376   valid/loss: 55.3588   train/acc: 0.675   valid/acc: 0.2788\n",
      "Epoch: 2800   train/loss: 5.9429   valid/loss: 54.2097   train/acc: 0.75   valid/acc: 0.2788\n",
      "Epoch: 3000   train/loss: 6.0399   valid/loss: 54.2214   train/acc: 0.75   valid/acc: 0.2788\n",
      "Epoch: 3200   train/loss: 5.7605   valid/loss: 56.8398   train/acc: 0.75   valid/acc: 0.2885\n",
      "Epoch: 3400   train/loss: 5.8959   valid/loss: 56.8308   train/acc: 0.75   valid/acc: 0.2885\n",
      "Epoch: 3600   train/loss: 6.0615   valid/loss: 62.9095   train/acc: 0.75   valid/acc: 0.3077\n",
      "Epoch: 3800   train/loss: 6.1768   valid/loss: 61.2972   train/acc: 0.725   valid/acc: 0.2981\n",
      "Epoch: 4000   train/loss: 5.7502   valid/loss: 59.8362   train/acc: 0.75   valid/acc: 0.2981\n"
     ]
    },
    {
     "name": "stdout",
     "output_type": "stream",
     "text": [
      "Test accuracy: 0.375\n",
      "Progress:  0.092\n",
      "Number of training circuits: 41   Number of validation circuits: 104   Number of test circuits: 104   Number of parameters in model: 231\n"
     ]
    },
    {
     "name": "stderr",
     "output_type": "stream",
     "text": [
      "Epoch: 200   train/loss: 6.8969   valid/loss: 44.5079   train/acc: 0.7073   valid/acc: 0.3077\n",
      "Epoch: 400   train/loss: 6.7088   valid/loss: 49.108   train/acc: 0.7317   valid/acc: 0.3173\n",
      "Epoch: 600   train/loss: 6.6983   valid/loss: 47.8107   train/acc: 0.7317   valid/acc: 0.3173\n",
      "Epoch: 800   train/loss: 6.7591   valid/loss: 51.3523   train/acc: 0.7073   valid/acc: 0.2885\n",
      "Epoch: 1000   train/loss: 6.4574   valid/loss: 47.8993   train/acc: 0.7317   valid/acc: 0.2981\n",
      "Epoch: 1200   train/loss: 6.6534   valid/loss: 50.1427   train/acc: 0.7073   valid/acc: 0.3269\n",
      "Epoch: 1400   train/loss: 6.1125   valid/loss: 50.1797   train/acc: 0.7317   valid/acc: 0.2981\n",
      "Epoch: 1600   train/loss: 6.0662   valid/loss: 50.3532   train/acc: 0.7561   valid/acc: 0.3077\n",
      "Epoch: 1800   train/loss: 6.0017   valid/loss: 51.1948   train/acc: 0.7317   valid/acc: 0.2981\n",
      "Epoch: 2000   train/loss: 6.011   valid/loss: 51.6374   train/acc: 0.7561   valid/acc: 0.2885\n",
      "Epoch: 2200   train/loss: 6.0386   valid/loss: 53.0722   train/acc: 0.7317   valid/acc: 0.2981\n",
      "Epoch: 2400   train/loss: 6.0915   valid/loss: 52.979   train/acc: 0.7561   valid/acc: 0.2885\n",
      "Epoch: 2600   train/loss: 5.913   valid/loss: 53.7438   train/acc: 0.7317   valid/acc: 0.2885\n",
      "Epoch: 2800   train/loss: 6.1175   valid/loss: 53.2901   train/acc: 0.7561   valid/acc: 0.3077\n",
      "Epoch: 3000   train/loss: 6.1752   valid/loss: 54.973   train/acc: 0.7561   valid/acc: 0.2788\n",
      "Epoch: 3200   train/loss: 5.8752   valid/loss: 54.7729   train/acc: 0.7317   valid/acc: 0.2788\n",
      "Epoch: 3400   train/loss: 5.9888   valid/loss: 54.2244   train/acc: 0.7561   valid/acc: 0.2788\n",
      "Epoch: 3600   train/loss: 5.9601   valid/loss: 55.4262   train/acc: 0.7561   valid/acc: 0.2788\n",
      "Epoch: 3800   train/loss: 6.1798   valid/loss: 54.7516   train/acc: 0.7073   valid/acc: 0.2981\n",
      "Epoch: 4000   train/loss: 6.1496   valid/loss: 53.2173   train/acc: 0.7561   valid/acc: 0.2885\n"
     ]
    },
    {
     "name": "stdout",
     "output_type": "stream",
     "text": [
      "Test accuracy: 0.33653846153846156\n",
      "Progress:  0.094\n",
      "Number of training circuits: 42   Number of validation circuits: 104   Number of test circuits: 104   Number of parameters in model: 231\n"
     ]
    },
    {
     "name": "stderr",
     "output_type": "stream",
     "text": [
      "Epoch: 200   train/loss: 8.2428   valid/loss: 43.5272   train/acc: 0.6429   valid/acc: 0.3173\n",
      "Epoch: 400   train/loss: 7.2036   valid/loss: 53.6352   train/acc: 0.6667   valid/acc: 0.3077\n",
      "Epoch: 600   train/loss: 7.0142   valid/loss: 49.3544   train/acc: 0.6905   valid/acc: 0.3365\n",
      "Epoch: 800   train/loss: 6.744   valid/loss: 48.288   train/acc: 0.6905   valid/acc: 0.3173\n",
      "Epoch: 1000   train/loss: 6.8273   valid/loss: 50.8388   train/acc: 0.7619   valid/acc: 0.3269\n",
      "Epoch: 1200   train/loss: 6.7197   valid/loss: 54.019   train/acc: 0.7381   valid/acc: 0.3365\n",
      "Epoch: 1400   train/loss: 6.7988   valid/loss: 53.0569   train/acc: 0.7619   valid/acc: 0.3365\n",
      "Epoch: 1600   train/loss: 6.4765   valid/loss: 54.3954   train/acc: 0.7619   valid/acc: 0.3269\n",
      "Epoch: 1800   train/loss: 6.531   valid/loss: 55.9838   train/acc: 0.7381   valid/acc: 0.3173\n",
      "Epoch: 2000   train/loss: 6.3626   valid/loss: 58.0807   train/acc: 0.7381   valid/acc: 0.3077\n",
      "Epoch: 2200   train/loss: 6.4908   valid/loss: 53.6595   train/acc: 0.7381   valid/acc: 0.3269\n",
      "Epoch: 2400   train/loss: 6.2839   valid/loss: 57.0512   train/acc: 0.7381   valid/acc: 0.3173\n",
      "Epoch: 2600   train/loss: 6.2861   valid/loss: 54.4502   train/acc: 0.7381   valid/acc: 0.3077\n",
      "Epoch: 2800   train/loss: 6.3557   valid/loss: 54.1792   train/acc: 0.7143   valid/acc: 0.2981\n",
      "Epoch: 3000   train/loss: 6.2043   valid/loss: 56.7984   train/acc: 0.7381   valid/acc: 0.2885\n",
      "Epoch: 3200   train/loss: 6.4741   valid/loss: 58.4334   train/acc: 0.7381   valid/acc: 0.3269\n",
      "Epoch: 3400   train/loss: 6.5847   valid/loss: 54.9849   train/acc: 0.6905   valid/acc: 0.3269\n",
      "Epoch: 3600   train/loss: 6.2139   valid/loss: 56.1597   train/acc: 0.7381   valid/acc: 0.3269\n",
      "Epoch: 3800   train/loss: 6.1341   valid/loss: 57.6853   train/acc: 0.6905   valid/acc: 0.3269\n",
      "Epoch: 4000   train/loss: 6.1561   valid/loss: 60.0337   train/acc: 0.7619   valid/acc: 0.3365\n"
     ]
    },
    {
     "name": "stdout",
     "output_type": "stream",
     "text": [
      "Test accuracy: 0.3269230769230769\n",
      "Progress:  0.096\n",
      "Number of training circuits: 43   Number of validation circuits: 104   Number of test circuits: 104   Number of parameters in model: 231\n"
     ]
    },
    {
     "name": "stderr",
     "output_type": "stream",
     "text": [
      "Epoch: 200   train/loss: 8.9397   valid/loss: 42.1573   train/acc: 0.6047   valid/acc: 0.2981\n",
      "Epoch: 400   train/loss: 8.1712   valid/loss: 45.6767   train/acc: 0.6744   valid/acc: 0.3173\n",
      "Epoch: 600   train/loss: 7.3529   valid/loss: 49.7037   train/acc: 0.6977   valid/acc: 0.3173\n",
      "Epoch: 800   train/loss: 7.4133   valid/loss: 47.8621   train/acc: 0.7209   valid/acc: 0.3077\n",
      "Epoch: 1000   train/loss: 7.3325   valid/loss: 49.5889   train/acc: 0.7442   valid/acc: 0.3173\n",
      "Epoch: 1200   train/loss: 7.2834   valid/loss: 48.8053   train/acc: 0.6977   valid/acc: 0.3173\n",
      "Epoch: 1400   train/loss: 6.9222   valid/loss: 46.8558   train/acc: 0.7442   valid/acc: 0.3173\n",
      "Epoch: 1600   train/loss: 6.7809   valid/loss: 49.8915   train/acc: 0.7209   valid/acc: 0.3173\n",
      "Epoch: 1800   train/loss: 7.185   valid/loss: 51.3242   train/acc: 0.7209   valid/acc: 0.3173\n",
      "Epoch: 2000   train/loss: 6.7091   valid/loss: 50.173   train/acc: 0.7209   valid/acc: 0.3077\n",
      "Epoch: 2200   train/loss: 7.2073   valid/loss: 48.2564   train/acc: 0.6977   valid/acc: 0.3365\n",
      "Epoch: 2400   train/loss: 6.7366   valid/loss: 48.9099   train/acc: 0.7209   valid/acc: 0.3173\n",
      "Epoch: 2600   train/loss: 6.926   valid/loss: 52.1374   train/acc: 0.7442   valid/acc: 0.3269\n",
      "Epoch: 2800   train/loss: 6.7579   valid/loss: 47.5613   train/acc: 0.7442   valid/acc: 0.3173\n",
      "Epoch: 3000   train/loss: 6.7294   valid/loss: 51.1896   train/acc: 0.7209   valid/acc: 0.3365\n",
      "Epoch: 3200   train/loss: 6.7604   valid/loss: 52.6057   train/acc: 0.7209   valid/acc: 0.3365\n",
      "Epoch: 3400   train/loss: 7.0283   valid/loss: 50.7249   train/acc: 0.6977   valid/acc: 0.3365\n",
      "Epoch: 3600   train/loss: 6.9245   valid/loss: 51.7488   train/acc: 0.7209   valid/acc: 0.3269\n",
      "Epoch: 3800   train/loss: 6.692   valid/loss: 50.6607   train/acc: 0.7209   valid/acc: 0.3269\n",
      "Epoch: 4000   train/loss: 6.7931   valid/loss: 49.6653   train/acc: 0.7442   valid/acc: 0.3269\n"
     ]
    },
    {
     "name": "stdout",
     "output_type": "stream",
     "text": [
      "Test accuracy: 0.375\n",
      "Progress:  0.098\n",
      "Number of training circuits: 44   Number of validation circuits: 104   Number of test circuits: 104   Number of parameters in model: 231\n"
     ]
    },
    {
     "name": "stderr",
     "output_type": "stream",
     "text": [
      "Epoch: 200   train/loss: 10.073   valid/loss: 42.554   train/acc: 0.6136   valid/acc: 0.3942\n",
      "Epoch: 400   train/loss: 8.5046   valid/loss: 41.4023   train/acc: 0.6591   valid/acc: 0.3654\n",
      "Epoch: 600   train/loss: 8.0558   valid/loss: 44.8609   train/acc: 0.7045   valid/acc: 0.3365\n",
      "Epoch: 800   train/loss: 8.0737   valid/loss: 45.8502   train/acc: 0.6818   valid/acc: 0.3558\n",
      "Epoch: 1000   train/loss: 7.4839   valid/loss: 43.9779   train/acc: 0.6591   valid/acc: 0.3558\n",
      "Epoch: 1200   train/loss: 7.6408   valid/loss: 45.2618   train/acc: 0.7045   valid/acc: 0.3462\n",
      "Epoch: 1400   train/loss: 7.5968   valid/loss: 45.1287   train/acc: 0.7045   valid/acc: 0.375\n",
      "Epoch: 1600   train/loss: 7.2578   valid/loss: 46.2151   train/acc: 0.6818   valid/acc: 0.3558\n",
      "Epoch: 1800   train/loss: 7.3048   valid/loss: 45.7852   train/acc: 0.7045   valid/acc: 0.3654\n",
      "Epoch: 2000   train/loss: 7.4851   valid/loss: 46.7987   train/acc: 0.7045   valid/acc: 0.3462\n",
      "Epoch: 2200   train/loss: 7.1302   valid/loss: 46.3041   train/acc: 0.6818   valid/acc: 0.3558\n",
      "Epoch: 2400   train/loss: 7.3496   valid/loss: 47.5543   train/acc: 0.7045   valid/acc: 0.3558\n",
      "Epoch: 2600   train/loss: 7.4145   valid/loss: 46.7784   train/acc: 0.7045   valid/acc: 0.3558\n",
      "Epoch: 2800   train/loss: 7.4388   valid/loss: 48.9471   train/acc: 0.7045   valid/acc: 0.3462\n",
      "Epoch: 3000   train/loss: 7.3419   valid/loss: 47.2895   train/acc: 0.7045   valid/acc: 0.3558\n",
      "Epoch: 3200   train/loss: 7.252   valid/loss: 49.8203   train/acc: 0.6818   valid/acc: 0.3462\n",
      "Epoch: 3400   train/loss: 7.109   valid/loss: 49.8378   train/acc: 0.7273   valid/acc: 0.3462\n",
      "Epoch: 3600   train/loss: 7.422   valid/loss: 49.2706   train/acc: 0.6818   valid/acc: 0.3462\n",
      "Epoch: 3800   train/loss: 6.9875   valid/loss: 47.4179   train/acc: 0.7045   valid/acc: 0.3558\n",
      "Epoch: 4000   train/loss: 6.8608   valid/loss: 47.7312   train/acc: 0.7045   valid/acc: 0.3558\n"
     ]
    },
    {
     "name": "stdout",
     "output_type": "stream",
     "text": [
      "Test accuracy: 0.2980769230769231\n",
      "Progress:  0.1\n",
      "Number of training circuits: 45   Number of validation circuits: 104   Number of test circuits: 104   Number of parameters in model: 231\n"
     ]
    },
    {
     "name": "stderr",
     "output_type": "stream",
     "text": [
      "Epoch: 200   train/loss: 8.9062   valid/loss: 39.658   train/acc: 0.6889   valid/acc: 0.3173\n",
      "Epoch: 400   train/loss: 8.2663   valid/loss: 40.4672   train/acc: 0.6889   valid/acc: 0.3462\n",
      "Epoch: 600   train/loss: 8.1815   valid/loss: 40.7348   train/acc: 0.7111   valid/acc: 0.375\n",
      "Epoch: 800   train/loss: 7.6251   valid/loss: 40.8096   train/acc: 0.7333   valid/acc: 0.375\n",
      "Epoch: 1000   train/loss: 7.4888   valid/loss: 43.4009   train/acc: 0.7333   valid/acc: 0.3269\n",
      "Epoch: 1200   train/loss: 7.5767   valid/loss: 43.3112   train/acc: 0.7111   valid/acc: 0.3462\n",
      "Epoch: 1400   train/loss: 7.4934   valid/loss: 44.3668   train/acc: 0.7111   valid/acc: 0.375\n",
      "Epoch: 1600   train/loss: 7.42   valid/loss: 45.4064   train/acc: 0.7111   valid/acc: 0.3173\n",
      "Epoch: 1800   train/loss: 7.6238   valid/loss: 45.8484   train/acc: 0.7111   valid/acc: 0.3269\n",
      "Epoch: 2000   train/loss: 7.3078   valid/loss: 45.5935   train/acc: 0.7333   valid/acc: 0.3269\n",
      "Epoch: 2200   train/loss: 7.2198   valid/loss: 45.7344   train/acc: 0.7333   valid/acc: 0.3269\n",
      "Epoch: 2400   train/loss: 7.1743   valid/loss: 46.3264   train/acc: 0.6889   valid/acc: 0.3173\n",
      "Epoch: 2600   train/loss: 7.7138   valid/loss: 46.3566   train/acc: 0.7333   valid/acc: 0.3173\n",
      "Epoch: 2800   train/loss: 7.4207   valid/loss: 48.1608   train/acc: 0.7111   valid/acc: 0.3173\n",
      "Epoch: 3000   train/loss: 7.2727   valid/loss: 45.5725   train/acc: 0.7333   valid/acc: 0.3462\n",
      "Epoch: 3200   train/loss: 7.0681   valid/loss: 45.8744   train/acc: 0.7556   valid/acc: 0.3269\n",
      "Epoch: 3400   train/loss: 6.9813   valid/loss: 45.6437   train/acc: 0.7556   valid/acc: 0.3462\n",
      "Epoch: 3600   train/loss: 6.9635   valid/loss: 46.0227   train/acc: 0.7556   valid/acc: 0.3173\n",
      "Epoch: 3800   train/loss: 7.5069   valid/loss: 46.3671   train/acc: 0.6889   valid/acc: 0.3558\n",
      "Epoch: 4000   train/loss: 7.2326   valid/loss: 46.5709   train/acc: 0.7333   valid/acc: 0.3558\n"
     ]
    },
    {
     "name": "stdout",
     "output_type": "stream",
     "text": [
      "Test accuracy: 0.33653846153846156\n",
      "Progress:  0.103\n",
      "Number of training circuits: 46   Number of validation circuits: 104   Number of test circuits: 104   Number of parameters in model: 231\n"
     ]
    },
    {
     "name": "stderr",
     "output_type": "stream",
     "text": [
      "Epoch: 200   train/loss: 9.929   valid/loss: 42.3889   train/acc: 0.6304   valid/acc: 0.3173\n",
      "Epoch: 400   train/loss: 8.8242   valid/loss: 41.9019   train/acc: 0.6957   valid/acc: 0.3269\n",
      "Epoch: 600   train/loss: 8.5133   valid/loss: 42.4348   train/acc: 0.6739   valid/acc: 0.3365\n",
      "Epoch: 800   train/loss: 8.0659   valid/loss: 45.7048   train/acc: 0.7174   valid/acc: 0.3173\n",
      "Epoch: 1000   train/loss: 8.3807   valid/loss: 44.8886   train/acc: 0.6739   valid/acc: 0.3173\n",
      "Epoch: 1200   train/loss: 8.1611   valid/loss: 44.9901   train/acc: 0.7174   valid/acc: 0.3269\n",
      "Epoch: 1400   train/loss: 8.0529   valid/loss: 46.3049   train/acc: 0.6957   valid/acc: 0.3077\n",
      "Epoch: 1600   train/loss: 7.6642   valid/loss: 46.1555   train/acc: 0.6957   valid/acc: 0.3077\n",
      "Epoch: 1800   train/loss: 7.5543   valid/loss: 45.4105   train/acc: 0.7174   valid/acc: 0.3077\n",
      "Epoch: 2000   train/loss: 8.2256   valid/loss: 46.0803   train/acc: 0.6304   valid/acc: 0.2981\n",
      "Epoch: 2200   train/loss: 7.7931   valid/loss: 46.7404   train/acc: 0.7391   valid/acc: 0.3077\n",
      "Epoch: 2400   train/loss: 8.0756   valid/loss: 46.1422   train/acc: 0.6522   valid/acc: 0.3077\n",
      "Epoch: 2600   train/loss: 7.3956   valid/loss: 46.7492   train/acc: 0.7174   valid/acc: 0.3077\n",
      "Epoch: 2800   train/loss: 7.4925   valid/loss: 47.3682   train/acc: 0.7391   valid/acc: 0.3077\n",
      "Epoch: 3000   train/loss: 7.7666   valid/loss: 47.6353   train/acc: 0.6957   valid/acc: 0.3077\n",
      "Epoch: 3200   train/loss: 7.3951   valid/loss: 46.5685   train/acc: 0.7391   valid/acc: 0.2981\n",
      "Epoch: 3400   train/loss: 7.5007   valid/loss: 48.142   train/acc: 0.7391   valid/acc: 0.2981\n",
      "Epoch: 3600   train/loss: 7.4867   valid/loss: 48.7888   train/acc: 0.6957   valid/acc: 0.2885\n",
      "Epoch: 3800   train/loss: 7.936   valid/loss: 46.4369   train/acc: 0.6522   valid/acc: 0.2885\n",
      "Epoch: 4000   train/loss: 7.7168   valid/loss: 46.8302   train/acc: 0.7391   valid/acc: 0.2885\n"
     ]
    },
    {
     "name": "stdout",
     "output_type": "stream",
     "text": [
      "Test accuracy: 0.34615384615384615\n",
      "Progress:  0.105\n",
      "Number of training circuits: 47   Number of validation circuits: 104   Number of test circuits: 104   Number of parameters in model: 231\n"
     ]
    },
    {
     "name": "stderr",
     "output_type": "stream",
     "text": [
      "Epoch: 200   train/loss: 10.1465   valid/loss: 39.3067   train/acc: 0.5957   valid/acc: 0.3269\n",
      "Epoch: 400   train/loss: 9.2855   valid/loss: 40.8044   train/acc: 0.6596   valid/acc: 0.375\n",
      "Epoch: 600   train/loss: 8.654   valid/loss: 46.5362   train/acc: 0.6809   valid/acc: 0.3462\n",
      "Epoch: 800   train/loss: 8.0448   valid/loss: 47.0652   train/acc: 0.6809   valid/acc: 0.3654\n",
      "Epoch: 1000   train/loss: 8.3528   valid/loss: 48.1639   train/acc: 0.6383   valid/acc: 0.3269\n",
      "Epoch: 1200   train/loss: 8.5667   valid/loss: 48.3816   train/acc: 0.7021   valid/acc: 0.3269\n",
      "Epoch: 1400   train/loss: 7.8573   valid/loss: 48.0571   train/acc: 0.7021   valid/acc: 0.3365\n",
      "Epoch: 1600   train/loss: 7.7947   valid/loss: 47.9887   train/acc: 0.7021   valid/acc: 0.3462\n",
      "Epoch: 1800   train/loss: 8.1894   valid/loss: 49.277   train/acc: 0.7021   valid/acc: 0.3462\n",
      "Epoch: 2000   train/loss: 8.1742   valid/loss: 47.4601   train/acc: 0.7234   valid/acc: 0.3462\n",
      "Epoch: 2200   train/loss: 7.9616   valid/loss: 48.1229   train/acc: 0.7021   valid/acc: 0.3462\n",
      "Epoch: 2400   train/loss: 7.8078   valid/loss: 49.893   train/acc: 0.6383   valid/acc: 0.3365\n",
      "Epoch: 2600   train/loss: 8.0924   valid/loss: 49.6233   train/acc: 0.7234   valid/acc: 0.3462\n",
      "Epoch: 2800   train/loss: 8.2577   valid/loss: 48.2262   train/acc: 0.7234   valid/acc: 0.3365\n",
      "Epoch: 3000   train/loss: 7.6479   valid/loss: 51.2031   train/acc: 0.7021   valid/acc: 0.3269\n",
      "Epoch: 3200   train/loss: 7.9502   valid/loss: 48.5476   train/acc: 0.7234   valid/acc: 0.3269\n",
      "Epoch: 3400   train/loss: 7.9969   valid/loss: 49.2759   train/acc: 0.7021   valid/acc: 0.3269\n",
      "Epoch: 3600   train/loss: 7.7147   valid/loss: 47.7398   train/acc: 0.7021   valid/acc: 0.3365\n",
      "Epoch: 3800   train/loss: 7.652   valid/loss: 49.2324   train/acc: 0.7234   valid/acc: 0.3269\n",
      "Epoch: 4000   train/loss: 8.0635   valid/loss: 49.1692   train/acc: 0.6809   valid/acc: 0.3365\n"
     ]
    },
    {
     "name": "stdout",
     "output_type": "stream",
     "text": [
      "Test accuracy: 0.38461538461538464\n",
      "Progress:  0.107\n",
      "Number of training circuits: 48   Number of validation circuits: 104   Number of test circuits: 104   Number of parameters in model: 231\n"
     ]
    },
    {
     "name": "stderr",
     "output_type": "stream",
     "text": [
      "Epoch: 200   train/loss: 10.6384   valid/loss: 37.4661   train/acc: 0.6667   valid/acc: 0.3173\n",
      "Epoch: 400   train/loss: 9.3809   valid/loss: 42.1821   train/acc: 0.6458   valid/acc: 0.3269\n",
      "Epoch: 600   train/loss: 8.7999   valid/loss: 42.9475   train/acc: 0.6875   valid/acc: 0.3462\n",
      "Epoch: 800   train/loss: 8.6876   valid/loss: 43.9961   train/acc: 0.7083   valid/acc: 0.3654\n",
      "Epoch: 1000   train/loss: 8.7348   valid/loss: 44.5039   train/acc: 0.7292   valid/acc: 0.3654\n",
      "Epoch: 1200   train/loss: 8.3477   valid/loss: 42.9815   train/acc: 0.75   valid/acc: 0.375\n",
      "Epoch: 1400   train/loss: 8.022   valid/loss: 42.8191   train/acc: 0.75   valid/acc: 0.3654\n",
      "Epoch: 1600   train/loss: 8.207   valid/loss: 43.1913   train/acc: 0.7292   valid/acc: 0.3654\n",
      "Epoch: 1800   train/loss: 8.2148   valid/loss: 43.7983   train/acc: 0.7292   valid/acc: 0.3654\n",
      "Epoch: 2000   train/loss: 8.3517   valid/loss: 45.278   train/acc: 0.7292   valid/acc: 0.3558\n",
      "Epoch: 2200   train/loss: 8.3541   valid/loss: 44.9521   train/acc: 0.7083   valid/acc: 0.3558\n",
      "Epoch: 2400   train/loss: 7.8738   valid/loss: 45.8631   train/acc: 0.75   valid/acc: 0.3654\n",
      "Epoch: 2600   train/loss: 8.1982   valid/loss: 45.5339   train/acc: 0.75   valid/acc: 0.3654\n",
      "Epoch: 2800   train/loss: 8.0293   valid/loss: 44.5211   train/acc: 0.75   valid/acc: 0.3654\n",
      "Epoch: 3000   train/loss: 8.0565   valid/loss: 44.5267   train/acc: 0.7292   valid/acc: 0.3654\n",
      "Epoch: 3200   train/loss: 8.0947   valid/loss: 44.5496   train/acc: 0.7083   valid/acc: 0.3654\n",
      "Epoch: 3400   train/loss: 7.6501   valid/loss: 45.5818   train/acc: 0.7292   valid/acc: 0.3654\n",
      "Epoch: 3600   train/loss: 7.5734   valid/loss: 47.0688   train/acc: 0.7708   valid/acc: 0.3654\n",
      "Epoch: 3800   train/loss: 8.0538   valid/loss: 47.4657   train/acc: 0.75   valid/acc: 0.3654\n",
      "Epoch: 4000   train/loss: 7.9401   valid/loss: 46.2108   train/acc: 0.75   valid/acc: 0.3654\n"
     ]
    },
    {
     "name": "stdout",
     "output_type": "stream",
     "text": [
      "Test accuracy: 0.3557692307692308\n",
      "Progress:  0.109\n",
      "Number of training circuits: 49   Number of validation circuits: 104   Number of test circuits: 104   Number of parameters in model: 231\n"
     ]
    },
    {
     "name": "stderr",
     "output_type": "stream",
     "text": [
      "Epoch: 200   train/loss: 10.5108   valid/loss: 39.5266   train/acc: 0.5918   valid/acc: 0.3173\n",
      "Epoch: 400   train/loss: 10.0154   valid/loss: 40.9999   train/acc: 0.6531   valid/acc: 0.3173\n",
      "Epoch: 600   train/loss: 9.2006   valid/loss: 39.4201   train/acc: 0.6531   valid/acc: 0.3173\n",
      "Epoch: 800   train/loss: 8.9285   valid/loss: 42.348   train/acc: 0.6939   valid/acc: 0.3269\n",
      "Epoch: 1000   train/loss: 8.7561   valid/loss: 43.915   train/acc: 0.6939   valid/acc: 0.2981\n",
      "Epoch: 1200   train/loss: 8.6745   valid/loss: 44.9832   train/acc: 0.7143   valid/acc: 0.2981\n",
      "Epoch: 1400   train/loss: 8.6533   valid/loss: 44.1895   train/acc: 0.6939   valid/acc: 0.3173\n",
      "Epoch: 1600   train/loss: 8.9434   valid/loss: 45.3488   train/acc: 0.6531   valid/acc: 0.2885\n",
      "Epoch: 1800   train/loss: 8.6053   valid/loss: 45.6264   train/acc: 0.6531   valid/acc: 0.3077\n",
      "Epoch: 2000   train/loss: 8.3775   valid/loss: 46.1837   train/acc: 0.6735   valid/acc: 0.3269\n",
      "Epoch: 2200   train/loss: 8.5332   valid/loss: 46.3043   train/acc: 0.6735   valid/acc: 0.3173\n",
      "Epoch: 2400   train/loss: 8.6044   valid/loss: 46.4783   train/acc: 0.6939   valid/acc: 0.3365\n",
      "Epoch: 2600   train/loss: 8.4085   valid/loss: 47.3867   train/acc: 0.6122   valid/acc: 0.3558\n",
      "Epoch: 2800   train/loss: 8.1599   valid/loss: 47.5415   train/acc: 0.6939   valid/acc: 0.3462\n",
      "Epoch: 3000   train/loss: 8.3368   valid/loss: 47.14   train/acc: 0.6939   valid/acc: 0.3558\n",
      "Epoch: 3200   train/loss: 8.2467   valid/loss: 47.3258   train/acc: 0.7347   valid/acc: 0.3462\n",
      "Epoch: 3400   train/loss: 8.5482   valid/loss: 48.0237   train/acc: 0.7143   valid/acc: 0.3462\n",
      "Epoch: 3600   train/loss: 7.9918   valid/loss: 48.2709   train/acc: 0.7143   valid/acc: 0.3462\n",
      "Epoch: 3800   train/loss: 8.2318   valid/loss: 47.6356   train/acc: 0.6939   valid/acc: 0.3558\n",
      "Epoch: 4000   train/loss: 8.2578   valid/loss: 48.5092   train/acc: 0.6939   valid/acc: 0.3558\n"
     ]
    },
    {
     "name": "stdout",
     "output_type": "stream",
     "text": [
      "Test accuracy: 0.36538461538461536\n",
      "Progress:  0.112\n",
      "Number of training circuits: 50   Number of validation circuits: 104   Number of test circuits: 104   Number of parameters in model: 231\n"
     ]
    },
    {
     "name": "stderr",
     "output_type": "stream",
     "text": [
      "Epoch: 200   train/loss: 11.3168   valid/loss: 40.4038   train/acc: 0.58   valid/acc: 0.3269\n",
      "Epoch: 400   train/loss: 10.0836   valid/loss: 37.8571   train/acc: 0.64   valid/acc: 0.3173\n",
      "Epoch: 600   train/loss: 9.8731   valid/loss: 38.468   train/acc: 0.66   valid/acc: 0.3269\n",
      "Epoch: 800   train/loss: 9.359   valid/loss: 39.1174   train/acc: 0.68   valid/acc: 0.3558\n",
      "Epoch: 1000   train/loss: 9.4503   valid/loss: 39.4904   train/acc: 0.64   valid/acc: 0.3942\n",
      "Epoch: 1200   train/loss: 9.3612   valid/loss: 40.6617   train/acc: 0.68   valid/acc: 0.3846\n",
      "Epoch: 1400   train/loss: 9.3034   valid/loss: 40.8327   train/acc: 0.68   valid/acc: 0.3942\n",
      "Epoch: 1600   train/loss: 9.1243   valid/loss: 40.8073   train/acc: 0.7   valid/acc: 0.375\n",
      "Epoch: 1800   train/loss: 8.8738   valid/loss: 41.0298   train/acc: 0.7   valid/acc: 0.3942\n",
      "Epoch: 2000   train/loss: 8.9938   valid/loss: 40.8793   train/acc: 0.7   valid/acc: 0.3558\n",
      "Epoch: 2200   train/loss: 8.7846   valid/loss: 40.8819   train/acc: 0.7   valid/acc: 0.3558\n",
      "Epoch: 2400   train/loss: 8.6854   valid/loss: 40.4153   train/acc: 0.7   valid/acc: 0.3654\n",
      "Epoch: 2600   train/loss: 8.5932   valid/loss: 40.9327   train/acc: 0.72   valid/acc: 0.3654\n",
      "Epoch: 2800   train/loss: 8.4196   valid/loss: 41.2932   train/acc: 0.72   valid/acc: 0.3654\n",
      "Epoch: 3000   train/loss: 8.7566   valid/loss: 41.4725   train/acc: 0.72   valid/acc: 0.375\n",
      "Epoch: 3200   train/loss: 9.0436   valid/loss: 42.0507   train/acc: 0.7   valid/acc: 0.3654\n",
      "Epoch: 3400   train/loss: 8.2363   valid/loss: 40.8595   train/acc: 0.72   valid/acc: 0.3558\n",
      "Epoch: 3600   train/loss: 8.4608   valid/loss: 41.862   train/acc: 0.72   valid/acc: 0.3654\n",
      "Epoch: 3800   train/loss: 8.9921   valid/loss: 41.921   train/acc: 0.66   valid/acc: 0.3558\n",
      "Epoch: 4000   train/loss: 8.2096   valid/loss: 42.0599   train/acc: 0.72   valid/acc: 0.3462\n"
     ]
    },
    {
     "name": "stdout",
     "output_type": "stream",
     "text": [
      "Test accuracy: 0.375\n",
      "Progress:  0.114\n",
      "Number of training circuits: 51   Number of validation circuits: 104   Number of test circuits: 104   Number of parameters in model: 231\n"
     ]
    },
    {
     "name": "stderr",
     "output_type": "stream",
     "text": [
      "Epoch: 200   train/loss: 10.4606   valid/loss: 39.7811   train/acc: 0.6863   valid/acc: 0.3558\n",
      "Epoch: 400   train/loss: 9.313   valid/loss: 41.8637   train/acc: 0.7059   valid/acc: 0.375\n",
      "Epoch: 600   train/loss: 9.6553   valid/loss: 40.7633   train/acc: 0.7255   valid/acc: 0.3462\n",
      "Epoch: 800   train/loss: 9.2288   valid/loss: 43.2751   train/acc: 0.7451   valid/acc: 0.3654\n",
      "Epoch: 1000   train/loss: 9.2181   valid/loss: 42.9055   train/acc: 0.7647   valid/acc: 0.3365\n",
      "Epoch: 1200   train/loss: 8.9228   valid/loss: 42.8538   train/acc: 0.7451   valid/acc: 0.3654\n",
      "Epoch: 1400   train/loss: 9.1718   valid/loss: 44.2922   train/acc: 0.7059   valid/acc: 0.3462\n",
      "Epoch: 1600   train/loss: 8.7294   valid/loss: 45.3466   train/acc: 0.7255   valid/acc: 0.3462\n",
      "Epoch: 1800   train/loss: 8.9077   valid/loss: 44.4642   train/acc: 0.7059   valid/acc: 0.3365\n",
      "Epoch: 2000   train/loss: 8.6069   valid/loss: 45.7187   train/acc: 0.7255   valid/acc: 0.3558\n",
      "Epoch: 2200   train/loss: 8.4769   valid/loss: 45.1741   train/acc: 0.7451   valid/acc: 0.3365\n",
      "Epoch: 2400   train/loss: 8.53   valid/loss: 45.9239   train/acc: 0.7255   valid/acc: 0.3462\n",
      "Epoch: 2600   train/loss: 8.6464   valid/loss: 46.2898   train/acc: 0.7059   valid/acc: 0.3269\n",
      "Epoch: 2800   train/loss: 8.6358   valid/loss: 47.3447   train/acc: 0.7255   valid/acc: 0.3365\n",
      "Epoch: 3000   train/loss: 8.4967   valid/loss: 46.3799   train/acc: 0.7255   valid/acc: 0.3269\n",
      "Epoch: 3200   train/loss: 8.3297   valid/loss: 49.6521   train/acc: 0.7255   valid/acc: 0.3269\n",
      "Epoch: 3400   train/loss: 8.9907   valid/loss: 47.0097   train/acc: 0.7255   valid/acc: 0.3173\n",
      "Epoch: 3600   train/loss: 8.5424   valid/loss: 46.651   train/acc: 0.7255   valid/acc: 0.3173\n",
      "Epoch: 3800   train/loss: 8.2842   valid/loss: 47.3613   train/acc: 0.7255   valid/acc: 0.3269\n",
      "Epoch: 4000   train/loss: 8.641   valid/loss: 47.6814   train/acc: 0.7255   valid/acc: 0.3269\n"
     ]
    },
    {
     "name": "stdout",
     "output_type": "stream",
     "text": [
      "Test accuracy: 0.34615384615384615\n",
      "Progress:  0.116\n",
      "Number of training circuits: 52   Number of validation circuits: 104   Number of test circuits: 104   Number of parameters in model: 231\n"
     ]
    },
    {
     "name": "stderr",
     "output_type": "stream",
     "text": [
      "Epoch: 200   train/loss: 10.1091   valid/loss: 40.9701   train/acc: 0.6731   valid/acc: 0.3462\n",
      "Epoch: 400   train/loss: 9.7285   valid/loss: 44.9799   train/acc: 0.6538   valid/acc: 0.375\n",
      "Epoch: 600   train/loss: 9.1869   valid/loss: 46.6701   train/acc: 0.7115   valid/acc: 0.3654\n",
      "Epoch: 800   train/loss: 9.4574   valid/loss: 42.7841   train/acc: 0.6923   valid/acc: 0.375\n",
      "Epoch: 1000   train/loss: 9.1767   valid/loss: 42.7158   train/acc: 0.7308   valid/acc: 0.375\n",
      "Epoch: 1200   train/loss: 9.2062   valid/loss: 44.4153   train/acc: 0.7308   valid/acc: 0.3654\n",
      "Epoch: 1400   train/loss: 8.7039   valid/loss: 43.4377   train/acc: 0.7308   valid/acc: 0.375\n",
      "Epoch: 1600   train/loss: 8.6304   valid/loss: 42.8589   train/acc: 0.75   valid/acc: 0.3942\n",
      "Epoch: 1800   train/loss: 8.5518   valid/loss: 44.6108   train/acc: 0.7308   valid/acc: 0.3942\n",
      "Epoch: 2000   train/loss: 8.5795   valid/loss: 45.1394   train/acc: 0.75   valid/acc: 0.375\n",
      "Epoch: 2200   train/loss: 8.4366   valid/loss: 45.4621   train/acc: 0.7308   valid/acc: 0.3846\n",
      "Epoch: 2400   train/loss: 8.4635   valid/loss: 46.374   train/acc: 0.75   valid/acc: 0.3654\n",
      "Epoch: 2600   train/loss: 8.6637   valid/loss: 47.1405   train/acc: 0.75   valid/acc: 0.375\n",
      "Epoch: 2800   train/loss: 8.4037   valid/loss: 46.7805   train/acc: 0.7308   valid/acc: 0.375\n",
      "Epoch: 3000   train/loss: 8.9823   valid/loss: 47.421   train/acc: 0.7308   valid/acc: 0.375\n",
      "Epoch: 3200   train/loss: 8.4816   valid/loss: 49.2394   train/acc: 0.75   valid/acc: 0.375\n",
      "Epoch: 3400   train/loss: 8.5799   valid/loss: 47.2501   train/acc: 0.7115   valid/acc: 0.375\n",
      "Epoch: 3600   train/loss: 8.5254   valid/loss: 47.864   train/acc: 0.75   valid/acc: 0.375\n",
      "Epoch: 3800   train/loss: 8.4069   valid/loss: 47.747   train/acc: 0.75   valid/acc: 0.375\n",
      "Epoch: 4000   train/loss: 8.3096   valid/loss: 48.2108   train/acc: 0.75   valid/acc: 0.375\n"
     ]
    },
    {
     "name": "stdout",
     "output_type": "stream",
     "text": [
      "Test accuracy: 0.36538461538461536\n",
      "Progress:  0.118\n",
      "Number of training circuits: 53   Number of validation circuits: 104   Number of test circuits: 104   Number of parameters in model: 231\n"
     ]
    },
    {
     "name": "stderr",
     "output_type": "stream",
     "text": [
      "Epoch: 200   train/loss: 10.3347   valid/loss: 38.9939   train/acc: 0.6981   valid/acc: 0.3365\n",
      "Epoch: 400   train/loss: 10.3314   valid/loss: 39.8581   train/acc: 0.717   valid/acc: 0.3462\n",
      "Epoch: 600   train/loss: 10.0458   valid/loss: 42.4027   train/acc: 0.6604   valid/acc: 0.3654\n",
      "Epoch: 800   train/loss: 9.767   valid/loss: 43.2904   train/acc: 0.6792   valid/acc: 0.3365\n",
      "Epoch: 1000   train/loss: 9.3749   valid/loss: 43.3437   train/acc: 0.717   valid/acc: 0.3558\n",
      "Epoch: 1200   train/loss: 8.99   valid/loss: 46.2262   train/acc: 0.7358   valid/acc: 0.3365\n",
      "Epoch: 1400   train/loss: 9.1698   valid/loss: 44.8581   train/acc: 0.7358   valid/acc: 0.3365\n",
      "Epoch: 1600   train/loss: 8.5053   valid/loss: 46.8034   train/acc: 0.7547   valid/acc: 0.3269\n",
      "Epoch: 1800   train/loss: 8.7267   valid/loss: 48.2052   train/acc: 0.6981   valid/acc: 0.3269\n",
      "Epoch: 2000   train/loss: 8.6923   valid/loss: 46.8038   train/acc: 0.7358   valid/acc: 0.3077\n",
      "Epoch: 2200   train/loss: 8.7627   valid/loss: 47.6605   train/acc: 0.6981   valid/acc: 0.3077\n",
      "Epoch: 2400   train/loss: 8.7528   valid/loss: 47.4294   train/acc: 0.7358   valid/acc: 0.3077\n",
      "Epoch: 2600   train/loss: 8.3366   valid/loss: 49.5488   train/acc: 0.7358   valid/acc: 0.3173\n",
      "Epoch: 2800   train/loss: 8.4892   valid/loss: 48.6526   train/acc: 0.7358   valid/acc: 0.3077\n",
      "Epoch: 3000   train/loss: 8.3656   valid/loss: 49.3346   train/acc: 0.717   valid/acc: 0.3173\n",
      "Epoch: 3200   train/loss: 8.5183   valid/loss: 48.7178   train/acc: 0.717   valid/acc: 0.3173\n",
      "Epoch: 3400   train/loss: 8.639   valid/loss: 48.1831   train/acc: 0.717   valid/acc: 0.3173\n",
      "Epoch: 3600   train/loss: 9.1545   valid/loss: 49.3979   train/acc: 0.7358   valid/acc: 0.3173\n",
      "Epoch: 3800   train/loss: 8.5903   valid/loss: 49.3505   train/acc: 0.7358   valid/acc: 0.3173\n",
      "Epoch: 4000   train/loss: 8.5036   valid/loss: 48.7989   train/acc: 0.7547   valid/acc: 0.3077\n"
     ]
    },
    {
     "name": "stdout",
     "output_type": "stream",
     "text": [
      "Test accuracy: 0.33653846153846156\n",
      "Progress:  0.121\n",
      "Number of training circuits: 54   Number of validation circuits: 104   Number of test circuits: 104   Number of parameters in model: 231\n"
     ]
    },
    {
     "name": "stderr",
     "output_type": "stream",
     "text": [
      "Epoch: 200   train/loss: 13.0802   valid/loss: 41.4172   train/acc: 0.5741   valid/acc: 0.3173\n",
      "Epoch: 400   train/loss: 12.0606   valid/loss: 42.7411   train/acc: 0.6481   valid/acc: 0.3462\n",
      "Epoch: 600   train/loss: 11.8438   valid/loss: 44.3715   train/acc: 0.6667   valid/acc: 0.3654\n",
      "Epoch: 800   train/loss: 11.2926   valid/loss: 44.547   train/acc: 0.6481   valid/acc: 0.3654\n",
      "Epoch: 1000   train/loss: 11.3533   valid/loss: 44.7255   train/acc: 0.6481   valid/acc: 0.3654\n",
      "Epoch: 1200   train/loss: 11.3465   valid/loss: 46.7471   train/acc: 0.6481   valid/acc: 0.375\n",
      "Epoch: 1400   train/loss: 10.9105   valid/loss: 47.3454   train/acc: 0.6296   valid/acc: 0.375\n",
      "Epoch: 1600   train/loss: 10.6448   valid/loss: 47.6954   train/acc: 0.6667   valid/acc: 0.3654\n",
      "Epoch: 1800   train/loss: 10.5848   valid/loss: 45.6823   train/acc: 0.6481   valid/acc: 0.3558\n",
      "Epoch: 2000   train/loss: 10.5125   valid/loss: 46.2699   train/acc: 0.6667   valid/acc: 0.3173\n",
      "Epoch: 2200   train/loss: 10.7027   valid/loss: 48.1127   train/acc: 0.7037   valid/acc: 0.3365\n",
      "Epoch: 2400   train/loss: 10.3782   valid/loss: 48.0368   train/acc: 0.6667   valid/acc: 0.3365\n",
      "Epoch: 2600   train/loss: 10.3985   valid/loss: 46.8831   train/acc: 0.6852   valid/acc: 0.3365\n",
      "Epoch: 2800   train/loss: 10.5364   valid/loss: 46.8997   train/acc: 0.7037   valid/acc: 0.3077\n",
      "Epoch: 3000   train/loss: 9.8799   valid/loss: 50.1658   train/acc: 0.6852   valid/acc: 0.3077\n",
      "Epoch: 3200   train/loss: 9.9753   valid/loss: 48.395   train/acc: 0.6852   valid/acc: 0.3077\n",
      "Epoch: 3400   train/loss: 9.8559   valid/loss: 49.5845   train/acc: 0.6852   valid/acc: 0.3077\n",
      "Epoch: 3600   train/loss: 10.2782   valid/loss: 50.0241   train/acc: 0.6852   valid/acc: 0.3077\n",
      "Epoch: 3800   train/loss: 9.9169   valid/loss: 50.0565   train/acc: 0.7037   valid/acc: 0.3077\n",
      "Epoch: 4000   train/loss: 10.0411   valid/loss: 49.8715   train/acc: 0.7037   valid/acc: 0.3077\n"
     ]
    },
    {
     "name": "stdout",
     "output_type": "stream",
     "text": [
      "Test accuracy: 0.33653846153846156\n",
      "Progress:  0.123\n",
      "Number of training circuits: 55   Number of validation circuits: 104   Number of test circuits: 104   Number of parameters in model: 231\n"
     ]
    },
    {
     "name": "stderr",
     "output_type": "stream",
     "text": [
      "Epoch: 200   train/loss: 13.142   valid/loss: 41.4474   train/acc: 0.5455   valid/acc: 0.2596\n",
      "Epoch: 400   train/loss: 11.647   valid/loss: 43.4604   train/acc: 0.6909   valid/acc: 0.2981\n",
      "Epoch: 600   train/loss: 10.8819   valid/loss: 42.8947   train/acc: 0.6909   valid/acc: 0.3077\n",
      "Epoch: 800   train/loss: 10.3608   valid/loss: 43.1892   train/acc: 0.7273   valid/acc: 0.3462\n",
      "Epoch: 1000   train/loss: 10.1291   valid/loss: 44.1463   train/acc: 0.6727   valid/acc: 0.3173\n",
      "Epoch: 1200   train/loss: 10.5156   valid/loss: 45.0565   train/acc: 0.6909   valid/acc: 0.3173\n",
      "Epoch: 1400   train/loss: 10.1297   valid/loss: 44.7728   train/acc: 0.7273   valid/acc: 0.3173\n",
      "Epoch: 1600   train/loss: 9.7801   valid/loss: 46.2123   train/acc: 0.7455   valid/acc: 0.3269\n",
      "Epoch: 1800   train/loss: 9.878   valid/loss: 44.8556   train/acc: 0.7455   valid/acc: 0.3173\n",
      "Epoch: 2000   train/loss: 9.8737   valid/loss: 48.5927   train/acc: 0.7636   valid/acc: 0.3173\n",
      "Epoch: 2200   train/loss: 9.6187   valid/loss: 45.1998   train/acc: 0.7273   valid/acc: 0.3365\n",
      "Epoch: 2400   train/loss: 9.627   valid/loss: 44.6759   train/acc: 0.7636   valid/acc: 0.3365\n",
      "Epoch: 2600   train/loss: 9.4422   valid/loss: 44.89   train/acc: 0.7091   valid/acc: 0.3365\n",
      "Epoch: 2800   train/loss: 9.7406   valid/loss: 45.5075   train/acc: 0.7455   valid/acc: 0.3365\n",
      "Epoch: 3000   train/loss: 9.5308   valid/loss: 45.7167   train/acc: 0.7273   valid/acc: 0.3365\n",
      "Epoch: 3200   train/loss: 9.5037   valid/loss: 44.8432   train/acc: 0.7455   valid/acc: 0.3365\n",
      "Epoch: 3400   train/loss: 9.3252   valid/loss: 45.6331   train/acc: 0.7455   valid/acc: 0.3365\n",
      "Epoch: 3600   train/loss: 9.5709   valid/loss: 45.755   train/acc: 0.7455   valid/acc: 0.3365\n",
      "Epoch: 3800   train/loss: 9.2121   valid/loss: 45.351   train/acc: 0.7636   valid/acc: 0.3365\n",
      "Epoch: 4000   train/loss: 8.9542   valid/loss: 45.1789   train/acc: 0.7636   valid/acc: 0.3365\n"
     ]
    },
    {
     "name": "stdout",
     "output_type": "stream",
     "text": [
      "Test accuracy: 0.4326923076923077\n",
      "Progress:  0.125\n",
      "Number of training circuits: 56   Number of validation circuits: 104   Number of test circuits: 104   Number of parameters in model: 231\n"
     ]
    },
    {
     "name": "stderr",
     "output_type": "stream",
     "text": [
      "Epoch: 200   train/loss: 12.8051   valid/loss: 40.077   train/acc: 0.6071   valid/acc: 0.3558\n",
      "Epoch: 400   train/loss: 11.8092   valid/loss: 42.0467   train/acc: 0.6607   valid/acc: 0.3846\n",
      "Epoch: 600   train/loss: 11.06   valid/loss: 41.8568   train/acc: 0.6964   valid/acc: 0.375\n",
      "Epoch: 800   train/loss: 10.6067   valid/loss: 41.7431   train/acc: 0.6964   valid/acc: 0.375\n",
      "Epoch: 1000   train/loss: 10.198   valid/loss: 41.642   train/acc: 0.6786   valid/acc: 0.3846\n",
      "Epoch: 1200   train/loss: 10.2211   valid/loss: 40.5179   train/acc: 0.7143   valid/acc: 0.3558\n",
      "Epoch: 1400   train/loss: 10.1022   valid/loss: 42.4106   train/acc: 0.7143   valid/acc: 0.3462\n",
      "Epoch: 1600   train/loss: 9.8126   valid/loss: 42.407   train/acc: 0.7143   valid/acc: 0.3365\n",
      "Epoch: 1800   train/loss: 10.111   valid/loss: 44.3552   train/acc: 0.7143   valid/acc: 0.3558\n",
      "Epoch: 2000   train/loss: 9.5528   valid/loss: 43.9919   train/acc: 0.7321   valid/acc: 0.3269\n",
      "Epoch: 2200   train/loss: 10.0318   valid/loss: 45.5159   train/acc: 0.6964   valid/acc: 0.3269\n",
      "Epoch: 2400   train/loss: 9.7066   valid/loss: 45.2   train/acc: 0.7321   valid/acc: 0.3365\n",
      "Epoch: 2600   train/loss: 9.5776   valid/loss: 45.401   train/acc: 0.7143   valid/acc: 0.3269\n",
      "Epoch: 2800   train/loss: 9.112   valid/loss: 46.6766   train/acc: 0.7679   valid/acc: 0.3269\n",
      "Epoch: 3000   train/loss: 9.3625   valid/loss: 45.5547   train/acc: 0.7143   valid/acc: 0.3365\n",
      "Epoch: 3200   train/loss: 9.026   valid/loss: 44.5685   train/acc: 0.7321   valid/acc: 0.3269\n",
      "Epoch: 3400   train/loss: 9.3771   valid/loss: 46.3644   train/acc: 0.75   valid/acc: 0.3269\n",
      "Epoch: 3600   train/loss: 9.1909   valid/loss: 47.5241   train/acc: 0.7679   valid/acc: 0.3365\n",
      "Epoch: 3800   train/loss: 9.386   valid/loss: 42.7684   train/acc: 0.75   valid/acc: 0.3365\n",
      "Epoch: 4000   train/loss: 9.2882   valid/loss: 46.2962   train/acc: 0.7679   valid/acc: 0.3365\n"
     ]
    },
    {
     "name": "stdout",
     "output_type": "stream",
     "text": [
      "Test accuracy: 0.36538461538461536\n",
      "Progress:  0.127\n",
      "Number of training circuits: 57   Number of validation circuits: 104   Number of test circuits: 104   Number of parameters in model: 231\n"
     ]
    },
    {
     "name": "stderr",
     "output_type": "stream",
     "text": [
      "Epoch: 200   train/loss: 12.3296   valid/loss: 41.8443   train/acc: 0.6667   valid/acc: 0.2788\n",
      "Epoch: 400   train/loss: 11.2368   valid/loss: 37.6352   train/acc: 0.7018   valid/acc: 0.3077\n",
      "Epoch: 600   train/loss: 10.6517   valid/loss: 39.5335   train/acc: 0.7018   valid/acc: 0.3173\n",
      "Epoch: 800   train/loss: 9.7706   valid/loss: 40.5655   train/acc: 0.7544   valid/acc: 0.3269\n",
      "Epoch: 1000   train/loss: 9.7656   valid/loss: 40.3284   train/acc: 0.7368   valid/acc: 0.3173\n",
      "Epoch: 1200   train/loss: 9.6439   valid/loss: 43.3388   train/acc: 0.7895   valid/acc: 0.3173\n",
      "Epoch: 1400   train/loss: 9.9218   valid/loss: 43.2214   train/acc: 0.7719   valid/acc: 0.3365\n",
      "Epoch: 1600   train/loss: 8.9895   valid/loss: 44.7626   train/acc: 0.7719   valid/acc: 0.3365\n",
      "Epoch: 1800   train/loss: 9.3344   valid/loss: 44.2723   train/acc: 0.7544   valid/acc: 0.3462\n",
      "Epoch: 2000   train/loss: 9.017   valid/loss: 44.6645   train/acc: 0.7719   valid/acc: 0.3365\n",
      "Epoch: 2200   train/loss: 9.127   valid/loss: 47.6796   train/acc: 0.7719   valid/acc: 0.3462\n",
      "Epoch: 2400   train/loss: 9.0981   valid/loss: 48.0013   train/acc: 0.7719   valid/acc: 0.3462\n",
      "Epoch: 2600   train/loss: 9.2979   valid/loss: 45.9422   train/acc: 0.7719   valid/acc: 0.3269\n",
      "Epoch: 2800   train/loss: 8.7271   valid/loss: 46.0961   train/acc: 0.7895   valid/acc: 0.3365\n",
      "Epoch: 3000   train/loss: 8.9572   valid/loss: 46.4351   train/acc: 0.7719   valid/acc: 0.3365\n",
      "Epoch: 3200   train/loss: 8.9973   valid/loss: 48.5402   train/acc: 0.7368   valid/acc: 0.3365\n",
      "Epoch: 3400   train/loss: 9.1775   valid/loss: 46.7981   train/acc: 0.7368   valid/acc: 0.3365\n",
      "Epoch: 3600   train/loss: 8.8054   valid/loss: 48.2229   train/acc: 0.7895   valid/acc: 0.3365\n",
      "Epoch: 3800   train/loss: 8.8672   valid/loss: 46.5584   train/acc: 0.7895   valid/acc: 0.3365\n",
      "Epoch: 4000   train/loss: 8.7993   valid/loss: 48.2092   train/acc: 0.807   valid/acc: 0.3365\n"
     ]
    },
    {
     "name": "stdout",
     "output_type": "stream",
     "text": [
      "Test accuracy: 0.41346153846153844\n",
      "Progress:  0.129\n",
      "Number of training circuits: 58   Number of validation circuits: 108   Number of test circuits: 108   Number of parameters in model: 234\n"
     ]
    },
    {
     "name": "stderr",
     "output_type": "stream",
     "text": [
      "Epoch: 200   train/loss: 13.972   valid/loss: 40.3046   train/acc: 0.6034   valid/acc: 0.287\n",
      "Epoch: 400   train/loss: 12.3825   valid/loss: 39.162   train/acc: 0.6552   valid/acc: 0.3333\n",
      "Epoch: 600   train/loss: 11.4669   valid/loss: 39.5482   train/acc: 0.7069   valid/acc: 0.3148\n",
      "Epoch: 800   train/loss: 11.0698   valid/loss: 40.5731   train/acc: 0.7241   valid/acc: 0.3241\n",
      "Epoch: 1000   train/loss: 11.067   valid/loss: 41.6975   train/acc: 0.7241   valid/acc: 0.3333\n",
      "Epoch: 1200   train/loss: 10.9951   valid/loss: 40.8058   train/acc: 0.7069   valid/acc: 0.3241\n",
      "Epoch: 1400   train/loss: 9.9542   valid/loss: 41.2553   train/acc: 0.7241   valid/acc: 0.3333\n",
      "Epoch: 1600   train/loss: 10.2127   valid/loss: 41.6588   train/acc: 0.7414   valid/acc: 0.3333\n",
      "Epoch: 1800   train/loss: 10.3504   valid/loss: 40.8215   train/acc: 0.7414   valid/acc: 0.3426\n",
      "Epoch: 2000   train/loss: 9.9938   valid/loss: 41.6073   train/acc: 0.7759   valid/acc: 0.3333\n",
      "Epoch: 2200   train/loss: 10.3011   valid/loss: 42.1386   train/acc: 0.7241   valid/acc: 0.3426\n",
      "Epoch: 2400   train/loss: 9.7469   valid/loss: 40.9351   train/acc: 0.7759   valid/acc: 0.3519\n",
      "Epoch: 2600   train/loss: 9.5679   valid/loss: 41.4265   train/acc: 0.7759   valid/acc: 0.3333\n",
      "Epoch: 2800   train/loss: 9.4113   valid/loss: 41.9786   train/acc: 0.7759   valid/acc: 0.3426\n",
      "Epoch: 3000   train/loss: 9.3229   valid/loss: 41.7132   train/acc: 0.7759   valid/acc: 0.3426\n",
      "Epoch: 3200   train/loss: 9.4759   valid/loss: 41.2504   train/acc: 0.7586   valid/acc: 0.3519\n",
      "Epoch: 3400   train/loss: 9.2776   valid/loss: 41.151   train/acc: 0.7759   valid/acc: 0.3519\n",
      "Epoch: 3600   train/loss: 9.3568   valid/loss: 42.4142   train/acc: 0.7759   valid/acc: 0.3426\n",
      "Epoch: 3800   train/loss: 9.2064   valid/loss: 41.5612   train/acc: 0.7759   valid/acc: 0.3519\n",
      "Epoch: 4000   train/loss: 9.2072   valid/loss: 42.3421   train/acc: 0.7759   valid/acc: 0.3611\n"
     ]
    },
    {
     "name": "stdout",
     "output_type": "stream",
     "text": [
      "Test accuracy: 0.4074074074074074\n",
      "Progress:  0.132\n",
      "Number of training circuits: 59   Number of validation circuits: 108   Number of test circuits: 108   Number of parameters in model: 234\n"
     ]
    },
    {
     "name": "stderr",
     "output_type": "stream",
     "text": [
      "Epoch: 200   train/loss: 13.4741   valid/loss: 35.8156   train/acc: 0.678   valid/acc: 0.3981\n",
      "Epoch: 400   train/loss: 11.4241   valid/loss: 40.4465   train/acc: 0.7288   valid/acc: 0.3889\n",
      "Epoch: 600   train/loss: 10.7912   valid/loss: 41.3312   train/acc: 0.7288   valid/acc: 0.3519\n",
      "Epoch: 800   train/loss: 10.3991   valid/loss: 42.4509   train/acc: 0.7627   valid/acc: 0.3889\n",
      "Epoch: 1000   train/loss: 9.8222   valid/loss: 43.9192   train/acc: 0.7458   valid/acc: 0.3796\n",
      "Epoch: 1200   train/loss: 9.8547   valid/loss: 46.0387   train/acc: 0.7797   valid/acc: 0.3796\n",
      "Epoch: 1400   train/loss: 9.7   valid/loss: 43.8716   train/acc: 0.7288   valid/acc: 0.3889\n",
      "Epoch: 1600   train/loss: 9.9296   valid/loss: 44.1694   train/acc: 0.7119   valid/acc: 0.3704\n",
      "Epoch: 1800   train/loss: 9.6459   valid/loss: 46.5853   train/acc: 0.7458   valid/acc: 0.3796\n",
      "Epoch: 2000   train/loss: 9.6224   valid/loss: 44.155   train/acc: 0.7288   valid/acc: 0.3704\n",
      "Epoch: 2200   train/loss: 9.2945   valid/loss: 44.1895   train/acc: 0.7627   valid/acc: 0.3611\n",
      "Epoch: 2400   train/loss: 9.2031   valid/loss: 44.0958   train/acc: 0.7797   valid/acc: 0.3611\n",
      "Epoch: 2600   train/loss: 9.6832   valid/loss: 44.2916   train/acc: 0.7458   valid/acc: 0.3704\n",
      "Epoch: 2800   train/loss: 9.3598   valid/loss: 42.7804   train/acc: 0.7458   valid/acc: 0.3704\n",
      "Epoch: 3000   train/loss: 9.282   valid/loss: 44.2737   train/acc: 0.7458   valid/acc: 0.3704\n",
      "Epoch: 3200   train/loss: 8.9366   valid/loss: 43.9801   train/acc: 0.7797   valid/acc: 0.3704\n",
      "Epoch: 3400   train/loss: 8.986   valid/loss: 44.828   train/acc: 0.7288   valid/acc: 0.3704\n",
      "Epoch: 3600   train/loss: 8.8275   valid/loss: 43.1362   train/acc: 0.7627   valid/acc: 0.3611\n",
      "Epoch: 3800   train/loss: 8.5792   valid/loss: 44.5696   train/acc: 0.7627   valid/acc: 0.3704\n",
      "Epoch: 4000   train/loss: 9.0638   valid/loss: 44.457   train/acc: 0.7797   valid/acc: 0.3704\n"
     ]
    },
    {
     "name": "stdout",
     "output_type": "stream",
     "text": [
      "Test accuracy: 0.4166666666666667\n",
      "Progress:  0.134\n",
      "Number of training circuits: 60   Number of validation circuits: 108   Number of test circuits: 108   Number of parameters in model: 234\n"
     ]
    },
    {
     "name": "stderr",
     "output_type": "stream",
     "text": [
      "Epoch: 200   train/loss: 14.3465   valid/loss: 42.7803   train/acc: 0.6333   valid/acc: 0.3148\n",
      "Epoch: 400   train/loss: 12.5684   valid/loss: 43.0082   train/acc: 0.6833   valid/acc: 0.3148\n",
      "Epoch: 600   train/loss: 11.5203   valid/loss: 44.11   train/acc: 0.7333   valid/acc: 0.3241\n",
      "Epoch: 800   train/loss: 11.1521   valid/loss: 44.3682   train/acc: 0.7333   valid/acc: 0.3333\n",
      "Epoch: 1000   train/loss: 11.1086   valid/loss: 45.9486   train/acc: 0.7   valid/acc: 0.3519\n",
      "Epoch: 1200   train/loss: 10.7999   valid/loss: 44.8797   train/acc: 0.7333   valid/acc: 0.3426\n",
      "Epoch: 1400   train/loss: 10.5182   valid/loss: 44.2934   train/acc: 0.7333   valid/acc: 0.3519\n",
      "Epoch: 1600   train/loss: 10.2085   valid/loss: 43.8869   train/acc: 0.75   valid/acc: 0.3519\n",
      "Epoch: 1800   train/loss: 10.6933   valid/loss: 47.214   train/acc: 0.7167   valid/acc: 0.3519\n",
      "Epoch: 2000   train/loss: 10.3154   valid/loss: 46.0271   train/acc: 0.6833   valid/acc: 0.3519\n",
      "Epoch: 2200   train/loss: 9.8637   valid/loss: 47.3318   train/acc: 0.75   valid/acc: 0.3519\n",
      "Epoch: 2400   train/loss: 9.8197   valid/loss: 45.7589   train/acc: 0.7333   valid/acc: 0.3519\n",
      "Epoch: 2600   train/loss: 9.8742   valid/loss: 47.1954   train/acc: 0.75   valid/acc: 0.3519\n",
      "Epoch: 2800   train/loss: 9.7116   valid/loss: 45.2815   train/acc: 0.75   valid/acc: 0.3519\n",
      "Epoch: 3000   train/loss: 10.0654   valid/loss: 48.7094   train/acc: 0.75   valid/acc: 0.3426\n",
      "Epoch: 3200   train/loss: 9.9777   valid/loss: 46.225   train/acc: 0.75   valid/acc: 0.3519\n",
      "Epoch: 3400   train/loss: 9.6924   valid/loss: 48.5538   train/acc: 0.75   valid/acc: 0.3426\n",
      "Epoch: 3600   train/loss: 9.4315   valid/loss: 47.8153   train/acc: 0.75   valid/acc: 0.3426\n",
      "Epoch: 3800   train/loss: 9.7558   valid/loss: 46.904   train/acc: 0.75   valid/acc: 0.3426\n",
      "Epoch: 4000   train/loss: 9.8459   valid/loss: 46.3272   train/acc: 0.7167   valid/acc: 0.3426\n"
     ]
    },
    {
     "name": "stdout",
     "output_type": "stream",
     "text": [
      "Test accuracy: 0.42592592592592593\n",
      "Progress:  0.136\n",
      "Number of training circuits: 61   Number of validation circuits: 108   Number of test circuits: 108   Number of parameters in model: 234\n"
     ]
    },
    {
     "name": "stderr",
     "output_type": "stream",
     "text": [
      "Epoch: 200   train/loss: 14.0859   valid/loss: 42.1122   train/acc: 0.5738   valid/acc: 0.3426\n",
      "Epoch: 400   train/loss: 12.3737   valid/loss: 41.4628   train/acc: 0.6721   valid/acc: 0.3426\n",
      "Epoch: 600   train/loss: 11.5954   valid/loss: 40.9884   train/acc: 0.7213   valid/acc: 0.3519\n",
      "Epoch: 800   train/loss: 11.4794   valid/loss: 43.1525   train/acc: 0.7049   valid/acc: 0.3426\n",
      "Epoch: 1000   train/loss: 10.9755   valid/loss: 45.0318   train/acc: 0.7213   valid/acc: 0.3611\n",
      "Epoch: 1200   train/loss: 10.9202   valid/loss: 42.8248   train/acc: 0.7213   valid/acc: 0.3611\n",
      "Epoch: 1400   train/loss: 10.8124   valid/loss: 41.824   train/acc: 0.6885   valid/acc: 0.3519\n",
      "Epoch: 1600   train/loss: 10.5641   valid/loss: 42.0447   train/acc: 0.7377   valid/acc: 0.3519\n",
      "Epoch: 1800   train/loss: 10.281   valid/loss: 41.2798   train/acc: 0.7213   valid/acc: 0.3611\n",
      "Epoch: 2000   train/loss: 10.3088   valid/loss: 42.267   train/acc: 0.7049   valid/acc: 0.3519\n",
      "Epoch: 2200   train/loss: 10.3743   valid/loss: 44.8743   train/acc: 0.7213   valid/acc: 0.3426\n",
      "Epoch: 2400   train/loss: 10.2005   valid/loss: 43.0781   train/acc: 0.7213   valid/acc: 0.3611\n",
      "Epoch: 2600   train/loss: 10.3935   valid/loss: 44.68   train/acc: 0.7213   valid/acc: 0.3611\n",
      "Epoch: 2800   train/loss: 9.8665   valid/loss: 44.3007   train/acc: 0.7049   valid/acc: 0.3611\n",
      "Epoch: 3000   train/loss: 10.0853   valid/loss: 44.288   train/acc: 0.6885   valid/acc: 0.3704\n",
      "Epoch: 3200   train/loss: 9.6927   valid/loss: 43.4001   train/acc: 0.7213   valid/acc: 0.3704\n",
      "Epoch: 3400   train/loss: 9.7757   valid/loss: 42.987   train/acc: 0.7377   valid/acc: 0.3704\n",
      "Epoch: 3600   train/loss: 9.9745   valid/loss: 43.6401   train/acc: 0.7377   valid/acc: 0.3704\n",
      "Epoch: 3800   train/loss: 9.5951   valid/loss: 43.3691   train/acc: 0.7213   valid/acc: 0.3704\n",
      "Epoch: 4000   train/loss: 9.5397   valid/loss: 44.0262   train/acc: 0.7049   valid/acc: 0.3704\n"
     ]
    },
    {
     "name": "stdout",
     "output_type": "stream",
     "text": [
      "Test accuracy: 0.4074074074074074\n",
      "Progress:  0.138\n",
      "Number of training circuits: 62   Number of validation circuits: 108   Number of test circuits: 108   Number of parameters in model: 234\n"
     ]
    },
    {
     "name": "stderr",
     "output_type": "stream",
     "text": [
      "Epoch: 200   train/loss: 15.1615   valid/loss: 43.1578   train/acc: 0.5484   valid/acc: 0.2222\n",
      "Epoch: 400   train/loss: 13.7172   valid/loss: 38.8733   train/acc: 0.6613   valid/acc: 0.287\n",
      "Epoch: 600   train/loss: 12.8935   valid/loss: 42.6894   train/acc: 0.5968   valid/acc: 0.3148\n",
      "Epoch: 800   train/loss: 12.2495   valid/loss: 42.6301   train/acc: 0.6129   valid/acc: 0.2685\n",
      "Epoch: 1000   train/loss: 12.1702   valid/loss: 44.397   train/acc: 0.5968   valid/acc: 0.2778\n",
      "Epoch: 1200   train/loss: 11.667   valid/loss: 42.4933   train/acc: 0.5968   valid/acc: 0.2963\n",
      "Epoch: 1400   train/loss: 11.362   valid/loss: 42.6016   train/acc: 0.6452   valid/acc: 0.287\n",
      "Epoch: 1600   train/loss: 11.5566   valid/loss: 42.5738   train/acc: 0.6452   valid/acc: 0.2963\n",
      "Epoch: 1800   train/loss: 11.1465   valid/loss: 42.3648   train/acc: 0.6452   valid/acc: 0.3148\n",
      "Epoch: 2000   train/loss: 10.7739   valid/loss: 43.445   train/acc: 0.6613   valid/acc: 0.3148\n",
      "Epoch: 2200   train/loss: 10.7689   valid/loss: 43.3825   train/acc: 0.6935   valid/acc: 0.3333\n",
      "Epoch: 2400   train/loss: 10.4937   valid/loss: 44.2392   train/acc: 0.7097   valid/acc: 0.3426\n",
      "Epoch: 2600   train/loss: 10.4897   valid/loss: 44.5397   train/acc: 0.6774   valid/acc: 0.3241\n",
      "Epoch: 2800   train/loss: 10.5674   valid/loss: 44.2257   train/acc: 0.7097   valid/acc: 0.3241\n",
      "Epoch: 3000   train/loss: 10.3719   valid/loss: 44.1341   train/acc: 0.7097   valid/acc: 0.3148\n",
      "Epoch: 3200   train/loss: 10.3391   valid/loss: 44.8785   train/acc: 0.7258   valid/acc: 0.3148\n",
      "Epoch: 3400   train/loss: 10.1895   valid/loss: 45.7449   train/acc: 0.7419   valid/acc: 0.3519\n",
      "Epoch: 3600   train/loss: 9.9803   valid/loss: 45.4695   train/acc: 0.7258   valid/acc: 0.2963\n",
      "Epoch: 3800   train/loss: 10.2462   valid/loss: 46.4026   train/acc: 0.7258   valid/acc: 0.3333\n",
      "Epoch: 4000   train/loss: 9.5365   valid/loss: 45.6098   train/acc: 0.7258   valid/acc: 0.3333\n"
     ]
    },
    {
     "name": "stdout",
     "output_type": "stream",
     "text": [
      "Test accuracy: 0.42592592592592593\n",
      "Progress:  0.141\n",
      "Number of training circuits: 63   Number of validation circuits: 108   Number of test circuits: 108   Number of parameters in model: 234\n"
     ]
    },
    {
     "name": "stderr",
     "output_type": "stream",
     "text": [
      "Epoch: 200   train/loss: 14.8759   valid/loss: 38.6228   train/acc: 0.619   valid/acc: 0.287\n",
      "Epoch: 400   train/loss: 13.309   valid/loss: 41.3184   train/acc: 0.6508   valid/acc: 0.3148\n",
      "Epoch: 600   train/loss: 12.4886   valid/loss: 43.0361   train/acc: 0.6667   valid/acc: 0.3056\n",
      "Epoch: 800   train/loss: 12.2856   valid/loss: 44.8336   train/acc: 0.6825   valid/acc: 0.3333\n",
      "Epoch: 1000   train/loss: 11.6658   valid/loss: 42.1705   train/acc: 0.7143   valid/acc: 0.3241\n",
      "Epoch: 1200   train/loss: 11.2829   valid/loss: 42.0226   train/acc: 0.6667   valid/acc: 0.3611\n",
      "Epoch: 1400   train/loss: 11.6404   valid/loss: 43.4725   train/acc: 0.7143   valid/acc: 0.3426\n",
      "Epoch: 1600   train/loss: 11.3781   valid/loss: 43.0492   train/acc: 0.7143   valid/acc: 0.3333\n",
      "Epoch: 1800   train/loss: 11.6213   valid/loss: 43.2052   train/acc: 0.6984   valid/acc: 0.3519\n",
      "Epoch: 2000   train/loss: 11.8679   valid/loss: 44.4709   train/acc: 0.7302   valid/acc: 0.3611\n",
      "Epoch: 2200   train/loss: 11.0061   valid/loss: 44.6317   train/acc: 0.7302   valid/acc: 0.3519\n",
      "Epoch: 2400   train/loss: 11.3603   valid/loss: 45.7432   train/acc: 0.6825   valid/acc: 0.3519\n",
      "Epoch: 2600   train/loss: 11.2579   valid/loss: 44.8376   train/acc: 0.7302   valid/acc: 0.3611\n",
      "Epoch: 2800   train/loss: 11.1217   valid/loss: 44.4505   train/acc: 0.6667   valid/acc: 0.3426\n",
      "Epoch: 3000   train/loss: 10.942   valid/loss: 45.5559   train/acc: 0.746   valid/acc: 0.3426\n",
      "Epoch: 3200   train/loss: 10.806   valid/loss: 45.0548   train/acc: 0.7302   valid/acc: 0.3611\n",
      "Epoch: 3400   train/loss: 10.7194   valid/loss: 45.3968   train/acc: 0.746   valid/acc: 0.3519\n",
      "Epoch: 3600   train/loss: 11.1171   valid/loss: 45.7703   train/acc: 0.7143   valid/acc: 0.3519\n",
      "Epoch: 3800   train/loss: 10.8791   valid/loss: 45.2015   train/acc: 0.6984   valid/acc: 0.3426\n",
      "Epoch: 4000   train/loss: 10.6982   valid/loss: 48.0243   train/acc: 0.7302   valid/acc: 0.3426\n"
     ]
    },
    {
     "name": "stdout",
     "output_type": "stream",
     "text": [
      "Test accuracy: 0.4444444444444444\n",
      "Progress:  0.143\n",
      "Number of training circuits: 64   Number of validation circuits: 108   Number of test circuits: 108   Number of parameters in model: 234\n"
     ]
    },
    {
     "name": "stderr",
     "output_type": "stream",
     "text": [
      "Epoch: 200   train/loss: 17.1   valid/loss: 38.5248   train/acc: 0.4844   valid/acc: 0.3704\n",
      "Epoch: 400   train/loss: 14.8714   valid/loss: 39.9454   train/acc: 0.5938   valid/acc: 0.4167\n",
      "Epoch: 600   train/loss: 14.2086   valid/loss: 39.5658   train/acc: 0.5938   valid/acc: 0.3704\n",
      "Epoch: 800   train/loss: 13.367   valid/loss: 41.0156   train/acc: 0.5781   valid/acc: 0.3519\n",
      "Epoch: 1000   train/loss: 12.6975   valid/loss: 42.1727   train/acc: 0.6719   valid/acc: 0.3519\n",
      "Epoch: 1200   train/loss: 12.5089   valid/loss: 43.1792   train/acc: 0.6094   valid/acc: 0.3426\n",
      "Epoch: 1400   train/loss: 11.9975   valid/loss: 44.0626   train/acc: 0.625   valid/acc: 0.3611\n",
      "Epoch: 1600   train/loss: 12.1347   valid/loss: 43.3745   train/acc: 0.6719   valid/acc: 0.3611\n",
      "Epoch: 1800   train/loss: 11.9998   valid/loss: 43.9457   train/acc: 0.6562   valid/acc: 0.3519\n",
      "Epoch: 2000   train/loss: 11.611   valid/loss: 42.8694   train/acc: 0.6719   valid/acc: 0.3611\n",
      "Epoch: 2200   train/loss: 11.8885   valid/loss: 43.7454   train/acc: 0.6719   valid/acc: 0.3796\n",
      "Epoch: 2400   train/loss: 11.7639   valid/loss: 42.3527   train/acc: 0.625   valid/acc: 0.3796\n",
      "Epoch: 2600   train/loss: 11.4021   valid/loss: 42.329   train/acc: 0.6094   valid/acc: 0.3796\n",
      "Epoch: 2800   train/loss: 11.1788   valid/loss: 42.9259   train/acc: 0.6719   valid/acc: 0.3889\n",
      "Epoch: 3000   train/loss: 11.3354   valid/loss: 43.5807   train/acc: 0.625   valid/acc: 0.3889\n",
      "Epoch: 3200   train/loss: 11.1737   valid/loss: 43.0693   train/acc: 0.6719   valid/acc: 0.4074\n",
      "Epoch: 3400   train/loss: 11.5646   valid/loss: 43.1828   train/acc: 0.6875   valid/acc: 0.3981\n",
      "Epoch: 3600   train/loss: 11.0485   valid/loss: 43.663   train/acc: 0.6875   valid/acc: 0.3796\n",
      "Epoch: 3800   train/loss: 10.89   valid/loss: 43.15   train/acc: 0.6875   valid/acc: 0.4074\n",
      "Epoch: 4000   train/loss: 11.6586   valid/loss: 43.1265   train/acc: 0.6719   valid/acc: 0.4074\n"
     ]
    },
    {
     "name": "stdout",
     "output_type": "stream",
     "text": [
      "Test accuracy: 0.3333333333333333\n",
      "Progress:  0.145\n",
      "Number of training circuits: 65   Number of validation circuits: 108   Number of test circuits: 108   Number of parameters in model: 234\n"
     ]
    },
    {
     "name": "stderr",
     "output_type": "stream",
     "text": [
      "Epoch: 200   train/loss: 15.4314   valid/loss: 41.3347   train/acc: 0.5692   valid/acc: 0.3796\n",
      "Epoch: 400   train/loss: 14.4135   valid/loss: 43.3537   train/acc: 0.5692   valid/acc: 0.3333\n",
      "Epoch: 600   train/loss: 14.0653   valid/loss: 43.3287   train/acc: 0.5846   valid/acc: 0.3426\n",
      "Epoch: 800   train/loss: 13.7412   valid/loss: 44.4719   train/acc: 0.6   valid/acc: 0.3889\n",
      "Epoch: 1000   train/loss: 12.9911   valid/loss: 44.7093   train/acc: 0.6154   valid/acc: 0.3519\n",
      "Epoch: 1200   train/loss: 13.1154   valid/loss: 44.2184   train/acc: 0.6   valid/acc: 0.3611\n",
      "Epoch: 1400   train/loss: 12.6175   valid/loss: 44.892   train/acc: 0.6308   valid/acc: 0.3519\n",
      "Epoch: 1600   train/loss: 12.3882   valid/loss: 44.0396   train/acc: 0.6462   valid/acc: 0.3796\n",
      "Epoch: 1800   train/loss: 12.0692   valid/loss: 43.8796   train/acc: 0.6615   valid/acc: 0.3796\n",
      "Epoch: 2000   train/loss: 12.2452   valid/loss: 44.0235   train/acc: 0.6769   valid/acc: 0.3796\n",
      "Epoch: 2200   train/loss: 12.1425   valid/loss: 43.7971   train/acc: 0.6462   valid/acc: 0.3704\n",
      "Epoch: 2400   train/loss: 11.7374   valid/loss: 43.7134   train/acc: 0.6769   valid/acc: 0.3519\n",
      "Epoch: 2600   train/loss: 11.6622   valid/loss: 44.1833   train/acc: 0.6769   valid/acc: 0.3796\n",
      "Epoch: 2800   train/loss: 11.7671   valid/loss: 43.7847   train/acc: 0.6769   valid/acc: 0.3333\n",
      "Epoch: 3000   train/loss: 11.8414   valid/loss: 43.3357   train/acc: 0.6769   valid/acc: 0.3426\n",
      "Epoch: 3200   train/loss: 11.9393   valid/loss: 43.7126   train/acc: 0.6615   valid/acc: 0.3426\n",
      "Epoch: 3400   train/loss: 11.5267   valid/loss: 43.9387   train/acc: 0.6769   valid/acc: 0.3426\n",
      "Epoch: 3600   train/loss: 11.5787   valid/loss: 44.9865   train/acc: 0.6769   valid/acc: 0.3333\n",
      "Epoch: 3800   train/loss: 11.8792   valid/loss: 44.6495   train/acc: 0.6615   valid/acc: 0.3333\n",
      "Epoch: 4000   train/loss: 11.5934   valid/loss: 44.4962   train/acc: 0.6615   valid/acc: 0.3333\n"
     ]
    },
    {
     "name": "stdout",
     "output_type": "stream",
     "text": [
      "Test accuracy: 0.35185185185185186\n",
      "Progress:  0.147\n",
      "Number of training circuits: 66   Number of validation circuits: 108   Number of test circuits: 108   Number of parameters in model: 234\n"
     ]
    },
    {
     "name": "stderr",
     "output_type": "stream",
     "text": [
      "Epoch: 200   train/loss: 17.2012   valid/loss: 38.5697   train/acc: 0.4545   valid/acc: 0.3333\n",
      "Epoch: 400   train/loss: 15.1096   valid/loss: 38.6143   train/acc: 0.6061   valid/acc: 0.3056\n",
      "Epoch: 600   train/loss: 13.8266   valid/loss: 39.9793   train/acc: 0.6364   valid/acc: 0.3333\n",
      "Epoch: 800   train/loss: 13.3656   valid/loss: 41.2765   train/acc: 0.6061   valid/acc: 0.2778\n",
      "Epoch: 1000   train/loss: 13.0951   valid/loss: 41.718   train/acc: 0.6212   valid/acc: 0.3056\n",
      "Epoch: 1200   train/loss: 13.1005   valid/loss: 41.0153   train/acc: 0.6515   valid/acc: 0.3056\n",
      "Epoch: 1400   train/loss: 12.8185   valid/loss: 41.5928   train/acc: 0.6364   valid/acc: 0.3056\n",
      "Epoch: 1600   train/loss: 12.5626   valid/loss: 41.4456   train/acc: 0.6212   valid/acc: 0.3056\n",
      "Epoch: 1800   train/loss: 12.7836   valid/loss: 42.5818   train/acc: 0.6515   valid/acc: 0.3241\n",
      "Epoch: 2000   train/loss: 12.6139   valid/loss: 43.6176   train/acc: 0.6515   valid/acc: 0.3056\n",
      "Epoch: 2200   train/loss: 12.7414   valid/loss: 43.7096   train/acc: 0.6515   valid/acc: 0.3056\n",
      "Epoch: 2400   train/loss: 11.9888   valid/loss: 44.1247   train/acc: 0.6515   valid/acc: 0.2963\n",
      "Epoch: 2600   train/loss: 12.3389   valid/loss: 44.9312   train/acc: 0.6667   valid/acc: 0.2963\n",
      "Epoch: 2800   train/loss: 12.181   valid/loss: 44.3264   train/acc: 0.6515   valid/acc: 0.287\n",
      "Epoch: 3000   train/loss: 12.1738   valid/loss: 43.7734   train/acc: 0.6818   valid/acc: 0.287\n",
      "Epoch: 3200   train/loss: 12.147   valid/loss: 44.1408   train/acc: 0.6061   valid/acc: 0.287\n",
      "Epoch: 3400   train/loss: 11.6776   valid/loss: 43.9175   train/acc: 0.6667   valid/acc: 0.287\n",
      "Epoch: 3600   train/loss: 11.7805   valid/loss: 43.4915   train/acc: 0.6667   valid/acc: 0.287\n",
      "Epoch: 3800   train/loss: 11.9886   valid/loss: 44.1   train/acc: 0.6364   valid/acc: 0.287\n",
      "Epoch: 4000   train/loss: 12.1401   valid/loss: 44.1765   train/acc: 0.697   valid/acc: 0.3056\n"
     ]
    },
    {
     "name": "stdout",
     "output_type": "stream",
     "text": [
      "Test accuracy: 0.37962962962962965\n",
      "Progress:  0.15\n",
      "Number of training circuits: 67   Number of validation circuits: 108   Number of test circuits: 108   Number of parameters in model: 234\n"
     ]
    },
    {
     "name": "stderr",
     "output_type": "stream",
     "text": [
      "Epoch: 200   train/loss: 17.2857   valid/loss: 44.0536   train/acc: 0.5224   valid/acc: 0.3148\n",
      "Epoch: 400   train/loss: 15.6184   valid/loss: 41.5504   train/acc: 0.6269   valid/acc: 0.3519\n",
      "Epoch: 600   train/loss: 14.6869   valid/loss: 46.5237   train/acc: 0.6269   valid/acc: 0.3148\n",
      "Epoch: 800   train/loss: 14.3864   valid/loss: 42.6784   train/acc: 0.6418   valid/acc: 0.3519\n",
      "Epoch: 1000   train/loss: 13.9693   valid/loss: 44.6554   train/acc: 0.597   valid/acc: 0.3241\n",
      "Epoch: 1200   train/loss: 13.2285   valid/loss: 44.1239   train/acc: 0.6567   valid/acc: 0.3056\n",
      "Epoch: 1400   train/loss: 13.831   valid/loss: 43.3408   train/acc: 0.6716   valid/acc: 0.3241\n",
      "Epoch: 1600   train/loss: 12.8362   valid/loss: 43.6947   train/acc: 0.6716   valid/acc: 0.3333\n",
      "Epoch: 1800   train/loss: 12.7207   valid/loss: 46.902   train/acc: 0.6716   valid/acc: 0.3333\n",
      "Epoch: 2000   train/loss: 13.2884   valid/loss: 45.809   train/acc: 0.6567   valid/acc: 0.3241\n",
      "Epoch: 2200   train/loss: 12.7971   valid/loss: 46.2617   train/acc: 0.6866   valid/acc: 0.3426\n",
      "Epoch: 2400   train/loss: 12.7914   valid/loss: 48.593   train/acc: 0.6567   valid/acc: 0.3241\n",
      "Epoch: 2600   train/loss: 13.0801   valid/loss: 50.2574   train/acc: 0.6269   valid/acc: 0.3056\n",
      "Epoch: 2800   train/loss: 12.7825   valid/loss: 49.0539   train/acc: 0.6567   valid/acc: 0.3148\n",
      "Epoch: 3000   train/loss: 12.598   valid/loss: 48.4311   train/acc: 0.6567   valid/acc: 0.3056\n",
      "Epoch: 3200   train/loss: 12.6169   valid/loss: 48.7197   train/acc: 0.6418   valid/acc: 0.3056\n",
      "Epoch: 3400   train/loss: 12.8487   valid/loss: 48.955   train/acc: 0.6866   valid/acc: 0.3056\n",
      "Epoch: 3600   train/loss: 12.2443   valid/loss: 49.6186   train/acc: 0.6716   valid/acc: 0.3148\n",
      "Epoch: 3800   train/loss: 12.4042   valid/loss: 49.8457   train/acc: 0.6418   valid/acc: 0.2963\n",
      "Epoch: 4000   train/loss: 12.8279   valid/loss: 49.0893   train/acc: 0.6567   valid/acc: 0.2963\n"
     ]
    },
    {
     "name": "stdout",
     "output_type": "stream",
     "text": [
      "Test accuracy: 0.35185185185185186\n",
      "Progress:  0.152\n",
      "Number of training circuits: 68   Number of validation circuits: 108   Number of test circuits: 108   Number of parameters in model: 234\n"
     ]
    },
    {
     "name": "stderr",
     "output_type": "stream",
     "text": [
      "Epoch: 200   train/loss: 17.8839   valid/loss: 38.6202   train/acc: 0.4853   valid/acc: 0.2778\n",
      "Epoch: 400   train/loss: 17.472   valid/loss: 39.6091   train/acc: 0.4559   valid/acc: 0.2963\n",
      "Epoch: 600   train/loss: 16.2103   valid/loss: 40.0814   train/acc: 0.5   valid/acc: 0.287\n",
      "Epoch: 800   train/loss: 15.6466   valid/loss: 39.2484   train/acc: 0.5588   valid/acc: 0.3148\n",
      "Epoch: 1000   train/loss: 15.8505   valid/loss: 40.4214   train/acc: 0.5   valid/acc: 0.3056\n",
      "Epoch: 1200   train/loss: 15.647   valid/loss: 40.3302   train/acc: 0.5294   valid/acc: 0.3148\n",
      "Epoch: 1400   train/loss: 15.0788   valid/loss: 41.9361   train/acc: 0.5882   valid/acc: 0.3241\n",
      "Epoch: 1600   train/loss: 15.2284   valid/loss: 40.2375   train/acc: 0.5588   valid/acc: 0.3426\n",
      "Epoch: 1800   train/loss: 15.0118   valid/loss: 40.5061   train/acc: 0.6029   valid/acc: 0.3333\n",
      "Epoch: 2000   train/loss: 14.6311   valid/loss: 39.6959   train/acc: 0.6029   valid/acc: 0.3519\n",
      "Epoch: 2200   train/loss: 14.4357   valid/loss: 41.1236   train/acc: 0.6176   valid/acc: 0.3519\n",
      "Epoch: 2400   train/loss: 14.0653   valid/loss: 41.0858   train/acc: 0.5882   valid/acc: 0.3796\n",
      "Epoch: 2600   train/loss: 13.9607   valid/loss: 40.0836   train/acc: 0.6324   valid/acc: 0.3796\n",
      "Epoch: 2800   train/loss: 14.2485   valid/loss: 41.0686   train/acc: 0.5882   valid/acc: 0.3611\n",
      "Epoch: 3000   train/loss: 14.3   valid/loss: 40.1224   train/acc: 0.6176   valid/acc: 0.3704\n",
      "Epoch: 3200   train/loss: 14.0086   valid/loss: 40.0862   train/acc: 0.6618   valid/acc: 0.3704\n",
      "Epoch: 3400   train/loss: 14.4956   valid/loss: 40.9512   train/acc: 0.6029   valid/acc: 0.3704\n",
      "Epoch: 3600   train/loss: 14.1668   valid/loss: 40.5947   train/acc: 0.6471   valid/acc: 0.3704\n",
      "Epoch: 3800   train/loss: 13.5239   valid/loss: 41.8744   train/acc: 0.5882   valid/acc: 0.3704\n",
      "Epoch: 4000   train/loss: 13.5548   valid/loss: 42.2173   train/acc: 0.6029   valid/acc: 0.3704\n"
     ]
    },
    {
     "name": "stdout",
     "output_type": "stream",
     "text": [
      "Test accuracy: 0.5277777777777778\n",
      "Progress:  0.154\n",
      "Number of training circuits: 69   Number of validation circuits: 108   Number of test circuits: 108   Number of parameters in model: 234\n"
     ]
    },
    {
     "name": "stderr",
     "output_type": "stream",
     "text": [
      "Epoch: 200   train/loss: 17.7043   valid/loss: 39.1357   train/acc: 0.5072   valid/acc: 0.3519\n",
      "Epoch: 400   train/loss: 16.132   valid/loss: 41.6525   train/acc: 0.5652   valid/acc: 0.3056\n",
      "Epoch: 600   train/loss: 15.3678   valid/loss: 43.9613   train/acc: 0.5942   valid/acc: 0.2963\n",
      "Epoch: 800   train/loss: 14.6611   valid/loss: 44.9634   train/acc: 0.6087   valid/acc: 0.3148\n",
      "Epoch: 1000   train/loss: 14.2209   valid/loss: 43.7906   train/acc: 0.6522   valid/acc: 0.3241\n",
      "Epoch: 1200   train/loss: 13.9376   valid/loss: 41.7723   train/acc: 0.6087   valid/acc: 0.3056\n",
      "Epoch: 1400   train/loss: 13.6661   valid/loss: 42.8867   train/acc: 0.6522   valid/acc: 0.3148\n",
      "Epoch: 1600   train/loss: 13.8196   valid/loss: 43.3609   train/acc: 0.6377   valid/acc: 0.3333\n",
      "Epoch: 1800   train/loss: 13.4582   valid/loss: 46.2687   train/acc: 0.6087   valid/acc: 0.3426\n",
      "Epoch: 2000   train/loss: 12.9628   valid/loss: 45.7164   train/acc: 0.6522   valid/acc: 0.3148\n",
      "Epoch: 2200   train/loss: 13.1656   valid/loss: 46.8217   train/acc: 0.6522   valid/acc: 0.2963\n",
      "Epoch: 2400   train/loss: 12.9817   valid/loss: 48.0859   train/acc: 0.6232   valid/acc: 0.2963\n",
      "Epoch: 2600   train/loss: 12.966   valid/loss: 46.8137   train/acc: 0.6232   valid/acc: 0.3241\n",
      "Epoch: 2800   train/loss: 12.7348   valid/loss: 46.0809   train/acc: 0.6522   valid/acc: 0.2963\n",
      "Epoch: 3000   train/loss: 12.2803   valid/loss: 46.7966   train/acc: 0.6522   valid/acc: 0.2963\n",
      "Epoch: 3200   train/loss: 12.8928   valid/loss: 47.2007   train/acc: 0.6377   valid/acc: 0.3056\n",
      "Epoch: 3400   train/loss: 12.6365   valid/loss: 47.6594   train/acc: 0.6667   valid/acc: 0.3148\n",
      "Epoch: 3600   train/loss: 11.9841   valid/loss: 47.4631   train/acc: 0.6957   valid/acc: 0.3056\n",
      "Epoch: 3800   train/loss: 12.2915   valid/loss: 47.4235   train/acc: 0.6667   valid/acc: 0.3056\n",
      "Epoch: 4000   train/loss: 12.4559   valid/loss: 47.9501   train/acc: 0.6812   valid/acc: 0.3241\n"
     ]
    },
    {
     "name": "stdout",
     "output_type": "stream",
     "text": [
      "Test accuracy: 0.3333333333333333\n",
      "Progress:  0.156\n",
      "Number of training circuits: 70   Number of validation circuits: 108   Number of test circuits: 108   Number of parameters in model: 234\n"
     ]
    },
    {
     "name": "stderr",
     "output_type": "stream",
     "text": [
      "Epoch: 200   train/loss: 19.1783   valid/loss: 42.8819   train/acc: 0.4714   valid/acc: 0.2963\n",
      "Epoch: 400   train/loss: 17.2915   valid/loss: 40.6901   train/acc: 0.6286   valid/acc: 0.3241\n",
      "Epoch: 600   train/loss: 16.4558   valid/loss: 40.4339   train/acc: 0.6286   valid/acc: 0.3333\n",
      "Epoch: 800   train/loss: 15.7874   valid/loss: 43.7836   train/acc: 0.6429   valid/acc: 0.3426\n",
      "Epoch: 1000   train/loss: 15.4103   valid/loss: 40.3343   train/acc: 0.6714   valid/acc: 0.3611\n",
      "Epoch: 1200   train/loss: 14.3843   valid/loss: 41.3046   train/acc: 0.6571   valid/acc: 0.3704\n",
      "Epoch: 1400   train/loss: 14.4149   valid/loss: 40.3994   train/acc: 0.7   valid/acc: 0.3704\n",
      "Epoch: 1600   train/loss: 13.708   valid/loss: 41.2445   train/acc: 0.6714   valid/acc: 0.3519\n",
      "Epoch: 1800   train/loss: 13.3562   valid/loss: 41.502   train/acc: 0.7143   valid/acc: 0.3333\n",
      "Epoch: 2000   train/loss: 13.1556   valid/loss: 42.2364   train/acc: 0.7   valid/acc: 0.3426\n",
      "Epoch: 2200   train/loss: 13.1329   valid/loss: 44.9078   train/acc: 0.6714   valid/acc: 0.3426\n",
      "Epoch: 2400   train/loss: 13.3505   valid/loss: 41.9545   train/acc: 0.7   valid/acc: 0.3426\n",
      "Epoch: 2600   train/loss: 12.8904   valid/loss: 43.9237   train/acc: 0.7   valid/acc: 0.3426\n",
      "Epoch: 2800   train/loss: 13.0136   valid/loss: 45.539   train/acc: 0.7   valid/acc: 0.3426\n",
      "Epoch: 3000   train/loss: 13.393   valid/loss: 45.5416   train/acc: 0.6857   valid/acc: 0.3333\n",
      "Epoch: 3200   train/loss: 12.2501   valid/loss: 47.1998   train/acc: 0.7143   valid/acc: 0.3333\n",
      "Epoch: 3400   train/loss: 12.1313   valid/loss: 45.763   train/acc: 0.7143   valid/acc: 0.3333\n",
      "Epoch: 3600   train/loss: 12.3318   valid/loss: 46.8724   train/acc: 0.7429   valid/acc: 0.3241\n",
      "Epoch: 3800   train/loss: 12.4556   valid/loss: 48.2879   train/acc: 0.7143   valid/acc: 0.3519\n",
      "Epoch: 4000   train/loss: 12.0601   valid/loss: 47.0892   train/acc: 0.7286   valid/acc: 0.3333\n"
     ]
    },
    {
     "name": "stdout",
     "output_type": "stream",
     "text": [
      "Test accuracy: 0.4166666666666667\n",
      "Progress:  0.158\n",
      "Number of training circuits: 71   Number of validation circuits: 108   Number of test circuits: 108   Number of parameters in model: 234\n"
     ]
    },
    {
     "name": "stderr",
     "output_type": "stream",
     "text": [
      "Epoch: 200   train/loss: 20.3081   valid/loss: 40.8857   train/acc: 0.3662   valid/acc: 0.287\n",
      "Epoch: 400   train/loss: 17.455   valid/loss: 40.6402   train/acc: 0.507   valid/acc: 0.3333\n",
      "Epoch: 600   train/loss: 16.4644   valid/loss: 41.5764   train/acc: 0.5211   valid/acc: 0.3611\n",
      "Epoch: 800   train/loss: 16.1079   valid/loss: 41.3221   train/acc: 0.5775   valid/acc: 0.3426\n",
      "Epoch: 1000   train/loss: 15.5738   valid/loss: 42.4858   train/acc: 0.5775   valid/acc: 0.3611\n",
      "Epoch: 1200   train/loss: 14.8404   valid/loss: 44.7469   train/acc: 0.6056   valid/acc: 0.3611\n",
      "Epoch: 1400   train/loss: 14.5583   valid/loss: 45.6329   train/acc: 0.7042   valid/acc: 0.3611\n",
      "Epoch: 1600   train/loss: 14.9507   valid/loss: 45.4216   train/acc: 0.662   valid/acc: 0.3796\n",
      "Epoch: 1800   train/loss: 14.4534   valid/loss: 46.4276   train/acc: 0.662   valid/acc: 0.3796\n",
      "Epoch: 2000   train/loss: 14.1908   valid/loss: 49.5292   train/acc: 0.6479   valid/acc: 0.3704\n",
      "Epoch: 2200   train/loss: 14.2058   valid/loss: 46.9751   train/acc: 0.6479   valid/acc: 0.3704\n",
      "Epoch: 2400   train/loss: 14.047   valid/loss: 48.8508   train/acc: 0.6761   valid/acc: 0.3704\n",
      "Epoch: 2600   train/loss: 14.2118   valid/loss: 49.6165   train/acc: 0.6479   valid/acc: 0.3704\n",
      "Epoch: 2800   train/loss: 14.3065   valid/loss: 49.7601   train/acc: 0.6338   valid/acc: 0.3704\n",
      "Epoch: 3000   train/loss: 14.4086   valid/loss: 50.0872   train/acc: 0.6761   valid/acc: 0.3704\n",
      "Epoch: 3200   train/loss: 13.6087   valid/loss: 50.0415   train/acc: 0.6901   valid/acc: 0.3611\n",
      "Epoch: 3400   train/loss: 13.7842   valid/loss: 49.7521   train/acc: 0.6761   valid/acc: 0.3796\n",
      "Epoch: 3600   train/loss: 13.548   valid/loss: 49.1925   train/acc: 0.6761   valid/acc: 0.3704\n",
      "Epoch: 3800   train/loss: 13.4009   valid/loss: 50.6498   train/acc: 0.6901   valid/acc: 0.3704\n",
      "Epoch: 4000   train/loss: 13.495   valid/loss: 50.7432   train/acc: 0.7042   valid/acc: 0.3704\n"
     ]
    },
    {
     "name": "stdout",
     "output_type": "stream",
     "text": [
      "Test accuracy: 0.3425925925925926\n",
      "Progress:  0.161\n",
      "Number of training circuits: 72   Number of validation circuits: 108   Number of test circuits: 108   Number of parameters in model: 234\n"
     ]
    },
    {
     "name": "stderr",
     "output_type": "stream",
     "text": [
      "Epoch: 200   train/loss: 19.3426   valid/loss: 37.054   train/acc: 0.5139   valid/acc: 0.287\n",
      "Epoch: 400   train/loss: 18.289   valid/loss: 40.6928   train/acc: 0.5278   valid/acc: 0.2778\n",
      "Epoch: 600   train/loss: 16.9473   valid/loss: 39.5654   train/acc: 0.5833   valid/acc: 0.3241\n",
      "Epoch: 800   train/loss: 16.7545   valid/loss: 39.6087   train/acc: 0.5556   valid/acc: 0.25\n",
      "Epoch: 1000   train/loss: 16.2627   valid/loss: 42.2097   train/acc: 0.6111   valid/acc: 0.3241\n",
      "Epoch: 1200   train/loss: 15.2889   valid/loss: 42.7768   train/acc: 0.6111   valid/acc: 0.3241\n",
      "Epoch: 1400   train/loss: 15.3847   valid/loss: 43.0167   train/acc: 0.5833   valid/acc: 0.287\n",
      "Epoch: 1600   train/loss: 15.0542   valid/loss: 42.4508   train/acc: 0.625   valid/acc: 0.287\n",
      "Epoch: 1800   train/loss: 15.2875   valid/loss: 46.8852   train/acc: 0.625   valid/acc: 0.2963\n",
      "Epoch: 2000   train/loss: 14.589   valid/loss: 44.1496   train/acc: 0.6111   valid/acc: 0.3148\n",
      "Epoch: 2200   train/loss: 14.9095   valid/loss: 44.0651   train/acc: 0.6389   valid/acc: 0.3241\n",
      "Epoch: 2400   train/loss: 14.4112   valid/loss: 46.2459   train/acc: 0.6111   valid/acc: 0.3241\n",
      "Epoch: 2600   train/loss: 14.5717   valid/loss: 46.7034   train/acc: 0.625   valid/acc: 0.3241\n",
      "Epoch: 2800   train/loss: 14.5297   valid/loss: 47.8055   train/acc: 0.625   valid/acc: 0.3241\n",
      "Epoch: 3000   train/loss: 14.1679   valid/loss: 48.0506   train/acc: 0.6389   valid/acc: 0.3241\n",
      "Epoch: 3200   train/loss: 14.3827   valid/loss: 45.1158   train/acc: 0.6111   valid/acc: 0.3241\n",
      "Epoch: 3400   train/loss: 14.0173   valid/loss: 44.5945   train/acc: 0.6111   valid/acc: 0.3241\n",
      "Epoch: 3600   train/loss: 13.9167   valid/loss: 45.3369   train/acc: 0.6528   valid/acc: 0.2963\n",
      "Epoch: 3800   train/loss: 14.1168   valid/loss: 49.3285   train/acc: 0.6667   valid/acc: 0.287\n",
      "Epoch: 4000   train/loss: 14.1831   valid/loss: 48.0894   train/acc: 0.6528   valid/acc: 0.287\n"
     ]
    },
    {
     "name": "stdout",
     "output_type": "stream",
     "text": [
      "Test accuracy: 0.37962962962962965\n",
      "Progress:  0.163\n",
      "Number of training circuits: 73   Number of validation circuits: 108   Number of test circuits: 108   Number of parameters in model: 234\n"
     ]
    },
    {
     "name": "stderr",
     "output_type": "stream",
     "text": [
      "Epoch: 200   train/loss: 20.8529   valid/loss: 41.4314   train/acc: 0.4247   valid/acc: 0.25\n",
      "Epoch: 400   train/loss: 19.3567   valid/loss: 41.1747   train/acc: 0.5205   valid/acc: 0.213\n",
      "Epoch: 600   train/loss: 18.4039   valid/loss: 42.1357   train/acc: 0.5342   valid/acc: 0.25\n",
      "Epoch: 800   train/loss: 17.9314   valid/loss: 42.8018   train/acc: 0.5479   valid/acc: 0.287\n",
      "Epoch: 1000   train/loss: 17.8337   valid/loss: 43.1441   train/acc: 0.5479   valid/acc: 0.2778\n",
      "Epoch: 1200   train/loss: 17.803   valid/loss: 45.1677   train/acc: 0.5479   valid/acc: 0.2685\n",
      "Epoch: 1400   train/loss: 17.1872   valid/loss: 45.3315   train/acc: 0.5616   valid/acc: 0.2593\n",
      "Epoch: 1600   train/loss: 17.5063   valid/loss: 45.8727   train/acc: 0.5753   valid/acc: 0.2593\n",
      "Epoch: 1800   train/loss: 16.7514   valid/loss: 46.5164   train/acc: 0.589   valid/acc: 0.25\n",
      "Epoch: 2000   train/loss: 16.7342   valid/loss: 47.4758   train/acc: 0.589   valid/acc: 0.2593\n",
      "Epoch: 2200   train/loss: 16.5201   valid/loss: 46.9524   train/acc: 0.5479   valid/acc: 0.2593\n",
      "Epoch: 2400   train/loss: 16.5735   valid/loss: 46.7611   train/acc: 0.5753   valid/acc: 0.25\n",
      "Epoch: 2600   train/loss: 16.5728   valid/loss: 45.859   train/acc: 0.5616   valid/acc: 0.25\n",
      "Epoch: 2800   train/loss: 16.1918   valid/loss: 45.809   train/acc: 0.589   valid/acc: 0.287\n",
      "Epoch: 3000   train/loss: 16.3644   valid/loss: 44.7141   train/acc: 0.589   valid/acc: 0.3148\n",
      "Epoch: 3200   train/loss: 15.8305   valid/loss: 47.5073   train/acc: 0.6164   valid/acc: 0.2963\n",
      "Epoch: 3400   train/loss: 16.0153   valid/loss: 46.2126   train/acc: 0.6301   valid/acc: 0.3056\n",
      "Epoch: 3600   train/loss: 16.6476   valid/loss: 47.098   train/acc: 0.6027   valid/acc: 0.3056\n",
      "Epoch: 3800   train/loss: 16.7701   valid/loss: 47.8372   train/acc: 0.6027   valid/acc: 0.3241\n",
      "Epoch: 4000   train/loss: 16.2867   valid/loss: 47.6488   train/acc: 0.6438   valid/acc: 0.3241\n"
     ]
    },
    {
     "name": "stdout",
     "output_type": "stream",
     "text": [
      "Test accuracy: 0.3055555555555556\n",
      "Progress:  0.165\n",
      "Number of training circuits: 74   Number of validation circuits: 108   Number of test circuits: 108   Number of parameters in model: 234\n"
     ]
    },
    {
     "name": "stderr",
     "output_type": "stream",
     "text": [
      "Epoch: 200   train/loss: 19.3873   valid/loss: 43.4513   train/acc: 0.5135   valid/acc: 0.3333\n",
      "Epoch: 400   train/loss: 17.7547   valid/loss: 40.3317   train/acc: 0.5946   valid/acc: 0.2963\n",
      "Epoch: 600   train/loss: 16.3777   valid/loss: 41.292   train/acc: 0.6081   valid/acc: 0.3333\n",
      "Epoch: 800   train/loss: 15.6551   valid/loss: 42.8703   train/acc: 0.6757   valid/acc: 0.3426\n",
      "Epoch: 1000   train/loss: 15.3663   valid/loss: 44.9401   train/acc: 0.6757   valid/acc: 0.3148\n",
      "Epoch: 1200   train/loss: 15.2466   valid/loss: 45.0266   train/acc: 0.6892   valid/acc: 0.3148\n",
      "Epoch: 1400   train/loss: 15.1346   valid/loss: 46.0021   train/acc: 0.6757   valid/acc: 0.3148\n",
      "Epoch: 1600   train/loss: 14.8778   valid/loss: 46.3658   train/acc: 0.7027   valid/acc: 0.3241\n",
      "Epoch: 1800   train/loss: 14.7094   valid/loss: 45.6786   train/acc: 0.7162   valid/acc: 0.3426\n",
      "Epoch: 2000   train/loss: 14.4048   valid/loss: 48.9721   train/acc: 0.7027   valid/acc: 0.3241\n",
      "Epoch: 2200   train/loss: 14.4932   valid/loss: 47.8366   train/acc: 0.6892   valid/acc: 0.3148\n",
      "Epoch: 2400   train/loss: 14.6363   valid/loss: 47.4771   train/acc: 0.6892   valid/acc: 0.3148\n",
      "Epoch: 2600   train/loss: 14.4112   valid/loss: 49.0682   train/acc: 0.7027   valid/acc: 0.3148\n",
      "Epoch: 2800   train/loss: 14.938   valid/loss: 51.9509   train/acc: 0.6757   valid/acc: 0.3241\n",
      "Epoch: 3000   train/loss: 14.4187   valid/loss: 50.621   train/acc: 0.7162   valid/acc: 0.3148\n",
      "Epoch: 3200   train/loss: 14.1849   valid/loss: 50.6449   train/acc: 0.7027   valid/acc: 0.3426\n",
      "Epoch: 3400   train/loss: 14.4393   valid/loss: 51.2443   train/acc: 0.7162   valid/acc: 0.3426\n",
      "Epoch: 3600   train/loss: 14.0937   valid/loss: 50.7029   train/acc: 0.7027   valid/acc: 0.3241\n",
      "Epoch: 3800   train/loss: 14.6813   valid/loss: 51.5489   train/acc: 0.7027   valid/acc: 0.3241\n",
      "Epoch: 4000   train/loss: 14.6647   valid/loss: 49.5566   train/acc: 0.7162   valid/acc: 0.3241\n"
     ]
    },
    {
     "name": "stdout",
     "output_type": "stream",
     "text": [
      "Test accuracy: 0.37037037037037035\n",
      "Progress:  0.167\n",
      "Number of training circuits: 75   Number of validation circuits: 108   Number of test circuits: 108   Number of parameters in model: 234\n"
     ]
    }
   ],
   "source": [
    "for i, key in enumerate(all_training_keys[initial_number_of_circuits:]):\n",
    "    print(\"Progress: \", round((i + initial_number_of_circuits)/len(all_training_keys), 3))\n",
    "    \n",
    "    if len(syms) == len(get_symbols(current_training_circuits)) and i > 0:\n",
    "        if i != len(all_training_keys[1:]):\n",
    "            current_training_circuits[key] = training_circuits[key]\n",
    "            new_parameters = sorted(get_symbols({key: training_circuits[key]}), key=default_sort_key)\n",
    "            if result:\n",
    "                parameters, init_params_spsa = initialize_parameters(parameters, result.x, new_parameters)\n",
    "                #continue\n",
    "            else:\n",
    "                syms = get_symbols(current_training_circuits)\n",
    "                parameters = sorted(syms, key=default_sort_key)\n",
    "                init_params_spsa = np.array(rng.random(len(parameters)))\n",
    "    else:\n",
    "        run += 1\n",
    "    \n",
    "    # Select those circuits from test and validation circuits which share the parameters with the current training circuits\n",
    "    current_validation_circuits = select_circuits(current_training_circuits, validation_circuits)\n",
    "    current_test_circuits = select_circuits(current_training_circuits, test_circuits)\n",
    "    \n",
    "    if len(current_validation_circuits) == 0 or len(current_test_circuits) == 0:\n",
    "        continue\n",
    "    \n",
    "    # Create lists with circuits and their corresponding label\n",
    "    training_circuits_l, training_data_labels_l = construct_data_and_labels(current_training_circuits, training_data_labels)\n",
    "    validation_circuits_l, validation_data_labels_l = construct_data_and_labels(current_validation_circuits, validation_data_labels)\n",
    "    test_circuits_l, test_data_labels_l = construct_data_and_labels(current_test_circuits, test_data_labels)\n",
    "    \n",
    "    # Limit the number of validation and test circuits to 20% of number of the training circuits\n",
    "    if limit:\n",
    "        val_test_circ_size = ceil(len(current_training_circuits))\n",
    "        if len(current_validation_circuits) > val_test_circ_size:\n",
    "            validation_circuits_l = validation_circuits_l[:val_test_circ_size]\n",
    "            validation_data_labels_l = validation_data_labels_l[:val_test_circ_size]\n",
    "        if len(current_test_circuits) > val_test_circ_size:\n",
    "            test_circuits_l = test_circuits_l[:val_test_circ_size]\n",
    "            test_data_labels_l = test_data_labels_l[:val_test_circ_size]\n",
    "    \n",
    "    stats = f\"Number of training circuits: {len(training_circuits_l)}   \"\\\n",
    "        + f\"Number of validation circuits: {len(validation_circuits_l)}   \"\\\n",
    "        + f\"Number of test circuits: {len(test_circuits_l)}   \"\\\n",
    "        + f\"Number of parameters in model: {len(set([sym for circuit in training_circuits_l for sym in circuit.free_symbols]))}\"\n",
    "    \n",
    "    with open(\"results//\" + result_file + \".txt\", \"a\") as f:\n",
    "        f.write(stats + \"\\n\")\n",
    "    \n",
    "    print(stats)\n",
    "    \n",
    "    train_pred_fn = jit(make_pred_fn(training_circuits_l))\n",
    "    dev_pred_fn = jit(make_pred_fn(validation_circuits_l))\n",
    "    test_pred_fn = make_pred_fn(test_circuits_l)\n",
    "    \n",
    "    train_cost_fn, train_costs, train_accs = make_cost_fn(train_pred_fn, training_data_labels_l)\n",
    "    dev_cost_fn, dev_costs, dev_accs = make_cost_fn(dev_pred_fn, validation_data_labels_l)\n",
    "    \n",
    "    def callback_fn(xk):\n",
    "        #print(xk)\n",
    "        valid_loss = dev_cost_fn(xk)\n",
    "        train_loss = numpy.around(min(float(train_costs[-1]), float(train_costs[-2])), 4)\n",
    "        train_acc = numpy.around(min(float(train_accs[-1]), float(train_accs[-2])), 4)\n",
    "        valid_acc = numpy.around(float(dev_accs[-1]), 4)\n",
    "        iters = int(len(train_accs)/2)\n",
    "        if iters % 200 == 0:\n",
    "            info = f\"Epoch: {iters}   \"\\\n",
    "            + f\"train/loss: {train_loss}   \"\\\n",
    "            + f\"valid/loss: {numpy.around(float(valid_loss), 4)}   \"\\\n",
    "            + f\"train/acc: {train_acc}   \"\\\n",
    "            + f\"valid/acc: {valid_acc}\"\n",
    "        \n",
    "            with open(\"results//\" + result_file + \".txt\", \"a\") as f:\n",
    "                f.write(info + \"\\n\")\n",
    "                \n",
    "            print(info, file=sys.stderr)\n",
    "        return valid_loss\n",
    "    \n",
    "    a_value = 0.0053\n",
    "    c_value = 0.0185\n",
    "            \n",
    "    train_cost_fn, train_costs, train_accs = make_cost_fn(train_pred_fn, training_data_labels_l)\n",
    "    dev_cost_fn, dev_costs, dev_accs = make_cost_fn(dev_pred_fn, validation_data_labels_l)\n",
    "\n",
    "    result = minimizeSPSA(train_cost_fn, x0=init_params_spsa, a = a_value, c = c_value, niter=EPOCHS, callback=callback_fn)\n",
    "    #result = minimizeCompass(train_cost_fn, x0=init_params_spsa, redfactor=2.0, deltainit=1.0, deltatol=0.001, feps=1e-15, errorcontrol=True, funcNinit=30, funcmultfactor=2.0, paired=True, alpha=0.05, callback=callback_fn)\n",
    "\n",
    "    figure_path = this_folder + \"//results//\" + result_file + \".png\"\n",
    "    visualize_result_noisyopt(result, make_cost_fn, test_pred_fn, test_data_labels_l, train_costs, train_accs, dev_costs, dev_accs, figure_path, result_file)\n",
    "    \n",
    "    run += 1\n",
    "    #EPOCHS += 100\n",
    "    syms = get_symbols(current_training_circuits)\n",
    "    \n",
    "    # Extend for the next optimization round\n",
    "    current_training_circuits[key] = training_circuits[key]\n",
    "    new_parameters = sorted(get_symbols({key: training_circuits[key]}), key=default_sort_key)\n",
    "    parameters, init_params_spsa = initialize_parameters(parameters, result.x, new_parameters)"
   ]
  }
 ],
 "metadata": {
  "kernelspec": {
   "display_name": "Python 3 (ipykernel)",
   "language": "python",
   "name": "python3"
  },
  "language_info": {
   "codemirror_mode": {
    "name": "ipython",
    "version": 3
   },
   "file_extension": ".py",
   "mimetype": "text/x-python",
   "name": "python",
   "nbconvert_exporter": "python",
   "pygments_lexer": "ipython3",
   "version": "3.8.10"
  }
 },
 "nbformat": 4,
 "nbformat_minor": 5
}
