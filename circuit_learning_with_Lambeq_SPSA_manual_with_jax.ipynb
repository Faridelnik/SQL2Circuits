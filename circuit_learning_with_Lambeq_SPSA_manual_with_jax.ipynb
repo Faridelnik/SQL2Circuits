{
 "cells": [
  {
   "cell_type": "markdown",
   "id": "b09952d6-99a3-41a5-865f-2170e9ee0247",
   "metadata": {},
   "source": [
    "# Circuit learning module: Lambeq manually with SPSA and JAX"
   ]
  },
  {
   "cell_type": "markdown",
   "id": "bb811fe4-d729-4a44-838d-9c02db4a644d",
   "metadata": {},
   "source": [
    "This module performs the optimization of the parametrized circuit manually compared to Lambeq's automatic QuantumTrainer class. I created this because I wanted to have more control over the optimization process and debug it better. The code is based on the workflow presented in https://github.com/CQCL/Quanthoven."
   ]
  },
  {
   "cell_type": "code",
   "execution_count": 1,
   "id": "c9a5783f-901a-4bfe-a622-4003b345fb1b",
   "metadata": {},
   "outputs": [],
   "source": [
    "import warnings\n",
    "import json\n",
    "import os\n",
    "import sys\n",
    "import glob\n",
    "from math import ceil\n",
    "from pathlib import Path\n",
    "from jax import numpy as np\n",
    "from sympy import default_sort_key\n",
    "import numpy\n",
    "import pickle\n",
    "import matplotlib.pyplot as plt\n",
    "\n",
    "import jax\n",
    "from jax import jit\n",
    "from noisyopt import minimizeSPSA, minimizeCompass\n",
    "\n",
    "from discopy.quantum import Circuit\n",
    "from discopy.tensor import Tensor\n",
    "from discopy.utils import loads\n",
    "#from pytket.extensions.qiskit import AerBackend\n",
    "#from pytket.extensions.qulacs import QulacsBackend\n",
    "#from pytket.extensions.cirq import CirqStateSampleBackend\n",
    "backend = None\n",
    "\n",
    "from utils import *\n",
    "from sklearn.metrics import accuracy_score, recall_score, precision_score, f1_score\n",
    "\n",
    "warnings.filterwarnings('ignore')\n",
    "this_folder = os.path.abspath(os.getcwd())\n",
    "os.environ['TOKENIZERS_PARALLELISM'] = 'true'\n",
    "#os.environ[\"JAX_PLATFORMS\"] = \"cpu\"\n",
    "\n",
    "SEED = 0\n",
    "\n",
    "# This avoids TracerArrayConversionError from jax\n",
    "Tensor.np = np\n",
    "\n",
    "rng = numpy.random.default_rng(SEED)\n",
    "numpy.random.seed(SEED)"
   ]
  },
  {
   "cell_type": "markdown",
   "id": "238fca40-5d8d-4ace-a65f-693885a8caf8",
   "metadata": {},
   "source": [
    "## Read circuit data"
   ]
  },
  {
   "cell_type": "markdown",
   "id": "7f6f00d7-b573-4c5d-a0d6-d5eafc54745e",
   "metadata": {},
   "source": [
    "We read the circuits from the pickled files. Select if we perform binary classification or multi-class classification. Give number of qubits to create classes:\n",
    "- 1 qubits -> 2^1 = 2 classes i.e. binary classification\n",
    "- 2 qubits -> 2^2 = 4 classes\n",
    "- ...\n",
    "- 5 qubits -> 2^5 = 32 classes, etc."
   ]
  },
  {
   "cell_type": "code",
   "execution_count": 2,
   "id": "01bac1f9-3bc0-4a25-8f4f-baa2b9c581e9",
   "metadata": {},
   "outputs": [],
   "source": [
    "# Select workload\n",
    "workload = \"execution_time\"\n",
    "#workload = \"cardinality\"\n",
    "\n",
    "# Select workload size\n",
    "#workload_size = \"small\"\n",
    "#workload_size = \"medium\"\n",
    "#workload_size = \"large\"\n",
    "workload_size = \"main\"\n",
    "\n",
    "classification = 2\n",
    "layers = 1\n",
    "single_qubit_params = 3\n",
    "n_wire_count = 1\n",
    "\n",
    "loss = multi_class_loss\n",
    "acc = multi_class_acc\n",
    "\n",
    "if classification == 1:\n",
    "    loss = bin_class_loss\n",
    "    acc = bin_class_acc\n",
    "\n",
    "# Access the selected circuits\n",
    "path_name = this_folder + \"//simplified-JOB-diagrams//\" + workload + \"//\" + workload_size + \"//circuits//\" + str(classification) + \"//\" + str(layers) + \"_layer//\" + str(single_qubit_params) + \"_single_qubit_params//\" + str(n_wire_count) + \"_n_wire_count//\"\n",
    "\n",
    "training_circuits_paths = glob.glob(path_name + \"training//[0-9]*.p\")\n",
    "validation_circuits_paths = glob.glob(path_name + \"validation//[0-9]*.p\")\n",
    "test_circuits_paths = glob.glob(path_name + \"test//[0-9]*.p\")"
   ]
  },
  {
   "cell_type": "code",
   "execution_count": 3,
   "id": "5ff0a551-444c-40a7-bf66-8e929bc49a64",
   "metadata": {},
   "outputs": [],
   "source": [
    "training_circuits = read_diagrams(training_circuits_paths)\n",
    "validation_circuits = read_diagrams(validation_circuits_paths)\n",
    "test_circuits = read_diagrams(test_circuits_paths)"
   ]
  },
  {
   "cell_type": "markdown",
   "id": "f2da3a7c-6a93-44e9-9640-7e9ead005cb2",
   "metadata": {},
   "source": [
    "## Read training and test data"
   ]
  },
  {
   "cell_type": "code",
   "execution_count": 4,
   "id": "774e9f52-69c9-4e1c-8a70-76e1198d12f4",
   "metadata": {},
   "outputs": [],
   "source": [
    "training_data, test_data, validation_data = None, None, None\n",
    "data_path = this_folder + \"//data//\" + workload + \"//\" + workload_size + \"//\"\n",
    "\n",
    "with open(data_path + \"training_data.json\", \"r\") as inputfile:\n",
    "    training_data = json.load(inputfile)['training_data']\n",
    "with open(data_path + \"test_data.json\", \"r\") as inputfile:\n",
    "    test_data = json.load(inputfile)['test_data']\n",
    "with open(data_path + \"validation_data.json\", \"r\") as inputfile:\n",
    "    validation_data = json.load(inputfile)['validation_data']\n",
    "\n",
    "training_data_labels = create_labeled_classes(training_data, classification, workload)\n",
    "test_data_labels = create_labeled_classes(test_data, classification, workload)\n",
    "validation_data_labels = create_labeled_classes(validation_data, classification, workload)"
   ]
  },
  {
   "cell_type": "raw",
   "id": "7c6abda1-a3a2-4919-b701-d29380e05524",
   "metadata": {},
   "source": [
    "res = [0,0,0,0]\n",
    "for k in training_data_labels.values():\n",
    "    res[k.index(1)] += 1       \n",
    "print(res)"
   ]
  },
  {
   "cell_type": "markdown",
   "id": "f6cad830-e6c3-4c29-9ce6-0d6bec2794bc",
   "metadata": {},
   "source": [
    "## Lambeq optimizer"
   ]
  },
  {
   "cell_type": "raw",
   "id": "be555e95-e7aa-4f1b-bf4d-29acd66056b0",
   "metadata": {},
   "source": [
    "#all_circuits = list(training_circuits.values()) + list(test_circuits.values())\n",
    "\n",
    "training_circuits_l = []\n",
    "test_circuits_l = []\n",
    "validation_circuits_l = []\n",
    "\n",
    "training_data_labels_l = []\n",
    "test_data_labels_l = []\n",
    "validation_data_labels_l = []\n",
    "\n",
    "# Organize circuits and labels in correct order into two lists which will be input for training the model\n",
    "for key in training_data_labels:\n",
    "    training_circuits_l.append(training_circuits[key])\n",
    "    training_data_labels_l.append(training_data_labels[key])\n",
    "\n",
    "for key in test_data_labels:\n",
    "    test_circuits_l.append(test_circuits[key])\n",
    "    test_data_labels_l.append(test_data_labels[key])\n",
    "    \n",
    "for key in validation_data_labels:\n",
    "    validation_circuits_l.append(validation_circuits[key])\n",
    "    validation_data_labels_l.append(validation_data_labels[key])\n",
    "\n",
    "all_circuits = training_circuits_l + test_circuits_l + validation_circuits_l\n",
    "\n",
    "train_syms = set([sym for circuit in training_circuits.values() for sym in circuit.free_symbols])\n",
    "test_syms = set([sym for circuit in test_circuits.values() for sym in circuit.free_symbols])\n",
    "val_syms = set([sym for circuit in validation_circuits.values() for sym in circuit.free_symbols])\n",
    "\n",
    "print(\"Test circuits need to share training circuits' parameters. The parameters that are not covered (should be empty set, set()): \", test_syms.difference(train_syms))\n",
    "print(\"Validation circuits need to share training circuits' parameters. The parameters that are not covered (should be empty set, set()): \", val_syms.difference(train_syms))\n",
    "\n",
    "print(\"Total number of circuits: \", len(all_circuits))\n",
    "print(\"Total number of variables: \", len(train_syms))"
   ]
  },
  {
   "cell_type": "raw",
   "id": "ecd5daca-fdba-44fe-961d-5b9b9c3c68cb",
   "metadata": {},
   "source": [
    "training_data_labels_l = np.array(training_data_labels_l)\n",
    "test_data_labels_l = np.array(test_data_labels_l)\n",
    "validation_data_labels_l = np.array(validation_data_labels_l)"
   ]
  },
  {
   "cell_type": "markdown",
   "id": "572abfc1-cc81-4fdb-b8bb-6813fe658dd6",
   "metadata": {},
   "source": [
    "## Model"
   ]
  },
  {
   "cell_type": "raw",
   "id": "75f97a9a-c5fc-4d9b-920f-9eb0795ca018",
   "metadata": {},
   "source": [
    "parameters = sorted(\n",
    "    train_syms,\n",
    "    key=default_sort_key)\n",
    "\n",
    "rng = numpy.random.default_rng(SEED)\n",
    "init_params_spsa = np.array(rng.random(len(parameters)))\n",
    "numpy.random.seed(SEED)"
   ]
  },
  {
   "cell_type": "code",
   "execution_count": 5,
   "id": "04c65634-fa13-47b3-915c-83361d0e1baf",
   "metadata": {},
   "outputs": [],
   "source": [
    "def make_pred_fn(circuits):\n",
    "    # In the case we want to use other backends. \n",
    "    # Currently does not work properly.\n",
    "    if backend:\n",
    "        compiled_circuits1 = backend.get_compiled_circuits([c.to_tk() for c in circuits])\n",
    "        circuits = [Circuit.from_tk(c) for c in compiled_circuits1]\n",
    "        \n",
    "    circuit_fns = [c.lambdify(*parameters) for c in circuits]\n",
    "    \n",
    "    def predict(params):\n",
    "        outputs = Circuit.eval(*(c(*params) for c in circuit_fns), backend = backend)\n",
    "        res = []\n",
    "        \n",
    "        for output in outputs:\n",
    "            predictions = np.abs(output.array) + 1e-9\n",
    "            ratio = predictions / predictions.sum()\n",
    "            res.append(ratio)\n",
    "            \n",
    "        return np.array(res)\n",
    "    return predict"
   ]
  },
  {
   "cell_type": "markdown",
   "id": "868cf7e7-fcbf-4bad-b8bc-4ff0e6b29294",
   "metadata": {},
   "source": [
    "## Loss function and evaluation"
   ]
  },
  {
   "cell_type": "code",
   "execution_count": 6,
   "id": "f376b4aa-0ec6-4037-80eb-935aa75a2f74",
   "metadata": {},
   "outputs": [],
   "source": [
    "def make_cost_fn(pred_fn, labels):\n",
    "    def cost_fn(params, **kwargs):\n",
    "        predictions = pred_fn(params)\n",
    "\n",
    "        cost = loss(predictions, labels) #-np.sum(labels * np.log(predictions)) / len(labels)  # binary cross-entropy loss\n",
    "        costs.append(cost)\n",
    "\n",
    "        accuracy = acc(predictions, labels) #np.sum(np.round(predictions) == labels) / len(labels) / 2  # half due to double-counting\n",
    "        accuracies.append(accuracy)\n",
    "\n",
    "        return cost\n",
    "\n",
    "    costs, accuracies = [], []\n",
    "    return cost_fn, costs, accuracies"
   ]
  },
  {
   "cell_type": "markdown",
   "id": "a3bb6805-facb-4ec9-9c38-8d1df42022b2",
   "metadata": {},
   "source": [
    "## Minimization with noisyopt"
   ]
  },
  {
   "cell_type": "raw",
   "id": "53bc5cb8-8960-46d9-a64e-02b96fb97acc",
   "metadata": {},
   "source": [
    "EPOCHS = 1000\n",
    "SEED = 0\n",
    "\n",
    "# This avoids TracerArrayConversionError from jax\n",
    "Tensor.np = np\n",
    "\n",
    "rng = numpy.random.default_rng(SEED)\n",
    "init_params_spsa = np.array(rng.random(len(parameters)))\n",
    "numpy.random.seed(SEED)\n",
    "\n",
    "train_cost_fn, train_costs, train_accs = make_cost_fn(train_pred_fn, training_data_labels_l)\n",
    "dev_cost_fn, dev_costs, dev_accs = make_cost_fn(dev_pred_fn, validation_data_labels_l)\n",
    "\n",
    "def callback_fn(xk):\n",
    "    valid_loss = dev_cost_fn(xk)\n",
    "    train_loss = round(train_costs[-1], 4)\n",
    "    train_acc = round(train_accs[-1], 4)\n",
    "    valid_acc = round(dev_accs[-1], 4)\n",
    "    iters = int(len(train_accs)/2)\n",
    "    if iters % 100 == 0:\n",
    "        print(\n",
    "                #f\"Params = {xk}, \"\n",
    "                f\"Epoch: {iters}   \",\n",
    "                f\"train/loss: {train_loss}   \",\n",
    "                f\"valid/loss: {round(valid_loss, 4)}   \",\n",
    "                f\"train/acc: {train_acc}   \",\n",
    "                f\"valid/acc: {valid_acc}\"\n",
    "            )\n",
    "    return valid_loss"
   ]
  },
  {
   "cell_type": "raw",
   "id": "cc202031-11f7-4307-96de-8c642d65ce4d",
   "metadata": {},
   "source": [
    "#a_values = [100.0, 10.0, 1.0, 0.1, 0.01, 0.001, 0.0001, 0.00001, 0.000001]\n",
    "#c_values = [100.0, 10.0, 1.0, 0.1, 0.01, 0.001, 0.0001, 0.00001, 0.000001]\n",
    "\n",
    "#a_values = [0.001, 0.005, 0.01, 0.015, 0.02, 0.025, 0.03]\n",
    "#c_values = [0.001, 0.005, 0.01, 0.015, 0.02, 0.025, 0.03]\n",
    "\n",
    "run = 6\n",
    "#a_values = [0.0055, 0.0054, 0.0052, 0.005, 0.0048, 0.0045, 0.004]\n",
    "#c_values = [0.012, 0.016, 0.018, 0.02, 0.022, 0.025, 0.03]\n",
    "\n",
    "#a_values = [0.0053, 0.0054, 0.0055, 0.0056, 0.0057]\n",
    "#c_values = [0.017, 0.0175, 0.018, 0.0185, 0.019]\n",
    "\n",
    "a_values = [0.0052, 0.00525, 0.0053, 0.00535, 0.0054]\n",
    "c_values = [0.0183, 0.0184, 0.0185, 0.0186, 0.0187] \n",
    "\n",
    "for i, a_value in enumerate(a_values):\n",
    "    for j, c_value in enumerate(c_values):\n",
    "        train_cost_fn, train_costs, train_accs = make_cost_fn(train_pred_fn, training_data_labels_l)\n",
    "        dev_cost_fn, dev_costs, dev_accs = make_cost_fn(dev_pred_fn, validation_data_labels_l)\n",
    "        \n",
    "        result = minimizeSPSA(train_cost_fn, x0=init_params_spsa, a = a_value, c = c_value, niter=EPOCHS, callback=callback_fn)"
   ]
  },
  {
   "cell_type": "code",
   "execution_count": 7,
   "id": "85b70bae-fe88-4852-a423-658641380e57",
   "metadata": {},
   "outputs": [],
   "source": [
    "def initialize_parameters(old_params, old_values, new_params):\n",
    "    new_values = list(numpy.array(rng.random(len(new_params))))\n",
    "    old_param_dict = {}\n",
    "    for p, v in zip(old_params, old_values):\n",
    "        old_param_dict[p] = v\n",
    "        \n",
    "    parameters = sorted(set(old_params + new_params), key=default_sort_key)\n",
    "    values = []\n",
    "    for p in parameters:\n",
    "        if p in old_param_dict:\n",
    "            values.append(old_param_dict[p])\n",
    "        else:\n",
    "            values.append(new_values.pop())\n",
    "            \n",
    "    return parameters, np.array(values)"
   ]
  },
  {
   "cell_type": "code",
   "execution_count": 8,
   "id": "4dd1d87d-047d-4feb-9dbc-c972bbabf741",
   "metadata": {},
   "outputs": [
    {
     "name": "stdout",
     "output_type": "stream",
     "text": [
      "Loading parameters from file execution_time_main_noisyopt_2_1_3\n"
     ]
    }
   ],
   "source": [
    "EPOCHS = 4000\n",
    "initial_number_of_circuits = 104\n",
    "syms = {}\n",
    "limit = False\n",
    "all_training_keys = list(training_circuits.keys())\n",
    "initial_circuit_keys = all_training_keys[:initial_number_of_circuits + 1]\n",
    "current_training_circuits = {}\n",
    "result_file = workload + \"_\" + workload_size + \"_noisyopt_\" + str(classification) + \"_\" + str(layers) + \"_\" + str(single_qubit_params)\n",
    "\n",
    "for k in initial_circuit_keys:\n",
    "    current_training_circuits[k] = training_circuits[k]\n",
    "    \n",
    "syms = get_symbols(current_training_circuits)\n",
    "parameters = sorted(syms, key=default_sort_key)\n",
    "if initial_number_of_circuits > 5 and os.path.exists(\"points//\" + result_file + \".npz\"):\n",
    "    with open(\"points//\" + result_file + \".npz\", \"rb\") as f:\n",
    "        print(\"Loading parameters from file \" + result_file)\n",
    "        npzfile = np.load(f)\n",
    "        init_params_spsa = npzfile['arr_0']\n",
    "else:\n",
    "    print(\"Initializing new parameters\")\n",
    "    init_params_spsa = np.array(rng.random(len(parameters)))\n",
    "result = None\n",
    "run = 0"
   ]
  },
  {
   "cell_type": "code",
   "execution_count": null,
   "id": "52d19610-d096-4de1-b1b9-63aef886e632",
   "metadata": {},
   "outputs": [
    {
     "name": "stdout",
     "output_type": "stream",
     "text": [
      "Progress:  0.232\n",
      "Number of training circuits: 104   Number of validation circuits: 108   Number of test circuits: 108   Number of parameters in model: 237\n"
     ]
    },
    {
     "name": "stderr",
     "output_type": "stream",
     "text": [
      "Epoch: 200   train/loss: 31.2692   valid/loss: 38.7658   train/acc: 0.4423   valid/acc: 0.2963\n",
      "Epoch: 400   train/loss: 27.7339   valid/loss: 39.567   train/acc: 0.5288   valid/acc: 0.3056\n",
      "Epoch: 600   train/loss: 26.7964   valid/loss: 39.9721   train/acc: 0.4712   valid/acc: 0.3519\n",
      "Epoch: 800   train/loss: 25.5043   valid/loss: 41.6416   train/acc: 0.4712   valid/acc: 0.3333\n",
      "Epoch: 1000   train/loss: 24.5754   valid/loss: 40.6112   train/acc: 0.5   valid/acc: 0.3426\n",
      "Epoch: 1200   train/loss: 24.0318   valid/loss: 41.2406   train/acc: 0.5865   valid/acc: 0.3519\n",
      "Epoch: 1400   train/loss: 23.5094   valid/loss: 41.972   train/acc: 0.625   valid/acc: 0.3148\n",
      "Epoch: 1600   train/loss: 22.9935   valid/loss: 42.7551   train/acc: 0.6346   valid/acc: 0.3056\n",
      "Epoch: 1800   train/loss: 23.0835   valid/loss: 40.6754   train/acc: 0.6058   valid/acc: 0.3241\n",
      "Epoch: 2000   train/loss: 22.1655   valid/loss: 41.9238   train/acc: 0.6346   valid/acc: 0.3241\n",
      "Epoch: 2200   train/loss: 22.0762   valid/loss: 43.6259   train/acc: 0.625   valid/acc: 0.3148\n",
      "Epoch: 2400   train/loss: 22.0813   valid/loss: 43.3821   train/acc: 0.6154   valid/acc: 0.3241\n",
      "Epoch: 2600   train/loss: 21.3394   valid/loss: 44.244   train/acc: 0.6154   valid/acc: 0.3241\n",
      "Epoch: 2800   train/loss: 21.5523   valid/loss: 43.4492   train/acc: 0.6538   valid/acc: 0.3148\n",
      "Epoch: 3000   train/loss: 21.702   valid/loss: 45.5616   train/acc: 0.6442   valid/acc: 0.3148\n",
      "Epoch: 3200   train/loss: 21.1966   valid/loss: 43.9642   train/acc: 0.625   valid/acc: 0.3148\n",
      "Epoch: 3400   train/loss: 21.7863   valid/loss: 43.3889   train/acc: 0.6538   valid/acc: 0.3148\n",
      "Epoch: 3600   train/loss: 21.6195   valid/loss: 43.5411   train/acc: 0.6538   valid/acc: 0.3148\n",
      "Epoch: 3800   train/loss: 21.4091   valid/loss: 42.621   train/acc: 0.6154   valid/acc: 0.3148\n",
      "Epoch: 4000   train/loss: 21.9433   valid/loss: 44.1538   train/acc: 0.6346   valid/acc: 0.3148\n"
     ]
    },
    {
     "name": "stdout",
     "output_type": "stream",
     "text": [
      "Test accuracy: 0.3611111111111111\n",
      "Progress:  0.234\n",
      "Number of training circuits: 105   Number of validation circuits: 108   Number of test circuits: 108   Number of parameters in model: 237\n"
     ]
    },
    {
     "name": "stderr",
     "output_type": "stream",
     "text": [
      "Epoch: 200   train/loss: 30.4317   valid/loss: 39.2071   train/acc: 0.4286   valid/acc: 0.2593\n",
      "Epoch: 400   train/loss: 26.6811   valid/loss: 41.4961   train/acc: 0.5238   valid/acc: 0.287\n",
      "Epoch: 600   train/loss: 25.8112   valid/loss: 43.8308   train/acc: 0.5905   valid/acc: 0.3333\n",
      "Epoch: 800   train/loss: 25.0482   valid/loss: 45.0068   train/acc: 0.5905   valid/acc: 0.3056\n",
      "Epoch: 1000   train/loss: 23.7639   valid/loss: 42.6297   train/acc: 0.6095   valid/acc: 0.3148\n",
      "Epoch: 1200   train/loss: 22.9263   valid/loss: 44.8098   train/acc: 0.6476   valid/acc: 0.3426\n",
      "Epoch: 1400   train/loss: 23.0443   valid/loss: 45.0096   train/acc: 0.6286   valid/acc: 0.3333\n",
      "Epoch: 1600   train/loss: 22.4966   valid/loss: 44.0659   train/acc: 0.6571   valid/acc: 0.3148\n",
      "Epoch: 1800   train/loss: 22.1181   valid/loss: 44.8796   train/acc: 0.6571   valid/acc: 0.3333\n",
      "Epoch: 2000   train/loss: 22.0123   valid/loss: 45.1859   train/acc: 0.6571   valid/acc: 0.3333\n",
      "Epoch: 2200   train/loss: 21.9127   valid/loss: 44.4519   train/acc: 0.6476   valid/acc: 0.3426\n",
      "Epoch: 2400   train/loss: 21.5774   valid/loss: 47.6072   train/acc: 0.6476   valid/acc: 0.3426\n",
      "Epoch: 2600   train/loss: 21.4272   valid/loss: 45.6941   train/acc: 0.6476   valid/acc: 0.3426\n",
      "Epoch: 2800   train/loss: 21.6527   valid/loss: 46.1664   train/acc: 0.6381   valid/acc: 0.3426\n",
      "Epoch: 3000   train/loss: 21.083   valid/loss: 45.9034   train/acc: 0.6667   valid/acc: 0.3241\n",
      "Epoch: 3200   train/loss: 21.3452   valid/loss: 46.27   train/acc: 0.6381   valid/acc: 0.3241\n",
      "Epoch: 3400   train/loss: 21.3023   valid/loss: 46.7965   train/acc: 0.6571   valid/acc: 0.3241\n",
      "Epoch: 3600   train/loss: 21.1784   valid/loss: 46.1521   train/acc: 0.6286   valid/acc: 0.3056\n",
      "Epoch: 3800   train/loss: 20.9451   valid/loss: 46.8367   train/acc: 0.6381   valid/acc: 0.3056\n",
      "Epoch: 4000   train/loss: 20.6943   valid/loss: 46.5129   train/acc: 0.6571   valid/acc: 0.3148\n"
     ]
    },
    {
     "name": "stdout",
     "output_type": "stream",
     "text": [
      "Test accuracy: 0.3148148148148148\n",
      "Progress:  0.237\n",
      "Number of training circuits: 106   Number of validation circuits: 108   Number of test circuits: 108   Number of parameters in model: 237\n"
     ]
    },
    {
     "name": "stderr",
     "output_type": "stream",
     "text": [
      "Epoch: 200   train/loss: 32.1149   valid/loss: 39.5701   train/acc: 0.4623   valid/acc: 0.25\n",
      "Epoch: 400   train/loss: 28.8051   valid/loss: 40.3987   train/acc: 0.4906   valid/acc: 0.3333\n",
      "Epoch: 600   train/loss: 27.6648   valid/loss: 40.8708   train/acc: 0.5189   valid/acc: 0.3611\n",
      "Epoch: 800   train/loss: 27.1749   valid/loss: 39.6229   train/acc: 0.5   valid/acc: 0.3333\n",
      "Epoch: 1000   train/loss: 25.6659   valid/loss: 41.2839   train/acc: 0.5566   valid/acc: 0.3241\n",
      "Epoch: 1200   train/loss: 24.7754   valid/loss: 40.7829   train/acc: 0.5849   valid/acc: 0.3426\n",
      "Epoch: 1400   train/loss: 24.5097   valid/loss: 41.1684   train/acc: 0.6321   valid/acc: 0.3426\n",
      "Epoch: 1600   train/loss: 24.2184   valid/loss: 40.472   train/acc: 0.6509   valid/acc: 0.3611\n",
      "Epoch: 1800   train/loss: 24.386   valid/loss: 39.732   train/acc: 0.6415   valid/acc: 0.3611\n",
      "Epoch: 2000   train/loss: 24.2856   valid/loss: 39.8194   train/acc: 0.5849   valid/acc: 0.3704\n",
      "Epoch: 2200   train/loss: 23.9024   valid/loss: 40.1909   train/acc: 0.6509   valid/acc: 0.3704\n",
      "Epoch: 2400   train/loss: 23.386   valid/loss: 39.8733   train/acc: 0.6792   valid/acc: 0.3611\n",
      "Epoch: 2600   train/loss: 22.8839   valid/loss: 40.0247   train/acc: 0.6981   valid/acc: 0.3519\n",
      "Epoch: 2800   train/loss: 22.4463   valid/loss: 40.521   train/acc: 0.6698   valid/acc: 0.3611\n",
      "Epoch: 3000   train/loss: 22.2587   valid/loss: 40.9744   train/acc: 0.6415   valid/acc: 0.3426\n",
      "Epoch: 3200   train/loss: 21.8989   valid/loss: 42.5301   train/acc: 0.6509   valid/acc: 0.3426\n",
      "Epoch: 3400   train/loss: 21.6498   valid/loss: 41.8137   train/acc: 0.6698   valid/acc: 0.3426\n",
      "Epoch: 3600   train/loss: 21.464   valid/loss: 42.617   train/acc: 0.6698   valid/acc: 0.3611\n",
      "Epoch: 3800   train/loss: 21.4774   valid/loss: 42.729   train/acc: 0.6698   valid/acc: 0.3704\n",
      "Epoch: 4000   train/loss: 21.5007   valid/loss: 42.8564   train/acc: 0.6887   valid/acc: 0.3704\n"
     ]
    },
    {
     "name": "stdout",
     "output_type": "stream",
     "text": [
      "Test accuracy: 0.35185185185185186\n",
      "Progress:  0.239\n",
      "Number of training circuits: 107   Number of validation circuits: 108   Number of test circuits: 108   Number of parameters in model: 237\n"
     ]
    },
    {
     "name": "stderr",
     "output_type": "stream",
     "text": [
      "Epoch: 200   train/loss: 32.5485   valid/loss: 38.2616   train/acc: 0.4299   valid/acc: 0.3889\n",
      "Epoch: 400   train/loss: 28.6516   valid/loss: 38.6631   train/acc: 0.5047   valid/acc: 0.3519\n",
      "Epoch: 600   train/loss: 26.2702   valid/loss: 40.4603   train/acc: 0.5701   valid/acc: 0.3519\n",
      "Epoch: 800   train/loss: 24.4332   valid/loss: 40.1273   train/acc: 0.5888   valid/acc: 0.3889\n",
      "Epoch: 1000   train/loss: 24.886   valid/loss: 39.8197   train/acc: 0.5888   valid/acc: 0.3981\n",
      "Epoch: 1200   train/loss: 24.0122   valid/loss: 40.6788   train/acc: 0.5514   valid/acc: 0.3611\n",
      "Epoch: 1400   train/loss: 24.1055   valid/loss: 42.6546   train/acc: 0.5701   valid/acc: 0.3704\n",
      "Epoch: 1600   train/loss: 22.9796   valid/loss: 42.0516   train/acc: 0.6075   valid/acc: 0.3611\n",
      "Epoch: 1800   train/loss: 22.8952   valid/loss: 42.7679   train/acc: 0.5794   valid/acc: 0.3519\n",
      "Epoch: 2000   train/loss: 22.9226   valid/loss: 42.5791   train/acc: 0.6355   valid/acc: 0.3611\n",
      "Epoch: 2200   train/loss: 22.2363   valid/loss: 42.4225   train/acc: 0.6168   valid/acc: 0.3889\n",
      "Epoch: 2400   train/loss: 22.3668   valid/loss: 41.4887   train/acc: 0.6262   valid/acc: 0.3981\n",
      "Epoch: 2600   train/loss: 22.3944   valid/loss: 42.1586   train/acc: 0.6075   valid/acc: 0.3796\n",
      "Epoch: 2800   train/loss: 22.4037   valid/loss: 43.1483   train/acc: 0.6355   valid/acc: 0.4167\n",
      "Epoch: 3000   train/loss: 22.3691   valid/loss: 44.0668   train/acc: 0.6168   valid/acc: 0.3889\n",
      "Epoch: 3200   train/loss: 22.5103   valid/loss: 42.2424   train/acc: 0.6075   valid/acc: 0.3889\n",
      "Epoch: 3400   train/loss: 22.1789   valid/loss: 41.8111   train/acc: 0.6168   valid/acc: 0.3889\n",
      "Epoch: 3600   train/loss: 21.961   valid/loss: 42.6865   train/acc: 0.6262   valid/acc: 0.3889\n",
      "Epoch: 3800   train/loss: 22.0125   valid/loss: 41.9443   train/acc: 0.6449   valid/acc: 0.4074\n",
      "Epoch: 4000   train/loss: 21.915   valid/loss: 46.7887   train/acc: 0.6449   valid/acc: 0.4074\n"
     ]
    },
    {
     "name": "stdout",
     "output_type": "stream",
     "text": [
      "Test accuracy: 0.46296296296296297\n",
      "Progress:  0.241\n",
      "Number of training circuits: 108   Number of validation circuits: 108   Number of test circuits: 108   Number of parameters in model: 237\n"
     ]
    },
    {
     "name": "stderr",
     "output_type": "stream",
     "text": [
      "Epoch: 200   train/loss: 32.4417   valid/loss: 37.9653   train/acc: 0.4167   valid/acc: 0.2778\n",
      "Epoch: 400   train/loss: 30.0693   valid/loss: 38.5807   train/acc: 0.4537   valid/acc: 0.2963\n",
      "Epoch: 600   train/loss: 28.395   valid/loss: 37.9547   train/acc: 0.5093   valid/acc: 0.2685\n",
      "Epoch: 800   train/loss: 27.4458   valid/loss: 37.6256   train/acc: 0.5556   valid/acc: 0.2963\n",
      "Epoch: 1000   train/loss: 25.862   valid/loss: 37.4407   train/acc: 0.5926   valid/acc: 0.3056\n",
      "Epoch: 1200   train/loss: 25.2674   valid/loss: 38.1241   train/acc: 0.5926   valid/acc: 0.3148\n",
      "Epoch: 1400   train/loss: 25.6525   valid/loss: 38.2079   train/acc: 0.6019   valid/acc: 0.3426\n",
      "Epoch: 1600   train/loss: 24.6854   valid/loss: 38.3331   train/acc: 0.5741   valid/acc: 0.3241\n",
      "Epoch: 1800   train/loss: 24.617   valid/loss: 37.8465   train/acc: 0.5926   valid/acc: 0.3241\n",
      "Epoch: 2000   train/loss: 24.4172   valid/loss: 37.8825   train/acc: 0.6296   valid/acc: 0.3241\n",
      "Epoch: 2200   train/loss: 23.8716   valid/loss: 38.0595   train/acc: 0.6389   valid/acc: 0.3426\n",
      "Epoch: 2400   train/loss: 24.5368   valid/loss: 37.6489   train/acc: 0.6019   valid/acc: 0.3519\n",
      "Epoch: 2600   train/loss: 23.6059   valid/loss: 38.0896   train/acc: 0.6574   valid/acc: 0.3611\n",
      "Epoch: 2800   train/loss: 23.6717   valid/loss: 37.653   train/acc: 0.6481   valid/acc: 0.3611\n",
      "Epoch: 3000   train/loss: 23.4618   valid/loss: 38.5043   train/acc: 0.6204   valid/acc: 0.3611\n",
      "Epoch: 3200   train/loss: 22.7681   valid/loss: 38.311   train/acc: 0.6481   valid/acc: 0.3611\n",
      "Epoch: 3400   train/loss: 23.38   valid/loss: 38.8413   train/acc: 0.6389   valid/acc: 0.3611\n",
      "Epoch: 3600   train/loss: 23.3632   valid/loss: 39.0463   train/acc: 0.6204   valid/acc: 0.3519\n",
      "Epoch: 3800   train/loss: 23.4316   valid/loss: 38.9097   train/acc: 0.6204   valid/acc: 0.3704\n",
      "Epoch: 4000   train/loss: 23.5989   valid/loss: 39.973   train/acc: 0.6204   valid/acc: 0.3704\n"
     ]
    },
    {
     "name": "stdout",
     "output_type": "stream",
     "text": [
      "Test accuracy: 0.4074074074074074\n",
      "Progress:  0.243\n",
      "Number of training circuits: 109   Number of validation circuits: 108   Number of test circuits: 108   Number of parameters in model: 237\n"
     ]
    },
    {
     "name": "stderr",
     "output_type": "stream",
     "text": [
      "Epoch: 200   train/loss: 34.949   valid/loss: 39.4127   train/acc: 0.3119   valid/acc: 0.2593\n",
      "Epoch: 400   train/loss: 31.0246   valid/loss: 37.4837   train/acc: 0.4679   valid/acc: 0.3148\n",
      "Epoch: 600   train/loss: 28.898   valid/loss: 41.7355   train/acc: 0.5138   valid/acc: 0.3148\n",
      "Epoch: 800   train/loss: 27.8911   valid/loss: 41.5166   train/acc: 0.5688   valid/acc: 0.3056\n",
      "Epoch: 1000   train/loss: 26.2964   valid/loss: 42.6635   train/acc: 0.5505   valid/acc: 0.2778\n",
      "Epoch: 1200   train/loss: 26.4971   valid/loss: 41.0875   train/acc: 0.5872   valid/acc: 0.3148\n",
      "Epoch: 1400   train/loss: 25.1139   valid/loss: 44.4635   train/acc: 0.6147   valid/acc: 0.3148\n",
      "Epoch: 1600   train/loss: 24.5753   valid/loss: 46.6962   train/acc: 0.578   valid/acc: 0.3333\n",
      "Epoch: 1800   train/loss: 24.9491   valid/loss: 43.9143   train/acc: 0.6147   valid/acc: 0.3519\n",
      "Epoch: 2000   train/loss: 23.7888   valid/loss: 46.3601   train/acc: 0.6239   valid/acc: 0.3426\n",
      "Epoch: 2200   train/loss: 23.6655   valid/loss: 46.3605   train/acc: 0.5963   valid/acc: 0.3241\n",
      "Epoch: 2400   train/loss: 23.3517   valid/loss: 45.7448   train/acc: 0.6055   valid/acc: 0.3333\n",
      "Epoch: 2600   train/loss: 23.6761   valid/loss: 46.0523   train/acc: 0.6147   valid/acc: 0.3426\n",
      "Epoch: 2800   train/loss: 23.3872   valid/loss: 46.1484   train/acc: 0.5963   valid/acc: 0.3333\n",
      "Epoch: 3000   train/loss: 23.547   valid/loss: 45.8392   train/acc: 0.6147   valid/acc: 0.3241\n",
      "Epoch: 3200   train/loss: 23.2744   valid/loss: 46.3036   train/acc: 0.5872   valid/acc: 0.3333\n",
      "Epoch: 3400   train/loss: 23.3214   valid/loss: 46.0631   train/acc: 0.6239   valid/acc: 0.3426\n",
      "Epoch: 3600   train/loss: 23.6899   valid/loss: 46.2638   train/acc: 0.6239   valid/acc: 0.3333\n",
      "Epoch: 3800   train/loss: 23.1542   valid/loss: 47.3329   train/acc: 0.6239   valid/acc: 0.3333\n",
      "Epoch: 4000   train/loss: 23.1896   valid/loss: 45.9558   train/acc: 0.6239   valid/acc: 0.3333\n"
     ]
    },
    {
     "name": "stdout",
     "output_type": "stream",
     "text": [
      "Test accuracy: 0.39814814814814814\n",
      "Progress:  0.246\n",
      "Number of training circuits: 110   Number of validation circuits: 108   Number of test circuits: 108   Number of parameters in model: 237\n"
     ]
    },
    {
     "name": "stderr",
     "output_type": "stream",
     "text": [
      "Epoch: 200   train/loss: 34.2676   valid/loss: 39.3391   train/acc: 0.3909   valid/acc: 0.2037\n",
      "Epoch: 400   train/loss: 32.1766   valid/loss: 39.5245   train/acc: 0.4455   valid/acc: 0.3241\n",
      "Epoch: 600   train/loss: 30.2691   valid/loss: 37.2566   train/acc: 0.5455   valid/acc: 0.3611\n",
      "Epoch: 800   train/loss: 28.5388   valid/loss: 38.9734   train/acc: 0.5182   valid/acc: 0.3148\n",
      "Epoch: 1000   train/loss: 28.4183   valid/loss: 38.2944   train/acc: 0.5091   valid/acc: 0.3148\n",
      "Epoch: 1200   train/loss: 27.2149   valid/loss: 39.2882   train/acc: 0.5091   valid/acc: 0.3056\n",
      "Epoch: 1400   train/loss: 26.5504   valid/loss: 39.7354   train/acc: 0.5545   valid/acc: 0.3333\n",
      "Epoch: 1600   train/loss: 25.8933   valid/loss: 40.2343   train/acc: 0.5818   valid/acc: 0.3148\n",
      "Epoch: 1800   train/loss: 26.0804   valid/loss: 40.9475   train/acc: 0.5636   valid/acc: 0.3241\n",
      "Epoch: 2000   train/loss: 25.3591   valid/loss: 42.1251   train/acc: 0.5818   valid/acc: 0.3148\n",
      "Epoch: 2200   train/loss: 26.2391   valid/loss: 42.1405   train/acc: 0.5545   valid/acc: 0.3148\n",
      "Epoch: 2400   train/loss: 25.6401   valid/loss: 43.6576   train/acc: 0.5727   valid/acc: 0.3148\n",
      "Epoch: 2600   train/loss: 25.341   valid/loss: 42.742   train/acc: 0.5636   valid/acc: 0.3241\n",
      "Epoch: 2800   train/loss: 25.6852   valid/loss: 41.4594   train/acc: 0.5727   valid/acc: 0.3241\n",
      "Epoch: 3000   train/loss: 24.9203   valid/loss: 45.1899   train/acc: 0.5818   valid/acc: 0.3056\n",
      "Epoch: 3200   train/loss: 25.082   valid/loss: 43.9288   train/acc: 0.5545   valid/acc: 0.3241\n",
      "Epoch: 3400   train/loss: 25.5147   valid/loss: 44.2612   train/acc: 0.5636   valid/acc: 0.3056\n",
      "Epoch: 3600   train/loss: 25.1268   valid/loss: 42.8118   train/acc: 0.5727   valid/acc: 0.3056\n",
      "Epoch: 3800   train/loss: 24.9465   valid/loss: 44.2744   train/acc: 0.5727   valid/acc: 0.3148\n",
      "Epoch: 4000   train/loss: 24.8224   valid/loss: 44.8552   train/acc: 0.5727   valid/acc: 0.3241\n"
     ]
    },
    {
     "name": "stdout",
     "output_type": "stream",
     "text": [
      "Test accuracy: 0.48148148148148145\n",
      "Progress:  0.248\n",
      "Number of training circuits: 111   Number of validation circuits: 108   Number of test circuits: 108   Number of parameters in model: 237\n"
     ]
    },
    {
     "name": "stderr",
     "output_type": "stream",
     "text": [
      "Epoch: 200   train/loss: 30.6865   valid/loss: 39.5476   train/acc: 0.5225   valid/acc: 0.4167\n",
      "Epoch: 400   train/loss: 28.6385   valid/loss: 38.1568   train/acc: 0.4955   valid/acc: 0.3704\n",
      "Epoch: 600   train/loss: 27.1345   valid/loss: 39.5644   train/acc: 0.4685   valid/acc: 0.3333\n",
      "Epoch: 800   train/loss: 26.1272   valid/loss: 40.2779   train/acc: 0.4955   valid/acc: 0.3333\n",
      "Epoch: 1000   train/loss: 25.8524   valid/loss: 40.2374   train/acc: 0.4955   valid/acc: 0.3426\n",
      "Epoch: 1200   train/loss: 25.384   valid/loss: 40.965   train/acc: 0.5676   valid/acc: 0.3426\n",
      "Epoch: 1400   train/loss: 25.2361   valid/loss: 41.8854   train/acc: 0.5495   valid/acc: 0.3519\n",
      "Epoch: 1600   train/loss: 25.805   valid/loss: 40.8836   train/acc: 0.5766   valid/acc: 0.3519\n",
      "Epoch: 1800   train/loss: 25.1692   valid/loss: 40.606   train/acc: 0.5766   valid/acc: 0.3796\n",
      "Epoch: 2000   train/loss: 24.9946   valid/loss: 41.7461   train/acc: 0.5676   valid/acc: 0.3611\n",
      "Epoch: 2200   train/loss: 24.7078   valid/loss: 40.6872   train/acc: 0.5676   valid/acc: 0.3889\n",
      "Epoch: 2400   train/loss: 24.8183   valid/loss: 41.0745   train/acc: 0.5676   valid/acc: 0.3611\n",
      "Epoch: 2600   train/loss: 24.5708   valid/loss: 41.6248   train/acc: 0.6577   valid/acc: 0.3889\n",
      "Epoch: 2800   train/loss: 24.2535   valid/loss: 40.884   train/acc: 0.6306   valid/acc: 0.4074\n",
      "Epoch: 3000   train/loss: 23.8974   valid/loss: 40.141   train/acc: 0.6486   valid/acc: 0.4074\n",
      "Epoch: 3200   train/loss: 23.9052   valid/loss: 41.7089   train/acc: 0.6577   valid/acc: 0.4259\n",
      "Epoch: 3400   train/loss: 23.9303   valid/loss: 40.7974   train/acc: 0.6486   valid/acc: 0.4167\n",
      "Epoch: 3600   train/loss: 24.2154   valid/loss: 41.7718   train/acc: 0.6126   valid/acc: 0.4167\n",
      "Epoch: 3800   train/loss: 23.2332   valid/loss: 40.0206   train/acc: 0.6577   valid/acc: 0.4259\n",
      "Epoch: 4000   train/loss: 23.247   valid/loss: 41.9796   train/acc: 0.6306   valid/acc: 0.4259\n"
     ]
    },
    {
     "name": "stdout",
     "output_type": "stream",
     "text": [
      "Test accuracy: 0.3888888888888889\n",
      "Progress:  0.25\n",
      "Number of training circuits: 112   Number of validation circuits: 108   Number of test circuits: 108   Number of parameters in model: 237\n"
     ]
    },
    {
     "name": "stderr",
     "output_type": "stream",
     "text": [
      "Epoch: 200   train/loss: 33.0028   valid/loss: 40.1929   train/acc: 0.3214   valid/acc: 0.2593\n",
      "Epoch: 400   train/loss: 30.8701   valid/loss: 38.5854   train/acc: 0.4911   valid/acc: 0.3148\n",
      "Epoch: 600   train/loss: 29.2197   valid/loss: 38.1947   train/acc: 0.5   valid/acc: 0.3519\n",
      "Epoch: 800   train/loss: 27.8996   valid/loss: 39.7346   train/acc: 0.5804   valid/acc: 0.3241\n",
      "Epoch: 1000   train/loss: 27.0262   valid/loss: 40.8874   train/acc: 0.6161   valid/acc: 0.2963\n",
      "Epoch: 1200   train/loss: 25.8565   valid/loss: 42.3777   train/acc: 0.6339   valid/acc: 0.3241\n",
      "Epoch: 1400   train/loss: 25.8739   valid/loss: 40.7412   train/acc: 0.6339   valid/acc: 0.3241\n",
      "Epoch: 1600   train/loss: 25.8251   valid/loss: 42.2544   train/acc: 0.6518   valid/acc: 0.3426\n",
      "Epoch: 1800   train/loss: 25.0388   valid/loss: 40.5813   train/acc: 0.6518   valid/acc: 0.3148\n",
      "Epoch: 2000   train/loss: 24.921   valid/loss: 41.6867   train/acc: 0.6696   valid/acc: 0.3426\n",
      "Epoch: 2200   train/loss: 24.4135   valid/loss: 43.0027   train/acc: 0.6696   valid/acc: 0.3426\n",
      "Epoch: 2400   train/loss: 23.89   valid/loss: 42.317   train/acc: 0.6964   valid/acc: 0.3519\n",
      "Epoch: 2600   train/loss: 23.8403   valid/loss: 42.9255   train/acc: 0.6786   valid/acc: 0.3426\n",
      "Epoch: 2800   train/loss: 24.3157   valid/loss: 44.3846   train/acc: 0.6964   valid/acc: 0.3519\n",
      "Epoch: 3000   train/loss: 23.2483   valid/loss: 43.9986   train/acc: 0.6875   valid/acc: 0.3519\n",
      "Epoch: 3200   train/loss: 23.7602   valid/loss: 45.2079   train/acc: 0.6786   valid/acc: 0.3519\n",
      "Epoch: 3400   train/loss: 23.4713   valid/loss: 45.3327   train/acc: 0.6875   valid/acc: 0.3519\n",
      "Epoch: 3600   train/loss: 23.2824   valid/loss: 43.4832   train/acc: 0.6964   valid/acc: 0.3519\n",
      "Epoch: 3800   train/loss: 24.0704   valid/loss: 44.8114   train/acc: 0.6964   valid/acc: 0.3519\n",
      "Epoch: 4000   train/loss: 23.3142   valid/loss: 43.9549   train/acc: 0.6964   valid/acc: 0.3426\n"
     ]
    },
    {
     "name": "stdout",
     "output_type": "stream",
     "text": [
      "Test accuracy: 0.3333333333333333\n",
      "Progress:  0.252\n",
      "Number of training circuits: 113   Number of validation circuits: 108   Number of test circuits: 108   Number of parameters in model: 237\n"
     ]
    },
    {
     "name": "stderr",
     "output_type": "stream",
     "text": [
      "Epoch: 200   train/loss: 35.8569   valid/loss: 36.9914   train/acc: 0.354   valid/acc: 0.2963\n",
      "Epoch: 400   train/loss: 32.5703   valid/loss: 38.4945   train/acc: 0.4425   valid/acc: 0.3426\n",
      "Epoch: 600   train/loss: 30.8864   valid/loss: 40.1616   train/acc: 0.4779   valid/acc: 0.3889\n",
      "Epoch: 800   train/loss: 30.2354   valid/loss: 40.2089   train/acc: 0.4779   valid/acc: 0.3148\n",
      "Epoch: 1000   train/loss: 29.3095   valid/loss: 39.6906   train/acc: 0.531   valid/acc: 0.3704\n",
      "Epoch: 1200   train/loss: 28.6267   valid/loss: 39.3464   train/acc: 0.5044   valid/acc: 0.3148\n",
      "Epoch: 1400   train/loss: 28.0287   valid/loss: 41.0548   train/acc: 0.531   valid/acc: 0.3333\n",
      "Epoch: 1600   train/loss: 28.0699   valid/loss: 40.6989   train/acc: 0.5221   valid/acc: 0.3426\n",
      "Epoch: 1800   train/loss: 27.2485   valid/loss: 39.9313   train/acc: 0.5575   valid/acc: 0.3796\n",
      "Epoch: 2000   train/loss: 26.7574   valid/loss: 40.6953   train/acc: 0.5664   valid/acc: 0.3519\n",
      "Epoch: 2200   train/loss: 27.6677   valid/loss: 40.83   train/acc: 0.5664   valid/acc: 0.3704\n",
      "Epoch: 2400   train/loss: 26.2343   valid/loss: 41.913   train/acc: 0.5664   valid/acc: 0.3981\n",
      "Epoch: 2600   train/loss: 26.6294   valid/loss: 42.1443   train/acc: 0.5664   valid/acc: 0.3611\n",
      "Epoch: 2800   train/loss: 25.8443   valid/loss: 41.7668   train/acc: 0.6018   valid/acc: 0.3796\n",
      "Epoch: 3000   train/loss: 25.5227   valid/loss: 41.8123   train/acc: 0.5664   valid/acc: 0.3611\n",
      "Epoch: 3200   train/loss: 25.0589   valid/loss: 45.3947   train/acc: 0.5929   valid/acc: 0.3704\n",
      "Epoch: 3400   train/loss: 25.3793   valid/loss: 42.3563   train/acc: 0.6195   valid/acc: 0.3611\n",
      "Epoch: 3600   train/loss: 25.5967   valid/loss: 42.409   train/acc: 0.6283   valid/acc: 0.3611\n",
      "Epoch: 3800   train/loss: 24.9152   valid/loss: 42.6024   train/acc: 0.5929   valid/acc: 0.3611\n",
      "Epoch: 4000   train/loss: 24.5489   valid/loss: 43.8977   train/acc: 0.5929   valid/acc: 0.3611\n"
     ]
    },
    {
     "name": "stdout",
     "output_type": "stream",
     "text": [
      "Test accuracy: 0.5\n",
      "Progress:  0.254\n",
      "Number of training circuits: 114   Number of validation circuits: 108   Number of test circuits: 108   Number of parameters in model: 237\n"
     ]
    },
    {
     "name": "stderr",
     "output_type": "stream",
     "text": [
      "Epoch: 200   train/loss: 35.644   valid/loss: 36.644   train/acc: 0.3596   valid/acc: 0.3519\n",
      "Epoch: 400   train/loss: 31.9359   valid/loss: 38.8334   train/acc: 0.5263   valid/acc: 0.3241\n",
      "Epoch: 600   train/loss: 31.4246   valid/loss: 39.0496   train/acc: 0.4912   valid/acc: 0.3611\n",
      "Epoch: 800   train/loss: 29.5161   valid/loss: 41.3122   train/acc: 0.5526   valid/acc: 0.3426\n",
      "Epoch: 1000   train/loss: 28.381   valid/loss: 39.3745   train/acc: 0.5439   valid/acc: 0.3333\n",
      "Epoch: 1200   train/loss: 27.2395   valid/loss: 39.6279   train/acc: 0.5877   valid/acc: 0.3333\n",
      "Epoch: 1400   train/loss: 26.9148   valid/loss: 39.906   train/acc: 0.6228   valid/acc: 0.3333\n",
      "Epoch: 1600   train/loss: 27.2182   valid/loss: 41.5563   train/acc: 0.6316   valid/acc: 0.3611\n",
      "Epoch: 1800   train/loss: 26.5845   valid/loss: 40.9389   train/acc: 0.614   valid/acc: 0.3241\n",
      "Epoch: 2000   train/loss: 26.1757   valid/loss: 41.4521   train/acc: 0.6228   valid/acc: 0.3796\n",
      "Epoch: 2200   train/loss: 26.2657   valid/loss: 41.4707   train/acc: 0.6228   valid/acc: 0.3704\n",
      "Epoch: 2400   train/loss: 25.9427   valid/loss: 41.0386   train/acc: 0.614   valid/acc: 0.3889\n",
      "Epoch: 2600   train/loss: 25.623   valid/loss: 39.7849   train/acc: 0.6228   valid/acc: 0.3611\n",
      "Epoch: 2800   train/loss: 25.6371   valid/loss: 40.2564   train/acc: 0.6228   valid/acc: 0.3704\n",
      "Epoch: 3000   train/loss: 25.6518   valid/loss: 39.7365   train/acc: 0.6316   valid/acc: 0.3704\n",
      "Epoch: 3200   train/loss: 25.1825   valid/loss: 40.2371   train/acc: 0.6404   valid/acc: 0.3611\n",
      "Epoch: 3400   train/loss: 25.287   valid/loss: 41.69   train/acc: 0.6316   valid/acc: 0.3519\n",
      "Epoch: 3600   train/loss: 24.7405   valid/loss: 42.3059   train/acc: 0.6316   valid/acc: 0.3889\n",
      "Epoch: 3800   train/loss: 24.8375   valid/loss: 41.4456   train/acc: 0.6404   valid/acc: 0.3796\n",
      "Epoch: 4000   train/loss: 24.3948   valid/loss: 40.4966   train/acc: 0.6491   valid/acc: 0.3704\n"
     ]
    },
    {
     "name": "stdout",
     "output_type": "stream",
     "text": [
      "Test accuracy: 0.42592592592592593\n",
      "Progress:  0.257\n",
      "Number of training circuits: 115   Number of validation circuits: 108   Number of test circuits: 108   Number of parameters in model: 237\n"
     ]
    },
    {
     "name": "stderr",
     "output_type": "stream",
     "text": [
      "Epoch: 200   train/loss: 34.1082   valid/loss: 42.7562   train/acc: 0.3391   valid/acc: 0.25\n",
      "Epoch: 400   train/loss: 31.6127   valid/loss: 42.7021   train/acc: 0.513   valid/acc: 0.287\n",
      "Epoch: 600   train/loss: 27.5995   valid/loss: 40.8969   train/acc: 0.5652   valid/acc: 0.2593\n",
      "Epoch: 800   train/loss: 26.5894   valid/loss: 40.1942   train/acc: 0.5913   valid/acc: 0.2778\n",
      "Epoch: 1000   train/loss: 26.1187   valid/loss: 40.5884   train/acc: 0.6   valid/acc: 0.2778\n",
      "Epoch: 1200   train/loss: 25.1689   valid/loss: 42.2972   train/acc: 0.6174   valid/acc: 0.2778\n",
      "Epoch: 1400   train/loss: 25.4314   valid/loss: 41.9028   train/acc: 0.6174   valid/acc: 0.2685\n",
      "Epoch: 1600   train/loss: 24.2104   valid/loss: 43.0296   train/acc: 0.6087   valid/acc: 0.2963\n",
      "Epoch: 1800   train/loss: 24.9433   valid/loss: 44.8252   train/acc: 0.6261   valid/acc: 0.3148\n",
      "Epoch: 2000   train/loss: 24.625   valid/loss: 45.0737   train/acc: 0.6261   valid/acc: 0.287\n",
      "Epoch: 2200   train/loss: 24.3444   valid/loss: 44.1447   train/acc: 0.6348   valid/acc: 0.3056\n",
      "Epoch: 2400   train/loss: 24.3648   valid/loss: 45.6615   train/acc: 0.6348   valid/acc: 0.3056\n",
      "Epoch: 2600   train/loss: 24.0677   valid/loss: 45.3887   train/acc: 0.6174   valid/acc: 0.3148\n",
      "Epoch: 2800   train/loss: 23.6826   valid/loss: 46.4987   train/acc: 0.6348   valid/acc: 0.3241\n",
      "Epoch: 3000   train/loss: 23.7937   valid/loss: 46.4476   train/acc: 0.6348   valid/acc: 0.3241\n",
      "Epoch: 3200   train/loss: 23.7706   valid/loss: 45.9697   train/acc: 0.6087   valid/acc: 0.3241\n",
      "Epoch: 3400   train/loss: 23.5298   valid/loss: 45.1735   train/acc: 0.6261   valid/acc: 0.3148\n",
      "Epoch: 3600   train/loss: 24.2196   valid/loss: 46.2388   train/acc: 0.6348   valid/acc: 0.3241\n",
      "Epoch: 3800   train/loss: 24.0973   valid/loss: 46.3467   train/acc: 0.6435   valid/acc: 0.3241\n",
      "Epoch: 4000   train/loss: 23.8997   valid/loss: 46.0992   train/acc: 0.6348   valid/acc: 0.3148\n"
     ]
    },
    {
     "name": "stdout",
     "output_type": "stream",
     "text": [
      "Test accuracy: 0.3888888888888889\n",
      "Progress:  0.259\n",
      "Number of training circuits: 116   Number of validation circuits: 108   Number of test circuits: 108   Number of parameters in model: 237\n"
     ]
    },
    {
     "name": "stderr",
     "output_type": "stream",
     "text": [
      "Epoch: 200   train/loss: 35.3193   valid/loss: 39.7368   train/acc: 0.4569   valid/acc: 0.3056\n",
      "Epoch: 400   train/loss: 31.9892   valid/loss: 42.0504   train/acc: 0.5259   valid/acc: 0.2685\n",
      "Epoch: 600   train/loss: 29.786   valid/loss: 43.4338   train/acc: 0.5172   valid/acc: 0.2685\n",
      "Epoch: 800   train/loss: 28.6612   valid/loss: 42.906   train/acc: 0.5948   valid/acc: 0.3056\n",
      "Epoch: 1000   train/loss: 27.7959   valid/loss: 43.155   train/acc: 0.6293   valid/acc: 0.3148\n",
      "Epoch: 1200   train/loss: 27.2186   valid/loss: 43.8559   train/acc: 0.6293   valid/acc: 0.3426\n",
      "Epoch: 1400   train/loss: 26.5783   valid/loss: 42.5099   train/acc: 0.6207   valid/acc: 0.3148\n",
      "Epoch: 1600   train/loss: 26.014   valid/loss: 44.3508   train/acc: 0.6552   valid/acc: 0.3333\n",
      "Epoch: 1800   train/loss: 25.5205   valid/loss: 43.2676   train/acc: 0.6552   valid/acc: 0.3241\n",
      "Epoch: 2000   train/loss: 25.3416   valid/loss: 42.9049   train/acc: 0.6638   valid/acc: 0.3519\n",
      "Epoch: 2200   train/loss: 24.73   valid/loss: 44.9756   train/acc: 0.6552   valid/acc: 0.3241\n",
      "Epoch: 2400   train/loss: 25.0514   valid/loss: 44.6256   train/acc: 0.6552   valid/acc: 0.3426\n",
      "Epoch: 2600   train/loss: 24.9517   valid/loss: 44.8732   train/acc: 0.6552   valid/acc: 0.3241\n",
      "Epoch: 2800   train/loss: 24.4403   valid/loss: 45.0991   train/acc: 0.6552   valid/acc: 0.3333\n",
      "Epoch: 3000   train/loss: 24.4731   valid/loss: 44.6094   train/acc: 0.681   valid/acc: 0.3333\n",
      "Epoch: 3200   train/loss: 24.2088   valid/loss: 46.1484   train/acc: 0.6638   valid/acc: 0.3519\n",
      "Epoch: 3400   train/loss: 24.6654   valid/loss: 44.9687   train/acc: 0.6379   valid/acc: 0.3333\n",
      "Epoch: 3600   train/loss: 24.563   valid/loss: 45.1277   train/acc: 0.6552   valid/acc: 0.3519\n",
      "Epoch: 3800   train/loss: 23.9286   valid/loss: 45.0901   train/acc: 0.6897   valid/acc: 0.3519\n",
      "Epoch: 4000   train/loss: 24.2288   valid/loss: 45.4777   train/acc: 0.6983   valid/acc: 0.3519\n"
     ]
    },
    {
     "name": "stdout",
     "output_type": "stream",
     "text": [
      "Test accuracy: 0.3425925925925926\n",
      "Progress:  0.261\n",
      "Number of training circuits: 117   Number of validation circuits: 108   Number of test circuits: 108   Number of parameters in model: 237\n"
     ]
    },
    {
     "name": "stderr",
     "output_type": "stream",
     "text": [
      "Epoch: 200   train/loss: 36.2499   valid/loss: 41.3535   train/acc: 0.3675   valid/acc: 0.2315\n",
      "Epoch: 400   train/loss: 31.0956   valid/loss: 40.7516   train/acc: 0.5214   valid/acc: 0.3796\n",
      "Epoch: 600   train/loss: 29.7947   valid/loss: 40.4969   train/acc: 0.547   valid/acc: 0.3519\n",
      "Epoch: 800   train/loss: 27.5764   valid/loss: 40.8652   train/acc: 0.5641   valid/acc: 0.3704\n",
      "Epoch: 1000   train/loss: 26.7795   valid/loss: 40.4492   train/acc: 0.5983   valid/acc: 0.4074\n",
      "Epoch: 1200   train/loss: 25.7516   valid/loss: 41.4217   train/acc: 0.6496   valid/acc: 0.3889\n",
      "Epoch: 1400   train/loss: 25.3975   valid/loss: 40.2624   train/acc: 0.641   valid/acc: 0.3889\n",
      "Epoch: 1600   train/loss: 25.7555   valid/loss: 39.956   train/acc: 0.6154   valid/acc: 0.3981\n",
      "Epoch: 1800   train/loss: 25.9215   valid/loss: 40.1029   train/acc: 0.6239   valid/acc: 0.4074\n",
      "Epoch: 2000   train/loss: 25.406   valid/loss: 41.7213   train/acc: 0.641   valid/acc: 0.3981\n",
      "Epoch: 2200   train/loss: 24.9324   valid/loss: 41.5247   train/acc: 0.6325   valid/acc: 0.3889\n",
      "Epoch: 2400   train/loss: 25.1939   valid/loss: 42.0431   train/acc: 0.641   valid/acc: 0.3796\n",
      "Epoch: 2600   train/loss: 25.0266   valid/loss: 42.6115   train/acc: 0.641   valid/acc: 0.3889\n",
      "Epoch: 2800   train/loss: 24.7281   valid/loss: 41.6976   train/acc: 0.641   valid/acc: 0.4074\n",
      "Epoch: 3000   train/loss: 24.6887   valid/loss: 42.6956   train/acc: 0.6325   valid/acc: 0.3981\n",
      "Epoch: 3200   train/loss: 24.186   valid/loss: 43.2584   train/acc: 0.6325   valid/acc: 0.3889\n",
      "Epoch: 3400   train/loss: 24.7701   valid/loss: 43.4606   train/acc: 0.6154   valid/acc: 0.3611\n",
      "Epoch: 3600   train/loss: 24.0514   valid/loss: 43.1615   train/acc: 0.6581   valid/acc: 0.3796\n",
      "Epoch: 3800   train/loss: 24.2183   valid/loss: 42.196   train/acc: 0.6496   valid/acc: 0.3611\n",
      "Epoch: 4000   train/loss: 24.1324   valid/loss: 43.3785   train/acc: 0.641   valid/acc: 0.3519\n"
     ]
    },
    {
     "name": "stdout",
     "output_type": "stream",
     "text": [
      "Test accuracy: 0.2962962962962963\n",
      "Progress:  0.263\n",
      "Number of training circuits: 118   Number of validation circuits: 108   Number of test circuits: 108   Number of parameters in model: 237\n"
     ]
    },
    {
     "name": "stderr",
     "output_type": "stream",
     "text": [
      "Epoch: 200   train/loss: 35.3531   valid/loss: 39.2317   train/acc: 0.4322   valid/acc: 0.2593\n",
      "Epoch: 400   train/loss: 32.0491   valid/loss: 39.6207   train/acc: 0.5085   valid/acc: 0.2685\n",
      "Epoch: 600   train/loss: 30.2054   valid/loss: 38.5481   train/acc: 0.5508   valid/acc: 0.3704\n",
      "Epoch: 800   train/loss: 29.1633   valid/loss: 39.3143   train/acc: 0.5763   valid/acc: 0.3241\n",
      "Epoch: 1000   train/loss: 28.7924   valid/loss: 40.809   train/acc: 0.5339   valid/acc: 0.3426\n",
      "Epoch: 1200   train/loss: 28.1141   valid/loss: 43.7442   train/acc: 0.5678   valid/acc: 0.3704\n",
      "Epoch: 1400   train/loss: 28.2469   valid/loss: 39.0854   train/acc: 0.5763   valid/acc: 0.3796\n",
      "Epoch: 1600   train/loss: 27.809   valid/loss: 41.0342   train/acc: 0.5678   valid/acc: 0.3796\n",
      "Epoch: 1800   train/loss: 27.9263   valid/loss: 41.482   train/acc: 0.5678   valid/acc: 0.3426\n",
      "Epoch: 2000   train/loss: 27.069   valid/loss: 42.0904   train/acc: 0.6017   valid/acc: 0.3519\n",
      "Epoch: 2200   train/loss: 26.6326   valid/loss: 40.6969   train/acc: 0.6441   valid/acc: 0.3704\n",
      "Epoch: 2400   train/loss: 26.7349   valid/loss: 41.0025   train/acc: 0.6186   valid/acc: 0.3426\n",
      "Epoch: 2600   train/loss: 26.7439   valid/loss: 41.4337   train/acc: 0.6186   valid/acc: 0.3519\n",
      "Epoch: 2800   train/loss: 26.509   valid/loss: 41.3635   train/acc: 0.6186   valid/acc: 0.3519\n",
      "Epoch: 3000   train/loss: 26.593   valid/loss: 41.4917   train/acc: 0.6186   valid/acc: 0.3426\n",
      "Epoch: 3200   train/loss: 25.9248   valid/loss: 41.2929   train/acc: 0.6186   valid/acc: 0.3148\n",
      "Epoch: 3400   train/loss: 25.7477   valid/loss: 41.8501   train/acc: 0.6356   valid/acc: 0.3333\n",
      "Epoch: 3600   train/loss: 25.4629   valid/loss: 42.1675   train/acc: 0.6356   valid/acc: 0.3611\n",
      "Epoch: 3800   train/loss: 25.8752   valid/loss: 42.5901   train/acc: 0.6356   valid/acc: 0.3519\n",
      "Epoch: 4000   train/loss: 25.3686   valid/loss: 42.4775   train/acc: 0.6186   valid/acc: 0.3241\n"
     ]
    },
    {
     "name": "stdout",
     "output_type": "stream",
     "text": [
      "Test accuracy: 0.4074074074074074\n",
      "Progress:  0.266\n",
      "Number of training circuits: 119   Number of validation circuits: 108   Number of test circuits: 108   Number of parameters in model: 237\n"
     ]
    },
    {
     "name": "stderr",
     "output_type": "stream",
     "text": [
      "Epoch: 200   train/loss: 36.5896   valid/loss: 38.25   train/acc: 0.3782   valid/acc: 0.25\n",
      "Epoch: 400   train/loss: 33.6193   valid/loss: 37.5474   train/acc: 0.5042   valid/acc: 0.3241\n",
      "Epoch: 600   train/loss: 30.9242   valid/loss: 37.2029   train/acc: 0.5294   valid/acc: 0.3889\n",
      "Epoch: 800   train/loss: 29.9232   valid/loss: 37.1813   train/acc: 0.5966   valid/acc: 0.3704\n",
      "Epoch: 1000   train/loss: 28.664   valid/loss: 37.1841   train/acc: 0.563   valid/acc: 0.3148\n",
      "Epoch: 1200   train/loss: 28.3206   valid/loss: 36.9582   train/acc: 0.5798   valid/acc: 0.3704\n",
      "Epoch: 1400   train/loss: 28.2093   valid/loss: 38.5052   train/acc: 0.5798   valid/acc: 0.3796\n",
      "Epoch: 1600   train/loss: 27.6547   valid/loss: 37.847   train/acc: 0.5966   valid/acc: 0.3796\n",
      "Epoch: 1800   train/loss: 27.624   valid/loss: 37.2047   train/acc: 0.5882   valid/acc: 0.4074\n",
      "Epoch: 2000   train/loss: 27.0001   valid/loss: 36.2844   train/acc: 0.605   valid/acc: 0.4074\n",
      "Epoch: 2200   train/loss: 27.3567   valid/loss: 37.0164   train/acc: 0.6134   valid/acc: 0.4167\n",
      "Epoch: 2400   train/loss: 27.1815   valid/loss: 36.7167   train/acc: 0.5882   valid/acc: 0.4259\n",
      "Epoch: 2600   train/loss: 26.3564   valid/loss: 36.6589   train/acc: 0.6387   valid/acc: 0.4352\n",
      "Epoch: 2800   train/loss: 26.4377   valid/loss: 36.6866   train/acc: 0.6387   valid/acc: 0.4444\n",
      "Epoch: 3000   train/loss: 26.1187   valid/loss: 36.642   train/acc: 0.6387   valid/acc: 0.4259\n",
      "Epoch: 3200   train/loss: 25.8797   valid/loss: 38.0052   train/acc: 0.6303   valid/acc: 0.4074\n",
      "Epoch: 3400   train/loss: 26.0098   valid/loss: 37.7339   train/acc: 0.6387   valid/acc: 0.4259\n",
      "Epoch: 3600   train/loss: 26.1863   valid/loss: 37.3378   train/acc: 0.6218   valid/acc: 0.4352\n",
      "Epoch: 3800   train/loss: 25.4854   valid/loss: 37.1422   train/acc: 0.6387   valid/acc: 0.4352\n",
      "Epoch: 4000   train/loss: 25.6157   valid/loss: 37.2859   train/acc: 0.6218   valid/acc: 0.4259\n"
     ]
    },
    {
     "name": "stdout",
     "output_type": "stream",
     "text": [
      "Test accuracy: 0.49074074074074076\n",
      "Progress:  0.268\n",
      "Number of training circuits: 120   Number of validation circuits: 108   Number of test circuits: 108   Number of parameters in model: 237\n"
     ]
    },
    {
     "name": "stderr",
     "output_type": "stream",
     "text": [
      "Epoch: 200   train/loss: 36.2554   valid/loss: 36.1302   train/acc: 0.4   valid/acc: 0.3796\n",
      "Epoch: 400   train/loss: 33.3087   valid/loss: 37.8433   train/acc: 0.4833   valid/acc: 0.3241\n",
      "Epoch: 600   train/loss: 33.1384   valid/loss: 39.9049   train/acc: 0.5   valid/acc: 0.3056\n",
      "Epoch: 800   train/loss: 32.2799   valid/loss: 38.9554   train/acc: 0.4583   valid/acc: 0.3333\n",
      "Epoch: 1000   train/loss: 31.3589   valid/loss: 39.0376   train/acc: 0.5167   valid/acc: 0.3241\n",
      "Epoch: 1200   train/loss: 30.4723   valid/loss: 39.6662   train/acc: 0.5833   valid/acc: 0.3426\n",
      "Epoch: 1400   train/loss: 29.5255   valid/loss: 38.6323   train/acc: 0.5583   valid/acc: 0.3241\n",
      "Epoch: 1600   train/loss: 29.0266   valid/loss: 38.4454   train/acc: 0.5833   valid/acc: 0.3241\n",
      "Epoch: 1800   train/loss: 28.6178   valid/loss: 37.8163   train/acc: 0.5833   valid/acc: 0.3148\n",
      "Epoch: 2000   train/loss: 28.8376   valid/loss: 38.6639   train/acc: 0.55   valid/acc: 0.3241\n",
      "Epoch: 2200   train/loss: 28.425   valid/loss: 38.2244   train/acc: 0.6083   valid/acc: 0.3241\n",
      "Epoch: 2400   train/loss: 28.4362   valid/loss: 38.1434   train/acc: 0.6417   valid/acc: 0.3519\n",
      "Epoch: 2600   train/loss: 28.0049   valid/loss: 39.4629   train/acc: 0.65   valid/acc: 0.3333\n",
      "Epoch: 2800   train/loss: 27.9989   valid/loss: 40.3902   train/acc: 0.6417   valid/acc: 0.3519\n",
      "Epoch: 3000   train/loss: 28.2398   valid/loss: 37.879   train/acc: 0.6167   valid/acc: 0.3519\n",
      "Epoch: 3200   train/loss: 27.6147   valid/loss: 38.5826   train/acc: 0.6583   valid/acc: 0.3611\n",
      "Epoch: 3400   train/loss: 27.0637   valid/loss: 39.6688   train/acc: 0.65   valid/acc: 0.3426\n",
      "Epoch: 3600   train/loss: 27.0551   valid/loss: 38.3741   train/acc: 0.625   valid/acc: 0.3519\n",
      "Epoch: 3800   train/loss: 27.5269   valid/loss: 37.6252   train/acc: 0.6333   valid/acc: 0.3611\n",
      "Epoch: 4000   train/loss: 27.524   valid/loss: 38.477   train/acc: 0.6417   valid/acc: 0.3519\n"
     ]
    },
    {
     "name": "stdout",
     "output_type": "stream",
     "text": [
      "Test accuracy: 0.3888888888888889\n",
      "Progress:  0.27\n",
      "Number of training circuits: 121   Number of validation circuits: 108   Number of test circuits: 108   Number of parameters in model: 237\n"
     ]
    },
    {
     "name": "stderr",
     "output_type": "stream",
     "text": [
      "Epoch: 200   train/loss: 36.4084   valid/loss: 39.1883   train/acc: 0.4545   valid/acc: 0.2778\n",
      "Epoch: 400   train/loss: 32.207   valid/loss: 38.2558   train/acc: 0.5537   valid/acc: 0.4259\n",
      "Epoch: 600   train/loss: 29.8211   valid/loss: 38.3477   train/acc: 0.5868   valid/acc: 0.3704\n",
      "Epoch: 800   train/loss: 28.8251   valid/loss: 38.2293   train/acc: 0.5785   valid/acc: 0.3704\n",
      "Epoch: 1000   train/loss: 28.8152   valid/loss: 40.5213   train/acc: 0.5702   valid/acc: 0.3704\n",
      "Epoch: 1200   train/loss: 27.749   valid/loss: 42.9173   train/acc: 0.6364   valid/acc: 0.3426\n",
      "Epoch: 1400   train/loss: 27.5265   valid/loss: 41.7327   train/acc: 0.6529   valid/acc: 0.3426\n",
      "Epoch: 1600   train/loss: 27.3257   valid/loss: 41.5826   train/acc: 0.6446   valid/acc: 0.3426\n",
      "Epoch: 1800   train/loss: 26.3961   valid/loss: 42.843   train/acc: 0.6364   valid/acc: 0.3426\n",
      "Epoch: 2000   train/loss: 26.3723   valid/loss: 42.5011   train/acc: 0.6694   valid/acc: 0.3426\n",
      "Epoch: 2200   train/loss: 25.8809   valid/loss: 44.6278   train/acc: 0.6694   valid/acc: 0.3519\n",
      "Epoch: 2400   train/loss: 25.9363   valid/loss: 46.1174   train/acc: 0.6529   valid/acc: 0.3611\n",
      "Epoch: 2600   train/loss: 25.6868   valid/loss: 44.6603   train/acc: 0.6612   valid/acc: 0.3519\n",
      "Epoch: 2800   train/loss: 25.9183   valid/loss: 42.7103   train/acc: 0.6612   valid/acc: 0.3519\n",
      "Epoch: 3000   train/loss: 25.4259   valid/loss: 42.8982   train/acc: 0.686   valid/acc: 0.3611\n",
      "Epoch: 3200   train/loss: 25.2478   valid/loss: 43.6309   train/acc: 0.686   valid/acc: 0.3611\n",
      "Epoch: 3400   train/loss: 25.0994   valid/loss: 44.4382   train/acc: 0.6942   valid/acc: 0.3519\n",
      "Epoch: 3600   train/loss: 25.0998   valid/loss: 44.1301   train/acc: 0.686   valid/acc: 0.3333\n",
      "Epoch: 3800   train/loss: 25.4227   valid/loss: 43.7559   train/acc: 0.686   valid/acc: 0.3333\n",
      "Epoch: 4000   train/loss: 25.5004   valid/loss: 43.8965   train/acc: 0.686   valid/acc: 0.3426\n"
     ]
    },
    {
     "name": "stdout",
     "output_type": "stream",
     "text": [
      "Test accuracy: 0.37037037037037035\n",
      "Progress:  0.272\n",
      "Number of training circuits: 122   Number of validation circuits: 109   Number of test circuits: 109   Number of parameters in model: 240\n"
     ]
    },
    {
     "name": "stderr",
     "output_type": "stream",
     "text": [
      "Epoch: 200   train/loss: 38.3456   valid/loss: 38.9029   train/acc: 0.4262   valid/acc: 0.3028\n",
      "Epoch: 400   train/loss: 33.6166   valid/loss: 39.0013   train/acc: 0.5164   valid/acc: 0.3394\n",
      "Epoch: 600   train/loss: 31.7479   valid/loss: 38.0142   train/acc: 0.5082   valid/acc: 0.3486\n",
      "Epoch: 800   train/loss: 30.3755   valid/loss: 40.0338   train/acc: 0.5574   valid/acc: 0.3119\n",
      "Epoch: 1000   train/loss: 29.8714   valid/loss: 42.5382   train/acc: 0.5492   valid/acc: 0.3211\n",
      "Epoch: 1200   train/loss: 28.8658   valid/loss: 42.1656   train/acc: 0.5984   valid/acc: 0.3394\n",
      "Epoch: 1400   train/loss: 28.1995   valid/loss: 41.9263   train/acc: 0.6148   valid/acc: 0.3486\n",
      "Epoch: 1600   train/loss: 27.0837   valid/loss: 43.5583   train/acc: 0.6393   valid/acc: 0.3394\n",
      "Epoch: 1800   train/loss: 27.3236   valid/loss: 43.3146   train/acc: 0.6557   valid/acc: 0.3394\n",
      "Epoch: 2000   train/loss: 26.9292   valid/loss: 48.8925   train/acc: 0.6639   valid/acc: 0.3394\n",
      "Epoch: 2200   train/loss: 26.812   valid/loss: 45.1836   train/acc: 0.6639   valid/acc: 0.3394\n",
      "Epoch: 2400   train/loss: 26.2928   valid/loss: 43.7468   train/acc: 0.6557   valid/acc: 0.3394\n",
      "Epoch: 2600   train/loss: 25.6385   valid/loss: 45.5288   train/acc: 0.6639   valid/acc: 0.3394\n",
      "Epoch: 2800   train/loss: 25.6957   valid/loss: 46.9381   train/acc: 0.6639   valid/acc: 0.3303\n",
      "Epoch: 3000   train/loss: 25.5965   valid/loss: 45.9509   train/acc: 0.6639   valid/acc: 0.3578\n",
      "Epoch: 3200   train/loss: 25.237   valid/loss: 46.3094   train/acc: 0.6639   valid/acc: 0.3578\n",
      "Epoch: 3400   train/loss: 25.483   valid/loss: 45.5245   train/acc: 0.6557   valid/acc: 0.3486\n",
      "Epoch: 3600   train/loss: 25.0087   valid/loss: 47.3897   train/acc: 0.6803   valid/acc: 0.3394\n",
      "Epoch: 3800   train/loss: 25.0585   valid/loss: 47.6162   train/acc: 0.6557   valid/acc: 0.3486\n",
      "Epoch: 4000   train/loss: 24.934   valid/loss: 47.0488   train/acc: 0.6639   valid/acc: 0.3486\n"
     ]
    },
    {
     "name": "stdout",
     "output_type": "stream",
     "text": [
      "Test accuracy: 0.3394495412844037\n",
      "Progress:  0.275\n",
      "Number of training circuits: 123   Number of validation circuits: 109   Number of test circuits: 109   Number of parameters in model: 240\n"
     ]
    },
    {
     "name": "stderr",
     "output_type": "stream",
     "text": [
      "Epoch: 200   train/loss: 40.3602   valid/loss: 38.7141   train/acc: 0.3333   valid/acc: 0.2385\n",
      "Epoch: 400   train/loss: 36.0347   valid/loss: 38.2929   train/acc: 0.4309   valid/acc: 0.2385\n",
      "Epoch: 600   train/loss: 35.9872   valid/loss: 40.529   train/acc: 0.4146   valid/acc: 0.2477\n",
      "Epoch: 800   train/loss: 34.6491   valid/loss: 39.7259   train/acc: 0.4878   valid/acc: 0.2752\n",
      "Epoch: 1000   train/loss: 34.8437   valid/loss: 40.829   train/acc: 0.4797   valid/acc: 0.2752\n",
      "Epoch: 1200   train/loss: 33.4627   valid/loss: 41.0378   train/acc: 0.4634   valid/acc: 0.2661\n",
      "Epoch: 1400   train/loss: 32.703   valid/loss: 41.6928   train/acc: 0.5203   valid/acc: 0.2844\n",
      "Epoch: 1600   train/loss: 31.7202   valid/loss: 41.9931   train/acc: 0.5041   valid/acc: 0.3028\n",
      "Epoch: 1800   train/loss: 32.1664   valid/loss: 42.3957   train/acc: 0.5041   valid/acc: 0.2661\n",
      "Epoch: 2000   train/loss: 30.8575   valid/loss: 43.4621   train/acc: 0.5203   valid/acc: 0.2752\n",
      "Epoch: 2200   train/loss: 30.6907   valid/loss: 42.643   train/acc: 0.5528   valid/acc: 0.3028\n",
      "Epoch: 2400   train/loss: 30.3122   valid/loss: 43.6582   train/acc: 0.5935   valid/acc: 0.3303\n",
      "Epoch: 2600   train/loss: 29.7367   valid/loss: 42.8025   train/acc: 0.5935   valid/acc: 0.3211\n",
      "Epoch: 2800   train/loss: 29.0702   valid/loss: 43.0257   train/acc: 0.626   valid/acc: 0.3119\n",
      "Epoch: 3000   train/loss: 29.0336   valid/loss: 42.7818   train/acc: 0.5935   valid/acc: 0.3211\n",
      "Epoch: 3200   train/loss: 29.0495   valid/loss: 42.849   train/acc: 0.626   valid/acc: 0.3119\n",
      "Epoch: 3400   train/loss: 28.5895   valid/loss: 42.5338   train/acc: 0.6016   valid/acc: 0.3211\n",
      "Epoch: 3600   train/loss: 28.1594   valid/loss: 42.6878   train/acc: 0.5935   valid/acc: 0.3578\n",
      "Epoch: 3800   train/loss: 28.4034   valid/loss: 43.1538   train/acc: 0.6098   valid/acc: 0.3486\n",
      "Epoch: 4000   train/loss: 28.4395   valid/loss: 42.7633   train/acc: 0.626   valid/acc: 0.3761\n"
     ]
    },
    {
     "name": "stdout",
     "output_type": "stream",
     "text": [
      "Test accuracy: 0.41284403669724773\n",
      "Progress:  0.277\n",
      "Number of training circuits: 124   Number of validation circuits: 110   Number of test circuits: 109   Number of parameters in model: 249\n"
     ]
    },
    {
     "name": "stderr",
     "output_type": "stream",
     "text": [
      "Epoch: 200   train/loss: 37.0023   valid/loss: 41.3228   train/acc: 0.4355   valid/acc: 0.2909\n",
      "Epoch: 400   train/loss: 34.5434   valid/loss: 39.3612   train/acc: 0.5242   valid/acc: 0.2909\n",
      "Epoch: 600   train/loss: 33.2844   valid/loss: 43.1395   train/acc: 0.5   valid/acc: 0.2545\n",
      "Epoch: 800   train/loss: 32.5085   valid/loss: 43.0596   train/acc: 0.5242   valid/acc: 0.2727\n",
      "Epoch: 1000   train/loss: 31.7398   valid/loss: 42.441   train/acc: 0.5565   valid/acc: 0.3\n",
      "Epoch: 1200   train/loss: 31.0241   valid/loss: 43.5453   train/acc: 0.5806   valid/acc: 0.3182\n",
      "Epoch: 1400   train/loss: 30.2784   valid/loss: 43.0113   train/acc: 0.5806   valid/acc: 0.3273\n",
      "Epoch: 1600   train/loss: 29.8695   valid/loss: 45.4861   train/acc: 0.5887   valid/acc: 0.3364\n",
      "Epoch: 1800   train/loss: 29.5333   valid/loss: 43.4684   train/acc: 0.5887   valid/acc: 0.3364\n",
      "Epoch: 2000   train/loss: 29.2106   valid/loss: 42.7573   train/acc: 0.5968   valid/acc: 0.3455\n",
      "Epoch: 2200   train/loss: 28.9395   valid/loss: 44.9457   train/acc: 0.5968   valid/acc: 0.3364\n",
      "Epoch: 2400   train/loss: 29.4536   valid/loss: 45.4653   train/acc: 0.5887   valid/acc: 0.3273\n",
      "Epoch: 2600   train/loss: 28.8228   valid/loss: 45.7963   train/acc: 0.6048   valid/acc: 0.3364\n",
      "Epoch: 2800   train/loss: 28.8255   valid/loss: 43.9268   train/acc: 0.6048   valid/acc: 0.3364\n",
      "Epoch: 3000   train/loss: 28.3712   valid/loss: 44.9716   train/acc: 0.6048   valid/acc: 0.3455\n",
      "Epoch: 3200   train/loss: 28.3865   valid/loss: 44.8347   train/acc: 0.6048   valid/acc: 0.3182\n",
      "Epoch: 3400   train/loss: 28.0825   valid/loss: 45.0658   train/acc: 0.621   valid/acc: 0.3455\n",
      "Epoch: 3600   train/loss: 27.9001   valid/loss: 45.6013   train/acc: 0.621   valid/acc: 0.3273\n",
      "Epoch: 3800   train/loss: 27.8438   valid/loss: 46.3081   train/acc: 0.6129   valid/acc: 0.3455\n",
      "Epoch: 4000   train/loss: 27.6677   valid/loss: 46.2659   train/acc: 0.6129   valid/acc: 0.3273\n"
     ]
    },
    {
     "name": "stdout",
     "output_type": "stream",
     "text": [
      "Test accuracy: 0.43119266055045874\n",
      "Progress:  0.279\n",
      "Number of training circuits: 125   Number of validation circuits: 110   Number of test circuits: 109   Number of parameters in model: 249\n"
     ]
    },
    {
     "name": "stderr",
     "output_type": "stream",
     "text": [
      "Epoch: 200   train/loss: 38.1173   valid/loss: 38.6776   train/acc: 0.408   valid/acc: 0.3455\n",
      "Epoch: 400   train/loss: 33.0735   valid/loss: 40.7189   train/acc: 0.488   valid/acc: 0.3364\n",
      "Epoch: 600   train/loss: 32.0969   valid/loss: 41.1957   train/acc: 0.576   valid/acc: 0.3273\n",
      "Epoch: 800   train/loss: 31.5119   valid/loss: 42.2704   train/acc: 0.576   valid/acc: 0.3364\n",
      "Epoch: 1000   train/loss: 30.0519   valid/loss: 42.6346   train/acc: 0.584   valid/acc: 0.3455\n",
      "Epoch: 1200   train/loss: 29.3029   valid/loss: 45.56   train/acc: 0.6   valid/acc: 0.3\n",
      "Epoch: 1400   train/loss: 28.6391   valid/loss: 44.0284   train/acc: 0.568   valid/acc: 0.3364\n",
      "Epoch: 1600   train/loss: 28.1042   valid/loss: 45.5708   train/acc: 0.64   valid/acc: 0.3273\n",
      "Epoch: 1800   train/loss: 27.7533   valid/loss: 47.1572   train/acc: 0.632   valid/acc: 0.3182\n",
      "Epoch: 2000   train/loss: 27.2662   valid/loss: 45.6134   train/acc: 0.656   valid/acc: 0.3273\n",
      "Epoch: 2200   train/loss: 27.044   valid/loss: 45.5574   train/acc: 0.648   valid/acc: 0.3545\n",
      "Epoch: 2400   train/loss: 27.1175   valid/loss: 47.062   train/acc: 0.656   valid/acc: 0.3364\n",
      "Epoch: 2600   train/loss: 26.3445   valid/loss: 46.1404   train/acc: 0.648   valid/acc: 0.3273\n",
      "Epoch: 2800   train/loss: 26.525   valid/loss: 46.6674   train/acc: 0.656   valid/acc: 0.3455\n",
      "Epoch: 3000   train/loss: 26.2008   valid/loss: 46.3139   train/acc: 0.632   valid/acc: 0.3455\n",
      "Epoch: 3200   train/loss: 27.2872   valid/loss: 47.477   train/acc: 0.656   valid/acc: 0.3545\n",
      "Epoch: 3400   train/loss: 26.0597   valid/loss: 47.7994   train/acc: 0.648   valid/acc: 0.3364\n",
      "Epoch: 3600   train/loss: 25.849   valid/loss: 48.7189   train/acc: 0.648   valid/acc: 0.3545\n",
      "Epoch: 3800   train/loss: 26.1221   valid/loss: 49.943   train/acc: 0.656   valid/acc: 0.3545\n",
      "Epoch: 4000   train/loss: 26.2326   valid/loss: 52.6124   train/acc: 0.656   valid/acc: 0.3273\n"
     ]
    },
    {
     "name": "stdout",
     "output_type": "stream",
     "text": [
      "Test accuracy: 0.3577981651376147\n",
      "Progress:  0.281\n",
      "Number of training circuits: 126   Number of validation circuits: 110   Number of test circuits: 109   Number of parameters in model: 249\n"
     ]
    },
    {
     "name": "stderr",
     "output_type": "stream",
     "text": [
      "Epoch: 200   train/loss: 39.3138   valid/loss: 38.7225   train/acc: 0.4365   valid/acc: 0.3273\n",
      "Epoch: 400   train/loss: 39.8416   valid/loss: 37.6961   train/acc: 0.4365   valid/acc: 0.3455\n",
      "Epoch: 600   train/loss: 35.5852   valid/loss: 39.2272   train/acc: 0.5317   valid/acc: 0.3364\n",
      "Epoch: 800   train/loss: 34.6045   valid/loss: 40.5103   train/acc: 0.4921   valid/acc: 0.3182\n",
      "Epoch: 1000   train/loss: 33.5158   valid/loss: 40.5477   train/acc: 0.5317   valid/acc: 0.3182\n",
      "Epoch: 1200   train/loss: 32.7699   valid/loss: 39.3949   train/acc: 0.5635   valid/acc: 0.3364\n",
      "Epoch: 1400   train/loss: 32.0762   valid/loss: 39.5044   train/acc: 0.5476   valid/acc: 0.3545\n",
      "Epoch: 1600   train/loss: 30.9316   valid/loss: 39.4203   train/acc: 0.5159   valid/acc: 0.3909\n",
      "Epoch: 1800   train/loss: 30.3792   valid/loss: 39.0343   train/acc: 0.5317   valid/acc: 0.3636\n",
      "Epoch: 2000   train/loss: 30.8505   valid/loss: 39.3425   train/acc: 0.5476   valid/acc: 0.3727\n",
      "Epoch: 2200   train/loss: 29.8987   valid/loss: 39.8538   train/acc: 0.5952   valid/acc: 0.3636\n",
      "Epoch: 2400   train/loss: 30.0316   valid/loss: 40.651   train/acc: 0.5714   valid/acc: 0.3636\n",
      "Epoch: 2600   train/loss: 29.1388   valid/loss: 41.1548   train/acc: 0.5873   valid/acc: 0.3636\n",
      "Epoch: 2800   train/loss: 29.3574   valid/loss: 40.765   train/acc: 0.619   valid/acc: 0.3545\n",
      "Epoch: 3000   train/loss: 28.9125   valid/loss: 40.3309   train/acc: 0.6032   valid/acc: 0.3727\n",
      "Epoch: 3200   train/loss: 29.5296   valid/loss: 41.2033   train/acc: 0.5873   valid/acc: 0.3727\n",
      "Epoch: 3400   train/loss: 28.6941   valid/loss: 42.0607   train/acc: 0.6032   valid/acc: 0.3818\n",
      "Epoch: 3600   train/loss: 28.2395   valid/loss: 43.4218   train/acc: 0.6032   valid/acc: 0.4\n",
      "Epoch: 3800   train/loss: 28.7471   valid/loss: 42.1377   train/acc: 0.6032   valid/acc: 0.3727\n",
      "Epoch: 4000   train/loss: 28.1911   valid/loss: 42.6995   train/acc: 0.5952   valid/acc: 0.4091\n"
     ]
    },
    {
     "name": "stdout",
     "output_type": "stream",
     "text": [
      "Test accuracy: 0.44036697247706424\n",
      "Progress:  0.283\n",
      "Number of training circuits: 127   Number of validation circuits: 110   Number of test circuits: 109   Number of parameters in model: 249\n"
     ]
    },
    {
     "name": "stderr",
     "output_type": "stream",
     "text": [
      "Epoch: 200   train/loss: 37.1246   valid/loss: 39.3786   train/acc: 0.4094   valid/acc: 0.3182\n",
      "Epoch: 400   train/loss: 36.2282   valid/loss: 39.6889   train/acc: 0.4409   valid/acc: 0.3\n",
      "Epoch: 600   train/loss: 33.2543   valid/loss: 41.4781   train/acc: 0.5433   valid/acc: 0.3364\n",
      "Epoch: 800   train/loss: 32.0349   valid/loss: 43.12   train/acc: 0.5512   valid/acc: 0.3545\n",
      "Epoch: 1000   train/loss: 31.5493   valid/loss: 42.1487   train/acc: 0.5512   valid/acc: 0.3273\n",
      "Epoch: 1200   train/loss: 30.0609   valid/loss: 43.4648   train/acc: 0.5984   valid/acc: 0.3636\n",
      "Epoch: 1400   train/loss: 29.7298   valid/loss: 48.3875   train/acc: 0.6142   valid/acc: 0.3545\n",
      "Epoch: 1600   train/loss: 29.582   valid/loss: 45.7387   train/acc: 0.5591   valid/acc: 0.3545\n",
      "Epoch: 1800   train/loss: 28.6324   valid/loss: 46.8653   train/acc: 0.6378   valid/acc: 0.3636\n",
      "Epoch: 2000   train/loss: 28.2171   valid/loss: 53.2379   train/acc: 0.622   valid/acc: 0.3364\n",
      "Epoch: 2200   train/loss: 28.1617   valid/loss: 48.9329   train/acc: 0.6142   valid/acc: 0.3455\n",
      "Epoch: 2400   train/loss: 28.031   valid/loss: 48.4247   train/acc: 0.6457   valid/acc: 0.3545\n",
      "Epoch: 2600   train/loss: 28.2519   valid/loss: 49.5905   train/acc: 0.6535   valid/acc: 0.3545\n",
      "Epoch: 2800   train/loss: 27.9713   valid/loss: 47.985   train/acc: 0.6378   valid/acc: 0.3455\n",
      "Epoch: 3000   train/loss: 27.3806   valid/loss: 47.6013   train/acc: 0.6457   valid/acc: 0.3545\n",
      "Epoch: 3200   train/loss: 27.2741   valid/loss: 48.3886   train/acc: 0.6299   valid/acc: 0.3455\n",
      "Epoch: 3400   train/loss: 27.1347   valid/loss: 47.9596   train/acc: 0.6299   valid/acc: 0.3636\n",
      "Epoch: 3600   train/loss: 27.1942   valid/loss: 47.7638   train/acc: 0.622   valid/acc: 0.3636\n",
      "Epoch: 3800   train/loss: 27.3605   valid/loss: 48.6625   train/acc: 0.6378   valid/acc: 0.3727\n",
      "Epoch: 4000   train/loss: 26.6662   valid/loss: 49.0546   train/acc: 0.6378   valid/acc: 0.3455\n"
     ]
    },
    {
     "name": "stdout",
     "output_type": "stream",
     "text": [
      "Test accuracy: 0.3577981651376147\n",
      "Progress:  0.286\n",
      "Number of training circuits: 128   Number of validation circuits: 110   Number of test circuits: 109   Number of parameters in model: 249\n"
     ]
    },
    {
     "name": "stderr",
     "output_type": "stream",
     "text": [
      "Epoch: 200   train/loss: 45.0808   valid/loss: 40.2596   train/acc: 0.2656   valid/acc: 0.3\n",
      "Epoch: 400   train/loss: 36.411   valid/loss: 39.9971   train/acc: 0.4297   valid/acc: 0.3182\n",
      "Epoch: 600   train/loss: 34.3605   valid/loss: 41.1587   train/acc: 0.5   valid/acc: 0.3273\n",
      "Epoch: 800   train/loss: 32.6772   valid/loss: 40.9486   train/acc: 0.5469   valid/acc: 0.3545\n",
      "Epoch: 1000   train/loss: 31.3528   valid/loss: 41.8175   train/acc: 0.5859   valid/acc: 0.3455\n",
      "Epoch: 1200   train/loss: 30.5579   valid/loss: 42.0485   train/acc: 0.5938   valid/acc: 0.3545\n",
      "Epoch: 1400   train/loss: 29.4078   valid/loss: 43.5142   train/acc: 0.5625   valid/acc: 0.3364\n",
      "Epoch: 1600   train/loss: 29.118   valid/loss: 43.2969   train/acc: 0.6016   valid/acc: 0.3909\n",
      "Epoch: 1800   train/loss: 28.9539   valid/loss: 44.6887   train/acc: 0.5859   valid/acc: 0.3455\n",
      "Epoch: 2000   train/loss: 27.9873   valid/loss: 44.4916   train/acc: 0.5938   valid/acc: 0.3545\n",
      "Epoch: 2200   train/loss: 27.792   valid/loss: 45.0394   train/acc: 0.6172   valid/acc: 0.3545\n",
      "Epoch: 2400   train/loss: 27.4315   valid/loss: 47.2159   train/acc: 0.6016   valid/acc: 0.3727\n",
      "Epoch: 2600   train/loss: 27.4753   valid/loss: 47.2131   train/acc: 0.6016   valid/acc: 0.3727\n",
      "Epoch: 2800   train/loss: 27.6971   valid/loss: 47.3239   train/acc: 0.6094   valid/acc: 0.3818\n",
      "Epoch: 3000   train/loss: 27.4707   valid/loss: 48.0502   train/acc: 0.6016   valid/acc: 0.3545\n",
      "Epoch: 3200   train/loss: 27.4375   valid/loss: 46.4366   train/acc: 0.6094   valid/acc: 0.3091\n",
      "Epoch: 3400   train/loss: 27.1154   valid/loss: 46.2869   train/acc: 0.6172   valid/acc: 0.3182\n",
      "Epoch: 3600   train/loss: 27.2283   valid/loss: 45.8245   train/acc: 0.625   valid/acc: 0.3091\n",
      "Epoch: 3800   train/loss: 27.1076   valid/loss: 47.11   train/acc: 0.625   valid/acc: 0.3455\n",
      "Epoch: 4000   train/loss: 26.6765   valid/loss: 46.2101   train/acc: 0.6484   valid/acc: 0.3364\n"
     ]
    },
    {
     "name": "stdout",
     "output_type": "stream",
     "text": [
      "Test accuracy: 0.42201834862385323\n",
      "Progress:  0.288\n",
      "Number of training circuits: 129   Number of validation circuits: 110   Number of test circuits: 109   Number of parameters in model: 249\n"
     ]
    },
    {
     "name": "stderr",
     "output_type": "stream",
     "text": [
      "Epoch: 200   train/loss: 40.784   valid/loss: 37.66   train/acc: 0.4186   valid/acc: 0.3182\n",
      "Epoch: 400   train/loss: 37.4608   valid/loss: 39.4807   train/acc: 0.4806   valid/acc: 0.3455\n",
      "Epoch: 600   train/loss: 35.0746   valid/loss: 38.433   train/acc: 0.5271   valid/acc: 0.3273\n",
      "Epoch: 800   train/loss: 33.0153   valid/loss: 38.8212   train/acc: 0.5504   valid/acc: 0.3545\n",
      "Epoch: 1000   train/loss: 31.5258   valid/loss: 41.5985   train/acc: 0.5659   valid/acc: 0.3455\n",
      "Epoch: 1200   train/loss: 30.6507   valid/loss: 40.5296   train/acc: 0.6047   valid/acc: 0.3091\n",
      "Epoch: 1400   train/loss: 30.4486   valid/loss: 42.1208   train/acc: 0.5891   valid/acc: 0.3273\n",
      "Epoch: 1600   train/loss: 29.9684   valid/loss: 42.0028   train/acc: 0.6047   valid/acc: 0.3545\n",
      "Epoch: 1800   train/loss: 28.8376   valid/loss: 41.3992   train/acc: 0.6202   valid/acc: 0.3727\n",
      "Epoch: 2000   train/loss: 29.1348   valid/loss: 42.9702   train/acc: 0.6124   valid/acc: 0.3636\n",
      "Epoch: 2200   train/loss: 29.2367   valid/loss: 42.4651   train/acc: 0.6202   valid/acc: 0.3818\n",
      "Epoch: 2400   train/loss: 28.0071   valid/loss: 42.2279   train/acc: 0.6202   valid/acc: 0.4182\n",
      "Epoch: 2600   train/loss: 28.7481   valid/loss: 43.3866   train/acc: 0.6047   valid/acc: 0.4091\n",
      "Epoch: 2800   train/loss: 27.4268   valid/loss: 42.9409   train/acc: 0.6279   valid/acc: 0.4\n",
      "Epoch: 3000   train/loss: 27.3799   valid/loss: 43.1761   train/acc: 0.6357   valid/acc: 0.3727\n",
      "Epoch: 3200   train/loss: 27.481   valid/loss: 42.759   train/acc: 0.6589   valid/acc: 0.3727\n",
      "Epoch: 3400   train/loss: 27.0755   valid/loss: 43.2634   train/acc: 0.6512   valid/acc: 0.3727\n",
      "Epoch: 3600   train/loss: 26.7123   valid/loss: 44.7023   train/acc: 0.6434   valid/acc: 0.3727\n",
      "Epoch: 3800   train/loss: 27.3498   valid/loss: 42.3435   train/acc: 0.6279   valid/acc: 0.3636\n",
      "Epoch: 4000   train/loss: 26.7591   valid/loss: 44.6044   train/acc: 0.6434   valid/acc: 0.3909\n"
     ]
    },
    {
     "name": "stdout",
     "output_type": "stream",
     "text": [
      "Test accuracy: 0.44954128440366975\n",
      "Progress:  0.29\n",
      "Number of training circuits: 130   Number of validation circuits: 110   Number of test circuits: 109   Number of parameters in model: 249\n"
     ]
    },
    {
     "name": "stderr",
     "output_type": "stream",
     "text": [
      "Epoch: 200   train/loss: 42.4281   valid/loss: 42.6128   train/acc: 0.3231   valid/acc: 0.2364\n",
      "Epoch: 400   train/loss: 39.8187   valid/loss: 38.5722   train/acc: 0.4154   valid/acc: 0.3182\n",
      "Epoch: 600   train/loss: 39.1286   valid/loss: 39.4231   train/acc: 0.4231   valid/acc: 0.2909\n",
      "Epoch: 800   train/loss: 37.1417   valid/loss: 39.7058   train/acc: 0.4308   valid/acc: 0.2545\n",
      "Epoch: 1000   train/loss: 36.5437   valid/loss: 41.8793   train/acc: 0.4615   valid/acc: 0.3\n",
      "Epoch: 1200   train/loss: 34.47   valid/loss: 41.695   train/acc: 0.4846   valid/acc: 0.2909\n",
      "Epoch: 1400   train/loss: 34.1719   valid/loss: 41.9963   train/acc: 0.5231   valid/acc: 0.3091\n",
      "Epoch: 1600   train/loss: 33.2747   valid/loss: 44.0553   train/acc: 0.5308   valid/acc: 0.3182\n",
      "Epoch: 1800   train/loss: 33.1416   valid/loss: 41.796   train/acc: 0.5615   valid/acc: 0.3091\n",
      "Epoch: 2000   train/loss: 32.2887   valid/loss: 41.9695   train/acc: 0.5538   valid/acc: 0.3182\n",
      "Epoch: 2200   train/loss: 32.5882   valid/loss: 40.3777   train/acc: 0.5538   valid/acc: 0.3091\n",
      "Epoch: 2400   train/loss: 31.5211   valid/loss: 42.6118   train/acc: 0.5538   valid/acc: 0.3091\n",
      "Epoch: 2600   train/loss: 30.9776   valid/loss: 43.1971   train/acc: 0.5385   valid/acc: 0.3091\n",
      "Epoch: 2800   train/loss: 31.792   valid/loss: 46.1835   train/acc: 0.5385   valid/acc: 0.3273\n",
      "Epoch: 3000   train/loss: 30.8596   valid/loss: 41.5254   train/acc: 0.5154   valid/acc: 0.2909\n",
      "Epoch: 3200   train/loss: 30.9189   valid/loss: 45.2729   train/acc: 0.5231   valid/acc: 0.2909\n",
      "Epoch: 3400   train/loss: 31.6784   valid/loss: 41.7869   train/acc: 0.5231   valid/acc: 0.3091\n",
      "Epoch: 3600   train/loss: 29.9091   valid/loss: 42.1116   train/acc: 0.5385   valid/acc: 0.3273\n",
      "Epoch: 3800   train/loss: 30.2777   valid/loss: 44.5233   train/acc: 0.5385   valid/acc: 0.3545\n",
      "Epoch: 4000   train/loss: 30.5486   valid/loss: 42.2144   train/acc: 0.5385   valid/acc: 0.3273\n"
     ]
    },
    {
     "name": "stdout",
     "output_type": "stream",
     "text": [
      "Test accuracy: 0.3486238532110092\n",
      "Progress:  0.292\n",
      "Number of training circuits: 131   Number of validation circuits: 110   Number of test circuits: 109   Number of parameters in model: 249\n"
     ]
    },
    {
     "name": "stderr",
     "output_type": "stream",
     "text": [
      "Epoch: 200   train/loss: 41.0589   valid/loss: 39.8675   train/acc: 0.3817   valid/acc: 0.3\n",
      "Epoch: 400   train/loss: 38.8069   valid/loss: 39.3946   train/acc: 0.4733   valid/acc: 0.2455\n",
      "Epoch: 600   train/loss: 37.3243   valid/loss: 37.937   train/acc: 0.4656   valid/acc: 0.3\n",
      "Epoch: 800   train/loss: 35.4936   valid/loss: 38.9625   train/acc: 0.5267   valid/acc: 0.3455\n",
      "Epoch: 1000   train/loss: 33.1912   valid/loss: 39.1408   train/acc: 0.5573   valid/acc: 0.3455\n",
      "Epoch: 1200   train/loss: 33.3876   valid/loss: 38.0319   train/acc: 0.5649   valid/acc: 0.3\n",
      "Epoch: 1400   train/loss: 32.0037   valid/loss: 38.3217   train/acc: 0.5802   valid/acc: 0.3545\n",
      "Epoch: 1600   train/loss: 31.368   valid/loss: 39.8606   train/acc: 0.6031   valid/acc: 0.3545\n",
      "Epoch: 1800   train/loss: 30.7908   valid/loss: 39.9248   train/acc: 0.6336   valid/acc: 0.3273\n",
      "Epoch: 2000   train/loss: 30.5509   valid/loss: 40.0896   train/acc: 0.6107   valid/acc: 0.3727\n",
      "Epoch: 2200   train/loss: 30.3024   valid/loss: 39.4481   train/acc: 0.5954   valid/acc: 0.3727\n",
      "Epoch: 2400   train/loss: 30.4066   valid/loss: 40.3341   train/acc: 0.626   valid/acc: 0.3727\n",
      "Epoch: 2600   train/loss: 29.8048   valid/loss: 40.3548   train/acc: 0.6107   valid/acc: 0.3636\n",
      "Epoch: 2800   train/loss: 29.5223   valid/loss: 41.1843   train/acc: 0.6107   valid/acc: 0.3364\n",
      "Epoch: 3000   train/loss: 29.5578   valid/loss: 41.5643   train/acc: 0.5954   valid/acc: 0.3545\n",
      "Epoch: 3200   train/loss: 28.7128   valid/loss: 41.9619   train/acc: 0.5954   valid/acc: 0.3364\n",
      "Epoch: 3400   train/loss: 29.3245   valid/loss: 41.997   train/acc: 0.6183   valid/acc: 0.3364\n",
      "Epoch: 3600   train/loss: 29.4774   valid/loss: 42.6431   train/acc: 0.626   valid/acc: 0.3455\n",
      "Epoch: 3800   train/loss: 29.0374   valid/loss: 43.1938   train/acc: 0.626   valid/acc: 0.3636\n",
      "Epoch: 4000   train/loss: 28.949   valid/loss: 41.4805   train/acc: 0.626   valid/acc: 0.3455\n"
     ]
    },
    {
     "name": "stdout",
     "output_type": "stream",
     "text": [
      "Test accuracy: 0.3669724770642202\n",
      "Progress:  0.295\n",
      "Number of training circuits: 132   Number of validation circuits: 110   Number of test circuits: 109   Number of parameters in model: 249\n"
     ]
    },
    {
     "name": "stderr",
     "output_type": "stream",
     "text": [
      "Epoch: 200   train/loss: 42.4333   valid/loss: 37.8191   train/acc: 0.3485   valid/acc: 0.2818\n",
      "Epoch: 400   train/loss: 41.4462   valid/loss: 39.0208   train/acc: 0.3561   valid/acc: 0.3455\n",
      "Epoch: 600   train/loss: 38.5941   valid/loss: 38.0907   train/acc: 0.4242   valid/acc: 0.2909\n",
      "Epoch: 800   train/loss: 36.2872   valid/loss: 37.224   train/acc: 0.5152   valid/acc: 0.4091\n",
      "Epoch: 1000   train/loss: 33.817   valid/loss: 36.8444   train/acc: 0.5227   valid/acc: 0.3727\n",
      "Epoch: 1200   train/loss: 32.8117   valid/loss: 38.6302   train/acc: 0.5758   valid/acc: 0.3091\n",
      "Epoch: 1400   train/loss: 31.4917   valid/loss: 41.9316   train/acc: 0.6061   valid/acc: 0.3545\n",
      "Epoch: 1600   train/loss: 31.082   valid/loss: 42.8978   train/acc: 0.6061   valid/acc: 0.3364\n",
      "Epoch: 1800   train/loss: 30.508   valid/loss: 45.4023   train/acc: 0.6212   valid/acc: 0.3364\n",
      "Epoch: 2000   train/loss: 29.9941   valid/loss: 47.6054   train/acc: 0.6061   valid/acc: 0.3182\n",
      "Epoch: 2200   train/loss: 30.2121   valid/loss: 43.7249   train/acc: 0.6136   valid/acc: 0.3455\n",
      "Epoch: 2400   train/loss: 30.147   valid/loss: 43.0114   train/acc: 0.6288   valid/acc: 0.3636\n",
      "Epoch: 2600   train/loss: 29.7351   valid/loss: 45.6775   train/acc: 0.6439   valid/acc: 0.3364\n",
      "Epoch: 2800   train/loss: 29.1926   valid/loss: 44.1814   train/acc: 0.6515   valid/acc: 0.3455\n",
      "Epoch: 3000   train/loss: 29.1337   valid/loss: 45.4491   train/acc: 0.6439   valid/acc: 0.3455\n",
      "Epoch: 3200   train/loss: 28.9239   valid/loss: 43.9717   train/acc: 0.6515   valid/acc: 0.3364\n",
      "Epoch: 3400   train/loss: 28.4938   valid/loss: 44.2786   train/acc: 0.6515   valid/acc: 0.3364\n",
      "Epoch: 3600   train/loss: 28.89   valid/loss: 46.2858   train/acc: 0.6364   valid/acc: 0.3364\n",
      "Epoch: 3800   train/loss: 29.0688   valid/loss: 45.5888   train/acc: 0.6439   valid/acc: 0.3364\n",
      "Epoch: 4000   train/loss: 28.1224   valid/loss: 46.1616   train/acc: 0.6439   valid/acc: 0.3364\n"
     ]
    },
    {
     "name": "stdout",
     "output_type": "stream",
     "text": [
      "Test accuracy: 0.3944954128440367\n",
      "Progress:  0.297\n",
      "Number of training circuits: 133   Number of validation circuits: 110   Number of test circuits: 109   Number of parameters in model: 249\n"
     ]
    },
    {
     "name": "stderr",
     "output_type": "stream",
     "text": [
      "Epoch: 200   train/loss: 40.7838   valid/loss: 40.3829   train/acc: 0.3985   valid/acc: 0.3\n",
      "Epoch: 400   train/loss: 39.5497   valid/loss: 42.0046   train/acc: 0.406   valid/acc: 0.2909\n",
      "Epoch: 600   train/loss: 39.0076   valid/loss: 40.5376   train/acc: 0.4286   valid/acc: 0.3182\n",
      "Epoch: 800   train/loss: 35.2948   valid/loss: 42.8241   train/acc: 0.5564   valid/acc: 0.3636\n",
      "Epoch: 1000   train/loss: 35.377   valid/loss: 42.2846   train/acc: 0.5038   valid/acc: 0.3364\n",
      "Epoch: 1200   train/loss: 32.599   valid/loss: 42.8927   train/acc: 0.5865   valid/acc: 0.3545\n",
      "Epoch: 1400   train/loss: 31.1787   valid/loss: 43.9865   train/acc: 0.6015   valid/acc: 0.3818\n",
      "Epoch: 1600   train/loss: 31.0071   valid/loss: 43.5909   train/acc: 0.6015   valid/acc: 0.4\n",
      "Epoch: 1800   train/loss: 31.8252   valid/loss: 40.3135   train/acc: 0.594   valid/acc: 0.3909\n",
      "Epoch: 2000   train/loss: 31.5976   valid/loss: 41.8513   train/acc: 0.594   valid/acc: 0.3545\n",
      "Epoch: 2200   train/loss: 30.7734   valid/loss: 40.0061   train/acc: 0.609   valid/acc: 0.3727\n",
      "Epoch: 2400   train/loss: 30.7779   valid/loss: 43.0197   train/acc: 0.6165   valid/acc: 0.3364\n",
      "Epoch: 2600   train/loss: 30.0423   valid/loss: 42.8691   train/acc: 0.6241   valid/acc: 0.3545\n",
      "Epoch: 2800   train/loss: 29.5361   valid/loss: 43.4315   train/acc: 0.6316   valid/acc: 0.3545\n",
      "Epoch: 3000   train/loss: 29.489   valid/loss: 43.6241   train/acc: 0.6165   valid/acc: 0.3909\n",
      "Epoch: 3200   train/loss: 29.223   valid/loss: 45.305   train/acc: 0.6165   valid/acc: 0.3545\n",
      "Epoch: 3400   train/loss: 29.3013   valid/loss: 43.3801   train/acc: 0.5564   valid/acc: 0.3273\n",
      "Epoch: 3600   train/loss: 28.3467   valid/loss: 44.3711   train/acc: 0.6241   valid/acc: 0.3818\n",
      "Epoch: 3800   train/loss: 28.6882   valid/loss: 44.2674   train/acc: 0.6391   valid/acc: 0.3727\n",
      "Epoch: 4000   train/loss: 28.6395   valid/loss: 44.1331   train/acc: 0.6165   valid/acc: 0.3818\n"
     ]
    },
    {
     "name": "stdout",
     "output_type": "stream",
     "text": [
      "Test accuracy: 0.3853211009174312\n",
      "Progress:  0.299\n",
      "Number of training circuits: 134   Number of validation circuits: 111   Number of test circuits: 110   Number of parameters in model: 264\n"
     ]
    },
    {
     "name": "stderr",
     "output_type": "stream",
     "text": [
      "Epoch: 200   train/loss: 41.8062   valid/loss: 39.3007   train/acc: 0.4179   valid/acc: 0.2883\n",
      "Epoch: 400   train/loss: 39.2211   valid/loss: 41.0124   train/acc: 0.4776   valid/acc: 0.3243\n",
      "Epoch: 600   train/loss: 37.1183   valid/loss: 41.5894   train/acc: 0.4552   valid/acc: 0.3243\n",
      "Epoch: 800   train/loss: 36.4167   valid/loss: 41.8063   train/acc: 0.5299   valid/acc: 0.3694\n",
      "Epoch: 1000   train/loss: 34.6689   valid/loss: 44.362   train/acc: 0.5672   valid/acc: 0.3604\n",
      "Epoch: 1200   train/loss: 33.6165   valid/loss: 43.4242   train/acc: 0.5149   valid/acc: 0.3514\n",
      "Epoch: 1400   train/loss: 33.007   valid/loss: 50.3286   train/acc: 0.5597   valid/acc: 0.3694\n",
      "Epoch: 1600   train/loss: 33.8304   valid/loss: 43.1292   train/acc: 0.5672   valid/acc: 0.3423\n",
      "Epoch: 1800   train/loss: 33.2225   valid/loss: 46.5029   train/acc: 0.5224   valid/acc: 0.3514\n",
      "Epoch: 2000   train/loss: 32.7345   valid/loss: 45.2596   train/acc: 0.5149   valid/acc: 0.3243\n",
      "Epoch: 2200   train/loss: 32.5808   valid/loss: 43.9524   train/acc: 0.5075   valid/acc: 0.3333\n",
      "Epoch: 2400   train/loss: 31.5639   valid/loss: 46.6935   train/acc: 0.5448   valid/acc: 0.3423\n",
      "Epoch: 2600   train/loss: 31.3544   valid/loss: 44.594   train/acc: 0.5522   valid/acc: 0.3604\n",
      "Epoch: 2800   train/loss: 30.8743   valid/loss: 43.7279   train/acc: 0.5522   valid/acc: 0.3514\n",
      "Epoch: 3000   train/loss: 30.9302   valid/loss: 44.5802   train/acc: 0.5522   valid/acc: 0.3423\n",
      "Epoch: 3200   train/loss: 30.6843   valid/loss: 45.034   train/acc: 0.5149   valid/acc: 0.3423\n",
      "Epoch: 3400   train/loss: 30.7536   valid/loss: 44.4799   train/acc: 0.5448   valid/acc: 0.3694\n",
      "Epoch: 3600   train/loss: 30.9451   valid/loss: 44.2025   train/acc: 0.5522   valid/acc: 0.3333\n",
      "Epoch: 3800   train/loss: 30.9276   valid/loss: 46.2538   train/acc: 0.5522   valid/acc: 0.3333\n",
      "Epoch: 4000   train/loss: 30.6941   valid/loss: 45.1299   train/acc: 0.5373   valid/acc: 0.3243\n"
     ]
    },
    {
     "name": "stdout",
     "output_type": "stream",
     "text": [
      "Test accuracy: 0.41818181818181815\n",
      "Progress:  0.301\n",
      "Number of training circuits: 135   Number of validation circuits: 111   Number of test circuits: 110   Number of parameters in model: 264\n"
     ]
    },
    {
     "name": "stderr",
     "output_type": "stream",
     "text": [
      "Epoch: 200   train/loss: 42.0629   valid/loss: 40.4349   train/acc: 0.363   valid/acc: 0.2883\n",
      "Epoch: 400   train/loss: 38.5643   valid/loss: 40.997   train/acc: 0.3778   valid/acc: 0.3423\n",
      "Epoch: 600   train/loss: 35.8088   valid/loss: 42.3513   train/acc: 0.4889   valid/acc: 0.3423\n",
      "Epoch: 800   train/loss: 35.2542   valid/loss: 42.4867   train/acc: 0.4667   valid/acc: 0.2432\n",
      "Epoch: 1000   train/loss: 33.7717   valid/loss: 43.7706   train/acc: 0.4815   valid/acc: 0.2703\n",
      "Epoch: 1200   train/loss: 33.5751   valid/loss: 47.9566   train/acc: 0.4815   valid/acc: 0.2252\n",
      "Epoch: 1400   train/loss: 32.5015   valid/loss: 46.2621   train/acc: 0.5481   valid/acc: 0.2973\n",
      "Epoch: 1600   train/loss: 31.7151   valid/loss: 45.8297   train/acc: 0.5481   valid/acc: 0.2973\n",
      "Epoch: 1800   train/loss: 30.6798   valid/loss: 43.5856   train/acc: 0.5778   valid/acc: 0.3333\n",
      "Epoch: 2000   train/loss: 30.7314   valid/loss: 45.1498   train/acc: 0.5778   valid/acc: 0.3423\n",
      "Epoch: 2200   train/loss: 30.2298   valid/loss: 44.7734   train/acc: 0.6444   valid/acc: 0.3694\n",
      "Epoch: 2400   train/loss: 30.2093   valid/loss: 45.7758   train/acc: 0.6148   valid/acc: 0.3243\n",
      "Epoch: 2600   train/loss: 29.2807   valid/loss: 43.4772   train/acc: 0.6296   valid/acc: 0.3333\n",
      "Epoch: 2800   train/loss: 28.6507   valid/loss: 46.2153   train/acc: 0.6444   valid/acc: 0.3243\n",
      "Epoch: 3000   train/loss: 28.7648   valid/loss: 45.4534   train/acc: 0.6444   valid/acc: 0.3694\n",
      "Epoch: 3200   train/loss: 28.8864   valid/loss: 47.026   train/acc: 0.6148   valid/acc: 0.3423\n",
      "Epoch: 3400   train/loss: 28.4162   valid/loss: 46.685   train/acc: 0.6148   valid/acc: 0.3694\n",
      "Epoch: 3600   train/loss: 28.2649   valid/loss: 45.6054   train/acc: 0.6519   valid/acc: 0.3604\n",
      "Epoch: 3800   train/loss: 29.1126   valid/loss: 45.9555   train/acc: 0.6593   valid/acc: 0.3874\n",
      "Epoch: 4000   train/loss: 28.7085   valid/loss: 46.677   train/acc: 0.6444   valid/acc: 0.3423\n"
     ]
    },
    {
     "name": "stdout",
     "output_type": "stream",
     "text": [
      "Test accuracy: 0.43636363636363634\n",
      "Progress:  0.304\n",
      "Number of training circuits: 136   Number of validation circuits: 111   Number of test circuits: 110   Number of parameters in model: 264\n"
     ]
    },
    {
     "name": "stderr",
     "output_type": "stream",
     "text": [
      "Epoch: 200   train/loss: 39.6027   valid/loss: 40.9049   train/acc: 0.4412   valid/acc: 0.2973\n",
      "Epoch: 400   train/loss: 39.3716   valid/loss: 38.3912   train/acc: 0.4632   valid/acc: 0.3063\n",
      "Epoch: 600   train/loss: 41.0246   valid/loss: 39.875   train/acc: 0.4485   valid/acc: 0.3514\n",
      "Epoch: 800   train/loss: 37.6165   valid/loss: 38.8805   train/acc: 0.5147   valid/acc: 0.3423\n",
      "Epoch: 1000   train/loss: 35.9175   valid/loss: 40.9072   train/acc: 0.5368   valid/acc: 0.3514\n",
      "Epoch: 1200   train/loss: 34.6814   valid/loss: 40.6572   train/acc: 0.5882   valid/acc: 0.3784\n",
      "Epoch: 1400   train/loss: 32.8582   valid/loss: 41.8661   train/acc: 0.5809   valid/acc: 0.3423\n",
      "Epoch: 1600   train/loss: 32.7761   valid/loss: 41.5811   train/acc: 0.6103   valid/acc: 0.3333\n",
      "Epoch: 1800   train/loss: 32.1815   valid/loss: 41.4765   train/acc: 0.5956   valid/acc: 0.3333\n",
      "Epoch: 2000   train/loss: 31.9508   valid/loss: 43.3912   train/acc: 0.6029   valid/acc: 0.3243\n",
      "Epoch: 2200   train/loss: 32.4028   valid/loss: 41.0902   train/acc: 0.5882   valid/acc: 0.3243\n",
      "Epoch: 2400   train/loss: 31.9087   valid/loss: 40.2042   train/acc: 0.6103   valid/acc: 0.3514\n",
      "Epoch: 2600   train/loss: 31.8088   valid/loss: 40.8538   train/acc: 0.5956   valid/acc: 0.3423\n",
      "Epoch: 2800   train/loss: 31.7355   valid/loss: 41.1457   train/acc: 0.6103   valid/acc: 0.3604\n",
      "Epoch: 3000   train/loss: 30.875   valid/loss: 41.1462   train/acc: 0.6176   valid/acc: 0.3514\n",
      "Epoch: 3200   train/loss: 31.7791   valid/loss: 41.5034   train/acc: 0.625   valid/acc: 0.3514\n",
      "Epoch: 3400   train/loss: 30.9414   valid/loss: 40.8733   train/acc: 0.6176   valid/acc: 0.3514\n",
      "Epoch: 3600   train/loss: 30.5514   valid/loss: 42.7839   train/acc: 0.6176   valid/acc: 0.3333\n",
      "Epoch: 3800   train/loss: 31.4564   valid/loss: 41.9136   train/acc: 0.6176   valid/acc: 0.3333\n",
      "Epoch: 4000   train/loss: 30.919   valid/loss: 40.6013   train/acc: 0.625   valid/acc: 0.3243\n"
     ]
    },
    {
     "name": "stdout",
     "output_type": "stream",
     "text": [
      "Test accuracy: 0.4090909090909091\n",
      "Progress:  0.306\n",
      "Number of training circuits: 137   Number of validation circuits: 111   Number of test circuits: 110   Number of parameters in model: 264\n"
     ]
    },
    {
     "name": "stderr",
     "output_type": "stream",
     "text": [
      "Epoch: 200   train/loss: 43.9398   valid/loss: 42.2973   train/acc: 0.3796   valid/acc: 0.3063\n",
      "Epoch: 400   train/loss: 40.0232   valid/loss: 41.3039   train/acc: 0.438   valid/acc: 0.2883\n",
      "Epoch: 600   train/loss: 38.8777   valid/loss: 40.0107   train/acc: 0.4234   valid/acc: 0.3423\n",
      "Epoch: 800   train/loss: 38.6882   valid/loss: 40.5183   train/acc: 0.4453   valid/acc: 0.2973\n",
      "Epoch: 1000   train/loss: 36.7961   valid/loss: 41.5989   train/acc: 0.4599   valid/acc: 0.2703\n",
      "Epoch: 1200   train/loss: 35.6983   valid/loss: 39.6288   train/acc: 0.5255   valid/acc: 0.3153\n",
      "Epoch: 1400   train/loss: 34.9253   valid/loss: 40.5509   train/acc: 0.4964   valid/acc: 0.3243\n",
      "Epoch: 1600   train/loss: 33.7299   valid/loss: 40.8388   train/acc: 0.5693   valid/acc: 0.3243\n",
      "Epoch: 1800   train/loss: 33.9474   valid/loss: 41.6284   train/acc: 0.5182   valid/acc: 0.2973\n",
      "Epoch: 2000   train/loss: 32.5572   valid/loss: 40.543   train/acc: 0.5547   valid/acc: 0.3153\n",
      "Epoch: 2200   train/loss: 31.3848   valid/loss: 41.6421   train/acc: 0.5839   valid/acc: 0.3604\n",
      "Epoch: 2400   train/loss: 31.4859   valid/loss: 41.2752   train/acc: 0.6131   valid/acc: 0.3333\n",
      "Epoch: 2600   train/loss: 31.702   valid/loss: 40.3772   train/acc: 0.5839   valid/acc: 0.3514\n",
      "Epoch: 2800   train/loss: 30.7906   valid/loss: 40.5128   train/acc: 0.6204   valid/acc: 0.3423\n",
      "Epoch: 3000   train/loss: 31.7655   valid/loss: 40.8759   train/acc: 0.5985   valid/acc: 0.3604\n",
      "Epoch: 3200   train/loss: 31.0714   valid/loss: 41.6161   train/acc: 0.6277   valid/acc: 0.3514\n",
      "Epoch: 3400   train/loss: 31.0144   valid/loss: 41.9564   train/acc: 0.6058   valid/acc: 0.3694\n",
      "Epoch: 3600   train/loss: 31.0425   valid/loss: 41.2052   train/acc: 0.6131   valid/acc: 0.3514\n",
      "Epoch: 3800   train/loss: 30.2949   valid/loss: 41.5517   train/acc: 0.6423   valid/acc: 0.3784\n",
      "Epoch: 4000   train/loss: 30.6349   valid/loss: 40.9235   train/acc: 0.635   valid/acc: 0.3604\n"
     ]
    },
    {
     "name": "stdout",
     "output_type": "stream",
     "text": [
      "Test accuracy: 0.36363636363636365\n",
      "Progress:  0.308\n",
      "Number of training circuits: 138   Number of validation circuits: 111   Number of test circuits: 110   Number of parameters in model: 264\n"
     ]
    },
    {
     "name": "stderr",
     "output_type": "stream",
     "text": [
      "Epoch: 200   train/loss: 46.185   valid/loss: 40.0856   train/acc: 0.3043   valid/acc: 0.2252\n",
      "Epoch: 400   train/loss: 43.242   valid/loss: 38.5713   train/acc: 0.3913   valid/acc: 0.3514\n",
      "Epoch: 600   train/loss: 41.5414   valid/loss: 40.0786   train/acc: 0.471   valid/acc: 0.3243\n",
      "Epoch: 800   train/loss: 38.3699   valid/loss: 40.2618   train/acc: 0.4565   valid/acc: 0.3514\n",
      "Epoch: 1000   train/loss: 36.3013   valid/loss: 42.6399   train/acc: 0.5507   valid/acc: 0.3243\n",
      "Epoch: 1200   train/loss: 35.8547   valid/loss: 43.5478   train/acc: 0.5217   valid/acc: 0.3243\n",
      "Epoch: 1400   train/loss: 34.1183   valid/loss: 42.8883   train/acc: 0.529   valid/acc: 0.3694\n",
      "Epoch: 1600   train/loss: 33.8337   valid/loss: 43.0534   train/acc: 0.5725   valid/acc: 0.3153\n",
      "Epoch: 1800   train/loss: 33.9603   valid/loss: 42.7621   train/acc: 0.5797   valid/acc: 0.3243\n",
      "Epoch: 2000   train/loss: 33.2565   valid/loss: 46.7545   train/acc: 0.5942   valid/acc: 0.3153\n",
      "Epoch: 2200   train/loss: 33.0541   valid/loss: 47.1179   train/acc: 0.6014   valid/acc: 0.3604\n",
      "Epoch: 2400   train/loss: 31.8749   valid/loss: 44.7138   train/acc: 0.6014   valid/acc: 0.3423\n",
      "Epoch: 2600   train/loss: 32.002   valid/loss: 44.8378   train/acc: 0.5942   valid/acc: 0.3333\n",
      "Epoch: 2800   train/loss: 32.1649   valid/loss: 43.829   train/acc: 0.5942   valid/acc: 0.3243\n",
      "Epoch: 3000   train/loss: 32.1826   valid/loss: 44.5742   train/acc: 0.6087   valid/acc: 0.3423\n",
      "Epoch: 3200   train/loss: 31.409   valid/loss: 44.2432   train/acc: 0.6087   valid/acc: 0.3423\n",
      "Epoch: 3400   train/loss: 31.453   valid/loss: 44.2154   train/acc: 0.6087   valid/acc: 0.3423\n",
      "Epoch: 3600   train/loss: 30.8776   valid/loss: 46.8484   train/acc: 0.6014   valid/acc: 0.3243\n",
      "Epoch: 3800   train/loss: 30.9419   valid/loss: 43.8928   train/acc: 0.6014   valid/acc: 0.3063\n",
      "Epoch: 4000   train/loss: 31.2503   valid/loss: 44.9739   train/acc: 0.6087   valid/acc: 0.2973\n"
     ]
    },
    {
     "name": "stdout",
     "output_type": "stream",
     "text": [
      "Test accuracy: 0.37272727272727274\n",
      "Progress:  0.31\n",
      "Number of training circuits: 139   Number of validation circuits: 111   Number of test circuits: 110   Number of parameters in model: 264\n"
     ]
    },
    {
     "name": "stderr",
     "output_type": "stream",
     "text": [
      "Epoch: 200   train/loss: 45.7834   valid/loss: 40.846   train/acc: 0.4029   valid/acc: 0.2523\n",
      "Epoch: 400   train/loss: 39.2359   valid/loss: 39.6451   train/acc: 0.446   valid/acc: 0.3243\n",
      "Epoch: 600   train/loss: 39.3643   valid/loss: 41.2179   train/acc: 0.4101   valid/acc: 0.3063\n",
      "Epoch: 800   train/loss: 37.753   valid/loss: 43.7796   train/acc: 0.4892   valid/acc: 0.2973\n",
      "Epoch: 1000   train/loss: 34.3916   valid/loss: 41.5832   train/acc: 0.518   valid/acc: 0.3423\n",
      "Epoch: 1200   train/loss: 33.3193   valid/loss: 41.6304   train/acc: 0.5971   valid/acc: 0.3243\n",
      "Epoch: 1400   train/loss: 32.8105   valid/loss: 42.0553   train/acc: 0.6115   valid/acc: 0.3153\n",
      "Epoch: 1600   train/loss: 32.2223   valid/loss: 41.4708   train/acc: 0.5899   valid/acc: 0.3243\n",
      "Epoch: 1800   train/loss: 31.8784   valid/loss: 43.1364   train/acc: 0.5899   valid/acc: 0.3333\n",
      "Epoch: 2000   train/loss: 31.4924   valid/loss: 44.1607   train/acc: 0.6331   valid/acc: 0.3333\n",
      "Epoch: 2200   train/loss: 30.8659   valid/loss: 42.8183   train/acc: 0.5971   valid/acc: 0.3063\n",
      "Epoch: 2400   train/loss: 31.2792   valid/loss: 45.1996   train/acc: 0.6259   valid/acc: 0.3514\n",
      "Epoch: 2600   train/loss: 31.7173   valid/loss: 43.7097   train/acc: 0.6115   valid/acc: 0.3333\n",
      "Epoch: 2800   train/loss: 30.8861   valid/loss: 45.0772   train/acc: 0.6187   valid/acc: 0.3514\n",
      "Epoch: 3000   train/loss: 31.27   valid/loss: 43.2113   train/acc: 0.6115   valid/acc: 0.3063\n",
      "Epoch: 3200   train/loss: 31.0718   valid/loss: 45.3836   train/acc: 0.6043   valid/acc: 0.2973\n",
      "Epoch: 3400   train/loss: 29.7395   valid/loss: 44.6383   train/acc: 0.6259   valid/acc: 0.3243\n",
      "Epoch: 3600   train/loss: 29.8125   valid/loss: 45.3725   train/acc: 0.5971   valid/acc: 0.3243\n",
      "Epoch: 3800   train/loss: 29.8275   valid/loss: 44.9926   train/acc: 0.6115   valid/acc: 0.3153\n",
      "Epoch: 4000   train/loss: 29.5705   valid/loss: 45.6499   train/acc: 0.6043   valid/acc: 0.3153\n"
     ]
    },
    {
     "name": "stdout",
     "output_type": "stream",
     "text": [
      "Test accuracy: 0.4090909090909091\n",
      "Progress:  0.312\n",
      "Number of training circuits: 140   Number of validation circuits: 111   Number of test circuits: 110   Number of parameters in model: 264\n"
     ]
    },
    {
     "name": "stderr",
     "output_type": "stream",
     "text": [
      "Epoch: 200   train/loss: 45.9172   valid/loss: 43.2758   train/acc: 0.3857   valid/acc: 0.2523\n",
      "Epoch: 400   train/loss: 40.2425   valid/loss: 47.0084   train/acc: 0.4571   valid/acc: 0.2432\n",
      "Epoch: 600   train/loss: 38.3913   valid/loss: 48.2559   train/acc: 0.4786   valid/acc: 0.2613\n",
      "Epoch: 800   train/loss: 36.9181   valid/loss: 47.7688   train/acc: 0.5357   valid/acc: 0.2342\n",
      "Epoch: 1000   train/loss: 35.9369   valid/loss: 45.3334   train/acc: 0.5357   valid/acc: 0.2883\n",
      "Epoch: 1200   train/loss: 34.4586   valid/loss: 42.1376   train/acc: 0.5714   valid/acc: 0.3063\n",
      "Epoch: 1400   train/loss: 33.4822   valid/loss: 44.2543   train/acc: 0.5714   valid/acc: 0.3153\n",
      "Epoch: 1600   train/loss: 33.3898   valid/loss: 43.6721   train/acc: 0.5571   valid/acc: 0.2883\n",
      "Epoch: 1800   train/loss: 32.5872   valid/loss: 42.3919   train/acc: 0.5857   valid/acc: 0.3153\n",
      "Epoch: 2000   train/loss: 32.6071   valid/loss: 42.8569   train/acc: 0.6071   valid/acc: 0.3153\n"
     ]
    }
   ],
   "source": [
    "for i, key in enumerate(all_training_keys[initial_number_of_circuits:]):\n",
    "    print(\"Progress: \", round((i + initial_number_of_circuits)/len(all_training_keys), 3))\n",
    "    \n",
    "    if len(syms) == len(get_symbols(current_training_circuits)) and i > 0:\n",
    "        if i != len(all_training_keys[1:]):\n",
    "            current_training_circuits[key] = training_circuits[key]\n",
    "            new_parameters = sorted(get_symbols({key: training_circuits[key]}), key=default_sort_key)\n",
    "            if result:\n",
    "                parameters, init_params_spsa = initialize_parameters(parameters, result.x, new_parameters)\n",
    "                #continue\n",
    "            else:\n",
    "                syms = get_symbols(current_training_circuits)\n",
    "                parameters = sorted(syms, key=default_sort_key)\n",
    "                init_params_spsa = np.array(rng.random(len(parameters)))\n",
    "    else:\n",
    "        run += 1\n",
    "    \n",
    "    # Select those circuits from test and validation circuits which share the parameters with the current training circuits\n",
    "    current_validation_circuits = select_circuits(current_training_circuits, validation_circuits)\n",
    "    current_test_circuits = select_circuits(current_training_circuits, test_circuits)\n",
    "    \n",
    "    if len(current_validation_circuits) == 0 or len(current_test_circuits) == 0:\n",
    "        continue\n",
    "    \n",
    "    # Create lists with circuits and their corresponding label\n",
    "    training_circuits_l, training_data_labels_l = construct_data_and_labels(current_training_circuits, training_data_labels)\n",
    "    validation_circuits_l, validation_data_labels_l = construct_data_and_labels(current_validation_circuits, validation_data_labels)\n",
    "    test_circuits_l, test_data_labels_l = construct_data_and_labels(current_test_circuits, test_data_labels)\n",
    "    \n",
    "    # Limit the number of validation and test circuits to 20% of number of the training circuits\n",
    "    if limit:\n",
    "        val_test_circ_size = ceil(len(current_training_circuits))\n",
    "        if len(current_validation_circuits) > val_test_circ_size:\n",
    "            validation_circuits_l = validation_circuits_l[:val_test_circ_size]\n",
    "            validation_data_labels_l = validation_data_labels_l[:val_test_circ_size]\n",
    "        if len(current_test_circuits) > val_test_circ_size:\n",
    "            test_circuits_l = test_circuits_l[:val_test_circ_size]\n",
    "            test_data_labels_l = test_data_labels_l[:val_test_circ_size]\n",
    "    \n",
    "    stats = f\"Number of training circuits: {len(training_circuits_l)}   \"\\\n",
    "        + f\"Number of validation circuits: {len(validation_circuits_l)}   \"\\\n",
    "        + f\"Number of test circuits: {len(test_circuits_l)}   \"\\\n",
    "        + f\"Number of parameters in model: {len(set([sym for circuit in training_circuits_l for sym in circuit.free_symbols]))}\"\n",
    "    \n",
    "    with open(\"results//\" + result_file + \".txt\", \"a\") as f:\n",
    "        f.write(stats + \"\\n\")\n",
    "    \n",
    "    print(stats)\n",
    "    \n",
    "    train_pred_fn = jit(make_pred_fn(training_circuits_l))\n",
    "    dev_pred_fn = jit(make_pred_fn(validation_circuits_l))\n",
    "    test_pred_fn = make_pred_fn(test_circuits_l)\n",
    "    \n",
    "    train_cost_fn, train_costs, train_accs = make_cost_fn(train_pred_fn, training_data_labels_l)\n",
    "    dev_cost_fn, dev_costs, dev_accs = make_cost_fn(dev_pred_fn, validation_data_labels_l)\n",
    "    \n",
    "    def callback_fn(xk):\n",
    "        #print(xk)\n",
    "        valid_loss = dev_cost_fn(xk)\n",
    "        train_loss = numpy.around(min(float(train_costs[-1]), float(train_costs[-2])), 4)\n",
    "        train_acc = numpy.around(min(float(train_accs[-1]), float(train_accs[-2])), 4)\n",
    "        valid_acc = numpy.around(float(dev_accs[-1]), 4)\n",
    "        iters = int(len(train_accs)/2)\n",
    "        if iters % 200 == 0:\n",
    "            info = f\"Epoch: {iters}   \"\\\n",
    "            + f\"train/loss: {train_loss}   \"\\\n",
    "            + f\"valid/loss: {numpy.around(float(valid_loss), 4)}   \"\\\n",
    "            + f\"train/acc: {train_acc}   \"\\\n",
    "            + f\"valid/acc: {valid_acc}\"\n",
    "        \n",
    "            with open(\"results//\" + result_file + \".txt\", \"a\") as f:\n",
    "                f.write(info + \"\\n\")\n",
    "                \n",
    "            print(info, file=sys.stderr)\n",
    "        return valid_loss\n",
    "    \n",
    "    a_value = 0.0053\n",
    "    c_value = 0.0185\n",
    "            \n",
    "    train_cost_fn, train_costs, train_accs = make_cost_fn(train_pred_fn, training_data_labels_l)\n",
    "    dev_cost_fn, dev_costs, dev_accs = make_cost_fn(dev_pred_fn, validation_data_labels_l)\n",
    "\n",
    "    result = minimizeSPSA(train_cost_fn, x0=init_params_spsa, a = a_value, c = c_value, niter=EPOCHS, callback=callback_fn)\n",
    "    #result = minimizeCompass(train_cost_fn, x0=init_params_spsa, redfactor=2.0, deltainit=1.0, deltatol=0.001, feps=1e-15, errorcontrol=True, funcNinit=30, funcmultfactor=2.0, paired=True, alpha=0.05, callback=callback_fn)\n",
    "\n",
    "    figure_path = this_folder + \"//results//\" + result_file + \".png\"\n",
    "    visualize_result_noisyopt(result, make_cost_fn, test_pred_fn, test_data_labels_l, train_costs, train_accs, dev_costs, dev_accs, figure_path, result_file)\n",
    "    \n",
    "    run += 1\n",
    "    #EPOCHS += 100\n",
    "    syms = get_symbols(current_training_circuits)\n",
    "    \n",
    "    # Extend for the next optimization round\n",
    "    current_training_circuits[key] = training_circuits[key]\n",
    "    new_parameters = sorted(get_symbols({key: training_circuits[key]}), key=default_sort_key)\n",
    "    parameters, init_params_spsa = initialize_parameters(parameters, result.x, new_parameters)"
   ]
  }
 ],
 "metadata": {
  "kernelspec": {
   "display_name": "Python 3 (ipykernel)",
   "language": "python",
   "name": "python3"
  },
  "language_info": {
   "codemirror_mode": {
    "name": "ipython",
    "version": 3
   },
   "file_extension": ".py",
   "mimetype": "text/x-python",
   "name": "python",
   "nbconvert_exporter": "python",
   "pygments_lexer": "ipython3",
   "version": "3.8.10"
  }
 },
 "nbformat": 4,
 "nbformat_minor": 5
}
