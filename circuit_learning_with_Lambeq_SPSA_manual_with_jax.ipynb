{
 "cells": [
  {
   "cell_type": "markdown",
   "id": "b09952d6-99a3-41a5-865f-2170e9ee0247",
   "metadata": {},
   "source": [
    "# Circuit learning module: Lambeq manually with SPSA and JAX"
   ]
  },
  {
   "cell_type": "markdown",
   "id": "bb811fe4-d729-4a44-838d-9c02db4a644d",
   "metadata": {},
   "source": [
    "This module performs the optimization of the parametrized circuit manually compared to Lambeq's automatic QuantumTrainer class. I created this because I wanted to have more control over the optimization process and debug it better. The code is based on the workflow presented in https://github.com/CQCL/Quanthoven."
   ]
  },
  {
   "cell_type": "code",
   "execution_count": 1,
   "id": "c9a5783f-901a-4bfe-a622-4003b345fb1b",
   "metadata": {},
   "outputs": [],
   "source": [
    "import warnings\n",
    "import json\n",
    "import os\n",
    "import sys\n",
    "import glob\n",
    "from math import ceil\n",
    "from pathlib import Path\n",
    "from jax import numpy as np\n",
    "from sympy import default_sort_key\n",
    "import numpy\n",
    "import pickle\n",
    "import matplotlib.pyplot as plt\n",
    "\n",
    "import jax\n",
    "from jax import jit\n",
    "from noisyopt import minimizeSPSA, minimizeCompass\n",
    "\n",
    "from discopy.quantum import Circuit\n",
    "from discopy.tensor import Tensor\n",
    "from discopy.utils import loads\n",
    "#from pytket.extensions.qiskit import AerBackend\n",
    "#from pytket.extensions.qulacs import QulacsBackend\n",
    "#from pytket.extensions.cirq import CirqStateSampleBackend\n",
    "backend = None\n",
    "\n",
    "from utils import *\n",
    "from sklearn.metrics import accuracy_score, recall_score, precision_score, f1_score\n",
    "\n",
    "warnings.filterwarnings('ignore')\n",
    "this_folder = os.path.abspath(os.getcwd())\n",
    "os.environ['TOKENIZERS_PARALLELISM'] = 'true'\n",
    "#os.environ[\"JAX_PLATFORMS\"] = \"cpu\"\n",
    "\n",
    "SEED = 0\n",
    "\n",
    "# This avoids TracerArrayConversionError from jax\n",
    "Tensor.np = np\n",
    "\n",
    "rng = numpy.random.default_rng(SEED)\n",
    "numpy.random.seed(SEED)"
   ]
  },
  {
   "cell_type": "markdown",
   "id": "238fca40-5d8d-4ace-a65f-693885a8caf8",
   "metadata": {},
   "source": [
    "## Read circuit data"
   ]
  },
  {
   "cell_type": "markdown",
   "id": "7f6f00d7-b573-4c5d-a0d6-d5eafc54745e",
   "metadata": {},
   "source": [
    "We read the circuits from the pickled files. Select if we perform binary classification or multi-class classification. Give number of qubits to create classes:\n",
    "- 1 qubits -> 2^1 = 2 classes i.e. binary classification\n",
    "- 2 qubits -> 2^2 = 4 classes\n",
    "- ...\n",
    "- 5 qubits -> 2^5 = 32 classes, etc."
   ]
  },
  {
   "cell_type": "code",
   "execution_count": 2,
   "id": "01bac1f9-3bc0-4a25-8f4f-baa2b9c581e9",
   "metadata": {},
   "outputs": [],
   "source": [
    "# Select workload\n",
    "workload = \"execution_time\"\n",
    "#workload = \"cardinality\"\n",
    "\n",
    "# Select workload size\n",
    "#workload_size = \"small\"\n",
    "#workload_size = \"medium\"\n",
    "#workload_size = \"large\"\n",
    "workload_size = \"main\"\n",
    "\n",
    "classification = 2\n",
    "layers = 1\n",
    "single_qubit_params = 3\n",
    "n_wire_count = 1\n",
    "\n",
    "loss = multi_class_loss\n",
    "acc = multi_class_acc\n",
    "\n",
    "if classification == 1:\n",
    "    loss = bin_class_loss\n",
    "    acc = bin_class_acc\n",
    "\n",
    "# Access the selected circuits\n",
    "path_name = this_folder + \"//simplified-JOB-diagrams//\" + workload + \"//\" + workload_size + \"//circuits//\" + str(classification) + \"//\" + str(layers) + \"_layer//\" + str(single_qubit_params) + \"_single_qubit_params//\" + str(n_wire_count) + \"_n_wire_count//\"\n",
    "\n",
    "training_circuits_paths = glob.glob(path_name + \"training//[0-9]*.p\")\n",
    "validation_circuits_paths = glob.glob(path_name + \"validation//[0-9]*.p\")\n",
    "test_circuits_paths = glob.glob(path_name + \"test//[0-9]*.p\")"
   ]
  },
  {
   "cell_type": "code",
   "execution_count": 3,
   "id": "5ff0a551-444c-40a7-bf66-8e929bc49a64",
   "metadata": {},
   "outputs": [],
   "source": [
    "training_circuits = read_diagrams(training_circuits_paths)\n",
    "validation_circuits = read_diagrams(validation_circuits_paths)\n",
    "test_circuits = read_diagrams(test_circuits_paths)"
   ]
  },
  {
   "cell_type": "markdown",
   "id": "f2da3a7c-6a93-44e9-9640-7e9ead005cb2",
   "metadata": {},
   "source": [
    "## Read training and test data"
   ]
  },
  {
   "cell_type": "code",
   "execution_count": 4,
   "id": "774e9f52-69c9-4e1c-8a70-76e1198d12f4",
   "metadata": {},
   "outputs": [],
   "source": [
    "training_data, test_data, validation_data = None, None, None\n",
    "data_path = this_folder + \"//data//\" + workload + \"//\" + workload_size + \"//\"\n",
    "\n",
    "with open(data_path + \"training_data.json\", \"r\") as inputfile:\n",
    "    training_data = json.load(inputfile)['training_data']\n",
    "with open(data_path + \"test_data.json\", \"r\") as inputfile:\n",
    "    test_data = json.load(inputfile)['test_data']\n",
    "with open(data_path + \"validation_data.json\", \"r\") as inputfile:\n",
    "    validation_data = json.load(inputfile)['validation_data']\n",
    "\n",
    "training_data_labels = create_labeled_classes(training_data, classification, workload)\n",
    "test_data_labels = create_labeled_classes(test_data, classification, workload)\n",
    "validation_data_labels = create_labeled_classes(validation_data, classification, workload)"
   ]
  },
  {
   "cell_type": "raw",
   "id": "7c6abda1-a3a2-4919-b701-d29380e05524",
   "metadata": {},
   "source": [
    "res = [0,0,0,0]\n",
    "for k in training_data_labels.values():\n",
    "    res[k.index(1)] += 1       \n",
    "print(res)"
   ]
  },
  {
   "cell_type": "markdown",
   "id": "f6cad830-e6c3-4c29-9ce6-0d6bec2794bc",
   "metadata": {},
   "source": [
    "## Lambeq optimizer"
   ]
  },
  {
   "cell_type": "raw",
   "id": "be555e95-e7aa-4f1b-bf4d-29acd66056b0",
   "metadata": {},
   "source": [
    "#all_circuits = list(training_circuits.values()) + list(test_circuits.values())\n",
    "\n",
    "training_circuits_l = []\n",
    "test_circuits_l = []\n",
    "validation_circuits_l = []\n",
    "\n",
    "training_data_labels_l = []\n",
    "test_data_labels_l = []\n",
    "validation_data_labels_l = []\n",
    "\n",
    "# Organize circuits and labels in correct order into two lists which will be input for training the model\n",
    "for key in training_data_labels:\n",
    "    training_circuits_l.append(training_circuits[key])\n",
    "    training_data_labels_l.append(training_data_labels[key])\n",
    "\n",
    "for key in test_data_labels:\n",
    "    test_circuits_l.append(test_circuits[key])\n",
    "    test_data_labels_l.append(test_data_labels[key])\n",
    "    \n",
    "for key in validation_data_labels:\n",
    "    validation_circuits_l.append(validation_circuits[key])\n",
    "    validation_data_labels_l.append(validation_data_labels[key])\n",
    "\n",
    "all_circuits = training_circuits_l + test_circuits_l + validation_circuits_l\n",
    "\n",
    "train_syms = set([sym for circuit in training_circuits.values() for sym in circuit.free_symbols])\n",
    "test_syms = set([sym for circuit in test_circuits.values() for sym in circuit.free_symbols])\n",
    "val_syms = set([sym for circuit in validation_circuits.values() for sym in circuit.free_symbols])\n",
    "\n",
    "print(\"Test circuits need to share training circuits' parameters. The parameters that are not covered (should be empty set, set()): \", test_syms.difference(train_syms))\n",
    "print(\"Validation circuits need to share training circuits' parameters. The parameters that are not covered (should be empty set, set()): \", val_syms.difference(train_syms))\n",
    "\n",
    "print(\"Total number of circuits: \", len(all_circuits))\n",
    "print(\"Total number of variables: \", len(train_syms))"
   ]
  },
  {
   "cell_type": "raw",
   "id": "ecd5daca-fdba-44fe-961d-5b9b9c3c68cb",
   "metadata": {},
   "source": [
    "training_data_labels_l = np.array(training_data_labels_l)\n",
    "test_data_labels_l = np.array(test_data_labels_l)\n",
    "validation_data_labels_l = np.array(validation_data_labels_l)"
   ]
  },
  {
   "cell_type": "markdown",
   "id": "572abfc1-cc81-4fdb-b8bb-6813fe658dd6",
   "metadata": {},
   "source": [
    "## Model"
   ]
  },
  {
   "cell_type": "raw",
   "id": "75f97a9a-c5fc-4d9b-920f-9eb0795ca018",
   "metadata": {},
   "source": [
    "parameters = sorted(\n",
    "    train_syms,\n",
    "    key=default_sort_key)\n",
    "\n",
    "rng = numpy.random.default_rng(SEED)\n",
    "init_params_spsa = np.array(rng.random(len(parameters)))\n",
    "numpy.random.seed(SEED)"
   ]
  },
  {
   "cell_type": "code",
   "execution_count": 5,
   "id": "04c65634-fa13-47b3-915c-83361d0e1baf",
   "metadata": {},
   "outputs": [],
   "source": [
    "def make_pred_fn(circuits):\n",
    "    # In the case we want to use other backends. \n",
    "    # Currently does not work properly.\n",
    "    if backend:\n",
    "        compiled_circuits1 = backend.get_compiled_circuits([c.to_tk() for c in circuits])\n",
    "        circuits = [Circuit.from_tk(c) for c in compiled_circuits1]\n",
    "        \n",
    "    circuit_fns = [c.lambdify(*parameters) for c in circuits]\n",
    "    \n",
    "    def predict(params):\n",
    "        outputs = Circuit.eval(*(c(*params) for c in circuit_fns), backend = backend)\n",
    "        res = []\n",
    "        \n",
    "        for output in outputs:\n",
    "            predictions = np.abs(output.array) + 1e-9\n",
    "            ratio = predictions / predictions.sum()\n",
    "            res.append(ratio)\n",
    "            \n",
    "        return np.array(res)\n",
    "    return predict"
   ]
  },
  {
   "cell_type": "markdown",
   "id": "868cf7e7-fcbf-4bad-b8bc-4ff0e6b29294",
   "metadata": {},
   "source": [
    "## Loss function and evaluation"
   ]
  },
  {
   "cell_type": "code",
   "execution_count": 6,
   "id": "f376b4aa-0ec6-4037-80eb-935aa75a2f74",
   "metadata": {},
   "outputs": [],
   "source": [
    "def make_cost_fn(pred_fn, labels):\n",
    "    def cost_fn(params, **kwargs):\n",
    "        predictions = pred_fn(params)\n",
    "\n",
    "        cost = loss(predictions, labels) #-np.sum(labels * np.log(predictions)) / len(labels)  # binary cross-entropy loss\n",
    "        costs.append(cost)\n",
    "\n",
    "        accuracy = acc(predictions, labels) #np.sum(np.round(predictions) == labels) / len(labels) / 2  # half due to double-counting\n",
    "        accuracies.append(accuracy)\n",
    "\n",
    "        return cost\n",
    "\n",
    "    costs, accuracies = [], []\n",
    "    return cost_fn, costs, accuracies"
   ]
  },
  {
   "cell_type": "markdown",
   "id": "a3bb6805-facb-4ec9-9c38-8d1df42022b2",
   "metadata": {},
   "source": [
    "## Minimization with noisyopt"
   ]
  },
  {
   "cell_type": "raw",
   "id": "53bc5cb8-8960-46d9-a64e-02b96fb97acc",
   "metadata": {},
   "source": [
    "EPOCHS = 1000\n",
    "SEED = 0\n",
    "\n",
    "# This avoids TracerArrayConversionError from jax\n",
    "Tensor.np = np\n",
    "\n",
    "rng = numpy.random.default_rng(SEED)\n",
    "init_params_spsa = np.array(rng.random(len(parameters)))\n",
    "numpy.random.seed(SEED)\n",
    "\n",
    "train_cost_fn, train_costs, train_accs = make_cost_fn(train_pred_fn, training_data_labels_l)\n",
    "dev_cost_fn, dev_costs, dev_accs = make_cost_fn(dev_pred_fn, validation_data_labels_l)\n",
    "\n",
    "def callback_fn(xk):\n",
    "    valid_loss = dev_cost_fn(xk)\n",
    "    train_loss = round(train_costs[-1], 4)\n",
    "    train_acc = round(train_accs[-1], 4)\n",
    "    valid_acc = round(dev_accs[-1], 4)\n",
    "    iters = int(len(train_accs)/2)\n",
    "    if iters % 100 == 0:\n",
    "        print(\n",
    "                #f\"Params = {xk}, \"\n",
    "                f\"Epoch: {iters}   \",\n",
    "                f\"train/loss: {train_loss}   \",\n",
    "                f\"valid/loss: {round(valid_loss, 4)}   \",\n",
    "                f\"train/acc: {train_acc}   \",\n",
    "                f\"valid/acc: {valid_acc}\"\n",
    "            )\n",
    "    return valid_loss"
   ]
  },
  {
   "cell_type": "raw",
   "id": "cc202031-11f7-4307-96de-8c642d65ce4d",
   "metadata": {},
   "source": [
    "#a_values = [100.0, 10.0, 1.0, 0.1, 0.01, 0.001, 0.0001, 0.00001, 0.000001]\n",
    "#c_values = [100.0, 10.0, 1.0, 0.1, 0.01, 0.001, 0.0001, 0.00001, 0.000001]\n",
    "\n",
    "#a_values = [0.001, 0.005, 0.01, 0.015, 0.02, 0.025, 0.03]\n",
    "#c_values = [0.001, 0.005, 0.01, 0.015, 0.02, 0.025, 0.03]\n",
    "\n",
    "run = 6\n",
    "#a_values = [0.0055, 0.0054, 0.0052, 0.005, 0.0048, 0.0045, 0.004]\n",
    "#c_values = [0.012, 0.016, 0.018, 0.02, 0.022, 0.025, 0.03]\n",
    "\n",
    "#a_values = [0.0053, 0.0054, 0.0055, 0.0056, 0.0057]\n",
    "#c_values = [0.017, 0.0175, 0.018, 0.0185, 0.019]\n",
    "\n",
    "a_values = [0.0052, 0.00525, 0.0053, 0.00535, 0.0054]\n",
    "c_values = [0.0183, 0.0184, 0.0185, 0.0186, 0.0187] \n",
    "\n",
    "for i, a_value in enumerate(a_values):\n",
    "    for j, c_value in enumerate(c_values):\n",
    "        train_cost_fn, train_costs, train_accs = make_cost_fn(train_pred_fn, training_data_labels_l)\n",
    "        dev_cost_fn, dev_costs, dev_accs = make_cost_fn(dev_pred_fn, validation_data_labels_l)\n",
    "        \n",
    "        result = minimizeSPSA(train_cost_fn, x0=init_params_spsa, a = a_value, c = c_value, niter=EPOCHS, callback=callback_fn)"
   ]
  },
  {
   "cell_type": "code",
   "execution_count": 7,
   "id": "85b70bae-fe88-4852-a423-658641380e57",
   "metadata": {},
   "outputs": [],
   "source": [
    "def initialize_parameters(old_params, old_values, new_params):\n",
    "    new_values = list(numpy.array(rng.random(len(new_params))))\n",
    "    old_param_dict = {}\n",
    "    for p, v in zip(old_params, old_values):\n",
    "        old_param_dict[p] = v\n",
    "        \n",
    "    parameters = sorted(set(old_params + new_params), key=default_sort_key)\n",
    "    values = []\n",
    "    for p in parameters:\n",
    "        if p in old_param_dict:\n",
    "            values.append(old_param_dict[p])\n",
    "        else:\n",
    "            values.append(new_values.pop())\n",
    "            \n",
    "    return parameters, np.array(values)"
   ]
  },
  {
   "cell_type": "code",
   "execution_count": 8,
   "id": "4dd1d87d-047d-4feb-9dbc-c972bbabf741",
   "metadata": {},
   "outputs": [
    {
     "name": "stdout",
     "output_type": "stream",
     "text": [
      "Loading parameters from file execution_time_main_noisyopt_2_1_3\n"
     ]
    }
   ],
   "source": [
    "EPOCHS = 4000\n",
    "initial_number_of_circuits = 147\n",
    "syms = {}\n",
    "limit = False\n",
    "all_training_keys = list(training_circuits.keys())\n",
    "initial_circuit_keys = all_training_keys[:initial_number_of_circuits + 1]\n",
    "current_training_circuits = {}\n",
    "result_file = workload + \"_\" + workload_size + \"_noisyopt_\" + str(classification) + \"_\" + str(layers) + \"_\" + str(single_qubit_params)\n",
    "\n",
    "for k in initial_circuit_keys:\n",
    "    current_training_circuits[k] = training_circuits[k]\n",
    "    \n",
    "syms = get_symbols(current_training_circuits)\n",
    "parameters = sorted(syms, key=default_sort_key)\n",
    "if initial_number_of_circuits > 5 and os.path.exists(\"points//\" + result_file + \".npz\"):\n",
    "    with open(\"points//\" + result_file + \".npz\", \"rb\") as f:\n",
    "        print(\"Loading parameters from file \" + result_file)\n",
    "        npzfile = np.load(f)\n",
    "        init_params_spsa = npzfile['arr_0']\n",
    "else:\n",
    "    print(\"Initializing new parameters\")\n",
    "    init_params_spsa = np.array(rng.random(len(parameters)))\n",
    "result = None\n",
    "run = 0"
   ]
  },
  {
   "cell_type": "code",
   "execution_count": null,
   "id": "52d19610-d096-4de1-b1b9-63aef886e632",
   "metadata": {},
   "outputs": [
    {
     "name": "stdout",
     "output_type": "stream",
     "text": [
      "Progress:  0.328\n",
      "Number of training circuits: 147   Number of validation circuits: 111   Number of test circuits: 110   Number of parameters in model: 264\n"
     ]
    },
    {
     "name": "stderr",
     "output_type": "stream",
     "text": [
      "Epoch: 200   train/loss: 46.5642   valid/loss: 39.8307   train/acc: 0.415   valid/acc: 0.2703\n",
      "Epoch: 400   train/loss: 41.4403   valid/loss: 40.3575   train/acc: 0.4694   valid/acc: 0.2883\n",
      "Epoch: 600   train/loss: 42.7639   valid/loss: 41.0628   train/acc: 0.449   valid/acc: 0.3514\n",
      "Epoch: 800   train/loss: 38.2032   valid/loss: 38.0641   train/acc: 0.5102   valid/acc: 0.3063\n",
      "Epoch: 1000   train/loss: 36.4733   valid/loss: 39.6442   train/acc: 0.5306   valid/acc: 0.2973\n",
      "Epoch: 1200   train/loss: 35.0226   valid/loss: 41.1825   train/acc: 0.5986   valid/acc: 0.3243\n",
      "Epoch: 1400   train/loss: 34.0918   valid/loss: 40.5751   train/acc: 0.585   valid/acc: 0.3604\n",
      "Epoch: 1600   train/loss: 34.0897   valid/loss: 40.6424   train/acc: 0.5986   valid/acc: 0.3063\n",
      "Epoch: 1800   train/loss: 33.0619   valid/loss: 42.5865   train/acc: 0.619   valid/acc: 0.2973\n",
      "Epoch: 2000   train/loss: 32.6174   valid/loss: 40.8207   train/acc: 0.6259   valid/acc: 0.3243\n",
      "Epoch: 2200   train/loss: 33.1651   valid/loss: 41.5357   train/acc: 0.6054   valid/acc: 0.3333\n",
      "Epoch: 2400   train/loss: 32.4606   valid/loss: 41.5647   train/acc: 0.619   valid/acc: 0.3333\n",
      "Epoch: 2600   train/loss: 33.1029   valid/loss: 41.0365   train/acc: 0.6122   valid/acc: 0.3514\n",
      "Epoch: 2800   train/loss: 31.7851   valid/loss: 42.1908   train/acc: 0.6327   valid/acc: 0.3604\n",
      "Epoch: 3000   train/loss: 32.2811   valid/loss: 41.5629   train/acc: 0.6259   valid/acc: 0.3694\n",
      "Epoch: 3200   train/loss: 31.023   valid/loss: 41.8282   train/acc: 0.6463   valid/acc: 0.3514\n",
      "Epoch: 3400   train/loss: 31.7338   valid/loss: 42.3838   train/acc: 0.6259   valid/acc: 0.3784\n",
      "Epoch: 3600   train/loss: 30.6706   valid/loss: 43.1368   train/acc: 0.6327   valid/acc: 0.3423\n",
      "Epoch: 3800   train/loss: 31.4695   valid/loss: 43.0754   train/acc: 0.6327   valid/acc: 0.3243\n",
      "Epoch: 4000   train/loss: 31.019   valid/loss: 43.0772   train/acc: 0.6463   valid/acc: 0.3243\n"
     ]
    },
    {
     "name": "stdout",
     "output_type": "stream",
     "text": [
      "Test accuracy: 0.4636363636363636\n",
      "Progress:  0.33\n",
      "Number of training circuits: 148   Number of validation circuits: 111   Number of test circuits: 110   Number of parameters in model: 264\n"
     ]
    },
    {
     "name": "stderr",
     "output_type": "stream",
     "text": [
      "Epoch: 200   train/loss: 47.829   valid/loss: 37.4061   train/acc: 0.3311   valid/acc: 0.3604\n",
      "Epoch: 400   train/loss: 43.1535   valid/loss: 41.0145   train/acc: 0.3446   valid/acc: 0.2162\n",
      "Epoch: 600   train/loss: 41.0702   valid/loss: 40.3426   train/acc: 0.4527   valid/acc: 0.2072\n",
      "Epoch: 800   train/loss: 40.1234   valid/loss: 40.8192   train/acc: 0.4662   valid/acc: 0.2613\n",
      "Epoch: 1000   train/loss: 38.476   valid/loss: 40.3967   train/acc: 0.5405   valid/acc: 0.2973\n",
      "Epoch: 1200   train/loss: 36.9215   valid/loss: 39.6624   train/acc: 0.5811   valid/acc: 0.2883\n",
      "Epoch: 1400   train/loss: 35.8955   valid/loss: 39.7982   train/acc: 0.5811   valid/acc: 0.2973\n",
      "Epoch: 1600   train/loss: 35.3396   valid/loss: 39.6043   train/acc: 0.5946   valid/acc: 0.3694\n",
      "Epoch: 1800   train/loss: 34.8321   valid/loss: 40.4702   train/acc: 0.5743   valid/acc: 0.3333\n",
      "Epoch: 2000   train/loss: 34.879   valid/loss: 39.0392   train/acc: 0.6149   valid/acc: 0.2973\n",
      "Epoch: 2200   train/loss: 33.8951   valid/loss: 40.3675   train/acc: 0.6351   valid/acc: 0.2793\n",
      "Epoch: 2400   train/loss: 33.5638   valid/loss: 41.4871   train/acc: 0.6284   valid/acc: 0.2883\n",
      "Epoch: 2600   train/loss: 33.9482   valid/loss: 40.9792   train/acc: 0.6149   valid/acc: 0.2703\n",
      "Epoch: 2800   train/loss: 33.8981   valid/loss: 40.8344   train/acc: 0.6216   valid/acc: 0.2793\n",
      "Epoch: 3000   train/loss: 34.0727   valid/loss: 40.2482   train/acc: 0.6284   valid/acc: 0.2883\n",
      "Epoch: 3200   train/loss: 33.1584   valid/loss: 41.7398   train/acc: 0.6216   valid/acc: 0.2883\n",
      "Epoch: 3400   train/loss: 32.5773   valid/loss: 40.2973   train/acc: 0.6486   valid/acc: 0.2883\n",
      "Epoch: 3600   train/loss: 33.1163   valid/loss: 40.1444   train/acc: 0.6216   valid/acc: 0.3063\n",
      "Epoch: 3800   train/loss: 33.2313   valid/loss: 39.8043   train/acc: 0.6351   valid/acc: 0.2973\n",
      "Epoch: 4000   train/loss: 32.5684   valid/loss: 40.3014   train/acc: 0.6284   valid/acc: 0.2883\n"
     ]
    },
    {
     "name": "stdout",
     "output_type": "stream",
     "text": [
      "Test accuracy: 0.38181818181818183\n",
      "Progress:  0.333\n",
      "Number of training circuits: 149   Number of validation circuits: 111   Number of test circuits: 110   Number of parameters in model: 264\n"
     ]
    },
    {
     "name": "stderr",
     "output_type": "stream",
     "text": [
      "Epoch: 200   train/loss: 46.709   valid/loss: 38.2661   train/acc: 0.4027   valid/acc: 0.2613\n",
      "Epoch: 400   train/loss: 44.2595   valid/loss: 37.8734   train/acc: 0.443   valid/acc: 0.3423\n",
      "Epoch: 600   train/loss: 41.6136   valid/loss: 41.4285   train/acc: 0.5034   valid/acc: 0.2883\n",
      "Epoch: 800   train/loss: 39.2105   valid/loss: 41.9612   train/acc: 0.4966   valid/acc: 0.2703\n",
      "Epoch: 1000   train/loss: 38.1742   valid/loss: 42.6616   train/acc: 0.5705   valid/acc: 0.2883\n",
      "Epoch: 1200   train/loss: 37.1024   valid/loss: 42.6384   train/acc: 0.5839   valid/acc: 0.2883\n",
      "Epoch: 1400   train/loss: 35.4811   valid/loss: 42.3628   train/acc: 0.5436   valid/acc: 0.2883\n",
      "Epoch: 1600   train/loss: 34.5868   valid/loss: 44.5163   train/acc: 0.557   valid/acc: 0.2703\n",
      "Epoch: 1800   train/loss: 33.9958   valid/loss: 45.4144   train/acc: 0.5705   valid/acc: 0.2883\n",
      "Epoch: 2000   train/loss: 34.2287   valid/loss: 48.981   train/acc: 0.6309   valid/acc: 0.2973\n",
      "Epoch: 2200   train/loss: 33.5235   valid/loss: 47.2892   train/acc: 0.6309   valid/acc: 0.2973\n",
      "Epoch: 2400   train/loss: 33.3607   valid/loss: 49.0423   train/acc: 0.651   valid/acc: 0.2973\n",
      "Epoch: 2600   train/loss: 33.0896   valid/loss: 48.3658   train/acc: 0.6376   valid/acc: 0.2973\n",
      "Epoch: 2800   train/loss: 32.5574   valid/loss: 48.5166   train/acc: 0.6376   valid/acc: 0.2973\n",
      "Epoch: 3000   train/loss: 34.1039   valid/loss: 47.3774   train/acc: 0.604   valid/acc: 0.2973\n",
      "Epoch: 3200   train/loss: 32.7639   valid/loss: 48.7748   train/acc: 0.6376   valid/acc: 0.2973\n",
      "Epoch: 3400   train/loss: 33.1911   valid/loss: 48.5401   train/acc: 0.6309   valid/acc: 0.2793\n",
      "Epoch: 3600   train/loss: 32.4296   valid/loss: 50.6784   train/acc: 0.6443   valid/acc: 0.2883\n",
      "Epoch: 3800   train/loss: 32.7759   valid/loss: 50.5553   train/acc: 0.6309   valid/acc: 0.3153\n",
      "Epoch: 4000   train/loss: 32.6928   valid/loss: 48.0794   train/acc: 0.6376   valid/acc: 0.3243\n"
     ]
    },
    {
     "name": "stdout",
     "output_type": "stream",
     "text": [
      "Test accuracy: 0.4636363636363636\n",
      "Progress:  0.335\n",
      "Number of training circuits: 150   Number of validation circuits: 111   Number of test circuits: 110   Number of parameters in model: 264\n"
     ]
    },
    {
     "name": "stderr",
     "output_type": "stream",
     "text": [
      "Epoch: 200   train/loss: 48.2651   valid/loss: 39.6176   train/acc: 0.4133   valid/acc: 0.2703\n",
      "Epoch: 400   train/loss: 48.2761   valid/loss: 40.8974   train/acc: 0.36   valid/acc: 0.3243\n",
      "Epoch: 600   train/loss: 46.0   valid/loss: 39.8856   train/acc: 0.38   valid/acc: 0.3243\n",
      "Epoch: 800   train/loss: 44.6858   valid/loss: 39.5546   train/acc: 0.3933   valid/acc: 0.2793\n",
      "Epoch: 1000   train/loss: 44.3673   valid/loss: 39.2743   train/acc: 0.4133   valid/acc: 0.3243\n",
      "Epoch: 1200   train/loss: 43.4813   valid/loss: 38.5584   train/acc: 0.4133   valid/acc: 0.3333\n",
      "Epoch: 1400   train/loss: 42.4433   valid/loss: 38.2932   train/acc: 0.44   valid/acc: 0.3514\n",
      "Epoch: 1600   train/loss: 42.4617   valid/loss: 39.405   train/acc: 0.44   valid/acc: 0.3243\n",
      "Epoch: 1800   train/loss: 41.4451   valid/loss: 39.8365   train/acc: 0.4267   valid/acc: 0.3333\n",
      "Epoch: 2000   train/loss: 41.1801   valid/loss: 40.3944   train/acc: 0.44   valid/acc: 0.3333\n",
      "Epoch: 2200   train/loss: 41.0739   valid/loss: 39.755   train/acc: 0.42   valid/acc: 0.3333\n",
      "Epoch: 2400   train/loss: 40.1375   valid/loss: 41.5535   train/acc: 0.42   valid/acc: 0.3333\n",
      "Epoch: 2600   train/loss: 41.0286   valid/loss: 41.0927   train/acc: 0.42   valid/acc: 0.3333\n",
      "Epoch: 2800   train/loss: 39.7753   valid/loss: 44.124   train/acc: 0.4067   valid/acc: 0.3243\n",
      "Epoch: 3000   train/loss: 39.3567   valid/loss: 44.1359   train/acc: 0.4467   valid/acc: 0.3423\n",
      "Epoch: 3200   train/loss: 39.1235   valid/loss: 46.4449   train/acc: 0.44   valid/acc: 0.3243\n",
      "Epoch: 3400   train/loss: 39.1483   valid/loss: 44.9097   train/acc: 0.4533   valid/acc: 0.3243\n",
      "Epoch: 3600   train/loss: 39.6405   valid/loss: 44.0183   train/acc: 0.44   valid/acc: 0.3063\n",
      "Epoch: 3800   train/loss: 38.5294   valid/loss: 43.6646   train/acc: 0.4733   valid/acc: 0.3243\n",
      "Epoch: 4000   train/loss: 38.08   valid/loss: 43.489   train/acc: 0.48   valid/acc: 0.3153\n"
     ]
    },
    {
     "name": "stdout",
     "output_type": "stream",
     "text": [
      "Test accuracy: 0.3\n",
      "Progress:  0.337\n",
      "Number of training circuits: 151   Number of validation circuits: 111   Number of test circuits: 110   Number of parameters in model: 264\n"
     ]
    },
    {
     "name": "stderr",
     "output_type": "stream",
     "text": [
      "Epoch: 200   train/loss: 48.3471   valid/loss: 37.6847   train/acc: 0.3576   valid/acc: 0.2703\n",
      "Epoch: 400   train/loss: 47.2747   valid/loss: 39.0912   train/acc: 0.3841   valid/acc: 0.3243\n",
      "Epoch: 600   train/loss: 45.3016   valid/loss: 38.6382   train/acc: 0.4437   valid/acc: 0.3514\n",
      "Epoch: 800   train/loss: 43.5679   valid/loss: 38.7658   train/acc: 0.4834   valid/acc: 0.3784\n",
      "Epoch: 1000   train/loss: 42.4191   valid/loss: 39.6725   train/acc: 0.457   valid/acc: 0.3514\n",
      "Epoch: 1200   train/loss: 40.9987   valid/loss: 40.5648   train/acc: 0.4636   valid/acc: 0.3153\n",
      "Epoch: 1400   train/loss: 39.2838   valid/loss: 41.7524   train/acc: 0.4967   valid/acc: 0.2793\n",
      "Epoch: 1600   train/loss: 38.706   valid/loss: 42.0385   train/acc: 0.4702   valid/acc: 0.3333\n",
      "Epoch: 1800   train/loss: 37.8144   valid/loss: 41.7969   train/acc: 0.5232   valid/acc: 0.3333\n",
      "Epoch: 2000   train/loss: 37.5654   valid/loss: 42.7719   train/acc: 0.5762   valid/acc: 0.3243\n",
      "Epoch: 2200   train/loss: 36.5031   valid/loss: 42.6387   train/acc: 0.5894   valid/acc: 0.3243\n",
      "Epoch: 2400   train/loss: 36.0938   valid/loss: 42.7491   train/acc: 0.5894   valid/acc: 0.3423\n",
      "Epoch: 2600   train/loss: 36.15   valid/loss: 44.4281   train/acc: 0.5894   valid/acc: 0.3333\n",
      "Epoch: 2800   train/loss: 35.7684   valid/loss: 44.8523   train/acc: 0.596   valid/acc: 0.3423\n",
      "Epoch: 3000   train/loss: 35.6307   valid/loss: 42.4525   train/acc: 0.5828   valid/acc: 0.3333\n",
      "Epoch: 3200   train/loss: 34.6229   valid/loss: 43.3306   train/acc: 0.6093   valid/acc: 0.3423\n",
      "Epoch: 3400   train/loss: 34.4174   valid/loss: 43.9058   train/acc: 0.6026   valid/acc: 0.3423\n",
      "Epoch: 3600   train/loss: 33.9327   valid/loss: 44.8529   train/acc: 0.6093   valid/acc: 0.3333\n",
      "Epoch: 3800   train/loss: 34.0711   valid/loss: 44.8024   train/acc: 0.6093   valid/acc: 0.3333\n",
      "Epoch: 4000   train/loss: 33.3501   valid/loss: 45.6017   train/acc: 0.649   valid/acc: 0.3243\n"
     ]
    },
    {
     "name": "stdout",
     "output_type": "stream",
     "text": [
      "Test accuracy: 0.4090909090909091\n",
      "Progress:  0.339\n",
      "Number of training circuits: 152   Number of validation circuits: 111   Number of test circuits: 110   Number of parameters in model: 264\n"
     ]
    },
    {
     "name": "stderr",
     "output_type": "stream",
     "text": [
      "Epoch: 200   train/loss: 49.3824   valid/loss: 38.9669   train/acc: 0.3355   valid/acc: 0.3514\n",
      "Epoch: 400   train/loss: 45.3177   valid/loss: 38.6734   train/acc: 0.4803   valid/acc: 0.3514\n",
      "Epoch: 600   train/loss: 44.7234   valid/loss: 40.8614   train/acc: 0.4934   valid/acc: 0.3423\n",
      "Epoch: 800   train/loss: 43.0158   valid/loss: 41.5712   train/acc: 0.5132   valid/acc: 0.3423\n",
      "Epoch: 1000   train/loss: 42.1382   valid/loss: 39.4672   train/acc: 0.5066   valid/acc: 0.3333\n",
      "Epoch: 1200   train/loss: 40.2863   valid/loss: 39.8822   train/acc: 0.5526   valid/acc: 0.3333\n",
      "Epoch: 1400   train/loss: 38.8552   valid/loss: 40.9027   train/acc: 0.5724   valid/acc: 0.3243\n",
      "Epoch: 1600   train/loss: 39.0908   valid/loss: 42.2378   train/acc: 0.5855   valid/acc: 0.3514\n",
      "Epoch: 1800   train/loss: 37.7183   valid/loss: 40.6314   train/acc: 0.5855   valid/acc: 0.3423\n",
      "Epoch: 2000   train/loss: 36.2584   valid/loss: 40.5532   train/acc: 0.5921   valid/acc: 0.3694\n",
      "Epoch: 2200   train/loss: 35.8703   valid/loss: 40.4719   train/acc: 0.6053   valid/acc: 0.3964\n",
      "Epoch: 2400   train/loss: 35.2729   valid/loss: 41.5474   train/acc: 0.6184   valid/acc: 0.3964\n",
      "Epoch: 2600   train/loss: 34.9647   valid/loss: 41.6157   train/acc: 0.6118   valid/acc: 0.4054\n",
      "Epoch: 2800   train/loss: 34.2727   valid/loss: 42.3518   train/acc: 0.6118   valid/acc: 0.3694\n",
      "Epoch: 3000   train/loss: 34.4698   valid/loss: 42.4373   train/acc: 0.6118   valid/acc: 0.4144\n",
      "Epoch: 3200   train/loss: 34.2006   valid/loss: 41.4701   train/acc: 0.6118   valid/acc: 0.4144\n",
      "Epoch: 3400   train/loss: 34.0544   valid/loss: 41.5208   train/acc: 0.6316   valid/acc: 0.3784\n",
      "Epoch: 3600   train/loss: 34.3358   valid/loss: 41.4158   train/acc: 0.6316   valid/acc: 0.3784\n",
      "Epoch: 3800   train/loss: 33.6485   valid/loss: 42.1519   train/acc: 0.6382   valid/acc: 0.3874\n",
      "Epoch: 4000   train/loss: 33.9096   valid/loss: 41.665   train/acc: 0.6316   valid/acc: 0.3874\n"
     ]
    },
    {
     "name": "stdout",
     "output_type": "stream",
     "text": [
      "Test accuracy: 0.4636363636363636\n",
      "Progress:  0.342\n",
      "Number of training circuits: 153   Number of validation circuits: 111   Number of test circuits: 110   Number of parameters in model: 264\n"
     ]
    },
    {
     "name": "stderr",
     "output_type": "stream",
     "text": [
      "Epoch: 200   train/loss: 46.7139   valid/loss: 38.421   train/acc: 0.3595   valid/acc: 0.3063\n",
      "Epoch: 400   train/loss: 42.6741   valid/loss: 40.2953   train/acc: 0.3725   valid/acc: 0.2883\n",
      "Epoch: 600   train/loss: 43.0476   valid/loss: 39.4929   train/acc: 0.4575   valid/acc: 0.3514\n",
      "Epoch: 800   train/loss: 41.078   valid/loss: 40.8862   train/acc: 0.451   valid/acc: 0.2793\n",
      "Epoch: 1000   train/loss: 41.0734   valid/loss: 41.2737   train/acc: 0.4771   valid/acc: 0.3153\n",
      "Epoch: 1200   train/loss: 39.498   valid/loss: 41.0446   train/acc: 0.5163   valid/acc: 0.3063\n",
      "Epoch: 1400   train/loss: 39.3452   valid/loss: 39.1016   train/acc: 0.4902   valid/acc: 0.2973\n",
      "Epoch: 1600   train/loss: 38.005   valid/loss: 39.7826   train/acc: 0.5033   valid/acc: 0.2973\n",
      "Epoch: 1800   train/loss: 38.3609   valid/loss: 41.6812   train/acc: 0.549   valid/acc: 0.3063\n",
      "Epoch: 2000   train/loss: 36.9251   valid/loss: 42.1446   train/acc: 0.5359   valid/acc: 0.3063\n",
      "Epoch: 2200   train/loss: 37.7837   valid/loss: 40.8881   train/acc: 0.5359   valid/acc: 0.3243\n",
      "Epoch: 2400   train/loss: 37.1224   valid/loss: 41.6356   train/acc: 0.5294   valid/acc: 0.3243\n",
      "Epoch: 2600   train/loss: 36.443   valid/loss: 44.3636   train/acc: 0.5229   valid/acc: 0.3153\n",
      "Epoch: 2800   train/loss: 36.1224   valid/loss: 42.5709   train/acc: 0.549   valid/acc: 0.3063\n",
      "Epoch: 3000   train/loss: 36.5921   valid/loss: 42.8666   train/acc: 0.5294   valid/acc: 0.3153\n",
      "Epoch: 3200   train/loss: 36.12   valid/loss: 43.0322   train/acc: 0.549   valid/acc: 0.3153\n",
      "Epoch: 3400   train/loss: 36.1414   valid/loss: 43.0328   train/acc: 0.549   valid/acc: 0.3423\n",
      "Epoch: 3600   train/loss: 35.578   valid/loss: 41.5468   train/acc: 0.5621   valid/acc: 0.3423\n",
      "Epoch: 3800   train/loss: 34.949   valid/loss: 42.2888   train/acc: 0.5556   valid/acc: 0.3423\n",
      "Epoch: 4000   train/loss: 35.2719   valid/loss: 42.2246   train/acc: 0.5425   valid/acc: 0.3423\n"
     ]
    },
    {
     "name": "stdout",
     "output_type": "stream",
     "text": [
      "Test accuracy: 0.39090909090909093\n",
      "Progress:  0.344\n",
      "Number of training circuits: 154   Number of validation circuits: 111   Number of test circuits: 110   Number of parameters in model: 264\n"
     ]
    },
    {
     "name": "stderr",
     "output_type": "stream",
     "text": [
      "Epoch: 200   train/loss: 51.5667   valid/loss: 41.3427   train/acc: 0.3312   valid/acc: 0.1712\n",
      "Epoch: 400   train/loss: 45.5584   valid/loss: 39.9798   train/acc: 0.4351   valid/acc: 0.2523\n",
      "Epoch: 600   train/loss: 42.5044   valid/loss: 40.2083   train/acc: 0.5   valid/acc: 0.3243\n",
      "Epoch: 800   train/loss: 40.4692   valid/loss: 43.4201   train/acc: 0.539   valid/acc: 0.3063\n",
      "Epoch: 1000   train/loss: 39.4977   valid/loss: 45.78   train/acc: 0.5714   valid/acc: 0.2973\n",
      "Epoch: 1200   train/loss: 38.4009   valid/loss: 44.6692   train/acc: 0.5519   valid/acc: 0.3243\n",
      "Epoch: 1400   train/loss: 37.7702   valid/loss: 42.5343   train/acc: 0.5779   valid/acc: 0.3333\n",
      "Epoch: 1600   train/loss: 38.2739   valid/loss: 43.8454   train/acc: 0.5714   valid/acc: 0.3423\n",
      "Epoch: 1800   train/loss: 36.2129   valid/loss: 45.55   train/acc: 0.6039   valid/acc: 0.3333\n",
      "Epoch: 2000   train/loss: 35.4894   valid/loss: 43.6963   train/acc: 0.6169   valid/acc: 0.3423\n",
      "Epoch: 2200   train/loss: 34.2589   valid/loss: 43.4143   train/acc: 0.6364   valid/acc: 0.3243\n",
      "Epoch: 2400   train/loss: 35.1303   valid/loss: 43.6054   train/acc: 0.6234   valid/acc: 0.3784\n",
      "Epoch: 2600   train/loss: 34.5271   valid/loss: 43.9364   train/acc: 0.6623   valid/acc: 0.3333\n",
      "Epoch: 2800   train/loss: 34.1974   valid/loss: 47.1703   train/acc: 0.6299   valid/acc: 0.3514\n",
      "Epoch: 3000   train/loss: 34.1656   valid/loss: 43.4228   train/acc: 0.6299   valid/acc: 0.3333\n",
      "Epoch: 3200   train/loss: 33.6252   valid/loss: 44.0384   train/acc: 0.6429   valid/acc: 0.3423\n",
      "Epoch: 3400   train/loss: 33.7789   valid/loss: 44.038   train/acc: 0.6558   valid/acc: 0.3333\n",
      "Epoch: 3600   train/loss: 34.7588   valid/loss: 43.9561   train/acc: 0.6299   valid/acc: 0.3694\n",
      "Epoch: 3800   train/loss: 33.5823   valid/loss: 46.3721   train/acc: 0.6364   valid/acc: 0.3243\n",
      "Epoch: 4000   train/loss: 33.7349   valid/loss: 44.2952   train/acc: 0.6558   valid/acc: 0.3243\n"
     ]
    },
    {
     "name": "stdout",
     "output_type": "stream",
     "text": [
      "Test accuracy: 0.4\n",
      "Progress:  0.346\n",
      "Number of training circuits: 155   Number of validation circuits: 111   Number of test circuits: 110   Number of parameters in model: 264\n"
     ]
    }
   ],
   "source": [
    "for i, key in enumerate(all_training_keys[initial_number_of_circuits:]):\n",
    "    print(\"Progress: \", round((i + initial_number_of_circuits)/len(all_training_keys), 3))\n",
    "    \n",
    "    if len(syms) == len(get_symbols(current_training_circuits)) and i > 0:\n",
    "        if i != len(all_training_keys[1:]):\n",
    "            current_training_circuits[key] = training_circuits[key]\n",
    "            new_parameters = sorted(get_symbols({key: training_circuits[key]}), key=default_sort_key)\n",
    "            if result:\n",
    "                parameters, init_params_spsa = initialize_parameters(parameters, result.x, new_parameters)\n",
    "                #continue\n",
    "            else:\n",
    "                syms = get_symbols(current_training_circuits)\n",
    "                parameters = sorted(syms, key=default_sort_key)\n",
    "                init_params_spsa = np.array(rng.random(len(parameters)))\n",
    "    else:\n",
    "        run += 1\n",
    "    \n",
    "    # Select those circuits from test and validation circuits which share the parameters with the current training circuits\n",
    "    current_validation_circuits = select_circuits(current_training_circuits, validation_circuits)\n",
    "    current_test_circuits = select_circuits(current_training_circuits, test_circuits)\n",
    "    \n",
    "    if len(current_validation_circuits) == 0 or len(current_test_circuits) == 0:\n",
    "        continue\n",
    "    \n",
    "    # Create lists with circuits and their corresponding label\n",
    "    training_circuits_l, training_data_labels_l = construct_data_and_labels(current_training_circuits, training_data_labels)\n",
    "    validation_circuits_l, validation_data_labels_l = construct_data_and_labels(current_validation_circuits, validation_data_labels)\n",
    "    test_circuits_l, test_data_labels_l = construct_data_and_labels(current_test_circuits, test_data_labels)\n",
    "    \n",
    "    # Limit the number of validation and test circuits to 20% of number of the training circuits\n",
    "    if limit:\n",
    "        val_test_circ_size = ceil(len(current_training_circuits))\n",
    "        if len(current_validation_circuits) > val_test_circ_size:\n",
    "            validation_circuits_l = validation_circuits_l[:val_test_circ_size]\n",
    "            validation_data_labels_l = validation_data_labels_l[:val_test_circ_size]\n",
    "        if len(current_test_circuits) > val_test_circ_size:\n",
    "            test_circuits_l = test_circuits_l[:val_test_circ_size]\n",
    "            test_data_labels_l = test_data_labels_l[:val_test_circ_size]\n",
    "    \n",
    "    stats = f\"Number of training circuits: {len(training_circuits_l)}   \"\\\n",
    "        + f\"Number of validation circuits: {len(validation_circuits_l)}   \"\\\n",
    "        + f\"Number of test circuits: {len(test_circuits_l)}   \"\\\n",
    "        + f\"Number of parameters in model: {len(set([sym for circuit in training_circuits_l for sym in circuit.free_symbols]))}\"\n",
    "    \n",
    "    with open(\"results//\" + result_file + \".txt\", \"a\") as f:\n",
    "        f.write(stats + \"\\n\")\n",
    "    \n",
    "    print(stats)\n",
    "    \n",
    "    train_pred_fn = jit(make_pred_fn(training_circuits_l))\n",
    "    dev_pred_fn = jit(make_pred_fn(validation_circuits_l))\n",
    "    test_pred_fn = make_pred_fn(test_circuits_l)\n",
    "    \n",
    "    train_cost_fn, train_costs, train_accs = make_cost_fn(train_pred_fn, training_data_labels_l)\n",
    "    dev_cost_fn, dev_costs, dev_accs = make_cost_fn(dev_pred_fn, validation_data_labels_l)\n",
    "    \n",
    "    def callback_fn(xk):\n",
    "        #print(xk)\n",
    "        valid_loss = dev_cost_fn(xk)\n",
    "        train_loss = numpy.around(min(float(train_costs[-1]), float(train_costs[-2])), 4)\n",
    "        train_acc = numpy.around(min(float(train_accs[-1]), float(train_accs[-2])), 4)\n",
    "        valid_acc = numpy.around(float(dev_accs[-1]), 4)\n",
    "        iters = int(len(train_accs)/2)\n",
    "        if iters % 200 == 0:\n",
    "            info = f\"Epoch: {iters}   \"\\\n",
    "            + f\"train/loss: {train_loss}   \"\\\n",
    "            + f\"valid/loss: {numpy.around(float(valid_loss), 4)}   \"\\\n",
    "            + f\"train/acc: {train_acc}   \"\\\n",
    "            + f\"valid/acc: {valid_acc}\"\n",
    "        \n",
    "            with open(\"results//\" + result_file + \".txt\", \"a\") as f:\n",
    "                f.write(info + \"\\n\")\n",
    "                \n",
    "            print(info, file=sys.stderr)\n",
    "        return valid_loss\n",
    "    \n",
    "    a_value = 0.0053\n",
    "    c_value = 0.0185\n",
    "            \n",
    "    train_cost_fn, train_costs, train_accs = make_cost_fn(train_pred_fn, training_data_labels_l)\n",
    "    dev_cost_fn, dev_costs, dev_accs = make_cost_fn(dev_pred_fn, validation_data_labels_l)\n",
    "\n",
    "    result = minimizeSPSA(train_cost_fn, x0=init_params_spsa, a = a_value, c = c_value, niter=EPOCHS, callback=callback_fn)\n",
    "    #result = minimizeCompass(train_cost_fn, x0=init_params_spsa, redfactor=2.0, deltainit=1.0, deltatol=0.001, feps=1e-15, errorcontrol=True, funcNinit=30, funcmultfactor=2.0, paired=True, alpha=0.05, callback=callback_fn)\n",
    "\n",
    "    figure_path = this_folder + \"//results//\" + result_file + \".png\"\n",
    "    visualize_result_noisyopt(result, make_cost_fn, test_pred_fn, test_data_labels_l, train_costs, train_accs, dev_costs, dev_accs, figure_path, result_file)\n",
    "    \n",
    "    run += 1\n",
    "    #EPOCHS += 100\n",
    "    syms = get_symbols(current_training_circuits)\n",
    "    \n",
    "    # Extend for the next optimization round\n",
    "    current_training_circuits[key] = training_circuits[key]\n",
    "    new_parameters = sorted(get_symbols({key: training_circuits[key]}), key=default_sort_key)\n",
    "    parameters, init_params_spsa = initialize_parameters(parameters, result.x, new_parameters)"
   ]
  }
 ],
 "metadata": {
  "kernelspec": {
   "display_name": "Python 3 (ipykernel)",
   "language": "python",
   "name": "python3"
  },
  "language_info": {
   "codemirror_mode": {
    "name": "ipython",
    "version": 3
   },
   "file_extension": ".py",
   "mimetype": "text/x-python",
   "name": "python",
   "nbconvert_exporter": "python",
   "pygments_lexer": "ipython3",
   "version": "3.8.10"
  }
 },
 "nbformat": 4,
 "nbformat_minor": 5
}
