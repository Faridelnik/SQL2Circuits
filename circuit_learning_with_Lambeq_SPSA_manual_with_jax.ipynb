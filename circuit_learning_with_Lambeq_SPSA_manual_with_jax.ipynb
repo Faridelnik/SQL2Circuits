{
 "cells": [
  {
   "cell_type": "markdown",
   "id": "b09952d6-99a3-41a5-865f-2170e9ee0247",
   "metadata": {},
   "source": [
    "# Circuit learning module: Lambeq manually with SPSA and JAX"
   ]
  },
  {
   "cell_type": "markdown",
   "id": "bb811fe4-d729-4a44-838d-9c02db4a644d",
   "metadata": {},
   "source": [
    "This module performs the optimization of the parametrized circuit manually compared to Lambeq's automatic QuantumTrainer class. I created this because I wanted to have more control over the optimization process and debug it better. The code is based on the workflow presented in https://github.com/CQCL/Quanthoven."
   ]
  },
  {
   "cell_type": "code",
   "execution_count": 1,
   "id": "c9a5783f-901a-4bfe-a622-4003b345fb1b",
   "metadata": {},
   "outputs": [],
   "source": [
    "import warnings\n",
    "warnings.filterwarnings('ignore')\n",
    "\n",
    "import json\n",
    "import os\n",
    "import glob\n",
    "from pathlib import Path\n",
    "from jax import numpy as np\n",
    "from sympy import default_sort_key\n",
    "#import numpy as np\n",
    "import numpy\n",
    "import pickle\n",
    "import matplotlib.pyplot as plt\n",
    "\n",
    "from discopy.utils import loads\n",
    "from pytket.extensions.qiskit import AerBackend\n",
    "from pytket.extensions.qulacs import QulacsBackend\n",
    "from pytket.extensions.cirq import CirqStateSampleBackend\n",
    "\n",
    "backend = None\n",
    "\n",
    "from discopy.quantum import Circuit\n",
    "from discopy.tensor import Tensor\n",
    "\n",
    "from utils import read_diagrams, create_labeled_classes, bin_class_loss, multi_class_loss, bin_class_acc, multi_class_acc\n",
    "\n",
    "import jax\n",
    "from jax import jit\n",
    "from noisyopt import minimizeSPSA\n",
    "\n",
    "this_folder = os.path.abspath(os.getcwd())\n",
    "os.environ['TOKENIZERS_PARALLELISM'] = 'true'\n",
    "#os.environ[\"JAX_PLATFORMS\"] = \"cpu\""
   ]
  },
  {
   "cell_type": "markdown",
   "id": "238fca40-5d8d-4ace-a65f-693885a8caf8",
   "metadata": {},
   "source": [
    "## Read circuit data"
   ]
  },
  {
   "cell_type": "markdown",
   "id": "7f6f00d7-b573-4c5d-a0d6-d5eafc54745e",
   "metadata": {},
   "source": [
    "We read the circuits from the pickled files. Select if we perform binary classification or multi-class classification. Give number of qubits to create classes:\n",
    "- 1 qubits -> 2^1 = 2 classes i.e. binary classification\n",
    "- 2 qubits -> 2^2 = 4 classes\n",
    "- ...\n",
    "- 5 qubits -> 2^5 = 32 classes, etc."
   ]
  },
  {
   "cell_type": "code",
   "execution_count": 2,
   "id": "01bac1f9-3bc0-4a25-8f4f-baa2b9c581e9",
   "metadata": {},
   "outputs": [],
   "source": [
    "# Select workload\n",
    "#workload = \"small\"\n",
    "workload = \"medium\"\n",
    "#workload = \"large\"\n",
    "\n",
    "classification = 2\n",
    "layers = 1\n",
    "single_qubit_params = 3\n",
    "acc = None\n",
    "loss = None\n",
    "\n",
    "if classification == 1:\n",
    "    loss = bin_class_loss\n",
    "    acc = bin_class_acc\n",
    "else:\n",
    "    loss = multi_class_loss\n",
    "    acc = multi_class_acc\n",
    "\n",
    "# Access the selected circuits\n",
    "path_name = this_folder + \"//simplified-JOB-diagrams//\" + workload + \"//circuits//\" + str(classification) + \"//\" + str(layers) + \"_layer//\" + str(single_qubit_params) + \"_single_qubit_params//\"\n",
    "\n",
    "training_circuits_paths = glob.glob(path_name + \"training//[0-9]*.p\")\n",
    "validation_circuits_paths = glob.glob(path_name + \"validation//[0-9]*.p\")\n",
    "test_circuits_paths = glob.glob(path_name + \"test//[0-9]*.p\")"
   ]
  },
  {
   "cell_type": "code",
   "execution_count": 3,
   "id": "5ff0a551-444c-40a7-bf66-8e929bc49a64",
   "metadata": {},
   "outputs": [],
   "source": [
    "training_circuits = read_diagrams(training_circuits_paths)\n",
    "validation_circuits = read_diagrams(validation_circuits_paths)\n",
    "test_circuits = read_diagrams(test_circuits_paths)"
   ]
  },
  {
   "cell_type": "markdown",
   "id": "f2da3a7c-6a93-44e9-9640-7e9ead005cb2",
   "metadata": {},
   "source": [
    "## Read training and test data"
   ]
  },
  {
   "cell_type": "code",
   "execution_count": 4,
   "id": "774e9f52-69c9-4e1c-8a70-76e1198d12f4",
   "metadata": {},
   "outputs": [],
   "source": [
    "training_data, test_data, validation_data = None, None, None\n",
    "data_path = this_folder + \"//data//\" + workload + \"//\"\n",
    "\n",
    "with open(data_path + \"training_data.json\", \"r\") as inputfile:\n",
    "    training_data = json.load(inputfile)['training_data']\n",
    "with open(data_path + \"test_data.json\", \"r\") as inputfile:\n",
    "    test_data = json.load(inputfile)['test_data']\n",
    "with open(data_path + \"validation_data.json\", \"r\") as inputfile:\n",
    "    validation_data = json.load(inputfile)['validation_data']\n",
    "\n",
    "training_data_labels = create_labeled_classes(training_data, classification)\n",
    "test_data_labels = create_labeled_classes(test_data, classification)\n",
    "validation_data_labels = create_labeled_classes(validation_data, classification)"
   ]
  },
  {
   "cell_type": "markdown",
   "id": "f6cad830-e6c3-4c29-9ce6-0d6bec2794bc",
   "metadata": {},
   "source": [
    "## Lambeq optimizer"
   ]
  },
  {
   "cell_type": "code",
   "execution_count": 5,
   "id": "ce559dbf-2b4b-4853-82ed-58832aa11e61",
   "metadata": {},
   "outputs": [
    {
     "name": "stdout",
     "output_type": "stream",
     "text": [
      "Test circuits need to share training circuits' parameters. The parameters that are not covered (should be empty set, set()):  set()\n",
      "Validation circuits need to share training circuits' parameters. The parameters that are not covered (should be empty set, set()):  set()\n",
      "Total number of circuits:  121\n",
      "Total number of variables:  77\n"
     ]
    }
   ],
   "source": [
    "#all_circuits = list(training_circuits.values()) + list(test_circuits.values())\n",
    "\n",
    "training_circuits_l = []\n",
    "test_circuits_l = []\n",
    "validation_circuits_l = []\n",
    "\n",
    "training_data_labels_l = []\n",
    "test_data_labels_l = []\n",
    "validation_data_labels_l = []\n",
    "\n",
    "# Organize circuits and labels in correct order into two lists which will be input for training the model\n",
    "for key in training_data_labels:\n",
    "    training_circuits_l.append(training_circuits[key])\n",
    "    training_data_labels_l.append(training_data_labels[key])\n",
    "\n",
    "for key in test_data_labels:\n",
    "    test_circuits_l.append(test_circuits[key])\n",
    "    test_data_labels_l.append(test_data_labels[key])\n",
    "    \n",
    "for key in validation_data_labels:\n",
    "    validation_circuits_l.append(validation_circuits[key])\n",
    "    validation_data_labels_l.append(validation_data_labels[key])\n",
    "\n",
    "all_circuits = training_circuits_l + test_circuits_l + validation_circuits_l\n",
    "\n",
    "train_syms = set([sym for circuit in training_circuits.values() for sym in circuit.free_symbols])\n",
    "test_syms = set([sym for circuit in test_circuits.values() for sym in circuit.free_symbols])\n",
    "val_syms = set([sym for circuit in validation_circuits.values() for sym in circuit.free_symbols])\n",
    "\n",
    "print(\"Test circuits need to share training circuits' parameters. The parameters that are not covered (should be empty set, set()): \", test_syms.difference(train_syms))\n",
    "print(\"Validation circuits need to share training circuits' parameters. The parameters that are not covered (should be empty set, set()): \", val_syms.difference(train_syms))\n",
    "\n",
    "print(\"Total number of circuits: \", len(all_circuits))\n",
    "print(\"Total number of variables: \", len(train_syms))"
   ]
  },
  {
   "cell_type": "code",
   "execution_count": 6,
   "id": "5c84f333-8670-492f-b85f-20467a2f7d73",
   "metadata": {},
   "outputs": [],
   "source": [
    "training_data_labels_l = np.array(training_data_labels_l)\n",
    "test_data_labels_l = np.array(test_data_labels_l)\n",
    "validation_data_labels_l = np.array(validation_data_labels_l)"
   ]
  },
  {
   "cell_type": "markdown",
   "id": "572abfc1-cc81-4fdb-b8bb-6813fe658dd6",
   "metadata": {},
   "source": [
    "## Model"
   ]
  },
  {
   "cell_type": "code",
   "execution_count": 7,
   "id": "e772e8c8-b747-4c19-8eef-7cc038194d9e",
   "metadata": {},
   "outputs": [],
   "source": [
    "parameters = sorted(\n",
    "    train_syms,\n",
    "    key=default_sort_key)"
   ]
  },
  {
   "cell_type": "code",
   "execution_count": 8,
   "id": "04c65634-fa13-47b3-915c-83361d0e1baf",
   "metadata": {},
   "outputs": [],
   "source": [
    "def make_pred_fn(circuits):\n",
    "    if backend:\n",
    "        compiled_circuits1 = backend.get_compiled_circuits([c.to_tk() for c in circuits])\n",
    "        circuits = [Circuit.from_tk(c) for c in compiled_circuits1]\n",
    "        \n",
    "    circuit_fns = [c.lambdify(*parameters) for c in circuits]\n",
    "    \n",
    "    def predict(params):\n",
    "        outputs = Circuit.eval(*(c(*params) for c in circuit_fns), backend = backend)\n",
    "        res = []\n",
    "        \n",
    "        for output in outputs:\n",
    "            predictions = np.abs(output.array) + 1e-9\n",
    "            ratio = predictions / predictions.sum()\n",
    "            res.append(ratio)\n",
    "            \n",
    "        return np.array(res)\n",
    "    return predict\n",
    "\n",
    "train_pred_fn = jit(make_pred_fn(training_circuits_l))\n",
    "dev_pred_fn = jit(make_pred_fn(validation_circuits_l))\n",
    "test_pred_fn = make_pred_fn(test_circuits_l)"
   ]
  },
  {
   "cell_type": "markdown",
   "id": "868cf7e7-fcbf-4bad-b8bc-4ff0e6b29294",
   "metadata": {},
   "source": [
    "## Loss function and evaluation"
   ]
  },
  {
   "cell_type": "code",
   "execution_count": 9,
   "id": "f376b4aa-0ec6-4037-80eb-935aa75a2f74",
   "metadata": {},
   "outputs": [],
   "source": [
    "def make_cost_fn(pred_fn, labels):\n",
    "    def cost_fn(params, **kwargs):\n",
    "        predictions = pred_fn(params)\n",
    "\n",
    "        cost = loss(predictions, labels) #-np.sum(labels * np.log(predictions)) / len(labels)  # binary cross-entropy loss\n",
    "        costs.append(cost)\n",
    "\n",
    "        accuracy = acc(predictions, labels) #np.sum(np.round(predictions) == labels) / len(labels) / 2  # half due to double-counting\n",
    "        accuracies.append(accuracy)\n",
    "\n",
    "        return cost\n",
    "\n",
    "    costs, accuracies = [], []\n",
    "    return cost_fn, costs, accuracies"
   ]
  },
  {
   "cell_type": "markdown",
   "id": "a3bb6805-facb-4ec9-9c38-8d1df42022b2",
   "metadata": {},
   "source": [
    "## Trainer"
   ]
  },
  {
   "cell_type": "code",
   "execution_count": 10,
   "id": "575f6418-781f-4d16-bf0f-7dc9dacdf0e5",
   "metadata": {},
   "outputs": [],
   "source": [
    "EPOCHS = 10000\n",
    "SEED = 0\n",
    "\n",
    "# This avoids TracerArrayConversionError from jax\n",
    "Tensor.np = np\n",
    "\n",
    "import numpy\n",
    "\n",
    "rng = numpy.random.default_rng(SEED)\n",
    "init_params_spsa = np.array(rng.random(len(parameters)))\n",
    "numpy.random.seed(SEED)\n",
    "\n",
    "#print(jax.make_jaxpr(train_pred_fn)(init_params_spsa))\n",
    "\n",
    "train_cost_fn, train_costs, train_accs = make_cost_fn(train_pred_fn, training_data_labels_l)\n",
    "dev_cost_fn, dev_costs, dev_accs = make_cost_fn(dev_pred_fn, validation_data_labels_l)\n",
    "\n",
    "def callback_fn(xk):\n",
    "    valid_loss = dev_cost_fn(xk)\n",
    "    train_loss = round(train_costs[-1], 4)\n",
    "    train_acc = round(train_accs[-1], 4)\n",
    "    valid_acc = round(dev_accs[-1], 4)\n",
    "    iters = int(len(train_accs)/2)\n",
    "    if iters % 100 == 0:\n",
    "        print(\n",
    "                #f\"Params = {xk}, \"\n",
    "                f\"Epoch: {iters}   \",\n",
    "                f\"train/loss: {train_loss}   \",\n",
    "                f\"valid/loss: {round(valid_loss, 4)}   \",\n",
    "                f\"train/acc: {train_acc}   \",\n",
    "                f\"valid/acc: {valid_acc}\"\n",
    "            )\n",
    "    return valid_loss"
   ]
  },
  {
   "cell_type": "code",
   "execution_count": 11,
   "id": "95052c87-ffb7-4c4f-952f-e63d9c54b2ef",
   "metadata": {},
   "outputs": [
    {
     "name": "stdout",
     "output_type": "stream",
     "text": [
      "Epoch: 100    train/loss: 24.269298553466797    valid/loss: 6.842599868774414    train/acc: 0.425    valid/acc: 0.3333\n",
      "Epoch: 200    train/loss: 22.788198471069336    valid/loss: 6.69189977645874    train/acc: 0.475    valid/acc: 0.4286\n",
      "Epoch: 300    train/loss: 22.784698486328125    valid/loss: 5.908299922943115    train/acc: 0.475    valid/acc: 0.5714\n",
      "Epoch: 400    train/loss: 21.940898895263672    valid/loss: 6.748199939727783    train/acc: 0.5    valid/acc: 0.4762\n",
      "Epoch: 500    train/loss: 21.683799743652344    valid/loss: 6.351199626922607    train/acc: 0.4875    valid/acc: 0.381\n",
      "Epoch: 600    train/loss: 21.7455997467041    valid/loss: 6.37339973449707    train/acc: 0.55    valid/acc: 0.5714\n",
      "Epoch: 700    train/loss: 21.115798950195312    valid/loss: 8.415599822998047    train/acc: 0.5625    valid/acc: 0.5714\n",
      "Epoch: 800    train/loss: 21.426799774169922    valid/loss: 6.400799751281738    train/acc: 0.525    valid/acc: 0.5238\n",
      "Epoch: 900    train/loss: 21.670700073242188    valid/loss: 6.694499969482422    train/acc: 0.5375    valid/acc: 0.5238\n",
      "Epoch: 1000    train/loss: 20.499099731445312    valid/loss: 6.367799758911133    train/acc: 0.55    valid/acc: 0.6667\n",
      "Epoch: 1100    train/loss: 20.344999313354492    valid/loss: 5.82859992980957    train/acc: 0.575    valid/acc: 0.7619\n",
      "Epoch: 1200    train/loss: 20.625598907470703    valid/loss: 6.535099983215332    train/acc: 0.5375    valid/acc: 0.619\n",
      "Epoch: 1300    train/loss: 21.152198791503906    valid/loss: 6.80079984664917    train/acc: 0.5375    valid/acc: 0.4286\n",
      "Epoch: 1400    train/loss: 20.07969856262207    valid/loss: 6.31719970703125    train/acc: 0.5125    valid/acc: 0.5714\n",
      "Epoch: 1500    train/loss: 19.792699813842773    valid/loss: 6.572299957275391    train/acc: 0.5375    valid/acc: 0.5714\n",
      "Epoch: 1600    train/loss: 19.809398651123047    valid/loss: 6.7276997566223145    train/acc: 0.5125    valid/acc: 0.5238\n",
      "Epoch: 1700    train/loss: 21.554399490356445    valid/loss: 5.8668999671936035    train/acc: 0.5625    valid/acc: 0.6667\n",
      "Epoch: 1800    train/loss: 20.566699981689453    valid/loss: 6.581099987030029    train/acc: 0.5375    valid/acc: 0.5714\n",
      "Epoch: 1900    train/loss: 19.854799270629883    valid/loss: 6.167599678039551    train/acc: 0.5375    valid/acc: 0.4762\n",
      "Epoch: 2000    train/loss: 20.7018985748291    valid/loss: 6.0894999504089355    train/acc: 0.5    valid/acc: 0.4762\n",
      "Epoch: 2100    train/loss: 19.43630027770996    valid/loss: 6.64139986038208    train/acc: 0.5375    valid/acc: 0.4286\n",
      "Epoch: 2200    train/loss: 18.898099899291992    valid/loss: 6.514199733734131    train/acc: 0.5375    valid/acc: 0.5238\n",
      "Epoch: 2300    train/loss: 19.479000091552734    valid/loss: 6.343599796295166    train/acc: 0.5375    valid/acc: 0.5238\n",
      "Epoch: 2400    train/loss: 19.00269889831543    valid/loss: 6.10099983215332    train/acc: 0.5625    valid/acc: 0.5714\n",
      "Epoch: 2500    train/loss: 19.40019989013672    valid/loss: 6.300699710845947    train/acc: 0.5375    valid/acc: 0.6667\n",
      "Epoch: 2600    train/loss: 19.26289939880371    valid/loss: 6.400399684906006    train/acc: 0.5    valid/acc: 0.6667\n",
      "Epoch: 2700    train/loss: 20.727399826049805    valid/loss: 6.467599868774414    train/acc: 0.525    valid/acc: 0.4762\n",
      "Epoch: 2800    train/loss: 19.551799774169922    valid/loss: 7.181399822235107    train/acc: 0.525    valid/acc: 0.4762\n",
      "Epoch: 2900    train/loss: 19.2106990814209    valid/loss: 7.0625    train/acc: 0.55    valid/acc: 0.5238\n",
      "Epoch: 3000    train/loss: 19.352399826049805    valid/loss: 7.0081000328063965    train/acc: 0.525    valid/acc: 0.4762\n",
      "Epoch: 3100    train/loss: 19.237098693847656    valid/loss: 7.111099720001221    train/acc: 0.5375    valid/acc: 0.4762\n",
      "Epoch: 3200    train/loss: 19.060998916625977    valid/loss: 7.344499588012695    train/acc: 0.525    valid/acc: 0.4762\n",
      "Epoch: 3300    train/loss: 19.26889991760254    valid/loss: 7.1691999435424805    train/acc: 0.5375    valid/acc: 0.4762\n",
      "Epoch: 3400    train/loss: 18.92020034790039    valid/loss: 7.149600028991699    train/acc: 0.525    valid/acc: 0.4762\n",
      "Epoch: 3500    train/loss: 19.460498809814453    valid/loss: 7.212800025939941    train/acc: 0.525    valid/acc: 0.4762\n",
      "Epoch: 3600    train/loss: 19.611099243164062    valid/loss: 8.196999549865723    train/acc: 0.525    valid/acc: 0.4762\n",
      "Epoch: 3700    train/loss: 19.739599227905273    valid/loss: 8.104999542236328    train/acc: 0.5375    valid/acc: 0.5238\n",
      "Epoch: 3800    train/loss: 19.555999755859375    valid/loss: 7.457199573516846    train/acc: 0.525    valid/acc: 0.4762\n",
      "Epoch: 3900    train/loss: 19.447500228881836    valid/loss: 7.412600040435791    train/acc: 0.5875    valid/acc: 0.4762\n",
      "Epoch: 4000    train/loss: 19.223499298095703    valid/loss: 7.951299667358398    train/acc: 0.5625    valid/acc: 0.5238\n",
      "Epoch: 4100    train/loss: 19.06439971923828    valid/loss: 7.348399639129639    train/acc: 0.5625    valid/acc: 0.5238\n",
      "Epoch: 4200    train/loss: 18.886798858642578    valid/loss: 7.899399757385254    train/acc: 0.575    valid/acc: 0.5238\n",
      "Epoch: 4300    train/loss: 19.21259880065918    valid/loss: 7.520099639892578    train/acc: 0.55    valid/acc: 0.4286\n",
      "Epoch: 4400    train/loss: 18.798599243164062    valid/loss: 7.905599594116211    train/acc: 0.5875    valid/acc: 0.4762\n",
      "Epoch: 4500    train/loss: 18.60919952392578    valid/loss: 7.750199794769287    train/acc: 0.5625    valid/acc: 0.5238\n",
      "Epoch: 4600    train/loss: 18.666099548339844    valid/loss: 8.323399543762207    train/acc: 0.5875    valid/acc: 0.5238\n",
      "Epoch: 4700    train/loss: 18.75269889831543    valid/loss: 7.90310001373291    train/acc: 0.5875    valid/acc: 0.5238\n",
      "Epoch: 4800    train/loss: 19.040599822998047    valid/loss: 7.998899936676025    train/acc: 0.5375    valid/acc: 0.5238\n",
      "Epoch: 4900    train/loss: 19.031299591064453    valid/loss: 8.129300117492676    train/acc: 0.55    valid/acc: 0.4286\n",
      "Epoch: 5000    train/loss: 18.8179988861084    valid/loss: 7.697299957275391    train/acc: 0.5625    valid/acc: 0.4762\n",
      "Epoch: 5100    train/loss: 18.878999710083008    valid/loss: 7.322999954223633    train/acc: 0.5625    valid/acc: 0.4762\n",
      "Epoch: 5200    train/loss: 18.816999435424805    valid/loss: 7.190099716186523    train/acc: 0.525    valid/acc: 0.4762\n",
      "Epoch: 5300    train/loss: 18.740598678588867    valid/loss: 7.030999660491943    train/acc: 0.55    valid/acc: 0.4762\n",
      "Epoch: 5400    train/loss: 18.577999114990234    valid/loss: 7.158299922943115    train/acc: 0.55    valid/acc: 0.4762\n",
      "Epoch: 5500    train/loss: 18.792699813842773    valid/loss: 7.35290002822876    train/acc: 0.525    valid/acc: 0.4762\n",
      "Epoch: 5600    train/loss: 18.79010009765625    valid/loss: 7.337399959564209    train/acc: 0.525    valid/acc: 0.4762\n",
      "Epoch: 5700    train/loss: 18.72279930114746    valid/loss: 7.486999988555908    train/acc: 0.525    valid/acc: 0.4762\n",
      "Epoch: 5800    train/loss: 19.027700424194336    valid/loss: 7.325799942016602    train/acc: 0.5    valid/acc: 0.381\n",
      "Epoch: 5900    train/loss: 18.829898834228516    valid/loss: 7.246399879455566    train/acc: 0.55    valid/acc: 0.4762\n",
      "Epoch: 6000    train/loss: 18.76580047607422    valid/loss: 7.165899753570557    train/acc: 0.575    valid/acc: 0.5238\n",
      "Epoch: 6100    train/loss: 18.99959945678711    valid/loss: 7.442999839782715    train/acc: 0.5625    valid/acc: 0.5238\n",
      "Epoch: 6200    train/loss: 18.994400024414062    valid/loss: 7.687299728393555    train/acc: 0.5875    valid/acc: 0.4762\n",
      "Epoch: 6300    train/loss: 18.555999755859375    valid/loss: 7.175699710845947    train/acc: 0.5875    valid/acc: 0.4762\n",
      "Epoch: 6400    train/loss: 18.773300170898438    valid/loss: 7.246899604797363    train/acc: 0.5375    valid/acc: 0.5238\n",
      "Epoch: 6500    train/loss: 18.72869873046875    valid/loss: 7.067999839782715    train/acc: 0.55    valid/acc: 0.4762\n",
      "Epoch: 6600    train/loss: 18.511798858642578    valid/loss: 6.876299858093262    train/acc: 0.55    valid/acc: 0.4762\n",
      "Epoch: 6700    train/loss: 18.453100204467773    valid/loss: 6.751199722290039    train/acc: 0.5375    valid/acc: 0.4762\n",
      "Epoch: 6800    train/loss: 18.367599487304688    valid/loss: 6.689399719238281    train/acc: 0.5875    valid/acc: 0.5238\n",
      "Epoch: 6900    train/loss: 18.282499313354492    valid/loss: 6.535699844360352    train/acc: 0.6    valid/acc: 0.5238\n",
      "Epoch: 7000    train/loss: 18.092899322509766    valid/loss: 7.270299911499023    train/acc: 0.5875    valid/acc: 0.5238\n",
      "Epoch: 7100    train/loss: 18.143400192260742    valid/loss: 6.7600998878479    train/acc: 0.6    valid/acc: 0.5238\n",
      "Epoch: 7200    train/loss: 18.109800338745117    valid/loss: 7.052499771118164    train/acc: 0.6    valid/acc: 0.5238\n",
      "Epoch: 7300    train/loss: 17.99639892578125    valid/loss: 6.932199954986572    train/acc: 0.575    valid/acc: 0.5714\n",
      "Epoch: 7400    train/loss: 18.2987003326416    valid/loss: 6.768899917602539    train/acc: 0.6    valid/acc: 0.5714\n",
      "Epoch: 7500    train/loss: 18.336198806762695    valid/loss: 6.975399971008301    train/acc: 0.6    valid/acc: 0.5714\n",
      "Epoch: 7600    train/loss: 18.10919952392578    valid/loss: 6.803799629211426    train/acc: 0.5875    valid/acc: 0.5714\n",
      "Epoch: 7700    train/loss: 18.08769989013672    valid/loss: 6.546099662780762    train/acc: 0.6    valid/acc: 0.5714\n",
      "Epoch: 7800    train/loss: 18.06130027770996    valid/loss: 6.688799858093262    train/acc: 0.6    valid/acc: 0.5714\n",
      "Epoch: 7900    train/loss: 18.082698822021484    valid/loss: 7.063799858093262    train/acc: 0.6    valid/acc: 0.5714\n",
      "Epoch: 8000    train/loss: 17.970399856567383    valid/loss: 6.649499893188477    train/acc: 0.575    valid/acc: 0.5714\n",
      "Epoch: 8100    train/loss: 18.072399139404297    valid/loss: 6.930500030517578    train/acc: 0.6    valid/acc: 0.5714\n",
      "Epoch: 8200    train/loss: 18.153799057006836    valid/loss: 6.665299892425537    train/acc: 0.6    valid/acc: 0.5238\n",
      "Epoch: 8300    train/loss: 18.238800048828125    valid/loss: 6.553699970245361    train/acc: 0.6    valid/acc: 0.5714\n",
      "Epoch: 8400    train/loss: 18.208799362182617    valid/loss: 6.443999767303467    train/acc: 0.575    valid/acc: 0.5714\n",
      "Epoch: 8500    train/loss: 17.927000045776367    valid/loss: 6.5920000076293945    train/acc: 0.6    valid/acc: 0.5714\n",
      "Epoch: 8600    train/loss: 18.037599563598633    valid/loss: 6.443199634552002    train/acc: 0.575    valid/acc: 0.5714\n",
      "Epoch: 8700    train/loss: 18.040599822998047    valid/loss: 6.397199630737305    train/acc: 0.575    valid/acc: 0.5714\n",
      "Epoch: 8800    train/loss: 18.136600494384766    valid/loss: 6.47629976272583    train/acc: 0.575    valid/acc: 0.5714\n",
      "Epoch: 8900    train/loss: 18.283300399780273    valid/loss: 6.48390007019043    train/acc: 0.6125    valid/acc: 0.5714\n",
      "Epoch: 9000    train/loss: 18.72209930419922    valid/loss: 6.349699974060059    train/acc: 0.5625    valid/acc: 0.5714\n",
      "Epoch: 9100    train/loss: 18.35719871520996    valid/loss: 6.153199672698975    train/acc: 0.575    valid/acc: 0.5714\n",
      "Epoch: 9200    train/loss: 17.959999084472656    valid/loss: 6.603699684143066    train/acc: 0.575    valid/acc: 0.5714\n",
      "Epoch: 9300    train/loss: 18.026399612426758    valid/loss: 6.5980000495910645    train/acc: 0.575    valid/acc: 0.5714\n",
      "Epoch: 9400    train/loss: 17.959400177001953    valid/loss: 6.5706000328063965    train/acc: 0.6    valid/acc: 0.5714\n",
      "Epoch: 9500    train/loss: 17.981300354003906    valid/loss: 6.570199966430664    train/acc: 0.575    valid/acc: 0.5714\n",
      "Epoch: 9600    train/loss: 18.0231990814209    valid/loss: 6.377599716186523    train/acc: 0.6    valid/acc: 0.5714\n",
      "Epoch: 9700    train/loss: 18.05449867248535    valid/loss: 6.443399906158447    train/acc: 0.5625    valid/acc: 0.5714\n",
      "Epoch: 9800    train/loss: 17.907499313354492    valid/loss: 6.686999797821045    train/acc: 0.5625    valid/acc: 0.5714\n",
      "Epoch: 9900    train/loss: 18.049598693847656    valid/loss: 6.577699661254883    train/acc: 0.5625    valid/acc: 0.5714\n",
      "Epoch: 10000    train/loss: 18.192798614501953    valid/loss: 6.319900035858154    train/acc: 0.55    valid/acc: 0.5714\n",
      "     fun: DeviceArray(17.719955, dtype=float32)\n",
      " message: 'terminated after reaching max number of iterations'\n",
      "    nfev: 20000\n",
      "     nit: 10000\n",
      " success: True\n",
      "       x: DeviceArray([ 0.8845529 ,  0.16443536, -0.02796047, ...,  0.18321127,\n",
      "              0.3040246 ,  0.9696215 ], dtype=float32)\n"
     ]
    }
   ],
   "source": [
    "result = minimizeSPSA(train_cost_fn, x0=init_params_spsa, a = 0.005, c = 0.01, niter=EPOCHS, callback=callback_fn)\n",
    "print(result)"
   ]
  },
  {
   "cell_type": "code",
   "execution_count": 12,
   "id": "537aa180-ea99-48b1-90a3-097e4a9ecc6e",
   "metadata": {},
   "outputs": [
    {
     "name": "stdout",
     "output_type": "stream",
     "text": [
      "Test accuracy: 0.45\n"
     ]
    },
    {
     "data": {
      "image/png": "[encoded data removed]",
      "text/plain": [
       "<Figure size 720x432 with 4 Axes>"
      ]
     },
     "metadata": {
      "needs_background": "light"
     },
     "output_type": "display_data"
    }
   ],
   "source": [
    "fig, ((ax_tl, ax_tr), (ax_bl, ax_br)) = plt.subplots(2, 2, sharex=True, sharey='row', figsize=(10, 6))\n",
    "ax_tl.set_title('Training set')\n",
    "ax_tr.set_title('Development set')\n",
    "ax_bl.set_xlabel('Iterations')\n",
    "ax_br.set_xlabel('Iterations')\n",
    "ax_bl.set_ylabel('Accuracy')\n",
    "ax_tl.set_ylabel('Loss')\n",
    "\n",
    "colours = iter(plt.rcParams['axes.prop_cycle'].by_key()['color'])\n",
    "ax_tl.plot(train_costs[1::2], color=next(colours))  # training evaluates twice per iteration\n",
    "ax_bl.plot(train_accs[1::2], color=next(colours))   # so take every other entry\n",
    "ax_tr.plot(dev_costs, color=next(colours))\n",
    "ax_br.plot(dev_accs, color=next(colours))\n",
    "\n",
    "# print test accuracy\n",
    "test_cost_fn, _, test_accs = make_cost_fn(test_pred_fn, test_data_labels_l)\n",
    "test_cost_fn(result.x)\n",
    "print('Test accuracy:', test_accs[0])\n",
    "\n",
    "plt.savefig(this_folder + \"//results//\" + workload + \"_\" + str(classification) + \"_\" + str(layers) + \"_\" + str(single_qubit_params) + \".png\") "
   ]
  },
  {
   "cell_type": "code",
   "execution_count": null,
   "id": "aa369834-070c-4a84-9678-37625e5ea4a3",
   "metadata": {},
   "outputs": [],
   "source": []
  }
 ],
 "metadata": {
  "kernelspec": {
   "display_name": "Python 3 (ipykernel)",
   "language": "python",
   "name": "python3"
  },
  "language_info": {
   "codemirror_mode": {
    "name": "ipython",
    "version": 3
   },
   "file_extension": ".py",
   "mimetype": "text/x-python",
   "name": "python",
   "nbconvert_exporter": "python",
   "pygments_lexer": "ipython3",
   "version": "3.8.10"
  }
 },
 "nbformat": 4,
 "nbformat_minor": 5
}
