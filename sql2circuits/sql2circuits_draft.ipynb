{
 "cells": [
  {
   "cell_type": "markdown",
   "metadata": {},
   "source": [
    "### SQL2Circuits development notebook"
   ]
  },
  {
   "cell_type": "code",
   "execution_count": null,
   "metadata": {},
   "outputs": [],
   "source": [
    "import os\n",
    "import json\n",
    "import numpy as np\n",
    "from data_preparation.queries import QueryGenerator\n",
    "from data_preparation.prepare import DataPreparation\n",
    "from data_preparation.database import Database\n",
    "from circuit_preparation.circuits import Circuits\n",
    "from training.train import SQL2CircuitsEstimator\n",
    "from training.sample_feature_preparation import SampleFeaturePreparator\n",
    "from skopt import BayesSearchCV\n",
    "from skopt.space import Real\n",
    "import jax\n",
    "jax.config.update(\"jax_enable_x64\", True)\n",
    "\n",
    "this_folder = os.path.abspath(os.getcwd())\n",
    "seed_paths = [\"data_preparation//query_seeds//JOB_query_seed_execution_time.json\",\n",
    "              \"data_preparation//query_seeds//JOB_query_seed_cardinality.json\"]\n",
    "workload_types = [\"execution_time\", \"cardinality\"]\n",
    "run_id = 1\n",
    "ty = 1\n",
    "workload_type = workload_types[ty]\n",
    "database = Database(\"IMDB\")\n",
    "generator = QueryGenerator(run_id, workload_type = \"cardinality\", database = \"IMDB\", query_seed_file_path = seed_paths[ty])\n",
    "query_file = generator.get_query_file()\n",
    "data_preparator = DataPreparation(run_id, query_file, database = database, workload_type = workload_type, classification = 2)\n"
   ]
  },
  {
   "cell_type": "code",
   "execution_count": null,
   "metadata": {},
   "outputs": [],
   "source": [
    "this_folder = os.path.abspath(os.getcwd())\n",
    "output_folder = this_folder + \"//circuit_preparation//data//circuits//\" + str(run_id) + \"//\"\n",
    "if not os.path.exists(output_folder):\n",
    "    os.makedirs(output_folder)\n",
    "    print(\"The new directory: \", output_folder, \" is created.\")\n",
    "\n",
    "circuits = Circuits(run_id, query_file, output_folder, write_cfg_to_file = True, write_pregroup_to_file=True, generate_circuit_png_diagrams = True)\n",
    "circuits.execute_full_transformation()"
   ]
  },
  {
   "cell_type": "code",
   "execution_count": null,
   "metadata": {},
   "outputs": [],
   "source": [
    "sf = SampleFeaturePreparator(run_id, data_preparator, circuits, \"all\")\n",
    "X_train = sf.get_X_train()\n",
    "X_valid = sf.get_X_valid()\n",
    "y = sf.get_y()\n",
    "\n",
    "opt = BayesSearchCV(SQL2CircuitsEstimator(run_id, \n",
    "                        workload = \"cardinality\",  \n",
    "                        classification = 2, \n",
    "                        optimization_method = \"SPSA\",\n",
    "                        epochs = 500), \n",
    "                        { 'a': Real(1e-5, 10, 'uniform'), \n",
    "                         'c': Real(1e-5, 10, 'uniform') }, \n",
    "                         n_iter = 5,\n",
    "                         n_jobs = 3,\n",
    "                         n_points = 3)\n",
    "\n",
    "opt.fit(X_train, y, X_valid = X_valid)"
   ]
  },
  {
   "cell_type": "code",
   "execution_count": 7,
   "metadata": {},
   "outputs": [],
   "source": [
    "results = dict(opt.cv_results_)\n",
    "for key, value in results.items():\n",
    "    if isinstance(value, np.ndarray):\n",
    "        results[key] = value.tolist()\n",
    "best_params = dict(opt.best_params_)\n",
    "for key, value in best_params.items():\n",
    "    if isinstance(value, np.ndarray):\n",
    "        best_params[key] = value.tolist()\n",
    "results[\"best_params\"] = best_params\n",
    "with open(\"training//results//\" + str(run_id) + \"//\" + str(run_id) + \"_cv_results_.json\", \"w\") as f:\n",
    "    json.dump(results, f)"
   ]
  },
  {
   "cell_type": "markdown",
   "metadata": {},
   "source": [
    "initial_number_of_circuits = 20\n",
    "number_of_circuits_to_add = 20\n",
    "total_number_of_circuits = len(data_preparator.get_training_data_labels())\n",
    "\n",
    "trainer = SQL2CircuitsEstimator(run_id, \n",
    "                              workload = \"cardinality\", \n",
    "                              a = 0.001, \n",
    "                              c = 0.001, \n",
    "                              classification = 2, \n",
    "                              optimization_method = \"SPSA\")\n",
    "\n",
    "for i in range(initial_number_of_circuits, total_number_of_circuits, number_of_circuits_to_add):\n",
    "    sf = SampleFeaturePreparator(data_preparator, circuits, i)\n",
    "    X_train = sf.get_X_train()\n",
    "    X_valid = sf.get_X_valid()\n",
    "    y = sf.get_y()\n",
    "\n",
    "    trainer.fit_with_lambeq_noisyopt(X_train, y, X_valid = X_valid, save_parameters = True)\n",
    "    #trainer.evaluate\n",
    "    \n",
    "sf = SampleFeaturePreparator(data_preparator, circuits, \"all\")\n",
    "X_train = sf.get_X_train()\n",
    "X_valid = sf.get_X_valid()\n",
    "y = sf.get_y()\n",
    "\n",
    "trainer.fit(X_train, y, X_valid = X_valid, save_parameters = True)\n"
   ]
  }
 ],
 "metadata": {
  "kernelspec": {
   "display_name": "Python 3",
   "language": "python",
   "name": "python3"
  },
  "language_info": {
   "codemirror_mode": {
    "name": "ipython",
    "version": 3
   },
   "file_extension": ".py",
   "mimetype": "text/x-python",
   "name": "python",
   "nbconvert_exporter": "python",
   "pygments_lexer": "ipython3",
   "version": "3.8.10"
  },
  "orig_nbformat": 4
 },
 "nbformat": 4,
 "nbformat_minor": 2
}
