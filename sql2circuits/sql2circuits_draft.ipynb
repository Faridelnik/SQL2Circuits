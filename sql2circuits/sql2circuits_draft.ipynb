{
 "cells": [
  {
   "cell_type": "markdown",
   "metadata": {},
   "source": [
    "### SQL2Circuits development notebook"
   ]
  },
  {
   "cell_type": "code",
   "execution_count": 1,
   "metadata": {},
   "outputs": [
    {
     "name": "stdout",
     "output_type": "stream",
     "text": [
      "Number of training queries is  398\n",
      "Number of test queries is  140\n",
      "Number of validation queries is  135\n",
      "cardinality\n",
      "Error while fetching data from PostgreSQL connection to server at \"localhost\" (127.0.0.1), port 5432 failed: Connection refused\n",
      "\tIs the server running on that host and accepting TCP/IP connections?\n",
      "\n"
     ]
    }
   ],
   "source": [
    "import os\n",
    "import json\n",
    "import numpy as np\n",
    "from data_preparation.queries import QueryGenerator\n",
    "from data_preparation.prepare import DataPreparation\n",
    "from data_preparation.database import Database\n",
    "from circuit_preparation.circuits import Circuits\n",
    "from training.train import SQL2CircuitsEstimator\n",
    "from training.sample_feature_preparation import SampleFeaturePreparator\n",
    "from skopt import BayesSearchCV\n",
    "from skopt.space import Real\n",
    "import jax\n",
    "jax.config.update(\"jax_enable_x64\", True)\n",
    "\n",
    "this_folder = os.path.abspath(os.getcwd())\n",
    "seed_paths = [\"data_preparation//query_seeds//JOB_query_seed_execution_time.json\",\n",
    "              \"data_preparation//query_seeds//JOB_query_seed_cardinality.json\"]\n",
    "workload_types = [\"execution_time\", \"cardinality\"]\n",
    "run_id = 1\n",
    "ty = 1\n",
    "workload_type = workload_types[ty]\n",
    "database = Database(\"IMDB\")\n",
    "generator = QueryGenerator(run_id, workload_type = \"cardinality\", database = \"IMDB\", query_seed_file_path = seed_paths[ty])\n",
    "query_file = generator.get_query_file()\n",
    "data_preparator = DataPreparation(run_id, query_file, database = database, workload_type = workload_type, classification = 2)\n"
   ]
  },
  {
   "cell_type": "code",
   "execution_count": 2,
   "metadata": {},
   "outputs": [],
   "source": [
    "this_folder = os.path.abspath(os.getcwd())\n",
    "output_folder = this_folder + \"//circuit_preparation//data//circuits//\" + str(run_id) + \"//\"\n",
    "if not os.path.exists(output_folder):\n",
    "    os.makedirs(output_folder)\n",
    "    print(\"The new directory: \", output_folder, \" is created.\")\n",
    "\n",
    "circuits = Circuits(run_id, query_file, output_folder, write_cfg_to_file = True, write_pregroup_to_file=True, generate_circuit_png_diagrams = True)\n",
    "circuits.execute_full_transformation()"
   ]
  },
  {
   "cell_type": "markdown",
   "metadata": {},
   "source": [
    "sf = SampleFeaturePreparator(run_id, data_preparator, circuits, \"all\")\n",
    "X_train = sf.get_X_train()\n",
    "X_valid = sf.get_X_valid()\n",
    "y = sf.get_y()\n",
    "\n",
    "opt = BayesSearchCV(SQL2CircuitsEstimator(run_id, \n",
    "                        workload = \"cardinality\",  \n",
    "                        classification = 2, \n",
    "                        optimization_method = \"SPSA\",\n",
    "                        epochs = 500), \n",
    "                        { 'a': Real(1e-5, 10, 'uniform'), \n",
    "                         'c': Real(1e-5, 10, 'uniform') }, \n",
    "                         n_iter = 5,\n",
    "                         n_jobs = 3,\n",
    "                         n_points = 3)\n",
    "\n",
    "opt.fit(X_train, y, X_valid = X_valid)"
   ]
  },
  {
   "cell_type": "markdown",
   "metadata": {},
   "source": [
    "results = dict(opt.cv_results_)\n",
    "for key, value in results.items():\n",
    "    if isinstance(value, np.ndarray):\n",
    "        results[key] = value.tolist()\n",
    "best_params = dict(opt.best_params_)\n",
    "for key, value in best_params.items():\n",
    "    if isinstance(value, np.ndarray):\n",
    "        best_params[key] = value.tolist()\n",
    "results[\"best_params\"] = best_params\n",
    "with open(\"training//results//\" + str(run_id) + \"//\" + str(run_id) + \"_cv_results_.json\", \"w\") as f:\n",
    "    json.dump(results, f)"
   ]
  },
  {
   "cell_type": "code",
   "execution_count": 3,
   "metadata": {},
   "outputs": [
    {
     "name": "stderr",
     "output_type": "stream",
     "text": [
      "id: 1\n",
      "a: 0.001\n",
      "c: 0.001\n",
      "epochs: 1000\n",
      "classification: 4\n",
      "workload: cardinality\n",
      "optimization_medthod: Pennylane\n",
      "\n"
     ]
    },
    {
     "name": "stdout",
     "output_type": "stream",
     "text": [
      "Initializing new parameters\n",
      "138\n",
      "Number of training circuits:  20\n",
      "Number of current validation circuits:  20\n"
     ]
    },
    {
     "ename": "IndexError",
     "evalue": "index 149 is out of bounds for axis 0 with size 138",
     "output_type": "error",
     "traceback": [
      "\u001b[0;31m---------------------------------------------------------------------------\u001b[0m",
      "\u001b[0;31mIndexError\u001b[0m                                Traceback (most recent call last)",
      "\u001b[1;32m/home/valter/quantum-computing-for-database-query-languages/sql2circuits/sql2circuits_draft.ipynb Cell 6\u001b[0m in \u001b[0;36m<cell line: 12>\u001b[0;34m()\u001b[0m\n\u001b[1;32m     <a href='vscode-notebook-cell://wsl%2Bubuntu/home/valter/quantum-computing-for-database-query-languages/sql2circuits/sql2circuits_draft.ipynb#W6sdnNjb2RlLXJlbW90ZQ%3D%3D?line=15'>16</a>\u001b[0m     y \u001b[39m=\u001b[39m sf\u001b[39m.\u001b[39mget_y()\n\u001b[1;32m     <a href='vscode-notebook-cell://wsl%2Bubuntu/home/valter/quantum-computing-for-database-query-languages/sql2circuits/sql2circuits_draft.ipynb#W6sdnNjb2RlLXJlbW90ZQ%3D%3D?line=17'>18</a>\u001b[0m     \u001b[39m#trainer.fit_with_lambeq_noisyopt(X_train, y, X_valid = X_valid, save_parameters = True)\u001b[39;00m\n\u001b[0;32m---> <a href='vscode-notebook-cell://wsl%2Bubuntu/home/valter/quantum-computing-for-database-query-languages/sql2circuits/sql2circuits_draft.ipynb#W6sdnNjb2RlLXJlbW90ZQ%3D%3D?line=18'>19</a>\u001b[0m     trainer\u001b[39m.\u001b[39;49mfit_with_pennylane_noisyopt(X_train, y, X_valid, save_parameters \u001b[39m=\u001b[39;49m \u001b[39mTrue\u001b[39;49;00m)\n\u001b[1;32m     <a href='vscode-notebook-cell://wsl%2Bubuntu/home/valter/quantum-computing-for-database-query-languages/sql2circuits/sql2circuits_draft.ipynb#W6sdnNjb2RlLXJlbW90ZQ%3D%3D?line=19'>20</a>\u001b[0m     \u001b[39m#trainer.evaluate\u001b[39;00m\n\u001b[1;32m     <a href='vscode-notebook-cell://wsl%2Bubuntu/home/valter/quantum-computing-for-database-query-languages/sql2circuits/sql2circuits_draft.ipynb#W6sdnNjb2RlLXJlbW90ZQ%3D%3D?line=20'>21</a>\u001b[0m \n\u001b[1;32m     <a href='vscode-notebook-cell://wsl%2Bubuntu/home/valter/quantum-computing-for-database-query-languages/sql2circuits/sql2circuits_draft.ipynb#W6sdnNjb2RlLXJlbW90ZQ%3D%3D?line=21'>22</a>\u001b[0m \u001b[39m# Train for the last time with all the data\u001b[39;00m\n\u001b[1;32m     <a href='vscode-notebook-cell://wsl%2Bubuntu/home/valter/quantum-computing-for-database-query-languages/sql2circuits/sql2circuits_draft.ipynb#W6sdnNjb2RlLXJlbW90ZQ%3D%3D?line=22'>23</a>\u001b[0m sf \u001b[39m=\u001b[39m SampleFeaturePreparator(run_id, data_preparator, circuits, \u001b[39m\"\u001b[39m\u001b[39mall\u001b[39m\u001b[39m\"\u001b[39m, \u001b[39m\"\u001b[39m\u001b[39mpennylane\u001b[39m\u001b[39m\"\u001b[39m)\n",
      "File \u001b[0;32m~/quantum-computing-for-database-query-languages/sql2circuits/training/train.py:247\u001b[0m, in \u001b[0;36mSQL2CircuitsEstimator.fit_with_pennylane_noisyopt\u001b[0;34m(self, X, y, X_valid, save_parameters)\u001b[0m\n\u001b[1;32m    243\u001b[0m dev_cost_fn \u001b[39m=\u001b[39m make_pennylane_cost_fn(dev_pred_fn, current_validation_labels, \u001b[39mself\u001b[39m\u001b[39m.\u001b[39mloss_function, \u001b[39mself\u001b[39m\u001b[39m.\u001b[39maccuracy, costs_accuracies, \u001b[39m\"\u001b[39m\u001b[39mdev\u001b[39m\u001b[39m\"\u001b[39m)\n\u001b[1;32m    245\u001b[0m callback_fn \u001b[39m=\u001b[39m \u001b[39mself\u001b[39m\u001b[39m.\u001b[39mmake_callback_fn(dev_cost_fn, costs_accuracies)\n\u001b[0;32m--> 247\u001b[0m \u001b[39mself\u001b[39m\u001b[39m.\u001b[39mresult \u001b[39m=\u001b[39m minimizeSPSA(train_cost_fn,\n\u001b[1;32m    248\u001b[0m                            x0 \u001b[39m=\u001b[39;49m \u001b[39mself\u001b[39;49m\u001b[39m.\u001b[39;49minit_params_spsa,\n\u001b[1;32m    249\u001b[0m                            a \u001b[39m=\u001b[39;49m \u001b[39mself\u001b[39;49m\u001b[39m.\u001b[39;49ma,\n\u001b[1;32m    250\u001b[0m                            c \u001b[39m=\u001b[39;49m \u001b[39mself\u001b[39;49m\u001b[39m.\u001b[39;49mc,\n\u001b[1;32m    251\u001b[0m                            niter \u001b[39m=\u001b[39;49m \u001b[39mself\u001b[39;49m\u001b[39m.\u001b[39;49mepochs,\n\u001b[1;32m    252\u001b[0m                            callback \u001b[39m=\u001b[39;49m callback_fn)\n\u001b[1;32m    254\u001b[0m \u001b[39mif\u001b[39;00m save_parameters:\n\u001b[1;32m    255\u001b[0m     \u001b[39mself\u001b[39m\u001b[39m.\u001b[39mstore_parameters(\u001b[39mself\u001b[39m\u001b[39m.\u001b[39mresult\u001b[39m.\u001b[39mx)\n",
      "File \u001b[0;32m~/.local/lib/python3.8/site-packages/noisyopt/main.py:320\u001b[0m, in \u001b[0;36mminimizeSPSA\u001b[0;34m(func, x0, args, bounds, niter, paired, a, c, disp, callback)\u001b[0m\n\u001b[1;32m    318\u001b[0m     fkwargs[\u001b[39m'\u001b[39m\u001b[39mseed\u001b[39m\u001b[39m'\u001b[39m] \u001b[39m=\u001b[39m np\u001b[39m.\u001b[39mrandom\u001b[39m.\u001b[39mrandint(\u001b[39m0\u001b[39m, np\u001b[39m.\u001b[39miinfo(np\u001b[39m.\u001b[39muint32)\u001b[39m.\u001b[39mmax)\n\u001b[1;32m    319\u001b[0m \u001b[39mif\u001b[39;00m bounds \u001b[39mis\u001b[39;00m \u001b[39mNone\u001b[39;00m:\n\u001b[0;32m--> 320\u001b[0m     grad \u001b[39m=\u001b[39m (funcf(x \u001b[39m+\u001b[39;49m ck\u001b[39m*\u001b[39;49mdelta, \u001b[39m*\u001b[39;49m\u001b[39m*\u001b[39;49mfkwargs) \u001b[39m-\u001b[39m funcf(x \u001b[39m-\u001b[39m ck\u001b[39m*\u001b[39mdelta, \u001b[39m*\u001b[39m\u001b[39m*\u001b[39mfkwargs)) \u001b[39m/\u001b[39m (\u001b[39m2\u001b[39m\u001b[39m*\u001b[39mck\u001b[39m*\u001b[39mdelta)\n\u001b[1;32m    321\u001b[0m \u001b[39melse\u001b[39;00m:\n\u001b[1;32m    322\u001b[0m     \u001b[39m# ensure evaluation points are feasible\u001b[39;00m\n\u001b[1;32m    323\u001b[0m     xplus \u001b[39m=\u001b[39m project(x \u001b[39m+\u001b[39m ck\u001b[39m*\u001b[39mdelta)\n",
      "File \u001b[0;32m~/.local/lib/python3.8/site-packages/noisyopt/main.py:308\u001b[0m, in \u001b[0;36mminimizeSPSA.<locals>.funcf\u001b[0;34m(x, **kwargs)\u001b[0m\n\u001b[1;32m    307\u001b[0m \u001b[39mdef\u001b[39;00m \u001b[39mfuncf\u001b[39m(x, \u001b[39m*\u001b[39m\u001b[39m*\u001b[39mkwargs):\n\u001b[0;32m--> 308\u001b[0m     \u001b[39mreturn\u001b[39;00m func(x, \u001b[39m*\u001b[39;49margs, \u001b[39m*\u001b[39;49m\u001b[39m*\u001b[39;49mkwargs)\n",
      "File \u001b[0;32m~/quantum-computing-for-database-query-languages/sql2circuits/training/trainers/pennylane_trainer.py:196\u001b[0m, in \u001b[0;36mmake_pennylane_cost_fn.<locals>.cost_fn\u001b[0;34m(params, **kwargs)\u001b[0m\n\u001b[1;32m    195\u001b[0m \u001b[39mdef\u001b[39;00m \u001b[39mcost_fn\u001b[39m(params, \u001b[39m*\u001b[39m\u001b[39m*\u001b[39mkwargs):\n\u001b[0;32m--> 196\u001b[0m     predictions \u001b[39m=\u001b[39m pred_fn(params)\n\u001b[1;32m    197\u001b[0m     cost \u001b[39m=\u001b[39m loss_fn(predictions, labels)\n\u001b[1;32m    198\u001b[0m     accuracy \u001b[39m=\u001b[39m accuracy_fn(predictions, labels)\n",
      "File \u001b[0;32m~/quantum-computing-for-database-query-languages/sql2circuits/training/trainers/pennylane_trainer.py:109\u001b[0m, in \u001b[0;36mmake_pennylane_pred_fn.<locals>.predict\u001b[0;34m(params)\u001b[0m\n\u001b[1;32m    107\u001b[0m n_qubits \u001b[39m=\u001b[39m pennylane_circuit\u001b[39m.\u001b[39mget_n_qubits()\n\u001b[1;32m    108\u001b[0m post_selected_samples \u001b[39m=\u001b[39m []\n\u001b[0;32m--> 109\u001b[0m measurement \u001b[39m=\u001b[39m circuit(params)\n\u001b[1;32m    110\u001b[0m post_selected_samples \u001b[39m=\u001b[39m post_selection(measurement, n_qubits, classification)\n\u001b[1;32m    111\u001b[0m post_selected_samples \u001b[39m=\u001b[39m [\u001b[39mtuple\u001b[39m(\u001b[39mmap\u001b[39m(\u001b[39mint\u001b[39m, t)) \u001b[39mfor\u001b[39;00m t \u001b[39min\u001b[39;00m post_selected_samples]\n",
      "File \u001b[0;32m~/.local/lib/python3.8/site-packages/pennylane/qnode.py:936\u001b[0m, in \u001b[0;36mQNode.__call__\u001b[0;34m(self, *args, **kwargs)\u001b[0m\n\u001b[1;32m    933\u001b[0m             kwargs[\u001b[39m\"\u001b[39m\u001b[39mshots\u001b[39m\u001b[39m\"\u001b[39m] \u001b[39m=\u001b[39m \u001b[39mNone\u001b[39;00m\n\u001b[1;32m    935\u001b[0m \u001b[39m# construct the tape\u001b[39;00m\n\u001b[0;32m--> 936\u001b[0m \u001b[39mself\u001b[39;49m\u001b[39m.\u001b[39;49mconstruct(args, kwargs)\n\u001b[1;32m    938\u001b[0m cache \u001b[39m=\u001b[39m \u001b[39mself\u001b[39m\u001b[39m.\u001b[39mexecute_kwargs\u001b[39m.\u001b[39mget(\u001b[39m\"\u001b[39m\u001b[39mcache\u001b[39m\u001b[39m\"\u001b[39m, \u001b[39mFalse\u001b[39;00m)\n\u001b[1;32m    939\u001b[0m using_custom_cache \u001b[39m=\u001b[39m (\n\u001b[1;32m    940\u001b[0m     \u001b[39mhasattr\u001b[39m(cache, \u001b[39m\"\u001b[39m\u001b[39m__getitem__\u001b[39m\u001b[39m\"\u001b[39m)\n\u001b[1;32m    941\u001b[0m     \u001b[39mand\u001b[39;00m \u001b[39mhasattr\u001b[39m(cache, \u001b[39m\"\u001b[39m\u001b[39m__setitem__\u001b[39m\u001b[39m\"\u001b[39m)\n\u001b[1;32m    942\u001b[0m     \u001b[39mand\u001b[39;00m \u001b[39mhasattr\u001b[39m(cache, \u001b[39m\"\u001b[39m\u001b[39m__delitem__\u001b[39m\u001b[39m\"\u001b[39m)\n\u001b[1;32m    943\u001b[0m )\n",
      "File \u001b[0;32m~/.local/lib/python3.8/site-packages/pennylane/qnode.py:827\u001b[0m, in \u001b[0;36mQNode.construct\u001b[0;34m(self, args, kwargs)\u001b[0m\n\u001b[1;32m    824\u001b[0m \u001b[39mif\u001b[39;00m old_interface \u001b[39m==\u001b[39m \u001b[39m\"\u001b[39m\u001b[39mauto\u001b[39m\u001b[39m\"\u001b[39m:\n\u001b[1;32m    825\u001b[0m     \u001b[39mself\u001b[39m\u001b[39m.\u001b[39minterface \u001b[39m=\u001b[39m qml\u001b[39m.\u001b[39mmath\u001b[39m.\u001b[39mget_interface(\u001b[39m*\u001b[39margs, \u001b[39m*\u001b[39m\u001b[39mlist\u001b[39m(kwargs\u001b[39m.\u001b[39mvalues()))\n\u001b[0;32m--> 827\u001b[0m \u001b[39mself\u001b[39m\u001b[39m.\u001b[39m_tape \u001b[39m=\u001b[39m make_qscript(\u001b[39mself\u001b[39;49m\u001b[39m.\u001b[39;49mfunc, shots)(\u001b[39m*\u001b[39;49margs, \u001b[39m*\u001b[39;49m\u001b[39m*\u001b[39;49mkwargs)\n\u001b[1;32m    828\u001b[0m \u001b[39mself\u001b[39m\u001b[39m.\u001b[39m_qfunc_output \u001b[39m=\u001b[39m \u001b[39mself\u001b[39m\u001b[39m.\u001b[39mtape\u001b[39m.\u001b[39m_qfunc_output\n\u001b[1;32m    830\u001b[0m params \u001b[39m=\u001b[39m \u001b[39mself\u001b[39m\u001b[39m.\u001b[39mtape\u001b[39m.\u001b[39mget_parameters(trainable_only\u001b[39m=\u001b[39m\u001b[39mFalse\u001b[39;00m)\n",
      "File \u001b[0;32m~/.local/lib/python3.8/site-packages/pennylane/tape/qscript.py:1482\u001b[0m, in \u001b[0;36mmake_qscript.<locals>.wrapper\u001b[0;34m(*args, **kwargs)\u001b[0m\n\u001b[1;32m   1480\u001b[0m \u001b[39mdef\u001b[39;00m \u001b[39mwrapper\u001b[39m(\u001b[39m*\u001b[39margs, \u001b[39m*\u001b[39m\u001b[39m*\u001b[39mkwargs):\n\u001b[1;32m   1481\u001b[0m     \u001b[39mwith\u001b[39;00m AnnotatedQueue() \u001b[39mas\u001b[39;00m q:\n\u001b[0;32m-> 1482\u001b[0m         result \u001b[39m=\u001b[39m fn(\u001b[39m*\u001b[39;49margs, \u001b[39m*\u001b[39;49m\u001b[39m*\u001b[39;49mkwargs)\n\u001b[1;32m   1484\u001b[0m     qscript \u001b[39m=\u001b[39m QuantumScript\u001b[39m.\u001b[39mfrom_queue(q, shots)\n\u001b[1;32m   1485\u001b[0m     qscript\u001b[39m.\u001b[39m_qfunc_output \u001b[39m=\u001b[39m result\n",
      "File \u001b[0;32m~/quantum-computing-for-database-query-languages/sql2circuits/training/trainers/pennylane_trainer.py:37\u001b[0m, in \u001b[0;36mPennylaneCircuit.qml_circuit\u001b[0;34m(self, circ_params)\u001b[0m\n\u001b[1;32m     34\u001b[0m     param \u001b[39m=\u001b[39m param[\u001b[39m0\u001b[39m]\n\u001b[1;32m     35\u001b[0m     \u001b[39m#print(circ_params)\u001b[39;00m\n\u001b[1;32m     36\u001b[0m     \u001b[39m#print(self.symbol_to_index)\u001b[39;00m\n\u001b[0;32m---> 37\u001b[0m     op(circ_params[\u001b[39mself\u001b[39;49m\u001b[39m.\u001b[39;49msymbol_to_index[param]], wires \u001b[39m=\u001b[39m wires)\n\u001b[1;32m     38\u001b[0m \u001b[39melse\u001b[39;00m:\n\u001b[1;32m     39\u001b[0m     op(wires \u001b[39m=\u001b[39m wires)\n",
      "\u001b[0;31mIndexError\u001b[0m: index 149 is out of bounds for axis 0 with size 138"
     ]
    }
   ],
   "source": [
    "initial_number_of_circuits = 20\n",
    "number_of_circuits_to_add = 20\n",
    "total_number_of_circuits = len(data_preparator.get_training_data_labels())\n",
    "\n",
    "trainer = SQL2CircuitsEstimator(run_id, \n",
    "                              workload = \"cardinality\", \n",
    "                              a = 0.001, \n",
    "                              c = 0.001, \n",
    "                              classification = 2, \n",
    "                              optimization_method = \"Pennylane\")\n",
    "\n",
    "#for i in range(initial_number_of_circuits, total_number_of_circuits, number_of_circuits_to_add):\n",
    "#    sf = SampleFeaturePreparator(run_id, data_preparator, circuits, i, \"pennylane\")\n",
    "#    X_train = sf.get_X_train()\n",
    "#    X_valid = sf.get_X_valid()\n",
    "#    y = sf.get_y()\n",
    "\n",
    "    #trainer.fit_with_lambeq_noisyopt(X_train, y, X_valid = X_valid, save_parameters = True)\n",
    "#    trainer.fit_with_pennylane_noisyopt(X_train, y, X_valid, save_parameters = True)\n",
    "    #trainer.evaluate\n",
    "\n",
    "# Train for the last time with all the data\n",
    "sf = SampleFeaturePreparator(run_id, data_preparator, circuits, \"all\", \"pennylane\")\n",
    "X_train = sf.get_X_train()\n",
    "X_valid = sf.get_X_valid()\n",
    "y = sf.get_y()\n",
    "\n",
    "trainer.fit_with_pennylane_noisyopt(X_train, y, X_valid = X_valid, save_parameters = True)\n"
   ]
  },
  {
   "cell_type": "code",
   "execution_count": null,
   "metadata": {},
   "outputs": [
    {
     "name": "stdout",
     "output_type": "stream",
     "text": [
      "[tensor(0.87758256, requires_grad=True), tensor(0.87758256, requires_grad=True), tensor(0.87758256, requires_grad=True)]\n"
     ]
    }
   ],
   "source": [
    "import multiprocessing as mp\n",
    "import pennylane as qml\n",
    "\n",
    "# Define a function that executes a PennyLane circuit\n",
    "def execute_circuit(circuit):\n",
    "    dev = qml.device('default.qubit', wires=2)\n",
    "    @qml.qnode(dev)\n",
    "    def qnode():\n",
    "        qml.RX(0.5, wires=0)\n",
    "        qml.CNOT([0, 1])\n",
    "        qml.RY(-0.2, wires=1)\n",
    "        return qml.expval(qml.PauliZ(0))\n",
    "    return qnode()\n",
    "\n",
    "# Define a function that executes a list of PennyLane circuits in parallel\n",
    "def execute_circuits_parallel(circuits):\n",
    "    with mp.Pool(processes=2) as pool:\n",
    "        results = pool.map(execute_circuit, circuits)\n",
    "    return results\n",
    "\n",
    "# Execute the list of PennyLane circuits in parallel\n",
    "results = execute_circuits_parallel(circuits)\n",
    "\n",
    "print(results)"
   ]
  }
 ],
 "metadata": {
  "kernelspec": {
   "display_name": "Python 3",
   "language": "python",
   "name": "python3"
  },
  "language_info": {
   "codemirror_mode": {
    "name": "ipython",
    "version": 3
   },
   "file_extension": ".py",
   "mimetype": "text/x-python",
   "name": "python",
   "nbconvert_exporter": "python",
   "pygments_lexer": "ipython3",
   "version": "3.8.10"
  },
  "orig_nbformat": 4
 },
 "nbformat": 4,
 "nbformat_minor": 2
}
