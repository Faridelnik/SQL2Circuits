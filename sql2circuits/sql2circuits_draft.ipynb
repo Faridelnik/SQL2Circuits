{
 "cells": [
  {
   "cell_type": "markdown",
   "metadata": {},
   "source": [
    "# SQL2Circuits development notebook"
   ]
  },
  {
   "cell_type": "code",
   "execution_count": 1,
   "metadata": {},
   "outputs": [],
   "source": [
    "import os\n",
    "from data_preparation.queries import QueryGenerator\n",
    "from data_preparation.prepare import DataPreparation\n",
    "from data_preparation.database import Database\n",
    "\n",
    "this_folder = os.path.abspath(os.getcwd())\n",
    "seed_paths = [\"data_preparation//query_seeds//JOB_query_seed_execution_time.json\",\n",
    "              \"data_preparation//query_seeds//JOB_query_seed_cardinality.json\"]\n",
    "workload_types = [\"E\", \"C\"]\n",
    "\n",
    "run_id = 1\n",
    "ty = 1\n",
    "workload_type = workload_types[ty]\n",
    "database = Database(\"IMDB\")\n",
    "generator = QueryGenerator(run_id, database = \"IMDB\", workload_type = workload_type, query_seed_file_path = seed_paths[ty])\n",
    "\n",
    "query_file = generator.get_query_file()\n",
    "#data_preparator = DataPreparation(run_id, query_file, database = database, workload_type = workload_type)\n"
   ]
  },
  {
   "cell_type": "code",
   "execution_count": 2,
   "metadata": {},
   "outputs": [
    {
     "name": "stderr",
     "output_type": "stream",
     "text": [
      "c:\\Users\\valte\\AppData\\Local\\Programs\\Python\\Python310\\lib\\site-packages\\lambeq\\text2diagram\\ccg_parser.py:24: TqdmExperimentalWarning: Using `tqdm.autonotebook.tqdm` in notebook mode. Use `tqdm.tqdm` instead to force console mode (e.g. in jupyter console)\n",
      "  from tqdm.autonotebook import tqdm\n"
     ]
    }
   ],
   "source": [
    "from circuit_preparation.circuits import Circuits\n",
    "import os\n",
    "\n",
    "this_folder = os.path.abspath(os.getcwd())\n",
    "output_folder = this_folder + \"//circuit_preparation//data//circuits//\" + str(run_id) + \"//\"\n",
    "if not os.path.exists(output_folder):\n",
    "    os.makedirs(output_folder)\n",
    "    print(\"The new directory: \", output_folder, \" is created.\")\n",
    "\n",
    "circuits = Circuits(run_id, query_file, output_folder, write_cfg_to_file = True, write_pregroup_to_file=True, generate_circuit_png_diagrams = True)\n",
    "circuits.generate_cfg_diagrams()\n",
    "circuits.generate_pregroup_diagrams()\n",
    "circuits.generate_capless_pregroup_diagrams()\n",
    "circuits.genereate_circuit_diagrams()\n"
   ]
  },
  {
   "cell_type": "code",
   "execution_count": null,
   "metadata": {},
   "outputs": [],
   "source": []
  }
 ],
 "metadata": {
  "kernelspec": {
   "display_name": "Python 3",
   "language": "python",
   "name": "python3"
  },
  "language_info": {
   "codemirror_mode": {
    "name": "ipython",
    "version": 3
   },
   "file_extension": ".py",
   "mimetype": "text/x-python",
   "name": "python",
   "nbconvert_exporter": "python",
   "pygments_lexer": "ipython3",
   "version": "3.10.8"
  },
  "orig_nbformat": 4
 },
 "nbformat": 4,
 "nbformat_minor": 2
}
