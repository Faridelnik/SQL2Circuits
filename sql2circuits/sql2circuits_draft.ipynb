{
 "cells": [
  {
   "cell_type": "markdown",
   "metadata": {},
   "source": [
    "# SQL2Circuits development notebook"
   ]
  },
  {
   "cell_type": "code",
   "execution_count": 1,
   "metadata": {},
   "outputs": [
    {
     "name": "stdout",
     "output_type": "stream",
     "text": [
      "Number of training queries is  398\n",
      "Number of test queries is  140\n",
      "Number of validation queries is  135\n",
      "Error while fetching data from PostgreSQL connection to server at \"localhost\" (127.0.0.1), port 5432 failed: Connection refused\n",
      "\tIs the server running on that host and accepting TCP/IP connections?\n",
      "\n"
     ]
    }
   ],
   "source": [
    "import os\n",
    "from data_preparation.queries import QueryGenerator\n",
    "from data_preparation.prepare import DataPreparation\n",
    "from data_preparation.database import Database\n",
    "from circuit_preparation.circuits import Circuits\n",
    "import os\n",
    "from training.train import SQL2CircuitsTrainer\n",
    "\n",
    "\n",
    "this_folder = os.path.abspath(os.getcwd())\n",
    "seed_paths = [\"data_preparation//query_seeds//JOB_query_seed_execution_time.json\",\n",
    "              \"data_preparation//query_seeds//JOB_query_seed_cardinality.json\"]\n",
    "workload_types = [\"E\", \"C\"]\n",
    "\n",
    "run_id = 1\n",
    "ty = 1\n",
    "workload_type = workload_types[ty]\n",
    "database = Database(\"IMDB\")\n",
    "generator = QueryGenerator(run_id, database = \"IMDB\", workload_type = workload_type, query_seed_file_path = seed_paths[ty])\n",
    "\n",
    "query_file = generator.get_query_file()\n",
    "data_preparator = DataPreparation(run_id, query_file, database = database, workload_type = workload_type)\n"
   ]
  },
  {
   "cell_type": "code",
   "execution_count": 2,
   "metadata": {},
   "outputs": [],
   "source": [
    "this_folder = os.path.abspath(os.getcwd())\n",
    "output_folder = this_folder + \"//circuit_preparation//data//circuits//\" + str(run_id) + \"//\"\n",
    "if not os.path.exists(output_folder):\n",
    "    os.makedirs(output_folder)\n",
    "    print(\"The new directory: \", output_folder, \" is created.\")\n",
    "\n",
    "circuits = Circuits(run_id, query_file, output_folder, write_cfg_to_file = True, write_pregroup_to_file=True, generate_circuit_png_diagrams = True)\n",
    "circuits.execute_full_transformation()\n"
   ]
  },
  {
   "cell_type": "code",
   "execution_count": 3,
   "metadata": {},
   "outputs": [
    {
     "name": "stderr",
     "output_type": "stream",
     "text": [
      "id: 1\n",
      "a: 0.01\n",
      "c: 0.01\n",
      "epochs: 1000\n",
      "initial_number_of_circuits: 20\n",
      "classification: 4\n",
      "workload: cardinality\n",
      "optimization_medthod: SPSA\n",
      "\n"
     ]
    },
    {
     "name": "stdout",
     "output_type": "stream",
     "text": [
      "Initializing new parameters\n",
      "Progress:  0.052\n"
     ]
    },
    {
     "name": "stderr",
     "output_type": "stream",
     "text": [
      "number_of_training_circuits: 21\n",
      "number_of_validation_circuits: 51\n",
      "number_of_test_circuits: 57\n",
      "number_of_parameters_in_model: 138\n",
      "\n"
     ]
    },
    {
     "ename": "NameError",
     "evalue": "free variable 'costs' referenced before assignment in enclosing scope",
     "output_type": "error",
     "traceback": [
      "\u001b[0;31m---------------------------------------------------------------------------\u001b[0m",
      "\u001b[0;31mNameError\u001b[0m                                 Traceback (most recent call last)",
      "\u001b[1;32m/home/valter/quantum-computing-for-database-query-languages/sql2circuits/sql2circuits_draft.ipynb Cell 4\u001b[0m in \u001b[0;36m<cell line: 2>\u001b[0;34m()\u001b[0m\n\u001b[1;32m      <a href='vscode-notebook-cell://wsl%2Bubuntu/home/valter/quantum-computing-for-database-query-languages/sql2circuits/sql2circuits_draft.ipynb#W3sdnNjb2RlLXJlbW90ZQ%3D%3D?line=0'>1</a>\u001b[0m trainer \u001b[39m=\u001b[39m SQL2CircuitsTrainer(run_id, circuits, data_preparator, workload \u001b[39m=\u001b[39m \u001b[39m\"\u001b[39m\u001b[39mcardinality\u001b[39m\u001b[39m\"\u001b[39m, classification \u001b[39m=\u001b[39m \u001b[39m2\u001b[39m)\n\u001b[0;32m----> <a href='vscode-notebook-cell://wsl%2Bubuntu/home/valter/quantum-computing-for-database-query-languages/sql2circuits/sql2circuits_draft.ipynb#W3sdnNjb2RlLXJlbW90ZQ%3D%3D?line=1'>2</a>\u001b[0m trainer\u001b[39m.\u001b[39;49mtrain()\n",
      "File \u001b[0;32m~/quantum-computing-for-database-query-languages/sql2circuits/training/train.py:277\u001b[0m, in \u001b[0;36mSQL2CircuitsTrainer.train\u001b[0;34m(self)\u001b[0m\n\u001b[1;32m    274\u001b[0m callback_fn \u001b[39m=\u001b[39m \u001b[39mself\u001b[39m\u001b[39m.\u001b[39mmake_callback_fn(i, dev_cost_fn, train_costs, train_accs, dev_accs)\n\u001b[1;32m    276\u001b[0m \u001b[39m# Actual optimization\u001b[39;00m\n\u001b[0;32m--> 277\u001b[0m \u001b[39mself\u001b[39m\u001b[39m.\u001b[39mresult \u001b[39m=\u001b[39m minimizeSPSA(train_cost_fn,\n\u001b[1;32m    278\u001b[0m                       x0 \u001b[39m=\u001b[39;49m \u001b[39mself\u001b[39;49m\u001b[39m.\u001b[39;49minit_params_spsa,\n\u001b[1;32m    279\u001b[0m                       a \u001b[39m=\u001b[39;49m \u001b[39mself\u001b[39;49m\u001b[39m.\u001b[39;49ma,\n\u001b[1;32m    280\u001b[0m                       c \u001b[39m=\u001b[39;49m \u001b[39mself\u001b[39;49m\u001b[39m.\u001b[39;49mc,\n\u001b[1;32m    281\u001b[0m                       niter \u001b[39m=\u001b[39;49m \u001b[39mself\u001b[39;49m\u001b[39m.\u001b[39;49mepochs,\n\u001b[1;32m    282\u001b[0m                       callback \u001b[39m=\u001b[39;49m callback_fn)\n\u001b[1;32m    284\u001b[0m \u001b[39m\"\"\"self.result = minimizeCompass(train_cost_fn, \u001b[39;00m\n\u001b[1;32m    285\u001b[0m \u001b[39m                              x0 = self.init_params_spsa,\u001b[39;00m\n\u001b[1;32m    286\u001b[0m \u001b[39m                              redfactor=2.0, \u001b[39;00m\n\u001b[0;32m   (...)\u001b[0m\n\u001b[1;32m    294\u001b[0m \u001b[39m                              alpha=0.05, \u001b[39;00m\n\u001b[1;32m    295\u001b[0m \u001b[39m                              callback=callback_fn)\"\"\"\u001b[39;00m\n\u001b[1;32m    297\u001b[0m \u001b[39m# Visualize the result\u001b[39;00m\n",
      "File \u001b[0;32m~/.local/lib/python3.8/site-packages/noisyopt/main.py:320\u001b[0m, in \u001b[0;36mminimizeSPSA\u001b[0;34m(func, x0, args, bounds, niter, paired, a, c, disp, callback)\u001b[0m\n\u001b[1;32m    318\u001b[0m     fkwargs[\u001b[39m'\u001b[39m\u001b[39mseed\u001b[39m\u001b[39m'\u001b[39m] \u001b[39m=\u001b[39m np\u001b[39m.\u001b[39mrandom\u001b[39m.\u001b[39mrandint(\u001b[39m0\u001b[39m, np\u001b[39m.\u001b[39miinfo(np\u001b[39m.\u001b[39muint32)\u001b[39m.\u001b[39mmax)\n\u001b[1;32m    319\u001b[0m \u001b[39mif\u001b[39;00m bounds \u001b[39mis\u001b[39;00m \u001b[39mNone\u001b[39;00m:\n\u001b[0;32m--> 320\u001b[0m     grad \u001b[39m=\u001b[39m (funcf(x \u001b[39m+\u001b[39;49m ck\u001b[39m*\u001b[39;49mdelta, \u001b[39m*\u001b[39;49m\u001b[39m*\u001b[39;49mfkwargs) \u001b[39m-\u001b[39m funcf(x \u001b[39m-\u001b[39m ck\u001b[39m*\u001b[39mdelta, \u001b[39m*\u001b[39m\u001b[39m*\u001b[39mfkwargs)) \u001b[39m/\u001b[39m (\u001b[39m2\u001b[39m\u001b[39m*\u001b[39mck\u001b[39m*\u001b[39mdelta)\n\u001b[1;32m    321\u001b[0m \u001b[39melse\u001b[39;00m:\n\u001b[1;32m    322\u001b[0m     \u001b[39m# ensure evaluation points are feasible\u001b[39;00m\n\u001b[1;32m    323\u001b[0m     xplus \u001b[39m=\u001b[39m project(x \u001b[39m+\u001b[39m ck\u001b[39m*\u001b[39mdelta)\n",
      "File \u001b[0;32m~/.local/lib/python3.8/site-packages/noisyopt/main.py:308\u001b[0m, in \u001b[0;36mminimizeSPSA.<locals>.funcf\u001b[0;34m(x, **kwargs)\u001b[0m\n\u001b[1;32m    307\u001b[0m \u001b[39mdef\u001b[39;00m \u001b[39mfuncf\u001b[39m(x, \u001b[39m*\u001b[39m\u001b[39m*\u001b[39mkwargs):\n\u001b[0;32m--> 308\u001b[0m     \u001b[39mreturn\u001b[39;00m func(x, \u001b[39m*\u001b[39;49margs, \u001b[39m*\u001b[39;49m\u001b[39m*\u001b[39;49mkwargs)\n",
      "File \u001b[0;32m~/.local/lib/python3.8/site-packages/covalent/_workflow/electron.py:738\u001b[0m, in \u001b[0;36melectron.<locals>.decorator_electron.<locals>.wrapper\u001b[0;34m(*args, **kwargs)\u001b[0m\n\u001b[1;32m    736\u001b[0m \u001b[39m@wraps\u001b[39m(func)\n\u001b[1;32m    737\u001b[0m \u001b[39mdef\u001b[39;00m \u001b[39mwrapper\u001b[39m(\u001b[39m*\u001b[39margs, \u001b[39m*\u001b[39m\u001b[39m*\u001b[39mkwargs):\n\u001b[0;32m--> 738\u001b[0m     \u001b[39mreturn\u001b[39;00m electron_object(\u001b[39m*\u001b[39;49margs, \u001b[39m*\u001b[39;49m\u001b[39m*\u001b[39;49mkwargs)\n",
      "File \u001b[0;32m~/.local/lib/python3.8/site-packages/covalent/_workflow/electron.py:375\u001b[0m, in \u001b[0;36mElectron.__call__\u001b[0;34m(self, *args, **kwargs)\u001b[0m\n\u001b[1;32m    373\u001b[0m active_lattice \u001b[39m=\u001b[39m active_lattice_manager\u001b[39m.\u001b[39mget_active_lattice()\n\u001b[1;32m    374\u001b[0m \u001b[39mif\u001b[39;00m active_lattice \u001b[39mis\u001b[39;00m \u001b[39mNone\u001b[39;00m:\n\u001b[0;32m--> 375\u001b[0m     \u001b[39mreturn\u001b[39;00m \u001b[39mself\u001b[39;49m\u001b[39m.\u001b[39;49mfunction(\u001b[39m*\u001b[39;49margs, \u001b[39m*\u001b[39;49m\u001b[39m*\u001b[39;49mkwargs)\n\u001b[1;32m    377\u001b[0m \u001b[39mif\u001b[39;00m active_lattice\u001b[39m.\u001b[39mpost_processing:\n\u001b[1;32m    378\u001b[0m     output \u001b[39m=\u001b[39m active_lattice\u001b[39m.\u001b[39melectron_outputs[\u001b[39m0\u001b[39m]\n",
      "File \u001b[0;32m~/.local/lib/python3.8/site-packages/covalent/_workflow/lattice.py:278\u001b[0m, in \u001b[0;36mLattice.__call__\u001b[0;34m(self, *args, **kwargs)\u001b[0m\n\u001b[1;32m    275\u001b[0m \u001b[39m\"\"\"Execute lattice as an ordinary function for testing purposes.\"\"\"\u001b[39;00m\n\u001b[1;32m    277\u001b[0m workflow_function \u001b[39m=\u001b[39m \u001b[39mself\u001b[39m\u001b[39m.\u001b[39mworkflow_function\u001b[39m.\u001b[39mget_deserialized()\n\u001b[0;32m--> 278\u001b[0m \u001b[39mreturn\u001b[39;00m workflow_function(\u001b[39m*\u001b[39;49margs, \u001b[39m*\u001b[39;49m\u001b[39m*\u001b[39;49mkwargs)\n",
      "File \u001b[0;32m~/quantum-computing-for-database-query-languages/sql2circuits/training/train.py:184\u001b[0m, in \u001b[0;36mSQL2CircuitsTrainer.make_cost_fn.<locals>.cost_fn\u001b[0;34m(params, **kwargs)\u001b[0m\n\u001b[1;32m    182\u001b[0m cost \u001b[39m=\u001b[39m \u001b[39mself\u001b[39m\u001b[39m.\u001b[39mloss_function(predictions, labels)\n\u001b[1;32m    183\u001b[0m accuracy \u001b[39m=\u001b[39m \u001b[39mself\u001b[39m\u001b[39m.\u001b[39maccuracy(predictions, labels)\n\u001b[0;32m--> 184\u001b[0m costs\u001b[39m.\u001b[39mappend(cost)\n\u001b[1;32m    185\u001b[0m accuracies\u001b[39m.\u001b[39mappend(accuracy)\n\u001b[1;32m    186\u001b[0m \u001b[39mreturn\u001b[39;00m cost\n",
      "\u001b[0;31mNameError\u001b[0m: free variable 'costs' referenced before assignment in enclosing scope"
     ]
    }
   ],
   "source": [
    "trainer = SQL2CircuitsTrainer(run_id, circuits, data_preparator, workload = \"cardinality\", classification = 2)\n",
    "trainer.train()"
   ]
  }
 ],
 "metadata": {
  "kernelspec": {
   "display_name": "Python 3",
   "language": "python",
   "name": "python3"
  },
  "language_info": {
   "codemirror_mode": {
    "name": "ipython",
    "version": 3
   },
   "file_extension": ".py",
   "mimetype": "text/x-python",
   "name": "python",
   "nbconvert_exporter": "python",
   "pygments_lexer": "ipython3",
   "version": "3.8.10"
  },
  "orig_nbformat": 4
 },
 "nbformat": 4,
 "nbformat_minor": 2
}
