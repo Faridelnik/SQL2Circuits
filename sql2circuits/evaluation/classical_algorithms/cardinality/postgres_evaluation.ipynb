{
 "cells": [
  {
   "cell_type": "markdown",
   "id": "d8b3fb2e-aa9a-493c-a56e-e388000c0614",
   "metadata": {},
   "source": [
    "### Obtain cardinality estimations for the queries on PostgreSQL"
   ]
  },
  {
   "cell_type": "code",
   "execution_count": 1,
   "id": "14917330-4669-4b9c-93db-0b2dc8b42090",
   "metadata": {},
   "outputs": [
    {
     "name": "stdout",
     "output_type": "stream",
     "text": [
      "Number of training queries is  398\n",
      "Number of test queries is  140\n",
      "Number of validation queries is  135\n",
      "cardinality\n",
      "Data file is  C:\\Users\\valte\\OneDrive - University of Helsinki\\Desktop\\quantum-computing-for-database-query-languages\\sql2circuits//data_preparation//data//cardinality//1_data.json\n",
      "Classes:  [(0, 0), (0, 29757), (29757, 562860), (562860, 102555254)]\n",
      "{'training': 0.5762273901808785, 'test': 0.6204379562043796, 'validation': 0.6766917293233082}\n"
     ]
    }
   ],
   "source": [
    "import os\n",
    "import sys\n",
    "from data_preparation.queries import QueryGenerator\n",
    "from data_preparation.prepare import DataPreparation\n",
    "from data_preparation.database import Database\n",
    "from evaluation.classical_algorithms.cardinality.postgres_row_estimates import PostgresCardinalityEstimation\n",
    "\n",
    "this_folder = os.path.abspath(os.getcwd())\n",
    "seed_paths = [\"data_preparation//query_seeds//JOB_query_seed_execution_time.json\",\n",
    "              \"data_preparation//query_seeds//JOB_query_seed_cardinality.json\"]\n",
    "workload_types = [\"execution_time\", \"cardinality\"]\n",
    "run_id = 1\n",
    "ty = 1\n",
    "optimization_method = \"Pennylane\"\n",
    "workload_type = workload_types[ty]\n",
    "database = Database(\"IMDB\")\n",
    "generator = QueryGenerator(run_id, workload_type = \"cardinality\", database = \"IMDB\", query_seed_file_path = seed_paths[ty])\n",
    "query_file = generator.get_query_file()\n",
    "data_preparator = DataPreparation(run_id, query_file, database = database, workload_type = workload_type, classification = 2)\n",
    "classes = data_preparator.get_classes()\n",
    "print(\"Classes: \", classes)\n",
    "true_cardinalities = data_preparator.get_data()\n",
    "estimator = PostgresCardinalityEstimation(query_file, true_cardinalities, database, classes)\n",
    "estimator.create_postgres_cardinality_estimates()\n",
    "estimates = estimator.get_postgres_cardinality_estimates()\n",
    "#print(estimates)\n",
    "estimator.evaluate_accuracy()\n",
    "print(estimator.get_accuracy())"
   ]
  }
 ],
 "metadata": {
  "kernelspec": {
   "display_name": "Python 3 (ipykernel)",
   "language": "python",
   "name": "python3"
  },
  "language_info": {
   "codemirror_mode": {
    "name": "ipython",
    "version": 3
   },
   "file_extension": ".py",
   "mimetype": "text/x-python",
   "name": "python",
   "nbconvert_exporter": "python",
   "pygments_lexer": "ipython3",
   "version": "3.10.8"
  }
 },
 "nbformat": 4,
 "nbformat_minor": 5
}
