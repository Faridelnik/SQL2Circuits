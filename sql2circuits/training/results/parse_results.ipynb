{
 "cells": [
  {
   "cell_type": "code",
   "execution_count": 1,
   "metadata": {},
   "outputs": [],
   "source": [
    "import json\n",
    "\n",
    "identifier = \"5_pennylane_optax_state_cost_25_25_007_2\"\n",
    "identifier = \"1_pennylane_optax_state_cardinality_10_10\"\n",
    "\n",
    "def parse_results(identifier):\n",
    "    results = load_results(identifier)\n",
    "    with open(\"csv_results//\" + identifier + \".csv\", \"w\") as f:\n",
    "        f.write(\"train/circ,valid/circ,test/circ,train/acc,valid/acc,test/acc\\n\")\n",
    "        for i in range(len(results)):\n",
    "            f.write(str(int(results[i][\"train/circ\"])) + \",\" + str(int(results[i][\"valid/circ\"])) + \",\" + str(int(results[i][\"test/circ\"])) + \",\" + str(results[i][\"train/acc\"]) + \",\" + str(results[i][\"valid/acc\"]) + \",\" + str(results[i][\"test/acc\"]) + \"\\n\")\n",
    "\n",
    "def load_results(identifier):\n",
    "    accuracy, training_stats, test_accuracy = None, None, None\n",
    "    with open(identifier + \"//\" + identifier + \"_accuracy.json\", \"r\") as f:\n",
    "        accuracy = json.load(f)\n",
    "        accuracy = accuracy[\"results\"]\n",
    "    with open(identifier + \"//\" + \"training_stats.json\", \"r\") as f:\n",
    "        training_stats = json.load(f)\n",
    "    with open(identifier + \"//\" +\"test_accuracy.json\", \"r\") as f:\n",
    "        test_accuracy = json.load(f)\n",
    "        test_accuracy = test_accuracy[\"results\"]\n",
    "    \n",
    "    results = []\n",
    "    initial_number_of_circuits = training_stats[\"initial_number_of_circuits\"]\n",
    "    number_of_circuits_to_add = training_stats[\"number_of_circuits_to_add\"]\n",
    "    epochs = training_stats[\"epochs\"]\n",
    "    selected_training_stats = [x for x in accuracy if x[\"step\"] == epochs - 10]\n",
    "\n",
    "    for i in range(len(selected_training_stats)):\n",
    "        train_circs = int(initial_number_of_circuits + i*number_of_circuits_to_add)\n",
    "        valid_circs = int(initial_number_of_circuits + i*number_of_circuits_to_add) # Fix this when data available\n",
    "        train_acc = selected_training_stats[i][\"accuracy\"]*100\n",
    "        valid_acc = selected_training_stats[i][\"validation_accuracy\"]*100\n",
    "        test_circs = test_accuracy[i][\"number_of_test_circuits\"]\n",
    "        test_acc = test_accuracy[i][\"test_accuracy\"]*100\n",
    "        results.append({\"train/circ\": train_circs, \"valid/circ\": valid_circs, \"test/circ\": test_circs, \"train/acc\": train_acc, \"valid/acc\": valid_acc, \"test/acc\": test_acc})\n",
    "    return results\n",
    "        "
   ]
  },
  {
   "cell_type": "code",
   "execution_count": 2,
   "metadata": {},
   "outputs": [],
   "source": [
    "parse_results(identifier)"
   ]
  }
 ],
 "metadata": {
  "kernelspec": {
   "display_name": "Python 3",
   "language": "python",
   "name": "python3"
  },
  "language_info": {
   "codemirror_mode": {
    "name": "ipython",
    "version": 3
   },
   "file_extension": ".py",
   "mimetype": "text/x-python",
   "name": "python",
   "nbconvert_exporter": "python",
   "pygments_lexer": "ipython3",
   "version": "3.8.10"
  }
 },
 "nbformat": 4,
 "nbformat_minor": 2
}
