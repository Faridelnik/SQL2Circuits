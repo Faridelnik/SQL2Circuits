{
 "cells": [
  {
   "cell_type": "code",
   "execution_count": 7,
   "metadata": {},
   "outputs": [],
   "source": [
    "import json\n",
    "\n",
    "identifier = \"3_pennylane_optax_adamw_state_Sim14Ansatz_execution_time_30_20_007_2\"\n",
    "\n",
    "def parse_results(identifier):\n",
    "    results = load_results(identifier)\n",
    "    with open(\"csv_results//\" + identifier + \".csv\", \"w\") as f:\n",
    "        f.write(\"train/circ,valid/circ,test/circ,train/acc,valid/acc,test/acc\\n\")\n",
    "        for i in range(len(results)):\n",
    "            f.write(str(int(results[i][\"train/circ\"])) + \",\" + str(int(results[i][\"valid/circ\"])) + \",\" + str(int(results[i][\"test/circ\"])) + \",\" + str(results[i][\"train/acc\"]) + \",\" + str(results[i][\"valid/acc\"]) + \",\" + str(results[i][\"test/acc\"]) + \"\\n\")\n",
    "\n",
    "def load_results(identifier):\n",
    "    accuracy, training_stats, test_accuracy = None, None, None\n",
    "    with open(identifier + \"/\" + identifier + \"_accuracy.json\", \"r\") as f:\n",
    "        accuracy = json.load(f)\n",
    "        accuracy = accuracy[\"results\"]\n",
    "    # with open(identifier + \"/\" + \"training_stats.json\", \"r\") as f:\n",
    "    #     training_stats = json.load(f)\n",
    "    with open(identifier + \"/\" +\"test_accuracy.json\", \"r\") as f:\n",
    "        test_accuracy = json.load(f)\n",
    "        test_accuracy = test_accuracy[\"results\"]\n",
    "    \n",
    "    results = []\n",
    "    initial_number_of_circuits = 25 #training_stats[\"initial_number_of_circuits\"]\n",
    "    number_of_circuits_to_add = training_stats[\"number_of_circuits_to_add\"]\n",
    "    epochs = training_stats[\"epochs\"]\n",
    "    selected_training_stats = [x for x in accuracy if x[\"step\"] == epochs - 10]\n",
    "\n",
    "    for i in range(len(selected_training_stats)):\n",
    "        train_circs = int(initial_number_of_circuits + i*number_of_circuits_to_add)\n",
    "        valid_circs = int(initial_number_of_circuits + i*number_of_circuits_to_add) # Fix this when data available\n",
    "        train_acc = selected_training_stats[i][\"accuracy\"]*100\n",
    "        valid_acc = selected_training_stats[i][\"validation_accuracy\"]*100\n",
    "        test_circs = test_accuracy[i][\"number_of_test_circuits\"]\n",
    "        test_acc = test_accuracy[i][\"test_accuracy\"]*100\n",
    "        results.append({\"train/circ\": train_circs, \"valid/circ\": valid_circs, \"test/circ\": test_circs, \"train/acc\": train_acc, \"valid/acc\": valid_acc, \"test/acc\": test_acc})\n",
    "    return results\n",
    "        "
   ]
  },
  {
   "cell_type": "code",
   "execution_count": 8,
   "metadata": {},
   "outputs": [
    {
     "ename": "TypeError",
     "evalue": "'NoneType' object is not subscriptable",
     "output_type": "error",
     "traceback": [
      "\u001b[0;31m---------------------------------------------------------------------------\u001b[0m",
      "\u001b[0;31mTypeError\u001b[0m                                 Traceback (most recent call last)",
      "Cell \u001b[0;32mIn[8], line 1\u001b[0m\n\u001b[0;32m----> 1\u001b[0m \u001b[43mparse_results\u001b[49m\u001b[43m(\u001b[49m\u001b[43midentifier\u001b[49m\u001b[43m)\u001b[49m\n",
      "Cell \u001b[0;32mIn[7], line 6\u001b[0m, in \u001b[0;36mparse_results\u001b[0;34m(identifier)\u001b[0m\n\u001b[1;32m      5\u001b[0m \u001b[38;5;28;01mdef\u001b[39;00m \u001b[38;5;21mparse_results\u001b[39m(identifier):\n\u001b[0;32m----> 6\u001b[0m     results \u001b[38;5;241m=\u001b[39m \u001b[43mload_results\u001b[49m\u001b[43m(\u001b[49m\u001b[43midentifier\u001b[49m\u001b[43m)\u001b[49m\n\u001b[1;32m      7\u001b[0m     \u001b[38;5;28;01mwith\u001b[39;00m \u001b[38;5;28mopen\u001b[39m(\u001b[38;5;124m\"\u001b[39m\u001b[38;5;124mcsv_results//\u001b[39m\u001b[38;5;124m\"\u001b[39m \u001b[38;5;241m+\u001b[39m identifier \u001b[38;5;241m+\u001b[39m \u001b[38;5;124m\"\u001b[39m\u001b[38;5;124m.csv\u001b[39m\u001b[38;5;124m\"\u001b[39m, \u001b[38;5;124m\"\u001b[39m\u001b[38;5;124mw\u001b[39m\u001b[38;5;124m\"\u001b[39m) \u001b[38;5;28;01mas\u001b[39;00m f:\n\u001b[1;32m      8\u001b[0m         f\u001b[38;5;241m.\u001b[39mwrite(\u001b[38;5;124m\"\u001b[39m\u001b[38;5;124mtrain/circ,valid/circ,test/circ,train/acc,valid/acc,test/acc\u001b[39m\u001b[38;5;130;01m\\n\u001b[39;00m\u001b[38;5;124m\"\u001b[39m)\n",
      "Cell \u001b[0;32mIn[7], line 25\u001b[0m, in \u001b[0;36mload_results\u001b[0;34m(identifier)\u001b[0m\n\u001b[1;32m     23\u001b[0m results \u001b[38;5;241m=\u001b[39m []\n\u001b[1;32m     24\u001b[0m initial_number_of_circuits \u001b[38;5;241m=\u001b[39m \u001b[38;5;241m25\u001b[39m \u001b[38;5;66;03m#training_stats[\"initial_number_of_circuits\"]\u001b[39;00m\n\u001b[0;32m---> 25\u001b[0m number_of_circuits_to_add \u001b[38;5;241m=\u001b[39m \u001b[43mtraining_stats\u001b[49m\u001b[43m[\u001b[49m\u001b[38;5;124;43m\"\u001b[39;49m\u001b[38;5;124;43mnumber_of_circuits_to_add\u001b[39;49m\u001b[38;5;124;43m\"\u001b[39;49m\u001b[43m]\u001b[49m\n\u001b[1;32m     26\u001b[0m epochs \u001b[38;5;241m=\u001b[39m training_stats[\u001b[38;5;124m\"\u001b[39m\u001b[38;5;124mepochs\u001b[39m\u001b[38;5;124m\"\u001b[39m]\n\u001b[1;32m     27\u001b[0m selected_training_stats \u001b[38;5;241m=\u001b[39m [x \u001b[38;5;28;01mfor\u001b[39;00m x \u001b[38;5;129;01min\u001b[39;00m accuracy \u001b[38;5;28;01mif\u001b[39;00m x[\u001b[38;5;124m\"\u001b[39m\u001b[38;5;124mstep\u001b[39m\u001b[38;5;124m\"\u001b[39m] \u001b[38;5;241m==\u001b[39m epochs \u001b[38;5;241m-\u001b[39m \u001b[38;5;241m10\u001b[39m]\n",
      "\u001b[0;31mTypeError\u001b[0m: 'NoneType' object is not subscriptable"
     ]
    }
   ],
   "source": [
    "parse_results(identifier)"
   ]
  },
  {
   "cell_type": "code",
   "execution_count": null,
   "metadata": {},
   "outputs": [],
   "source": []
  }
 ],
 "metadata": {
  "kernelspec": {
   "display_name": "Python 3 (ipykernel)",
   "language": "python",
   "name": "python3"
  },
  "language_info": {
   "codemirror_mode": {
    "name": "ipython",
    "version": 3
   },
   "file_extension": ".py",
   "mimetype": "text/x-python",
   "name": "python",
   "nbconvert_exporter": "python",
   "pygments_lexer": "ipython3",
   "version": "3.10.12"
  }
 },
 "nbformat": 4,
 "nbformat_minor": 4
}
