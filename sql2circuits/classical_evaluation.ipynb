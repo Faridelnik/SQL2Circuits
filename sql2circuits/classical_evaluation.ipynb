{
 "cells": [
  {
   "cell_type": "markdown",
   "id": "d8b3fb2e-aa9a-493c-a56e-e388000c0614",
   "metadata": {},
   "source": [
    "### Obtain cardinality estimations for the queries on PostgreSQL"
   ]
  },
  {
   "cell_type": "code",
   "execution_count": 1,
   "id": "14917330-4669-4b9c-93db-0b2dc8b42090",
   "metadata": {},
   "outputs": [
    {
     "name": "stdout",
     "output_type": "stream",
     "text": [
      "Query file already exists.\n",
      "Number of training queries is  398\n",
      "Number of test queries is  140\n",
      "Number of validation queries is  135\n",
      "cardinality\n",
      "Data file is  c:\\Users\\valte\\OneDrive - University of Helsinki\\Desktop\\quantum-computing-for-database-query-languages\\sql2circuits//data_preparation//data//cardinality//1_data.json\n",
      "Classes:  [(0, 0), (0, 0), (0, 4829), (5536, 29757), (33181, 143849), (150166, 577460), (635188, 1572370), (1626450, 102555254)]\n",
      "{'cardinality': {'training': 0.4418604651162791, 'test': 0.45985401459854014, 'validation': 0.556390977443609, 'total': 0.48603515238614275}}\n",
      "{'cardinality': {'training': 0.12919896640826872, 'test': 0.1386861313868613, 'validation': 0.14285714285714285, 'total': 0.1369140802174243}}\n",
      "{'cardinality': {'training': 0.4780361757105943, 'test': 0.45255474452554745, 'validation': 0.556390977443609, 'total': 0.4956606325599169}}\n"
     ]
    }
   ],
   "source": [
    "import os\n",
    "from data_preparation.queries import QueryGenerator\n",
    "from data_preparation.prepare import DataPreparation\n",
    "from data_preparation.database import Database\n",
    "from data_preparation.mysql_database import MySQLDatabase\n",
    "from data_preparation.sql_server import SQLServerDatabase\n",
    "from evaluation.classical_algorithms.classical_estimator import ClassicalEstimator\n",
    "\n",
    "this_folder = os.path.abspath(os.getcwd())\n",
    "seed_paths = [\"data_preparation//query_seeds//JOB_query_seed_execution_time.json\",\n",
    "              \"data_preparation//query_seeds//JOB_query_seed_cardinality.json\"]\n",
    "seed_file = seed_paths[1]\n",
    "workload_types = [\"execution_time\", \"cardinality\"]\n",
    "workload_type = workload_types[1]\n",
    "run_id = 1\n",
    "classification = 3\n",
    "\n",
    "postgres_database = Database(\"IMDB\")\n",
    "mysql_database = MySQLDatabase(\"IMDB\")\n",
    "sql_server_database = SQLServerDatabase(\"IMDB\")\n",
    "\n",
    "generator = QueryGenerator(run_id, workload_type = workload_type, database = \"IMDB\", query_seed_file_path = seed_file)\n",
    "query_file = generator.get_query_file()\n",
    "data_preparator = DataPreparation(run_id, query_file, database = postgres_database, workload_type = workload_type, classification = classification)\n",
    "\n",
    "classes = data_preparator.get_classes()\n",
    "true_cardinalities = data_preparator.get_data()\n",
    "print(\"Classes: \", classes)\n",
    "#print(\"True cardinalities: \", true_cardinalities)\n",
    "\n",
    "for db in [postgres_database, mysql_database, sql_server_database]:\n",
    "    estimator = ClassicalEstimator(query_file, true_cardinalities, db, classes)\n",
    "    if db.supports_cardinality_estimation():\n",
    "        estimator.create_estimates(\"cardinality\")\n",
    "        estimates = estimator.evaluate_accuracy_of_estimations(\"cardinality\")\n",
    "        print(estimator.get_results())\n",
    "    if db.supports_latency_estimation():\n",
    "        estimator.create_estimates(\"latency\")\n",
    "        estimates = estimator.evaluate_accuracy_of_estimations(\"latency\")\n",
    "        print(estimator.get_results())\n",
    "    if db.supports_cost_estimation():\n",
    "        estimator.create_estimates(\"cost\")\n",
    "        estimates = estimator.evaluate_accuracy_of_estimations(\"cost\")\n",
    "        print(estimator.get_results())"
   ]
  }
 ],
 "metadata": {
  "kernelspec": {
   "display_name": "Python 3 (ipykernel)",
   "language": "python",
   "name": "python3"
  },
  "language_info": {
   "codemirror_mode": {
    "name": "ipython",
    "version": 3
   },
   "file_extension": ".py",
   "mimetype": "text/x-python",
   "name": "python",
   "nbconvert_exporter": "python",
   "pygments_lexer": "ipython3",
   "version": "3.10.8"
  }
 },
 "nbformat": 4,
 "nbformat_minor": 5
}
