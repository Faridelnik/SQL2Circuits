{
 "cells": [
  {
   "cell_type": "code",
   "execution_count": 14,
   "id": "1a1a62d3-d13e-4101-aebd-aca25d004707",
   "metadata": {},
   "outputs": [],
   "source": [
    "import csv\n",
    "\n",
    "result_files = [\"execution_time_main_noisyopt_2_1_3\", \"main_noisyopt_21_1_3\", \"cardinality_main_noisyopt_1_1_3\"]\n",
    "result_file = result_files[2]\n",
    "parsed_result = result_file\n",
    "result = []\n",
    "csv_columns = [\"train/circ\", \"valid/circ\", \"test/circ\", \"parameters\", \"train/loss\", \"valid/loss\", \"train/acc\", \"valid/acc\", \"test/acc\", \"train/test\"]\n",
    "previous_chunks = None\n",
    "\n",
    "with open(\"results//\" + result_file + \".txt\", \"r\") as f:\n",
    "    i = 0\n",
    "    for line in f:\n",
    "        chunks = line.rstrip().split()\n",
    "        #print(chunks)\n",
    "        if chunks[0] == \"Number\":\n",
    "            temp_res = {\"train/circ\": int(chunks[4]), \"valid/circ\": int(chunks[9]), \"test/circ\": int(chunks[14]), \"parameters\": int(chunks[20]), \"train/test\": int(chunks[14])/int(chunks[4])}\n",
    "        elif chunks[0] == \"Test\" and previous_chunks:\n",
    "            temp_res[\"train/loss\"] = float(previous_chunks[3])\n",
    "            temp_res[\"valid/loss\"] = float(previous_chunks[5])\n",
    "            temp_res[\"train/acc\"] = float(previous_chunks[7])*100\n",
    "            temp_res[\"valid/acc\"] = float(previous_chunks[9])*100\n",
    "            temp_res[\"test/acc\"] = float(chunks[2])*100\n",
    "            result.append(temp_res)\n",
    "        previous_chunks = chunks\n",
    "        #i+=1\n",
    "        #if i == 22:\n",
    "        #    break\n",
    "\n",
    "#print(result)\n",
    "#header = \"train/circ;valid/circ;test/circ;parameters;train/loss;valid/loss;train/acc;valid/acc;test/acc\"\n",
    "with open(\"results//\" + result_file + \"_parsed\" + \".csv\", \"w\", newline='', encoding=\"utf-8\") as f:\n",
    "    writer = csv.DictWriter(f, fieldnames=csv_columns, delimiter=',')\n",
    "    writer.writeheader()\n",
    "    for data in result:\n",
    "        writer.writerow(data)"
   ]
  },
  {
   "cell_type": "code",
   "execution_count": null,
   "id": "3c74f551-487f-436a-97d1-9928bd4dbb94",
   "metadata": {},
   "outputs": [],
   "source": []
  }
 ],
 "metadata": {
  "kernelspec": {
   "display_name": "Python 3 (ipykernel)",
   "language": "python",
   "name": "python3"
  },
  "language_info": {
   "codemirror_mode": {
    "name": "ipython",
    "version": 3
   },
   "file_extension": ".py",
   "mimetype": "text/x-python",
   "name": "python",
   "nbconvert_exporter": "python",
   "pygments_lexer": "ipython3",
   "version": "3.10.8"
  }
 },
 "nbformat": 4,
 "nbformat_minor": 5
}
