{
 "cells": [
  {
   "cell_type": "markdown",
   "id": "90e91ad4-1678-49ef-98b5-138506d3f71b",
   "metadata": {},
   "source": [
    "# Circuit learning module: Pennylane with SPSA"
   ]
  },
  {
   "cell_type": "markdown",
   "id": "9a844d57-1aa2-4424-93c7-f5057dfdd233",
   "metadata": {},
   "source": [
    "This code is based on [Quanthoven](https://github.com/CQCL/Quanthoven/blob/main/experiment.ipynb) and [Pennylane demo](https://pennylane.ai/qml/demos/spsa.html)."
   ]
  },
  {
   "cell_type": "code",
   "execution_count": 1,
   "id": "caf53928-c1ab-4797-af22-b9f6a6aa1326",
   "metadata": {},
   "outputs": [],
   "source": [
    "import json\n",
    "import os\n",
    "import glob\n",
    "import warnings\n",
    "from pathlib import Path\n",
    "import numpy as np\n",
    "import pickle\n",
    "import pennylane as qml\n",
    "from sympy import default_sort_key\n",
    "import torch\n",
    "from discopy.quantum.pennylane import to_pennylane, PennyLaneCircuit\n",
    "from inspect import signature\n",
    "from noisyopt import minimizeSPSA\n",
    "\n",
    "this_folder = os.path.abspath(os.getcwd())"
   ]
  },
  {
   "cell_type": "markdown",
   "id": "125bf2c8-31c0-475c-b1da-83da76fae4cb",
   "metadata": {},
   "source": [
    "## Read circuit data"
   ]
  },
  {
   "cell_type": "markdown",
   "id": "1e190199-b144-47da-b296-771a0118a66e",
   "metadata": {},
   "source": [
    "We read the circuits from the pickled files."
   ]
  },
  {
   "cell_type": "code",
   "execution_count": 2,
   "id": "421b5bed-c0ae-4eea-8215-bef4d711d014",
   "metadata": {},
   "outputs": [
    {
     "name": "stdout",
     "output_type": "stream",
     "text": [
      "Number of training circuits:  25\n",
      "Number of test circuits:  10\n"
     ]
    }
   ],
   "source": [
    "training_circuits_paths = glob.glob(this_folder + \"//simplified-JOB-diagrams//circuits//binary_classification//training//[0-9]*.p\")\n",
    "test_circuits_paths = glob.glob(this_folder + \"//simplified-JOB-diagrams//circuits//binary_classification//test//[0-9]*.p\")\n",
    "\n",
    "def read_diagrams(circuit_paths):\n",
    "    circuits = {}\n",
    "    for serialized_diagram in circuit_paths:\n",
    "        base_name = Path(serialized_diagram).stem\n",
    "        f = open(serialized_diagram, \"rb\")\n",
    "        diagram = pickle.load(f)\n",
    "        circuits[base_name] = diagram\n",
    "    return circuits\n",
    "\n",
    "\n",
    "training_circuits = read_diagrams(training_circuits_paths)\n",
    "test_circuits = read_diagrams(test_circuits_paths)\n",
    "\n",
    "\n",
    "print(\"Number of training circuits: \", len(training_circuits))\n",
    "print(\"Number of test circuits: \", len(test_circuits))"
   ]
  },
  {
   "cell_type": "markdown",
   "id": "710f034f-9b35-4254-afe6-d91784a3f941",
   "metadata": {},
   "source": [
    "## Read training and test data"
   ]
  },
  {
   "cell_type": "code",
   "execution_count": 3,
   "id": "c0b3e68e-73e6-460c-93a1-0e4a44af926d",
   "metadata": {},
   "outputs": [],
   "source": [
    "training_data, test_data = None, None\n",
    "with open(this_folder + \"//data//training_data.json\", \"r\") as inputfile:\n",
    "    training_data = json.load(inputfile)['training_data']\n",
    "with open(this_folder + \"//data//test_data.json\", \"r\") as inputfile:\n",
    "    test_data = json.load(inputfile)['test_data']\n",
    "    \n",
    "\n",
    "def time_to_states(data):\n",
    "    labeled_data = {}\n",
    "    for elem in data:\n",
    "        if elem[\"time\"] < 2001:\n",
    "            labeled_data[elem[\"name\"]] = [1, 0] # corresponds to |0>\n",
    "        else:\n",
    "            labeled_data[elem[\"name\"]] = [0, 1] # corresponds to |1>\n",
    "    return labeled_data\n",
    "\n",
    "\n",
    "training_data_labels = time_to_states(training_data)\n",
    "test_data_labels = time_to_states(test_data)\n",
    "\n",
    "training_circuits_l, training_data_labels_l = [], []\n",
    "test_circuits_l, test_data_labels_l = [], []\n",
    "\n",
    "for key in training_circuits:\n",
    "    training_circuits_l.append(training_circuits[key])\n",
    "    training_data_labels_l.append(training_data_labels[key])\n",
    "\n",
    "for key in test_circuits:\n",
    "    test_circuits_l.append(test_circuits[key])\n",
    "    test_data_labels_l.append(test_data_labels[key])"
   ]
  },
  {
   "cell_type": "markdown",
   "id": "0c43bc30-c36b-4e0b-99e4-f33a98fcb28a",
   "metadata": {},
   "source": [
    "## Construct circuits in Pennylane"
   ]
  },
  {
   "cell_type": "markdown",
   "id": "85e695dd-1d1f-4848-9ad6-c12b5788f23b",
   "metadata": {},
   "source": [
    "Next we translate DisCoPy circuits in Pennylane and rewrite the Pennylane circuits. By default the encoded measurement function in the Pennylane circuit function is `state()` or `probs()` which we change to `sampe()`. We use `sample()` because we need to do post-selection which is not implemented in Pennylane. Technically we also have the problem that Pennylane does not natively support training over circuits which have varying signature (parameters) and varying number of wires. Thus we rewrite the circuits so that at each step, all the circuits accept all the parameters as input but they will utilize only a subset of them. Because the parameters need to be inputed as a vector, for each circuit we calculate a signature tuple, which encodes the information of the needed parameters in the circuit.\n",
    "\n",
    "The code assumes that the DisCoPy circuit contains only such gates that accept a single parameter or no parameters.\n",
    "\n",
    "$$ \\texttt{parameter symbol in circuit} \\to \\texttt{index among all parameters in model} \\to \\texttt{value from input for circuit} $$"
   ]
  },
  {
   "cell_type": "code",
   "execution_count": 4,
   "id": "d077e1d5-56f9-4f22-924a-760da8403fd4",
   "metadata": {},
   "outputs": [],
   "source": [
    "tot_qubits = 20\n",
    "dev = qml.device(\"default.qubit\", wires=tot_qubits, shots=1000)\n",
    "\n",
    "qml_circuits_training = []\n",
    "qml_circuits_test = []\n",
    "symbols = set([elem for c in training_circuits for elem in training_circuits[c].free_symbols])\n",
    "symbols = list(sorted(symbols, key=default_sort_key))\n",
    "\n",
    "for circuit_diagram in training_circuits_l:\n",
    "    pennylane_circuit = to_pennylane(circuit_diagram)\n",
    "    params = pennylane_circuit.params\n",
    "    pennylane_wires = pennylane_circuit.wires\n",
    "    ops = pennylane_circuit.ops\n",
    "    param_symbols = [[sym[0].as_ordered_factors()[2]] if len(sym) > 0 else [] for sym in params]\n",
    "    symbol_to_index = {}\n",
    "\n",
    "    for sym in param_symbols:\n",
    "        if len(sym) > 0:\n",
    "            symbol_to_index[sym[0]] = symbols.index(sym[0])\n",
    "\n",
    "    @qml.qnode(dev)\n",
    "    def qml_circuit(circ_params):\n",
    "        for op, param, wires in zip(ops, param_symbols, pennylane_wires):\n",
    "            if len(param) > 0:\n",
    "                param = param[0]\n",
    "                op(circ_params[symbol_to_index[param]], wires = wires)\n",
    "            else:\n",
    "                op(wires = wires)\n",
    "        return qml.sample()\n",
    "    \n",
    "    qml_circuits_training.append(qml_circuit)\n",
    "\n",
    "training_qnodes = qml.QNodeCollection(qml_circuits_training)"
   ]
  },
  {
   "cell_type": "markdown",
   "id": "e39dcd08-662f-48b7-8ba8-d60165103c57",
   "metadata": {},
   "source": [
    "## Post-selection"
   ]
  },
  {
   "cell_type": "code",
   "execution_count": 5,
   "id": "67360274-6ff3-453d-a0f4-1ced1848acb8",
   "metadata": {},
   "outputs": [],
   "source": [
    "def post_select_shot(shot, post_selection):\n",
    "    diff = len(shot) - len(post_selection)\n",
    "    for i in range(len(post_selection)):\n",
    "        if shot[i + diff] != post_selection[i]:\n",
    "            return []\n",
    "    else:\n",
    "        return shot\n",
    "    \n",
    "def post_select_circuit_samples(circuit_samples):\n",
    "    selected_samples = []\n",
    "    for circuit_sample in circuit_samples:\n",
    "        selected = []\n",
    "        for shot in circuit_sample:\n",
    "            post_selected = post_select_shot(shot, [0]*(len(shot) - 1))\n",
    "            if len(post_selected) > 0:\n",
    "                if post_selected[0] == 0:\n",
    "                    selected.append([1, 0])\n",
    "                else:\n",
    "                    selected.append([0, 1])\n",
    "        selected_samples.append(selected)\n",
    "    return selected_samples"
   ]
  },
  {
   "cell_type": "markdown",
   "id": "c259f7cb-2a2c-4e3a-a8f8-6f79152b4b20",
   "metadata": {},
   "source": [
    "## Cost function"
   ]
  },
  {
   "cell_type": "code",
   "execution_count": 6,
   "id": "da26ce77-a2d0-4206-b350-673341100123",
   "metadata": {},
   "outputs": [],
   "source": [
    "#rng = np.random.default_rng(0)\n",
    "#init_params_spsa = np.array(rng.random(len(symbols)))\n",
    "#cost_spsa(init_params_spsa)\n",
    "\n",
    "def most_common(lst):\n",
    "    counts = {}\n",
    "    for e in lst:\n",
    "        if tuple(e) in counts:\n",
    "            counts[tuple(e)] += 1\n",
    "        else:\n",
    "            counts[tuple(e)] = 1\n",
    "    return [counts[(1,0)]/len(lst), counts[(0,1)]/len(lst)] \n",
    "\n",
    "#rng = np.random.default_rng(SEED)\n",
    "#init_params_spsa = np.array(rng.random(len(symbols)))\n",
    "#circuit_samples = training_qnodes(init_params_spsa)\n",
    "#predictions = post_select_circuit_samples(circuit_samples)\n",
    "#print(predictions[0])\n",
    "#print(most_common(predictions[0]))"
   ]
  },
  {
   "cell_type": "code",
   "execution_count": 7,
   "id": "e35e93ae-ee26-437b-83ba-93e3315d2efd",
   "metadata": {},
   "outputs": [],
   "source": [
    "def make_cost_fn(qnodes, labels):    \n",
    "    def cost_spsa(params, **kwargs):\n",
    "        #circuit_samples = training_qnodes(params)\n",
    "        measurement = qnodes(params)\n",
    "        circuit_samples = post_select_circuit_samples(measurement)\n",
    "        predictions = []\n",
    "        for circuit_sample in circuit_samples:\n",
    "            expected = most_common(circuit_sample)\n",
    "            predictions.append(expected)\n",
    "        \n",
    "        #print(predictions)\n",
    "        cost = -np.sum(labels * np.log(predictions)) / len(labels)  # binary cross-entropy loss\n",
    "        costs.append(cost)\n",
    "\n",
    "        acc = np.sum(np.round(predictions) == labels) / len(labels) / 2  # half due to double-counting\n",
    "        accuracies.append(acc)\n",
    "        \n",
    "        return cost\n",
    "    \n",
    "    costs, accuracies = [], []\n",
    "    return cost_spsa, costs, accuracies"
   ]
  },
  {
   "cell_type": "markdown",
   "id": "1464e9bc-0aec-4dce-8d8f-6022c3979f66",
   "metadata": {},
   "source": [
    "## SPSA minimization"
   ]
  },
  {
   "cell_type": "code",
   "execution_count": 8,
   "id": "ea4e4bcd-663c-4a38-9136-653d5fc88b6b",
   "metadata": {},
   "outputs": [],
   "source": [
    "BATCH_SIZE = 32\n",
    "EPOCHS = 200\n",
    "SEED = 0\n",
    "\n",
    "rng = np.random.default_rng(SEED)\n",
    "init_params_spsa = np.array(rng.random(len(symbols)))\n",
    "numpy.random.seed(SEED)\n",
    "\n",
    "train_cost_fn, train_costs, train_accs = make_cost_fn(training_qnodes, training_data_labels_l)\n",
    "#dev_cost_fn, dev_costs, dev_accs = make_cost_fn(dev_pred_fn, dev_labels)\n",
    "\n",
    "# Evaluate the initial cost\n",
    "cost_store_spsa = [train_cost_fn(init_params_spsa)]\n",
    "#print(init_params_spsa)\n",
    "#print()\n",
    "#print(training_data_labels_l)\n",
    "#print()\n",
    "#print(cost_store_spsa)\n",
    "device_execs_spsa = [0]\n",
    "\n",
    "def callback_fn(xk):\n",
    "    cost_val = train_cost_fn(xk)\n",
    "    cost_store_spsa.append(cost_val)\n",
    "\n",
    "    # We've evaluated the cost function, let's make up for that\n",
    "    num_executions = int(dev.num_executions / 2)\n",
    "    device_execs_spsa.append(num_executions)\n",
    "\n",
    "    iteration_num = len(cost_store_spsa)\n",
    "    print(\n",
    "            f\"Params = {xk}, \"\n",
    "            f\"Iteration = {iteration_num}, \"\n",
    "            f\"Number of device executions = {num_executions}, \"\n",
    "            f\"Cost = {cost_val}\"\n",
    "        )"
   ]
  },
  {
   "cell_type": "code",
   "execution_count": null,
   "id": "2c814211-8d9a-45aa-bacd-1cd879545b75",
   "metadata": {},
   "outputs": [
    {
     "name": "stdout",
     "output_type": "stream",
     "text": [
      "Params = [0.60104737 0.2338724  0.00505921 ... 0.89903452 0.84539286 0.47479219], Iteration = 2, Number of device executions = 50, Cost = 0.7120762862749391\n",
      "Params = [ 0.69515929  0.13976048 -0.08905271 ...  0.8049226   0.93950478\n",
      "  0.38068027], Iteration = 3, Number of device executions = 87, Cost = 0.6615862146685579\n",
      "Params = [ 0.78384029  0.05107949 -0.1777337  ...  0.71624161  1.02818577\n",
      "  0.46936127], Iteration = 4, Number of device executions = 125, Cost = 0.7460381406386465\n",
      "Params = [ 0.78922026  0.04569951 -0.17235373 ...  0.72162158  1.03356575\n",
      "  0.46398129], Iteration = 5, Number of device executions = 162, Cost = 0.7107609971686729\n",
      "Params = [ 0.78303381  0.05188596 -0.16616728 ...  0.72780803  1.0273793\n",
      "  0.47016774], Iteration = 6, Number of device executions = 200, Cost = 0.6668101021206293\n",
      "Params = [ 0.76154107  0.03039322 -0.14467454 ...  0.74930077  1.00588656\n",
      "  0.448675  ], Iteration = 7, Number of device executions = 237, Cost = 0.707839039079418\n",
      "Params = [ 0.73653022  0.00538237 -0.16968538 ...  0.77431162  1.0308974\n",
      "  0.42366415], Iteration = 8, Number of device executions = 275, Cost = 0.6608618826050433\n",
      "Params = [ 0.77476805  0.0436202  -0.13144756 ...  0.81254944  1.06913523\n",
      "  0.46190198], Iteration = 9, Number of device executions = 312, Cost = 0.7390550684658831\n",
      "Params = [ 0.76398975  0.05439849 -0.12066926 ...  0.82332774  1.07991352\n",
      "  0.47268027], Iteration = 10, Number of device executions = 350, Cost = 0.7922995027962857\n",
      "Params = [ 0.79188618  0.02650206 -0.14856569 ...  0.85122417  1.0520171\n",
      "  0.5005767 ], Iteration = 11, Number of device executions = 387, Cost = 0.7355874962822289\n",
      "Params = [ 0.73469147  0.08369677 -0.2057604  ...  0.90841887  0.99482239\n",
      "  0.44338199], Iteration = 12, Number of device executions = 425, Cost = 0.7119011393194026\n"
     ]
    }
   ],
   "source": [
    "result = minimizeSPSA(train_cost_fn, x0=init_params_spsa.copy(), a=0.91, c=0.12, niter=EPOCHS, paired=False, callback=callback_fn)\n",
    "\n",
    "#res = minimizeSPSA(\n",
    "#    cost_spsa,\n",
    "#    x0=init_params_spsa.copy(),\n",
    "#    niter=EPOCHS,\n",
    "#    paired=False,\n",
    "#    c=0.15,\n",
    "#    a=0.2,\n",
    "#    callback=callback_fn,\n",
    "#)"
   ]
  },
  {
   "cell_type": "code",
   "execution_count": null,
   "id": "5d8ec611-64ab-4736-a0ca-76105a148d82",
   "metadata": {},
   "outputs": [],
   "source": [
    "import matplotlib.pyplot as plt\n",
    "\n",
    "fig, ((ax_tl, ax_tr), (ax_bl, ax_br)) = plt.subplots(2, 2, sharex=True, sharey='row', figsize=(10, 6))\n",
    "ax_tl.set_title('Training set')\n",
    "ax_tr.set_title('Development set')\n",
    "ax_bl.set_xlabel('Iterations')\n",
    "ax_br.set_xlabel('Iterations')\n",
    "ax_bl.set_ylabel('Accuracy')\n",
    "ax_tl.set_ylabel('Loss')\n",
    "\n",
    "colours = iter(plt.rcParams['axes.prop_cycle'].by_key()['color'])\n",
    "ax_tl.plot(train_costs[1::2], color=next(colours))  # training evaluates twice per iteration\n",
    "ax_bl.plot(train_accs[1::2], color=next(colours))   # so take every other entry\n",
    "ax_tr.plot(dev_costs, color=next(colours))\n",
    "ax_br.plot(dev_accs, color=next(colours))\n",
    "\n",
    "# print test accuracy\n",
    "test_cost_fn, _, test_accs = make_cost_fn(test_pred_fn, test_labels)\n",
    "test_cost_fn(result.x)\n",
    "print('Test accuracy:', test_accs[0])"
   ]
  }
 ],
 "metadata": {
  "kernelspec": {
   "display_name": "Python 3 (ipykernel)",
   "language": "python",
   "name": "python3"
  },
  "language_info": {
   "codemirror_mode": {
    "name": "ipython",
    "version": 3
   },
   "file_extension": ".py",
   "mimetype": "text/x-python",
   "name": "python",
   "nbconvert_exporter": "python",
   "pygments_lexer": "ipython3",
   "version": "3.8.10"
  }
 },
 "nbformat": 4,
 "nbformat_minor": 5
}
