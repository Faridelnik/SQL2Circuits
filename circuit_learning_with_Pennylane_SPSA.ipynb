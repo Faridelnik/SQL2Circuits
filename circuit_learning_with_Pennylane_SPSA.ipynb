{
 "cells": [
  {
   "cell_type": "markdown",
   "id": "90e91ad4-1678-49ef-98b5-138506d3f71b",
   "metadata": {},
   "source": [
    "# Circuit learning module: Pennylane with SPSA"
   ]
  },
  {
   "cell_type": "markdown",
   "id": "9a844d57-1aa2-4424-93c7-f5057dfdd233",
   "metadata": {},
   "source": [
    "This code is inspired by [Quanthoven](https://github.com/CQCL/Quanthoven/blob/main/experiment.ipynb) and [Pennylane demo](https://pennylane.ai/qml/demos/spsa.html)."
   ]
  },
  {
   "cell_type": "code",
   "execution_count": 50,
   "id": "caf53928-c1ab-4797-af22-b9f6a6aa1326",
   "metadata": {},
   "outputs": [],
   "source": [
    "import json\n",
    "import os\n",
    "import glob\n",
    "import warnings\n",
    "from pathlib import Path\n",
    "import numpy as np\n",
    "import pickle\n",
    "import pennylane as qml\n",
    "from sympy import default_sort_key\n",
    "import torch\n",
    "from discopy.quantum.pennylane import to_pennylane, PennyLaneCircuit\n",
    "from inspect import signature\n",
    "from noisyopt import minimizeSPSA\n",
    "from utils import transform_into_pennylane_circuits, read_diagrams, get_symbols, create_labeled_classes, multi_class_loss\n",
    "\n",
    "this_folder = os.path.abspath(os.getcwd())\n",
    "nshot = 1000"
   ]
  },
  {
   "cell_type": "markdown",
   "id": "125bf2c8-31c0-475c-b1da-83da76fae4cb",
   "metadata": {},
   "source": [
    "## Read circuit data"
   ]
  },
  {
   "cell_type": "markdown",
   "id": "1e190199-b144-47da-b296-771a0118a66e",
   "metadata": {},
   "source": [
    "We read the circuits from the pickled files."
   ]
  },
  {
   "cell_type": "code",
   "execution_count": 17,
   "id": "ccec433e-daee-4404-a3b0-a8cd629d9c9d",
   "metadata": {},
   "outputs": [],
   "source": [
    "# Select workload\n",
    "workload = \"execution_time\"\n",
    "#workload = \"cardinality\"\n",
    "\n",
    "# Select workload size\n",
    "#workload_size = \"small\"\n",
    "#workload_size = \"medium\"\n",
    "#workload_size = \"large\"\n",
    "workload_size = \"main\"\n",
    "\n",
    "classification = 1\n",
    "layers = 1\n",
    "single_qubit_params = 3\n",
    "n_wire_count = 1\n",
    "\n",
    "# Access the selected circuits\n",
    "path_name = this_folder + \"//simplified-JOB-diagrams//\"\\\n",
    "            + workload + \"//\" + workload_size + \"//circuits//\"\\\n",
    "            + str(classification) + \"//\" + str(layers) + \"_layer//\"\\\n",
    "           + str(single_qubit_params) + \"_single_qubit_params//\" + str(n_wire_count)\\\n",
    "            + \"_n_wire_count//\""
   ]
  },
  {
   "cell_type": "code",
   "execution_count": 18,
   "id": "508f9dd1-fea9-47cc-a916-92a98ed9ef0e",
   "metadata": {},
   "outputs": [],
   "source": [
    "training_circuits_paths = glob.glob(path_name + \"training//[0-9]*.p\")\n",
    "validation_circuits_paths = glob.glob(path_name + \"validation//[0-9]*.p\")\n",
    "test_circuits_paths = glob.glob(path_name + \"test//[0-9]*.p\")"
   ]
  },
  {
   "cell_type": "code",
   "execution_count": 19,
   "id": "bf3f48df-bc14-4fd0-a56f-88d794e9856f",
   "metadata": {},
   "outputs": [],
   "source": [
    "training_circuits = read_diagrams(training_circuits_paths)\n",
    "validation_circuits = read_diagrams(validation_circuits_paths)\n",
    "test_circuits = read_diagrams(test_circuits_paths)"
   ]
  },
  {
   "cell_type": "code",
   "execution_count": 24,
   "id": "1459ed37-5054-4542-ab59-39896edd9b7e",
   "metadata": {},
   "outputs": [],
   "source": [
    "n_qubits = 15\n",
    "dev = qml.device(\"default.qubit\", wires=n_qubits, shots=nshot)\n",
    "\n",
    "qml_training_circuits, train_symbols = transform_into_pennylane_circuits(training_circuits, n_qubits, dev)\n",
    "qml_test_circuits, test_symbols = transform_into_pennylane_circuits(test_circuits, n_qubits, dev)\n",
    "qml_validation_circuits, val_symbols = transform_into_pennylane_circuits(validation_circuits, n_qubits, dev)\n",
    "#qml_circuits = qml_training_circuits + qml_test_circuits + qml_validation_circuits"
   ]
  },
  {
   "cell_type": "code",
   "execution_count": 26,
   "id": "2487a768-6603-4037-a765-23f50cb53fc4",
   "metadata": {},
   "outputs": [],
   "source": [
    "#training_qnodes = qml.QNodeCollection([c[\"qml_circuit\"] for c in qml_training_circuits.values()])\n",
    "#validation_qnodes = qml.QNodeCollection([c[\"qml_circuit\"] for c in qml_validation_circuits.values()])\n",
    "#test_qnodes = qml.QNodeCollection([c[\"qml_circuit\"] for c in qml_test_circuits.values()])"
   ]
  },
  {
   "cell_type": "code",
   "execution_count": 27,
   "id": "421b5bed-c0ae-4eea-8215-bef4d711d014",
   "metadata": {},
   "outputs": [
    {
     "name": "stdout",
     "output_type": "stream",
     "text": [
      "Number of training circuits:  448\n",
      "Number of validation circuits:  113\n",
      "Number of test circuits:  112\n"
     ]
    }
   ],
   "source": [
    "print(\"Number of training circuits: \", len(qml_training_circuits))\n",
    "print(\"Number of validation circuits: \", len(qml_validation_circuits))\n",
    "print(\"Number of test circuits: \", len(qml_test_circuits))"
   ]
  },
  {
   "cell_type": "markdown",
   "id": "710f034f-9b35-4254-afe6-d91784a3f941",
   "metadata": {},
   "source": [
    "## Read training and test data"
   ]
  },
  {
   "cell_type": "code",
   "execution_count": 30,
   "id": "c0b3e68e-73e6-460c-93a1-0e4a44af926d",
   "metadata": {},
   "outputs": [],
   "source": [
    "training_data, test_data, validation_data = None, None, None\n",
    "data_path = this_folder + \"//data//\" + workload + \"//\" + workload_size + \"//\"\n",
    "\n",
    "with open(data_path + \"training_data.json\", \"r\") as inputfile:\n",
    "    training_data = json.load(inputfile)['training_data']\n",
    "with open(data_path + \"test_data.json\", \"r\") as inputfile:\n",
    "    test_data = json.load(inputfile)['test_data']\n",
    "with open(data_path + \"validation_data.json\", \"r\") as inputfile:\n",
    "    validation_data = json.load(inputfile)['validation_data']\n",
    "\n",
    "training_data_labels = create_labeled_classes(training_data, classification, workload)\n",
    "test_data_labels = create_labeled_classes(test_data, classification, workload)\n",
    "validation_data_labels = create_labeled_classes(validation_data, classification, workload)"
   ]
  },
  {
   "cell_type": "markdown",
   "id": "e39dcd08-662f-48b7-8ba8-d60165103c57",
   "metadata": {},
   "source": [
    "## Post-selection"
   ]
  },
  {
   "cell_type": "raw",
   "id": "c6600c29-d643-4f82-a52e-fe62a3ee3cf8",
   "metadata": {},
   "source": [
    "def post_select_shot(shot, post_selection):\n",
    "    diff = len(shot) - len(post_selection)\n",
    "    for i in range(len(post_selection)):\n",
    "        if shot[i + diff] != post_selection[i]:\n",
    "            return []\n",
    "    else:\n",
    "        return shot\n",
    "    \n",
    "def post_select_circuit_samples(circuit_samples):\n",
    "    selected_samples = []\n",
    "    for circuit_sample in circuit_samples:\n",
    "        selected = []\n",
    "        for shot in circuit_sample:\n",
    "            post_selected = post_select_shot(shot, [0]*(len(shot) - 1))\n",
    "            if len(post_selected) > 0:\n",
    "                if post_selected[0] == 0:\n",
    "                    selected.append([1, 0])\n",
    "                else:\n",
    "                    selected.append([0, 1])\n",
    "        selected_samples.append(selected)\n",
    "    return selected_samples"
   ]
  },
  {
   "cell_type": "code",
   "execution_count": null,
   "id": "d4753403-0692-49c1-992a-2223dc2837c0",
   "metadata": {},
   "outputs": [],
   "source": [
    "def post_select_circuit_samples(circuit_samples, n_qubits, post_selection):\n",
    "    selected_samples = []\n",
    "    post_select_array = np.array([0]*(n_qubits - post_selection))\n",
    "    for circuit_sample in circuit_samples:\n",
    "        if np.array_equal(circuit_sample[post_selection - 1 :-1], post_select_array):\n",
    "            res = circuit_sample[0:post_selection]\n",
    "            selected_samples.append(res)\n",
    "            #if circuit_sample[0] == 1:\n",
    "            #    selected_samples.append(1)\n",
    "            #else:\n",
    "            #    selected_samples.append(0)\n",
    "    return selected_samples"
   ]
  },
  {
   "cell_type": "markdown",
   "id": "c259f7cb-2a2c-4e3a-a8f8-6f79152b4b20",
   "metadata": {},
   "source": [
    "## Cost function"
   ]
  },
  {
   "cell_type": "code",
   "execution_count": null,
   "id": "7725dcd8-5461-4517-af83-1772bd55d9d7",
   "metadata": {},
   "outputs": [],
   "source": [
    "def make_pred_fn(circuits):\n",
    "    def predict(params):\n",
    "        outputs = Circuit.eval(*(c(*params) for c in circuit_fns), backend = backend)\n",
    "        res = []\n",
    "        \n",
    "        for output in outputs:\n",
    "            predictions = np.abs(output.array) + 1e-9\n",
    "            ratio = predictions / predictions.sum()\n",
    "            res.append(ratio)\n",
    "            \n",
    "        return np.array(res)\n",
    "    return predict"
   ]
  },
  {
   "cell_type": "raw",
   "id": "5fc25341-5eff-4998-9bb0-a6204359912b",
   "metadata": {},
   "source": [
    "#rng = np.random.default_rng(0)\n",
    "#init_params_spsa = np.array(rng.random(len(symbols)))\n",
    "#cost_spsa(init_params_spsa)\n",
    "\n",
    "def most_common(lst):\n",
    "    counts = {}\n",
    "    for e in lst:\n",
    "        if tuple(e) in counts:\n",
    "            counts[tuple(e)] += 1\n",
    "        else:\n",
    "            counts[tuple(e)] = 1\n",
    "    return [counts[(1,0)]/len(lst), counts[(0,1)]/len(lst)] \n",
    "\n",
    "#rng = np.random.default_rng(SEED)\n",
    "#init_params_spsa = np.array(rng.random(len(symbols)))\n",
    "#circuit_samples = training_qnodes(init_params_spsa)\n",
    "#predictions = post_select_circuit_samples(circuit_samples)\n",
    "#print(predictions[0])\n",
    "#print(most_common(predictions[0]))"
   ]
  },
  {
   "cell_type": "code",
   "execution_count": 46,
   "id": "8437abb6-ef4e-478e-8dc4-b2254339b6ac",
   "metadata": {},
   "outputs": [],
   "source": [
    "def acc_from_dict(dict_predictions, dict_labels):\n",
    "    total_acc = 0\n",
    "    for query_id in dict_predictions:\n",
    "        y_meas = np.array(dict_predictions[query_id]).flatten()\n",
    "        max_index = np.argmax(y_meas)\n",
    "        total_acc += int(int(dict_labels[query_id][max_index]) == 1)\n",
    "    return total_acc / len(dict_predictions)\n",
    "\n",
    "\n",
    "def loss_from_dict(dict_predictions, dict_labels):\n",
    "    total_loss = 0\n",
    "    for query_id in dict_predictions:\n",
    "        x = np.array(dict_labels[query_id])\n",
    "        y_pred = np.array(dict_predictions[query_id]).flatten()\n",
    "        total_loss += -np.sum(x * np.log(y_pred)) / len(x)\n",
    "    return total_loss"
   ]
  },
  {
   "cell_type": "code",
   "execution_count": 7,
   "id": "e35e93ae-ee26-437b-83ba-93e3315d2efd",
   "metadata": {},
   "outputs": [],
   "source": [
    "def make_cost_fn(qnodes, labels):    \n",
    "    def cost_spsa(params, **kwargs):\n",
    "        predictions = {}\n",
    "        for q in qnodes:\n",
    "            circuit = qnodes[q]\n",
    "            measurement = circuit(params)\n",
    "            post_selected_samples = post_select_circuit_samples(measurement)\n",
    "            counts = collections.Counter(post_selected_result)\n",
    "            res = {}\n",
    "            for s in collections.OrderedDict(sorted(counts.items())):\n",
    "                res[s] = counts[s]/len(post_selected_samples)\n",
    "            predictions[q] = res\n",
    "        \n",
    "        cost = loss_from_dict(predictions, labels) #-np.sum(labels * np.log(predictions)) / len(labels)  # binary cross-entropy loss\n",
    "        costs.append(cost)\n",
    "\n",
    "        accuracy = acc_from_dict(predictions, labels) #np.sum(np.round(predictions) == labels) / len(labels) / 2  # half due to double-counting\n",
    "        accuracies.append(accuracy)\n",
    "        \n",
    "        return cost\n",
    "    \n",
    "    costs, accuracies = [], []\n",
    "    return cost_spsa, costs, accuracies"
   ]
  },
  {
   "cell_type": "markdown",
   "id": "1464e9bc-0aec-4dce-8d8f-6022c3979f66",
   "metadata": {},
   "source": [
    "## SPSA minimization"
   ]
  },
  {
   "cell_type": "code",
   "execution_count": 8,
   "id": "ea4e4bcd-663c-4a38-9136-653d5fc88b6b",
   "metadata": {},
   "outputs": [],
   "source": [
    "BATCH_SIZE = 32\n",
    "EPOCHS = 200\n",
    "SEED = 0\n",
    "\n",
    "rng = np.random.default_rng(SEED)\n",
    "init_params_spsa = np.array(rng.random(len(symbols)))\n",
    "numpy.random.seed(SEED)\n",
    "\n",
    "train_cost_fn, train_costs, train_accs = make_cost_fn(training_qnodes, training_data_labels_l)\n",
    "#dev_cost_fn, dev_costs, dev_accs = make_cost_fn(dev_pred_fn, dev_labels)\n",
    "\n",
    "# Evaluate the initial cost\n",
    "cost_store_spsa = [train_cost_fn(init_params_spsa)]\n",
    "#print(init_params_spsa)\n",
    "#print()\n",
    "#print(training_data_labels_l)\n",
    "#print()\n",
    "#print(cost_store_spsa)\n",
    "device_execs_spsa = [0]\n",
    "\n",
    "def callback_fn(xk):\n",
    "    cost_val = train_cost_fn(xk)\n",
    "    cost_store_spsa.append(cost_val)\n",
    "\n",
    "    # We've evaluated the cost function, let's make up for that\n",
    "    num_executions = int(dev.num_executions / 2)\n",
    "    device_execs_spsa.append(num_executions)\n",
    "\n",
    "    iteration_num = len(cost_store_spsa)\n",
    "    print(\n",
    "            f\"Params = {xk}, \"\n",
    "            f\"Iteration = {iteration_num}, \"\n",
    "            f\"Number of device executions = {num_executions}, \"\n",
    "            f\"Cost = {cost_val}\"\n",
    "        )"
   ]
  },
  {
   "cell_type": "code",
   "execution_count": null,
   "id": "2c814211-8d9a-45aa-bacd-1cd879545b75",
   "metadata": {},
   "outputs": [
    {
     "name": "stdout",
     "output_type": "stream",
     "text": [
      "Params = [0.60104737 0.2338724  0.00505921 ... 0.89903452 0.84539286 0.47479219], Iteration = 2, Number of device executions = 50, Cost = 0.7120762862749391\n",
      "Params = [ 0.69515929  0.13976048 -0.08905271 ...  0.8049226   0.93950478\n",
      "  0.38068027], Iteration = 3, Number of device executions = 87, Cost = 0.6615862146685579\n",
      "Params = [ 0.78384029  0.05107949 -0.1777337  ...  0.71624161  1.02818577\n",
      "  0.46936127], Iteration = 4, Number of device executions = 125, Cost = 0.7460381406386465\n",
      "Params = [ 0.78922026  0.04569951 -0.17235373 ...  0.72162158  1.03356575\n",
      "  0.46398129], Iteration = 5, Number of device executions = 162, Cost = 0.7107609971686729\n",
      "Params = [ 0.78303381  0.05188596 -0.16616728 ...  0.72780803  1.0273793\n",
      "  0.47016774], Iteration = 6, Number of device executions = 200, Cost = 0.6668101021206293\n",
      "Params = [ 0.76154107  0.03039322 -0.14467454 ...  0.74930077  1.00588656\n",
      "  0.448675  ], Iteration = 7, Number of device executions = 237, Cost = 0.707839039079418\n",
      "Params = [ 0.73653022  0.00538237 -0.16968538 ...  0.77431162  1.0308974\n",
      "  0.42366415], Iteration = 8, Number of device executions = 275, Cost = 0.6608618826050433\n",
      "Params = [ 0.77476805  0.0436202  -0.13144756 ...  0.81254944  1.06913523\n",
      "  0.46190198], Iteration = 9, Number of device executions = 312, Cost = 0.7390550684658831\n",
      "Params = [ 0.76398975  0.05439849 -0.12066926 ...  0.82332774  1.07991352\n",
      "  0.47268027], Iteration = 10, Number of device executions = 350, Cost = 0.7922995027962857\n",
      "Params = [ 0.79188618  0.02650206 -0.14856569 ...  0.85122417  1.0520171\n",
      "  0.5005767 ], Iteration = 11, Number of device executions = 387, Cost = 0.7355874962822289\n",
      "Params = [ 0.73469147  0.08369677 -0.2057604  ...  0.90841887  0.99482239\n",
      "  0.44338199], Iteration = 12, Number of device executions = 425, Cost = 0.7119011393194026\n"
     ]
    }
   ],
   "source": [
    "result = minimizeSPSA(train_cost_fn, x0=init_params_spsa.copy(), a=0.91, c=0.12, niter=EPOCHS, paired=False, callback=callback_fn)\n",
    "\n",
    "#res = minimizeSPSA(\n",
    "#    cost_spsa,\n",
    "#    x0=init_params_spsa.copy(),\n",
    "#    niter=EPOCHS,\n",
    "#    paired=False,\n",
    "#    c=0.15,\n",
    "#    a=0.2,\n",
    "#    callback=callback_fn,\n",
    "#)"
   ]
  },
  {
   "cell_type": "raw",
   "id": "f8c689f6-9ab3-4c4a-be04-f773785cd1bb",
   "metadata": {},
   "source": [
    "import matplotlib.pyplot as plt\n",
    "\n",
    "fig, ((ax_tl, ax_tr), (ax_bl, ax_br)) = plt.subplots(2, 2, sharex=True, sharey='row', figsize=(10, 6))\n",
    "ax_tl.set_title('Training set')\n",
    "ax_tr.set_title('Development set')\n",
    "ax_bl.set_xlabel('Iterations')\n",
    "ax_br.set_xlabel('Iterations')\n",
    "ax_bl.set_ylabel('Accuracy')\n",
    "ax_tl.set_ylabel('Loss')\n",
    "\n",
    "colours = iter(plt.rcParams['axes.prop_cycle'].by_key()['color'])\n",
    "ax_tl.plot(train_costs[1::2], color=next(colours))  # training evaluates twice per iteration\n",
    "ax_bl.plot(train_accs[1::2], color=next(colours))   # so take every other entry\n",
    "ax_tr.plot(dev_costs, color=next(colours))\n",
    "ax_br.plot(dev_accs, color=next(colours))\n",
    "\n",
    "# print test accuracy\n",
    "test_cost_fn, _, test_accs = make_cost_fn(test_pred_fn, test_labels)\n",
    "test_cost_fn(result.x)\n",
    "print('Test accuracy:', test_accs[0])"
   ]
  }
 ],
 "metadata": {
  "kernelspec": {
   "display_name": "Python 3 (ipykernel)",
   "language": "python",
   "name": "python3"
  },
  "language_info": {
   "codemirror_mode": {
    "name": "ipython",
    "version": 3
   },
   "file_extension": ".py",
   "mimetype": "text/x-python",
   "name": "python",
   "nbconvert_exporter": "python",
   "pygments_lexer": "ipython3",
   "version": "3.8.10"
  }
 },
 "nbformat": 4,
 "nbformat_minor": 5
}
