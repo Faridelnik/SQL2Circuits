{
 "cells": [
  {
   "cell_type": "markdown",
   "id": "cc9bede7-1703-4723-b5fa-172d327b2594",
   "metadata": {},
   "source": [
    "# Quantum computing code draft for SQL grammar to circuit"
   ]
  },
  {
   "cell_type": "markdown",
   "id": "ad7c063e-77cd-4a87-8a5b-148daaaa38b9",
   "metadata": {},
   "source": [
    "## Parsing"
   ]
  },
  {
   "cell_type": "markdown",
   "id": "983f98b4-186c-40d2-9217-60bbb25347f2",
   "metadata": {},
   "source": [
    "Parse the SQL queries from the examples folder. The queries are parsed with ANTRL framework which is extensive general-purpose parsing tool. We selected the SQLite grammar for its simplicity in ANTRL. Because the core features of SQL are the same for any relational database, this code does not depend on system dependent SQL ''dialects''."
   ]
  },
  {
   "cell_type": "code",
   "execution_count": 1,
   "id": "f4075cf1-b27e-498c-9e85-82f30a01ff70",
   "metadata": {},
   "outputs": [
    {
     "name": "stdout",
     "output_type": "stream",
     "text": [
      "(parse (sql_stmt_list (sql_stmt (select_stmt (select_core SELECT (result_column (expr (column_name (any_name rick)))) , (result_column (expr (column_name (any_name morty)))) FROM (table_or_subquery (table_name (any_name reality_1))) , (table_or_subquery (table_name (any_name reality_2))) WHERE (expr (expr (expr (column_name (any_name rick))) = (expr (literal_value 1000))) AND (expr (expr (column_name (any_name morty))) = (expr (literal_value 10)))))))) <EOF>)\n"
     ]
    }
   ],
   "source": [
    "from antlr4 import *\n",
    "from SQLiteLexer import SQLiteLexer\n",
    "from SQLiteParser import SQLiteParser\n",
    "from SQLiteParserListener import SQLiteParserListener\n",
    "\n",
    "input_file = \"examples/sql2.sql\"\n",
    "\n",
    "input = FileStream(input_file)\n",
    "lexer = SQLiteLexer(input)\n",
    "stream = CommonTokenStream(lexer)\n",
    "parser = SQLiteParser(stream)\n",
    "tree = parser.parse()\n",
    "print(\"Whole parse tree: \")\n",
    "print(tree.toStringTree(recog=parser))"
   ]
  },
  {
   "cell_type": "code",
   "execution_count": 2,
   "id": "e05abcf6-0244-4e8d-83dd-0d6819020df9",
   "metadata": {},
   "outputs": [
    {
     "name": "stdout",
     "output_type": "stream",
     "text": [
      "SELECT\n",
      ",\n",
      "FROM\n",
      "<class 'antlr4.tree.Tree.TerminalNodeImpl'>\n",
      "SELECT\n",
      "<class 'SQLiteParser.SQLiteParser.Result_columnContext'>\n",
      "(result_column (expr (column_name (any_name rick))))\n",
      "<class 'antlr4.tree.Tree.TerminalNodeImpl'>\n",
      ",\n",
      "<class 'SQLiteParser.SQLiteParser.Result_columnContext'>\n",
      "(result_column (expr (column_name (any_name morty))))\n",
      "<class 'antlr4.tree.Tree.TerminalNodeImpl'>\n",
      "FROM\n",
      "<class 'SQLiteParser.SQLiteParser.Table_or_subqueryContext'>\n",
      "(table_or_subquery (table_name (any_name reality_1)))\n",
      "<class 'antlr4.tree.Tree.TerminalNodeImpl'>\n",
      ",\n",
      "<class 'SQLiteParser.SQLiteParser.Table_or_subqueryContext'>\n",
      "(table_or_subquery (table_name (any_name reality_2)))\n",
      "<class 'antlr4.tree.Tree.TerminalNodeImpl'>\n",
      "WHERE\n",
      "<class 'SQLiteParser.SQLiteParser.ExprContext'>\n",
      "(expr (expr (expr (column_name (any_name rick))) = (expr (literal_value 1000))) AND (expr (expr (column_name (any_name morty))) = (expr (literal_value 10))))\n",
      "(result_column (expr (column_name (any_name rick))))\n",
      "(result_column (expr (column_name (any_name morty))))\n",
      "(table_or_subquery (table_name (any_name reality_1)))\n",
      "(table_or_subquery (table_name (any_name reality_2)))\n"
     ]
    }
   ],
   "source": []
  },
  {
   "cell_type": "markdown",
   "id": "0a1cfaad-e0f4-4b1c-b5db-279ebc39126a",
   "metadata": {},
   "source": [
    "## Diagrammatic representation of SQL language elements in context free grammar"
   ]
  },
  {
   "cell_type": "markdown",
   "id": "edd82ed2-3a53-4b18-9190-d7bba64ea1d7",
   "metadata": {},
   "source": [
    "We walk the tree and collect the elements in a monoidal category. This creates a diagrammatic representation for the parsed SQL query. `SQLiteParserListener` class implements DisCoPy construction. First we collect the abstract parse tree without doing any modifications to it."
   ]
  },
  {
   "cell_type": "code",
   "execution_count": null,
   "id": "4b74b4a5-64fd-47f9-844b-a22d4a820217",
   "metadata": {},
   "outputs": [],
   "source": [
    "walker = ParseTreeWalker()\n",
    "listener = SQLiteParserListener(parser)\n",
    "walker.walk(listener, tree)\n",
    "# listener.get_SQL_diagram()"
   ]
  },
  {
   "cell_type": "markdown",
   "id": "86ea88f3-dfa6-4bd0-92f2-9338fe7cb1b3",
   "metadata": {},
   "source": [
    "Because the abstract syntax tree contains lots of unnecessary information for our purposes, we can functorially rewrite it. We also rename some parts of it. This functorial rewriting process is just something that we have developed especially for this work and it is open to discussion if there exists a more suitable rewrite mapping."
   ]
  },
  {
   "cell_type": "markdown",
   "id": "bd39455e-ab1f-4914-86bd-8a3beeb1d28f",
   "metadata": {},
   "source": [
    "## Functorially map context free grammar representations to pregroup representations"
   ]
  },
  {
   "cell_type": "markdown",
   "id": "4ccc75ce-a7a0-4f36-bf0c-541b28f59d49",
   "metadata": {},
   "source": [
    "## Convert pregroup representations to circuits"
   ]
  },
  {
   "cell_type": "code",
   "execution_count": null,
   "id": "97d6d5a1-a812-4fd2-b37d-a7832ae225b9",
   "metadata": {},
   "outputs": [],
   "source": []
  }
 ],
 "metadata": {
  "kernelspec": {
   "display_name": "Python 3 (ipykernel)",
   "language": "python",
   "name": "python3"
  },
  "language_info": {
   "codemirror_mode": {
    "name": "ipython",
    "version": 3
   },
   "file_extension": ".py",
   "mimetype": "text/x-python",
   "name": "python",
   "nbconvert_exporter": "python",
   "pygments_lexer": "ipython3",
   "version": "3.10.2"
  }
 },
 "nbformat": 4,
 "nbformat_minor": 5
}
