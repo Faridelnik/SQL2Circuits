{
 "cells": [
  {
   "cell_type": "markdown",
   "id": "cc9bede7-1703-4723-b5fa-172d327b2594",
   "metadata": {},
   "source": [
    "# Quantum computing code draft for SQL grammar to circuit"
   ]
  },
  {
   "cell_type": "markdown",
   "id": "ad7c063e-77cd-4a87-8a5b-148daaaa38b9",
   "metadata": {},
   "source": [
    "## Parsing"
   ]
  },
  {
   "cell_type": "markdown",
   "id": "983f98b4-186c-40d2-9217-60bbb25347f2",
   "metadata": {},
   "source": [
    "Parse the SQL queries from the examples folder. The queries are parsed with ANTRL framework which is extensive general-purpose parsing tool. We selected the SQLite grammar for its simplicity in ANTRL. Because the core features of SQL are the same for any relational database, this code does not depend on system dependent SQL ''dialects''."
   ]
  },
  {
   "cell_type": "code",
   "execution_count": 1,
   "id": "f4075cf1-b27e-498c-9e85-82f30a01ff70",
   "metadata": {},
   "outputs": [
    {
     "name": "stdout",
     "output_type": "stream",
     "text": [
      "Whole parse tree: \n",
      "(parse (sql_stmt_list (sql_stmt (select_stmt (select_core SELECT (result_column (expr (column_name (any_name rick)))) , (result_column (expr (column_name (any_name morty)))) FROM (table_or_subquery (table_name (any_name reality_1))) , (table_or_subquery (table_name (any_name reality_2))) WHERE (expr (expr (expr (column_name (any_name rick))) = (expr (literal_value 1000))) AND (expr (expr (column_name (any_name morty))) = (expr (literal_value 10)))))))) <EOF>)\n"
     ]
    }
   ],
   "source": [
    "from antlr4 import *\n",
    "from SQLiteLexer import SQLiteLexer\n",
    "from SQLiteParser import SQLiteParser\n",
    "from SQLiteParserListener import SQLiteParserListener\n",
    "import json\n",
    "\n",
    "input_file = \"examples/sql2.sql\"\n",
    "\n",
    "input = FileStream(input_file)\n",
    "lexer = SQLiteLexer(input)\n",
    "stream = CommonTokenStream(lexer)\n",
    "parser = SQLiteParser(stream)\n",
    "tree = parser.parse()\n",
    "\n",
    "print(\"Whole parse tree: \")\n",
    "print(tree.toStringTree(recog=parser))"
   ]
  },
  {
   "cell_type": "markdown",
   "id": "0a1cfaad-e0f4-4b1c-b5db-279ebc39126a",
   "metadata": {},
   "source": [
    "## Diagrammatic representation of SQL language elements in context free grammar"
   ]
  },
  {
   "cell_type": "markdown",
   "id": "edd82ed2-3a53-4b18-9190-d7bba64ea1d7",
   "metadata": {},
   "source": [
    "We walk the tree and collect the elements in a monoidal category. This creates a diagrammatic representation for the parsed SQL query. `SQLiteParserListener` class implements DisCoPy construction. First we collect the abstract parse tree but we also modify it so that we collect SELECT and the columns into the same element, FROM and tables into the same element and WHERE and the filtering clauses into the same element. This interpretation follows the [railroad diagram representation](https://www.sqlite.org/syntaxdiagrams.html#select-core) more accurately than the current parsing. It also enables us to map the parse tree correctly later."
   ]
  },
  {
   "cell_type": "code",
   "execution_count": 2,
   "id": "4b74b4a5-64fd-47f9-844b-a22d4a820217",
   "metadata": {},
   "outputs": [
    {
     "ename": "AxiomError",
     "evalue": "parse >> sql_stmt_list >> sql_stmt >> select_stmt >> select_core >> select_main @ Id(from_clause @ where_clause) >> Id(keyword @ identifier) @ from_main @ Id(where_clause) >> Id(keyword @ identifier @ keyword @ identifier) @ where_main does not compose with SELECT @ Id(identifier @ identifier @ identifier @ identifier @ expression) >> Id(keyword) @ result_column @ Id(identifier @ identifier @ identifier @ expression) >> Id(keyword) @ expr @ Id(identifier @ identifier @ identifier @ expression) >> Id(keyword) @ column_name @ Id(identifier @ identifier @ identifier @ expression) >> Id(keyword) @ any_name @ Id(identifier @ identifier @ identifier @ expression) >> Id(keyword @ rick) @ result_column @ Id(identifier @ identifier @ expression) >> Id(keyword @ rick) @ expr @ Id(identifier @ identifier @ expression) >> Id(keyword @ rick) @ column_name @ Id(identifier @ identifier @ expression) >> Id(keyword @ rick) @ any_name @ Id(identifier @ identifier @ expression) >> Id(keyword @ rick @ morty) @ FROM @ Id(identifier @ identifier @ expression) >> Id(keyword @ rick @ morty @ keyword) @ table_or_subquery @ Id(identifier @ expression) >> Id(keyword @ rick @ morty @ keyword) @ table_name @ Id(identifier @ expression) >> Id(keyword @ rick @ morty @ keyword) @ any_name @ Id(identifier @ expression) >> Id(keyword @ rick @ morty @ keyword @ reality_1) @ table_or_subquery @ Id(expression) >> Id(keyword @ rick @ morty @ keyword @ reality_1) @ table_name @ Id(expression) >> Id(keyword @ rick @ morty @ keyword @ reality_1) @ any_name @ Id(expression) >> Id(keyword @ rick @ morty @ keyword @ reality_1 @ reality_2) @ WHERE @ Id(expression) >> Id(keyword @ rick @ morty @ keyword @ reality_1 @ reality_2 @ keyword) @ expr.",
     "output_type": "error",
     "traceback": [
      "\u001b[1;31m---------------------------------------------------------------------------\u001b[0m",
      "\u001b[1;31mAxiomError\u001b[0m                                Traceback (most recent call last)",
      "Input \u001b[1;32mIn [2]\u001b[0m, in \u001b[0;36m<module>\u001b[1;34m\u001b[0m\n\u001b[0;32m      1\u001b[0m walker \u001b[38;5;241m=\u001b[39m ParseTreeWalker()\n\u001b[0;32m      2\u001b[0m listener \u001b[38;5;241m=\u001b[39m SQLiteParserListener(parser)\n\u001b[1;32m----> 3\u001b[0m \u001b[43mwalker\u001b[49m\u001b[38;5;241;43m.\u001b[39;49m\u001b[43mwalk\u001b[49m\u001b[43m(\u001b[49m\u001b[43mlistener\u001b[49m\u001b[43m,\u001b[49m\u001b[43m \u001b[49m\u001b[43mtree\u001b[49m\u001b[43m)\u001b[49m\n\u001b[0;32m      4\u001b[0m diagrams \u001b[38;5;241m=\u001b[39m listener\u001b[38;5;241m.\u001b[39mget_SQL_diagrams()\n\u001b[0;32m      5\u001b[0m \u001b[38;5;28;01mfor\u001b[39;00m key \u001b[38;5;129;01min\u001b[39;00m diagrams:\n",
      "File \u001b[1;32m~\\AppData\\Local\\Programs\\Python\\Python310\\lib\\site-packages\\antlr4\\tree\\Tree.py:161\u001b[0m, in \u001b[0;36mParseTreeWalker.walk\u001b[1;34m(self, listener, t)\u001b[0m\n\u001b[0;32m    159\u001b[0m \u001b[38;5;28;01mfor\u001b[39;00m child \u001b[38;5;129;01min\u001b[39;00m t\u001b[38;5;241m.\u001b[39mgetChildren():\n\u001b[0;32m    160\u001b[0m     \u001b[38;5;28mself\u001b[39m\u001b[38;5;241m.\u001b[39mwalk(listener, child)\n\u001b[1;32m--> 161\u001b[0m \u001b[38;5;28;43mself\u001b[39;49m\u001b[38;5;241;43m.\u001b[39;49m\u001b[43mexitRule\u001b[49m\u001b[43m(\u001b[49m\u001b[43mlistener\u001b[49m\u001b[43m,\u001b[49m\u001b[43m \u001b[49m\u001b[43mt\u001b[49m\u001b[43m)\u001b[49m\n",
      "File \u001b[1;32m~\\AppData\\Local\\Programs\\Python\\Python310\\lib\\site-packages\\antlr4\\tree\\Tree.py:188\u001b[0m, in \u001b[0;36mParseTreeWalker.exitRule\u001b[1;34m(self, listener, r)\u001b[0m\n\u001b[0;32m    181\u001b[0m         \u001b[38;5;124;03m\"\"\"\u001b[39;00m\n\u001b[0;32m    182\u001b[0m \u001b[38;5;124;03m\t    Exits a grammar rule by first triggering the event specific to the given parse tree node\u001b[39;00m\n\u001b[0;32m    183\u001b[0m \u001b[38;5;124;03m\t    then by triggering the generic event {@link ParseTreeListener#exitEveryRule}\u001b[39;00m\n\u001b[0;32m    184\u001b[0m \u001b[38;5;124;03m\t    @param listener The listener responding to the trigger events\u001b[39;00m\n\u001b[0;32m    185\u001b[0m \u001b[38;5;124;03m\t    @param r The grammar rule containing the rule context\u001b[39;00m\n\u001b[0;32m    186\u001b[0m \u001b[38;5;124;03m        \"\"\"\u001b[39;00m\n\u001b[0;32m    187\u001b[0m         ctx \u001b[38;5;241m=\u001b[39m r\u001b[38;5;241m.\u001b[39mgetRuleContext()\n\u001b[1;32m--> 188\u001b[0m         \u001b[43mctx\u001b[49m\u001b[38;5;241;43m.\u001b[39;49m\u001b[43mexitRule\u001b[49m\u001b[43m(\u001b[49m\u001b[43mlistener\u001b[49m\u001b[43m)\u001b[49m\n\u001b[0;32m    189\u001b[0m         listener\u001b[38;5;241m.\u001b[39mexitEveryRule(ctx)\n",
      "File \u001b[1;32m~\\Desktop\\quantum-computing-for-database-query-languages\\SQLiteParser.py:1535\u001b[0m, in \u001b[0;36mSQLiteParser.ParseContext.exitRule\u001b[1;34m(self, listener)\u001b[0m\n\u001b[0;32m   1533\u001b[0m \u001b[38;5;28;01mdef\u001b[39;00m \u001b[38;5;21mexitRule\u001b[39m(\u001b[38;5;28mself\u001b[39m, listener:ParseTreeListener):\n\u001b[0;32m   1534\u001b[0m     \u001b[38;5;28;01mif\u001b[39;00m \u001b[38;5;28mhasattr\u001b[39m( listener, \u001b[38;5;124m\"\u001b[39m\u001b[38;5;124mexitParse\u001b[39m\u001b[38;5;124m\"\u001b[39m ):\n\u001b[1;32m-> 1535\u001b[0m         \u001b[43mlistener\u001b[49m\u001b[38;5;241;43m.\u001b[39;49m\u001b[43mexitParse\u001b[49m\u001b[43m(\u001b[49m\u001b[38;5;28;43mself\u001b[39;49m\u001b[43m)\u001b[49m\n",
      "File \u001b[1;32m~\\Desktop\\quantum-computing-for-database-query-languages\\SQLiteParserListener.py:62\u001b[0m, in \u001b[0;36mSQLiteParserListener.exitParse\u001b[1;34m(self, ctx)\u001b[0m\n\u001b[0;32m     60\u001b[0m \u001b[38;5;28;01mfor\u001b[39;00m diagram \u001b[38;5;129;01min\u001b[39;00m \u001b[38;5;28mself\u001b[39m\u001b[38;5;241m.\u001b[39mtable_or_subquery_diagrams:\n\u001b[0;32m     61\u001b[0m     table_subquery_diagrams \u001b[38;5;241m=\u001b[39m table_subquery_diagrams \u001b[38;5;241m@\u001b[39m diagram\n\u001b[1;32m---> 62\u001b[0m \u001b[38;5;28mself\u001b[39m\u001b[38;5;241m.\u001b[39mfinal_diagram \u001b[38;5;241m=\u001b[39m \u001b[38;5;28;43mself\u001b[39;49m\u001b[38;5;241;43m.\u001b[39;49m\u001b[43mselect_core_diagram\u001b[49m\u001b[43m \u001b[49m\u001b[43m\\\u001b[49m\n\u001b[0;32m     63\u001b[0m \u001b[43m\u001b[49m\u001b[38;5;241;43m>>\u001b[39;49m\u001b[43m \u001b[49m\u001b[38;5;28;43mself\u001b[39;49m\u001b[38;5;241;43m.\u001b[39;49m\u001b[43mselect_main_box\u001b[49m\u001b[43m \u001b[49m\u001b[38;5;241;43m@\u001b[39;49m\u001b[43m \u001b[49m\u001b[38;5;28;43mself\u001b[39;49m\u001b[38;5;241;43m.\u001b[39;49m\u001b[43mfrom_main_box\u001b[49m\u001b[43m \u001b[49m\u001b[38;5;241;43m@\u001b[39;49m\u001b[43m \u001b[49m\u001b[38;5;28;43mself\u001b[39;49m\u001b[38;5;241;43m.\u001b[39;49m\u001b[43mwhere_main_box\u001b[49m\u001b[43m \u001b[49m\u001b[43m\\\u001b[49m\n\u001b[0;32m     64\u001b[0m \u001b[43m\u001b[49m\u001b[38;5;241;43m>>\u001b[39;49m\u001b[43m \u001b[49m\u001b[43mres_col_diagrams\u001b[49m\u001b[43m \u001b[49m\u001b[38;5;241;43m@\u001b[39;49m\u001b[43m \u001b[49m\u001b[43mtable_subquery_diagrams\u001b[49m\u001b[43m \u001b[49m\u001b[38;5;241;43m@\u001b[39;49m\u001b[43m \u001b[49m\u001b[43mWord\u001b[49m\u001b[43m(\u001b[49m\u001b[38;5;124;43m'\u001b[39;49m\u001b[38;5;124;43mWHERE\u001b[39;49m\u001b[38;5;124;43m'\u001b[39;49m\u001b[43m,\u001b[49m\u001b[43m \u001b[49m\u001b[43mTy\u001b[49m\u001b[43m(\u001b[49m\u001b[38;5;124;43m'\u001b[39;49m\u001b[38;5;124;43mkeyword\u001b[39;49m\u001b[38;5;124;43m'\u001b[39;49m\u001b[43m)\u001b[49m\u001b[43m)\u001b[49m\u001b[43m \u001b[49m\u001b[38;5;241;43m@\u001b[39;49m\u001b[43m \u001b[49m\u001b[38;5;28;43mself\u001b[39;49m\u001b[38;5;241;43m.\u001b[39;49m\u001b[43mcurrent_filtering_diagram\u001b[49m\n",
      "File \u001b[1;32m~\\AppData\\Local\\Programs\\Python\\Python310\\lib\\site-packages\\discopy\\cat.py:299\u001b[0m, in \u001b[0;36mArrow.__rshift__\u001b[1;34m(self, other)\u001b[0m\n\u001b[0;32m    298\u001b[0m \u001b[38;5;28;01mdef\u001b[39;00m \u001b[38;5;21m__rshift__\u001b[39m(\u001b[38;5;28mself\u001b[39m, other):\n\u001b[1;32m--> 299\u001b[0m     \u001b[38;5;28;01mreturn\u001b[39;00m \u001b[38;5;28;43mself\u001b[39;49m\u001b[38;5;241;43m.\u001b[39;49m\u001b[43mthen\u001b[49m\u001b[43m(\u001b[49m\u001b[43mother\u001b[49m\u001b[43m)\u001b[49m\n",
      "File \u001b[1;32m~\\AppData\\Local\\Programs\\Python\\Python310\\lib\\site-packages\\discopy\\monoidal.py:419\u001b[0m, in \u001b[0;36mDiagram.then\u001b[1;34m(self, *others)\u001b[0m\n\u001b[0;32m    413\u001b[0m     \u001b[38;5;28;01mreturn\u001b[39;00m \u001b[38;5;28msuper\u001b[39m()\u001b[38;5;241m.\u001b[39mthen(\u001b[38;5;241m*\u001b[39mothers)\n\u001b[0;32m    414\u001b[0m other, \u001b[38;5;241m=\u001b[39m others\n\u001b[0;32m    415\u001b[0m \u001b[38;5;28;01mreturn\u001b[39;00m \u001b[38;5;28mself\u001b[39m\u001b[38;5;241m.\u001b[39mupgrade(\n\u001b[0;32m    416\u001b[0m     Diagram(\u001b[38;5;28mself\u001b[39m\u001b[38;5;241m.\u001b[39mdom, other\u001b[38;5;241m.\u001b[39mcod,\n\u001b[0;32m    417\u001b[0m             \u001b[38;5;28mself\u001b[39m\u001b[38;5;241m.\u001b[39mboxes \u001b[38;5;241m+\u001b[39m other\u001b[38;5;241m.\u001b[39mboxes,\n\u001b[0;32m    418\u001b[0m             \u001b[38;5;28mself\u001b[39m\u001b[38;5;241m.\u001b[39moffsets \u001b[38;5;241m+\u001b[39m other\u001b[38;5;241m.\u001b[39moffsets,\n\u001b[1;32m--> 419\u001b[0m             layers\u001b[38;5;241m=\u001b[39m\u001b[38;5;28;43mself\u001b[39;49m\u001b[38;5;241;43m.\u001b[39;49m\u001b[43mlayers\u001b[49m\u001b[43m \u001b[49m\u001b[38;5;241;43m>>\u001b[39;49m\u001b[43m \u001b[49m\u001b[43mother\u001b[49m\u001b[38;5;241;43m.\u001b[39;49m\u001b[43mlayers\u001b[49m))\n",
      "File \u001b[1;32m~\\AppData\\Local\\Programs\\Python\\Python310\\lib\\site-packages\\discopy\\cat.py:299\u001b[0m, in \u001b[0;36mArrow.__rshift__\u001b[1;34m(self, other)\u001b[0m\n\u001b[0;32m    298\u001b[0m \u001b[38;5;28;01mdef\u001b[39;00m \u001b[38;5;21m__rshift__\u001b[39m(\u001b[38;5;28mself\u001b[39m, other):\n\u001b[1;32m--> 299\u001b[0m     \u001b[38;5;28;01mreturn\u001b[39;00m \u001b[38;5;28;43mself\u001b[39;49m\u001b[38;5;241;43m.\u001b[39;49m\u001b[43mthen\u001b[49m\u001b[43m(\u001b[49m\u001b[43mother\u001b[49m\u001b[43m)\u001b[49m\n",
      "File \u001b[1;32m~\\AppData\\Local\\Programs\\Python\\Python310\\lib\\site-packages\\discopy\\cat.py:294\u001b[0m, in \u001b[0;36mArrow.then\u001b[1;34m(self, *others)\u001b[0m\n\u001b[0;32m    292\u001b[0m     \u001b[38;5;28;01mraise\u001b[39;00m \u001b[38;5;167;01mTypeError\u001b[39;00m(messages\u001b[38;5;241m.\u001b[39mtype_err(Arrow, other))\n\u001b[0;32m    293\u001b[0m \u001b[38;5;28;01mif\u001b[39;00m \u001b[38;5;28mself\u001b[39m\u001b[38;5;241m.\u001b[39mcod \u001b[38;5;241m!=\u001b[39m other\u001b[38;5;241m.\u001b[39mdom:\n\u001b[1;32m--> 294\u001b[0m     \u001b[38;5;28;01mraise\u001b[39;00m AxiomError(messages\u001b[38;5;241m.\u001b[39mdoes_not_compose(\u001b[38;5;28mself\u001b[39m, other))\n\u001b[0;32m    295\u001b[0m \u001b[38;5;28;01mreturn\u001b[39;00m \u001b[38;5;28mself\u001b[39m\u001b[38;5;241m.\u001b[39mupgrade(Arrow(\n\u001b[0;32m    296\u001b[0m     \u001b[38;5;28mself\u001b[39m\u001b[38;5;241m.\u001b[39mdom, other\u001b[38;5;241m.\u001b[39mcod, \u001b[38;5;28mself\u001b[39m\u001b[38;5;241m.\u001b[39mboxes \u001b[38;5;241m+\u001b[39m other\u001b[38;5;241m.\u001b[39mboxes, _scan\u001b[38;5;241m=\u001b[39m\u001b[38;5;28;01mFalse\u001b[39;00m))\n",
      "\u001b[1;31mAxiomError\u001b[0m: parse >> sql_stmt_list >> sql_stmt >> select_stmt >> select_core >> select_main @ Id(from_clause @ where_clause) >> Id(keyword @ identifier) @ from_main @ Id(where_clause) >> Id(keyword @ identifier @ keyword @ identifier) @ where_main does not compose with SELECT @ Id(identifier @ identifier @ identifier @ identifier @ expression) >> Id(keyword) @ result_column @ Id(identifier @ identifier @ identifier @ expression) >> Id(keyword) @ expr @ Id(identifier @ identifier @ identifier @ expression) >> Id(keyword) @ column_name @ Id(identifier @ identifier @ identifier @ expression) >> Id(keyword) @ any_name @ Id(identifier @ identifier @ identifier @ expression) >> Id(keyword @ rick) @ result_column @ Id(identifier @ identifier @ expression) >> Id(keyword @ rick) @ expr @ Id(identifier @ identifier @ expression) >> Id(keyword @ rick) @ column_name @ Id(identifier @ identifier @ expression) >> Id(keyword @ rick) @ any_name @ Id(identifier @ identifier @ expression) >> Id(keyword @ rick @ morty) @ FROM @ Id(identifier @ identifier @ expression) >> Id(keyword @ rick @ morty @ keyword) @ table_or_subquery @ Id(identifier @ expression) >> Id(keyword @ rick @ morty @ keyword) @ table_name @ Id(identifier @ expression) >> Id(keyword @ rick @ morty @ keyword) @ any_name @ Id(identifier @ expression) >> Id(keyword @ rick @ morty @ keyword @ reality_1) @ table_or_subquery @ Id(expression) >> Id(keyword @ rick @ morty @ keyword @ reality_1) @ table_name @ Id(expression) >> Id(keyword @ rick @ morty @ keyword @ reality_1) @ any_name @ Id(expression) >> Id(keyword @ rick @ morty @ keyword @ reality_1 @ reality_2) @ WHERE @ Id(expression) >> Id(keyword @ rick @ morty @ keyword @ reality_1 @ reality_2 @ keyword) @ expr."
     ]
    }
   ],
   "source": [
    "walker = ParseTreeWalker()\n",
    "listener = SQLiteParserListener(parser)\n",
    "walker.walk(listener, tree)\n",
    "diagrams = listener.get_SQL_diagrams()\n",
    "for key in diagrams:\n",
    "    print(key)\n",
    "    for diagram in diagrams[key]:\n",
    "        diagram.draw(figsize=(8, 8))"
   ]
  },
  {
   "cell_type": "markdown",
   "id": "86ea88f3-dfa6-4bd0-92f2-9338fe7cb1b3",
   "metadata": {},
   "source": [
    "Because the abstract syntax tree contains lots of unnecessary information for our purposes, we can functorially rewrite it. We also rename some parts of it. This functorial rewriting process is just something that we have developed especially for this work and it is open to discussion if there exists a more suitable rewrite mapping."
   ]
  },
  {
   "cell_type": "markdown",
   "id": "bd39455e-ab1f-4914-86bd-8a3beeb1d28f",
   "metadata": {},
   "source": [
    "## Functorially map context free grammar representations to pregroup representations"
   ]
  },
  {
   "cell_type": "markdown",
   "id": "4ccc75ce-a7a0-4f36-bf0c-541b28f59d49",
   "metadata": {},
   "source": [
    "## Convert pregroup representations to circuits"
   ]
  },
  {
   "cell_type": "code",
   "execution_count": null,
   "id": "97d6d5a1-a812-4fd2-b37d-a7832ae225b9",
   "metadata": {},
   "outputs": [],
   "source": []
  }
 ],
 "metadata": {
  "kernelspec": {
   "display_name": "Python 3 (ipykernel)",
   "language": "python",
   "name": "python3"
  },
  "language_info": {
   "codemirror_mode": {
    "name": "ipython",
    "version": 3
   },
   "file_extension": ".py",
   "mimetype": "text/x-python",
   "name": "python",
   "nbconvert_exporter": "python",
   "pygments_lexer": "ipython3",
   "version": "3.10.2"
  }
 },
 "nbformat": 4,
 "nbformat_minor": 5
}
