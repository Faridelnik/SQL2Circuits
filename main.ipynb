{
 "cells": [
  {
   "cell_type": "markdown",
   "id": "cc9bede7-1703-4723-b5fa-172d327b2594",
   "metadata": {},
   "source": [
    "# Quantum computing code draft for SQL grammar to circuit"
   ]
  },
  {
   "cell_type": "markdown",
   "id": "ad7c063e-77cd-4a87-8a5b-148daaaa38b9",
   "metadata": {},
   "source": [
    "## Parsing"
   ]
  },
  {
   "cell_type": "markdown",
   "id": "983f98b4-186c-40d2-9217-60bbb25347f2",
   "metadata": {},
   "source": [
    "Parse the SQL queries from the examples folder. The queries are parsed with ANTRL framework which is extensive general-purpose parsing tool. We selected the SQLite grammar for its simplicity in ANTRL. Because the core features of SQL are the same for any relational database, this code does not depend on system dependent SQL ''dialects''."
   ]
  },
  {
   "cell_type": "code",
   "execution_count": 1,
   "id": "f4075cf1-b27e-498c-9e85-82f30a01ff70",
   "metadata": {},
   "outputs": [
    {
     "name": "stdout",
     "output_type": "stream",
     "text": [
      "Whole parse tree: \n",
      "(parse (sql_stmt_list (sql_stmt (select_stmt (select_core SELECT (result_column (expr (function_name (any_name MIN)) ( (expr (table_name (any_name t)) . (column_name (any_name title))) )) AS (column_alias movie_title)) FROM (table_or_subquery (table_name (any_name keyword)) AS (table_alias (any_name k))) , (table_or_subquery (table_name (any_name movie_info)) AS (table_alias (any_name mi))) , (table_or_subquery (table_name (any_name movie_keyword)) AS (table_alias (any_name mk))) , (table_or_subquery (table_name (any_name title)) AS (table_alias (any_name t))) WHERE (expr (expr (expr (expr (expr (expr (expr (expr (table_name (any_name k)) . (column_name (any_name keyword))) LIKE (expr (literal_value '%sequel%'))) AND (expr (expr (table_name (any_name mi)) . (column_name (any_name info))) IN (expr ( (expr (literal_value 'Sweden')) , (expr (literal_value 'Norway')) , (expr (literal_value 'Germany')) , (expr (literal_value 'Denmark')) , (expr (literal_value 'Swedish')) , (expr (literal_value 'Denish')) , (expr (literal_value 'Norwegian')) , (expr (literal_value 'German')) )))) AND (expr (expr (table_name (any_name t)) . (column_name (any_name production_year))) > (expr (literal_value 2005)))) AND (expr (expr (table_name (any_name t)) . (column_name (any_name id))) = (expr (table_name (any_name mi)) . (column_name (any_name movie_id))))) AND (expr (expr (table_name (any_name t)) . (column_name (any_name id))) = (expr (table_name (any_name mk)) . (column_name (any_name movie_id))))) AND (expr (expr (table_name (any_name mk)) . (column_name (any_name movie_id))) = (expr (table_name (any_name mi)) . (column_name (any_name movie_id))))) AND (expr (expr (table_name (any_name k)) . (column_name (any_name id))) = (expr (table_name (any_name mk)) . (column_name (any_name keyword_id)))))))) ;) <EOF>)\n"
     ]
    }
   ],
   "source": [
    "from antlr4 import *\n",
    "from SQLiteLexer import SQLiteLexer\n",
    "from SQLiteParser import SQLiteParser\n",
    "from SQLiteParserListener import SQLiteParserListener\n",
    "import json\n",
    "import os\n",
    "\n",
    "input_file = \"examples/JOB-3a.sql\"\n",
    "\n",
    "input = FileStream(input_file)\n",
    "lexer = SQLiteLexer(input)\n",
    "stream = CommonTokenStream(lexer)\n",
    "parser = SQLiteParser(stream)\n",
    "tree = parser.parse()\n",
    "\n",
    "print(\"Whole parse tree: \")\n",
    "print(tree.toStringTree(recog=parser))"
   ]
  },
  {
   "cell_type": "markdown",
   "id": "0a1cfaad-e0f4-4b1c-b5db-279ebc39126a",
   "metadata": {},
   "source": [
    "## Diagrammatic representation of SQL language elements in context free grammar"
   ]
  },
  {
   "cell_type": "markdown",
   "id": "edd82ed2-3a53-4b18-9190-d7bba64ea1d7",
   "metadata": {},
   "source": [
    "We walk the tree and collect the elements in a monoidal category. This creates a diagrammatic representation for the parsed SQL query. `SQLiteParserListener` class implements DisCoPy construction. First we collect the abstract parse tree but we also modify it so that we collect SELECT and the columns into the same element, FROM and tables into the same element and WHERE and the filtering clauses into the same element. This interpretation follows the [railroad diagram representation](https://www.sqlite.org/syntaxdiagrams.html#select-core) more accurately than the current parsing. It also enables us to map the parse tree correctly later."
   ]
  },
  {
   "cell_type": "code",
   "execution_count": 2,
   "id": "4b74b4a5-64fd-47f9-844b-a22d4a820217",
   "metadata": {},
   "outputs": [],
   "source": [
    "this_folder = os.path.abspath(os.getcwd())\n",
    "walker = ParseTreeWalker()\n",
    "listener = SQLiteParserListener(parser)\n",
    "walker.walk(listener, tree)\n",
    "diagram = listener.get_final_diagram()\n",
    "diagram.draw(figsize=(100, 100), path = this_folder + \"\\\\figure.png\")"
   ]
  },
  {
   "cell_type": "code",
   "execution_count": 3,
   "id": "3f2f42ff-0c8e-45a4-9e11-81513808b398",
   "metadata": {},
   "outputs": [],
   "source": [
    "# For debugging\n",
    "\n",
    "#diagrams = listener.get_SQL_diagrams()\n",
    "#for key in diagrams:\n",
    "#    print(key)\n",
    "#    for diagram in diagrams[key]:\n",
    "#        diagram.draw(figsize=(8, 8))"
   ]
  },
  {
   "cell_type": "markdown",
   "id": "bd39455e-ab1f-4914-86bd-8a3beeb1d28f",
   "metadata": {},
   "source": [
    "## Functorially map context free grammar representations to pregroup representations"
   ]
  },
  {
   "cell_type": "markdown",
   "id": "86ea88f3-dfa6-4bd0-92f2-9338fe7cb1b3",
   "metadata": {},
   "source": [
    "Because the abstract syntax tree contains lots of unnecessary information for our purposes, we can functorially rewrite it. This functorial rewriting process is just something that we have developed especially for this work and it is open to discussion if there exists a more suitable rewrite mapping. Also, the parts `select_main`, `from_main` and `where_main` are especially designed for this work although they are visible in the SQLite railroad diagrams without any special name."
   ]
  },
  {
   "cell_type": "markdown",
   "id": "2cc2383b-b787-4385-b8b1-7b6f7f33a7b6",
   "metadata": {},
   "source": [
    "Functor simply describes how the boxes and types are mapped. In this rewriting process we want to simplify the abstract syntax tree. "
   ]
  },
  {
   "cell_type": "code",
   "execution_count": 4,
   "id": "5d81c166-1c31-4416-9685-5bc5e2cd9602",
   "metadata": {},
   "outputs": [
    {
     "ename": "SyntaxError",
     "evalue": "invalid syntax (385970163.py, line 19)",
     "output_type": "error",
     "traceback": [
      "\u001b[1;36m  Input \u001b[1;32mIn [4]\u001b[1;36m\u001b[0m\n\u001b[1;33m    return Box(cod_name, dom=, cod=)\u001b[0m\n\u001b[1;37m                             ^\u001b[0m\n\u001b[1;31mSyntaxError\u001b[0m\u001b[1;31m:\u001b[0m invalid syntax\n"
     ]
    }
   ],
   "source": [
    "functor_data = None\n",
    "with open('rewriter_functor_data.json') as json_file:\n",
    "    functor_data = json.load(json_file)\n",
    "    \n",
    "def object_mapping(obj):\n",
    "    dom_name = obj.name\n",
    "    try:\n",
    "        cod_name = functor_data[\"object_function\"][dom_name]\n",
    "    except:\n",
    "        cod_name = dom_name\n",
    "    return Ty(cod_name)\n",
    "\n",
    "def arrow_mapping(box):\n",
    "    function_dom_name = box.name\n",
    "    try:\n",
    "        cod_name = functor_data[\"arrow_function\"][function_dom_name]\n",
    "    except:\n",
    "        cod_name = dom_name\n",
    "    return Box(cod_name, dom=, cod=)\n",
    "    "
   ]
  },
  {
   "cell_type": "code",
   "execution_count": null,
   "id": "cc4f9424-7bc7-4761-a8ab-3d646afbb230",
   "metadata": {},
   "outputs": [],
   "source": [
    "Rewriter = Functor(ob = lambda x: object_mapping(x), ar = lambda f: arrow_mapping(x))"
   ]
  },
  {
   "cell_type": "markdown",
   "id": "4ccc75ce-a7a0-4f36-bf0c-541b28f59d49",
   "metadata": {},
   "source": [
    "## Convert pregroup representations to circuits"
   ]
  },
  {
   "cell_type": "code",
   "execution_count": null,
   "id": "97d6d5a1-a812-4fd2-b37d-a7832ae225b9",
   "metadata": {},
   "outputs": [],
   "source": []
  }
 ],
 "metadata": {
  "kernelspec": {
   "display_name": "Python 3 (ipykernel)",
   "language": "python",
   "name": "python3"
  },
  "language_info": {
   "codemirror_mode": {
    "name": "ipython",
    "version": 3
   },
   "file_extension": ".py",
   "mimetype": "text/x-python",
   "name": "python",
   "nbconvert_exporter": "python",
   "pygments_lexer": "ipython3",
   "version": "3.10.2"
  }
 },
 "nbformat": 4,
 "nbformat_minor": 5
}
