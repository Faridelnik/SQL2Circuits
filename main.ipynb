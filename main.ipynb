{
 "cells": [
  {
   "cell_type": "code",
   "execution_count": 23,
   "id": "f4075cf1-b27e-498c-9e85-82f30a01ff70",
   "metadata": {},
   "outputs": [
    {
     "name": "stdout",
     "output_type": "stream",
     "text": [
      "(parse (sql_stmt_list (sql_stmt (select_stmt (select_core select (result_column *) from (table_or_subquery (table_name (any_name x))))))) <EOF>)\n"
     ]
    }
   ],
   "source": [
    "from antlr4 import *\n",
    "from SQLiteLexer import SQLiteLexer\n",
    "from SQLiteParser import SQLiteParser\n",
    "\n",
    "input_file = \"examples/sql1.sql\"\n",
    "\n",
    "input = FileStream(input_file)\n",
    "lexer = SQLiteLexer(input)\n",
    "stream = CommonTokenStream(lexer)\n",
    "parser = SQLiteParser(stream)\n",
    "tree = parser.parse()\n",
    "print(tree.toStringTree(recog=parser))"
   ]
  }
 ],
 "metadata": {
  "kernelspec": {
   "display_name": "Python 3 (ipykernel)",
   "language": "python",
   "name": "python3"
  },
  "language_info": {
   "codemirror_mode": {
    "name": "ipython",
    "version": 3
   },
   "file_extension": ".py",
   "mimetype": "text/x-python",
   "name": "python",
   "nbconvert_exporter": "python",
   "pygments_lexer": "ipython3",
   "version": "3.10.2"
  }
 },
 "nbformat": 4,
 "nbformat_minor": 5
}
