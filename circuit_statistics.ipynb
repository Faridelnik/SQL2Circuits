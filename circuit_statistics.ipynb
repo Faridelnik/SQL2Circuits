{
 "cells": [
  {
   "cell_type": "markdown",
   "id": "8374eaf6-f713-4214-aecf-3cc84d89449c",
   "metadata": {},
   "source": [
    "# Notebook to calculate statistics about circuits"
   ]
  },
  {
   "cell_type": "code",
   "execution_count": 1,
   "id": "41f2f030-c7e6-47a1-b4a7-cef29d933d41",
   "metadata": {},
   "outputs": [],
   "source": [
    "import warnings\n",
    "import json\n",
    "import os\n",
    "import sys\n",
    "import glob\n",
    "import numpy\n",
    "import pickle\n",
    "import pennylane as qml\n",
    "\n",
    "from math import ceil\n",
    "from pathlib import Path\n",
    "from jax import numpy as np\n",
    "from sympy import default_sort_key\n",
    "from utils import *\n",
    "\n",
    "this_folder = os.path.abspath(os.getcwd())"
   ]
  },
  {
   "cell_type": "code",
   "execution_count": 2,
   "id": "a9962a83-148e-4a3d-8d52-1d248999ab7f",
   "metadata": {},
   "outputs": [],
   "source": [
    "# Select workload\n",
    "#workload = \"execution_time\"\n",
    "workload = \"cardinality\"\n",
    "\n",
    "# Select workload size\n",
    "#workload_size = \"small\"\n",
    "#workload_size = \"medium\"\n",
    "#workload_size = \"large\"\n",
    "workload_size = \"main\"\n",
    "\n",
    "classification = 2\n",
    "layers = 1\n",
    "single_qubit_params = 3\n",
    "n_wire_count = 1\n",
    "\n",
    "# Access the selected circuits\n",
    "path_name = this_folder + \"//simplified-JOB-diagrams//\" + workload + \"//\" + workload_size + \"//circuits//\" + str(classification) + \"//\" + str(layers) + \"_layer//\" + str(single_qubit_params) + \"_single_qubit_params//\" + str(n_wire_count) + \"_n_wire_count//\""
   ]
  },
  {
   "cell_type": "code",
   "execution_count": 3,
   "id": "e5581e1f-5082-4e10-bd29-602eccd2b9fc",
   "metadata": {},
   "outputs": [],
   "source": [
    "training_circuits_paths = glob.glob(path_name + \"training//[0-9]*.p\")\n",
    "validation_circuits_paths = glob.glob(path_name + \"validation//[0-9]*.p\")\n",
    "test_circuits_paths = glob.glob(path_name + \"test//[0-9]*.p\")"
   ]
  },
  {
   "cell_type": "code",
   "execution_count": 4,
   "id": "853ad7ce-077b-49a9-b502-916a19fa4977",
   "metadata": {},
   "outputs": [],
   "source": [
    "training_circuits = read_diagrams(training_circuits_paths)\n",
    "validation_circuits = read_diagrams(validation_circuits_paths)\n",
    "test_circuits = read_diagrams(test_circuits_paths)"
   ]
  },
  {
   "cell_type": "code",
   "execution_count": 5,
   "id": "124b62f8-f412-40c7-9c89-dd2c12e04473",
   "metadata": {},
   "outputs": [],
   "source": [
    "n_qubits = 20\n",
    "dev = qml.device(\"default.qubit\", wires=n_qubits, shots=1)\n",
    "\n",
    "qml_training_circuits, train_symbols = transform_into_pennylane_circuits(training_circuits.values(), n_qubits, dev)\n",
    "qml_test_circuits, test_symbols = transform_into_pennylane_circuits(test_circuits.values(), n_qubits, dev)\n",
    "qml_validation_circuits, val_symbols = transform_into_pennylane_circuits(validation_circuits.values(), n_qubits, dev)\n",
    "all_circuits = qml_training_circuits + qml_test_circuits + qml_validation_circuits"
   ]
  },
  {
   "cell_type": "code",
   "execution_count": 6,
   "id": "b65db046-3a6c-4c47-a16b-7375128e5d69",
   "metadata": {},
   "outputs": [
    {
     "name": "stdout",
     "output_type": "stream",
     "text": [
      "cardinality 4 448 113 112 673 279 {'Hadamard': 10774, 'CRZ': 6060, 'RX': 30982, 'RZ': 5387}\n"
     ]
    }
   ],
   "source": [
    "numpy.random.seed(0)\n",
    "rng = numpy.random.default_rng(0)\n",
    "result = {}\n",
    "\n",
    "for circuit in all_circuits:\n",
    "    init_params = np.array(rng.random(len(train_symbols)))\n",
    "    specs_func = qml.specs(circuit)\n",
    "    executed_circuit = specs_func(init_params)\n",
    "    gate_types = executed_circuit[\"gate_types\"]\n",
    "    for elem in gate_types:\n",
    "        if elem not in result:\n",
    "            result[elem] = gate_types[elem]\n",
    "        else:\n",
    "            result[elem] = result[elem] + gate_types[elem] \n",
    "\n",
    "# Classification task\n",
    "# Number of classes\n",
    "# Number of training circuits\n",
    "# Number of validation circuits\n",
    "# Number of test circuits\n",
    "# Total number of circuits\n",
    "# Total number of variables\n",
    "# Single qubit gates in total:\n",
    "    # Hadamard\n",
    "    # Rx\n",
    "    # Rz\n",
    "# Two-qubit gates\n",
    "    # Ctrl-Rx\n",
    "    # Ctrl-Rz\n",
    "\n",
    "print(workload, 2**classification, len(qml_training_circuits), len(qml_validation_circuits), len(qml_test_circuits), len(qml_training_circuits)+len(qml_validation_circuits)+len(qml_test_circuits), len(train_symbols), result)"
   ]
  },
  {
   "cell_type": "code",
   "execution_count": null,
   "id": "a19e65f7-6cdc-4f62-bc20-1f84404898e8",
   "metadata": {},
   "outputs": [],
   "source": []
  }
 ],
 "metadata": {
  "kernelspec": {
   "display_name": "Python 3 (ipykernel)",
   "language": "python",
   "name": "python3"
  },
  "language_info": {
   "codemirror_mode": {
    "name": "ipython",
    "version": 3
   },
   "file_extension": ".py",
   "mimetype": "text/x-python",
   "name": "python",
   "nbconvert_exporter": "python",
   "pygments_lexer": "ipython3",
   "version": "3.8.10"
  }
 },
 "nbformat": 4,
 "nbformat_minor": 5
}
