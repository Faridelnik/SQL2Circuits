{
 "cells": [
  {
   "cell_type": "markdown",
   "id": "60a476ff-bd73-4906-a36e-93d595c6a8ad",
   "metadata": {},
   "source": [
    "The code is based on the workflow presented in https://github.com/CQCL/lambeq/blob/main/docs/examples/quantum_pipeline_jax.ipynb."
   ]
  },
  {
   "cell_type": "code",
   "execution_count": 1,
   "id": "4a99c8a8-4d3f-42d2-a7ff-a516780f9633",
   "metadata": {},
   "outputs": [],
   "source": [
    "import warnings\n",
    "warnings.filterwarnings('ignore')\n",
    "\n",
    "import json\n",
    "import os\n",
    "import glob\n",
    "from pathlib import Path\n",
    "import numpy as np\n",
    "import pickle\n",
    "\n",
    "from discopy.utils import loads\n",
    "from pytket.extensions.qiskit import AerBackend\n",
    "from lambeq import NumpyModel\n",
    "from lambeq import QuantumTrainer, SPSAOptimizer\n",
    "from lambeq import Dataset\n",
    "\n",
    "from jax import numpy as np\n",
    "import numpy\n",
    "\n",
    "this_folder = os.path.abspath(os.getcwd())\n",
    "os.environ['TOKENIZERS_PARALLELISM'] = 'true'\n",
    "\n",
    "BATCH_SIZE = 32\n",
    "EPOCHS = 1000\n",
    "SEED = 0"
   ]
  },
  {
   "cell_type": "code",
   "execution_count": 2,
   "id": "e9e205e8-52d2-4fcc-81db-e88be284fcf4",
   "metadata": {},
   "outputs": [
    {
     "name": "stdout",
     "output_type": "stream",
     "text": [
      "training query:  5b\n",
      "training query:  7c\n",
      "training query:  9e\n",
      "training query:  9d\n",
      "training query:  6d\n",
      "training query:  7b\n",
      "training query:  6b\n",
      "training query:  5d\n",
      "training query:  10b\n",
      "training query:  1b\n",
      "training query:  9c\n",
      "training query:  9b\n",
      "training query:  1c\n",
      "training query:  10d\n",
      "training query:  10c\n",
      "training query:  2d\n",
      "training query:  11b\n",
      "training query:  11c\n",
      "training query:  8b\n",
      "training query:  2c\n",
      "training query:  2b\n",
      "training query:  5c\n",
      "training query:  7d\n",
      "training query:  6c\n",
      "training query:  7e\n",
      "test query:  2a\n",
      "test query:  7a\n",
      "test query:  4a\n",
      "test query:  9a\n",
      "test query:  11a\n",
      "test query:  5a\n",
      "test query:  8a\n",
      "test query:  6a\n",
      "test query:  10a\n",
      "test query:  1a\n"
     ]
    }
   ],
   "source": [
    "training_circuits_paths = glob.glob(this_folder + \"//simplified-JOB-diagrams//circuits//binary_classification//training//[0-9]*.p\")\n",
    "#validation_circuits_paths = glob.glob(this_folder + \"//simplified-JOB-diagrams//circuits//binary_classification//validation//[0-9]*.p\")\n",
    "test_circuits_paths = glob.glob(this_folder + \"//simplified-JOB-diagrams//circuits//binary_classification//test//[0-9]*.p\")\n",
    "\n",
    "def read_diagrams(circuit_paths):\n",
    "    circuits = {}\n",
    "    for serialized_diagram in circuit_paths:\n",
    "        base_name = Path(serialized_diagram).stem\n",
    "        f = open(serialized_diagram, \"rb\")\n",
    "        diagram = pickle.load(f)\n",
    "        circuits[base_name] = diagram\n",
    "    return circuits\n",
    "\n",
    "\n",
    "training_circuits = read_diagrams(training_circuits_paths) #+ training_circuits_paths[21:])\n",
    "for key in training_circuits:\n",
    "    print(\"training query: \", key)\n",
    "test_circuits = read_diagrams(test_circuits_paths) #+ [test_circuits_paths[2]] + test_circuits_paths[8:])\n",
    "#test_circuits = read_diagrams([test_circuits_paths[2]])\n",
    "for key in test_circuits:\n",
    "    print(\"test query: \", key)"
   ]
  },
  {
   "cell_type": "code",
   "execution_count": 3,
   "id": "84a95b06-e76d-4ba0-b99e-d38c686a53ef",
   "metadata": {},
   "outputs": [],
   "source": [
    "training_data, test_data = None, None\n",
    "with open(this_folder + \"//data//training_data.json\", \"r\") as inputfile:\n",
    "    training_data = json.load(inputfile)['training_data']\n",
    "with open(this_folder + \"//data//test_data.json\", \"r\") as inputfile:\n",
    "    test_data = json.load(inputfile)['test_data']\n",
    "    \n",
    "\n",
    "def time_to_states(data):\n",
    "    labeled_data = {}\n",
    "    for elem in data:\n",
    "        if elem[\"name\"] in training_circuits.keys() or elem[\"name\"] in test_circuits.keys():\n",
    "            if elem[\"time\"] < 2001:\n",
    "                labeled_data[elem[\"name\"]] = [1., 0.] # corresponds to |0>\n",
    "            else:\n",
    "                labeled_data[elem[\"name\"]] = [0., 1.] # corresponds to |1>\n",
    "    return labeled_data\n",
    "\n",
    "\n",
    "training_data_labels = time_to_states(training_data)\n",
    "test_data_labels = time_to_states(test_data)\n",
    "\n",
    "#for key in training_data_labels:\n",
    "#    print(\"training: \", key)\n",
    "#for key in test_data_labels:\n",
    "#    print(\"test \", key)"
   ]
  },
  {
   "cell_type": "code",
   "execution_count": 4,
   "id": "7c3a2282-28c0-4a0c-a605-91dece10ed93",
   "metadata": {},
   "outputs": [
    {
     "name": "stdout",
     "output_type": "stream",
     "text": [
      "Test circuits need to share training circuits' parameters. The parameters that are not covered:  {name_pcode_cf__n.l_0, 'D%'__n.l_0, company_name__n.l_0, 'features'__n.l_0, FROM_n@n.l@n.l@n.l@n.l@n.l_n_1, FROM_n@n.l@n.l@n.l@n.l@n.l_n_2, FROM_n@n.l@n.l@n.l@n.l@n.l_n_0, name_pcode_cf__n.l_2, FROM_n@n.l@n.l@n.l@n.l@n.l_n_3, 'D%'__n.l_2, company_id__n.l_0, name_pcode_cf__n.l_1, company_name__n.l_1, company_name__n.l_2, 'D%'__n.l_1, 'features'__n.l_2, company_id__n.l_1, FROM_n@n.l@n.l@n.l@n.l@n.l_n_4, company_id__n.l_2, 'features'__n.l_1}\n",
      "Total number of circuits:  35\n",
      "Total number of variables:  1158\n"
     ]
    }
   ],
   "source": [
    "training_circuits_l = []\n",
    "test_circuits_l = []\n",
    "training_data_labels_l = []\n",
    "test_data_labels_l = []\n",
    "\n",
    "for key in training_circuits:\n",
    "    training_circuits_l.append(training_circuits[key])\n",
    "    training_data_labels_l.append(training_data_labels[key])\n",
    "\n",
    "for key in test_circuits:\n",
    "    test_circuits_l.append(test_circuits[key])\n",
    "    test_data_labels_l.append(test_data_labels[key])\n",
    "\n",
    "all_circuits = training_circuits_l + test_circuits_l\n",
    "\n",
    "train_syms = set([sym for circuit in training_circuits.values() for sym in circuit.free_symbols])\n",
    "test_syms = set([sym for circuit in test_circuits.values() for sym in circuit.free_symbols])\n",
    "\n",
    "print(\"Test circuits need to share training circuits' parameters. The parameters that are not covered: \", test_syms.difference(train_syms))\n",
    "\n",
    "print(\"Total number of circuits: \", len(all_circuits))\n",
    "print(\"Total number of variables: \", len([sym for circuit in all_circuits for sym in circuit.free_symbols]))\n",
    "\n",
    "model = NumpyModel.from_diagrams(all_circuits, use_jit=True)\n",
    "model.initialise_weights()"
   ]
  },
  {
   "cell_type": "code",
   "execution_count": 5,
   "id": "e3a8f8c7-7cc5-4078-935f-6d91a5636b8a",
   "metadata": {},
   "outputs": [],
   "source": [
    "loss = lambda y_hat, y: -np.sum(y * np.log(y_hat)) / len(y)  # binary cross-entropy loss\n",
    "#acc = lambda y_hat, y: np.sum(np.round(y_hat) == y) / len(y) / 2  # half due to double-counting\n",
    "\n",
    "def acc(y_hat, y):\n",
    "    #print(type(y_hat), type(y))\n",
    "    #print(\"y_hat: \", np.round(y_hat))\n",
    "    #print(\"y: \", y)\n",
    "    #print(np.sum(np.round(y_hat) == np.round(y)))\n",
    "    return np.sum(np.round(y_hat) == y) / len(y) / 2\n",
    "    \n",
    "eval_metrics = {\"acc\": acc}"
   ]
  },
  {
   "cell_type": "code",
   "execution_count": 6,
   "id": "23b8e28c-5948-4093-9e1a-574b4b880bd5",
   "metadata": {},
   "outputs": [],
   "source": [
    "trainer = QuantumTrainer(\n",
    "    model,\n",
    "    loss_function=loss,\n",
    "    epochs=EPOCHS,\n",
    "    optimizer=SPSAOptimizer,\n",
    "    optim_hyperparams={'a': 0.05, 'c': 3.6, 'A':0.01*EPOCHS},\n",
    "    evaluate_functions=eval_metrics,\n",
    "    evaluate_on_train=True,\n",
    "    verbose = 'text',\n",
    "    seed=SEED\n",
    ")"
   ]
  },
  {
   "cell_type": "code",
   "execution_count": 7,
   "id": "aa70ddcd-1bee-4ee1-9276-05c48967f679",
   "metadata": {},
   "outputs": [
    {
     "name": "stderr",
     "output_type": "stream",
     "text": [
      "WARNING:absl:No GPU/TPU found, falling back to CPU. (Set TF_CPP_MIN_LOG_LEVEL=0 and rerun for more info.)\n",
      "Epoch 1:     train/loss: 0.6484   valid/loss: 0.6921   train/acc: 0.6000   valid/acc: 0.4000\n",
      "Epoch 100:   train/loss: 0.7069   valid/loss: 0.6921   train/acc: 0.5200   valid/acc: 0.4000\n",
      "Epoch 200:   train/loss: 0.7086   valid/loss: 0.6921   train/acc: 0.4800   valid/acc: 0.4000\n",
      "Epoch 300:   train/loss: 0.6933   valid/loss: 0.6921   train/acc: 0.4800   valid/acc: 0.4000\n",
      "Epoch 400:   train/loss: 0.6929   valid/loss: 0.6921   train/acc: 0.4800   valid/acc: 0.4000\n",
      "Epoch 500:   train/loss: 0.6944   valid/loss: 0.6921   train/acc: 0.6000   valid/acc: 0.4000\n",
      "Epoch 600:   train/loss: 0.7116   valid/loss: 0.6921   train/acc: 0.4800   valid/acc: 0.4000\n",
      "Epoch 700:   train/loss: 0.6972   valid/loss: 0.6921   train/acc: 0.6000   valid/acc: 0.4000\n",
      "Epoch 800:   train/loss: 0.7021   valid/loss: 0.6921   train/acc: 0.5200   valid/acc: 0.4000\n",
      "Epoch 900:   train/loss: 0.6978   valid/loss: 0.6921   train/acc: 0.6000   valid/acc: 0.4000\n",
      "Epoch 1000:  train/loss: 0.7541   valid/loss: 0.6921   train/acc: 0.4000   valid/acc: 0.4000\n",
      "\n",
      "Training completed!\n"
     ]
    }
   ],
   "source": [
    "train_dataset = Dataset(\n",
    "            training_circuits_l,\n",
    "            training_data_labels_l)\n",
    "\n",
    "test_dataset = Dataset(test_circuits_l, test_data_labels_l, shuffle=False)\n",
    "\n",
    "trainer.fit(train_dataset, test_dataset, evaluation_step=1, logging_step=100)"
   ]
  },
  {
   "cell_type": "code",
   "execution_count": 8,
   "id": "a3aa6a81-b30c-4225-96bc-a16bd6b1b0e7",
   "metadata": {},
   "outputs": [
    {
     "name": "stdout",
     "output_type": "stream",
     "text": [
      "[0.50112116 0.49887884]\n",
      "[0.50554323 0.49445683]\n",
      "[0.51459616 0.4854038 ]\n",
      "[0.51459587 0.48540416]\n",
      "[0.514596   0.48540395]\n",
      "[0.5011213  0.49887875]\n",
      "[0.51459605 0.48540398]\n",
      "[0.514596   0.48540407]\n",
      "[0.51459605 0.48540398]\n",
      "[0.51459605 0.48540393]\n",
      "[0.0, 1.0]\n",
      "[0.0, 1.0]\n",
      "[0.0, 1.0]\n",
      "[1.0, 0.0]\n",
      "[1.0, 0.0]\n",
      "[0.0, 1.0]\n",
      "[0.0, 1.0]\n",
      "[1.0, 0.0]\n",
      "[0.0, 1.0]\n",
      "[1.0, 0.0]\n",
      "Validation accuracy: 0.4\n"
     ]
    },
    {
     "data": {
      "image/png": "[encoded data removed]",
      "text/plain": [
       "<Figure size 720x432 with 4 Axes>"
      ]
     },
     "metadata": {
      "needs_background": "light"
     },
     "output_type": "display_data"
    }
   ],
   "source": [
    "import matplotlib.pyplot as plt\n",
    "\n",
    "fig, ((ax_tl, ax_tr), (ax_bl, ax_br)) = plt.subplots(2, 2, sharex=True, sharey='row', figsize=(10, 6))\n",
    "ax_tl.set_title('Training set')\n",
    "ax_tr.set_title('Development set')\n",
    "ax_bl.set_xlabel('Iterations')\n",
    "ax_br.set_xlabel('Iterations')\n",
    "ax_bl.set_ylabel('Accuracy')\n",
    "ax_tl.set_ylabel('Loss')\n",
    "\n",
    "colours = iter(plt.rcParams['axes.prop_cycle'].by_key()['color'])\n",
    "ax_tl.plot(trainer.train_epoch_costs[::10], color=next(colours))\n",
    "ax_bl.plot(trainer.train_results['acc'][::10], color=next(colours))\n",
    "ax_tr.plot(trainer.val_costs[::10], color=next(colours))\n",
    "ax_br.plot(trainer.val_results['acc'][::10], color=next(colours))\n",
    "\n",
    "for e in model(test_circuits_l):\n",
    "    print(e)\n",
    "for e in test_data_labels_l:\n",
    "    print(e)\n",
    "# print test accuracy\n",
    "test_acc = acc(model(test_circuits_l), np.array(test_data_labels_l))\n",
    "print('Validation accuracy:', test_acc)"
   ]
  },
  {
   "cell_type": "code",
   "execution_count": null,
   "id": "cd1dd533-541f-4c10-bd02-b9c2803b1c1a",
   "metadata": {},
   "outputs": [],
   "source": []
  }
 ],
 "metadata": {
  "kernelspec": {
   "display_name": "Python 3 (ipykernel)",
   "language": "python",
   "name": "python3"
  },
  "language_info": {
   "codemirror_mode": {
    "name": "ipython",
    "version": 3
   },
   "file_extension": ".py",
   "mimetype": "text/x-python",
   "name": "python",
   "nbconvert_exporter": "python",
   "pygments_lexer": "ipython3",
   "version": "3.8.10"
  }
 },
 "nbformat": 4,
 "nbformat_minor": 5
}
