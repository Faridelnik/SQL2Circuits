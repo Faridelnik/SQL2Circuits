{
 "cells": [
  {
   "cell_type": "markdown",
   "id": "ff3f5c12-6bd0-4a42-858a-735cd4bdae4d",
   "metadata": {},
   "source": [
    "# Circuit learning method for SQL: training and test data generation"
   ]
  },
  {
   "cell_type": "markdown",
   "id": "adb82685-19fb-4da9-a0fe-fefbf0a8dcc0",
   "metadata": {},
   "source": [
    "This notebook contains the data preparation and generation for the circuit learning process. Running the this notebook produces the training and test data which can be found from the `data` folder. This code is represented for reproducibility reasons and there is no need to rerun it every time. The queries are simplified versions of Join Order Benchmark queries."
   ]
  },
  {
   "cell_type": "markdown",
   "id": "0937065b-8403-4060-a8a4-8038a29e9fa1",
   "metadata": {},
   "source": [
    "### PostgreSQL database preparation"
   ]
  },
  {
   "cell_type": "markdown",
   "id": "26c91682-06cb-48ff-a75c-79f44d95add0",
   "metadata": {},
   "source": [
    "Prerequisites:\n",
    "\n",
    "1. You need to have PostgreSQL database installed and configured\n",
    "2. You have downloaded the old but more comprehensive IMDB data set from year 2017. See the instructions and link to the files from [cinemagoer](https://cinemagoer.readthedocs.io/en/latest/usage/ptdf.html).\n",
    "3. Create an empty database (imdb2017) for the user (postgres) with the following code:\n",
    "\n",
    "```\n",
    "CREATE DATABASE imdb2017\n",
    "WITH OWNER postgres\n",
    "TEMPLATE = template0\n",
    "ENCODING UTF8\n",
    "LC_COLLATE = 'und-x-icu'\n",
    "LC_CTYPE = 'und-x-icu';\n",
    "```\n",
    "\n",
    "IMDB is providing newer but less comprehensive [dataset](https://www.imdb.com/interfaces/). Cinemagoer describes how to upload that data into Postgres but because the join order benchmark queries are built on the older dataset, we also need to use the older one."
   ]
  },
  {
   "cell_type": "code",
   "execution_count": 1,
   "id": "f45360bc-380b-4ea7-b41c-ac2157eb6cf3",
   "metadata": {},
   "outputs": [],
   "source": [
    "# Database credentials\n",
    "\n",
    "port = \"5432\"\n",
    "pg_db_name = \"imdb2017\"\n",
    "pg_user = \"postgres\"\n",
    "pg_pw = \"0000\"\n",
    "imdb_file_path = \"C:\\\\Users\\\\valte\\\\Documents\\\\frozendata\"\n",
    "\n",
    "pg_connection = \"postgresql://\" + pg_user + \":\" + pg_pw + \"@localhost:\" + port + \"/\" + pg_db_name"
   ]
  },
  {
   "cell_type": "markdown",
   "id": "2fd4320d-7699-4b41-a0ed-285fbba64e83",
   "metadata": {},
   "source": [
    "The following code will use `imdbpy2sql` code to insert the internet movie database data into the created database. Note that the execution will probably take hours. Once the insert has been performed, comment the cell."
   ]
  },
  {
   "cell_type": "code",
   "execution_count": 2,
   "id": "62cd195a-1151-4abe-adc5-578feb308415",
   "metadata": {},
   "outputs": [],
   "source": [
    "#!python cinemagoer\\bin\\imdbpy2sql.py -d {imdb_file_path} -u {pg_connection}"
   ]
  },
  {
   "cell_type": "markdown",
   "id": "471da297-1d84-4440-b407-a5e67a4ad8c8",
   "metadata": {},
   "source": [
    "To speedup queries we create certain indeces."
   ]
  },
  {
   "cell_type": "code",
   "execution_count": 3,
   "id": "59b85fe2-52e9-40d0-b8d2-529f38fb7295",
   "metadata": {},
   "outputs": [
    {
     "name": "stdout",
     "output_type": "stream",
     "text": [
      "Error while fetching data from PostgreSQL relation \"company_id_movie_companies\" already exists\n",
      "\n",
      "PostgreSQL connection is closed\n"
     ]
    }
   ],
   "source": [
    "import psycopg2\n",
    "\n",
    "create_indices = \"\"\"\n",
    "create index company_id_movie_companies on movie_companies(company_id);\n",
    "create index company_type_id_movie_companies on movie_companies(company_type_id);\n",
    "create index info_type_id_movie_info on movie_info(info_type_id);\n",
    "create index info_type_id_person_info on person_info(info_type_id);\n",
    "create index keyword_id_movie_keyword on movie_keyword(keyword_id);\n",
    "create index kind_id_aka_title on aka_title(kind_id);\n",
    "create index kind_id_title on title(kind_id);\n",
    "create index linked_movie_id_movie_link on movie_link(linked_movie_id);\n",
    "create index link_type_id_movie_link on movie_link(link_type_id);\n",
    "create index movie_id_aka_title on aka_title(movie_id);\n",
    "create index movie_id_cast_info on cast_info(movie_id);\n",
    "create index movie_id_complete_cast on complete_cast(movie_id);\n",
    "create index movie_id_movie_companies on movie_companies(movie_id);\n",
    "create index movie_id_movie_keyword on movie_keyword(movie_id);\n",
    "create index movie_id_movie_link on movie_link(movie_id);\n",
    "create index movie_id_movie_info on movie_info(movie_id);\n",
    "create index person_id_aka_name on aka_name(person_id);\n",
    "create index person_id_cast_info on cast_info(person_id);\n",
    "create index person_id_person_info on person_info(person_id);\n",
    "create index person_role_id_cast_info on cast_info(person_role_id);\n",
    "create index role_id_cast_info on cast_info(role_id);\n",
    "\"\"\"\n",
    "\n",
    "test_query = \"EXPLAIN ANALYZE SELECT * FROM title LIMIT 2;\"\n",
    "\n",
    "try:\n",
    "    connection = psycopg2.connect(user=pg_user, password=pg_pw, host=\"localhost\", port=port, database=pg_db_name)\n",
    "    cursor = connection.cursor()\n",
    "    cursor.execute(create_indices)\n",
    "    res = cursor.fetchall()\n",
    "    print(res)\n",
    "\n",
    "except (Exception, psycopg2.Error) as error:\n",
    "    print(\"Error while fetching data from PostgreSQL\", error)\n",
    "\n",
    "finally:\n",
    "    # closing database connection.\n",
    "    if connection:\n",
    "        cursor.close()\n",
    "        connection.close()\n",
    "        print(\"PostgreSQL connection is closed\")"
   ]
  },
  {
   "cell_type": "markdown",
   "id": "172b13b2-8c0a-4890-b0bf-224dc24270e2",
   "metadata": {},
   "source": [
    "## Create training and test data"
   ]
  },
  {
   "cell_type": "markdown",
   "id": "864fd848-f148-4288-9dd1-1242490856ec",
   "metadata": {},
   "source": [
    "Training and test data are stored to `data` folder in json files."
   ]
  },
  {
   "cell_type": "code",
   "execution_count": 4,
   "id": "943cfe6d-efc6-456e-ab75-e7fad0d944c9",
   "metadata": {},
   "outputs": [
    {
     "name": "stdout",
     "output_type": "stream",
     "text": [
      "Number of test queries is  0\n",
      "Number of training queries is  35\n"
     ]
    }
   ],
   "source": [
    "# Read queries from the join order benchmark\n",
    "import glob\n",
    "import os\n",
    "import re\n",
    "import json\n",
    "from pathlib import Path\n",
    "\n",
    "this_folder = os.path.abspath(os.getcwd())\n",
    "training_queries, test_queries = [], []\n",
    "query_path_JOB = glob.glob(this_folder + \"\\\\join-order-benchmark-queries\\\\[0-9]*.sql\")\n",
    "query_path_training = glob.glob(this_folder + \"\\\\training_queries\\\\[0-9]*.sql\")\n",
    "query_path_test = glob.glob(this_folder + \"\\\\test_queries\\\\[0-9]*.sql\")\n",
    "\n",
    "for i, query in enumerate(query_path_training):\n",
    "    base_name = Path(query).stem\n",
    "    f = open(query, \"r\")\n",
    "    training_queries.append({ 'name': base_name, 'query': f.read() })\n",
    "        \n",
    "for i, query in enumerate(query_path_test):\n",
    "    base_name = Path(query).stem\n",
    "    f = open(query, \"r\")\n",
    "    test_queries.append({ 'name': base_name, 'query': f.read() })\n",
    "        \n",
    "print(\"Number of test queries is \", len(test_queries))\n",
    "print(\"Number of training queries is \", len(training_queries))"
   ]
  },
  {
   "cell_type": "markdown",
   "id": "5f3d53df-b01f-41a0-8144-417504da762e",
   "metadata": {},
   "source": [
    "### Generating training and test data"
   ]
  },
  {
   "cell_type": "code",
   "execution_count": 5,
   "id": "36ef03cb-f5ba-4cbb-9193-3c82afea9cfa",
   "metadata": {},
   "outputs": [],
   "source": [
    "def genereta_data(queries, ty = \"training\"):\n",
    "    connection = psycopg2.connect(user=pg_user, password=pg_pw, host=\"localhost\", port=port, database=pg_db_name)\n",
    "    shots_per_query = 10\n",
    "    data = []\n",
    "    file_name = \"data\\\\training_data.json\"\n",
    "    root_name = \"training_data\"\n",
    "\n",
    "    for query in queries:\n",
    "        try:\n",
    "            total_running_time = 0.0\n",
    "            for i in range(shots_per_query):\n",
    "                cursor = connection.cursor()\n",
    "                cursor.execute(\"EXPLAIN ANALYZE \" + query['query'])\n",
    "                res = cursor.fetchall()\n",
    "                ex_time = float(re.findall(\"\\d+\\.\\d+\", res[-1][0])[0])\n",
    "                plan_time = float(re.findall(\"\\d+\\.\\d+\", res[-2][0])[0])\n",
    "                total_running_time += ex_time + plan_time\n",
    "            #print(total_running_time / shots_per_query)\n",
    "            data.append( {'name': query['name'], 'time': round(total_running_time / shots_per_query, 4) })\n",
    "\n",
    "        except (Exception, psycopg2.Error) as error:\n",
    "            print(\"Error while fetching data from PostgreSQL\", error)\n",
    "            print(query)\n",
    "\n",
    "    if connection:\n",
    "        cursor.close()\n",
    "        connection.close()\n",
    "        print(\"PostgreSQL connection is closed\")\n",
    "    \n",
    "    if ty == \"test\":\n",
    "        file_name = \"data\\\\test_data.json\"\n",
    "        root_name = \"test_data\"\n",
    "        \n",
    "    with open(file_name, 'w') as outfile:\n",
    "        json.dump({ root_name: data }, outfile)"
   ]
  },
  {
   "cell_type": "code",
   "execution_count": null,
   "id": "3a1ad441-d28d-46f3-a3e2-2bb7089e7715",
   "metadata": {},
   "outputs": [],
   "source": [
    "genereta_data(training_queries, \"training\")\n",
    "genereta_data(test_queries, \"test\")"
   ]
  }
 ],
 "metadata": {
  "kernelspec": {
   "display_name": "Python 3 (ipykernel)",
   "language": "python",
   "name": "python3"
  },
  "language_info": {
   "codemirror_mode": {
    "name": "ipython",
    "version": 3
   },
   "file_extension": ".py",
   "mimetype": "text/x-python",
   "name": "python",
   "nbconvert_exporter": "python",
   "pygments_lexer": "ipython3",
   "version": "3.10.2"
  }
 },
 "nbformat": 4,
 "nbformat_minor": 5
}
