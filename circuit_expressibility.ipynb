{
 "cells": [
  {
   "cell_type": "markdown",
   "id": "3b090918-c886-4aa3-9caf-99f78031b03f",
   "metadata": {},
   "source": [
    "# Expressibility, engtangling capability and Fourier series representation"
   ]
  },
  {
   "cell_type": "code",
   "execution_count": 1,
   "id": "6d10ac1b-81bb-4699-a47e-0c73f925caea",
   "metadata": {},
   "outputs": [],
   "source": [
    "import warnings\n",
    "import json\n",
    "import os\n",
    "import sys\n",
    "import glob\n",
    "import numpy\n",
    "import pickle\n",
    "import pennylane as qml\n",
    "\n",
    "from math import ceil\n",
    "from pathlib import Path\n",
    "from jax import numpy as np\n",
    "from sympy import default_sort_key\n",
    "from utils import *\n",
    "\n",
    "this_folder = os.path.abspath(os.getcwd())\n",
    "\n",
    "nshot = 10000\n",
    "nparam = 100"
   ]
  },
  {
   "cell_type": "code",
   "execution_count": 2,
   "id": "03e72a4d-c656-4648-92d1-931282cd4561",
   "metadata": {},
   "outputs": [],
   "source": [
    "num_of_bins = 75\n",
    "bins_list = [i/(num_of_bins) for i in range(num_of_bins + 1)]\n",
    "bins_x = [bins_list[1]+bins_list[i] for i in range(num_of_bins - 1)]\n",
    "\n",
    "\n",
    "def P_harr(l, u, N):\n",
    "    return (1-l)**(N-1)-(1-u)**(N-1)\n",
    "\n",
    "\n",
    "#Harr histogram\n",
    "P_harr_hist = [P_harr(bins_list[i], bins_list[i+1], 2) for i in range(num_of_bins)]"
   ]
  },
  {
   "cell_type": "code",
   "execution_count": 4,
   "id": "fdb0c878-452a-4828-a2d6-c8018fdd14f2",
   "metadata": {},
   "outputs": [],
   "source": [
    "# Select workload\n",
    "#workload = \"execution_time\"\n",
    "workload = \"cardinality\"\n",
    "\n",
    "# Select workload size\n",
    "#workload_size = \"small\"\n",
    "#workload_size = \"medium\"\n",
    "#workload_size = \"large\"\n",
    "workload_size = \"main\"\n",
    "\n",
    "classification = 2\n",
    "layers = 1\n",
    "single_qubit_params = 3\n",
    "n_wire_count = 1\n",
    "\n",
    "# Access the selected circuits\n",
    "path_name = this_folder + \"//simplified-JOB-diagrams//\"\\\n",
    "            + workload + \"//\" + workload_size + \"//circuits//\"\\\n",
    "            + str(classification) + \"//\" + str(layers) + \"_layer//\"\\\n",
    "           + str(single_qubit_params) + \"_single_qubit_params//\" + str(n_wire_count)\\\n",
    "            + \"_n_wire_count//\""
   ]
  },
  {
   "cell_type": "code",
   "execution_count": 5,
   "id": "5b12a6fc-0488-424d-8ffa-e2e8a37f7909",
   "metadata": {},
   "outputs": [],
   "source": [
    "training_circuits_paths = glob.glob(path_name + \"training//[0-9]*.p\")\n",
    "validation_circuits_paths = glob.glob(path_name + \"validation//[0-9]*.p\")\n",
    "test_circuits_paths = glob.glob(path_name + \"test//[0-9]*.p\")"
   ]
  },
  {
   "cell_type": "code",
   "execution_count": 6,
   "id": "ed7b7e53-8c96-4651-aa54-8d2d1212e00f",
   "metadata": {},
   "outputs": [],
   "source": [
    "#training_circuits = read_diagrams(training_circuits_paths)\n",
    "#validation_circuits = read_diagrams(validation_circuits_paths)\n",
    "test_circuits = read_diagrams(test_circuits_paths)"
   ]
  },
  {
   "cell_type": "code",
   "execution_count": 7,
   "id": "addd2b0b-c9ed-444e-b333-48293012e43f",
   "metadata": {},
   "outputs": [],
   "source": [
    "n_qubits = 20\n",
    "dev = qml.device(\"default.qubit\", wires=n_qubits, shots=1)\n",
    "\n",
    "#qml_training_circuits, train_symbols = transform_into_pennylane_circuits(training_circuits.values(), n_qubits, dev)\n",
    "qml_test_circuits, test_symbols = transform_into_pennylane_circuits(test_circuits.values(), n_qubits, dev)\n",
    "#qml_validation_circuits, val_symbols = transform_into_pennylane_circuits(validation_circuits.values(), n_qubits, dev)\n",
    "all_circuits = qml_test_circuits #qml_training_circuits + qml_test_circuits + qml_validation_circuits"
   ]
  },
  {
   "cell_type": "markdown",
   "id": "a225ef91-c175-45a2-8a76-e34ab1576275",
   "metadata": {},
   "source": [
    "## Studies on circuits as Fourier series"
   ]
  },
  {
   "cell_type": "markdown",
   "id": "361cbdda-a6d9-466b-8646-13bcaa6a9bfe",
   "metadata": {},
   "source": [
    "This requires modifications to circuits."
   ]
  },
  {
   "cell_type": "code",
   "execution_count": 9,
   "id": "3bce75fb-aca9-41d5-83e2-f5d730bd7a66",
   "metadata": {},
   "outputs": [],
   "source": [
    "#from pennylane.fourier.visualize import *\n",
    "#from pennylane.fourier import coefficients\n",
    "#import matplotlib.pyplot as plt\n",
    "#circuit = all_circuits[0]\n",
    "#coeffs = coefficients(circuit, 1, 2)\n",
    "#print(np.round(coeffs, decimals=4))"
   ]
  },
  {
   "cell_type": "markdown",
   "id": "4c4ad5ea-8822-4d37-aa2c-ed8363529b0b",
   "metadata": {},
   "source": [
    "## Expressibility"
   ]
  },
  {
   "cell_type": "code",
   "execution_count": 6,
   "id": "428f8b08-2bfd-436b-8cc7-2ce49950e8ce",
   "metadata": {},
   "outputs": [],
   "source": [
    "def post_select_circuit_samples(circuit_samples):\n",
    "    selected_samples = []\n",
    "    post_select_array = np.array([0]*(circuit_samples[0].size - 1))\n",
    "    for circuit_sample in circuit_samples:\n",
    "        if np.array_equal(circuit_sample[1:], post_select_array):\n",
    "            if circuit_sample[0] == 1:\n",
    "                selected_samples.append(1)\n",
    "            else:\n",
    "                selected_samples.append(0)\n",
    "    return selected_samples"
   ]
  },
  {
   "cell_type": "raw",
   "id": "af875dc1-8443-42c6-8fa2-31e8798783cf",
   "metadata": {},
   "source": [
    "params = [2*np.pi*random.uniform(0, 1) for i in range(len(symbols))]\n",
    "print(qml.draw(qml_circuits[2])(params))\n",
    "result = qml_circuits[2](params)\n",
    "print(len(result))\n",
    "post_selected_result = post_select_circuit_samples(result)\n",
    "res = collections.Counter(post_selected_result)\n",
    "print(dict(res))"
   ]
  },
  {
   "cell_type": "code",
   "execution_count": 7,
   "id": "76d88dd6-c661-499b-b6ef-9be30a6a4ce5",
   "metadata": {},
   "outputs": [
    {
     "ename": "NameError",
     "evalue": "name 'reverse' is not defined",
     "output_type": "error",
     "traceback": [
      "\u001b[0;31m---------------------------------------------------------------------------\u001b[0m",
      "\u001b[0;31mNameError\u001b[0m                                 Traceback (most recent call last)",
      "Input \u001b[0;32mIn [7]\u001b[0m, in \u001b[0;36m<cell line: 3>\u001b[0;34m()\u001b[0m\n\u001b[1;32m      3\u001b[0m \u001b[38;5;28;01mfor\u001b[39;00m x \u001b[38;5;129;01min\u001b[39;00m \u001b[38;5;28mrange\u001b[39m(nparam):\n\u001b[1;32m      4\u001b[0m     params \u001b[38;5;241m=\u001b[39m [\u001b[38;5;241m2\u001b[39m\u001b[38;5;241m*\u001b[39mnp\u001b[38;5;241m.\u001b[39mpi\u001b[38;5;241m*\u001b[39mrandom\u001b[38;5;241m.\u001b[39muniform(\u001b[38;5;241m0\u001b[39m, \u001b[38;5;241m1\u001b[39m) \u001b[38;5;28;01mfor\u001b[39;00m i \u001b[38;5;129;01min\u001b[39;00m \u001b[38;5;28mrange\u001b[39m(\u001b[38;5;28mlen\u001b[39m(symbols))]\n\u001b[0;32m----> 5\u001b[0m     result \u001b[38;5;241m=\u001b[39m \u001b[43mcircuit\u001b[49m\u001b[43m(\u001b[49m\u001b[43mparams\u001b[49m\u001b[43m)\u001b[49m\n\u001b[1;32m      6\u001b[0m     post_selected_result \u001b[38;5;241m=\u001b[39m post_select_circuit_samples(result)\n\u001b[1;32m      7\u001b[0m     res \u001b[38;5;241m=\u001b[39m collections\u001b[38;5;241m.\u001b[39mCounter(post_selected_result)\n",
      "File \u001b[0;32m~/.local/lib/python3.8/site-packages/pennylane/qnode.py:611\u001b[0m, in \u001b[0;36mQNode.__call__\u001b[0;34m(self, *args, **kwargs)\u001b[0m\n\u001b[1;32m    608\u001b[0m         set_shots(\u001b[38;5;28mself\u001b[39m\u001b[38;5;241m.\u001b[39m_original_device, override_shots)(\u001b[38;5;28mself\u001b[39m\u001b[38;5;241m.\u001b[39m_update_gradient_fn)()\n\u001b[1;32m    610\u001b[0m \u001b[38;5;66;03m# construct the tape\u001b[39;00m\n\u001b[0;32m--> 611\u001b[0m \u001b[38;5;28;43mself\u001b[39;49m\u001b[38;5;241;43m.\u001b[39;49m\u001b[43mconstruct\u001b[49m\u001b[43m(\u001b[49m\u001b[43margs\u001b[49m\u001b[43m,\u001b[49m\u001b[43m \u001b[49m\u001b[43mkwargs\u001b[49m\u001b[43m)\u001b[49m\n\u001b[1;32m    613\u001b[0m cache \u001b[38;5;241m=\u001b[39m \u001b[38;5;28mself\u001b[39m\u001b[38;5;241m.\u001b[39mexecute_kwargs\u001b[38;5;241m.\u001b[39mget(\u001b[38;5;124m\"\u001b[39m\u001b[38;5;124mcache\u001b[39m\u001b[38;5;124m\"\u001b[39m, \u001b[38;5;28;01mFalse\u001b[39;00m)\n\u001b[1;32m    614\u001b[0m using_custom_cache \u001b[38;5;241m=\u001b[39m (\n\u001b[1;32m    615\u001b[0m     \u001b[38;5;28mhasattr\u001b[39m(cache, \u001b[38;5;124m\"\u001b[39m\u001b[38;5;124m__getitem__\u001b[39m\u001b[38;5;124m\"\u001b[39m)\n\u001b[1;32m    616\u001b[0m     \u001b[38;5;129;01mand\u001b[39;00m \u001b[38;5;28mhasattr\u001b[39m(cache, \u001b[38;5;124m\"\u001b[39m\u001b[38;5;124m__setitem__\u001b[39m\u001b[38;5;124m\"\u001b[39m)\n\u001b[1;32m    617\u001b[0m     \u001b[38;5;129;01mand\u001b[39;00m \u001b[38;5;28mhasattr\u001b[39m(cache, \u001b[38;5;124m\"\u001b[39m\u001b[38;5;124m__delitem__\u001b[39m\u001b[38;5;124m\"\u001b[39m)\n\u001b[1;32m    618\u001b[0m )\n",
      "File \u001b[0;32m~/.local/lib/python3.8/site-packages/pennylane/qnode.py:526\u001b[0m, in \u001b[0;36mQNode.construct\u001b[0;34m(self, args, kwargs)\u001b[0m\n\u001b[1;32m    523\u001b[0m \u001b[38;5;28mself\u001b[39m\u001b[38;5;241m.\u001b[39m_tape \u001b[38;5;241m=\u001b[39m qml\u001b[38;5;241m.\u001b[39mtape\u001b[38;5;241m.\u001b[39mQuantumTape()\n\u001b[1;32m    525\u001b[0m \u001b[38;5;28;01mwith\u001b[39;00m \u001b[38;5;28mself\u001b[39m\u001b[38;5;241m.\u001b[39mtape:\n\u001b[0;32m--> 526\u001b[0m     \u001b[38;5;28mself\u001b[39m\u001b[38;5;241m.\u001b[39m_qfunc_output \u001b[38;5;241m=\u001b[39m \u001b[38;5;28;43mself\u001b[39;49m\u001b[38;5;241;43m.\u001b[39;49m\u001b[43mfunc\u001b[49m\u001b[43m(\u001b[49m\u001b[38;5;241;43m*\u001b[39;49m\u001b[43margs\u001b[49m\u001b[43m,\u001b[49m\u001b[43m \u001b[49m\u001b[38;5;241;43m*\u001b[39;49m\u001b[38;5;241;43m*\u001b[39;49m\u001b[43mkwargs\u001b[49m\u001b[43m)\u001b[49m\n\u001b[1;32m    527\u001b[0m \u001b[38;5;28mself\u001b[39m\u001b[38;5;241m.\u001b[39m_tape\u001b[38;5;241m.\u001b[39m_qfunc_output \u001b[38;5;241m=\u001b[39m \u001b[38;5;28mself\u001b[39m\u001b[38;5;241m.\u001b[39m_qfunc_output\n\u001b[1;32m    529\u001b[0m params \u001b[38;5;241m=\u001b[39m \u001b[38;5;28mself\u001b[39m\u001b[38;5;241m.\u001b[39mtape\u001b[38;5;241m.\u001b[39mget_parameters(trainable_only\u001b[38;5;241m=\u001b[39m\u001b[38;5;28;01mFalse\u001b[39;00m)\n",
      "Input \u001b[0;32mIn [5]\u001b[0m, in \u001b[0;36mqml_circuit\u001b[0;34m(circ_params)\u001b[0m\n\u001b[1;32m     20\u001b[0m \u001b[38;5;129m@qml\u001b[39m\u001b[38;5;241m.\u001b[39mqnode(dev)\n\u001b[1;32m     21\u001b[0m \u001b[38;5;28;01mdef\u001b[39;00m \u001b[38;5;21mqml_circuit\u001b[39m(circ_params):\n\u001b[0;32m---> 22\u001b[0m     \u001b[38;5;28;01mfor\u001b[39;00m op, param, wires \u001b[38;5;129;01min\u001b[39;00m \u001b[43mreverse\u001b[49m(\u001b[38;5;28mzip\u001b[39m(ops, param_symbols, pennylane_wires)):\n\u001b[1;32m     23\u001b[0m         \u001b[38;5;28;01mif\u001b[39;00m \u001b[38;5;28mlen\u001b[39m(param) \u001b[38;5;241m>\u001b[39m \u001b[38;5;241m0\u001b[39m:\n\u001b[1;32m     24\u001b[0m             param \u001b[38;5;241m=\u001b[39m param[\u001b[38;5;241m0\u001b[39m]\n",
      "\u001b[0;31mNameError\u001b[0m: name 'reverse' is not defined"
     ]
    }
   ],
   "source": [
    "fidelity=[]\n",
    "circuit = qml_circuits[0]\n",
    "for x in range(nparam):\n",
    "    params = [2*np.pi*random.uniform(0, 1) for i in range(len(symbols))]\n",
    "    result = circuit(params)\n",
    "    post_selected_result = post_select_circuit_samples(result)\n",
    "    res = collections.Counter(post_selected_result)\n",
    "\n",
    "    if 0 in res:\n",
    "        ratio = res[0]/nshot\n",
    "    else:\n",
    "        ratio = 0\n",
    "        \n",
    "    fidelity.append(ratio)"
   ]
  },
  {
   "cell_type": "code",
   "execution_count": null,
   "id": "22314d15-50a6-407d-9227-b1188243a79b",
   "metadata": {},
   "outputs": [],
   "source": [
    "print(fidelity)"
   ]
  },
  {
   "cell_type": "code",
   "execution_count": null,
   "id": "1c788364-bd00-4867-8bca-239171dc9973",
   "metadata": {},
   "outputs": [],
   "source": [
    "weights = numpy.ones_like(fidelity)/float(len(fidelity))\n",
    "fidelity = numpy.array([(2**9)*x for x in fidelity])\n",
    "plt.hist(fidelity, bins=bins_list, weights=weights, label='Result', range=[0, 1])\n",
    "plt.plot(bins_x, P_harr_hist[:-1], label='Harr random')\n",
    "plt.legend(loc='upper right')\n",
    "plt.show()"
   ]
  },
  {
   "cell_type": "code",
   "execution_count": null,
   "id": "5e48efa4-c480-45b0-92e9-580f7e78040c",
   "metadata": {},
   "outputs": [],
   "source": [
    "P_I_hist = numpy.histogram(fidelity, bins = bins_list, weights = weights, range=[0, 1])[0]\n",
    "kl_pq = kl_div(P_I_hist, P_harr_hist)\n",
    "print('KL(P || Q): %.3f nats' % sum(kl_pq))"
   ]
  }
 ],
 "metadata": {
  "kernelspec": {
   "display_name": "Python 3 (ipykernel)",
   "language": "python",
   "name": "python3"
  },
  "language_info": {
   "codemirror_mode": {
    "name": "ipython",
    "version": 3
   },
   "file_extension": ".py",
   "mimetype": "text/x-python",
   "name": "python",
   "nbconvert_exporter": "python",
   "pygments_lexer": "ipython3",
   "version": "3.8.10"
  }
 },
 "nbformat": 4,
 "nbformat_minor": 5
}
