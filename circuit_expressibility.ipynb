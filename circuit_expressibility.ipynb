{
 "cells": [
  {
   "cell_type": "code",
   "execution_count": 1,
   "id": "6d10ac1b-81bb-4699-a47e-0c73f925caea",
   "metadata": {},
   "outputs": [
    {
     "ename": "ModuleNotFoundError",
     "evalue": "No module named 'pennylane'",
     "output_type": "error",
     "traceback": [
      "\u001b[0;31m---------------------------------------------------------------------------\u001b[0m",
      "\u001b[0;31mModuleNotFoundError\u001b[0m                       Traceback (most recent call last)",
      "Input \u001b[0;32mIn [1]\u001b[0m, in \u001b[0;36m<cell line: 8>\u001b[0;34m()\u001b[0m\n\u001b[1;32m      6\u001b[0m \u001b[38;5;28;01mimport\u001b[39;00m \u001b[38;5;21;01mnumpy\u001b[39;00m \u001b[38;5;28;01mas\u001b[39;00m \u001b[38;5;21;01mnp\u001b[39;00m\n\u001b[1;32m      7\u001b[0m \u001b[38;5;28;01mimport\u001b[39;00m \u001b[38;5;21;01mpickle\u001b[39;00m\n\u001b[0;32m----> 8\u001b[0m \u001b[38;5;28;01mimport\u001b[39;00m \u001b[38;5;21;01mpennylane\u001b[39;00m \u001b[38;5;28;01mas\u001b[39;00m \u001b[38;5;21;01mqml\u001b[39;00m\n\u001b[1;32m      9\u001b[0m \u001b[38;5;28;01mfrom\u001b[39;00m \u001b[38;5;21;01msympy\u001b[39;00m \u001b[38;5;28;01mimport\u001b[39;00m default_sort_key\n\u001b[1;32m     10\u001b[0m \u001b[38;5;28;01mimport\u001b[39;00m \u001b[38;5;21;01mtorch\u001b[39;00m\n",
      "\u001b[0;31mModuleNotFoundError\u001b[0m: No module named 'pennylane'"
     ]
    }
   ],
   "source": [
    "import json\n",
    "import os\n",
    "import glob\n",
    "import warnings\n",
    "from pathlib import Path\n",
    "import numpy as np\n",
    "import pickle\n",
    "import pennylane as qml\n",
    "from sympy import default_sort_key\n",
    "import torch\n",
    "from discopy.quantum.pennylane import to_pennylane, PennyLaneCircuit\n",
    "from inspect import signature\n",
    "from noisyopt import minimizeSPSA\n",
    "import random\n",
    "\n",
    "this_folder = os.path.abspath(os.getcwd())\n",
    "\n",
    "nshot=10000\n",
    "nparam=4000"
   ]
  },
  {
   "cell_type": "code",
   "execution_count": 2,
   "id": "03e72a4d-c656-4648-92d1-931282cd4561",
   "metadata": {},
   "outputs": [],
   "source": [
    "num_of_bins = 75\n",
    "bins_list = [i/(num_of_bins) for i in range(num_of_bins + 1)]\n",
    "bins_x = [bins_list[1]+bins_list[i] for i in range(num_of_bins - 1)]\n",
    "\n",
    "\n",
    "def P_harr(l, u, N):\n",
    "    return (1-l)**(N-1)-(1-u)**(N-1)\n",
    "\n",
    "\n",
    "#Harr histogram\n",
    "P_harr_hist = [P_harr(bins_list[i], bins_list[i+1], 2) for i in range(num_of_bins)]"
   ]
  },
  {
   "cell_type": "code",
   "execution_count": null,
   "id": "fdb0c878-452a-4828-a2d6-c8018fdd14f2",
   "metadata": {},
   "outputs": [],
   "source": [
    "# Select workload\n",
    "workload = \"execution_time\"\n",
    "#workload = \"cardinality\"\n",
    "\n",
    "# Select workload size\n",
    "#workload_size = \"small\"\n",
    "#workload_size = \"medium\"\n",
    "#workload_size = \"large\"\n",
    "workload_size = \"main\"\n",
    "\n",
    "classification = 1\n",
    "layers = 1\n",
    "single_qubit_params = 3\n",
    "n_wire_count = 1\n",
    "\n",
    "loss = multi_class_loss\n",
    "acc = multi_class_acc\n",
    "\n",
    "if classification == 1:\n",
    "    loss = bin_class_loss\n",
    "    acc = bin_class_acc\n",
    "\n",
    "# Access the selected circuits\n",
    "path_name = this_folder + \"//simplified-JOB-diagrams//\" + workload + \"//\" + workload_size + \"//circuits//\" + str(classification) + \"//\" + str(layers) + \"_layer//\" + str(single_qubit_params) + \"_single_qubit_params//\" + str(n_wire_count) + \"_n_wire_count//\"\n",
    "\n",
    "training_circuits_paths = glob.glob(path_name + \"training//[0-9]*.p\")\n",
    "validation_circuits_paths = glob.glob(path_name + \"validation//[0-9]*.p\")\n",
    "test_circuits_paths = glob.glob(path_name + \"test//[0-9]*.p\")"
   ]
  },
  {
   "cell_type": "code",
   "execution_count": null,
   "id": "ed7b7e53-8c96-4651-aa54-8d2d1212e00f",
   "metadata": {},
   "outputs": [],
   "source": [
    "all_circuits = read_diagrams(training_circuits_paths)\n",
    "validation_circuits = read_diagrams(validation_circuits_paths)\n",
    "test_circuits = read_diagrams(test_circuits_paths)\n",
    "all_circuits.update(validation_circuits).update(test_circuits)"
   ]
  },
  {
   "cell_type": "code",
   "execution_count": null,
   "id": "ecd37fe4-dc09-40d9-b920-0e8560a370e3",
   "metadata": {},
   "outputs": [],
   "source": [
    "tot_qubits = 20\n",
    "dev = qml.device(\"default.qubit\", wires=tot_qubits, shots=nshot)\n",
    "\n",
    "qml_circuits = []\n",
    "symbols = set([elem for c in all_circuits for elem in all_circuits[c].free_symbols])\n",
    "symbols = list(sorted(symbols, key=default_sort_key))\n",
    "\n",
    "for circuit_diagram in all_circuits:\n",
    "    pennylane_circuit = to_pennylane(circuit_diagram)\n",
    "    params = pennylane_circuit.params\n",
    "    pennylane_wires = pennylane_circuit.wires\n",
    "    ops = pennylane_circuit.ops\n",
    "    param_symbols = [[sym[0].as_ordered_factors()[2]] if len(sym) > 0 else [] for sym in params]\n",
    "    symbol_to_index = {}\n",
    "\n",
    "    for sym in param_symbols:\n",
    "        if len(sym) > 0:\n",
    "            symbol_to_index[sym[0]] = symbols.index(sym[0])\n",
    "\n",
    "    @qml.qnode(dev)\n",
    "    def qml_circuit(circ_params):\n",
    "        for op, param, wires in zip(ops, param_symbols, pennylane_wires):\n",
    "            if len(param) > 0:\n",
    "                param = param[0]\n",
    "                op(circ_params[symbol_to_index[param]], wires = wires)\n",
    "            else:\n",
    "                op(wires = wires)\n",
    "        return qml.sample()\n",
    "    \n",
    "    qml_circuits.append(qml_circuit)\n",
    "\n",
    "all_qml_circuits = qml.QNodeCollection(qml_circuits)"
   ]
  },
  {
   "cell_type": "code",
   "execution_count": null,
   "id": "428f8b08-2bfd-436b-8cc7-2ce49950e8ce",
   "metadata": {},
   "outputs": [],
   "source": [
    "def post_select_shot(shot, post_selection):\n",
    "    diff = len(shot) - len(post_selection)\n",
    "    for i in range(len(post_selection)):\n",
    "        if shot[i + diff] != post_selection[i]:\n",
    "            return []\n",
    "    else:\n",
    "        return shot\n",
    "    \n",
    "def post_select_circuit_samples(circuit_samples):\n",
    "    selected_samples = []\n",
    "    for circuit_sample in circuit_samples:\n",
    "        selected = []\n",
    "        for shot in circuit_sample:\n",
    "            post_selected = post_select_shot(shot, [0]*(len(shot) - 1))\n",
    "            if len(post_selected) > 0:\n",
    "                if post_selected[0] == 0:\n",
    "                    selected.append([1, 0])\n",
    "                else:\n",
    "                    selected.append([0, 1])\n",
    "        selected_samples.append(selected)\n",
    "    return selected_samples"
   ]
  },
  {
   "cell_type": "code",
   "execution_count": null,
   "id": "76d88dd6-c661-499b-b6ef-9be30a6a4ce5",
   "metadata": {},
   "outputs": [],
   "source": [
    "fidelity=[]    \n",
    "for x in range(nparam):\n",
    "    params = [2*pi*random.uniform(0, 1) for i in range(len(symbols))]\n",
    "    result = all_qml_circuits(params)\n",
    "    \n",
    "    \n",
    "\n",
    "    if '0' in count:\n",
    "        ratio=count['0']/nshot\n",
    "    else:\n",
    "        ratio=0\n",
    "    fidelity.append(ratio)"
   ]
  },
  {
   "cell_type": "code",
   "execution_count": null,
   "id": "1c788364-bd00-4867-8bca-239171dc9973",
   "metadata": {},
   "outputs": [],
   "source": [
    "weights = np.ones_like(fidelity)/float(len(fidelity))\n",
    "plt.hist(fidelity, bins=bins_list, weights=weights, label='Result', range=[0, 1])\n",
    "plt.plot(bins_x, P_harr_hist, label='Harr random')\n",
    "plt.legend(loc='upper right')\n",
    "plt.show()"
   ]
  },
  {
   "cell_type": "code",
   "execution_count": null,
   "id": "5e48efa4-c480-45b0-92e9-580f7e78040c",
   "metadata": {},
   "outputs": [],
   "source": [
    "P_I_hist = np.histogram(fidelity, bins = bins_list, weights = weights, range=[0, 1])[0]\n",
    "kl_pq = rel_entr(P_I_hist, P_harr_hist)\n",
    "print('KL(P || Q): %.3f nats' % sum(kl_pq))"
   ]
  },
  {
   "cell_type": "code",
   "execution_count": null,
   "id": "767de006-5a31-4e9e-bd3b-4c5e64183ddb",
   "metadata": {},
   "outputs": [],
   "source": [
    "def get_fidelity(circuit, param_length):\n",
    "    nshot=10000\n",
    "    nparam=4000\n",
    "    fidelity=[]    \n",
    "    for x in range(nparam):\n",
    "        params = 2*pi*random(param_length)\n",
    "        res = circuit(params)\n",
    "\n",
    "        if '0' in count:\n",
    "            ratio=count['0']/nshot\n",
    "        else:\n",
    "            ratio=0\n",
    "        fidelity.append(ratio)\n",
    "    return fidelity"
   ]
  }
 ],
 "metadata": {
  "kernelspec": {
   "display_name": "Python 3 (ipykernel)",
   "language": "python",
   "name": "python3"
  },
  "language_info": {
   "codemirror_mode": {
    "name": "ipython",
    "version": 3
   },
   "file_extension": ".py",
   "mimetype": "text/x-python",
   "name": "python",
   "nbconvert_exporter": "python",
   "pygments_lexer": "ipython3",
   "version": "3.8.10"
  }
 },
 "nbformat": 4,
 "nbformat_minor": 5
}
