{
 "cells": [
  {
   "cell_type": "code",
   "execution_count": null,
   "id": "767de006-5a31-4e9e-bd3b-4c5e64183ddb",
   "metadata": {},
   "outputs": [],
   "source": [
    "def get_fidelity(circuit, param_length):\n",
    "    nshot=10000\n",
    "    nparam=4000\n",
    "    fidelity=[]    \n",
    "    for x in range(nparam):\n",
    "        params = 2*pi*random(param_length)\n",
    "        res = circuit(params)\n",
    "\n",
    "        if '0' in count:\n",
    "            ratio=count['0']/nshot\n",
    "        else:\n",
    "            ratio=0\n",
    "        fidelity.append(ratio)\n",
    "    return fidelity"
   ]
  }
 ],
 "metadata": {
  "kernelspec": {
   "display_name": "Python 3 (ipykernel)",
   "language": "python",
   "name": "python3"
  },
  "language_info": {
   "codemirror_mode": {
    "name": "ipython",
    "version": 3
   },
   "file_extension": ".py",
   "mimetype": "text/x-python",
   "name": "python",
   "nbconvert_exporter": "python",
   "pygments_lexer": "ipython3",
   "version": "3.8.10"
  }
 },
 "nbformat": 4,
 "nbformat_minor": 5
}
