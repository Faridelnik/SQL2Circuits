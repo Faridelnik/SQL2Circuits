{
 "cells": [
  {
   "cell_type": "markdown",
   "id": "3b090918-c886-4aa3-9caf-99f78031b03f",
   "metadata": {},
   "source": [
    "# Expressibility, engtangling capability and Fourier series representation"
   ]
  },
  {
   "cell_type": "code",
   "execution_count": 1,
   "id": "6d10ac1b-81bb-4699-a47e-0c73f925caea",
   "metadata": {},
   "outputs": [],
   "source": [
    "import warnings\n",
    "import json\n",
    "import os\n",
    "import sys\n",
    "import glob\n",
    "import numpy\n",
    "import pickle\n",
    "import pennylane as qml\n",
    "\n",
    "from math import ceil\n",
    "from pathlib import Path\n",
    "from jax import numpy as np\n",
    "from sympy import default_sort_key\n",
    "from utils import transform_into_pennylane_circuits, read_diagrams, get_symbols\n",
    "\n",
    "this_folder = os.path.abspath(os.getcwd())\n",
    "nshot = 1000"
   ]
  },
  {
   "cell_type": "code",
   "execution_count": 2,
   "id": "03e72a4d-c656-4648-92d1-931282cd4561",
   "metadata": {},
   "outputs": [],
   "source": [
    "num_of_bins = 75\n",
    "bins_list = [i/(num_of_bins) for i in range(num_of_bins + 1)]\n",
    "bins_x = [bins_list[1]+bins_list[i] for i in range(num_of_bins - 1)]\n",
    "\n",
    "\n",
    "def P_harr(l, u, N):\n",
    "    return (1-l)**(N-1)-(1-u)**(N-1)\n",
    "\n",
    "\n",
    "#Harr histogram\n",
    "P_harr_hist = [P_harr(bins_list[i], bins_list[i+1], 2) for i in range(num_of_bins)]"
   ]
  },
  {
   "cell_type": "code",
   "execution_count": 3,
   "id": "fdb0c878-452a-4828-a2d6-c8018fdd14f2",
   "metadata": {},
   "outputs": [],
   "source": [
    "# Select workload\n",
    "workload = \"execution_time\"\n",
    "#workload = \"cardinality\"\n",
    "\n",
    "# Select workload size\n",
    "#workload_size = \"small\"\n",
    "#workload_size = \"medium\"\n",
    "#workload_size = \"large\"\n",
    "workload_size = \"main\"\n",
    "\n",
    "classification = 1\n",
    "layers = 1\n",
    "single_qubit_params = 3\n",
    "n_wire_count = 1\n",
    "\n",
    "# Access the selected circuits\n",
    "path_name = this_folder + \"//simplified-JOB-diagrams//\"\\\n",
    "            + workload + \"//\" + workload_size + \"//circuits//\"\\\n",
    "            + str(classification) + \"//\" + str(layers) + \"_layer//\"\\\n",
    "           + str(single_qubit_params) + \"_single_qubit_params//\" + str(n_wire_count)\\\n",
    "            + \"_n_wire_count//\""
   ]
  },
  {
   "cell_type": "code",
   "execution_count": 4,
   "id": "5b12a6fc-0488-424d-8ffa-e2e8a37f7909",
   "metadata": {},
   "outputs": [],
   "source": [
    "training_circuits_paths = glob.glob(path_name + \"training//[0-9]*.p\")\n",
    "validation_circuits_paths = glob.glob(path_name + \"validation//[0-9]*.p\")\n",
    "test_circuits_paths = glob.glob(path_name + \"test//[0-9]*.p\")"
   ]
  },
  {
   "cell_type": "code",
   "execution_count": 5,
   "id": "ed7b7e53-8c96-4651-aa54-8d2d1212e00f",
   "metadata": {},
   "outputs": [],
   "source": [
    "training_circuits = read_diagrams(training_circuits_paths)\n",
    "#validation_circuits = read_diagrams(validation_circuits_paths)\n",
    "#test_circuits = read_diagrams(test_circuits_paths)"
   ]
  },
  {
   "cell_type": "code",
   "execution_count": 6,
   "id": "addd2b0b-c9ed-444e-b333-48293012e43f",
   "metadata": {},
   "outputs": [],
   "source": [
    "n_qubits = 20\n",
    "dev = qml.device(\"default.qubit\", wires=n_qubits, shots=nshot)\n",
    "\n",
    "qml_training_circuits, train_symbols = transform_into_pennylane_circuits(training_circuits, n_qubits, dev)\n",
    "#qml_test_circuits, test_symbols = transform_into_pennylane_circuits(test_circuits.values(), n_qubits, dev)\n",
    "#qml_validation_circuits, val_symbols = transform_into_pennylane_circuits(validation_circuits.values(), n_qubits, dev)\n",
    "qml_circuits = qml_training_circuits #+ qml_test_circuits + qml_validation_circuits"
   ]
  },
  {
   "cell_type": "markdown",
   "id": "a225ef91-c175-45a2-8a76-e34ab1576275",
   "metadata": {},
   "source": [
    "## Studies on circuits as Fourier series"
   ]
  },
  {
   "cell_type": "markdown",
   "id": "361cbdda-a6d9-466b-8646-13bcaa6a9bfe",
   "metadata": {},
   "source": [
    "This requires modifications to circuits."
   ]
  },
  {
   "cell_type": "code",
   "execution_count": 7,
   "id": "3bce75fb-aca9-41d5-83e2-f5d730bd7a66",
   "metadata": {},
   "outputs": [],
   "source": [
    "#from pennylane.fourier.visualize import *\n",
    "#from pennylane.fourier import coefficients\n",
    "#import matplotlib.pyplot as plt\n",
    "#circuit = all_circuits[0]\n",
    "#coeffs = coefficients(circuit, 1, 2)\n",
    "#print(np.round(coeffs, decimals=4))"
   ]
  },
  {
   "cell_type": "markdown",
   "id": "4c4ad5ea-8822-4d37-aa2c-ed8363529b0b",
   "metadata": {},
   "source": [
    "## Expressibility"
   ]
  },
  {
   "cell_type": "code",
   "execution_count": 8,
   "id": "428f8b08-2bfd-436b-8cc7-2ce49950e8ce",
   "metadata": {},
   "outputs": [],
   "source": [
    "def post_select_circuit_samples(circuit_samples):\n",
    "    selected_samples = []\n",
    "    post_select_array = np.array([0]*(circuit_samples[0].size - 1))\n",
    "    for circuit_sample in circuit_samples:\n",
    "        if np.array_equal(circuit_sample[1:], post_select_array):\n",
    "            if circuit_sample[0] == 1:\n",
    "                selected_samples.append(1)\n",
    "            else:\n",
    "                selected_samples.append(0)\n",
    "    return selected_samples"
   ]
  },
  {
   "cell_type": "raw",
   "id": "af875dc1-8443-42c6-8fa2-31e8798783cf",
   "metadata": {},
   "source": [
    "params = [2*np.pi*random.uniform(0, 1) for i in range(len(symbols))]\n",
    "print(qml.draw(qml_circuits[2])(params))\n",
    "result = qml_circuits[2](params)\n",
    "print(len(result))\n",
    "post_selected_result = post_select_circuit_samples(result)\n",
    "res = collections.Counter(post_selected_result)\n",
    "print(dict(res))"
   ]
  },
  {
   "cell_type": "code",
   "execution_count": 9,
   "id": "76d88dd6-c661-499b-b6ef-9be30a6a4ce5",
   "metadata": {},
   "outputs": [
    {
     "name": "stderr",
     "output_type": "stream",
     "text": [
      "WARNING:jax._src.lib.xla_bridge:No GPU/TPU found, falling back to CPU. (Set TF_CPP_MIN_LOG_LEVEL=0 and rerun for more info.)\n"
     ]
    }
   ],
   "source": [
    "import random\n",
    "import collections\n",
    "fidelity=[]\n",
    "circuit = qml_circuits[\"328\"]\n",
    "symbols = train_symbols\n",
    "for x in range(100):\n",
    "    params = [2*np.pi*random.uniform(0, 1) for i in range(len(symbols))]\n",
    "    result = circuit(params)\n",
    "    post_selected_result = post_select_circuit_samples(result)\n",
    "    res = collections.Counter(post_selected_result)\n",
    "\n",
    "    if 0 in res:\n",
    "        ratio = res[0]/nshot\n",
    "    else:\n",
    "        ratio = 0\n",
    "        \n",
    "    fidelity.append(ratio)"
   ]
  },
  {
   "cell_type": "code",
   "execution_count": 10,
   "id": "22314d15-50a6-407d-9227-b1188243a79b",
   "metadata": {},
   "outputs": [
    {
     "name": "stdout",
     "output_type": "stream",
     "text": [
      "[0.002, 0.004, 0, 0.006, 0, 0, 0.001, 0.003, 0, 0.002, 0.002, 0.001, 0.002, 0.001, 0, 0, 0.009, 0.001, 0, 0.001, 0.001, 0.001, 0.003, 0, 0.001, 0, 0, 0.001, 0.003, 0.001, 0.001, 0.002, 0.012, 0.001, 0.001, 0.01, 0.002, 0.002, 0, 0.003, 0.006, 0.001, 0.006, 0.006, 0, 0, 0.022, 0.003, 0.031, 0.028, 0.002, 0.002, 0.001, 0, 0, 0.001, 0, 0, 0.01, 0, 0, 0.007, 0, 0.02, 0.01, 0.002, 0, 0.002, 0.019, 0, 0, 0.002, 0.003, 0, 0, 0.016, 0, 0.001, 0.007, 0, 0.001, 0.016, 0.001, 0.002, 0.004, 0, 0, 0, 0.007, 0.006, 0, 0, 0, 0.011, 0, 0.006, 0, 0.007, 0, 0]\n"
     ]
    }
   ],
   "source": [
    "print(fidelity)"
   ]
  },
  {
   "cell_type": "code",
   "execution_count": 13,
   "id": "1c788364-bd00-4867-8bca-239171dc9973",
   "metadata": {},
   "outputs": [
    {
     "data": {
      "image/png": "[encoded data removed]",
      "text/plain": [
       "<Figure size 432x288 with 1 Axes>"
      ]
     },
     "metadata": {
      "needs_background": "light"
     },
     "output_type": "display_data"
    }
   ],
   "source": [
    "import matplotlib.pyplot as plt\n",
    "weights = numpy.ones_like(fidelity)/float(len(fidelity))\n",
    "fidelity = numpy.array([(2**9)*x for x in fidelity])\n",
    "plt.hist(fidelity, bins=bins_list, weights=weights, label='Result', range=[0, 1])\n",
    "plt.plot(bins_x, P_harr_hist[:-1], label='Harr random')\n",
    "plt.legend(loc='upper right')\n",
    "plt.show()"
   ]
  },
  {
   "cell_type": "code",
   "execution_count": null,
   "id": "5e48efa4-c480-45b0-92e9-580f7e78040c",
   "metadata": {},
   "outputs": [],
   "source": [
    "P_I_hist = numpy.histogram(fidelity, bins = bins_list, weights = weights, range=[0, 1])[0]\n",
    "kl_pq = kl_div(P_I_hist, P_harr_hist)\n",
    "print('KL(P || Q): %.3f nats' % sum(kl_pq))"
   ]
  }
 ],
 "metadata": {
  "kernelspec": {
   "display_name": "Python 3 (ipykernel)",
   "language": "python",
   "name": "python3"
  },
  "language_info": {
   "codemirror_mode": {
    "name": "ipython",
    "version": 3
   },
   "file_extension": ".py",
   "mimetype": "text/x-python",
   "name": "python",
   "nbconvert_exporter": "python",
   "pygments_lexer": "ipython3",
   "version": "3.10.6"
  }
 },
 "nbformat": 4,
 "nbformat_minor": 5
}
