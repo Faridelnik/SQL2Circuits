{
 "cells": [
  {
   "cell_type": "markdown",
   "id": "ff3f5c12-6bd0-4a42-858a-735cd4bdae4d",
   "metadata": {},
   "source": [
    "# Circuit learning method for SQL optimization"
   ]
  },
  {
   "cell_type": "markdown",
   "id": "adb82685-19fb-4da9-a0fe-fefbf0a8dcc0",
   "metadata": {},
   "source": [
    "This notebook contains the full algorithm which consists of the following parts:\n",
    "\n",
    "1. PostgreSQL database preparation with IMDB 2017 data\n",
    "2. SQL to parametrized circuits (example is implemented in `main` notebook)\n",
    "3. Circuit learning (optimizes the circuit parameters for the prepared database)"
   ]
  },
  {
   "cell_type": "markdown",
   "id": "0937065b-8403-4060-a8a4-8038a29e9fa1",
   "metadata": {},
   "source": [
    "## PostgreSQL database preparation"
   ]
  },
  {
   "cell_type": "markdown",
   "id": "26c91682-06cb-48ff-a75c-79f44d95add0",
   "metadata": {},
   "source": [
    "Prerequisites:\n",
    "\n",
    "1. You need to have PostgreSQL database installed and configured\n",
    "2. You have downloaded the old but more comprehensive IMDB data set from year 2017. See the instructions and link to the files from [cinemagoer](https://cinemagoer.readthedocs.io/en/latest/usage/ptdf.html).\n",
    "3. Create an empty database (imdb2017) for the user (postgres) with the following code:\n",
    "\n",
    "```\n",
    "CREATE DATABASE imdb2017\n",
    "WITH OWNER postgres\n",
    "TEMPLATE = template0\n",
    "ENCODING UTF8\n",
    "LC_COLLATE = 'und-x-icu'\n",
    "LC_CTYPE = 'und-x-icu';\n",
    "```\n",
    "\n",
    "IMDB is providing newer but less comprehensive [dataset](https://www.imdb.com/interfaces/). Cinemagoer describes how to upload that data into Postgres but because the join order benchmark queries are built on the older dataset, we also need to use the older one."
   ]
  },
  {
   "cell_type": "code",
   "execution_count": 1,
   "id": "f45360bc-380b-4ea7-b41c-ac2157eb6cf3",
   "metadata": {},
   "outputs": [],
   "source": [
    "# Database credentials\n",
    "\n",
    "port = \"5432\"\n",
    "pg_db_name = \"imdb2017\"\n",
    "pg_user = \"postgres\"\n",
    "pg_pw = \"0000\"\n",
    "imdb_file_path = \"C:\\\\Users\\\\valte\\\\Documents\\\\frozendata\"\n",
    "\n",
    "pg_connection = \"postgresql://\" + pg_user + \":\" + pg_pw + \"@localhost:\" + port + \"/\" + pg_db_name"
   ]
  },
  {
   "cell_type": "code",
   "execution_count": 2,
   "id": "ea71fb40-af04-4370-beba-0fcb76078b09",
   "metadata": {},
   "outputs": [],
   "source": [
    "#import sqlalchemy as sa\n",
    "#engine = sa.create_engine(pg_connection)\n",
    "#%load_ext sql\n",
    "#%sql $engine.url"
   ]
  },
  {
   "cell_type": "markdown",
   "id": "2fd4320d-7699-4b41-a0ed-285fbba64e83",
   "metadata": {},
   "source": [
    "The following code will use `imdbpy2sql` code to insert the internet movie database data into the created database. Note that the execution will probably take hours. Once the insert has been performed, comment the cell."
   ]
  },
  {
   "cell_type": "code",
   "execution_count": 3,
   "id": "62cd195a-1151-4abe-adc5-578feb308415",
   "metadata": {},
   "outputs": [],
   "source": [
    "#!python cinemagoer\\bin\\imdbpy2sql.py -d {imdb_file_path} -u {pg_connection}"
   ]
  },
  {
   "cell_type": "markdown",
   "id": "3c31242b-7cb7-491d-aa24-6dc32f007bb2",
   "metadata": {},
   "source": [
    "## Circuit learning"
   ]
  },
  {
   "cell_type": "markdown",
   "id": "172b13b2-8c0a-4890-b0bf-224dc24270e2",
   "metadata": {},
   "source": [
    "### Collect training data"
   ]
  },
  {
   "cell_type": "code",
   "execution_count": null,
   "id": "15aad968-6b53-46ca-95ea-ea7166d36124",
   "metadata": {},
   "outputs": [],
   "source": []
  }
 ],
 "metadata": {
  "kernelspec": {
   "display_name": "Python 3 (ipykernel)",
   "language": "python",
   "name": "python3"
  },
  "language_info": {
   "codemirror_mode": {
    "name": "ipython",
    "version": 3
   },
   "file_extension": ".py",
   "mimetype": "text/x-python",
   "name": "python",
   "nbconvert_exporter": "python",
   "pygments_lexer": "ipython3",
   "version": "3.10.2"
  }
 },
 "nbformat": 4,
 "nbformat_minor": 5
}
