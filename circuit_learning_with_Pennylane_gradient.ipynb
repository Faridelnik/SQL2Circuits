{
 "cells": [
  {
   "cell_type": "markdown",
   "id": "eb297e45-2c09-4ff6-86d4-31a09e6b093f",
   "metadata": {},
   "source": [
    "# Circuit learning module: Pennylane with gradient descent"
   ]
  },
  {
   "cell_type": "markdown",
   "id": "4a63f40b-4395-4dfc-8053-64600346658d",
   "metadata": {},
   "source": [
    "Optimizing the model with actually evaluating gradients instead of approximating them with SPSA seems as a research question itself. This problem is related to the fact that Pennylane [is not able to differentiate circuits](https://docs.pennylane.ai/en/stable/introduction/interfaces.html) which return samples which are required in order to post-select. Thus we have two options:\n",
    "\n",
    "- Implement QuantumTrainer type of module in Pennylane which would support post-selection natively\n",
    "- Get rid of post-selection because it is an expensive operation anyway. This could be possible with learned measurements, probably. When we have an parametrized observable, we are able to proceed in the common gradient descent way.\n",
    "\n",
    "Pennylane (and any other quantum computing package) would benefit from learned measurements. Serious TODO here."
   ]
  }
 ],
 "metadata": {
  "kernelspec": {
   "display_name": "Python 3 (ipykernel)",
   "language": "python",
   "name": "python3"
  },
  "language_info": {
   "codemirror_mode": {
    "name": "ipython",
    "version": 3
   },
   "file_extension": ".py",
   "mimetype": "text/x-python",
   "name": "python",
   "nbconvert_exporter": "python",
   "pygments_lexer": "ipython3",
   "version": "3.8.10"
  }
 },
 "nbformat": 4,
 "nbformat_minor": 5
}
