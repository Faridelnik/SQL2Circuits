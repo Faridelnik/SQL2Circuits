{
 "cells": [
  {
   "cell_type": "code",
   "execution_count": 1,
   "id": "bf6ad981-7ecc-4592-8376-3924da7e4ba9",
   "metadata": {},
   "outputs": [],
   "source": [
    "from tree import Tree\n",
    "from discopy import Ty, Box\n",
    "\n",
    "tree = Tree('parse', Ty('statement'), 1)\n",
    "#subtree = Tree('sql_stmt', Ty('statement'), 1)\n",
    "#tree.append_to_tree(subtree)\n",
    "#tree.print_tree()"
   ]
  },
  {
   "cell_type": "code",
   "execution_count": 2,
   "id": "65821ae4-279d-4b30-bae2-b59733ae4d9b",
   "metadata": {},
   "outputs": [
    {
     "name": "stdout",
     "output_type": "stream",
     "text": [
      "keyword\n",
      "keyword\n",
      "keyword\n",
      "select_clause\n",
      "from_clause\n",
      "where_clause\n",
      "<tree.Tree object at 0x000001B3BCC83010>\n"
     ]
    },
    {
     "data": {
      "text/plain": [
       "True"
      ]
     },
     "execution_count": 2,
     "metadata": {},
     "output_type": "execute_result"
    }
   ],
   "source": [
    "select_clause_children_count = 2\n",
    "from_clause_children_count = 2\n",
    "where_clause_children_count = 1 # This is always 1 based on the railroad diagrams\n",
    "\n",
    "\n",
    "# SELECT, FROM, WHERE keyword leaves\n",
    "select_keyword_node = Tree('SELECT', Ty('keyword'), 0)\n",
    "from_keyword_node = Tree('FROM', Ty('keyword'), 0)\n",
    "where_keyword_node = Tree('WHERE', Ty('keyword'), 0)\n",
    "\n",
    "# select_clause, from_clause and where_clauses which are partially initialized\n",
    "select_clause = Tree('select_clause', Ty('select_clause'), select_clause_children_count, [select_keyword_node])\n",
    "from_clause = Tree('from_clause', Ty('from_clause'), from_clause_children_count, [from_keyword_node])\n",
    "where_clause = Tree('where_clause', Ty('where_clause'), where_clause_children_count, [where_keyword_node])\n",
    "\n",
    "select_core_tree = Tree('select_core', Ty('statement'), 3, [select_clause, from_clause, where_clause])\n",
    "\n",
    "tree.append_to_tree(select_core_tree)"
   ]
  },
  {
   "cell_type": "code",
   "execution_count": 3,
   "id": "b00c7b9c-ccca-40fe-98ee-f1a7ff570095",
   "metadata": {},
   "outputs": [
    {
     "name": "stdout",
     "output_type": "stream",
     "text": [
      "statement\n",
      "select_clause @ from_clause @ where_clause\n",
      "keyword\n",
      "Ty()\n",
      "keyword\n",
      "Ty()\n",
      "keyword\n",
      "Ty()\n"
     ]
    },
    {
     "data": {
      "image/png": "[encoded data removed]",
      "text/plain": [
       "<Figure size 288x288 with 1 Axes>"
      ]
     },
     "metadata": {
      "needs_background": "light"
     },
     "output_type": "display_data"
    }
   ],
   "source": [
    "diagram = tree.get_diagram()\n",
    "diagram.draw(figsize=(4, 4))\n",
    "#tree.print_tree()"
   ]
  },
  {
   "cell_type": "code",
   "execution_count": null,
   "id": "833d4c83-c6bf-4ef8-85ce-1031d96cef47",
   "metadata": {},
   "outputs": [],
   "source": []
  }
 ],
 "metadata": {
  "kernelspec": {
   "display_name": "Python 3 (ipykernel)",
   "language": "python",
   "name": "python3"
  },
  "language_info": {
   "codemirror_mode": {
    "name": "ipython",
    "version": 3
   },
   "file_extension": ".py",
   "mimetype": "text/x-python",
   "name": "python",
   "nbconvert_exporter": "python",
   "pygments_lexer": "ipython3",
   "version": "3.10.2"
  }
 },
 "nbformat": 4,
 "nbformat_minor": 5
}
