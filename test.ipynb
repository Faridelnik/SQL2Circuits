{
 "cells": [
  {
   "cell_type": "code",
   "execution_count": null,
   "id": "b53d8ccc-180e-4902-8034-c1a44899feed",
   "metadata": {},
   "outputs": [],
   "source": [
    "# Testing purposes\n",
    "\n",
    "from antlr4 import *\n",
    "from SQLiteLexer import SQLiteLexer\n",
    "from SQLiteParser import SQLiteParser\n",
    "from SQLiteParserListener import SQLiteParserListener\n",
    "import json\n",
    "import os\n",
    "import glob\n",
    "from pathlib import Path\n",
    "from discopy.utils import dumps\n",
    "this_folder = os.path.abspath(os.getcwd())\n",
    "\n",
    "path = this_folder + \"\\\\join-order-benchmark-queries\\\\7c.sql\"\n",
    "#path = this_folder + \"\\\\simple_examples\\\\sql3.sql\"\n",
    "\n",
    "input_stream = FileStream(path)\n",
    "lexer = SQLiteLexer(input_stream)\n",
    "stream = CommonTokenStream(lexer)\n",
    "parser = SQLiteParser(stream)\n",
    "tree = parser.parse()\n",
    "\n",
    "print(\"Whole parse tree: \")\n",
    "print(tree.toStringTree(recog=parser))\n",
    "\n",
    "base_name = \"sql3\"\n",
    "input_stream = FileStream(path)\n",
    "lexer = SQLiteLexer(input_stream)\n",
    "stream = CommonTokenStream(lexer)\n",
    "parser = SQLiteParser(stream)\n",
    "tree = parser.parse()\n",
    "walker = ParseTreeWalker()\n",
    "listener = SQLiteParserListener(parser)\n",
    "walker.walk(listener, tree)\n",
    "diagram = listener.get_final_diagram()\n",
    "diagram.draw(figsize=(100, 100), path = this_folder + \"\\\\\" + base_name + \".png\")\n",
    "with open(this_folder + \"\\\\\" + base_name + \".json\", 'w') as outfile:\n",
    "    json.dump(dumps(diagram), outfile)"
   ]
  },
  {
   "cell_type": "code",
   "execution_count": 1,
   "id": "bf6ad981-7ecc-4592-8376-3924da7e4ba9",
   "metadata": {},
   "outputs": [],
   "source": [
    "from tree import Tree\n",
    "from discopy import Ty, Box\n",
    "\n",
    "tree = Tree('parse', Ty('statement'), 1)\n",
    "#subtree = Tree('sql_stmt', Ty('statement'), 1)\n",
    "#tree.append_to_tree(subtree)\n",
    "#tree.print_tree()"
   ]
  },
  {
   "cell_type": "code",
   "execution_count": 2,
   "id": "65821ae4-279d-4b30-bae2-b59733ae4d9b",
   "metadata": {},
   "outputs": [
    {
     "name": "stdout",
     "output_type": "stream",
     "text": [
      "False\n",
      "Select full:  False\n",
      "First expr full:  False\n"
     ]
    }
   ],
   "source": [
    "select_clause_children_count = 2\n",
    "from_clause_children_count = 5\n",
    "where_clause_children_count = 1 # This is always 1 based on the railroad diagrams\n",
    "\n",
    "\n",
    "# SELECT, FROM, WHERE keyword leaves\n",
    "select_keyword_node = Tree('SELECT', Ty('keyword'), 0)\n",
    "from_keyword_node = Tree('FROM', Ty('keyword'), 0)\n",
    "where_keyword_node = Tree('WHERE', Ty('keyword'), 0)\n",
    "\n",
    "# select_clause, from_clause and where_clauses which are partially initialized\n",
    "select_clause = Tree('select_clause', Ty('select_clause'), select_clause_children_count, [select_keyword_node])\n",
    "from_clause = Tree('from_clause', Ty('from_clause'), from_clause_children_count, [from_keyword_node])\n",
    "where_clause = Tree('where_clause', Ty('where_clause'), where_clause_children_count, [where_keyword_node])\n",
    "print(select_clause.is_full())\n",
    "select_core_tree = Tree('select_core', Ty('statement'), 3, [select_clause, from_clause, where_clause])\n",
    "\n",
    "tree.append_to_tree(select_core_tree)\n",
    "\n",
    "expr_tree1 = Tree('expr', Ty('expr'), 2)\n",
    "success = tree.append_to_tree(expr_tree1)\n",
    "\n",
    "\n",
    "name = 'MIN'\n",
    "node = Tree(name, Ty('function_name'), 0)\n",
    "tree.append_to_tree(node)\n",
    "\n",
    "#expr_tree = Tree('expr', Ty('expr'), 2)\n",
    "#success = tree.append_to_tree(expr_tree)\n",
    "\n",
    "name = 'table1'\n",
    "node = Tree(name, Ty('table_name'), 0)\n",
    "tree.append_to_tree(node)\n",
    "\n",
    "print('Select full: ', select_clause.is_full())\n",
    "print(\"First expr full: \", expr_tree1.is_full())"
   ]
  },
  {
   "cell_type": "code",
   "execution_count": 3,
   "id": "b00c7b9c-ccca-40fe-98ee-f1a7ff570095",
   "metadata": {},
   "outputs": [
    {
     "data": {
      "image/png": "[encoded data removed]",
      "text/plain": [
       "<Figure size 288x288 with 1 Axes>"
      ]
     },
     "metadata": {
      "needs_background": "light"
     },
     "output_type": "display_data"
    }
   ],
   "source": [
    "diagram = tree.get_diagram()\n",
    "diagram.draw(figsize=(4, 4))\n",
    "#tree.print_tree()"
   ]
  },
  {
   "cell_type": "markdown",
   "id": "fc34c99b-ee4c-4930-926e-c6f4ca3dd9be",
   "metadata": {},
   "source": [
    "The following code removes cups that connect to boxes whose domain is empty type."
   ]
  },
  {
   "cell_type": "code",
   "execution_count": 1,
   "id": "833d4c83-c6bf-4ef8-85ce-1031d96cef47",
   "metadata": {},
   "outputs": [],
   "source": [
    "def remove_leaf_cups(diagram):\n",
    "    # Remove cups to reduce post-selection in the circuit, for faster execution\n",
    "\n",
    "    diags = []\n",
    "    for box, offset in zip(diagram.boxes, diagram.offsets):\n",
    "        #print('Box and offset: ', box, offset)\n",
    "        if not box.dom:  # word box\n",
    "            diags.insert(offset, box)\n",
    "        else:  # cup (the only other type of box in these diagrams)\n",
    "            i = 0\n",
    "            off = offset\n",
    "            #print('len(diags[i].cod) - 1: ', len(diags[i].cod) - 1)\n",
    "            while off > len(diags[i].cod) - 1:\n",
    "                #print('In loop')\n",
    "                off -= len(diags[i].cod)\n",
    "                i += 1\n",
    "            if len(diags) > 1:\n",
    "                left, right = diags[i:i+2]\n",
    "                #print(diags)\n",
    "                #print('left: ', left)\n",
    "                #print('right: ', right)\n",
    "\n",
    "                if len(left.cod) == 1:\n",
    "                    new_diag = right >> (left.r.dagger() @ Id(right.cod[1:]))\n",
    "                else:\n",
    "                    if len(right.cod) == 1:\n",
    "                        new_diag = left >> Id(s) @ right.l.dagger() @ Id(left.cod[offset + 1:])\n",
    "                    else:\n",
    "                        # The following code does not change the diagram now\n",
    "                        # This case will be handled after all leaf cups have been removed\n",
    "                        new_diag = left >> Id(s) @ right @ Id(left.cod[1:]) >> box @ Id(right.cod[1:]) @ Id(left.cod[1:])\n",
    "\n",
    "                diags[i:i+2] = [new_diag]\n",
    "            else:\n",
    "                #print(box)\n",
    "                diags[0] = diags[0] >> Id(s) @ Id(diags[0].cod[:offset - 1]) @ box @ Id(diags[0].cod[offset + 1:])\n",
    "                #print(diags)\n",
    "                #print('what what')\n",
    "\n",
    "    assert len(diags) == 1\n",
    "    return diags[0]"
   ]
  },
  {
   "cell_type": "code",
   "execution_count": null,
   "id": "9ec11eb4-98d3-41e6-b0f2-5dccb2720df2",
   "metadata": {},
   "outputs": [],
   "source": []
  }
 ],
 "metadata": {
  "kernelspec": {
   "display_name": "Python 3 (ipykernel)",
   "language": "python",
   "name": "python3"
  },
  "language_info": {
   "codemirror_mode": {
    "name": "ipython",
    "version": 3
   },
   "file_extension": ".py",
   "mimetype": "text/x-python",
   "name": "python",
   "nbconvert_exporter": "python",
   "pygments_lexer": "ipython3",
   "version": "3.10.2"
  }
 },
 "nbformat": 4,
 "nbformat_minor": 5
}
