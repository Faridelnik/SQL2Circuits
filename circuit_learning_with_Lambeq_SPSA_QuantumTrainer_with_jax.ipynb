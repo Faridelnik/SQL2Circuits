{
 "cells": [
  {
   "cell_type": "markdown",
   "id": "b09952d6-99a3-41a5-865f-2170e9ee0247",
   "metadata": {},
   "source": [
    "# Circuit learning module: Lambeq's QuantumTrainer"
   ]
  },
  {
   "cell_type": "markdown",
   "id": "bb811fe4-d729-4a44-838d-9c02db4a644d",
   "metadata": {},
   "source": [
    "This module performs the optimization with Lambeq's native optimizer. Because the circuits are constructed with Lambeq and DisCoPy, this optimizer is the natural choice. The code is based on the workflow presented in https://github.com/CQCL/lambeq/blob/main/docs/examples/quantum_pipeline.ipynb."
   ]
  },
  {
   "cell_type": "code",
   "execution_count": 1,
   "id": "c9a5783f-901a-4bfe-a622-4003b345fb1b",
   "metadata": {},
   "outputs": [],
   "source": [
    "import warnings\n",
    "warnings.filterwarnings('ignore')\n",
    "\n",
    "import json\n",
    "import os\n",
    "import glob\n",
    "from pathlib import Path\n",
    "import numpy as np\n",
    "import pickle\n",
    "\n",
    "from discopy.utils import loads\n",
    "from pytket.extensions.qiskit import AerBackend\n",
    "from lambeq import TketModel, NumpyModel\n",
    "from lambeq import QuantumTrainer, SPSAOptimizer\n",
    "from lambeq import Dataset\n",
    "\n",
    "this_folder = os.path.abspath(os.getcwd())\n",
    "os.environ['TOKENIZERS_PARALLELISM'] = 'true'\n",
    "#os.environ[\"JAX_PLATFORMS\"] = \"cpu\"\n",
    "small = True\n",
    "\n",
    "BATCH_SIZE = 32\n",
    "EPOCHS = 100\n",
    "SEED = 0"
   ]
  },
  {
   "cell_type": "markdown",
   "id": "238fca40-5d8d-4ace-a65f-693885a8caf8",
   "metadata": {},
   "source": [
    "## Read circuit data"
   ]
  },
  {
   "cell_type": "markdown",
   "id": "7f6f00d7-b573-4c5d-a0d6-d5eafc54745e",
   "metadata": {},
   "source": [
    "We read the circuits from the pickled files."
   ]
  },
  {
   "cell_type": "code",
   "execution_count": 2,
   "id": "5ff0a551-444c-40a7-bf66-8e929bc49a64",
   "metadata": {},
   "outputs": [],
   "source": [
    "training_circuits_paths = glob.glob(this_folder + \"//simplified-JOB-diagrams//circuits//binary_classification//training//[0-9]*.p\")\n",
    "validation_circuits_paths = glob.glob(this_folder + \"//simplified-JOB-diagrams//circuits//binary_classification//validation//[0-9]*.p\")\n",
    "test_circuits_paths = glob.glob(this_folder + \"//simplified-JOB-diagrams//circuits//binary_classification//test//[0-9]*.p\")\n",
    "\n",
    "training_circuits_paths = glob.glob(this_folder + \"//simplified-JOB-diagrams//small//circuits//binary_classification//training//[0-9]*.p\")\n",
    "validation_circuits_paths = glob.glob(this_folder + \"//simplified-JOB-diagrams//small//circuits//binary_classification//validation//[0-9]*.p\")\n",
    "test_circuits_paths = glob.glob(this_folder + \"//simplified-JOB-diagrams//small//circuits//binary_classification//test//[0-9]*.p\")\n",
    "\n",
    "def read_diagrams(circuit_paths):\n",
    "    circuits = {}\n",
    "    for serialized_diagram in circuit_paths:\n",
    "        base_name = Path(serialized_diagram).stem\n",
    "        f = open(serialized_diagram, \"rb\")\n",
    "        diagram = pickle.load(f)\n",
    "        circuits[base_name] = diagram\n",
    "    return circuits\n",
    "\n",
    "\n",
    "training_circuits = read_diagrams(training_circuits_paths)\n",
    "validation_circuits = read_diagrams(validation_circuits_paths)\n",
    "test_circuits = read_diagrams(test_circuits_paths)"
   ]
  },
  {
   "cell_type": "markdown",
   "id": "f2da3a7c-6a93-44e9-9640-7e9ead005cb2",
   "metadata": {},
   "source": [
    "## Read training and test data"
   ]
  },
  {
   "cell_type": "code",
   "execution_count": 3,
   "id": "774e9f52-69c9-4e1c-8a70-76e1198d12f4",
   "metadata": {},
   "outputs": [],
   "source": [
    "training_data, test_data, validation_data = None, None, None\n",
    "if small:\n",
    "    with open(this_folder + \"//data//small//training_data.json\", \"r\") as inputfile:\n",
    "        training_data = json.load(inputfile)['training_data']\n",
    "    with open(this_folder + \"//data//small//test_data.json\", \"r\") as inputfile:\n",
    "        test_data = json.load(inputfile)['test_data']\n",
    "    with open(this_folder + \"//data//small//validation_data.json\", \"r\") as inputfile:\n",
    "        validation_data = json.load(inputfile)['validation_data']\n",
    "else:\n",
    "    with open(this_folder + \"//data//training_data.json\", \"r\") as inputfile:\n",
    "        training_data = json.load(inputfile)['training_data']\n",
    "    with open(this_folder + \"//data//test_data.json\", \"r\") as inputfile:\n",
    "        test_data = json.load(inputfile)['test_data']\n",
    "    with open(this_folder + \"//data//validation_data.json\", \"r\") as inputfile:\n",
    "        validation_data = json.load(inputfile)['validation_data']\n",
    "    \n",
    "\n",
    "def time_to_states(data, circuits):\n",
    "    labeled_data = {}\n",
    "    for elem in data:\n",
    "        if elem[\"name\"] in circuits.keys():\n",
    "            if elem[\"time\"] < 5000:\n",
    "                labeled_data[elem[\"name\"]] = [1,0] # corresponds to |0>\n",
    "            else:\n",
    "                labeled_data[elem[\"name\"]] = [0,1] # corresponds to |1>\n",
    "    return labeled_data\n",
    "\n",
    "\n",
    "training_data_labels = time_to_states(training_data, training_circuits)\n",
    "test_data_labels = time_to_states(test_data, test_circuits)\n",
    "validation_data_labels = time_to_states(validation_data, validation_circuits)\n",
    "\n",
    "#for key in training_data_labels:\n",
    "#    print(\"training: \", key)\n",
    "#for key in test_data_labels:\n",
    "#    print(\"test \", key)"
   ]
  },
  {
   "cell_type": "markdown",
   "id": "f6cad830-e6c3-4c29-9ce6-0d6bec2794bc",
   "metadata": {},
   "source": [
    "## Lambeq optimizer"
   ]
  },
  {
   "cell_type": "code",
   "execution_count": 5,
   "id": "ce559dbf-2b4b-4853-82ed-58832aa11e61",
   "metadata": {},
   "outputs": [
    {
     "name": "stdout",
     "output_type": "stream",
     "text": [
      "Test circuits need to share training circuits' parameters. The parameters that are not covered:  set()\n",
      "Validation circuits need to share training circuits' parameters. The parameters that are not covered:  set()\n",
      "Total number of circuits:  29\n",
      "Total number of variables:  76\n"
     ]
    }
   ],
   "source": [
    "#all_circuits = list(training_circuits.values()) + list(test_circuits.values())\n",
    "\n",
    "training_circuits_l = []\n",
    "test_circuits_l = []\n",
    "validation_circuits_l = []\n",
    "\n",
    "training_data_labels_l = []\n",
    "test_data_labels_l = []\n",
    "validation_data_labels_l = []\n",
    "\n",
    "# Organize circuits and labels in correct order into two lists which will be input for training the model\n",
    "for key in training_data_labels:\n",
    "    training_circuits_l.append(training_circuits[key])\n",
    "    training_data_labels_l.append(training_data_labels[key])\n",
    "\n",
    "for key in test_data_labels:\n",
    "    test_circuits_l.append(test_circuits[key])\n",
    "    test_data_labels_l.append(test_data_labels[key])\n",
    "    \n",
    "for key in validation_data_labels:\n",
    "    validation_circuits_l.append(validation_circuits[key])\n",
    "    validation_data_labels_l.append(validation_data_labels[key])\n",
    "\n",
    "all_circuits = training_circuits_l + test_circuits_l + validation_circuits_l\n",
    "\n",
    "train_syms = set([sym for circuit in training_circuits.values() for sym in circuit.free_symbols])\n",
    "test_syms = set([sym for circuit in test_circuits.values() for sym in circuit.free_symbols])\n",
    "val_syms = set([sym for circuit in validation_circuits.values() for sym in circuit.free_symbols])\n",
    "\n",
    "print(\"Test circuits need to share training circuits' parameters. The parameters that are not covered: \", test_syms.difference(train_syms))\n",
    "print(\"Validation circuits need to share training circuits' parameters. The parameters that are not covered: \", val_syms.difference(train_syms))\n",
    "\n",
    "print(\"Total number of circuits: \", len(all_circuits))\n",
    "print(\"Total number of variables: \", len(train_syms))\n",
    "\n",
    "backend = AerBackend()\n",
    "backend_config = {\n",
    "    'backend': backend,\n",
    "    'compilation': backend.default_compilation_pass(2),\n",
    "    'shots': 32768\n",
    "}"
   ]
  },
  {
   "cell_type": "markdown",
   "id": "572abfc1-cc81-4fdb-b8bb-6813fe658dd6",
   "metadata": {},
   "source": [
    "## Model"
   ]
  },
  {
   "cell_type": "markdown",
   "id": "550e15cc-550a-4c30-8aa5-05f46678ab5f",
   "metadata": {},
   "source": [
    "Select the used model between `TketModel` or `NumpyModel`. `NumpyModel` can use JAX which speeds up the training."
   ]
  },
  {
   "cell_type": "code",
   "execution_count": 6,
   "id": "04c65634-fa13-47b3-915c-83361d0e1baf",
   "metadata": {},
   "outputs": [],
   "source": [
    "model = TketModel.from_diagrams(all_circuits, backend_config=backend_config)\n",
    "#model = NumpyModel.from_diagrams(all_circuits, use_jit=True)\n",
    "model.initialise_weights()"
   ]
  },
  {
   "cell_type": "markdown",
   "id": "868cf7e7-fcbf-4bad-b8bc-4ff0e6b29294",
   "metadata": {},
   "source": [
    "## Loss function and evaluation"
   ]
  },
  {
   "cell_type": "code",
   "execution_count": 7,
   "id": "7cde594c-ad61-4dd6-ac79-85496f2cfed8",
   "metadata": {},
   "outputs": [],
   "source": [
    "def acc(y_hat, y):\n",
    "    return (np.sum(np.round(y_hat) == y) / len(y)) / 2\n",
    "\n",
    "loss = lambda y_hat, y: -np.sum(y * np.log(y_hat)) / len(y)\n",
    "\n",
    "eval_metrics = {\"acc\": acc}"
   ]
  },
  {
   "cell_type": "markdown",
   "id": "a3bb6805-facb-4ec9-9c38-8d1df42022b2",
   "metadata": {},
   "source": [
    "## Trainer"
   ]
  },
  {
   "cell_type": "code",
   "execution_count": 8,
   "id": "47dbc0e6-4261-498f-92fc-f71e28a8aab4",
   "metadata": {},
   "outputs": [],
   "source": [
    "trainer = QuantumTrainer(\n",
    "    model,\n",
    "    loss_function=loss,\n",
    "    epochs=EPOCHS,\n",
    "    optimizer=SPSAOptimizer,\n",
    "    optim_hyperparams={'a': 1, 'c': 0.1, 'A':0.01*EPOCHS},\n",
    "    evaluate_functions=eval_metrics,\n",
    "    evaluate_on_train=True,\n",
    "    verbose = 'text',\n",
    "    seed=SEED\n",
    ")"
   ]
  },
  {
   "cell_type": "markdown",
   "id": "94a9dfb7-5f6d-4128-867b-54e9c4e21f0b",
   "metadata": {},
   "source": [
    "## Training dataset"
   ]
  },
  {
   "cell_type": "code",
   "execution_count": 9,
   "id": "c9ee9919-b926-4b12-9e3a-8eef9330bddf",
   "metadata": {},
   "outputs": [
    {
     "name": "stderr",
     "output_type": "stream",
     "text": [
      "Epoch 1:    train/loss: 0.3923   valid/loss: 0.5643   train/acc: 0.6053   valid/acc: 0.7000\n",
      "Epoch 2:    train/loss: 1.9376   valid/loss: 0.7871   train/acc: 0.7105   valid/acc: 0.5000\n",
      "Epoch 3:    train/loss: 0.8051   valid/loss: 0.4159   train/acc: 0.7105   valid/acc: 0.7000\n",
      "Epoch 4:    train/loss: 0.3359   valid/loss: 0.6222   train/acc: 0.6842   valid/acc: 0.6000\n",
      "Epoch 5:    train/loss: 1.5770   valid/loss: 3.0459   train/acc: 0.5263   valid/acc: 0.8000\n",
      "Epoch 6:    train/loss: 0.1291   valid/loss: 2.9545   train/acc: 0.9737   valid/acc: 0.7000\n",
      "Epoch 7:    train/loss: 0.7102   valid/loss: 3.0089   train/acc: 0.8684   valid/acc: 0.7000\n",
      "Epoch 8:    train/loss: 1.7100   valid/loss: 9.5407   train/acc: 0.3947   valid/acc: 0.3000\n",
      "Epoch 9:    train/loss: 6.4285   valid/loss: 3.4515   train/acc: 0.2105   valid/acc: 0.4000\n",
      "Epoch 10:   train/loss: 1.9101   valid/loss: 0.6121   train/acc: 0.5000   valid/acc: 0.6000\n",
      "Epoch 11:   train/loss: 1.3710   valid/loss: 0.5862   train/acc: 0.4211   valid/acc: 0.7000\n",
      "Epoch 12:   train/loss: 1.5616   valid/loss: 3.0105   train/acc: 0.7368   valid/acc: 0.8000\n",
      "Epoch 13:   train/loss: 0.3957   valid/loss: 0.6739   train/acc: 0.9211   valid/acc: 0.5000\n",
      "Epoch 14:   train/loss: 2.4468   valid/loss: 0.5144   train/acc: 0.6053   valid/acc: 0.7000\n",
      "Epoch 15:   train/loss: 1.9470   valid/loss: 1.0751   train/acc: 0.4211   valid/acc: 0.3000\n",
      "Epoch 16:   train/loss: 1.5967   valid/loss: 8.9472   train/acc: 0.6842   valid/acc: 0.4000\n",
      "Epoch 17:   train/loss: 6.5428   valid/loss: 0.5545   train/acc: 0.1316   valid/acc: 0.6000\n",
      "Epoch 18:   train/loss: 2.4227   valid/loss: 7.7168   train/acc: 0.4211   valid/acc: 0.2000\n",
      "Epoch 19:   train/loss: 8.2093   valid/loss: 6.5553   train/acc: 0.1053   valid/acc: 0.4000\n",
      "Epoch 20:   train/loss: 4.1845   valid/loss: 3.2553   train/acc: 0.2368   valid/acc: 0.5000\n",
      "Epoch 21:   train/loss: 4.2499   valid/loss: 3.5901   train/acc: 0.5526   valid/acc: 0.4000\n",
      "Epoch 22:   train/loss: 3.8820   valid/loss: 3.3129   train/acc: 0.4737   valid/acc: 0.4000\n",
      "Epoch 23:   train/loss: 2.0173   valid/loss: 3.2553   train/acc: 0.4737   valid/acc: 0.6000\n",
      "Epoch 24:   train/loss: 1.1743   valid/loss: 3.1742   train/acc: 0.6842   valid/acc: 0.5000\n",
      "Epoch 25:   train/loss: 0.3948   valid/loss: 0.4524   train/acc: 0.8421   valid/acc: 0.7000\n",
      "Epoch 26:   train/loss: 1.2311   valid/loss: 0.5389   train/acc: 0.5526   valid/acc: 0.7000\n",
      "Epoch 27:   train/loss: 0.4005   valid/loss: 0.8261   train/acc: 0.7105   valid/acc: 0.5000\n",
      "Epoch 28:   train/loss: 1.1762   valid/loss: 3.3129   train/acc: 0.8158   valid/acc: 0.4000\n",
      "Epoch 29:   train/loss: 0.5259   valid/loss: 3.2189   train/acc: 0.6842   valid/acc: 0.6000\n",
      "Epoch 30:   train/loss: 0.7859   valid/loss: 0.3275   train/acc: 0.7105   valid/acc: 0.8000\n",
      "Epoch 31:   train/loss: 0.8060   valid/loss: 0.7945   train/acc: 0.7632   valid/acc: 0.2000\n",
      "Epoch 32:   train/loss: 1.2173   valid/loss: 0.6454   train/acc: 0.0526   valid/acc: 0.5000\n",
      "Epoch 33:   train/loss: 3.1721   valid/loss: 3.3395   train/acc: 0.2105   valid/acc: 0.4000\n",
      "Epoch 34:   train/loss: 2.9140   valid/loss: 8.6334   train/acc: 0.1053   valid/acc: 0.3000\n",
      "Epoch 35:   train/loss: 9.5810   valid/loss: 3.2415   train/acc: 0.0263   valid/acc: 0.5000\n",
      "Epoch 36:   train/loss: 1.3216   valid/loss: 0.5545   train/acc: 0.5000   valid/acc: 0.6000\n",
      "Epoch 37:   train/loss: 2.0307   valid/loss: 3.2854   train/acc: 0.4737   valid/acc: 0.5000\n",
      "Epoch 38:   train/loss: 1.3406   valid/loss: 0.6028   train/acc: 0.5000   valid/acc: 0.5000\n",
      "Epoch 39:   train/loss: 1.6349   valid/loss: 3.5326   train/acc: 0.5526   valid/acc: 0.4000\n",
      "Epoch 40:   train/loss: 6.9205   valid/loss: 3.2688   train/acc: 0.2105   valid/acc: 0.7000\n",
      "Epoch 41:   train/loss: 1.1664   valid/loss: 0.6196   train/acc: 0.5263   valid/acc: 0.6000\n",
      "Epoch 42:   train/loss: 1.1652   valid/loss: 3.2010   train/acc: 0.6842   valid/acc: 0.5000\n",
      "Epoch 43:   train/loss: 0.3971   valid/loss: 0.7784   train/acc: 0.8947   valid/acc: 0.8000\n",
      "Epoch 44:   train/loss: 0.1660   valid/loss: 0.4537   train/acc: 0.7895   valid/acc: 0.7000\n",
      "Epoch 45:   train/loss: 0.7828   valid/loss: 0.4970   train/acc: 0.6579   valid/acc: 0.7000\n",
      "Epoch 46:   train/loss: 2.0131   valid/loss: 5.8248   train/acc: 0.5000   valid/acc: 0.3000\n",
      "Epoch 47:   train/loss: 3.1577   valid/loss: 4.1723   train/acc: 0.3421   valid/acc: 0.3000\n",
      "Epoch 48:   train/loss: 4.8168   valid/loss: 3.5634   train/acc: 0.2632   valid/acc: 0.3000\n",
      "Epoch 49:   train/loss: 5.3507   valid/loss: 5.9326   train/acc: 0.3158   valid/acc: 0.4000\n",
      "Epoch 50:   train/loss: 2.8778   valid/loss: 0.4970   train/acc: 0.5263   valid/acc: 0.6000\n",
      "Epoch 51:   train/loss: 2.3854   valid/loss: 11.8523   train/acc: 0.4211   valid/acc: 0.2000\n",
      "Epoch 52:   train/loss: 8.0209   valid/loss: 3.2646   train/acc: 0.2632   valid/acc: 0.5000\n",
      "Epoch 53:   train/loss: 3.5340   valid/loss: 0.7507   train/acc: 0.4737   valid/acc: 0.5000\n",
      "Epoch 54:   train/loss: 3.4356   valid/loss: 2.0667   train/acc: 0.3158   valid/acc: 0.2000\n",
      "Epoch 55:   train/loss: 5.8211   valid/loss: 6.1159   train/acc: 0.0000   valid/acc: 0.3000\n",
      "Epoch 56:   train/loss: 4.1127   valid/loss: 0.8808   train/acc: 0.3684   valid/acc: 0.4000\n",
      "Epoch 57:   train/loss: 2.4566   valid/loss: 3.7192   train/acc: 0.0789   valid/acc: 0.4000\n",
      "Epoch 58:   train/loss: 5.3173   valid/loss: 0.9364   train/acc: 0.2895   valid/acc: 0.4000\n",
      "Epoch 59:   train/loss: 4.3786   valid/loss: 1.0640   train/acc: 0.2368   valid/acc: 0.2000\n",
      "Epoch 60:   train/loss: 3.6687   valid/loss: 3.3118   train/acc: 0.3684   valid/acc: 0.6000\n",
      "Epoch 61:   train/loss: 1.7489   valid/loss: 6.1523   train/acc: 0.2895   valid/acc: 0.4000\n",
      "Epoch 62:   train/loss: 4.9869   valid/loss: 0.7568   train/acc: 0.0526   valid/acc: 0.4000\n",
      "Epoch 63:   train/loss: 2.5220   valid/loss: 0.3748   train/acc: 0.3421   valid/acc: 0.8000\n",
      "Epoch 64:   train/loss: 0.4518   valid/loss: 2.9781   train/acc: 0.5789   valid/acc: 0.7000\n",
      "Epoch 65:   train/loss: 0.4591   valid/loss: 3.3591   train/acc: 0.7895   valid/acc: 0.6000\n",
      "Epoch 66:   train/loss: 2.2366   valid/loss: 3.1742   train/acc: 0.5000   valid/acc: 0.5000\n",
      "Epoch 67:   train/loss: 0.7030   valid/loss: 5.9634   train/acc: 0.5789   valid/acc: 0.4000\n",
      "Epoch 68:   train/loss: 1.3777   valid/loss: 3.5326   train/acc: 0.5263   valid/acc: 0.3000\n",
      "Epoch 69:   train/loss: 2.5952   valid/loss: 0.5545   train/acc: 0.3158   valid/acc: 0.6000\n",
      "Epoch 70:   train/loss: 1.5190   valid/loss: 0.3563   train/acc: 0.6316   valid/acc: 0.8000\n",
      "Epoch 71:   train/loss: 1.4213   valid/loss: 0.9762   train/acc: 0.6579   valid/acc: 0.1000\n",
      "Epoch 72:   train/loss: 1.2796   valid/loss: 3.3129   train/acc: 0.1053   valid/acc: 0.4000\n",
      "Epoch 73:   train/loss: 3.6443   valid/loss: 5.9772   train/acc: 0.2895   valid/acc: 0.2000\n",
      "Epoch 74:   train/loss: 3.4763   valid/loss: 4.0039   train/acc: 0.3947   valid/acc: 0.2000\n",
      "Epoch 75:   train/loss: 5.7789   valid/loss: 1.4278   train/acc: 0.3684   valid/acc: 0.2000\n",
      "Epoch 76:   train/loss: 6.1350   valid/loss: 4.0257   train/acc: 0.1842   valid/acc: 0.2000\n",
      "Epoch 77:   train/loss: 2.7648   valid/loss: 0.8442   train/acc: 0.2368   valid/acc: 0.7000\n",
      "Epoch 78:   train/loss: 1.0388   valid/loss: 3.3129   train/acc: 0.5789   valid/acc: 0.4000\n",
      "Epoch 79:   train/loss: 2.0461   valid/loss: 0.6931   train/acc: 0.4737   valid/acc: 0.5000\n",
      "Epoch 80:   train/loss: 1.3567   valid/loss: 0.5545   train/acc: 0.5000   valid/acc: 0.6000\n",
      "Epoch 81:   train/loss: 1.0864   valid/loss: 0.6121   train/acc: 0.5000   valid/acc: 0.6000\n",
      "Epoch 82:   train/loss: 3.3609   valid/loss: 3.3319   train/acc: 0.6053   valid/acc: 0.3000\n",
      "Epoch 83:   train/loss: 2.7908   valid/loss: 4.4309   train/acc: 0.3421   valid/acc: 0.1000\n",
      "Epoch 84:   train/loss: 6.4920   valid/loss: 0.4970   train/acc: 0.0789   valid/acc: 0.7000\n",
      "Epoch 85:   train/loss: 2.8087   valid/loss: 0.5991   train/acc: 0.3947   valid/acc: 0.6000\n",
      "Epoch 86:   train/loss: 1.0082   valid/loss: 0.7538   train/acc: 0.7368   valid/acc: 0.7000\n",
      "Epoch 87:   train/loss: 0.2189   valid/loss: 0.4386   train/acc: 0.8158   valid/acc: 0.8000\n",
      "Epoch 88:   train/loss: 0.2360   valid/loss: 0.4467   train/acc: 0.7895   valid/acc: 0.8000\n",
      "Epoch 89:   train/loss: 0.2989   valid/loss: 3.3651   train/acc: 0.8947   valid/acc: 0.7000\n",
      "Epoch 90:   train/loss: 0.2211   valid/loss: 3.2275   train/acc: 0.9211   valid/acc: 0.6000\n",
      "Epoch 91:   train/loss: 0.2703   valid/loss: 2.9047   train/acc: 0.7632   valid/acc: 0.7000\n",
      "Epoch 92:   train/loss: 0.1968   valid/loss: 3.0644   train/acc: 0.8158   valid/acc: 0.8000\n",
      "Epoch 93:   train/loss: 0.2138   valid/loss: 0.4862   train/acc: 0.9737   valid/acc: 0.8000\n",
      "Epoch 94:   train/loss: 0.2825   valid/loss: 0.4660   train/acc: 0.9737   valid/acc: 0.8000\n",
      "Epoch 95:   train/loss: 0.5241   valid/loss: 2.9287   train/acc: 0.8684   valid/acc: 0.8000\n",
      "Epoch 96:   train/loss: 1.0050   valid/loss: 3.6008   train/acc: 0.7368   valid/acc: 0.3000\n",
      "Epoch 97:   train/loss: 6.2665   valid/loss: 6.0712   train/acc: 0.3421   valid/acc: 0.3000\n",
      "Epoch 98:   train/loss: 4.9389   valid/loss: 4.0466   train/acc: 0.1579   valid/acc: 0.4000\n",
      "Epoch 99:   train/loss: 8.3424   valid/loss: 9.4714   train/acc: 0.1053   valid/acc: 0.2000\n",
      "Epoch 100:  train/loss: 10.2250   valid/loss: 1.1505   train/acc: 0.1842   valid/acc: 0.2000\n",
      "\n",
      "Training completed!\n"
     ]
    }
   ],
   "source": [
    "train_dataset = Dataset(training_circuits_l, training_data_labels_l)\n",
    "val_dataset = Dataset(validation_circuits_l, validation_data_labels_l, shuffle=False)\n",
    "\n",
    "#test_dataset = Dataset(test_circuits_l, test_data_labels_l, shuffle=False)\n",
    "\n",
    "trainer.fit(train_dataset, val_dataset, evaluation_step=1, logging_step=1)"
   ]
  },
  {
   "cell_type": "code",
   "execution_count": 10,
   "id": "a1c46057-738a-4088-a9b4-d8e6a458f954",
   "metadata": {},
   "outputs": [
    {
     "name": "stdout",
     "output_type": "stream",
     "text": [
      "[2.55999869e-07 9.99999744e-01]\n",
      "[0.33333335 0.66666665]\n",
      "[0.40000004 0.59999996]\n",
      "[0.36363639 0.63636361]\n",
      "[0.17647063 0.82352937]\n",
      "[1, 0]\n",
      "[1, 0]\n",
      "[0, 1]\n",
      "[1, 0]\n",
      "[1, 0]\n",
      "Validation accuracy: 0.4\n"
     ]
    },
    {
     "data": {
      "image/png": "[encoded data removed]",
      "text/plain": [
       "<Figure size 720x432 with 4 Axes>"
      ]
     },
     "metadata": {
      "needs_background": "light"
     },
     "output_type": "display_data"
    }
   ],
   "source": [
    "import matplotlib.pyplot as plt\n",
    "\n",
    "fig, ((ax_tl, ax_tr), (ax_bl, ax_br)) = plt.subplots(2, 2, sharex=True, sharey='row', figsize=(10, 6))\n",
    "ax_tl.set_title('Training set')\n",
    "ax_tr.set_title('Development set')\n",
    "ax_bl.set_xlabel('Iterations')\n",
    "ax_br.set_xlabel('Iterations')\n",
    "ax_bl.set_ylabel('Accuracy')\n",
    "ax_tl.set_ylabel('Loss')\n",
    "\n",
    "colours = iter(plt.rcParams['axes.prop_cycle'].by_key()['color'])\n",
    "ax_tl.plot(trainer.train_epoch_costs[::10], color=next(colours))\n",
    "ax_bl.plot(trainer.train_results['acc'][::10], color=next(colours))\n",
    "ax_tr.plot(trainer.val_costs[::10], color=next(colours))\n",
    "ax_br.plot(trainer.val_results['acc'][::10], color=next(colours))\n",
    "\n",
    "for e in model(test_circuits_l):\n",
    "    print(e)\n",
    "for e in test_data_labels_l:\n",
    "    print(e)\n",
    "\n",
    "# print test accuracy\n",
    "test_acc = acc(model(test_circuits_l), test_data_labels_l)\n",
    "print('Test accuracy:', test_acc.item())"
   ]
  },
  {
   "cell_type": "code",
   "execution_count": null,
   "id": "7babeae9-602f-4cd4-acd8-cfe59d1b607d",
   "metadata": {},
   "outputs": [],
   "source": []
  }
 ],
 "metadata": {
  "kernelspec": {
   "display_name": "Python 3 (ipykernel)",
   "language": "python",
   "name": "python3"
  },
  "language_info": {
   "codemirror_mode": {
    "name": "ipython",
    "version": 3
   },
   "file_extension": ".py",
   "mimetype": "text/x-python",
   "name": "python",
   "nbconvert_exporter": "python",
   "pygments_lexer": "ipython3",
   "version": "3.10.2"
  }
 },
 "nbformat": 4,
 "nbformat_minor": 5
}
