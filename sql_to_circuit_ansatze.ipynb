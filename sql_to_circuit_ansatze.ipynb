{
 "cells": [
  {
   "cell_type": "markdown",
   "id": "cc11565c-69aa-4e3b-a979-89b11054528d",
   "metadata": {},
   "source": [
    "# SQL to circuit ansätze"
   ]
  },
  {
   "cell_type": "markdown",
   "id": "48b136e6-f4de-4454-bf96-793b0b9a3516",
   "metadata": {},
   "source": [
    "This notebook implements the part of the algorithm which translates join order benchmark (JOB) and the simplified join order benchmark queries into pregroup diagrams and pregroup diagrams into circuit ansätze. The simple example can be found in `sql_to_circuit_simple_example` notebook.\n",
    "\n",
    "The following code generates diagrams for all the SELECT-FROM-WHERE queries in the join order benchmark and their simplified versions. Running the code will take some time and it also works as a test package for the code. The diagrams are already generated in the folders `join-order-benchmark-diagrams` and `simplified-JOB-diagrams`.\n",
    "\n",
    "Unfortunalyte, JOB queries produce too large circuits for quantum computing resources that we have available. That is why we created the set of simplified queries. As in the data generation case, this notebook is for reproducibility reasons and the user does not need to rerun this if they do not want to change the underlying queries or the mappings."
   ]
  },
  {
   "cell_type": "code",
   "execution_count": 6,
   "id": "cda5cc36-cf57-426a-8533-e738d61db97c",
   "metadata": {},
   "outputs": [],
   "source": [
    "from antlr4 import *\n",
    "from SQLiteLexer import SQLiteLexer\n",
    "from SQLiteParser import SQLiteParser\n",
    "from SQLiteParserListener import SQLiteParserListener\n",
    "import json\n",
    "import os\n",
    "import glob\n",
    "from pathlib import Path\n",
    "from discopy import Ty, Box, Functor\n",
    "from functools import reduce\n",
    "from discopy.utils import dumps, loads\n",
    "from multiprocessing import Pool\n",
    "\n",
    "import diagramGenerators\n",
    "\n",
    "this_folder = os.path.abspath(os.getcwd())"
   ]
  },
  {
   "cell_type": "code",
   "execution_count": 7,
   "id": "30a02670-4d4e-418e-8a6c-f0c6fae4dc87",
   "metadata": {},
   "outputs": [],
   "source": [
    "query_path_job = \"\\\\join-order-benchmark-queries\\\\[0-9]*.sql\"\n",
    "query_path_training = \"\\\\training_queries\\\\[0-9]*.sql\"\n",
    "query_path_test = \"\\\\test_queries\\\\[0-9]*.sql\"\n",
    "\n",
    "cfg_folder_name_job = \"join-order-benchmark-diagrams//cfg-diagrams\"\n",
    "cfg_folder_name_training = \"simplified-JOB-diagrams//cfg-diagrams\"\n",
    "cfg_folder_name_test = \"simplified-JOB-diagrams//cfg-diagrams\"\n",
    "\n",
    "pregroup_folder_job = \"join-order-benchmark-diagrams//pregroup-diagrams\"\n",
    "pregroup_folder_training = \"simplified-JOB-diagrams//pregroup-diagrams\"\n",
    "pregroup_folder_test = \"simplified-JOB-diagrams//pregroup-diagrams\"\n",
    "\n",
    "pregroup_cup_removed_folder_job = \"join-order-benchmark-diagrams//cup-removed-pregroup-diagrams\"\n",
    "pregroup_cup_removed_folder_training = \"simplified-JOB-diagrams//cup-removed-pregroup-diagrams\"\n",
    "pregroup_cup_removed_folder_test = \"simplified-JOB-diagrams//cup-removed-pregroup-diagrams\"\n",
    "\n",
    "circuit_job = \"join-order-benchmark-diagrams//circuits\"\n",
    "circuit_training = \"simplified-JOB-diagrams//circuits//training\"\n",
    "circuit_test = \"simplified-JOB-diagrams//circuits//test\""
   ]
  },
  {
   "cell_type": "code",
   "execution_count": 13,
   "id": "e2f8122c-90df-4901-acdd-95a810332e45",
   "metadata": {},
   "outputs": [],
   "source": [
    "def split(list_a, chunk_size):\n",
    "    if list_a == []:\n",
    "        return []\n",
    "    for i in range(0, len(list_a), chunk_size):\n",
    "        yield list_a[i:i + chunk_size]"
   ]
  },
  {
   "cell_type": "markdown",
   "id": "e68d8660-0232-4c35-b83c-a8526ef80e21",
   "metadata": {},
   "source": [
    "## Transformation 1: SQL to context-free grammar diagrams\n",
    "\n",
    "The following cells execute the transformations in parallel."
   ]
  },
  {
   "cell_type": "code",
   "execution_count": 9,
   "id": "3146cb04-b81e-4d11-a6b7-6da2fb51f93c",
   "metadata": {},
   "outputs": [],
   "source": [
    "queries_job = glob.glob(this_folder + query_path_job)\n",
    "\n",
    "if __name__ ==  '__main__':\n",
    "    num_processors = 8\n",
    "    chunks = split(queries_job, int(len(queries_job)/num_processors))\n",
    "    p = Pool(processes = num_processors)\n",
    "    p.starmap(diagramGenerators.create_CFG_diagrams, [(chunk, cfg_folder_name_job) for chunk in chunks])\n",
    "    p.close()\n",
    "    p.join()"
   ]
  },
  {
   "cell_type": "code",
   "execution_count": 10,
   "id": "b94d0790-0448-4381-b060-7a0970ba2107",
   "metadata": {},
   "outputs": [],
   "source": [
    "queries_training = glob.glob(this_folder + query_path_training)\n",
    "\n",
    "if __name__ ==  '__main__':\n",
    "    num_processors = 8\n",
    "    chunks = split(queries_training, int(len(queries_training)/num_processors))\n",
    "    p = Pool(processes = num_processors)\n",
    "    p.starmap(diagramGenerators.create_CFG_diagrams, [(chunk, cfg_folder_name_training) for chunk in chunks])\n",
    "    p.close()\n",
    "    p.join()"
   ]
  },
  {
   "cell_type": "code",
   "execution_count": 14,
   "id": "120c9671-2cb0-4e23-a52b-15f2dc66d3a8",
   "metadata": {},
   "outputs": [],
   "source": [
    "queries_test = glob.glob(this_folder + query_path_test)\n",
    "\n",
    "if __name__ ==  '__main__':\n",
    "    num_processors = 8\n",
    "    chunks = split(queries_test, int(len(queries_test)/num_processors))\n",
    "    p = Pool(processes = num_processors)\n",
    "    p.starmap(diagramGenerators.create_CFG_diagrams, [(chunk, cfg_folder_name_test) for chunk in chunks])\n",
    "    p.close()\n",
    "    p.join()"
   ]
  },
  {
   "cell_type": "markdown",
   "id": "f63ab6e5-7973-4a95-bc49-db378e6ffabb",
   "metadata": {},
   "source": [
    "## Transformation 2: Context-free grammar diagrams to pregroup grammar diagrams\n",
    "\n",
    "The following cells execute the transformations in parallel."
   ]
  },
  {
   "cell_type": "code",
   "execution_count": 15,
   "id": "9546ffd7-0f52-4715-93f4-41ef8041e6d3",
   "metadata": {},
   "outputs": [],
   "source": [
    "cfg_diagrams = glob.glob(this_folder + \"\\\\\" + cfg_folder_name_job + \"\\\\[0-9]*.json\")\n",
    "\n",
    "if __name__ ==  '__main__':\n",
    "    num_processors = 8\n",
    "    chunks = split(cfg_diagrams, int(len(cfg_diagrams)/num_processors))\n",
    "    p = Pool(processes = num_processors)\n",
    "    p.starmap(diagramGenerators.create_pregroup_grammar_diagrams, [(chunk, pregroup_folder_job) for chunk in chunks])\n",
    "    p.close()\n",
    "    p.join()"
   ]
  },
  {
   "cell_type": "code",
   "execution_count": 16,
   "id": "9f63bfcc-dd02-41c4-a504-752a2e490859",
   "metadata": {},
   "outputs": [],
   "source": [
    "cfg_diagrams_training = glob.glob(this_folder + \"\\\\\" + cfg_folder_name_training + \"\\\\[0-9]*.json\")\n",
    "\n",
    "if __name__ ==  '__main__':\n",
    "    num_processors = 8\n",
    "    chunks = split(cfg_diagrams_training, int(len(cfg_diagrams_training)/num_processors))\n",
    "    p = Pool(processes = num_processors)\n",
    "    p.starmap(diagramGenerators.create_pregroup_grammar_diagrams, [(chunk, pregroup_folder_training) for chunk in chunks])\n",
    "    p.close()\n",
    "    p.join()"
   ]
  },
  {
   "cell_type": "code",
   "execution_count": 17,
   "id": "e130be81-4cc0-47b6-9a0a-8f32c7866444",
   "metadata": {},
   "outputs": [],
   "source": [
    "cfg_diagrams_test = glob.glob(this_folder + \"\\\\\" + cfg_folder_name_test + \"\\\\[0-9]*.json\")\n",
    "\n",
    "if __name__ ==  '__main__':\n",
    "    num_processors = 8\n",
    "    chunks = split(cfg_diagrams_test, int(len(cfg_diagrams_test)/num_processors))\n",
    "    p = Pool(processes = num_processors)\n",
    "    p.starmap(diagramGenerators.create_pregroup_grammar_diagrams, [(chunk, pregroup_folder_test) for chunk in chunks])\n",
    "    p.close()\n",
    "    p.join()"
   ]
  },
  {
   "cell_type": "markdown",
   "id": "a3402bdc-37fb-4bc6-82ca-a091f937de9c",
   "metadata": {},
   "source": [
    "## Transformation 3: pregroup diagram rewriting, cup removal and simplification\n",
    "\n",
    "The following cells execute the transformations in parallel."
   ]
  },
  {
   "cell_type": "code",
   "execution_count": null,
   "id": "a23b1023-b33e-4178-af4f-cbd515e570ad",
   "metadata": {},
   "outputs": [],
   "source": [
    "def cup_remove_arrow_mapping(box):\n",
    "    if box.name.lower() == 'select':\n",
    "        return box\n",
    "    elif not box.cod:\n",
    "        domain = box.dom\n",
    "        raised_leg = Ty(domain[0])\n",
    "        new_domain = reduce(lambda x, y : x @ Ty(y), domain[1:], Ty())\n",
    "        new_box = Id(raised_leg) @ Box(box.name, new_domain, raised_leg.l)\\\n",
    "        >> Cup(raised_leg, raised_leg.l)\n",
    "        return new_box\n",
    "    return box\n",
    "\n",
    "def cup_remove_arrow_mapping2(box):\n",
    "    if box.cod == box.dom == Ty('n'):\n",
    "        return Id(box.cod)\n",
    "    return box\n",
    "\n",
    "cup_removal_functor = Functor(ob = lambda x: x, ar = lambda f: cup_remove_arrow_mapping(f))\n",
    "cup_removal_functor2 = Functor(ob = lambda x: x, ar = lambda f: cup_remove_arrow_mapping2(f))"
   ]
  },
  {
   "cell_type": "code",
   "execution_count": null,
   "id": "73401c43-cccf-402b-9dcb-780becad99eb",
   "metadata": {},
   "outputs": [],
   "source": [
    "def remove_cups_and_simplify(pregroup_folder_name, cup_removed_pregroup_folder_name):\n",
    "    pregroup_diagrams = glob.glob(this_folder + \"\\\\\" + pregroup_folder_name + \"\\\\[0-9]*.json\")\n",
    "    \n",
    "    cupless_pregroup_diagram = cup_removal_functor(pregroup_diagram.normal_form()).normal_form()\n",
    "    cupless_pregroup_diagram = cup_removal_functor2(cupless_pregroup_diagram).normal_form()\n",
    "    width = cupless_pregroup_diagram.width()\n",
    "    height = cupless_pregroup_diagram.depth()\n",
    "    dim = 3*max(width, height)\n",
    "    cupless_pregroup_diagram.draw(figsize=(dim, dim))"
   ]
  },
  {
   "cell_type": "code",
   "execution_count": null,
   "id": "430eab70-c69a-4996-b896-c7906db79684",
   "metadata": {
    "tags": []
   },
   "outputs": [],
   "source": []
  },
  {
   "cell_type": "markdown",
   "id": "a9d1cd42-b01a-47eb-8527-0c92c57bd03d",
   "metadata": {},
   "source": [
    "## Transformation 4: pregroup diagrams to circuit ansätze\n",
    "\n",
    "The following cells execute the transformations in parallel."
   ]
  },
  {
   "cell_type": "code",
   "execution_count": null,
   "id": "cfb3327d-bc45-4b7f-b56e-73e1ee11ddf5",
   "metadata": {},
   "outputs": [],
   "source": [
    "n, s = Ty('n'), Ty('s')\n",
    "ansatz = IQPAnsatz({n: 1, s: 2}, n_layers=1, n_single_qubit_params=3)\n",
    "    \n",
    "def create_circuit_ansatz():\n",
    "    \n",
    "    circuit_diagram = ansatz(cupless_pregroup_diagram)\n",
    "    width = circuit_diagram.width()\n",
    "    height = circuit_diagram.depth()\n",
    "    dim = 3*max(width, height)\n",
    "    circuit_diagram.draw(figsize=(dim, dim)) #, path = this_folder + \"\\\\figures\\\\circuit_figure.png\")"
   ]
  }
 ],
 "metadata": {
  "kernelspec": {
   "display_name": "Python 3 (ipykernel)",
   "language": "python",
   "name": "python3"
  },
  "language_info": {
   "codemirror_mode": {
    "name": "ipython",
    "version": 3
   },
   "file_extension": ".py",
   "mimetype": "text/x-python",
   "name": "python",
   "nbconvert_exporter": "python",
   "pygments_lexer": "ipython3",
   "version": "3.10.2"
  }
 },
 "nbformat": 4,
 "nbformat_minor": 5
}
