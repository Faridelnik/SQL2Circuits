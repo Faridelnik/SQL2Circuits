{
 "cells": [
  {
   "cell_type": "markdown",
   "id": "cc11565c-69aa-4e3b-a979-89b11054528d",
   "metadata": {},
   "source": [
    "# SQL to circuit ansätze"
   ]
  },
  {
   "cell_type": "markdown",
   "id": "48b136e6-f4de-4454-bf96-793b0b9a3516",
   "metadata": {},
   "source": [
    "This notebook implements the part of the algorithm which translates join order benchmark (JOB) and the simplified join order benchmark queries into pregroup diagrams and pregroup diagrams into circuit ansätze. The simple example can be found in `sql_to_circuit_simple_example` notebook.\n",
    "\n",
    "The following code generates diagrams for all the SELECT-FROM-WHERE queries in the join order benchmark and their simplified versions. Running the code will take some time and it also works as a test package for the code. The diagrams are already generated in the folders `join-order-benchmark-diagrams` and `simplified-JOB-diagrams`.\n",
    "\n",
    "Unfortunalyte, JOB queries produce too large circuits for quantum computing resources that we have available. That is why we created the set of simplified queries. As in the data generation case, this notebook is for reproducibility reasons and the user does not need to rerun this if they do not want to change the underlying queries or the mappings."
   ]
  },
  {
   "cell_type": "code",
   "execution_count": 1,
   "id": "cda5cc36-cf57-426a-8533-e738d61db97c",
   "metadata": {},
   "outputs": [
    {
     "name": "stderr",
     "output_type": "stream",
     "text": [
      "C:\\Users\\valte\\AppData\\Local\\Programs\\Python\\Python310\\lib\\site-packages\\tqdm\\auto.py:22: TqdmWarning: IProgress not found. Please update jupyter and ipywidgets. See https://ipywidgets.readthedocs.io/en/stable/user_install.html\n",
      "  from .autonotebook import tqdm as notebook_tqdm\n"
     ]
    }
   ],
   "source": [
    "from antlr4 import *\n",
    "from SQLiteLexer import SQLiteLexer\n",
    "from SQLiteParser import SQLiteParser\n",
    "from SQLiteParserListener import SQLiteParserListener\n",
    "import json\n",
    "import os\n",
    "import glob\n",
    "from pathlib import Path\n",
    "from discopy import Ty, Box, Functor\n",
    "from functools import reduce\n",
    "from discopy.utils import dumps, loads\n",
    "from multiprocessing import Pool\n",
    "\n",
    "import diagramGenerators\n",
    "\n",
    "this_folder = os.path.abspath(os.getcwd())"
   ]
  },
  {
   "cell_type": "code",
   "execution_count": 2,
   "id": "30a02670-4d4e-418e-8a6c-f0c6fae4dc87",
   "metadata": {},
   "outputs": [],
   "source": [
    "query_path_job = \"\\\\join-order-benchmark-queries\\\\[0-9]*.sql\"\n",
    "query_path_training = \"\\\\training_queries\\\\[0-9]*.sql\"\n",
    "query_path_test = \"\\\\test_queries\\\\[0-9]*.sql\"\n",
    "\n",
    "cfg_folder_name_job = \"join-order-benchmark-diagrams//cfg-diagrams\"\n",
    "cfg_folder_name_training = \"simplified-JOB-diagrams//cfg-diagrams//training\"\n",
    "cfg_folder_name_test = \"simplified-JOB-diagrams//cfg-diagrams//test\"\n",
    "\n",
    "pregroup_folder_job = \"join-order-benchmark-diagrams//pregroup-diagrams\"\n",
    "pregroup_folder_training = \"simplified-JOB-diagrams//pregroup-diagrams//training\"\n",
    "pregroup_folder_test = \"simplified-JOB-diagrams//pregroup-diagrams//test\"\n",
    "\n",
    "pregroup_cup_removed_folder_job = \"join-order-benchmark-diagrams//cup-removed-pregroup-diagrams\"\n",
    "pregroup_cup_removed_folder_training = \"simplified-JOB-diagrams//cup-removed-pregroup-diagrams//training\"\n",
    "pregroup_cup_removed_folder_test = \"simplified-JOB-diagrams//cup-removed-pregroup-diagrams//test\"\n",
    "\n",
    "circuit_job = \"join-order-benchmark-diagrams//circuits\"\n",
    "circuit_training = \"simplified-JOB-diagrams//circuits//training\"\n",
    "circuit_test = \"simplified-JOB-diagrams//circuits//test\""
   ]
  },
  {
   "cell_type": "code",
   "execution_count": 3,
   "id": "e2f8122c-90df-4901-acdd-95a810332e45",
   "metadata": {},
   "outputs": [],
   "source": [
    "def split(list_a, chunk_size):\n",
    "    if list_a == []:\n",
    "        return []\n",
    "    for i in range(0, len(list_a), chunk_size):\n",
    "        yield list_a[i:i + chunk_size]"
   ]
  },
  {
   "cell_type": "markdown",
   "id": "e68d8660-0232-4c35-b83c-a8526ef80e21",
   "metadata": {},
   "source": [
    "## Transformation 1: SQL to context-free grammar diagrams\n",
    "\n",
    "The following cells execute the transformations in parallel."
   ]
  },
  {
   "cell_type": "raw",
   "id": "67c061af-11e5-4ffd-9648-ed2a5bb41e19",
   "metadata": {},
   "source": [
    "# This raw text cell. Executing the raw text cells in this notebook will take long.\n",
    "\n",
    "queries_job = glob.glob(this_folder + query_path_job)\n",
    "\n",
    "if __name__ ==  '__main__':\n",
    "    num_processors = 8\n",
    "    chunks = split(queries_job, int(len(queries_job)/num_processors))\n",
    "    p = Pool(processes = num_processors)\n",
    "    p.starmap(diagramGenerators.create_CFG_diagrams, [(chunk, cfg_folder_name_job) for chunk in chunks])\n",
    "    p.close()\n",
    "    p.join()"
   ]
  },
  {
   "cell_type": "code",
   "execution_count": 4,
   "id": "68424935-3c1d-487d-b0fe-1d736293c495",
   "metadata": {},
   "outputs": [],
   "source": [
    "queries_training = glob.glob(this_folder + query_path_training)\n",
    "\n",
    "if __name__ ==  '__main__':\n",
    "    num_processors = 8\n",
    "    chunks = split(queries_training, int(len(queries_training)/num_processors))\n",
    "    p = Pool(processes = num_processors)\n",
    "    p.starmap(diagramGenerators.create_CFG_diagrams, [(chunk, cfg_folder_name_training) for chunk in chunks])\n",
    "    p.close()\n",
    "    p.join()"
   ]
  },
  {
   "cell_type": "code",
   "execution_count": 5,
   "id": "514f8ecb-c208-4b17-9bdb-e33faeb39ab6",
   "metadata": {},
   "outputs": [],
   "source": [
    "queries_test = glob.glob(this_folder + query_path_test)\n",
    "\n",
    "if __name__ ==  '__main__':\n",
    "    num_processors = 8\n",
    "    chunks = split(queries_test, int(len(queries_test)/num_processors))\n",
    "    p = Pool(processes = num_processors)\n",
    "    p.starmap(diagramGenerators.create_CFG_diagrams, [(chunk, cfg_folder_name_test) for chunk in chunks])\n",
    "    p.close()\n",
    "    p.join()"
   ]
  },
  {
   "cell_type": "markdown",
   "id": "f63ab6e5-7973-4a95-bc49-db378e6ffabb",
   "metadata": {},
   "source": [
    "## Transformation 2: Context-free grammar diagrams to pregroup grammar diagrams\n",
    "\n",
    "The following cells execute the transformations in parallel."
   ]
  },
  {
   "cell_type": "raw",
   "id": "3bca4945-5277-4dee-9faa-256f7f03db68",
   "metadata": {},
   "source": [
    "# This raw text cell. Executing the raw text cells in this notebook will take long.\n",
    "\n",
    "cfg_diagrams = glob.glob(this_folder + \"\\\\\" + cfg_folder_name_job + \"\\\\[0-9]*.json\")\n",
    "\n",
    "if __name__ ==  '__main__':\n",
    "    num_processors = 8\n",
    "    chunks = split(cfg_diagrams, int(len(cfg_diagrams)/num_processors))\n",
    "    p = Pool(processes = num_processors)\n",
    "    p.starmap(diagramGenerators.create_pregroup_grammar_diagrams, [(chunk, pregroup_folder_job) for chunk in chunks])\n",
    "    p.close()\n",
    "    p.join()"
   ]
  },
  {
   "cell_type": "code",
   "execution_count": 6,
   "id": "82b299dc-f526-439d-a157-f04e59838e84",
   "metadata": {},
   "outputs": [],
   "source": [
    "cfg_diagrams_training = glob.glob(this_folder + \"\\\\\" + cfg_folder_name_training + \"\\\\[0-9]*.json\")\n",
    "\n",
    "if __name__ ==  '__main__':\n",
    "    num_processors = 8\n",
    "    chunks = split(cfg_diagrams_training, int(len(cfg_diagrams_training)/num_processors))\n",
    "    p = Pool(processes = num_processors)\n",
    "    p.starmap(diagramGenerators.create_pregroup_grammar_diagrams, [(chunk, pregroup_folder_training) for chunk in chunks])\n",
    "    p.close()\n",
    "    p.join()"
   ]
  },
  {
   "cell_type": "code",
   "execution_count": 7,
   "id": "352fa4a3-b3a6-49e4-8400-89960a38d26d",
   "metadata": {},
   "outputs": [],
   "source": [
    "cfg_diagrams_test = glob.glob(this_folder + \"\\\\\" + cfg_folder_name_test + \"\\\\[0-9]*.json\")\n",
    "\n",
    "if __name__ ==  '__main__':\n",
    "    num_processors = 8\n",
    "    chunks = split(cfg_diagrams_test, int(len(cfg_diagrams_test)/num_processors))\n",
    "    p = Pool(processes = num_processors)\n",
    "    p.starmap(diagramGenerators.create_pregroup_grammar_diagrams, [(chunk, pregroup_folder_test) for chunk in chunks])\n",
    "    p.close()\n",
    "    p.join()"
   ]
  },
  {
   "cell_type": "markdown",
   "id": "a3402bdc-37fb-4bc6-82ca-a091f937de9c",
   "metadata": {},
   "source": [
    "## Transformation 3: pregroup diagram rewriting, cup removal and simplification\n",
    "\n",
    "The following cells execute the transformations in parallel."
   ]
  },
  {
   "cell_type": "raw",
   "id": "4db11936-919f-470a-a17f-a06304a20eac",
   "metadata": {
    "tags": []
   },
   "source": [
    "# This raw text cell. Executing the raw text cells in this notebook will take long.\n",
    "\n",
    "pregroup_diagrams_job = glob.glob(this_folder + \"\\\\\" + pregroup_folder_job + \"\\\\[0-9]*.json\")\n",
    "\n",
    "if __name__ ==  '__main__':\n",
    "    num_processors = 16\n",
    "    chunks = split(pregroup_diagrams_job, int(len(pregroup_diagrams_job)/num_processors))\n",
    "    p = Pool(processes = num_processors)\n",
    "    p.starmap(diagramGenerators.remove_cups_and_simplify, [(chunk, pregroup_cup_removed_folder_job) for chunk in chunks])\n",
    "    p.close()\n",
    "    p.join()"
   ]
  },
  {
   "cell_type": "code",
   "execution_count": 8,
   "id": "059ecd84-b7e8-410c-afb3-92fa7eb192cd",
   "metadata": {},
   "outputs": [],
   "source": [
    "pregroup_diagrams_training = glob.glob(this_folder + \"\\\\\" + pregroup_folder_training + \"\\\\[0-9]*.json\")\n",
    "\n",
    "if __name__ ==  '__main__':\n",
    "    num_processors = 8\n",
    "    chunks = split(pregroup_diagrams_training, int(len(pregroup_diagrams_training)/num_processors))\n",
    "    p = Pool(processes = num_processors)\n",
    "    p.starmap(diagramGenerators.remove_cups_and_simplify, [(chunk, pregroup_cup_removed_folder_training) for chunk in chunks])\n",
    "    p.close()\n",
    "    p.join()"
   ]
  },
  {
   "cell_type": "code",
   "execution_count": 9,
   "id": "5eb75e7f-37e7-43e9-81a8-26aa43ae7f66",
   "metadata": {},
   "outputs": [],
   "source": [
    "pregroup_diagrams_test = glob.glob(this_folder + \"\\\\\" + pregroup_folder_test + \"\\\\[0-9]*.json\")\n",
    "\n",
    "if __name__ ==  '__main__':\n",
    "    num_processors = 8\n",
    "    chunks = split(pregroup_diagrams_test, int(len(pregroup_diagrams_test)/num_processors))\n",
    "    p = Pool(processes = num_processors)\n",
    "    p.starmap(diagramGenerators.remove_cups_and_simplify, [(chunk, pregroup_cup_removed_folder_test) for chunk in chunks])\n",
    "    p.close()\n",
    "    p.join()"
   ]
  },
  {
   "cell_type": "markdown",
   "id": "a9d1cd42-b01a-47eb-8527-0c92c57bd03d",
   "metadata": {},
   "source": [
    "## Transformation 4: pregroup diagrams to circuit ansätze\n",
    "\n",
    "The following cells execute the transformations in parallel."
   ]
  },
  {
   "cell_type": "raw",
   "id": "c9d6a1c2-215b-4b19-8cef-2f78ba1958c4",
   "metadata": {},
   "source": [
    "# This raw text cell. Executing the raw text cells in this notebook will take long.\n",
    "\n",
    "pregroup_diagrams_job = glob.glob(this_folder + \"\\\\\" + pregroup_cup_removed_folder_job + \"\\\\[0-9]*.json\")\n",
    "\n",
    "if __name__ ==  '__main__':\n",
    "    num_processors = 16\n",
    "    chunks = split(pregroup_diagrams_job, int(len(pregroup_diagrams_job)/num_processors))\n",
    "    p = Pool(processes = num_processors)\n",
    "    p.starmap(diagramGenerators.create_circuit_ansatz, [(chunk, circuit_job) for chunk in chunks])\n",
    "    p.close()\n",
    "    p.join()"
   ]
  },
  {
   "cell_type": "code",
   "execution_count": 10,
   "id": "6e858630-1ea7-4d1e-830e-95f03a2d2ad7",
   "metadata": {},
   "outputs": [],
   "source": [
    "pregroup_diagrams_training = glob.glob(this_folder + \"\\\\\" + pregroup_cup_removed_folder_training + \"\\\\[0-9]*.json\")\n",
    "\n",
    "if __name__ ==  '__main__':\n",
    "    num_processors = 8\n",
    "    chunks = split(pregroup_diagrams_training, int(len(pregroup_diagrams_training)/num_processors))\n",
    "    p = Pool(processes = num_processors)\n",
    "    p.starmap(diagramGenerators.create_circuit_ansatz, [(chunk, circuit_training) for chunk in chunks])\n",
    "    p.close()\n",
    "    p.join()"
   ]
  },
  {
   "cell_type": "code",
   "execution_count": 11,
   "id": "91f5cccb-95f0-4957-a0ed-5436c50b52ca",
   "metadata": {},
   "outputs": [],
   "source": [
    "pregroup_diagrams_test = glob.glob(this_folder + \"\\\\\" + pregroup_cup_removed_folder_test + \"\\\\[0-9]*.json\")\n",
    "\n",
    "if __name__ ==  '__main__':\n",
    "    num_processors = 8\n",
    "    chunks = split(pregroup_diagrams_test, int(len(pregroup_diagrams_test)/num_processors))\n",
    "    p = Pool(processes = num_processors)\n",
    "    p.starmap(diagramGenerators.create_circuit_ansatz, [(chunk, circuit_test) for chunk in chunks])\n",
    "    p.close()\n",
    "    p.join()"
   ]
  }
 ],
 "metadata": {
  "kernelspec": {
   "display_name": "Python 3 (ipykernel)",
   "language": "python",
   "name": "python3"
  },
  "language_info": {
   "codemirror_mode": {
    "name": "ipython",
    "version": 3
   },
   "file_extension": ".py",
   "mimetype": "text/x-python",
   "name": "python",
   "nbconvert_exporter": "python",
   "pygments_lexer": "ipython3",
   "version": "3.10.2"
  }
 },
 "nbformat": 4,
 "nbformat_minor": 5
}
