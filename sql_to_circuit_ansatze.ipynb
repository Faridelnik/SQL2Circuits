{
 "cells": [
  {
   "cell_type": "markdown",
   "id": "cc11565c-69aa-4e3b-a979-89b11054528d",
   "metadata": {},
   "source": [
    "# SQL to circuit ansätze"
   ]
  },
  {
   "cell_type": "markdown",
   "id": "48b136e6-f4de-4454-bf96-793b0b9a3516",
   "metadata": {},
   "source": [
    "This notebook implements the part of the algorithm which translates join order benchmark queries into pregroup diagrams and pregroup diagrams to circuit ansätze. The simple but not very realistic example can be found in `sql_to_circuit_simple_example` notebook.\n",
    "\n",
    "The following code generates diagrams for all the SELECT-FROM-WHERE queries in the join order benchmark. Running the code will take some time and it also works as a test package for the code. The diagrams are already generated in the folder `join-order-benchmark-diagrams`. The parameter `figsize` should be adjusted based on the length of the query but currently is has constant dimensions.\n",
    "\n",
    "Unfortunalyte, JOB queries produce too large circuits for quantum computing resources that we have available. \n",
    "\n",
    "Besides the visual figures the code performs rewriting process using the snake removal procedure. The outcomes are serialized into `data\\pregroup_data` folder. As in the data generation case, this notebook is for reproducibility reasons and the user does not need to rerun this if they do not want to change the underlying queries."
   ]
  },
  {
   "cell_type": "markdown",
   "id": "e68d8660-0232-4c35-b83c-a8526ef80e21",
   "metadata": {},
   "source": [
    "## Transformation 1: SQL to context-free grammar diagrams"
   ]
  },
  {
   "cell_type": "code",
   "execution_count": 14,
   "id": "cda5cc36-cf57-426a-8533-e738d61db97c",
   "metadata": {},
   "outputs": [],
   "source": [
    "from antlr4 import *\n",
    "from SQLiteLexer import SQLiteLexer\n",
    "from SQLiteParser import SQLiteParser\n",
    "from SQLiteParserListener import SQLiteParserListener\n",
    "import json\n",
    "import os\n",
    "import glob\n",
    "from pathlib import Path\n",
    "from discopy import Ty, Box, Functor\n",
    "from functools import reduce\n",
    "from discopy.utils import dumps, loads\n",
    "this_folder = os.path.abspath(os.getcwd())"
   ]
  },
  {
   "cell_type": "code",
   "execution_count": null,
   "id": "30a02670-4d4e-418e-8a6c-f0c6fae4dc87",
   "metadata": {},
   "outputs": [],
   "source": [
    "query_path = \"\\\\join-order-benchmark-queries\\\\[0-9]*.sql\""
   ]
  },
  {
   "cell_type": "code",
   "execution_count": 15,
   "id": "e9afc5b5-003c-434a-9f3d-65baa14c86a1",
   "metadata": {},
   "outputs": [],
   "source": [
    "def create_CFG_diagrams():\n",
    "    join_order_queries = glob.glob(this_folder + query_path)\n",
    "\n",
    "    for query in join_order_queries:\n",
    "        base_name = Path(query).stem\n",
    "        try:\n",
    "            input_stream = FileStream(query)\n",
    "            lexer = SQLiteLexer(input_stream)\n",
    "            stream = CommonTokenStream(lexer)\n",
    "            parser = SQLiteParser(stream)\n",
    "            tree = parser.parse()\n",
    "            walker = ParseTreeWalker()\n",
    "            listener = SQLiteParserListener(parser)\n",
    "            walker.walk(listener, tree)\n",
    "            diagram = listener.get_final_diagram().dagger()\n",
    "            diagram.draw(figsize=(100, 100), path = this_folder + \"\\\\join-order-benchmark-cfg-diagrams\\\\\" + base_name + \".png\")\n",
    "            with open(this_folder + \"\\\\join-order-benchmark-cfg-diagrams\\\\\" + base_name + \".json\", 'w') as outfile:\n",
    "                json.dump(json.loads(dumps(diagram)), outfile)\n",
    "        except:\n",
    "            print(\"Query: \", base_name, \" failed.\")"
   ]
  },
  {
   "cell_type": "code",
   "execution_count": 16,
   "id": "31d9a514-03a7-452d-aeaa-5636f7d297de",
   "metadata": {},
   "outputs": [],
   "source": [
    "#%%capture\n",
    "#create_CFG_diagrams()"
   ]
  },
  {
   "cell_type": "markdown",
   "id": "f63ab6e5-7973-4a95-bc49-db378e6ffabb",
   "metadata": {},
   "source": [
    "## Transformation 2: Context-free grammar diagrams to pregroup grammar diagrams"
   ]
  },
  {
   "cell_type": "code",
   "execution_count": 17,
   "id": "d98f0669-f362-4155-8e33-8f3469120036",
   "metadata": {},
   "outputs": [],
   "source": [
    "from discopy.rigid import Diagram, Cup, Cap, Id\n",
    "from discopy.grammar.pregroup import Word\n",
    "\n",
    "functor_data = None\n",
    "with open('rewriter_functor_data.json') as json_file:\n",
    "    functor_data = json.load(json_file)\n",
    "    \n",
    "def count_boxes(diagram, box_name):\n",
    "    i = []\n",
    "    def fun(boxes, box_name, i):\n",
    "        for box in boxes:\n",
    "            if box.name == box_name:\n",
    "                i.append(box_name)\n",
    "    \n",
    "    for elem in diagram:\n",
    "        elem.fmap(lambda x : fun(x.boxes, box_name, i))\n",
    "    return len(i)\n",
    "\n",
    "def object_mapping(obj, num_of_result_columns, num_of_tables):\n",
    "    dom_ty_name = obj.name\n",
    "    dom_ty = Ty()\n",
    "    if dom_ty_name in functor_data[\"object_function\"].keys():\n",
    "        for ty in functor_data[\"object_function\"][dom_ty_name]:\n",
    "            if \".\" in ty:\n",
    "                ty = ty.split(\".\")\n",
    "                if ty[1] == \"l\":\n",
    "                    dom_ty = dom_ty @ Ty(ty[0]).l\n",
    "                elif ty[1] == \"r\":\n",
    "                    dom_ty = dom_ty @ Ty(ty[0]).r\n",
    "            else:\n",
    "                dom_ty = dom_ty @ Ty(ty)\n",
    "    elif dom_ty_name == \"select-keyword\":\n",
    "        dom_ty = dom_ty @ Ty('s')\n",
    "        for i in range(num_of_result_columns):\n",
    "            dom_ty = dom_ty @ Ty('n').l\n",
    "    elif dom_ty_name == \"from-keyword\":\n",
    "        dom_ty = dom_ty @ Ty('s').r @ Ty('s')\n",
    "        for i in range(num_of_tables):\n",
    "            dom_ty = dom_ty @ Ty('n').l\n",
    "    else:\n",
    "        cod_name = dom_name\n",
    "    return dom_ty\n",
    "\n",
    "def arrow_mapping(box, num_of_result_columns, num_of_tables):\n",
    "    morphism_dom_name = box.name\n",
    "    #print(morphism_dom_name)\n",
    "    #print(box.dom)\n",
    "    #print(box.cod)\n",
    "    result = Id(Ty())\n",
    "    if morphism_dom_name in functor_data[\"arrow_function\"].keys():\n",
    "        cup = False\n",
    "        for i in range(len(functor_data[\"arrow_function\"][morphism_dom_name])):\n",
    "            box = functor_data[\"arrow_function\"][morphism_dom_name][i]\n",
    "            if box[\"box\"] == \"Id\":\n",
    "                if \".\" in box[\"type\"]:\n",
    "                    ty = box[\"type\"].split(\".\")\n",
    "                    if ty[1] == \"l\":\n",
    "                        result = result @ Id(Ty(ty[0]).l)\n",
    "                    elif ty[1] == \"r\":\n",
    "                        result = result @ Id(Ty(ty[0]).r)\n",
    "                else:\n",
    "                    result = result @ Id(Ty(box[\"type\"]))\n",
    "            elif box[\"box\"] == \"Cup\":\n",
    "                if cup:\n",
    "                    cup = False\n",
    "                    continue\n",
    "                else:\n",
    "                    cup = True\n",
    "                left, right = None, None\n",
    "                \n",
    "                if \".\" in box[\"type\"]:\n",
    "                    ty = box[\"type\"].split(\".\")\n",
    "                    if ty[1] == \"l\":\n",
    "                        left = Ty(ty[0]).l\n",
    "                    elif ty[1] == \"r\":\n",
    "                        left = Ty(ty[0]).r\n",
    "                else:\n",
    "                    left = Ty(box[\"type\"])\n",
    "                    \n",
    "                box = functor_data[\"arrow_function\"][morphism_dom_name][i + 1]\n",
    "                \n",
    "                if \".\" in box[\"type\"]:\n",
    "                    ty = box[\"type\"].split(\".\")\n",
    "                    if ty[1] == \"l\":\n",
    "                        right = Ty(ty[0]).l\n",
    "                    elif ty[1] == \"r\":\n",
    "                        right = Ty(ty[0]).r\n",
    "                else:\n",
    "                    right = Ty(box[\"type\"])\n",
    "                \n",
    "                result = result @ Cap(left, right)\n",
    "                \n",
    "    elif morphism_dom_name == \"select-clause\":\n",
    "        result = Id(Ty('s'))\n",
    "        left = Ty()\n",
    "        for i in range(num_of_result_columns):\n",
    "            left = left @ Ty('n')\n",
    "        result = result @ Diagram.caps(left.l, left)\n",
    "    elif morphism_dom_name == \"from-clause\":\n",
    "        result = Id(Ty('s').r) @ Id(Ty('s'))\n",
    "        left = Ty()\n",
    "        for i in range(num_of_tables):\n",
    "            left = left @ Ty('n')\n",
    "        result = result @ Diagram.caps(left.l, left)\n",
    "    elif type(box.cod) == Ty:\n",
    "        if box.dom == Ty('literal_value'):\n",
    "            result = Box(morphism_dom_name, Ty('e'), Ty())\n",
    "        elif box.dom == Ty('where_keyword'):\n",
    "            result = Box(morphism_dom_name, Ty('s').r @ Ty('s') @ Ty('e').l, Ty())\n",
    "        elif box.dom == Ty('select_keyword'):\n",
    "            dom_ty = Ty('s')\n",
    "            for i in range(num_of_result_columns):\n",
    "                dom_ty = dom_ty @ Ty('n').l\n",
    "            result = Box(morphism_dom_name, dom_ty, Ty())\n",
    "        elif box.dom == Ty('from_keyword'):\n",
    "            dom_ty = Ty('s').r @ Ty('s')\n",
    "            for i in range(num_of_tables):\n",
    "                dom_ty = dom_ty @ Ty('n').l\n",
    "            result = Box(morphism_dom_name, dom_ty, Ty())\n",
    "        else:\n",
    "            result = Box(morphism_dom_name, Ty('n'), Ty())\n",
    "    #result.draw()\n",
    "    return result"
   ]
  },
  {
   "cell_type": "code",
   "execution_count": 18,
   "id": "894c4c55-6909-4fde-ab31-e332e4a9583c",
   "metadata": {},
   "outputs": [],
   "source": [
    "def create_pregroup_grammar_diagrams():\n",
    "    cfg_diagrams = glob.glob(this_folder + \"\\\\join-order-benchmark-cfg-diagrams\\\\[0-9]*.json\")\n",
    "    \n",
    "    for serialized_diagram in cfg_diagrams:\n",
    "        base_name = Path(serialized_diagram).stem\n",
    "        f = open(serialized_diagram, \"r\")\n",
    "        data = f.read()\n",
    "        diagram = loads(data)\n",
    "        \n",
    "        num_of_result_columns = count_boxes(diagram, \"result-column\")\n",
    "        num_of_tables = count_boxes(diagram, \"table\")\n",
    "        Rewriter = Functor(ob = lambda x: object_mapping(x, num_of_result_columns, num_of_tables), ar = lambda f: arrow_mapping(f, num_of_result_columns, num_of_tables))\n",
    "        \n",
    "        pregroup_diagram = Rewriter(diagram)\n",
    "        pregroup_diagram.draw(figsize=(100, 100), path = this_folder + \"\\\\join-order-benchmark-pregroup-diagrams\\\\\" + base_name + \".png\")"
   ]
  },
  {
   "cell_type": "code",
   "execution_count": 19,
   "id": "9546ffd7-0f52-4715-93f4-41ef8041e6d3",
   "metadata": {},
   "outputs": [
    {
     "ename": "AxiomError",
     "evalue": "company_type_id[::-1] >> mc[::-1] @ Id(n) does not compose with Id(n).",
     "output_type": "error",
     "traceback": [
      "\u001b[1;31m---------------------------------------------------------------------------\u001b[0m",
      "\u001b[1;31mAxiomError\u001b[0m                                Traceback (most recent call last)",
      "Input \u001b[1;32mIn [19]\u001b[0m, in \u001b[0;36m<module>\u001b[1;34m\u001b[0m\n\u001b[1;32m----> 1\u001b[0m \u001b[43mcreate_pregroup_grammar_diagrams\u001b[49m\u001b[43m(\u001b[49m\u001b[43m)\u001b[49m\n",
      "Input \u001b[1;32mIn [18]\u001b[0m, in \u001b[0;36mcreate_pregroup_grammar_diagrams\u001b[1;34m()\u001b[0m\n\u001b[0;32m     11\u001b[0m num_of_tables \u001b[38;5;241m=\u001b[39m count_boxes(diagram, \u001b[38;5;124m\"\u001b[39m\u001b[38;5;124mtable\u001b[39m\u001b[38;5;124m\"\u001b[39m)\n\u001b[0;32m     12\u001b[0m Rewriter \u001b[38;5;241m=\u001b[39m Functor(ob \u001b[38;5;241m=\u001b[39m \u001b[38;5;28;01mlambda\u001b[39;00m x: object_mapping(x, num_of_result_columns, num_of_tables), ar \u001b[38;5;241m=\u001b[39m \u001b[38;5;28;01mlambda\u001b[39;00m f: arrow_mapping(f, num_of_result_columns, num_of_tables))\n\u001b[1;32m---> 14\u001b[0m pregroup_diagram \u001b[38;5;241m=\u001b[39m \u001b[43mRewriter\u001b[49m\u001b[43m(\u001b[49m\u001b[43mdiagram\u001b[49m\u001b[43m)\u001b[49m\n\u001b[0;32m     15\u001b[0m pregroup_diagram\u001b[38;5;241m.\u001b[39mdraw(figsize\u001b[38;5;241m=\u001b[39m(\u001b[38;5;241m100\u001b[39m, \u001b[38;5;241m100\u001b[39m), path \u001b[38;5;241m=\u001b[39m this_folder \u001b[38;5;241m+\u001b[39m \u001b[38;5;124m\"\u001b[39m\u001b[38;5;130;01m\\\\\u001b[39;00m\u001b[38;5;124mjoin-order-benchmark-pregroup-diagrams\u001b[39m\u001b[38;5;130;01m\\\\\u001b[39;00m\u001b[38;5;124m\"\u001b[39m \u001b[38;5;241m+\u001b[39m base_name \u001b[38;5;241m+\u001b[39m \u001b[38;5;124m\"\u001b[39m\u001b[38;5;124m.png\u001b[39m\u001b[38;5;124m\"\u001b[39m)\n",
      "File \u001b[1;32m~\\AppData\\Local\\Programs\\Python\\Python310\\lib\\site-packages\\discopy\\rigid.py:651\u001b[0m, in \u001b[0;36mFunctor.__call__\u001b[1;34m(self, diagram)\u001b[0m\n\u001b[0;32m    649\u001b[0m     \u001b[38;5;28;01mreturn\u001b[39;00m result\n\u001b[0;32m    650\u001b[0m \u001b[38;5;28;01mif\u001b[39;00m \u001b[38;5;28misinstance\u001b[39m(diagram, monoidal\u001b[38;5;241m.\u001b[39mDiagram):\n\u001b[1;32m--> 651\u001b[0m     \u001b[38;5;28;01mreturn\u001b[39;00m \u001b[38;5;28;43msuper\u001b[39;49m\u001b[43m(\u001b[49m\u001b[43m)\u001b[49m\u001b[38;5;241;43m.\u001b[39;49m\u001b[38;5;21;43m__call__\u001b[39;49m\u001b[43m(\u001b[49m\u001b[43mdiagram\u001b[49m\u001b[43m)\u001b[49m\n\u001b[0;32m    652\u001b[0m \u001b[38;5;28;01mraise\u001b[39;00m \u001b[38;5;167;01mTypeError\u001b[39;00m(messages\u001b[38;5;241m.\u001b[39mtype_err(Diagram, diagram))\n",
      "File \u001b[1;32m~\\AppData\\Local\\Programs\\Python\\Python310\\lib\\site-packages\\discopy\\monoidal.py:900\u001b[0m, in \u001b[0;36mFunctor.__call__\u001b[1;34m(self, diagram)\u001b[0m\n\u001b[0;32m    898\u001b[0m     id_l \u001b[38;5;241m=\u001b[39m \u001b[38;5;28mself\u001b[39m\u001b[38;5;241m.\u001b[39mar_factory\u001b[38;5;241m.\u001b[39mid(\u001b[38;5;28mself\u001b[39m(scan[:off]))\n\u001b[0;32m    899\u001b[0m     id_r \u001b[38;5;241m=\u001b[39m \u001b[38;5;28mself\u001b[39m\u001b[38;5;241m.\u001b[39mar_factory\u001b[38;5;241m.\u001b[39mid(\u001b[38;5;28mself\u001b[39m(scan[off \u001b[38;5;241m+\u001b[39m \u001b[38;5;28mlen\u001b[39m(box\u001b[38;5;241m.\u001b[39mdom):]))\n\u001b[1;32m--> 900\u001b[0m     result \u001b[38;5;241m=\u001b[39m \u001b[43mresult\u001b[49m\u001b[43m \u001b[49m\u001b[38;5;241;43m>>\u001b[39;49m\u001b[43m \u001b[49m\u001b[43mid_l\u001b[49m\u001b[43m \u001b[49m\u001b[38;5;241;43m@\u001b[39;49m\u001b[43m \u001b[49m\u001b[38;5;28;43mself\u001b[39;49m\u001b[43m(\u001b[49m\u001b[43mbox\u001b[49m\u001b[43m)\u001b[49m\u001b[43m \u001b[49m\u001b[38;5;241;43m@\u001b[39;49m\u001b[43m \u001b[49m\u001b[43mid_r\u001b[49m\n\u001b[0;32m    901\u001b[0m     scan \u001b[38;5;241m=\u001b[39m scan[:off] \u001b[38;5;241m@\u001b[39m box\u001b[38;5;241m.\u001b[39mcod \u001b[38;5;241m@\u001b[39m scan[off \u001b[38;5;241m+\u001b[39m \u001b[38;5;28mlen\u001b[39m(box\u001b[38;5;241m.\u001b[39mdom):]\n\u001b[0;32m    902\u001b[0m \u001b[38;5;28;01mreturn\u001b[39;00m result\n",
      "File \u001b[1;32m~\\AppData\\Local\\Programs\\Python\\Python310\\lib\\site-packages\\discopy\\cat.py:299\u001b[0m, in \u001b[0;36mArrow.__rshift__\u001b[1;34m(self, other)\u001b[0m\n\u001b[0;32m    298\u001b[0m \u001b[38;5;28;01mdef\u001b[39;00m \u001b[38;5;21m__rshift__\u001b[39m(\u001b[38;5;28mself\u001b[39m, other):\n\u001b[1;32m--> 299\u001b[0m     \u001b[38;5;28;01mreturn\u001b[39;00m \u001b[38;5;28;43mself\u001b[39;49m\u001b[38;5;241;43m.\u001b[39;49m\u001b[43mthen\u001b[49m\u001b[43m(\u001b[49m\u001b[43mother\u001b[49m\u001b[43m)\u001b[49m\n",
      "File \u001b[1;32m~\\AppData\\Local\\Programs\\Python\\Python310\\lib\\site-packages\\discopy\\monoidal.py:419\u001b[0m, in \u001b[0;36mDiagram.then\u001b[1;34m(self, *others)\u001b[0m\n\u001b[0;32m    413\u001b[0m     \u001b[38;5;28;01mreturn\u001b[39;00m \u001b[38;5;28msuper\u001b[39m()\u001b[38;5;241m.\u001b[39mthen(\u001b[38;5;241m*\u001b[39mothers)\n\u001b[0;32m    414\u001b[0m other, \u001b[38;5;241m=\u001b[39m others\n\u001b[0;32m    415\u001b[0m \u001b[38;5;28;01mreturn\u001b[39;00m \u001b[38;5;28mself\u001b[39m\u001b[38;5;241m.\u001b[39mupgrade(\n\u001b[0;32m    416\u001b[0m     Diagram(\u001b[38;5;28mself\u001b[39m\u001b[38;5;241m.\u001b[39mdom, other\u001b[38;5;241m.\u001b[39mcod,\n\u001b[0;32m    417\u001b[0m             \u001b[38;5;28mself\u001b[39m\u001b[38;5;241m.\u001b[39mboxes \u001b[38;5;241m+\u001b[39m other\u001b[38;5;241m.\u001b[39mboxes,\n\u001b[0;32m    418\u001b[0m             \u001b[38;5;28mself\u001b[39m\u001b[38;5;241m.\u001b[39moffsets \u001b[38;5;241m+\u001b[39m other\u001b[38;5;241m.\u001b[39moffsets,\n\u001b[1;32m--> 419\u001b[0m             layers\u001b[38;5;241m=\u001b[39m\u001b[38;5;28;43mself\u001b[39;49m\u001b[38;5;241;43m.\u001b[39;49m\u001b[43mlayers\u001b[49m\u001b[43m \u001b[49m\u001b[38;5;241;43m>>\u001b[39;49m\u001b[43m \u001b[49m\u001b[43mother\u001b[49m\u001b[38;5;241;43m.\u001b[39;49m\u001b[43mlayers\u001b[49m))\n",
      "File \u001b[1;32m~\\AppData\\Local\\Programs\\Python\\Python310\\lib\\site-packages\\discopy\\cat.py:299\u001b[0m, in \u001b[0;36mArrow.__rshift__\u001b[1;34m(self, other)\u001b[0m\n\u001b[0;32m    298\u001b[0m \u001b[38;5;28;01mdef\u001b[39;00m \u001b[38;5;21m__rshift__\u001b[39m(\u001b[38;5;28mself\u001b[39m, other):\n\u001b[1;32m--> 299\u001b[0m     \u001b[38;5;28;01mreturn\u001b[39;00m \u001b[38;5;28;43mself\u001b[39;49m\u001b[38;5;241;43m.\u001b[39;49m\u001b[43mthen\u001b[49m\u001b[43m(\u001b[49m\u001b[43mother\u001b[49m\u001b[43m)\u001b[49m\n",
      "File \u001b[1;32m~\\AppData\\Local\\Programs\\Python\\Python310\\lib\\site-packages\\discopy\\cat.py:294\u001b[0m, in \u001b[0;36mArrow.then\u001b[1;34m(self, *others)\u001b[0m\n\u001b[0;32m    292\u001b[0m     \u001b[38;5;28;01mraise\u001b[39;00m \u001b[38;5;167;01mTypeError\u001b[39;00m(messages\u001b[38;5;241m.\u001b[39mtype_err(Arrow, other))\n\u001b[0;32m    293\u001b[0m \u001b[38;5;28;01mif\u001b[39;00m \u001b[38;5;28mself\u001b[39m\u001b[38;5;241m.\u001b[39mcod \u001b[38;5;241m!=\u001b[39m other\u001b[38;5;241m.\u001b[39mdom:\n\u001b[1;32m--> 294\u001b[0m     \u001b[38;5;28;01mraise\u001b[39;00m AxiomError(messages\u001b[38;5;241m.\u001b[39mdoes_not_compose(\u001b[38;5;28mself\u001b[39m, other))\n\u001b[0;32m    295\u001b[0m \u001b[38;5;28;01mreturn\u001b[39;00m \u001b[38;5;28mself\u001b[39m\u001b[38;5;241m.\u001b[39mupgrade(Arrow(\n\u001b[0;32m    296\u001b[0m     \u001b[38;5;28mself\u001b[39m\u001b[38;5;241m.\u001b[39mdom, other\u001b[38;5;241m.\u001b[39mcod, \u001b[38;5;28mself\u001b[39m\u001b[38;5;241m.\u001b[39mboxes \u001b[38;5;241m+\u001b[39m other\u001b[38;5;241m.\u001b[39mboxes, _scan\u001b[38;5;241m=\u001b[39m\u001b[38;5;28;01mFalse\u001b[39;00m))\n",
      "\u001b[1;31mAxiomError\u001b[0m: company_type_id[::-1] >> mc[::-1] @ Id(n) does not compose with Id(n)."
     ]
    }
   ],
   "source": [
    "create_pregroup_grammar_diagrams()"
   ]
  },
  {
   "cell_type": "code",
   "execution_count": null,
   "id": "73401c43-cccf-402b-9dcb-780becad99eb",
   "metadata": {},
   "outputs": [],
   "source": []
  }
 ],
 "metadata": {
  "kernelspec": {
   "display_name": "Python 3 (ipykernel)",
   "language": "python",
   "name": "python3"
  },
  "language_info": {
   "codemirror_mode": {
    "name": "ipython",
    "version": 3
   },
   "file_extension": ".py",
   "mimetype": "text/x-python",
   "name": "python",
   "nbconvert_exporter": "python",
   "pygments_lexer": "ipython3",
   "version": "3.10.2"
  }
 },
 "nbformat": 4,
 "nbformat_minor": 5
}
