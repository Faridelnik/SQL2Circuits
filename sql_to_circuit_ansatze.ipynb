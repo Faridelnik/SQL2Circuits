{
 "cells": [
  {
   "cell_type": "markdown",
   "id": "cc11565c-69aa-4e3b-a979-89b11054528d",
   "metadata": {},
   "source": [
    "# SQL to circuit ansätze"
   ]
  },
  {
   "cell_type": "markdown",
   "id": "48b136e6-f4de-4454-bf96-793b0b9a3516",
   "metadata": {},
   "source": [
    "This notebook implements the part of the algorithm which translates join order benchmark (JOB) and the simplified join order benchmark queries into pregroup diagrams and pregroup diagrams into circuit ansätze. The simple example can be found in `sql_to_circuit_simple_example` notebook.\n",
    "\n",
    "The following code generates diagrams for all the SELECT-FROM-WHERE queries in the join order benchmark and their simplified versions. Running the code will take some time and it also works as a test package for the code. The diagrams are already generated in the folders `join-order-benchmark-diagrams` and `simplified-JOB-diagrams`.\n",
    "\n",
    "Unfortunalyte, JOB queries produce too large circuits for quantum computing resources that we have available. That is why we created the set of simplified queries. As in the data generation case, this notebook is for reproducibility reasons and the user does not need to rerun this if they do not want to change the underlying queries or the mappings."
   ]
  },
  {
   "cell_type": "code",
   "execution_count": 9,
   "id": "cda5cc36-cf57-426a-8533-e738d61db97c",
   "metadata": {},
   "outputs": [],
   "source": [
    "import warnings\n",
    "import json\n",
    "import os\n",
    "import glob\n",
    "from pathlib import Path\n",
    "from multiprocessing import Pool\n",
    "from math import ceil\n",
    "import diagramGenerators\n",
    "\n",
    "warnings.filterwarnings('ignore')\n",
    "this_folder = os.path.abspath(os.getcwd())\n",
    "num_processors = 8"
   ]
  },
  {
   "cell_type": "markdown",
   "id": "be8806d5-42f4-48e9-9734-1a7cfbf9fedf",
   "metadata": {},
   "source": [
    "We demonstrate that the SQL to circuit transformation framework is comprehensive by translating join order benchmark queries"
   ]
  },
  {
   "cell_type": "code",
   "execution_count": 10,
   "id": "1f8bf971-5346-43cd-bd9f-19f33d434834",
   "metadata": {},
   "outputs": [],
   "source": [
    "query_path_job = \"//join-order-benchmark-queries//[0-9]*.sql\"\n",
    "cfg_folder_name_job = \"join-order-benchmark-diagrams//cfg-diagrams\"\n",
    "pregroup_folder_job = \"join-order-benchmark-diagrams//pregroup-diagrams\"\n",
    "pregroup_cup_removed_folder_job = \"join-order-benchmark-diagrams//cup-removed-pregroup-diagrams\"\n",
    "circuit_job = \"join-order-benchmark-diagrams//circuits\""
   ]
  },
  {
   "cell_type": "markdown",
   "id": "7f639e02-298c-420c-a0ac-a93fe99eb6dc",
   "metadata": {},
   "source": [
    "Next we translate queries that we use for circuit learning. Select if we perform binary classification or multi-class classification. Give number of qubits to create classes:\n",
    "- 1 qubit -> 2^1 = 2 classes i.e. binary classification\n",
    "- 2 qubits -> 2^2 = 4 classes\n",
    "- ...\n",
    "- 5 qubits -> 2^5 = 32 classes, etc."
   ]
  },
  {
   "cell_type": "code",
   "execution_count": 11,
   "id": "a43c66d7-018a-4052-b22e-6452c1a32da8",
   "metadata": {},
   "outputs": [],
   "source": [
    "# Select workload\n",
    "workload = \"small\"\n",
    "#workload = \"medium\"\n",
    "#workload = \"large\"\n",
    "\n",
    "classification = 2\n",
    "layers = 1\n",
    "single_qubit_params = 3\n",
    "n_wire_count = 2"
   ]
  },
  {
   "cell_type": "code",
   "execution_count": 12,
   "id": "30a02670-4d4e-418e-8a6c-f0c6fae4dc87",
   "metadata": {},
   "outputs": [],
   "source": [
    "query_path_training = \"//queries//\" + workload + \"//training_queries//[0-9]*.sql\"\n",
    "query_path_validation = \"//queries//\" + workload + \"//validation_queries//[0-9]*.sql\"\n",
    "query_path_test = \"//queries//\" + workload + \"//test_queries//[0-9]*.sql\"\n",
    "\n",
    "main_path = \"simplified-JOB-diagrams//\" + workload\n",
    "\n",
    "cfg_folder_name_training = main_path + \"//cfg-diagrams//training\"\n",
    "cfg_folder_name_validation = main_path + \"//cfg-diagrams//validation\"\n",
    "cfg_folder_name_test = main_path + \"//cfg-diagrams//test\"\n",
    "\n",
    "pregroup_folder_training = main_path + \"//pregroup-diagrams//training\"\n",
    "pregroup_folder_validation = main_path + \"//pregroup-diagrams//validation\"\n",
    "pregroup_folder_test = main_path + \"//pregroup-diagrams//test\"\n",
    "\n",
    "pregroup_cup_removed_folder_training = main_path + \"//cup-removed-pregroup-diagrams//training\"\n",
    "pregroup_cup_removed_folder_validation = main_path + \"//cup-removed-pregroup-diagrams//validation\"\n",
    "pregroup_cup_removed_folder_test = main_path + \"//cup-removed-pregroup-diagrams//test\"\n",
    "\n",
    "circuit_training = main_path + \"//circuits//\" + str(classification) + \"//\" + str(layers) + \"_layer//\" + str(single_qubit_params) + \"_single_qubit_params//\" + str(n_wire_count) + \"_n_wire_count//training\"\n",
    "circuit_validation = main_path + \"//circuits//\" + str(classification) + \"//\" + str(layers) + \"_layer//\" + str(single_qubit_params) + \"_single_qubit_params//\"+ str(n_wire_count) + \"_n_wire_count//validation\"\n",
    "circuit_test = main_path + \"//circuits//\" + str(classification) + \"//\" + str(layers) + \"_layer//\" + str(single_qubit_params) + \"_single_qubit_params//\"+ str(n_wire_count) + \"_n_wire_count//test\""
   ]
  },
  {
   "cell_type": "code",
   "execution_count": 13,
   "id": "e2f8122c-90df-4901-acdd-95a810332e45",
   "metadata": {},
   "outputs": [],
   "source": [
    "def split(list_a, chunk_size):\n",
    "    if list_a == []:\n",
    "        return []\n",
    "    for i in range(0, len(list_a), chunk_size):\n",
    "        yield list_a[i:i + chunk_size]"
   ]
  },
  {
   "cell_type": "markdown",
   "id": "e68d8660-0232-4c35-b83c-a8526ef80e21",
   "metadata": {},
   "source": [
    "## Transformation 1: SQL to context-free grammar diagrams\n",
    "\n",
    "The following cells execute the transformations in parallel."
   ]
  },
  {
   "cell_type": "raw",
   "id": "e8f64e9f-a5f0-4cab-9563-bafe6eae1de4",
   "metadata": {},
   "source": [
    "# This is a raw text cell. Executing the raw text cells in this notebook will take long.\n",
    "\n",
    "queries_job = glob.glob(this_folder + query_path_job)\n",
    "\n",
    "if __name__ ==  '__main__':\n",
    "    chunks = split(queries_job, ceil(len(queries_job)/num_processors))\n",
    "    p = Pool(processes = num_processors)\n",
    "    p.starmap(diagramGenerators.create_CFG_diagrams, [(chunk, cfg_folder_name_job) for chunk in chunks])\n",
    "    p.close()\n",
    "    p.join()"
   ]
  },
  {
   "cell_type": "code",
   "execution_count": 6,
   "id": "6234e57a-65cb-4bc5-b150-b37c88c7c688",
   "metadata": {},
   "outputs": [],
   "source": [
    "queries_training = glob.glob(this_folder + query_path_training)\n",
    "\n",
    "if __name__ ==  '__main__':\n",
    "    chunks = split(queries_training, ceil(len(queries_training)/num_processors))\n",
    "    p = Pool(processes = num_processors)\n",
    "    p.starmap(diagramGenerators.create_CFG_diagrams, [(chunk, cfg_folder_name_training) for chunk in chunks])\n",
    "    p.close()\n",
    "    p.join()"
   ]
  },
  {
   "cell_type": "code",
   "execution_count": 7,
   "id": "49e3c387-35fe-4a5f-a05a-0f8266c5cebc",
   "metadata": {},
   "outputs": [],
   "source": [
    "queries_validation = glob.glob(this_folder + query_path_validation)\n",
    "\n",
    "if __name__ ==  '__main__':\n",
    "    chunks = split(queries_validation, ceil(len(queries_validation)/num_processors))\n",
    "    p = Pool(processes = num_processors)\n",
    "    p.starmap(diagramGenerators.create_CFG_diagrams, [(chunk, cfg_folder_name_validation) for chunk in chunks])\n",
    "    p.close()\n",
    "    p.join()"
   ]
  },
  {
   "cell_type": "code",
   "execution_count": 8,
   "id": "30abf4dc-99f8-4b17-83b4-9ac99f919713",
   "metadata": {},
   "outputs": [],
   "source": [
    "queries_test = glob.glob(this_folder + query_path_test)\n",
    "\n",
    "if __name__ ==  '__main__':\n",
    "    chunks = split(queries_test, ceil(len(queries_test)/num_processors))\n",
    "    p = Pool(processes = num_processors)\n",
    "    p.starmap(diagramGenerators.create_CFG_diagrams, [(chunk, cfg_folder_name_test) for chunk in chunks])\n",
    "    p.close()\n",
    "    p.join()"
   ]
  },
  {
   "cell_type": "markdown",
   "id": "f63ab6e5-7973-4a95-bc49-db378e6ffabb",
   "metadata": {},
   "source": [
    "## Transformation 2: Context-free grammar diagrams to pregroup grammar diagrams\n",
    "\n",
    "The following cells execute the transformations in parallel."
   ]
  },
  {
   "cell_type": "raw",
   "id": "5f1224d9-33b1-471d-93cc-56abbaad4596",
   "metadata": {},
   "source": [
    "# This is a raw text cell. Executing the raw text cells in this notebook will take long.\n",
    "\n",
    "cfg_diagrams = glob.glob(this_folder + \"//\" + cfg_folder_name_job + \"//[0-9]*.json\")\n",
    "\n",
    "if __name__ ==  '__main__':\n",
    "    chunks = split(cfg_diagrams, int(len(cfg_diagrams)/num_processors))\n",
    "    p = Pool(processes = num_processors)\n",
    "    p.starmap(diagramGenerators.create_pregroup_grammar_diagrams, [(chunk, pregroup_folder_job) for chunk in chunks])\n",
    "    p.close()\n",
    "    p.join()"
   ]
  },
  {
   "cell_type": "code",
   "execution_count": 9,
   "id": "0e7a5cb1-2ef8-47cb-bfea-9151992fb6cf",
   "metadata": {},
   "outputs": [],
   "source": [
    "cfg_diagrams_training = glob.glob(this_folder + \"//\" + cfg_folder_name_training + \"//[0-9]*.json\")\n",
    "\n",
    "if __name__ ==  '__main__':\n",
    "    chunks = split(cfg_diagrams_training, ceil(len(cfg_diagrams_training)/num_processors))\n",
    "    p = Pool(processes = num_processors)\n",
    "    p.starmap(diagramGenerators.create_pregroup_grammar_diagrams, [(chunk, pregroup_folder_training) for chunk in chunks])\n",
    "    p.close()\n",
    "    p.join()"
   ]
  },
  {
   "cell_type": "code",
   "execution_count": 10,
   "id": "dcdaf72c-d020-4fdc-a1b6-4f9e9e1ed87a",
   "metadata": {},
   "outputs": [],
   "source": [
    "cfg_diagrams_validation = glob.glob(this_folder + \"//\" + cfg_folder_name_validation + \"//[0-9]*.json\")\n",
    "\n",
    "if __name__ ==  '__main__':\n",
    "    chunks = split(cfg_diagrams_validation, ceil(len(cfg_diagrams_validation)/num_processors))\n",
    "    p = Pool(processes = num_processors)\n",
    "    p.starmap(diagramGenerators.create_pregroup_grammar_diagrams, [(chunk, pregroup_folder_validation) for chunk in chunks])\n",
    "    p.close()\n",
    "    p.join()"
   ]
  },
  {
   "cell_type": "code",
   "execution_count": 11,
   "id": "47155637-3a37-456b-aba1-4076baa3d34e",
   "metadata": {},
   "outputs": [],
   "source": [
    "cfg_diagrams_test = glob.glob(this_folder + \"//\" + cfg_folder_name_test + \"//[0-9]*.json\")\n",
    "\n",
    "if __name__ ==  '__main__':\n",
    "    chunks = split(cfg_diagrams_test, ceil(len(cfg_diagrams_test)/num_processors))\n",
    "    p = Pool(processes = num_processors)\n",
    "    p.starmap(diagramGenerators.create_pregroup_grammar_diagrams, [(chunk, pregroup_folder_test) for chunk in chunks])\n",
    "    p.close()\n",
    "    p.join()"
   ]
  },
  {
   "cell_type": "markdown",
   "id": "a3402bdc-37fb-4bc6-82ca-a091f937de9c",
   "metadata": {},
   "source": [
    "## Transformation 3: pregroup diagram rewriting, cup removal and simplification\n",
    "\n",
    "The following cells execute the transformations in parallel."
   ]
  },
  {
   "cell_type": "raw",
   "id": "13d76933-e16f-45bb-86f6-331883604ac2",
   "metadata": {
    "tags": []
   },
   "source": [
    "# This is a raw text cell. Executing the raw text cells in this notebook will take long.\n",
    "\n",
    "pregroup_diagrams_job = glob.glob(this_folder + \"//\" + pregroup_folder_job + \"//[0-9]*.json\")\n",
    "\n",
    "if __name__ ==  '__main__':\n",
    "    chunks = split(pregroup_diagrams_job, ceil(len(pregroup_diagrams_job)/num_processors))\n",
    "    p = Pool(processes = num_processors)\n",
    "    p.starmap(diagramGenerators.remove_cups_and_simplify, [(chunk, pregroup_cup_removed_folder_job) for chunk in chunks])\n",
    "    p.close()\n",
    "    p.join()"
   ]
  },
  {
   "cell_type": "code",
   "execution_count": 12,
   "id": "10790549-66fb-40f7-8bd6-dfb46115263a",
   "metadata": {},
   "outputs": [],
   "source": [
    "pregroup_diagrams_training = glob.glob(this_folder + \"//\" + pregroup_folder_training + \"//[0-9]*.json\")\n",
    "\n",
    "if __name__ ==  '__main__':\n",
    "    chunks = split(pregroup_diagrams_training, ceil(len(pregroup_diagrams_training)/num_processors))\n",
    "    p = Pool(processes = num_processors)\n",
    "    p.starmap(diagramGenerators.remove_cups_and_simplify, [(chunk, pregroup_cup_removed_folder_training) for chunk in chunks])\n",
    "    p.close()\n",
    "    p.join()"
   ]
  },
  {
   "cell_type": "code",
   "execution_count": 13,
   "id": "b0c9fff3-06e2-4058-a2af-0d475fe350eb",
   "metadata": {},
   "outputs": [],
   "source": [
    "pregroup_diagrams_validation = glob.glob(this_folder + \"//\" + pregroup_folder_validation + \"//[0-9]*.json\")\n",
    "\n",
    "if __name__ ==  '__main__':\n",
    "    chunks = split(pregroup_diagrams_validation, ceil(len(pregroup_diagrams_validation)/num_processors))\n",
    "    p = Pool(processes = num_processors)\n",
    "    p.starmap(diagramGenerators.remove_cups_and_simplify, [(chunk, pregroup_cup_removed_folder_validation) for chunk in chunks])\n",
    "    p.close()\n",
    "    p.join()"
   ]
  },
  {
   "cell_type": "code",
   "execution_count": 14,
   "id": "c0f12f34-e642-476d-946a-0fc8079b07e7",
   "metadata": {},
   "outputs": [],
   "source": [
    "pregroup_diagrams_test = glob.glob(this_folder + \"//\" + pregroup_folder_test + \"//[0-9]*.json\")\n",
    "\n",
    "if __name__ ==  '__main__':\n",
    "    chunks = split(pregroup_diagrams_test, ceil(len(pregroup_diagrams_test)/num_processors))\n",
    "    p = Pool(processes = num_processors)\n",
    "    p.starmap(diagramGenerators.remove_cups_and_simplify, [(chunk, pregroup_cup_removed_folder_test) for chunk in chunks])\n",
    "    p.close()\n",
    "    p.join()"
   ]
  },
  {
   "cell_type": "markdown",
   "id": "a9d1cd42-b01a-47eb-8527-0c92c57bd03d",
   "metadata": {},
   "source": [
    "## Transformation 4: pregroup diagrams to circuit ansätze\n",
    "\n",
    "The following cells execute the transformations in parallel."
   ]
  },
  {
   "cell_type": "raw",
   "id": "8965e647-20fb-4ee1-9d10-b35265fd68fa",
   "metadata": {},
   "source": [
    "# This is a raw text cell. Executing the raw text cells in this notebook will take long.\n",
    "\n",
    "pregroup_diagrams_job = glob.glob(this_folder + \"//\" + pregroup_cup_removed_folder_job + \"//[0-9]*.json\")\n",
    "\n",
    "if __name__ ==  '__main__':\n",
    "    chunks = split(pregroup_diagrams_job, ceil(len(pregroup_diagrams_job)/num_processors))\n",
    "    p = Pool(processes = num_processors)\n",
    "    p.starmap(diagramGenerators.create_circuit_ansatz, [(chunk, circuit_job, classification, layers, single_qubit_params, s_wire_count, n_wire_count) for chunk in chunks])\n",
    "    p.close()\n",
    "    p.join()"
   ]
  },
  {
   "cell_type": "code",
   "execution_count": 14,
   "id": "6e858630-1ea7-4d1e-830e-95f03a2d2ad7",
   "metadata": {},
   "outputs": [],
   "source": [
    "pregroup_diagrams_training = glob.glob(this_folder + \"//\" + pregroup_cup_removed_folder_training + \"//[0-9]*.json\")\n",
    "\n",
    "if __name__ ==  '__main__':\n",
    "    chunks = split(pregroup_diagrams_training, ceil(len(pregroup_diagrams_training)/num_processors))\n",
    "    p = Pool(processes = num_processors)\n",
    "    p.starmap(diagramGenerators.create_circuit_ansatz, [(chunk, circuit_training, \n",
    "                                                         classification, layers, \n",
    "                                                         single_qubit_params,\n",
    "                                                         n_wire_count) for chunk in chunks])\n",
    "    p.close()\n",
    "    p.join()"
   ]
  },
  {
   "cell_type": "code",
   "execution_count": 15,
   "id": "974c6f46-2b0c-4947-9edb-4ceebddbbb56",
   "metadata": {},
   "outputs": [],
   "source": [
    "pregroup_diagrams_validation = glob.glob(this_folder + \"//\" + pregroup_cup_removed_folder_validation + \"//[0-9]*.json\")\n",
    "\n",
    "if __name__ ==  '__main__':\n",
    "    chunks = split(pregroup_diagrams_validation, ceil(len(pregroup_diagrams_validation)/num_processors))\n",
    "    p = Pool(processes = num_processors)\n",
    "    p.starmap(diagramGenerators.create_circuit_ansatz, [(chunk, \n",
    "                                                         circuit_validation, \n",
    "                                                         classification, \n",
    "                                                         layers, \n",
    "                                                         single_qubit_params, \n",
    "                                                         n_wire_count) for chunk in chunks])\n",
    "    p.close()\n",
    "    p.join()"
   ]
  },
  {
   "cell_type": "code",
   "execution_count": 16,
   "id": "91f5cccb-95f0-4957-a0ed-5436c50b52ca",
   "metadata": {},
   "outputs": [],
   "source": [
    "pregroup_diagrams_test = glob.glob(this_folder + \"//\" + pregroup_cup_removed_folder_test + \"//[0-9]*.json\")\n",
    "\n",
    "if __name__ ==  '__main__':\n",
    "    chunks = split(pregroup_diagrams_test, ceil(len(pregroup_diagrams_test)/num_processors))\n",
    "    p = Pool(processes = num_processors)\n",
    "    p.starmap(diagramGenerators.create_circuit_ansatz, [(chunk, \n",
    "                                                         circuit_test, \n",
    "                                                         classification, \n",
    "                                                         layers, \n",
    "                                                         single_qubit_params,\n",
    "                                                         n_wire_count) for chunk in chunks])\n",
    "    p.close()\n",
    "    p.join()"
   ]
  },
  {
   "cell_type": "code",
   "execution_count": null,
   "id": "b286f911-5ca8-4b1c-aa19-c1399bc45e2b",
   "metadata": {},
   "outputs": [],
   "source": []
  }
 ],
 "metadata": {
  "kernelspec": {
   "display_name": "Python 3 (ipykernel)",
   "language": "python",
   "name": "python3"
  },
  "language_info": {
   "codemirror_mode": {
    "name": "ipython",
    "version": 3
   },
   "file_extension": ".py",
   "mimetype": "text/x-python",
   "name": "python",
   "nbconvert_exporter": "python",
   "pygments_lexer": "ipython3",
   "version": "3.10.2"
  }
 },
 "nbformat": 4,
 "nbformat_minor": 5
}
